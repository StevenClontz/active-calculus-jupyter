{
    "cells": [
        {
            "cell_type": "markdown",
            "metadata": {
                "collapsed": false,
                "editable": false
            },
            "source": [
                "<div class=\"not-editable team\"><style> .not-editable{padding:1em;border-radius:10px;box-shadow:4px 4px 3px #ddd;margin:5px;} .not-editable.individual{background-color:#eefff8;} .not-editable.team{background-color:#eef8ff;} .sidebyside{display:flex;justify-content:center;} .sidebyside > *{margin-right:1em;flex:1;} caption{caption-side:top;white-space: nowrap;color:rgba(0,0,0,.45)}} figcaption{padding-top:0.75em;padding-bottom:0.3em;color:rgba(0,0,0,.45)} .fillin{display:inline-block;width:10em;margin-left:0.2em;margin-right:0.2em;height:1em;border-bottom:1px black solid;} .fn{font-size:0.8em;color:rgba(0,0,0.45)} .newcommands{display:none;} tt{background-color:#f8f8f8;border:1px #888 solid;border-radius:2px;padding-left:0.2em;padding-right:0.2em;} img{background-color:#fff;} </style> <div><h1>Section 1.1 Changing in Tandem</h1><h2>Team Notebook</h2><div><a href=\"https://activecalculus.org/prelude/sec-changing-in-tandem.html\">https://activecalculus.org/prelude/sec-changing-in-tandem.html</a></div></div></div>"
            ]
        },
        {
            "cell_type": "markdown",
            "metadata": {
                "collapsed": false,
                "editable": false
            },
            "source": [
                "<div class=\"not-editable team\"><h2>Activity 1.1.2</h2></div>"
            ]
        },
        {
            "cell_type": "markdown",
            "metadata": {
                "collapsed": false,
                "editable": false
            },
            "source": [
                "<div class=\"not-editable team\"><span> Consider a tank in the shape of an inverted circular cone (point down) where the tank's radius is <span class=\"m\"> $2$ </span> feet and its depth is <span class=\"m\"> $4$ </span> feet. Suppose that the tank is being filled with water that is entering at a constant rate of <span class=\"m\"> $0.75$ </span> cubic feet per minute. </span></div>"
            ]
        },
        {
            "cell_type": "markdown",
            "metadata": {
                "collapsed": false,
                "editable": false
            },
            "source": [
                "<div class=\"not-editable team\"><div><h4>Task A</h4> <span> Sketch a labeled picture of the tank, including a snapshot of there being water in the tank prior to the tank being completely full. </span> </div></div>"
            ]
        },
        {
            "cell_type": "markdown",
            "metadata": {
                "collapsed": false,
                "editable": false
            },
            "source": [
                "<div class=\"not-editable team\"><div><h4>Task B</h4> <span> What are some quantities that are changing in this scenario? What are some quantities that are not changing? </span> </div></div>"
            ]
        },
        {
            "cell_type": "markdown",
            "metadata": {
                "collapsed": false,
                "editable": false
            },
            "source": [
                "<div class=\"not-editable team\"><div><h4>Task C</h4> <span> Fill in the following table of values to determine how much water, <span class=\"m\"> $V$ </span>, is in the tank at a given time in minutes, <span class=\"m\"> $t$ </span>, and thus generate a graph of the relationship between volume and time by plotting the data on the provided axes. </span> <div class=\"sidebyside\"><div><table><caption><b>Table 1.1.5.</b> Table to record data on volume and time in the conical tank.</caption><tr><td><span class=\"m\"> $t$ </span></td><td><span class=\"m\"> $V$ </span></td></tr><tr><td><span class=\"m\"> $0$ </span></td><td/></tr><tr><td><span class=\"m\"> $1$ </span></td><td/></tr><tr><td><span class=\"m\"> $2$ </span></td><td/></tr><tr><td><span class=\"m\"> $3$ </span></td><td/></tr><tr><td><span class=\"m\"> $4$ </span></td><td/></tr><tr><td><span class=\"m\"> $5$ </span></td><td/></tr></table></div><div><figure><figcaption><b>Figure 1.1.6.</b> How volume and time change in tandem in the conical tank.</figcaption><div><img src=\"images/tandem-V-t-blank-axes.svg\"/></div></figure></div></div> </div></div>"
            ]
        },
        {
            "cell_type": "markdown",
            "metadata": {
                "collapsed": false,
                "editable": false
            },
            "source": [
                "<div class=\"not-editable team\"><div><h4>Task D</h4> <span> Finally, think about how the height of the water changes in tandem with time. Without attempting to determine specific values of <span class=\"m\"> $h$ </span> at particular values of <span class=\"m\"> $t$ </span>, how would you expect the data for the relationship between <span class=\"m\"> $h$ </span> and <span class=\"m\"> $t$ </span> to appear? Use the provided axes to sketch at least two possibilities; write at least one sentence to explain how you think the graph should appear. </span> <div class=\"sidebyside\"><div><img src=\"images/tandem-h-t-blank-axes.svg\"/></div><div><img src=\"images/tandem-h-t-blank-axes.svg\"/></div></div> </div></div>"
            ]
        },
        {
            "cell_type": "markdown",
            "metadata": {
                "collapsed": false,
                "editable": false
            },
            "source": [
                "<div class=\"not-editable team\"><h2>Activity 1.1.3</h2></div>"
            ]
        },
        {
            "cell_type": "markdown",
            "metadata": {
                "collapsed": false,
                "editable": false
            },
            "source": [
                "<div class=\"not-editable team\"><span> Consider a tank in the shape of a sphere where the tank's radius is <span class=\"m\"> $3$ </span> feet. Suppose that the tank is initially completely full and that it is being drained by a pump at a constant rate of <span class=\"m\"> $1.2$ </span> cubic feet per minute. </span></div>"
            ]
        },
        {
            "cell_type": "markdown",
            "metadata": {
                "collapsed": false,
                "editable": false
            },
            "source": [
                "<div class=\"not-editable team\"><div><h4>Task A</h4> <span> Sketch a labeled picture of the tank, including a snapshot of some water remaining in the tank prior to the tank being completely empty. </span> </div></div>"
            ]
        },
        {
            "cell_type": "markdown",
            "metadata": {
                "collapsed": false,
                "editable": false
            },
            "source": [
                "<div class=\"not-editable team\"><div><h4>Task B</h4> <span> What are some quantities that are changing in this scenario? What are some quantities that are not changing? </span> </div></div>"
            ]
        },
        {
            "cell_type": "markdown",
            "metadata": {
                "collapsed": false,
                "editable": false
            },
            "source": [
                "<div class=\"not-editable team\"><div><h4>Task C</h4> <span> Recall that the volume of a sphere of radius <span class=\"m\"> $r$ </span> is <span class=\"m\"> $V = \\frac{4}{3} \\pi r^3$ </span>. When the tank is completely full at time <span class=\"m\"> $t = 0$ </span> right before it starts being drained, how much water is present? </span> </div></div>"
            ]
        },
        {
            "cell_type": "markdown",
            "metadata": {
                "collapsed": false,
                "editable": false
            },
            "source": [
                "<div class=\"not-editable team\"><div><h4>Task D</h4> <span> How long will it take for the tank to drain completely? </span> </div></div>"
            ]
        },
        {
            "cell_type": "markdown",
            "metadata": {
                "collapsed": false,
                "editable": false
            },
            "source": [
                "<div class=\"not-editable team\"><div><h4>Task E</h4> <span> Fill in the following table of values to determine how much water, <span class=\"m\"> $V$ </span>, is in the tank at a given time in minutes, <span class=\"m\"> $t$ </span>, and thus generate a graph of the relationship between volume and time. Write a sentence to explain why the data's graph appears the way that it does. </span> <div class=\"sidebyside\"><div><table><caption><b>Table 1.1.13.</b> Data for how volume and time change together.</caption><tr><td><span class=\"m\"> $t$ </span></td><td><span class=\"m\"> $V$ </span></td></tr><tr><td><span class=\"m\"> $0$ </span></td><td/></tr><tr><td><span class=\"m\"> $20$ </span></td><td/></tr><tr><td><span class=\"m\"> $40$ </span></td><td/></tr><tr><td><span class=\"m\"> $60$ </span></td><td/></tr><tr><td><span class=\"m\"> $80$ </span></td><td/></tr><tr><td><span class=\"m\"> $94.24$ </span></td><td/></tr></table></div><div><figure><figcaption><b>Figure 1.1.14.</b> A plot of how volume and time change in tandem in a draining spherical tank.</figcaption><div><img src=\"images/tandem-sphere-V-t.svg\"/></div></figure></div></div> </div></div>"
            ]
        },
        {
            "cell_type": "markdown",
            "metadata": {
                "collapsed": false,
                "editable": false
            },
            "source": [
                "<div class=\"not-editable team\"><div><h4>Task F</h4> <span> Finally, think about how the height of the water changes in tandem with time. What is the height of the water when <span class=\"m\"> $t = 0$ </span>? What is the height when the tank is empty? How would you expect the data for the relationship between <span class=\"m\"> $h$ </span> and <span class=\"m\"> $t$ </span> to appear? Use the provided axes to sketch at least two possibilities; write at least one sentence to explain how you think the graph should appear. </span> <div class=\"sidebyside\"><div><img src=\"images/tandem-h-t-blank-axes.svg\"/></div><div><img src=\"images/tandem-h-t-blank-axes.svg\"/></div></div> </div></div>"
            ]
        }
    ],
    "nbformat": 4,
    "nbformat_minor": 4
}
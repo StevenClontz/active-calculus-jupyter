{
    "cells": [
        {
            "cell_type": "markdown",
            "metadata": {
                "collapsed": false,
                "editable": false
            },
            "source": [
                "<div class=\"not-editable team\"><style> .not-editable{padding:1em;border-radius:10px;box-shadow:4px 4px 3px #ddd;margin:5px;} .not-editable.individual{background-color:#eefff8;} .not-editable.team{background-color:#eef8ff;} .sidebyside{display:flex;justify-content:center;} .sidebyside > *{margin-right:1em;flex:1;} caption{caption-side:top;white-space: nowrap;color:rgba(0,0,0,.45)}} figcaption{padding-top:0.75em;padding-bottom:0.3em;color:rgba(0,0,0,.45)} .fillin{display:inline-block;width:10em;margin-left:0.2em;margin-right:0.2em;height:1em;border-bottom:1px black solid;} .fn{font-size:0.8em;color:rgba(0,0,0.45)} .newcommands{display:none;} tt{background-color:#f8f8f8;border:1px #888 solid;border-radius:2px;padding-left:0.2em;padding-right:0.2em;} img{background-color:#fff;} </style> <div><h1>Section 3.1 Exponential Growth and Decay</h1><h2>Team Notebook</h2><div><a href=\"https://activecalculus.org/prelude/sec-exp-growth.html\">https://activecalculus.org/prelude/sec-exp-growth.html</a></div></div></div>"
            ]
        },
        {
            "cell_type": "markdown",
            "metadata": {
                "collapsed": false,
                "editable": false
            },
            "source": [
                "<div class=\"not-editable team\"><h2>Activity 3.1.2</h2></div>"
            ]
        },
        {
            "cell_type": "markdown",
            "metadata": {
                "collapsed": false,
                "editable": false
            },
            "source": [
                "<div class=\"not-editable team\"><span> In Desmos, define the function <span class=\"m\"> $g(t) = ab^t$ </span> and create sliders for both <span class=\"m\"> $a$ </span> and <span class=\"m\"> $b$ </span> when prompted. Click on the sliders to set the minimum value for each to <span class=\"m\"> $0.1$ </span> and the maximum value to <span class=\"m\"> $10$ </span>. Note that for <span class=\"m\"> $g$ </span> to be an exponential function, we require <span class=\"m\"> $b \\ne 1$ </span>, even though the slider for <span class=\"m\"> $b$ </span> will allow this value. </span></div>"
            ]
        },
        {
            "cell_type": "markdown",
            "metadata": {
                "collapsed": false,
                "editable": false
            },
            "source": [
                "<div class=\"not-editable team\"><div><h4>Task A</h4> <span> What is the domain of <span class=\"m\"> $g(t) = ab^t$ </span>? </span> </div></div>"
            ]
        },
        {
            "cell_type": "markdown",
            "metadata": {
                "collapsed": false,
                "editable": false
            },
            "source": [
                "<div class=\"not-editable team\"><div><h4>Task B</h4> <span> What is the range of <span class=\"m\"> $g(t) = ab^t$ </span>? </span> </div></div>"
            ]
        },
        {
            "cell_type": "markdown",
            "metadata": {
                "collapsed": false,
                "editable": false
            },
            "source": [
                "<div class=\"not-editable team\"><div><h4>Task C</h4> <span> What is the <span class=\"m\"> $y$ </span>-intercept of <span class=\"m\"> $g(t) = ab^t$ </span>? </span> </div></div>"
            ]
        },
        {
            "cell_type": "markdown",
            "metadata": {
                "collapsed": false,
                "editable": false
            },
            "source": [
                "<div class=\"not-editable team\"><div><h4>Task D</h4> <span> How does changing the value of <span class=\"m\"> $b$ </span> affect the shape and behavior of the graph of <span class=\"m\"> $g(t) = ab^t$ </span>? Write several sentences to explain. </span> </div></div>"
            ]
        },
        {
            "cell_type": "markdown",
            "metadata": {
                "collapsed": false,
                "editable": false
            },
            "source": [
                "<div class=\"not-editable team\"><div><h4>Task E</h4> <span> For what values of the growth factor <span class=\"m\"> $b$ </span> is the corresponding growth rate positive? For which <span class=\"m\"> $b$ </span>-values is the growth rate negative? </span> </div></div>"
            ]
        },
        {
            "cell_type": "markdown",
            "metadata": {
                "collapsed": false,
                "editable": false
            },
            "source": [
                "<div class=\"not-editable team\"><div><h4>Task F</h4> <span> Consider the graphs of the exponential functions <span class=\"m\"> $p$ </span> and <span class=\"m\"> $q$ </span> provided in <a href=\"https://activecalculus.org/prelude/sec-exp-growth.html#F-growth-act-a-b-t\">Figure 3.1.3</a>. If <span class=\"m\"> $p(t) = ab^t$ </span> and <span class=\"m\"> $q(t) = cd^t$ </span>, what can you say about the values <span class=\"m\"> $a$ </span>, <span class=\"m\"> $b$ </span>, <span class=\"m\"> $c$ </span>, and <span class=\"m\"> $d$ </span> (beyond the fact that all are positive and <span class=\"m\"> $b \\ne 1$ </span> and <span class=\"m\"> $d \\ne 1$ </span>)? For instance, can you say a certain value is larger than another? Or that one of the values is less than <span class=\"m\"> $1$ </span>? </span> <div><figure><figcaption><b>Figure 3.1.3.</b> Graphs of exponential functions <span class=\"m\"> $p$ </span> and <span class=\"m\"> $q$ </span>.</figcaption><div><img src=\"images/growth-act-a-b-t.svg\"/></div></figure></div> </div></div>"
            ]
        },
        {
            "cell_type": "markdown",
            "metadata": {
                "collapsed": false,
                "editable": false
            },
            "source": [
                "<div class=\"not-editable team\"><h2>Activity 3.1.3</h2></div>"
            ]
        },
        {
            "cell_type": "markdown",
            "metadata": {
                "collapsed": false,
                "editable": false
            },
            "source": [
                "<div class=\"not-editable team\"><span> The value of an automobile is depreciating. When the car is <span class=\"m\"> $3$ </span> years old, its value is $<span class=\"m\"> $12500$ </span>; when the car is <span class=\"m\"> $7$ </span> years old, its value is $<span class=\"m\"> $6500$ </span>. </span></div>"
            ]
        },
        {
            "cell_type": "markdown",
            "metadata": {
                "collapsed": false,
                "editable": false
            },
            "source": [
                "<div class=\"not-editable team\"><div><h4>Task A</h4> <span> Suppose the car's value <span class=\"m\"> $t$ </span> years after its purchase is given by the function <span class=\"m\"> $V(t)$ </span> and that <span class=\"m\"> $V$ </span> is exponential with form <span class=\"m\"> $V(t) = ab^t$ </span>, what are the exact values of <span class=\"m\"> $a$ </span> and <span class=\"m\"> $b$ </span>? </span> </div></div>"
            ]
        },
        {
            "cell_type": "markdown",
            "metadata": {
                "collapsed": false,
                "editable": false
            },
            "source": [
                "<div class=\"not-editable team\"><div><h4>Task B</h4> <span> Using the exponential model determined in (a), determine the purchase value of the car and estimate when the car will be worth less than $<span class=\"m\"> $1000$ </span>. </span> </div></div>"
            ]
        },
        {
            "cell_type": "markdown",
            "metadata": {
                "collapsed": false,
                "editable": false
            },
            "source": [
                "<div class=\"not-editable team\"><div><h4>Task C</h4> <span> Suppose instead that the car's value is modeled by a linear function <span class=\"m\"> $L$ </span> and satisfies the values stated at the outset of this activity. Find a formula for <span class=\"m\"> $L(t)$ </span> and determine both the purchase value of the car and when the car will be worth $<span class=\"m\"> $1000$ </span>. </span> </div></div>"
            ]
        },
        {
            "cell_type": "markdown",
            "metadata": {
                "collapsed": false,
                "editable": false
            },
            "source": [
                "<div class=\"not-editable team\"><div><h4>Task D</h4> <span> Which model do you think is more realistic? Why? </span> </div></div>"
            ]
        },
        {
            "cell_type": "markdown",
            "metadata": {
                "collapsed": false,
                "editable": false
            },
            "source": [
                "<div class=\"not-editable team\"><h2>Activity 3.1.4</h2></div>"
            ]
        },
        {
            "cell_type": "markdown",
            "metadata": {
                "collapsed": false,
                "editable": false
            },
            "source": [
                "<div class=\"not-editable team\"><span> For each of the following prompts, give an example of a function that satisfies the stated characteristics by both providing a formula and sketching a graph. </span></div>"
            ]
        },
        {
            "cell_type": "markdown",
            "metadata": {
                "collapsed": false,
                "editable": false
            },
            "source": [
                "<div class=\"not-editable team\"><div><h4>Task A</h4> <span> A function <span class=\"m\"> $p$ </span> that is always decreasing and decreases at a constant rate. </span> </div></div>"
            ]
        },
        {
            "cell_type": "markdown",
            "metadata": {
                "collapsed": false,
                "editable": false
            },
            "source": [
                "<div class=\"not-editable team\"><div><h4>Task B</h4> <span> A function <span class=\"m\"> $q$ </span> that is always increasing and increases at an increasing rate. </span> </div></div>"
            ]
        },
        {
            "cell_type": "markdown",
            "metadata": {
                "collapsed": false,
                "editable": false
            },
            "source": [
                "<div class=\"not-editable team\"><div><h4>Task C</h4> <span> A function <span class=\"m\"> $r$ </span> that is always increasing for <span class=\"m\"> $t \\lt 2$ </span>, always decreasing for <span class=\"m\"> $t \\gt 2$ </span>, and is always changing at a decreasing rate. </span> </div></div>"
            ]
        },
        {
            "cell_type": "markdown",
            "metadata": {
                "collapsed": false,
                "editable": false
            },
            "source": [
                "<div class=\"not-editable team\"><div><h4>Task D</h4> <span> A function <span class=\"m\"> $s$ </span> that is always increasing and increases at a decreasing rate. (Hint: to find a formula, think about how you might use a transformation of a familiar function.) </span> </div></div>"
            ]
        },
        {
            "cell_type": "markdown",
            "metadata": {
                "collapsed": false,
                "editable": false
            },
            "source": [
                "<div class=\"not-editable team\"><div><h4>Task E</h4> <span> A function <span class=\"m\"> $u$ </span> that is always decreasing and decreases at a decreasing rate. </span> </div></div>"
            ]
        }
    ],
    "nbformat": 4,
    "nbformat_minor": 4
}
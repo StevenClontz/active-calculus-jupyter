{
    "cells": [
        {
            "cell_type": "markdown",
            "metadata": {
                "collapsed": false,
                "editable": false
            },
            "source": [
                "<div class=\"not-editable team\"><style> .not-editable{padding:1em;border-radius:10px;box-shadow:4px 4px 3px #ddd;margin:5px;} .not-editable.individual{background-color:#eefff8;} .not-editable.team{background-color:#eef8ff;} .sidebyside{display:flex;justify-content:center;} .sidebyside > *{margin-right:1em;flex:1;} caption{caption-side:top;white-space: nowrap;color:rgba(0,0,0,.45)}} figcaption{padding-top:0.75em;padding-bottom:0.3em;color:rgba(0,0,0,.45)} .fillin{display:inline-block;width:10em;margin-left:0.2em;margin-right:0.2em;height:1em;border-bottom:1px black solid;} .fn{font-size:0.8em;color:rgba(0,0,0.45)} .newcommands{display:none;} tt{background-color:#f8f8f8;border:1px #888 solid;border-radius:2px;padding-left:0.2em;padding-right:0.2em;} img{background-color:#fff;} </style> <div><h1>Section 4.5 Other Trigonometric Functions and Identities</h1><h2>Team Notebook</h2><div><a href=\"https://activecalculus.org/prelude/sec-trig-other.html\">https://activecalculus.org/prelude/sec-trig-other.html</a></div></div></div>"
            ]
        },
        {
            "cell_type": "markdown",
            "metadata": {
                "collapsed": false,
                "editable": false
            },
            "source": [
                "<div class=\"not-editable team\"><h2>Activity 4.5.2</h2></div>"
            ]
        },
        {
            "cell_type": "markdown",
            "metadata": {
                "collapsed": false,
                "editable": false
            },
            "source": [
                "<div class=\"not-editable team\"><span> Suppose that <span class=\"m\"> $\\beta$ </span> is an angle in standard position with its terminal side in quadrant II and you know that <span class=\"m\"> $\\sec(\\beta) = -2$ </span>. Without using a computational device in any way, determine the exact values of the other five trigonmetric functions evaluated at <span class=\"m\"> $\\beta$ </span>. </span></div>"
            ]
        },
        {
            "cell_type": "markdown",
            "metadata": {
                "collapsed": false,
                "editable": false
            },
            "source": [
                "<div class=\"not-editable team\"><h2>Activity 4.5.3</h2></div>"
            ]
        },
        {
            "cell_type": "markdown",
            "metadata": {
                "collapsed": false,
                "editable": false
            },
            "source": [
                "<div class=\"not-editable team\"><span> In this activity, we develop the standard properties of the cosecant function, <span class=\"m\"> $q(t) = \\csc(t)$ </span>. </span></div>"
            ]
        },
        {
            "cell_type": "markdown",
            "metadata": {
                "collapsed": false,
                "editable": false
            },
            "source": [
                "<div class=\"not-editable team\"><div><figure><figcaption><b>Figure 4.5.7.</b> Axes for plotting <span class=\"m\"> $q(t) = \\csc(t)$ </span>.</figcaption><div><img src=\"images/other-csc-activity-graph.svg\"/></div></figure></div></div>"
            ]
        },
        {
            "cell_type": "markdown",
            "metadata": {
                "collapsed": false,
                "editable": false
            },
            "source": [
                "<div class=\"not-editable team\"><div><h4>Task A</h4> <span> Complete <a href=\"https://activecalculus.org/prelude/sec-trig-other.html#T-cosecant-values\">Table 4.5.8</a> and <a href=\"https://activecalculus.org/prelude/sec-trig-other.html#T-cosecant-values-2\">Table 4.5.9</a> to determine the exact values of the cosecant function at the special points on the unit circle. Enter <span class=\"q\"> \"<span class=\"m\"> $u$ </span>\" </span> for any value at which <span class=\"m\"> $q(t) = \\csc(t)$ </span> is undefined. </span> <div><table><caption><b>Table 4.5.8.</b> Values of the sine function at special points on the unit circle (Quadrants I and II).</caption><tr><td><span class=\"m\"> $t$ </span></td><td><span class=\"m\"> $0$ </span></td><td><span class=\"m\"> $\\frac{\\pi}{6}$ </span></td><td><span class=\"m\"> $\\frac{\\pi}{4}$ </span></td><td><span class=\"m\"> $\\frac{\\pi}{3}$ </span></td><td><span class=\"m\"> $\\frac{\\pi}{2}$ </span></td><td><span class=\"m\"> $\\frac{2\\pi}{3}$ </span></td><td><span class=\"m\"> $\\frac{3\\pi}{4}$ </span></td><td><span class=\"m\"> $\\frac{5\\pi}{6}$ </span></td><td><span class=\"m\"> $\\pi$ </span></td></tr><tr><td><span class=\"m\"> $\\sin(t)$ </span></td><td><span class=\"m\"> $0$ </span></td><td><span class=\"m\"> $\\frac{1}{2}$ </span></td><td><span class=\"m\"> $\\frac{\\sqrt{2}}{2}$ </span></td><td><span class=\"m\"> $\\frac{\\sqrt{3}}{2}$ </span></td><td><span class=\"m\"> $1$ </span></td><td><span class=\"m\"> $\\frac{\\sqrt{3}}{2}$ </span></td><td><span class=\"m\"> $\\frac{\\sqrt{2}}{2}$ </span></td><td><span class=\"m\"> $\\frac{1}{2}$ </span></td><td><span class=\"m\"> $0$ </span></td></tr><tr><td><span class=\"m\"> $\\csc(t)$ </span></td><td/><td/><td/><td/><td/><td/><td/><td/><td/></tr></table></div> <div><table><caption><b>Table 4.5.9.</b> Values of the sine function at special points on the unit circle (Quadrants III and IV).</caption><tr><td><span class=\"m\"> $t$ </span></td><td><span class=\"m\"> $\\frac{7\\pi}{6}$ </span></td><td><span class=\"m\"> $\\frac{5\\pi}{4}$ </span></td><td><span class=\"m\"> $\\frac{4\\pi}{3}$ </span></td><td><span class=\"m\"> $\\frac{3\\pi}{2}$ </span></td><td><span class=\"m\"> $\\frac{5\\pi}{3}$ </span></td><td><span class=\"m\"> $\\frac{7\\pi}{4}$ </span></td><td><span class=\"m\"> $\\frac{11\\pi}{6}$ </span></td><td><span class=\"m\"> $2\\pi$ </span></td></tr><tr><td><span class=\"m\"> $\\sin(t)$ </span></td><td><span class=\"m\"> $-\\frac{1}{2}$ </span></td><td><span class=\"m\"> $-\\frac{\\sqrt{2}}{2}$ </span></td><td><span class=\"m\"> $-\\frac{\\sqrt{3}}{2}$ </span></td><td><span class=\"m\"> $-1$ </span></td><td><span class=\"m\"> $-\\frac{\\sqrt{3}}{2}$ </span></td><td><span class=\"m\"> $-\\frac{\\sqrt{2}}{2}$ </span></td><td><span class=\"m\"> $-\\frac{1}{2}$ </span></td><td><span class=\"m\"> $0$ </span></td></tr><tr><td><span class=\"m\"> $\\csc(t)$ </span></td><td/><td/><td/><td/><td/><td/><td/><td/></tr></table></div> </div></div>"
            ]
        },
        {
            "cell_type": "markdown",
            "metadata": {
                "collapsed": false,
                "editable": false
            },
            "source": [
                "<div class=\"not-editable team\"><div><h4>Task B</h4> <span> In which quadrants is <span class=\"m\"> $q(t) = \\csc(t)$ </span> positive? negative? </span> </div></div>"
            ]
        },
        {
            "cell_type": "markdown",
            "metadata": {
                "collapsed": false,
                "editable": false
            },
            "source": [
                "<div class=\"not-editable team\"><div><h4>Task C</h4> <span> At what <span class=\"m\"> $t$ </span>-values does <span class=\"m\"> $q(t) = \\csc(t)$ </span> have a vertical asymptote? Why? </span> </div></div>"
            ]
        },
        {
            "cell_type": "markdown",
            "metadata": {
                "collapsed": false,
                "editable": false
            },
            "source": [
                "<div class=\"not-editable team\"><div><h4>Task D</h4> <span> What is the domain of the cosecant function? What is its range? </span> </div></div>"
            ]
        },
        {
            "cell_type": "markdown",
            "metadata": {
                "collapsed": false,
                "editable": false
            },
            "source": [
                "<div class=\"not-editable team\"><div><h4>Task E</h4> <span> Sketch an accurate, labeled graph of <span class=\"m\"> $q(t) = \\csc(t)$ </span> on the axes provided in <a href=\"https://activecalculus.org/prelude/sec-trig-other.html#F-cosecant-plot\">Figure 4.5.7</a>, including the special points that come from the unit circle. </span> </div></div>"
            ]
        },
        {
            "cell_type": "markdown",
            "metadata": {
                "collapsed": false,
                "editable": false
            },
            "source": [
                "<div class=\"not-editable team\"><div><h4>Task F</h4> <span> What is the period of the cosecant function? </span> </div></div>"
            ]
        },
        {
            "cell_type": "markdown",
            "metadata": {
                "collapsed": false,
                "editable": false
            },
            "source": [
                "<div class=\"not-editable team\"><h2>Activity 4.5.4</h2></div>"
            ]
        },
        {
            "cell_type": "markdown",
            "metadata": {
                "collapsed": false,
                "editable": false
            },
            "source": [
                "<div class=\"not-editable team\"><span> In this activity, we develop the standard properties of the cotangent function, <span class=\"m\"> $r(t) = \\cot(t)$ </span>. </span></div>"
            ]
        },
        {
            "cell_type": "markdown",
            "metadata": {
                "collapsed": false,
                "editable": false
            },
            "source": [
                "<div class=\"not-editable team\"><div><h4>Task A</h4> <span> Complete <a href=\"https://activecalculus.org/prelude/sec-trig-other.html#T-cotangent-values\">Table 4.5.10</a> and <a href=\"https://activecalculus.org/prelude/sec-trig-other.html#T-cotangent-values-2\">Table 4.5.11</a> to determine the exact values of the cotangent function at the special points on the unit circle. Enter <span class=\"q\"> \"u\" </span> for any value at which <span class=\"m\"> $r(t) = \\cot(t)$ </span> is undefined. </span> <div><table><caption><b>Table 4.5.10.</b> Values of the sine function at special points on the unit circle.</caption><tr><td><span class=\"m\"> $t$ </span></td><td><span class=\"m\"> $0$ </span></td><td><span class=\"m\"> $\\frac{\\pi}{6}$ </span></td><td><span class=\"m\"> $\\frac{\\pi}{4}$ </span></td><td><span class=\"m\"> $\\frac{\\pi}{3}$ </span></td><td><span class=\"m\"> $\\frac{\\pi}{2}$ </span></td><td><span class=\"m\"> $\\frac{2\\pi}{3}$ </span></td><td><span class=\"m\"> $\\frac{3\\pi}{4}$ </span></td><td><span class=\"m\"> $\\frac{5\\pi}{6}$ </span></td><td><span class=\"m\"> $\\pi$ </span></td></tr><tr><td><span class=\"m\"> $\\sin(t)$ </span></td><td><span class=\"m\"> $0$ </span></td><td><span class=\"m\"> $\\frac{1}{2}$ </span></td><td><span class=\"m\"> $\\frac{\\sqrt{2}}{2}$ </span></td><td><span class=\"m\"> $\\frac{\\sqrt{3}}{2}$ </span></td><td><span class=\"m\"> $1$ </span></td><td><span class=\"m\"> $\\frac{\\sqrt{3}}{2}$ </span></td><td><span class=\"m\"> $\\frac{\\sqrt{2}}{2}$ </span></td><td><span class=\"m\"> $\\frac{1}{2}$ </span></td><td><span class=\"m\"> $0$ </span></td></tr><tr><td><span class=\"m\"> $\\cos(t)$ </span></td><td><span class=\"m\"> $1$ </span></td><td><span class=\"m\"> $\\frac{\\sqrt{3}}{2}$ </span></td><td><span class=\"m\"> $\\frac{\\sqrt{2}}{2}$ </span></td><td><span class=\"m\"> $\\frac{1}{2}$ </span></td><td><span class=\"m\"> $0$ </span></td><td><span class=\"m\"> $-\\frac{1}{2}$ </span></td><td><span class=\"m\"> $-\\frac{\\sqrt{2}}{2}$ </span></td><td><span class=\"m\"> $-\\frac{\\sqrt{3}}{2}$ </span></td><td><span class=\"m\"> $-1$ </span></td></tr><tr><td><span class=\"m\"> $\\tan(t)$ </span></td><td><span class=\"m\"> $0$ </span></td><td><span class=\"m\"> $\\frac{1}{\\sqrt{3}}$ </span></td><td><span class=\"m\"> $1$ </span></td><td><span class=\"m\"> $\\frac{3}{\\sqrt{3}}$ </span></td><td>u</td><td><span class=\"m\"> $-\\frac{3}{\\sqrt{3}}$ </span></td><td><span class=\"m\"> $-1$ </span></td><td><span class=\"m\"> $-\\frac{1}{\\sqrt{3}}$ </span></td><td><span class=\"m\"> $0$ </span></td></tr><tr><td><span class=\"m\"> $\\cot(t)$ </span></td><td/><td/><td/><td/><td/><td/><td/><td/><td/></tr></table></div> <div><table><caption><b>Table 4.5.11.</b> Values of the sine function at special points on the unit circle.</caption><tr><td><span class=\"m\"> $t$ </span></td><td><span class=\"m\"> $\\frac{7\\pi}{6}$ </span></td><td><span class=\"m\"> $\\frac{5\\pi}{4}$ </span></td><td><span class=\"m\"> $\\frac{4\\pi}{3}$ </span></td><td><span class=\"m\"> $\\frac{3\\pi}{2}$ </span></td><td><span class=\"m\"> $\\frac{5\\pi}{3}$ </span></td><td><span class=\"m\"> $\\frac{7\\pi}{4}$ </span></td><td><span class=\"m\"> $\\frac{11\\pi}{6}$ </span></td><td><span class=\"m\"> $2\\pi$ </span></td></tr><tr><td><span class=\"m\"> $\\sin(t)$ </span></td><td><span class=\"m\"> $-\\frac{1}{2}$ </span></td><td><span class=\"m\"> $-\\frac{\\sqrt{2}}{2}$ </span></td><td><span class=\"m\"> $-\\frac{\\sqrt{3}}{2}$ </span></td><td><span class=\"m\"> $-1$ </span></td><td><span class=\"m\"> $-\\frac{\\sqrt{3}}{2}$ </span></td><td><span class=\"m\"> $-\\frac{\\sqrt{2}}{2}$ </span></td><td><span class=\"m\"> $-\\frac{1}{2}$ </span></td><td><span class=\"m\"> $0$ </span></td></tr><tr><td><span class=\"m\"> $\\cos(t)$ </span></td><td><span class=\"m\"> $-\\frac{\\sqrt{3}}{2}$ </span></td><td><span class=\"m\"> $-\\frac{\\sqrt{2}}{2}$ </span></td><td><span class=\"m\"> $-\\frac{1}{2}$ </span></td><td><span class=\"m\"> $0$ </span></td><td><span class=\"m\"> $\\frac{1}{2}$ </span></td><td><span class=\"m\"> $\\frac{\\sqrt{2}}{2}$ </span></td><td><span class=\"m\"> $\\frac{\\sqrt{3}}{2}$ </span></td><td><span class=\"m\"> $0$ </span></td></tr><tr><td><span class=\"m\"> $\\tan(t)$ </span></td><td><span class=\"m\"> $\\frac{1}{\\sqrt{3}}$ </span></td><td><span class=\"m\"> $1$ </span></td><td><span class=\"m\"> $\\frac{3}{\\sqrt{3}}$ </span></td><td>u</td><td><span class=\"m\"> $-\\frac{3}{\\sqrt{3}}$ </span></td><td><span class=\"m\"> $-1$ </span></td><td><span class=\"m\"> $-\\frac{1}{\\sqrt{3}}$ </span></td><td><span class=\"m\"> $0$ </span></td></tr><tr><td><span class=\"m\"> $\\cot(t)$ </span></td><td/><td/><td/><td/><td/><td/><td/><td/></tr></table></div> </div></div>"
            ]
        },
        {
            "cell_type": "markdown",
            "metadata": {
                "collapsed": false,
                "editable": false
            },
            "source": [
                "<div class=\"not-editable team\"><div><h4>Task B</h4> <span> In which quadrants is <span class=\"m\"> $r(t) = \\cot(t)$ </span> positive? negative? </span> </div></div>"
            ]
        },
        {
            "cell_type": "markdown",
            "metadata": {
                "collapsed": false,
                "editable": false
            },
            "source": [
                "<div class=\"not-editable team\"><div><h4>Task C</h4> <span> At what <span class=\"m\"> $t$ </span>-values does <span class=\"m\"> $r(t) = \\cot(t)$ </span> have a vertical asymptote? Why? </span> </div></div>"
            ]
        },
        {
            "cell_type": "markdown",
            "metadata": {
                "collapsed": false,
                "editable": false
            },
            "source": [
                "<div class=\"not-editable team\"><div><h4>Task D</h4> <span> What is the domain of the cotangent function? What is its range? </span> </div></div>"
            ]
        },
        {
            "cell_type": "markdown",
            "metadata": {
                "collapsed": false,
                "editable": false
            },
            "source": [
                "<div class=\"not-editable team\"><div><h4>Task E</h4> <span> Sketch an accurate, labeled graph of <span class=\"m\"> $r(t) = \\cot(t)$ </span> on the axes provided in <a href=\"https://activecalculus.org/prelude/sec-trig-other.html#F-cotangent-plot\">Figure 4.5.12</a>, including the special points that come from the unit circle. </span> <div><figure><figcaption><b>Figure 4.5.12.</b> Axes for plotting <span class=\"m\"> $r(t) = \\cot(t)$ </span>.</figcaption><div><img src=\"images/other-cot-definition-graph.svg\"/></div></figure></div> </div></div>"
            ]
        },
        {
            "cell_type": "markdown",
            "metadata": {
                "collapsed": false,
                "editable": false
            },
            "source": [
                "<div class=\"not-editable team\"><div><h4>Task F</h4> <span> On intervals where the function is defined at every point in the interval, is <span class=\"m\"> $r(t) = \\cot(t)$ </span> always increasing, always decreasing, or neither? </span> </div></div>"
            ]
        },
        {
            "cell_type": "markdown",
            "metadata": {
                "collapsed": false,
                "editable": false
            },
            "source": [
                "<div class=\"not-editable team\"><div><h4>Task G</h4> <span> What is the period of the cotangent function? </span> </div></div>"
            ]
        },
        {
            "cell_type": "markdown",
            "metadata": {
                "collapsed": false,
                "editable": false
            },
            "source": [
                "<div class=\"not-editable team\"><div><h4>Task H</h4> <span> How would you describe the relationship between the graphs of the tangent and cotangent functions? </span> </div></div>"
            ]
        },
        {
            "cell_type": "markdown",
            "metadata": {
                "collapsed": false,
                "editable": false
            },
            "source": [
                "<div class=\"not-editable team\"><h2>Activity 4.5.5</h2></div>"
            ]
        },
        {
            "cell_type": "markdown",
            "metadata": {
                "collapsed": false,
                "editable": false
            },
            "source": [
                "<div class=\"not-editable team\"><span> In this activity, we investigate how a sum of two angles identity for the sine function helps us gain a different perspective on the average rate of change of the sine function. </span></div>"
            ]
        },
        {
            "cell_type": "markdown",
            "metadata": {
                "collapsed": false,
                "editable": false
            },
            "source": [
                "<div class=\"not-editable team\"><span> Recall that for any function <span class=\"m\"> $f$ </span> on an interval <span class=\"m\"> $[a,a+h]$ </span>, its average rate of change is <span class=\"m\"> $$ AV_{[a,a+h]} = \\frac{f(a+h)-f(a)}{h} $$ </span>. </span></div>"
            ]
        },
        {
            "cell_type": "markdown",
            "metadata": {
                "collapsed": false,
                "editable": false
            },
            "source": [
                "<div class=\"not-editable team\"><div><h4>Task A</h4> <span> Let <span class=\"m\"> $f(x) = \\sin(x)$ </span>. Use the definition of <span class=\"m\"> $AV_{[a,a+h]}$ </span> to write an expression for the average rate of change of the sine function on the interval <span class=\"m\"> $[a+h,a]$ </span>. </span> </div></div>"
            ]
        },
        {
            "cell_type": "markdown",
            "metadata": {
                "collapsed": false,
                "editable": false
            },
            "source": [
                "<div class=\"not-editable team\"><div><h4>Task B</h4> <span> Apply the sum of two angles identity for the sine function, <span class=\"m\"> $\\sin(\\alpha + \\beta) = \\sin(\\alpha) \\cos(\\beta) + \\cos(\\alpha) \\sin(\\beta)$ </span>, to the expression <span class=\"m\"> $\\sin(a+h)$ </span>. </span> </div></div>"
            ]
        },
        {
            "cell_type": "markdown",
            "metadata": {
                "collapsed": false,
                "editable": false
            },
            "source": [
                "<div class=\"not-editable team\"><div><h4>Task C</h4> <span> Explain why your work in (a) and (b) together with some algebra shows that <span class=\"m\"> $$ AV_{[a,a+h]} = \\sin(a) \\cdot \\frac{\\cos(h)-1}{h} - \\cos(a) \\frac{\\sin(h)}{h} $$ </span>. </span> </div></div>"
            ]
        },
        {
            "cell_type": "markdown",
            "metadata": {
                "collapsed": false,
                "editable": false
            },
            "source": [
                "<div class=\"not-editable team\"><div><h4>Task D</h4> <span> In calculus, we move from average rate of change to instantaneous rate of change by letting <span class=\"m\"> $h$ </span> approach <span class=\"m\"> $0$ </span> in the expression for average rate of change. Using a computational device in radian mode, investigate the behavior of <span class=\"m\"> $$ \\frac{\\cos(h)-1}{h} $$ </span> as <span class=\"m\"> $h$ </span> gets close to <span class=\"m\"> $0$ </span>. What happens? Similarly, how does <span class=\"m\"> $\\frac{\\sin(h)}{h}$ </span> behave for small values of <span class=\"m\"> $h$ </span>? What does this tell us about <span class=\"m\"> $AV_{[a,a+h]}$ </span> for the sine function as <span class=\"m\"> $h$ </span> approaches <span class=\"m\"> $0$ </span>? </span> </div></div>"
            ]
        }
    ],
    "nbformat": 4,
    "nbformat_minor": 4
}
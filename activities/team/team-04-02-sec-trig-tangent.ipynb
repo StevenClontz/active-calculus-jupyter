{
    "cells": [
        {
            "cell_type": "markdown",
            "metadata": {
                "collapsed": false,
                "editable": false
            },
            "source": [
                "<div class=\"not-editable team\"><style> .not-editable{padding:1em;border-radius:10px;box-shadow:4px 4px 3px #ddd;margin:5px;} .not-editable.individual{background-color:#eefff8;} .not-editable.team{background-color:#eef8ff;} .sidebyside{display:flex;justify-content:center;} .sidebyside > *{margin-right:1em;flex:1;} caption{caption-side:top;white-space: nowrap;color:rgba(0,0,0,.45)}} figcaption{padding-top:0.75em;padding-bottom:0.3em;color:rgba(0,0,0,.45)} .fillin{display:inline-block;width:10em;margin-left:0.2em;margin-right:0.2em;height:1em;border-bottom:1px black solid;} .fn{font-size:0.8em;color:rgba(0,0,0.45)} .newcommands{display:none;} tt{background-color:#f8f8f8;border:1px #888 solid;border-radius:2px;padding-left:0.2em;padding-right:0.2em;} img{background-color:#fff;} </style> <div><h1>Section 4.2 The Tangent Function</h1><h2>Team Notebook</h2><div><a href=\"https://activecalculus.org/prelude/sec-trig-tangent.html\">https://activecalculus.org/prelude/sec-trig-tangent.html</a></div></div></div>"
            ]
        },
        {
            "cell_type": "markdown",
            "metadata": {
                "collapsed": false,
                "editable": false
            },
            "source": [
                "<div class=\"not-editable team\"><h2>Activity 4.2.2</h2></div>"
            ]
        },
        {
            "cell_type": "markdown",
            "metadata": {
                "collapsed": false,
                "editable": false
            },
            "source": [
                "<div class=\"not-editable team\"><span> The top of a <span class=\"m\"> $225$ </span> foot tower is to be anchored by four cables that each make an angle of <span class=\"m\"> $32.5^{\\circ}$ </span> with the ground. How long do the cables have to be and how far from the base of the tower must they be anchored? </span></div>"
            ]
        },
        {
            "cell_type": "markdown",
            "metadata": {
                "collapsed": false,
                "editable": false
            },
            "source": [
                "<div class=\"not-editable team\"><h2>Activity 4.2.3</h2></div>"
            ]
        },
        {
            "cell_type": "markdown",
            "metadata": {
                "collapsed": false,
                "editable": false
            },
            "source": [
                "<div class=\"not-editable team\"><div class=\"sidebyside\"><span> Supertall high rises have changed the Manhattan skyline. These skyscrapers are known for their small footprint in proportion to their height, with their ratio of width to height at most <span class=\"m\"> $1:10$ </span>, and some as extreme as <span class=\"m\"> $1:24$ </span>. Suppose that a relatively short supertall has been built to a height of <span class=\"m\"> $635$ </span> feet, as pictured in <a href=\"https://activecalculus.org/prelude/sec-trig-tangent.html#F-tan-act-two-towers\">Figure 4.2.10</a>, and that a second supertall is built nearby. Given the two angles that are computed from the new building, how tall, <span class=\"m\"> $s$ </span>, is the new building, and how far apart, <span class=\"m\"> $d$ </span>, are the two towers? </span><div><figure><figcaption><b>Figure 4.2.10.</b> Two supertall skyscrapers.</figcaption><div><img src=\"images/tan-act-two-towers.svg\"/></div></figure></div></div></div>"
            ]
        },
        {
            "cell_type": "markdown",
            "metadata": {
                "collapsed": false,
                "editable": false
            },
            "source": [
                "<div class=\"not-editable team\"><h2>Activity 4.2.4</h2></div>"
            ]
        },
        {
            "cell_type": "markdown",
            "metadata": {
                "collapsed": false,
                "editable": false
            },
            "source": [
                "<div class=\"not-editable team\"><span> Surveyors are trying to determine the height of a hill relative to sea level. First, they choose a point to take an initial measurement with a sextant that shows the angle of elevation from the ground to the peak of the hill is <span class=\"m\"> $19^\\circ$ </span>. Next, they move <span class=\"m\"> $1000$ </span> feet closer to the hill, staying at the same elevation relative to sea level, and find that the angle of elevation has increased to <span class=\"m\"> $25^\\circ$ </span>, as pictured in <a href=\"https://activecalculus.org/prelude/sec-trig-tangent.html#F-tan-act-mountain\">Figure 4.2.11</a>. We let <span class=\"m\"> $h$ </span> represent the height of the hill relative to the two measurements, and <span class=\"m\"> $x$ </span> represent the distance from the second measurement location to the <span class=\"q\"> \"center\" </span> of the hill that lies directly under the peak. </span></div>"
            ]
        },
        {
            "cell_type": "markdown",
            "metadata": {
                "collapsed": false,
                "editable": false
            },
            "source": [
                "<div class=\"not-editable team\"><div><figure><figcaption><b>Figure 4.2.11.</b> The surveyors' initial measurements.</figcaption><div><img src=\"images/tan-act-mountain.svg\"/></div></figure></div></div>"
            ]
        },
        {
            "cell_type": "markdown",
            "metadata": {
                "collapsed": false,
                "editable": false
            },
            "source": [
                "<div class=\"not-editable team\"><div><h4>Task A</h4> <span> Using the right triangle with the <span class=\"m\"> $25^\\circ$ </span> angle, find an equation that relates <span class=\"m\"> $x$ </span> and <span class=\"m\"> $h$ </span>. </span> </div></div>"
            ]
        },
        {
            "cell_type": "markdown",
            "metadata": {
                "collapsed": false,
                "editable": false
            },
            "source": [
                "<div class=\"not-editable team\"><div><h4>Task B</h4> <span> Using the right triangle with the <span class=\"m\"> $19^\\circ$ </span> angle, find a second equation that relates <span class=\"m\"> $x$ </span> and <span class=\"m\"> $h$ </span>. </span> </div></div>"
            ]
        },
        {
            "cell_type": "markdown",
            "metadata": {
                "collapsed": false,
                "editable": false
            },
            "source": [
                "<div class=\"not-editable team\"><div><h4>Task C</h4> <span> Our work in (a) and (b) results in a system of two equations in the two unknowns <span class=\"m\"> $x$ </span> and <span class=\"m\"> $h$ </span>. Solve each of the two equations for <span class=\"m\"> $h$ </span> and then substitute appropriately in order to find a single equation in the variable <span class=\"m\"> $x$ </span>. </span> </div></div>"
            ]
        },
        {
            "cell_type": "markdown",
            "metadata": {
                "collapsed": false,
                "editable": false
            },
            "source": [
                "<div class=\"not-editable team\"><div><h4>Task D</h4> <span> Solve the equation from (c) to find the exact value of <span class=\"m\"> $x$ </span> and determine an approximate value accurate to <span class=\"m\"> $3$ </span> decimal places. </span> </div></div>"
            ]
        },
        {
            "cell_type": "markdown",
            "metadata": {
                "collapsed": false,
                "editable": false
            },
            "source": [
                "<div class=\"not-editable team\"><div><h4>Task E</h4> <span> Use your preceding work to solve for <span class=\"m\"> $h$ </span> exactly, plus determine an estimate accurate to <span class=\"m\"> $3$ </span> decimal places. </span> </div></div>"
            ]
        },
        {
            "cell_type": "markdown",
            "metadata": {
                "collapsed": false,
                "editable": false
            },
            "source": [
                "<div class=\"not-editable team\"><div><h4>Task F</h4> <span> If the surveyors' initial measurements were taken from an elevation of <span class=\"m\"> $78$ </span> feet above sea level, how high above sea level is the peak of the hill? </span> </div></div>"
            ]
        }
    ],
    "nbformat": 4,
    "nbformat_minor": 4
}
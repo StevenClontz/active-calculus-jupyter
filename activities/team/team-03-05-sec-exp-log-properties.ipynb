{
    "cells": [
        {
            "cell_type": "markdown",
            "metadata": {
                "collapsed": false,
                "editable": false
            },
            "source": [
                "<div class=\"not-editable team\"><style> .not-editable{padding:1em;border-radius:10px;box-shadow:4px 4px 3px #ddd;margin:5px;} .not-editable.individual{background-color:#eefff8;} .not-editable.team{background-color:#eef8ff;} .sidebyside{display:flex;justify-content:center;} .sidebyside > *{margin-right:1em;flex:1;} caption{caption-side:top;white-space: nowrap;color:rgba(0,0,0,.45)}} figcaption{padding-top:0.75em;padding-bottom:0.3em;color:rgba(0,0,0,.45)} .fillin{display:inline-block;width:10em;margin-left:0.2em;margin-right:0.2em;height:1em;border-bottom:1px black solid;} .fn{font-size:0.8em;color:rgba(0,0,0.45)} .newcommands{display:none;} tt{background-color:#f8f8f8;border:1px #888 solid;border-radius:2px;padding-left:0.2em;padding-right:0.2em;} img{background-color:#fff;} </style> <div><h1>Section 3.5 Properties and applications of logarithmic functions</h1><h2>Team Notebook</h2><div><a href=\"https://activecalculus.org/prelude/sec-exp-log-properties.html\">https://activecalculus.org/prelude/sec-exp-log-properties.html</a></div></div></div>"
            ]
        },
        {
            "cell_type": "markdown",
            "metadata": {
                "collapsed": false,
                "editable": false
            },
            "source": [
                "<div class=\"not-editable team\"><h2>Activity 3.5.2</h2></div>"
            ]
        },
        {
            "cell_type": "markdown",
            "metadata": {
                "collapsed": false,
                "editable": false
            },
            "source": [
                "<div class=\"not-editable team\"><span> Solve each of the following equations exactly and then find an estimate that is accurate to 5 decimal places. </span></div>"
            ]
        },
        {
            "cell_type": "markdown",
            "metadata": {
                "collapsed": false,
                "editable": false
            },
            "source": [
                "<div class=\"not-editable team\"><div><h4>Task A</h4> <span> <span class=\"m\"> $3^t = 5$ </span> </span> </div></div>"
            ]
        },
        {
            "cell_type": "markdown",
            "metadata": {
                "collapsed": false,
                "editable": false
            },
            "source": [
                "<div class=\"not-editable team\"><div><h4>Task B</h4> <span> <span class=\"m\"> $4 \\cdot 2^t - 2 = 3$ </span> </span> </div></div>"
            ]
        },
        {
            "cell_type": "markdown",
            "metadata": {
                "collapsed": false,
                "editable": false
            },
            "source": [
                "<div class=\"not-editable team\"><div><h4>Task C</h4> <span> <span class=\"m\"> $3.7 \\cdot (0.9)^{0.3t} + 1.5 = 2.1$ </span> </span> </div></div>"
            ]
        },
        {
            "cell_type": "markdown",
            "metadata": {
                "collapsed": false,
                "editable": false
            },
            "source": [
                "<div class=\"not-editable team\"><div><h4>Task D</h4> <span> <span class=\"m\"> $72 - 30(0.7)^{0.05t} = 60$ </span> </span> </div></div>"
            ]
        },
        {
            "cell_type": "markdown",
            "metadata": {
                "collapsed": false,
                "editable": false
            },
            "source": [
                "<div class=\"not-editable team\"><div><h4>Task E</h4> <span> <span class=\"m\"> $\\ln(t) = -2$ </span> </span> </div></div>"
            ]
        },
        {
            "cell_type": "markdown",
            "metadata": {
                "collapsed": false,
                "editable": false
            },
            "source": [
                "<div class=\"not-editable team\"><div><h4>Task F</h4> <span> <span class=\"m\"> $3 + 2\\log_{10}(t) = 3.5$ </span> </span> </div></div>"
            ]
        },
        {
            "cell_type": "markdown",
            "metadata": {
                "collapsed": false,
                "editable": false
            },
            "source": [
                "<div class=\"not-editable team\"><h2>Activity 3.5.3</h2></div>"
            ]
        },
        {
            "cell_type": "markdown",
            "metadata": {
                "collapsed": false,
                "editable": false
            },
            "source": [
                "<div class=\"not-editable team\"><span> In the questions that follow, we compare and contrast the properties and behaviors of exponential and logarithmic functions. </span></div>"
            ]
        },
        {
            "cell_type": "markdown",
            "metadata": {
                "collapsed": false,
                "editable": false
            },
            "source": [
                "<div class=\"not-editable team\"><div><h4>Task A</h4> <span> Let <span class=\"m\"> $f(t) = 1 - e^{-(t-1)}$ </span> and <span class=\"m\"> $g(t) = \\ln(t)$ </span>. Plot each function on the same set of coordinate axes. What properties do the two functions have in common? For what properties do the two functions differ? Consider each function's domain, range, <span class=\"m\"> $t$ </span>-intercept, <span class=\"m\"> $y$ </span>-intercept, increasing/decreasing behavior, concavity, and long-term behavior. </span> </div></div>"
            ]
        },
        {
            "cell_type": "markdown",
            "metadata": {
                "collapsed": false,
                "editable": false
            },
            "source": [
                "<div class=\"not-editable team\"><div><h4>Task B</h4> <span> Let <span class=\"m\"> $h(t) = a - be^{-k(t-c)}$ </span>, where <span class=\"m\"> $a$ </span>, <span class=\"m\"> $b$ </span>, <span class=\"m\"> $c$ </span>, and <span class=\"m\"> $k$ </span> are positive constants. Describe <span class=\"m\"> $h$ </span> as a transformation of the function <span class=\"m\"> $E(t) = e^t$ </span>. </span> </div></div>"
            ]
        },
        {
            "cell_type": "markdown",
            "metadata": {
                "collapsed": false,
                "editable": false
            },
            "source": [
                "<div class=\"not-editable team\"><div><h4>Task C</h4> <span> Let <span class=\"m\"> $r(t) = a + b\\ln(t-c)$ </span>, where <span class=\"m\"> $a$ </span>, <span class=\"m\"> $b$ </span>, and <span class=\"m\"> $c$ </span> are positive constants. Describe <span class=\"m\"> $r$ </span> as a transformation of the function <span class=\"m\"> $L(t) = \\ln(t)$ </span>. </span> </div></div>"
            ]
        },
        {
            "cell_type": "markdown",
            "metadata": {
                "collapsed": false,
                "editable": false
            },
            "source": [
                "<div class=\"not-editable team\"><div><h4>Task D</h4> <span> Data for the height of a tree is given in the <a href=\"https://activecalculus.org/prelude/sec-exp-log-properties.html#T-log-act-tree\">Table 3.5.4</a>; time <span class=\"m\"> $t$ </span> is measured in years and height is given in feet. At http://gvsu.edu/s/0yy, you can find a Desmos worksheet with this data already input. </span> <div><table><caption><b>Table 3.5.4.</b> The height of a tree as a function of time <span class=\"m\"> $t$ </span> in years.</caption><tr><td><span class=\"m\"> $t$ </span></td><td>1</td><td>2</td><td>3</td><td>4</td><td>5</td><td>6</td><td>7</td><td>8</td><td>9</td><td>10</td><td>11</td></tr><tr><td><span class=\"m\"> $h(t)$ </span></td><td>6</td><td>9.5</td><td>13</td><td>15</td><td>16.5</td><td>17.5</td><td>18.5</td><td>19</td><td>19.5</td><td>19.7</td><td>19.8</td></tr></table></div> <span> Do you think this data is better modeled by a logarithmic function of form <span class=\"m\"> $p(t) = a + b\\ln(t-c)$ </span> or by an exponential function of form <span class=\"m\"> $q(t) = m + ne^{-rt}$ </span>. Provide reasons based in how the data appears and how you think a tree grows, as well as by experimenting with sliders appropriately in Desmos. (Note: you may need to adjust the upper and lower bounds of several of the sliders in order to match the data well.) </span> </div></div>"
            ]
        },
        {
            "cell_type": "markdown",
            "metadata": {
                "collapsed": false,
                "editable": false
            },
            "source": [
                "<div class=\"not-editable team\"><h2>Activity 3.5.4</h2></div>"
            ]
        },
        {
            "cell_type": "markdown",
            "metadata": {
                "collapsed": false,
                "editable": false
            },
            "source": [
                "<div class=\"not-editable team\"><span> Solve each of the following equations for the exact value of <span class=\"m\"> $k$ </span>. </span></div>"
            ]
        },
        {
            "cell_type": "markdown",
            "metadata": {
                "collapsed": false,
                "editable": false
            },
            "source": [
                "<div class=\"not-editable team\"><div><h4>Task A</h4> <span> <span class=\"m\"> $41 = 50e^{-k \\cdot 7}$ </span> </span> </div></div>"
            ]
        },
        {
            "cell_type": "markdown",
            "metadata": {
                "collapsed": false,
                "editable": false
            },
            "source": [
                "<div class=\"not-editable team\"><div><h4>Task B</h4> <span> <span class=\"m\"> $65 = 34 + 47e^{-k \\cdot 45}$ </span> </span> </div></div>"
            ]
        },
        {
            "cell_type": "markdown",
            "metadata": {
                "collapsed": false,
                "editable": false
            },
            "source": [
                "<div class=\"not-editable team\"><div><h4>Task C</h4> <span> <span class=\"m\"> $7e^{2k-1} + 4 = 32$ </span> </span> </div></div>"
            ]
        },
        {
            "cell_type": "markdown",
            "metadata": {
                "collapsed": false,
                "editable": false
            },
            "source": [
                "<div class=\"not-editable team\"><div><h4>Task D</h4> <span> <span class=\"m\"> $\\frac{5}{1+2e^{-10k}} = 4$ </span> </span> </div></div>"
            ]
        }
    ],
    "nbformat": 4,
    "nbformat_minor": 4
}
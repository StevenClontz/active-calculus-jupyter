{
    "cells": [
        {
            "cell_type": "markdown",
            "metadata": {
                "collapsed": false,
                "editable": false
            },
            "source": [
                "<div class=\"not-editable team\"><style> .not-editable{padding:1em;border-radius:10px;box-shadow:4px 4px 3px #ddd;margin:5px;} .not-editable.individual{background-color:#eefff8;} .not-editable.team{background-color:#eef8ff;} .sidebyside{display:flex;justify-content:center;} .sidebyside > *{margin-right:1em;flex:1;} caption{caption-side:top;white-space: nowrap;color:rgba(0,0,0,.45)}} figcaption{padding-top:0.75em;padding-bottom:0.3em;color:rgba(0,0,0,.45)} .fillin{display:inline-block;width:10em;margin-left:0.2em;margin-right:0.2em;height:1em;border-bottom:1px black solid;} .fn{font-size:0.8em;color:rgba(0,0,0.45)} .newcommands{display:none;} tt{background-color:#f8f8f8;border:1px #888 solid;border-radius:2px;padding-left:0.2em;padding-right:0.2em;} img{background-color:#fff;} </style> <div><h1>Section 4.3 Inverses of trigonometric functions</h1><h2>Team Notebook</h2><div><a href=\"https://activecalculus.org/prelude/sec-trig-inverse.html\">https://activecalculus.org/prelude/sec-trig-inverse.html</a></div></div></div>"
            ]
        },
        {
            "cell_type": "markdown",
            "metadata": {
                "collapsed": false,
                "editable": false
            },
            "source": [
                "<div class=\"not-editable team\"><h2>Activity 4.3.2</h2></div>"
            ]
        },
        {
            "cell_type": "markdown",
            "metadata": {
                "collapsed": false,
                "editable": false
            },
            "source": [
                "<div class=\"not-editable team\"><span> Use the special points on the unit circle (see, for instance, <a href=\"https://activecalculus.org/prelude/sec-circular-sine-cosine.html#F-circular-sine-all-16\">Figure 2.3.1</a>) to determine the exact values of each of the following numerical expressions. Do so without using a computational device. </span></div>"
            ]
        },
        {
            "cell_type": "markdown",
            "metadata": {
                "collapsed": false,
                "editable": false
            },
            "source": [
                "<div class=\"not-editable team\"><div><h4>Task A</h4> <span> <span class=\"m\"> $\\arccos(\\frac{1}{2})$ </span> </span> </div></div>"
            ]
        },
        {
            "cell_type": "markdown",
            "metadata": {
                "collapsed": false,
                "editable": false
            },
            "source": [
                "<div class=\"not-editable team\"><div><h4>Task B</h4> <span> <span class=\"m\"> $\\arccos(\\frac{\\sqrt{2}}{2})$ </span> </span> </div></div>"
            ]
        },
        {
            "cell_type": "markdown",
            "metadata": {
                "collapsed": false,
                "editable": false
            },
            "source": [
                "<div class=\"not-editable team\"><div><h4>Task C</h4> <span> <span class=\"m\"> $\\arccos(\\frac{\\sqrt{3}}{2})$ </span> </span> </div></div>"
            ]
        },
        {
            "cell_type": "markdown",
            "metadata": {
                "collapsed": false,
                "editable": false
            },
            "source": [
                "<div class=\"not-editable team\"><div><h4>Task D</h4> <span> <span class=\"m\"> $\\arccos(-\\frac{1}{2})$ </span> </span> </div></div>"
            ]
        },
        {
            "cell_type": "markdown",
            "metadata": {
                "collapsed": false,
                "editable": false
            },
            "source": [
                "<div class=\"not-editable team\"><div><h4>Task E</h4> <span> <span class=\"m\"> $\\arccos(-\\frac{\\sqrt{2}}{2})$ </span> </span> </div></div>"
            ]
        },
        {
            "cell_type": "markdown",
            "metadata": {
                "collapsed": false,
                "editable": false
            },
            "source": [
                "<div class=\"not-editable team\"><div><h4>Task F</h4> <span> <span class=\"m\"> $\\arccos(-\\frac{\\sqrt{3}}{2})$ </span> </span> </div></div>"
            ]
        },
        {
            "cell_type": "markdown",
            "metadata": {
                "collapsed": false,
                "editable": false
            },
            "source": [
                "<div class=\"not-editable team\"><div><h4>Task G</h4> <span> <span class=\"m\"> $\\arccos(-1)$ </span> </span> </div></div>"
            ]
        },
        {
            "cell_type": "markdown",
            "metadata": {
                "collapsed": false,
                "editable": false
            },
            "source": [
                "<div class=\"not-editable team\"><div><h4>Task H</h4> <span> <span class=\"m\"> $\\arccos(0)$ </span> </span> </div></div>"
            ]
        },
        {
            "cell_type": "markdown",
            "metadata": {
                "collapsed": false,
                "editable": false
            },
            "source": [
                "<div class=\"not-editable team\"><div><h4>Task I</h4> <span> <span class=\"m\"> $\\cos(\\arccos(-\\frac{1}{2}))$ </span> </span> </div></div>"
            ]
        },
        {
            "cell_type": "markdown",
            "metadata": {
                "collapsed": false,
                "editable": false
            },
            "source": [
                "<div class=\"not-editable team\"><div><h4>Task J</h4> <span> <span class=\"m\"> $\\arccos(\\cos(\\frac{7\\pi}{6}))$ </span> </span> </div></div>"
            ]
        },
        {
            "cell_type": "markdown",
            "metadata": {
                "collapsed": false,
                "editable": false
            },
            "source": [
                "<div class=\"not-editable team\"><h2>Activity 4.3.3</h2></div>"
            ]
        },
        {
            "cell_type": "markdown",
            "metadata": {
                "collapsed": false,
                "editable": false
            },
            "source": [
                "<div class=\"not-editable team\"><span> The goal of this activity is to understand key properties of the arcsine function in a way similar to our discussion of the arccosine function in <a href=\"https://activecalculus.org/prelude/sec-trig-inverse.html#subsec-trig-inverse-arccos\">Subsection 4.3.1</a>. </span></div>"
            ]
        },
        {
            "cell_type": "markdown",
            "metadata": {
                "collapsed": false,
                "editable": false
            },
            "source": [
                "<div class=\"not-editable team\"><div><h4>Task A</h4> <span> Using <a href=\"https://activecalculus.org/prelude/sec-trig-inverse.html#def-inverse-trig-arcsine\">Definition 4.3.3</a>, what are the domain and range of the arcsine function? </span> </div></div>"
            ]
        },
        {
            "cell_type": "markdown",
            "metadata": {
                "collapsed": false,
                "editable": false
            },
            "source": [
                "<div class=\"not-editable team\"><div><h4>Task B</h4> <span> Determine the following values exactly: <span class=\"m\"> $\\arcsin(-1)$ </span>, <span class=\"m\"> $\\arcsin(-\\frac{\\sqrt{2}}{2})$ </span>, <span class=\"m\"> $\\arcsin(0)$ </span>, <span class=\"m\"> $\\arcsin(\\frac{1}{2})$ </span>, and <span class=\"m\"> $\\arcsin(\\frac{\\sqrt{3}}{2})$ </span>. </span> </div></div>"
            ]
        },
        {
            "cell_type": "markdown",
            "metadata": {
                "collapsed": false,
                "editable": false
            },
            "source": [
                "<div class=\"not-editable team\"><div><h4>Task C</h4> <span> On the axes provided in <a href=\"https://activecalculus.org/prelude/sec-trig-inverse.html#F-inverse-trig-act-arcsine-axes\">Figure 4.3.4</a>, sketch a careful plot of the restricted sine function on the interval <span class=\"m\"> $[-\\frac{\\pi}{2},\\frac{\\pi}{2}]$ </span> along with its corresponding inverse, the arcsine function. Label at least three points on each curve so that each point on the sine graph corresponds to a point on the arcsine graph. In addition, sketch the line <span class=\"m\"> $y = t$ </span> to demonstrate how the graphs are reflections of one another across this line. </span> <div><figure><figcaption><b>Figure 4.3.4.</b> Axes for plotting the restricted sine function and its inverse, the arcsine function.</figcaption><div><img src=\"images/inverse-trig-blank-axes-arcsin.svg\"/></div></figure></div> </div></div>"
            ]
        },
        {
            "cell_type": "markdown",
            "metadata": {
                "collapsed": false,
                "editable": false
            },
            "source": [
                "<div class=\"not-editable team\"><div><h4>Task D</h4> <span> True or false: <span class=\"m\"> $\\arcsin(\\sin(5\\pi)) = 5\\pi$ </span>. Write a complete sentence to explain your reasoning. </span> </div></div>"
            ]
        },
        {
            "cell_type": "markdown",
            "metadata": {
                "collapsed": false,
                "editable": false
            },
            "source": [
                "<div class=\"not-editable team\"><h2>Activity 4.3.4</h2></div>"
            ]
        },
        {
            "cell_type": "markdown",
            "metadata": {
                "collapsed": false,
                "editable": false
            },
            "source": [
                "<div class=\"not-editable team\"><span> The goal of this activity is to understand key properties of the arctangent function. </span></div>"
            ]
        },
        {
            "cell_type": "markdown",
            "metadata": {
                "collapsed": false,
                "editable": false
            },
            "source": [
                "<div class=\"not-editable team\"><div><h4>Task A</h4> <span> Using <a href=\"https://activecalculus.org/prelude/sec-trig-inverse.html#def-inverse-trig-arctan\">Definition 4.3.5</a>, what are the domain and range of the arctangent function? </span> </div></div>"
            ]
        },
        {
            "cell_type": "markdown",
            "metadata": {
                "collapsed": false,
                "editable": false
            },
            "source": [
                "<div class=\"not-editable team\"><div><h4>Task B</h4> <span> Determine the following values exactly: <span class=\"m\"> $\\arctan(-\\sqrt{3})$ </span>, <span class=\"m\"> $\\arctan(-1)$ </span>, <span class=\"m\"> $\\arctan(0)$ </span>, and <span class=\"m\"> $\\arctan(\\frac{1}{\\sqrt{3}})$ </span>. </span> </div></div>"
            ]
        },
        {
            "cell_type": "markdown",
            "metadata": {
                "collapsed": false,
                "editable": false
            },
            "source": [
                "<div class=\"not-editable team\"><div><h4>Task C</h4> <span> A plot of the restricted tangent function on the interval <span class=\"m\"> $(-\\frac{\\pi}{2},\\frac{\\pi}{2})$ </span> is provided in <a href=\"https://activecalculus.org/prelude/sec-trig-inverse.html#F-inverse-trig-act-arctan\">Figure 4.3.6</a>. Sketch its corresponding inverse function, the arctangent function, on the same axes. Label at least three points on each curve so that each point on the tangent graph corresponds to a point on the arctangent graph. In addition, sketch the line <span class=\"m\"> $y = t$ </span> to demonstrate how the graphs are reflections of one another across this line. </span> <div><figure><figcaption><b>Figure 4.3.6.</b> Axes for plotting the restricted sine function and its inverse, the arcsine function.</figcaption><div><img src=\"images/inverse-tan-graph.svg\"/></div></figure></div> </div></div>"
            ]
        },
        {
            "cell_type": "markdown",
            "metadata": {
                "collapsed": false,
                "editable": false
            },
            "source": [
                "<div class=\"not-editable team\"><div><h4>Task D</h4> <span> Complete the following sentence: <span class=\"q\"> \"as <span class=\"m\"> $t$ </span> increases without bound, <span class=\"m\"> $\\arctan(t)$ </span> <span class=\"m\"> $\\ldots$ </span>\" </span>. </span> </div></div>"
            ]
        }
    ],
    "nbformat": 4,
    "nbformat_minor": 4
}
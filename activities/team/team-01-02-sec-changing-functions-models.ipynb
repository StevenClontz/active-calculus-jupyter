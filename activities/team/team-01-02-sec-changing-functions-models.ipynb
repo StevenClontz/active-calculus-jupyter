{
    "cells": [
        {
            "cell_type": "markdown",
            "metadata": {
                "collapsed": false,
                "editable": false
            },
            "source": [
                "<div class=\"not-editable team\"><style> .not-editable{padding:1em;border-radius:10px;box-shadow:4px 4px 3px #ddd;margin:5px;} .not-editable.individual{background-color:#eefff8;} .not-editable.team{background-color:#eef8ff;} .sidebyside{display:flex;justify-content:center;} .sidebyside > *{margin-right:1em;flex:1;} caption{caption-side:top;white-space: nowrap;color:rgba(0,0,0,.45)}} figcaption{padding-top:0.75em;padding-bottom:0.3em;color:rgba(0,0,0,.45)} .fillin{display:inline-block;width:10em;margin-left:0.2em;margin-right:0.2em;height:1em;border-bottom:1px black solid;} .fn{font-size:0.8em;color:rgba(0,0,0.45)} .newcommands{display:none;} tt{background-color:#f8f8f8;border:1px #888 solid;border-radius:2px;padding-left:0.2em;padding-right:0.2em;} img{background-color:#fff;} </style> <div><h1>Section 1.2 Functions: Modeling Relationships</h1><h2>Team Notebook</h2><div><a href=\"https://activecalculus.org/prelude/sec-changing-functions-models.html\">https://activecalculus.org/prelude/sec-changing-functions-models.html</a></div></div></div>"
            ]
        },
        {
            "cell_type": "markdown",
            "metadata": {
                "collapsed": false,
                "editable": false
            },
            "source": [
                "<div class=\"not-editable team\"><h2>Activity 1.2.2</h2></div>"
            ]
        },
        {
            "cell_type": "markdown",
            "metadata": {
                "collapsed": false,
                "editable": false
            },
            "source": [
                "<div class=\"not-editable team\"><span> Consider a spherical tank of radius <span class=\"m\"> $4$ </span> m that is filling with water. Let <span class=\"m\"> $V$ </span> be the volume of water in the tank (in cubic meters) at a given time, and <span class=\"m\"> $h$ </span> the depth of the water (in meters) at the same time. It can be shown using calculus that <span class=\"m\"> $V$ </span> is a function of <span class=\"m\"> $h$ </span> according to the rule <span class=\"m\"> $$ V = f(h) = \\frac{\\pi}{3} h^2(12-h) $$ </span>. </span></div>"
            ]
        },
        {
            "cell_type": "markdown",
            "metadata": {
                "collapsed": false,
                "editable": false
            },
            "source": [
                "<div class=\"not-editable team\"><div><h4>Task A</h4> <span> What values of <span class=\"m\"> $h$ </span> make sense to consider in the context of this function? What values of <span class=\"m\"> $V$ </span> make sense in the same context? </span> </div></div>"
            ]
        },
        {
            "cell_type": "markdown",
            "metadata": {
                "collapsed": false,
                "editable": false
            },
            "source": [
                "<div class=\"not-editable team\"><div><h4>Task B</h4> <span> What is the domain of the function <span class=\"m\"> $f$ </span> in the context of the spherical tank? Why? What is the corresponding codomain? Why? </span> </div></div>"
            ]
        },
        {
            "cell_type": "markdown",
            "metadata": {
                "collapsed": false,
                "editable": false
            },
            "source": [
                "<div class=\"not-editable team\"><div><h4>Task C</h4> <span> Determine and interpret (with appropriate units) the values <span class=\"m\"> $f(2)$ </span>, <span class=\"m\"> $f(4)$ </span>, and <span class=\"m\"> $f(8)$ </span>. What is important about the value of <span class=\"m\"> $f(8)$ </span>? </span> </div></div>"
            ]
        },
        {
            "cell_type": "markdown",
            "metadata": {
                "collapsed": false,
                "editable": false
            },
            "source": [
                "<div class=\"not-editable team\"><div><h4>Task D</h4> <span> Consider the claim: <span class=\"q\"> \"since <span class=\"m\"> $f(9) = \\frac{\\pi}{3} 9^2(12-9) = 81\\pi \\approx 254.47$ </span>, when the water is <span class=\"m\"> $9$ </span> meters deep, there is about <span class=\"m\"> $254.47$ </span> cubic meters of water in the tank\" </span>. Is this claim valid? Why or why not? Further, does it make sense to observe that <span class=\"q\"> \"<span class=\"m\"> $f(13) = -\\frac{169\\pi}{3}$ </span>\" </span>? Why or why not? </span> </div></div>"
            ]
        },
        {
            "cell_type": "markdown",
            "metadata": {
                "collapsed": false,
                "editable": false
            },
            "source": [
                "<div class=\"not-editable team\"><div><h4>Task E</h4> <span> Can you determine a value of <span class=\"m\"> $h$ </span> for which <span class=\"m\"> $f(h) = 300$ </span> cubic meters? </span> </div></div>"
            ]
        },
        {
            "cell_type": "markdown",
            "metadata": {
                "collapsed": false,
                "editable": false
            },
            "source": [
                "<div class=\"not-editable team\"><h2>Activity 1.2.3</h2></div>"
            ]
        },
        {
            "cell_type": "markdown",
            "metadata": {
                "collapsed": false,
                "editable": false
            },
            "source": [
                "<div class=\"not-editable team\"><span> Consider a spherical tank of radius <span class=\"m\"> $4$ </span> m that is completely full of water. Suppose that the tank is being drained by regulating an exit valve in such a way that the height of the water in the tank is always decreasing at a rate of <span class=\"m\"> $0.5$ </span> meters per minute. Let <span class=\"m\"> $V$ </span> be the volume of water in the tank (in cubic meters) at a given time <span class=\"m\"> $t$ </span> (in minutes), and <span class=\"m\"> $h$ </span> the depth of the water (in meters) at the same time. It can be shown using calculus that <span class=\"m\"> $V$ </span> is a function of <span class=\"m\"> $t$ </span> according to the model <span class=\"m\"> $$ V = p(t) = \\frac{256\\pi}{3} - \\frac{\\pi}{24} t^2(24-t) $$ </span>. In addition, let <span class=\"m\"> $h = q(t)$ </span> be the function whose output is the depth of the water in the tank at time <span class=\"m\"> $t$ </span>. </span></div>"
            ]
        },
        {
            "cell_type": "markdown",
            "metadata": {
                "collapsed": false,
                "editable": false
            },
            "source": [
                "<div class=\"not-editable team\"><div><h4>Task A</h4> <span> What is the height of the water when <span class=\"m\"> $t = 0$ </span>? When <span class=\"m\"> $t = 1$ </span>? When <span class=\"m\"> $t = 2$ </span>? How long will it take the tank to completely drain? Why? </span> </div></div>"
            ]
        },
        {
            "cell_type": "markdown",
            "metadata": {
                "collapsed": false,
                "editable": false
            },
            "source": [
                "<div class=\"not-editable team\"><div><h4>Task B</h4> <span> What is the domain of the model <span class=\"m\"> $h = q(t)$ </span>? What is the domain of the model <span class=\"m\"> $V = p(t)$ </span>? </span> </div></div>"
            ]
        },
        {
            "cell_type": "markdown",
            "metadata": {
                "collapsed": false,
                "editable": false
            },
            "source": [
                "<div class=\"not-editable team\"><div><h4>Task C</h4> <span> How much water is in the tank when the tank is full? What is the range of the model <span class=\"m\"> $h = q(t)$ </span>? What is the range of the model <span class=\"m\"> $V = p(t)$ </span>? </span> </div></div>"
            ]
        },
        {
            "cell_type": "markdown",
            "metadata": {
                "collapsed": false,
                "editable": false
            },
            "source": [
                "<div class=\"not-editable team\"><div><h4>Task D</h4> <span> We will frequently use a graphing utility to help us understand function behavior, and strongly recommend Desmos because it is intuitive, online, and free. </span> <span> In this prepared Desmos worksheet, you can see how we enter the (abstract) function <span class=\"m\"> $V = p(t) = \\frac{256\\pi}{3} - \\frac{\\pi}{24} t^2(24-t)$ </span>, as well as the corresponding graph the program generates. Make as many observations as you can about the model <span class=\"m\"> $V = p(t)$ </span>. You should discuss its shape and overall behavior, its domain, its range, and more. </span> </div></div>"
            ]
        },
        {
            "cell_type": "markdown",
            "metadata": {
                "collapsed": false,
                "editable": false
            },
            "source": [
                "<div class=\"not-editable team\"><div><h4>Task E</h4> <span> How does the model <span class=\"m\"> $V = p(t) = \\frac{256\\pi}{3} - \\frac{\\pi}{24} t^2(24-t)$ </span> differ from the abstract function <span class=\"m\"> $y = r(x) = \\frac{256\\pi}{3} - \\frac{\\pi}{24} x^2(24-x)$ </span>? In particular, how do the domain and range of the model differ from those of the abstract function, if at all? </span> </div></div>"
            ]
        },
        {
            "cell_type": "markdown",
            "metadata": {
                "collapsed": false,
                "editable": false
            },
            "source": [
                "<div class=\"not-editable team\"><div><h4>Task F</h4> <span> How should the graph of the height function <span class=\"m\"> $h = q(t)$ </span> appear? Can you determine a formula for <span class=\"m\"> $q$ </span>? Explain your thinking. </span> </div></div>"
            ]
        },
        {
            "cell_type": "markdown",
            "metadata": {
                "collapsed": false,
                "editable": false
            },
            "source": [
                "<div class=\"not-editable team\"><h2>Activity 1.2.4</h2></div>"
            ]
        },
        {
            "cell_type": "markdown",
            "metadata": {
                "collapsed": false,
                "editable": false
            },
            "source": [
                "<div class=\"not-editable team\"><span> Each of the following prompts describes a relationship between two quantities. For each, your task is to decide whether or not the relationship can be thought of as a function. If not, explain why. If so, state the domain and codomain of the function and write at least one sentence to explain the process that leads from the collection of inputs to the collection of outputs. </span></div>"
            ]
        },
        {
            "cell_type": "markdown",
            "metadata": {
                "collapsed": false,
                "editable": false
            },
            "source": [
                "<div class=\"not-editable team\"><div><h4>Task A</h4> <span> The relationship between <span class=\"m\"> $x$ </span> and <span class=\"m\"> $y$ </span> in each of the graphs below (address each graph separately as a potential situation where <span class=\"m\"> $y$ </span> is a function of <span class=\"m\"> $x$ </span>). In <a href=\"https://activecalculus.org/prelude/sec-changing-functions-models.html#F-functions-act-is-it-1\">Figure 1.2.15</a>, any point on the circle relates <span class=\"m\"> $x$ </span> and <span class=\"m\"> $y$ </span>. For instance, the <span class=\"m\"> $y$ </span>-value <span class=\"m\"> $\\sqrt{7}$ </span> is related to the <span class=\"m\"> $x$ </span>-value <span class=\"m\"> $-3$ </span>. In <a href=\"https://activecalculus.org/prelude/sec-changing-functions-models.html#F-functions-act-is-it-2\">Figure 1.2.16</a>, any point on the blue curve relates <span class=\"m\"> $x$ </span> and <span class=\"m\"> $y$ </span>. For instance, when <span class=\"m\"> $x = -1$ </span>, the corresponding <span class=\"m\"> $y$ </span>-value is <span class=\"m\"> $y = 3$ </span>. An unfilled circle indicates that there is not a point on the graph at that specific location. </span> <div class=\"sidebyside\"><div><figure><figcaption><b>Figure 1.2.15.</b> A circle of radius <span class=\"m\"> $4$ </span> centered at <span class=\"m\"> $(0,0)$ </span>.</figcaption><div><img src=\"images/functions-act-is-it-1.svg\"/></div></figure></div><div><figure><figcaption><b>Figure 1.2.16.</b> A graph of a possible function <span class=\"m\"> $g$ </span>.</figcaption><div><img src=\"images/functions-act-is-it-2.svg\"/></div></figure></div></div> </div></div>"
            ]
        },
        {
            "cell_type": "markdown",
            "metadata": {
                "collapsed": false,
                "editable": false
            },
            "source": [
                "<div class=\"not-editable team\"><div><h4>Task B</h4> <span> The relationship between the day of the year and the value of the S&amp;P500 stock index (at the close of trading on a given day), where we attempt to consider the index's value (at the close of trading) as a function of the day of the year. </span> </div></div>"
            ]
        },
        {
            "cell_type": "markdown",
            "metadata": {
                "collapsed": false,
                "editable": false
            },
            "source": [
                "<div class=\"not-editable team\"><div><h4>Task C</h4> <span> The relationship between a car's velocity and its odometer, where we attempt to view the car's odometer reading as a function of its velocity. </span> </div></div>"
            ]
        },
        {
            "cell_type": "markdown",
            "metadata": {
                "collapsed": false,
                "editable": false
            },
            "source": [
                "<div class=\"not-editable team\"><div><h4>Task D</h4> <span> The relationship between <span class=\"m\"> $x$ </span> and <span class=\"m\"> $y$ </span> that is given in the following table where we attempt to view <span class=\"m\"> $y$ </span> as depending on <span class=\"m\"> $x$ </span>. </span> <div><table><caption><b>Table 1.2.17.</b> A table that relates <span class=\"m\"> $x$ </span> and <span class=\"m\"> $y$ </span> values.</caption><tr><td><span class=\"m\"> $x$ </span></td><td><span class=\"m\"> $1$ </span></td><td><span class=\"m\"> $2$ </span></td><td><span class=\"m\"> $3$ </span></td><td><span class=\"m\"> $2$ </span></td><td><span class=\"m\"> $1$ </span></td></tr><tr><td><span class=\"m\"> $y$ </span></td><td><span class=\"m\"> $11$ </span></td><td><span class=\"m\"> $12$ </span></td><td><span class=\"m\"> $13$ </span></td><td><span class=\"m\"> $14$ </span></td><td><span class=\"m\"> $15$ </span></td></tr></table></div> </div></div>"
            ]
        }
    ],
    "nbformat": 4,
    "nbformat_minor": 4
}
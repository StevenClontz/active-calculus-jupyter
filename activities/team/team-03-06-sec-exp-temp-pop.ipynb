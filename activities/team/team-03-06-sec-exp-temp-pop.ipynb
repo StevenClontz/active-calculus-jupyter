{
    "cells": [
        {
            "cell_type": "markdown",
            "metadata": {
                "collapsed": false,
                "editable": false
            },
            "source": [
                "<div class=\"not-editable team\"><style> .not-editable{padding:1em;border-radius:10px;box-shadow:4px 4px 3px #ddd;margin:5px;} .not-editable.individual{background-color:#eefff8;} .not-editable.team{background-color:#eef8ff;} .sidebyside{display:flex;justify-content:center;} .sidebyside > *{margin-right:1em;flex:1;} caption{caption-side:top;white-space: nowrap;color:rgba(0,0,0,.45)}} figcaption{padding-top:0.75em;padding-bottom:0.3em;color:rgba(0,0,0,.45)} .fillin{display:inline-block;width:10em;margin-left:0.2em;margin-right:0.2em;height:1em;border-bottom:1px black solid;} .fn{font-size:0.8em;color:rgba(0,0,0.45)} .newcommands{display:none;} tt{background-color:#f8f8f8;border:1px #888 solid;border-radius:2px;padding-left:0.2em;padding-right:0.2em;} img{background-color:#fff;} </style> <div><h1>Section 3.6 Modeling temperature and population</h1><h2>Team Notebook</h2><div><a href=\"https://activecalculus.org/prelude/sec-exp-temp-pop.html\">https://activecalculus.org/prelude/sec-exp-temp-pop.html</a></div></div></div>"
            ]
        },
        {
            "cell_type": "markdown",
            "metadata": {
                "collapsed": false,
                "editable": false
            },
            "source": [
                "<div class=\"not-editable team\"><h2>Activity 3.6.2</h2></div>"
            ]
        },
        {
            "cell_type": "markdown",
            "metadata": {
                "collapsed": false,
                "editable": false
            },
            "source": [
                "<div class=\"not-editable team\"><span> A can of soda is initially at room temperature, <span class=\"m\"> $72.3^\\circ$ </span> Fahrenheit, and at time <span class=\"m\"> $t = 0$ </span> is placed in a refrigerator set at <span class=\"m\"> $37.7^\\circ$ </span>. In addition, we know that after <span class=\"m\"> $30$ </span> minutes, the soda's temperature has dropped to <span class=\"m\"> $59.5^\\circ$ </span>. </span></div>"
            ]
        },
        {
            "cell_type": "markdown",
            "metadata": {
                "collapsed": false,
                "editable": false
            },
            "source": [
                "<div class=\"not-editable team\"><div><h4>Task A</h4> <span> Use algebraic reasoning and your understanding of the physical situation to determine the exact values of <span class=\"m\"> $a$ </span>, <span class=\"m\"> $c$ </span>, and <span class=\"m\"> $k$ </span> in the model <span class=\"m\"> $F(t) = ae^{-kt}+c$ </span>. Write at least one careful sentence to explain your thinking. </span> </div></div>"
            ]
        },
        {
            "cell_type": "markdown",
            "metadata": {
                "collapsed": false,
                "editable": false
            },
            "source": [
                "<div class=\"not-editable team\"><div><h4>Task B</h4> <span> Determine the exact time the object's temperature is <span class=\"m\"> $42.4^\\circ$ </span>. Clearly show your algebraic work and thinking. </span> </div></div>"
            ]
        },
        {
            "cell_type": "markdown",
            "metadata": {
                "collapsed": false,
                "editable": false
            },
            "source": [
                "<div class=\"not-editable team\"><div><h4>Task C</h4> <span> Find the average rate of change of <span class=\"m\"> $F$ </span> on the interval <span class=\"m\"> $[25,30]$ </span>. What is the meaning (with units) of this value? </span> </div></div>"
            ]
        },
        {
            "cell_type": "markdown",
            "metadata": {
                "collapsed": false,
                "editable": false
            },
            "source": [
                "<div class=\"not-editable team\"><div><h4>Task D</h4> <span> If everything stayed the same except the value of <span class=\"m\"> $F(0)$ </span>, and instead <span class=\"m\"> $F(0) = 65$ </span>, would the value of <span class=\"m\"> $k$ </span> be larger or smaller? Why? </span> </div></div>"
            ]
        },
        {
            "cell_type": "markdown",
            "metadata": {
                "collapsed": false,
                "editable": false
            },
            "source": [
                "<div class=\"not-editable team\"><h2>Activity 3.6.3</h2></div>"
            ]
        },
        {
            "cell_type": "markdown",
            "metadata": {
                "collapsed": false,
                "editable": false
            },
            "source": [
                "<div class=\"not-editable team\"><span> In Desmos, define <span class=\"m\"> $P(t) = \\frac{A}{1 + Me^{-kt}}$ </span> and accept sliders for <span class=\"m\"> $A$ </span>, <span class=\"m\"> $M$ </span>, and <span class=\"m\"> $k$ </span>. Set the slider ranges for these parameters as follows: <span class=\"m\"> $0.01 \\le A \\le 10$ </span>; <span class=\"m\"> $0.01 \\le M \\le 10$ </span>; <span class=\"m\"> $0.01 \\le k \\le 5$ </span>. </span></div>"
            ]
        },
        {
            "cell_type": "markdown",
            "metadata": {
                "collapsed": false,
                "editable": false
            },
            "source": [
                "<div class=\"not-editable team\"><div><h4>Task A</h4> <span> Sketch a typical graph of <span class=\"m\"> $P(t)$ </span> on the axes provided and write several sentences to explain the effects of <span class=\"m\"> $A$ </span>, <span class=\"m\"> $M$ </span>, and <span class=\"m\"> $k$ </span> on the graph of <span class=\"m\"> $P$ </span>. </span> <div><figure><figcaption><b>Figure 3.6.1.</b> Axes for plotting a typical logistic function <span class=\"m\"> $P$ </span>.</figcaption><div><img src=\"images/temp-pop-p-t-blank-axes.svg\"/></div></figure></div> </div></div>"
            ]
        },
        {
            "cell_type": "markdown",
            "metadata": {
                "collapsed": false,
                "editable": false
            },
            "source": [
                "<div class=\"not-editable team\"><div><h4>Task B</h4> <span> On a typical logistic graph, where does it appear that the population is growing most rapidly? How is this value connected to the carrying capacity, <span class=\"m\"> $A$ </span>? </span> </div></div>"
            ]
        },
        {
            "cell_type": "markdown",
            "metadata": {
                "collapsed": false,
                "editable": false
            },
            "source": [
                "<div class=\"not-editable team\"><div><h4>Task C</h4> <span> How does the function <span class=\"m\"> $1 + Me^{-kt}$ </span> behave as <span class=\"m\"> $t$ </span> decreases without bound? What is the algebraic reason that this occurs? </span> </div></div>"
            ]
        },
        {
            "cell_type": "markdown",
            "metadata": {
                "collapsed": false,
                "editable": false
            },
            "source": [
                "<div class=\"not-editable team\"><div><h4>Task D</h4> <span> Use your Desmos worksheet to find a logistic function <span class=\"m\"> $P$ </span> that has the following properties: <span class=\"m\"> $P(0) = 2$ </span>, <span class=\"m\"> $P(2) = 4$ </span>, and <span class=\"m\"> $P(t)$ </span> approaches <span class=\"m\"> $9$ </span> as <span class=\"m\"> $t$ </span> increases without bound. What are the approximate values of <span class=\"m\"> $A$ </span>, <span class=\"m\"> $M$ </span>, and <span class=\"m\"> $k$ </span> that make the function <span class=\"m\"> $P$ </span> fit these criteria? </span> </div></div>"
            ]
        },
        {
            "cell_type": "markdown",
            "metadata": {
                "collapsed": false,
                "editable": false
            },
            "source": [
                "<div class=\"not-editable team\"><h2>Activity 3.6.4</h2></div>"
            ]
        },
        {
            "cell_type": "markdown",
            "metadata": {
                "collapsed": false,
                "editable": false
            },
            "source": [
                "<div class=\"not-editable team\"><span> Suppose that a population of animals that lives on an island (measured in thousands) is known to grow according to the logistic model, where <span class=\"m\"> $t$ </span> is measured in years. We know the following information: <span class=\"m\"> $P(0) = 2.45$ </span>, <span class=\"m\"> $P(3) = 4.52$ </span>, and as <span class=\"m\"> $t$ </span> increases without bound, <span class=\"m\"> $P(t)$ </span> approaches <span class=\"m\"> $11.7$ </span>. </span></div>"
            ]
        },
        {
            "cell_type": "markdown",
            "metadata": {
                "collapsed": false,
                "editable": false
            },
            "source": [
                "<div class=\"not-editable team\"><div><h4>Task A</h4> <span> Determine the exact values of <span class=\"m\"> $A$ </span>, <span class=\"m\"> $M$ </span>, and <span class=\"m\"> $k$ </span> in the logistic model <span class=\"m\"> $$ P(t) = \\frac{A}{1 + Me^{-kt}} $$ </span>. Clearly show your algebraic work and thinking. </span> </div></div>"
            ]
        },
        {
            "cell_type": "markdown",
            "metadata": {
                "collapsed": false,
                "editable": false
            },
            "source": [
                "<div class=\"not-editable team\"><div><h4>Task B</h4> <span> Plot your model from (a) and check that its values match the desired characteristics. Then, compute the average rate of change of <span class=\"m\"> $P$ </span> on the intervals <span class=\"m\"> $[0,2]$ </span>, <span class=\"m\"> $[2,4]$ </span>, <span class=\"m\"> $[4,6]$ </span>, and <span class=\"m\"> $[6,8]$ </span>. What is the meaning (with units) of the values you've found? How is the population growing on these intervals? </span> </div></div>"
            ]
        },
        {
            "cell_type": "markdown",
            "metadata": {
                "collapsed": false,
                "editable": false
            },
            "source": [
                "<div class=\"not-editable team\"><div><h4>Task C</h4> <span> Find the exact time value when the population will be <span class=\"m\"> $10$ </span> (thousand). Show your algebraic work and thinking. </span> </div></div>"
            ]
        }
    ],
    "nbformat": 4,
    "nbformat_minor": 4
}
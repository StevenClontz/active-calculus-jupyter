{
    "cells": [
        {
            "cell_type": "markdown",
            "metadata": {
                "collapsed": false,
                "editable": false
            },
            "source": [
                "<div class=\"not-editable team\"><style> .not-editable{padding:1em;border-radius:10px;box-shadow:4px 4px 3px #ddd;margin:5px;} .not-editable.individual{background-color:#eefff8;} .not-editable.team{background-color:#eef8ff;} .sidebyside{display:flex;justify-content:center;} .sidebyside > *{margin-right:1em;flex:1;} caption{caption-side:top;white-space: nowrap;color:rgba(0,0,0,.45)}} figcaption{padding-top:0.75em;padding-bottom:0.3em;color:rgba(0,0,0,.45)} .fillin{display:inline-block;width:10em;margin-left:0.2em;margin-right:0.2em;height:1em;border-bottom:1px black solid;} .fn{font-size:0.8em;color:rgba(0,0,0.45)} .newcommands{display:none;} tt{background-color:#f8f8f8;border:1px #888 solid;border-radius:2px;padding-left:0.2em;padding-right:0.2em;} img{background-color:#fff;} </style> <div><h1>Section 5.4 Rational Functions</h1><h2>Team Notebook</h2><div><a href=\"https://activecalculus.org/prelude/sec-poly-rational.html\">https://activecalculus.org/prelude/sec-poly-rational.html</a></div></div></div>"
            ]
        },
        {
            "cell_type": "markdown",
            "metadata": {
                "collapsed": false,
                "editable": false
            },
            "source": [
                "<div class=\"not-editable team\"><h2>Activity 5.4.2</h2></div>"
            ]
        },
        {
            "cell_type": "markdown",
            "metadata": {
                "collapsed": false,
                "editable": false
            },
            "source": [
                "<div class=\"not-editable team\"><span> Consider the rational function <span class=\"m\"> $r(x) = \\frac{3x^2 - 5x + 1}{7x^2 + 2x - 11}$ </span>. </span></div>"
            ]
        },
        {
            "cell_type": "markdown",
            "metadata": {
                "collapsed": false,
                "editable": false
            },
            "source": [
                "<div class=\"not-editable team\"><span> Observe that the largest power of <span class=\"m\"> $x$ </span> that's present in <span class=\"m\"> $r(x)$ </span> is <span class=\"m\"> $x^2$ </span>. In addition, because of the dominant terms of <span class=\"m\"> $3x^2$ </span> in the numerator and <span class=\"m\"> $7x^2$ </span> in the denominator, both the numerator and denominator of <span class=\"m\"> $r$ </span> increase without bound as <span class=\"m\"> $x$ </span> increases without bound. In order to understand the long-range behavior of <span class=\"m\"> $r$ </span>, we choose to write the function in a different algebraic form. </span></div>"
            ]
        },
        {
            "cell_type": "markdown",
            "metadata": {
                "collapsed": false,
                "editable": false
            },
            "source": [
                "<div class=\"not-editable team\"><div><h4>Task A</h4> <span> Note that we can multiply the formula for <span class=\"m\"> $r$ </span> by the form of <span class=\"m\"> $1$ </span> given by <span class=\"m\"> $1 = \\frac{\\frac{1}{x^2}}{\\frac{1}{x^2}}$ </span>. Do so, and distribute and simplify as much as possible in both the numerator and denominator to write <span class=\"m\"> $r$ </span> in a different algebraic form. </span> </div></div>"
            ]
        },
        {
            "cell_type": "markdown",
            "metadata": {
                "collapsed": false,
                "editable": false
            },
            "source": [
                "<div class=\"not-editable team\"><div><h4>Task B</h4> <span> Having rewritten <span class=\"m\"> $r$ </span>, we are in a better position to evaluate <span class=\"m\"> $\\lim_{x \\to \\infty} r(x)$ </span>. Using our work from (a), we have <span class=\"m\"> $$ \\lim_{x \\to \\infty} r(x) = \\lim_{x \\to \\infty} \\frac{3 - \\frac{5}{x} + \\frac{1}{x^2}}{7 + \\frac{2}{x} - \\frac{11}{x^2}} $$ </span>. What is the exact value of this limit and why? </span> </div></div>"
            ]
        },
        {
            "cell_type": "markdown",
            "metadata": {
                "collapsed": false,
                "editable": false
            },
            "source": [
                "<div class=\"not-editable team\"><div><h4>Task C</h4> <span> Next, determine <span class=\"m\"> $$ \\lim_{x \\to -\\infty} r(x) = \\lim_{x \\to -\\infty} \\frac{3 - \\frac{5}{x} + \\frac{1}{x^2}}{7 + \\frac{2}{x} - \\frac{11}{x^2}} $$ </span>. </span> </div></div>"
            ]
        },
        {
            "cell_type": "markdown",
            "metadata": {
                "collapsed": false,
                "editable": false
            },
            "source": [
                "<div class=\"not-editable team\"><div><h4>Task D</h4> <span> Use Desmos to plot <span class=\"m\"> $r$ </span> on the interval <span class=\"m\"> $[-10,10]$ </span>. In addition, plot the horizontal line <span class=\"m\"> $y = \\frac{3}{7}$ </span>. What is the meaning of the limits you found in (b) and (c)? </span> </div></div>"
            ]
        },
        {
            "cell_type": "markdown",
            "metadata": {
                "collapsed": false,
                "editable": false
            },
            "source": [
                "<div class=\"not-editable team\"><h2>Activity 5.4.3</h2></div>"
            ]
        },
        {
            "cell_type": "markdown",
            "metadata": {
                "collapsed": false,
                "editable": false
            },
            "source": [
                "<div class=\"not-editable team\"><span> Let <span class=\"m\"> $s(x) = \\frac{3x - 5}{7x^2 + 2x - 11}$ </span> and <span class=\"m\"> $u(x) = \\frac{3x^2 - 5x + 1}{7x + 2}$ </span>. Note that both the numerator and denominator of each of these rational functions increases without bound as <span class=\"m\"> $x \\to \\infty$ </span>, and in addition that <span class=\"m\"> $x^2$ </span> is the highest order term present in each of <span class=\"m\"> $s$ </span> and <span class=\"m\"> $u$ </span>. </span></div>"
            ]
        },
        {
            "cell_type": "markdown",
            "metadata": {
                "collapsed": false,
                "editable": false
            },
            "source": [
                "<div class=\"not-editable team\"><div><h4>Task A</h4> <span> Using a similar algebraic approach to our work in <a href=\"https://activecalculus.org/prelude/sec-poly-rational.html#act-poly-rational-long-term-1\">Activity 5.4.2</a>, multiply <span class=\"m\"> $s(x)$ </span> by <span class=\"m\"> $1 = \\frac{\\frac{1}{x^2}}{\\frac{1}{x^2}}$ </span> and hence evaluate <span class=\"m\"> $$ \\lim_{x \\to \\infty} \\frac{3x - 5}{7x^2 + 2x - 11} $$ </span>. What value do you find? </span> </div></div>"
            ]
        },
        {
            "cell_type": "markdown",
            "metadata": {
                "collapsed": false,
                "editable": false
            },
            "source": [
                "<div class=\"not-editable team\"><div><h4>Task B</h4> <span> Plot the function <span class=\"m\"> $y = s(x)$ </span> on the interval <span class=\"m\"> $[-10,10]$ </span>. What is the graphical meaning of the limit you found in (a)? </span> </div></div>"
            ]
        },
        {
            "cell_type": "markdown",
            "metadata": {
                "collapsed": false,
                "editable": false
            },
            "source": [
                "<div class=\"not-editable team\"><div><h4>Task C</h4> <span> Next, use appropriate algebraic work to consider <span class=\"m\"> $u(x)$ </span> and evaluate <span class=\"m\"> $$ \\lim_{x \\to \\infty} \\frac{3x^2 - 5x + 1}{7x + 2} $$ </span>. What do you find? </span> </div></div>"
            ]
        },
        {
            "cell_type": "markdown",
            "metadata": {
                "collapsed": false,
                "editable": false
            },
            "source": [
                "<div class=\"not-editable team\"><div><h4>Task D</h4> <span> Plot the function <span class=\"m\"> $y = u(x)$ </span> on the interval <span class=\"m\"> $[-10,10]$ </span>. What is the graphical meaning of the limit you computed in (c)? </span> </div></div>"
            ]
        },
        {
            "cell_type": "markdown",
            "metadata": {
                "collapsed": false,
                "editable": false
            },
            "source": [
                "<div class=\"not-editable team\"><h2>Activity 5.4.4</h2></div>"
            ]
        },
        {
            "cell_type": "markdown",
            "metadata": {
                "collapsed": false,
                "editable": false
            },
            "source": [
                "<div class=\"not-editable team\"><span> Determine the domain of each of the following functions. In each case, write a sentence to accurately describe the domain. </span></div>"
            ]
        },
        {
            "cell_type": "markdown",
            "metadata": {
                "collapsed": false,
                "editable": false
            },
            "source": [
                "<div class=\"not-editable team\"><div><h4>Task A</h4> <span> <span class=\"m\"> $\\displaystyle f(x) = \\frac{x^2-1}{x^2 + 1}$ </span> </span> </div></div>"
            ]
        },
        {
            "cell_type": "markdown",
            "metadata": {
                "collapsed": false,
                "editable": false
            },
            "source": [
                "<div class=\"not-editable team\"><div><h4>Task B</h4> <span> <span class=\"m\"> $\\displaystyle g(x) = \\frac{x^2 - 1}{x^2 + 3x - 4}$ </span> </span> </div></div>"
            ]
        },
        {
            "cell_type": "markdown",
            "metadata": {
                "collapsed": false,
                "editable": false
            },
            "source": [
                "<div class=\"not-editable team\"><div><h4>Task C</h4> <span> <span class=\"m\"> $\\displaystyle h(x) = \\frac{1}{x} + \\frac{1}{x-1} + \\frac{1}{x-2}$ </span> </span> </div></div>"
            ]
        },
        {
            "cell_type": "markdown",
            "metadata": {
                "collapsed": false,
                "editable": false
            },
            "source": [
                "<div class=\"not-editable team\"><div><h4>Task D</h4> <span> <span class=\"m\"> $\\displaystyle j(x) = \\frac{(x+5)(x-3)(x+1)(x-4)}{(x+1)(x+3)(x-5)}$ </span> </span> </div></div>"
            ]
        },
        {
            "cell_type": "markdown",
            "metadata": {
                "collapsed": false,
                "editable": false
            },
            "source": [
                "<div class=\"not-editable team\"><div><h4>Task E</h4> <span> <span class=\"m\"> $\\displaystyle k(x) = \\frac{2x^2 + 7}{3x^3 - 12x}$ </span> </span> </div></div>"
            ]
        },
        {
            "cell_type": "markdown",
            "metadata": {
                "collapsed": false,
                "editable": false
            },
            "source": [
                "<div class=\"not-editable team\"><div><h4>Task F</h4> <span> <span class=\"m\"> $\\displaystyle m(x) = \\frac{5x^2 - 45}{7(x-2)(x-3)^2(x^2 + 9)(x+1)}$ </span> </span> </div></div>"
            ]
        },
        {
            "cell_type": "markdown",
            "metadata": {
                "collapsed": false,
                "editable": false
            },
            "source": [
                "<div class=\"not-editable team\"><h2>Activity 5.4.5</h2></div>"
            ]
        },
        {
            "cell_type": "markdown",
            "metadata": {
                "collapsed": false,
                "editable": false
            },
            "source": [
                "<div class=\"not-editable team\"><span> Suppose that we want to build an open rectangular box (that is, without a top) that holds <span class=\"m\"> $15$ </span> cubic feet of volume. If we want one side of the base to be twice as long as the other, how does the amount of material required depend on the shorter side of the base? We investigate this question through the following sequence of prompts. </span></div>"
            ]
        },
        {
            "cell_type": "markdown",
            "metadata": {
                "collapsed": false,
                "editable": false
            },
            "source": [
                "<div class=\"not-editable team\"><div><h4>Task A</h4> <span> Draw a labeled picture of the box. Let <span class=\"m\"> $x$ </span> represent the shorter side of the base and <span class=\"m\"> $h$ </span> the height of the box. What is the length of the longer side of the base in terms of <span class=\"m\"> $x$ </span>? </span> </div></div>"
            ]
        },
        {
            "cell_type": "markdown",
            "metadata": {
                "collapsed": false,
                "editable": false
            },
            "source": [
                "<div class=\"not-editable team\"><div><h4>Task B</h4> <span> Use the given volume constraint to write an equation that relates <span class=\"m\"> $x$ </span> and <span class=\"m\"> $h$ </span>, and solve the equation for <span class=\"m\"> $h$ </span> in terms of <span class=\"m\"> $x$ </span>. </span> </div></div>"
            ]
        },
        {
            "cell_type": "markdown",
            "metadata": {
                "collapsed": false,
                "editable": false
            },
            "source": [
                "<div class=\"not-editable team\"><div><h4>Task C</h4> <span> Determine a formula for the surface area, <span class=\"m\"> $S$ </span>, of the box in terms of <span class=\"m\"> $x$ </span> and <span class=\"m\"> $h$ </span>. </span> </div></div>"
            ]
        },
        {
            "cell_type": "markdown",
            "metadata": {
                "collapsed": false,
                "editable": false
            },
            "source": [
                "<div class=\"not-editable team\"><div><h4>Task D</h4> <span> Using the constraint equation from (b) together with your work in (c), write surface area, <span class=\"m\"> $S$ </span>, as a function of the single variable <span class=\"m\"> $x$ </span>. </span> </div></div>"
            ]
        },
        {
            "cell_type": "markdown",
            "metadata": {
                "collapsed": false,
                "editable": false
            },
            "source": [
                "<div class=\"not-editable team\"><div><h4>Task E</h4> <span> What type of function is <span class=\"m\"> $S$ </span>? What is its domain? </span> </div></div>"
            ]
        },
        {
            "cell_type": "markdown",
            "metadata": {
                "collapsed": false,
                "editable": false
            },
            "source": [
                "<div class=\"not-editable team\"><div><h4>Task F</h4> <span> Plot the function <span class=\"m\"> $S$ </span> using Desmos. What appears to be the least amount of material that can be used to construct the desired box that holds <span class=\"m\"> $15$ </span> cubic feet of volume? </span> </div></div>"
            ]
        }
    ],
    "nbformat": 4,
    "nbformat_minor": 4
}
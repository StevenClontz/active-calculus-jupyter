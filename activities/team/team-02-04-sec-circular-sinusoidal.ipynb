{
    "cells": [
        {
            "cell_type": "markdown",
            "metadata": {
                "collapsed": false,
                "editable": false
            },
            "source": [
                "<div class=\"not-editable team\"><style> .not-editable{padding:1em;border-radius:10px;box-shadow:4px 4px 3px #ddd;margin:5px;} .not-editable.individual{background-color:#eefff8;} .not-editable.team{background-color:#eef8ff;} .sidebyside{display:flex;justify-content:center;} .sidebyside > *{margin-right:1em;flex:1;} caption{caption-side:top;white-space: nowrap;color:rgba(0,0,0,.45)}} figcaption{padding-top:0.75em;padding-bottom:0.3em;color:rgba(0,0,0,.45)} .fillin{display:inline-block;width:10em;margin-left:0.2em;margin-right:0.2em;height:1em;border-bottom:1px black solid;} .fn{font-size:0.8em;color:rgba(0,0,0.45)} .newcommands{display:none;} tt{background-color:#f8f8f8;border:1px #888 solid;border-radius:2px;padding-left:0.2em;padding-right:0.2em;} img{background-color:#fff;} </style> <div><h1>Section 2.4 Sinusoidal Functions</h1><h2>Team Notebook</h2><div><a href=\"https://activecalculus.org/prelude/sec-circular-sinusoidal.html\">https://activecalculus.org/prelude/sec-circular-sinusoidal.html</a></div></div></div>"
            ]
        },
        {
            "cell_type": "markdown",
            "metadata": {
                "collapsed": false,
                "editable": false
            },
            "source": [
                "<div class=\"not-editable team\"><h2>Activity 2.4.2</h2></div>"
            ]
        },
        {
            "cell_type": "markdown",
            "metadata": {
                "collapsed": false,
                "editable": false
            },
            "source": [
                "<div class=\"not-editable team\"><span> Consider a spring-mass system where a weight is resting on a frictionless table. We let <span class=\"m\"> $d(t)$ </span> denote the distance from the wall (where the spring is attached) to the weight at time <span class=\"m\"> $t$ </span> in seconds and know that the weight oscillates periodically with a minimum value of <span class=\"m\"> $d(t) = 2$ </span> feet and a maximum value of <span class=\"m\"> $d(t) = 7$ </span> feet with a period of <span class=\"m\"> $2 \\pi$ </span>. We also know that <span class=\"m\"> $d(0) = 4.5$ </span> and <span class=\"m\"> $d\\left(\\frac{\\pi}{2}\\right) = 2$ </span>. </span></div>"
            ]
        },
        {
            "cell_type": "markdown",
            "metadata": {
                "collapsed": false,
                "editable": false
            },
            "source": [
                "<div class=\"not-editable team\"><span> Determine a formula for <span class=\"m\"> $d(t)$ </span> in the form <span class=\"m\"> $d(t) = a\\cos(t-b)+c$ </span> or <span class=\"m\"> $d(t) = a\\sin(t-b)+c$ </span>. Is it possible to find two different formulas that work? For any formula you find, identify the anchor point. </span></div>"
            ]
        },
        {
            "cell_type": "markdown",
            "metadata": {
                "collapsed": false,
                "editable": false
            },
            "source": [
                "<div class=\"not-editable team\"><h2>Activity 2.4.3</h2></div>"
            ]
        },
        {
            "cell_type": "markdown",
            "metadata": {
                "collapsed": false,
                "editable": false
            },
            "source": [
                "<div class=\"not-editable team\"><span> Consider the functions <span class=\"m\"> $f$ </span> and <span class=\"m\"> $g$ </span> given in <a href=\"https://activecalculus.org/prelude/sec-circular-sinusoidal.html#F-act-horiz-stretch-f\">Figure 2.4.3</a> and <a href=\"https://activecalculus.org/prelude/sec-circular-sinusoidal.html#F-act-horiz-stretch-g\">Figure 2.4.4</a>. </span></div>"
            ]
        },
        {
            "cell_type": "markdown",
            "metadata": {
                "collapsed": false,
                "editable": false
            },
            "source": [
                "<div class=\"not-editable team\"><div class=\"sidebyside\"><div><figure><figcaption><b>Figure 2.4.3.</b> A parent function <span class=\"m\"> $f$ </span>.</figcaption><div><img src=\"images/sinusoidal-horiz-scaling-1.svg\"/></div></figure></div><div><figure><figcaption><b>Figure 2.4.4.</b> A parent function <span class=\"m\"> $g$ </span>.</figcaption><div><img src=\"images/sinusoidal-horiz-scaling-2.svg\"/></div></figure></div></div></div>"
            ]
        },
        {
            "cell_type": "markdown",
            "metadata": {
                "collapsed": false,
                "editable": false
            },
            "source": [
                "<div class=\"not-editable team\"><div><h4>Task A</h4> <span> On the same axes as the plot of <span class=\"m\"> $y = f(t)$ </span>, sketch the following graphs: <span class=\"m\"> $y = h(t) = f(\\frac{1}{3}t)$ </span> and <span class=\"m\"> $y = j(t) = r=f(4t)$ </span>. Be sure to label several points on each of <span class=\"m\"> $f$ </span>, <span class=\"m\"> $h$ </span>, and <span class=\"m\"> $k$ </span> with arrows to indicate their correspondence. In addition, write one sentence to explain the overall transformations that have resulted in <span class=\"m\"> $h$ </span> and <span class=\"m\"> $j$ </span> from <span class=\"m\"> $f$ </span>. </span> </div></div>"
            ]
        },
        {
            "cell_type": "markdown",
            "metadata": {
                "collapsed": false,
                "editable": false
            },
            "source": [
                "<div class=\"not-editable team\"><div><h4>Task B</h4> <span> On the same axes as the plot of <span class=\"m\"> $y = g(t)$ </span>, sketch the following graphs: <span class=\"m\"> $y = k(t) = g(2t)$ </span> and <span class=\"m\"> $y = m(t) = g(\\frac{1}{2}t)$ </span>. Be sure to label several points on each of <span class=\"m\"> $g$ </span>, <span class=\"m\"> $k$ </span>, and <span class=\"m\"> $m$ </span> with arrows to indicate their correspondence. In addition, write one sentence to explain the overall transformations that have resulted in <span class=\"m\"> $k$ </span> and <span class=\"m\"> $m$ </span> from <span class=\"m\"> $g$ </span>. </span> </div></div>"
            ]
        },
        {
            "cell_type": "markdown",
            "metadata": {
                "collapsed": false,
                "editable": false
            },
            "source": [
                "<div class=\"not-editable team\"><div><h4>Task C</h4> <span> On the additional copies of the two figures below, sketch the graphs of the following transformed functions: <span class=\"m\"> $y = r(t) = 2f(\\frac{1}{2}t)$ </span> (at left) and <span class=\"m\"> $y = s(t) = \\frac{1}{2}g(2t)$ </span>. As above, be sure to label several points on each graph and indicate their correspondence to points on the original parent function. </span> <div class=\"sidebyside\"><div><img src=\"images/sinusoidal-horiz-scaling-1.svg\"/></div><div><img src=\"images/sinusoidal-horiz-scaling-2.svg\"/></div></div> </div></div>"
            ]
        },
        {
            "cell_type": "markdown",
            "metadata": {
                "collapsed": false,
                "editable": false
            },
            "source": [
                "<div class=\"not-editable team\"><div><h4>Task D</h4> <span> Describe in words how the function <span class=\"m\"> $y = r(t) = 2f(\\frac{1}{2}t)$ </span> is the result of two elementary transformations of <span class=\"m\"> $y = f(t)$ </span>. Does the order in which these transformations occur matter? Why or why not? </span> </div></div>"
            ]
        },
        {
            "cell_type": "markdown",
            "metadata": {
                "collapsed": false,
                "editable": false
            },
            "source": [
                "<div class=\"not-editable team\"><h2>Activity 2.4.4</h2></div>"
            ]
        },
        {
            "cell_type": "markdown",
            "metadata": {
                "collapsed": false,
                "editable": false
            },
            "source": [
                "<div class=\"not-editable team\"><span> Determine the exact period, amplitude, and midline of each of the following functions. In addition, state the range of each function, any horizontal shift that has been introduced to the graph, and identify an anchor point. Make your conclusions without consulting Desmos, and then use the program to check your work. </span></div>"
            ]
        },
        {
            "cell_type": "markdown",
            "metadata": {
                "collapsed": false,
                "editable": false
            },
            "source": [
                "<div class=\"not-editable team\"><div><h4>Task A</h4> <span> <span class=\"m\"> $p(x) = \\sin(10x) + 2$ </span> </span> </div></div>"
            ]
        },
        {
            "cell_type": "markdown",
            "metadata": {
                "collapsed": false,
                "editable": false
            },
            "source": [
                "<div class=\"not-editable team\"><div><h4>Task B</h4> <span> <span class=\"m\"> $q(x) = -3\\cos(0.25x) - 4$ </span> </span> </div></div>"
            ]
        },
        {
            "cell_type": "markdown",
            "metadata": {
                "collapsed": false,
                "editable": false
            },
            "source": [
                "<div class=\"not-editable team\"><div><h4>Task C</h4> <span> <span class=\"m\"> $r(x) = 2\\sin\\left( \\frac{\\pi}{4} x\\right) + 5$ </span> </span> </div></div>"
            ]
        },
        {
            "cell_type": "markdown",
            "metadata": {
                "collapsed": false,
                "editable": false
            },
            "source": [
                "<div class=\"not-editable team\"><div><h4>Task D</h4> <span> <span class=\"m\"> $w(x) = 2\\cos\\left( \\frac{\\pi}{2} (x-3) \\right) + 5$ </span> </span> </div></div>"
            ]
        },
        {
            "cell_type": "markdown",
            "metadata": {
                "collapsed": false,
                "editable": false
            },
            "source": [
                "<div class=\"not-editable team\"><div><h4>Task E</h4> <span> <span class=\"m\"> $u(x) = -0.25\\sin\\left(3x-6\\right) + 5$ </span> </span> </div></div>"
            ]
        },
        {
            "cell_type": "markdown",
            "metadata": {
                "collapsed": false,
                "editable": false
            },
            "source": [
                "<div class=\"not-editable team\"><h2>Activity 2.4.5</h2></div>"
            ]
        },
        {
            "cell_type": "markdown",
            "metadata": {
                "collapsed": false,
                "editable": false
            },
            "source": [
                "<div class=\"not-editable team\"><span> Consider a spring-mass system where the weight is hanging from the ceiling in such a way that the following is known: we let <span class=\"m\"> $d(t)$ </span> denote the distance from the ceiling to the weight at time <span class=\"m\"> $t$ </span> in seconds and know that the weight oscillates periodically with a minimum value of <span class=\"m\"> $d(t) = 1.5$ </span> and a maximum value of <span class=\"m\"> $d(t) = 4$ </span>, with a period of <span class=\"m\"> $3$ </span>, and you know <span class=\"m\"> $d(0.5) = 2.75$ </span> and <span class=\"m\"> $d\\left(1.25\\right) = 4$ </span>. </span></div>"
            ]
        },
        {
            "cell_type": "markdown",
            "metadata": {
                "collapsed": false,
                "editable": false
            },
            "source": [
                "<div class=\"not-editable team\"><span> State the midline, amplitude, range, and an anchor point for the function, and hence determine a formula for <span class=\"m\"> $d(t)$ </span> in the form <span class=\"m\"> $a\\cos(k(t+b))+c$ </span> or <span class=\"m\"> $a\\sin(k(t+b))+c$ </span>. Show your work and thinking, and use Desmos appropriately to check that your formula generates the desired behavior. </span></div>"
            ]
        }
    ],
    "nbformat": 4,
    "nbformat_minor": 4
}
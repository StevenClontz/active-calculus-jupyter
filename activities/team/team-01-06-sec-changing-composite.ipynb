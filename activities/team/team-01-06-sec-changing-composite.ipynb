{
    "cells": [
        {
            "cell_type": "markdown",
            "metadata": {
                "collapsed": false,
                "editable": false
            },
            "source": [
                "<div class=\"not-editable team\"><style> .not-editable{padding:1em;border-radius:10px;box-shadow:4px 4px 3px #ddd;margin:5px;} .not-editable.individual{background-color:#eefff8;} .not-editable.team{background-color:#eef8ff;} .sidebyside{display:flex;justify-content:center;} .sidebyside > *{margin-right:1em;flex:1;} caption{caption-side:top;white-space: nowrap;color:rgba(0,0,0,.45)}} figcaption{padding-top:0.75em;padding-bottom:0.3em;color:rgba(0,0,0,.45)} .fillin{display:inline-block;width:10em;margin-left:0.2em;margin-right:0.2em;height:1em;border-bottom:1px black solid;} .fn{font-size:0.8em;color:rgba(0,0,0.45)} .newcommands{display:none;} tt{background-color:#f8f8f8;border:1px #888 solid;border-radius:2px;padding-left:0.2em;padding-right:0.2em;} img{background-color:#fff;} </style> <div><h1>Section 1.6 Composite Functions</h1><h2>Team Notebook</h2><div><a href=\"https://activecalculus.org/prelude/sec-changing-composite.html\">https://activecalculus.org/prelude/sec-changing-composite.html</a></div></div></div>"
            ]
        },
        {
            "cell_type": "markdown",
            "metadata": {
                "collapsed": false,
                "editable": false
            },
            "source": [
                "<div class=\"not-editable team\"><h2>Activity 1.6.2</h2></div>"
            ]
        },
        {
            "cell_type": "markdown",
            "metadata": {
                "collapsed": false,
                "editable": false
            },
            "source": [
                "<div class=\"not-editable team\"><span> Let functions <span class=\"m\"> $p$ </span> and <span class=\"m\"> $q$ </span> be given by the graphs in <a href=\"https://activecalculus.org/prelude/sec-changing-composite.html#F-act-changing-composite-tables-graphs\">Figure 1.6.4</a> (which are each piecewise linear - that is, parts that look like straight lines are straight lines) and let <span class=\"m\"> $f$ </span> and <span class=\"m\"> $g$ </span> be given by <a href=\"https://activecalculus.org/prelude/sec-changing-composite.html#T-act-changing-composite-tables-graphs\">Table 1.6.3</a>. </span></div>"
            ]
        },
        {
            "cell_type": "markdown",
            "metadata": {
                "collapsed": false,
                "editable": false
            },
            "source": [
                "<div class=\"not-editable team\"><div class=\"sidebyside\"><div><table><caption><b>Table 1.6.3.</b> Table that defines <span class=\"m\"> $f$ </span> and <span class=\"m\"> $g$ </span>.</caption><tr><td><span class=\"m\"> $x$ </span></td><td>0</td><td>1</td><td>2</td><td>3</td><td>4</td></tr><tr><td><span class=\"m\"> $f(x)$ </span></td><td>6</td><td>4</td><td>3</td><td>4</td><td>6</td></tr><tr><td><span class=\"m\"> $g(x)$ </span></td><td>1</td><td>3</td><td>0</td><td>4</td><td>2</td></tr></table></div><div><figure><figcaption><b>Figure 1.6.4.</b> The graphs of <span class=\"m\"> $p$ </span> and <span class=\"m\"> $q$ </span>.</figcaption><div><img src=\"images/composite-act-graphs.svg\"/></div></figure></div></div></div>"
            ]
        },
        {
            "cell_type": "markdown",
            "metadata": {
                "collapsed": false,
                "editable": false
            },
            "source": [
                "<div class=\"not-editable team\"><span> Compute each of the following quantities or explain why they are not defined. </span></div>"
            ]
        },
        {
            "cell_type": "markdown",
            "metadata": {
                "collapsed": false,
                "editable": false
            },
            "source": [
                "<div class=\"not-editable team\"><div><h4>Task A</h4> <span> <span class=\"m\"> $p(q(0))$ </span> </span> </div></div>"
            ]
        },
        {
            "cell_type": "markdown",
            "metadata": {
                "collapsed": false,
                "editable": false
            },
            "source": [
                "<div class=\"not-editable team\"><div><h4>Task B</h4> <span> <span class=\"m\"> $q(p(0))$ </span> </span> </div></div>"
            ]
        },
        {
            "cell_type": "markdown",
            "metadata": {
                "collapsed": false,
                "editable": false
            },
            "source": [
                "<div class=\"not-editable team\"><div><h4>Task C</h4> <span class=\"m\"> $(p \\circ p)(-1)$ </span> </div></div>"
            ]
        },
        {
            "cell_type": "markdown",
            "metadata": {
                "collapsed": false,
                "editable": false
            },
            "source": [
                "<div class=\"not-editable team\"><div><h4>Task D</h4> <span> <span class=\"m\"> $(f \\circ g)(2)$ </span> </span> </div></div>"
            ]
        },
        {
            "cell_type": "markdown",
            "metadata": {
                "collapsed": false,
                "editable": false
            },
            "source": [
                "<div class=\"not-editable team\"><div><h4>Task E</h4> <span> <span class=\"m\"> $(g \\circ f)(3)$ </span> </span> </div></div>"
            ]
        },
        {
            "cell_type": "markdown",
            "metadata": {
                "collapsed": false,
                "editable": false
            },
            "source": [
                "<div class=\"not-editable team\"><div><h4>Task F</h4> <span> <span class=\"m\"> $g(f(0))$ </span> </span> </div></div>"
            ]
        },
        {
            "cell_type": "markdown",
            "metadata": {
                "collapsed": false,
                "editable": false
            },
            "source": [
                "<div class=\"not-editable team\"><div><h4>Task G</h4> <span> For what value(s) of <span class=\"m\"> $x$ </span> is <span class=\"m\"> $f(g(x)) = 4$ </span>? </span> </div></div>"
            ]
        },
        {
            "cell_type": "markdown",
            "metadata": {
                "collapsed": false,
                "editable": false
            },
            "source": [
                "<div class=\"not-editable team\"><div><h4>Task H</h4> <span> For what value(s) of <span class=\"m\"> $x$ </span> is <span class=\"m\"> $q(p(x)) = 1$ </span>? </span> </div></div>"
            ]
        },
        {
            "cell_type": "markdown",
            "metadata": {
                "collapsed": false,
                "editable": false
            },
            "source": [
                "<div class=\"not-editable team\"><h2>Activity 1.6.3</h2></div>"
            ]
        },
        {
            "cell_type": "markdown",
            "metadata": {
                "collapsed": false,
                "editable": false
            },
            "source": [
                "<div class=\"not-editable team\"><span> Let <span class=\"m\"> $F = D(N) = 40 + 0.25N$ </span> be Dolbear's function that converts an input of number of chirps per minute to degrees Fahrenheit, and let <span class=\"m\"> $C = G(F) = \\frac{5}{9}(F-32)$ </span> be the function that converts an input of degrees Fahrenheit to an output of degrees Celsius. </span></div>"
            ]
        },
        {
            "cell_type": "markdown",
            "metadata": {
                "collapsed": false,
                "editable": false
            },
            "source": [
                "<div class=\"not-editable team\"><div><h4>Task A</h4> <span> Determine a formula for the new function <span class=\"m\"> $H = (G \\circ D)$ </span> that depends only on the variable <span class=\"m\"> $N$ </span>. </span> </div></div>"
            ]
        },
        {
            "cell_type": "markdown",
            "metadata": {
                "collapsed": false,
                "editable": false
            },
            "source": [
                "<div class=\"not-editable team\"><div><h4>Task B</h4> <span> What is the meaning of the function you found in (a)? </span> </div></div>"
            ]
        },
        {
            "cell_type": "markdown",
            "metadata": {
                "collapsed": false,
                "editable": false
            },
            "source": [
                "<div class=\"not-editable team\"><div><h4>Task C</h4> <span> How does a plot of the function <span class=\"m\"> $H = (G \\circ D)$ </span> compare to that of Dolbear's function? Sketch a plot of <span class=\"m\"> $y = H(N) = (G \\circ D)(N)$ </span> on the blank axes to the right of the plot of Dolbear's function, and discuss the similarities and differences between them. Be sure to label the vertical scale on your axes. </span> <div class=\"sidebyside\"><div><figure><figcaption><b>Figure 1.6.5.</b> Dolbear's function.</figcaption><div><img src=\"images/functions-Dolbears-Law.svg\"/></div></figure></div><div><figure><figcaption><b>Figure 1.6.6.</b> Blank axes to plot <span class=\"m\"> $H = (G \\circ D)(N)$ </span>.</figcaption><div><img src=\"images/composite-Dolbears-Law-celcius-blank.svg\"/></div></figure></div></div> </div></div>"
            ]
        },
        {
            "cell_type": "markdown",
            "metadata": {
                "collapsed": false,
                "editable": false
            },
            "source": [
                "<div class=\"not-editable team\"><div><h4>Task D</h4> <span> What is the domain of the function <span class=\"m\"> $H = G \\circ D$ </span>? What is its range? </span> </div></div>"
            ]
        },
        {
            "cell_type": "markdown",
            "metadata": {
                "collapsed": false,
                "editable": false
            },
            "source": [
                "<div class=\"not-editable team\"><h2>Activity 1.6.4</h2></div>"
            ]
        },
        {
            "cell_type": "markdown",
            "metadata": {
                "collapsed": false,
                "editable": false
            },
            "source": [
                "<div class=\"not-editable team\"><span> Let <span class=\"m\"> $f(x) = 2x^2 - 3x + 1$ </span> and <span class=\"m\"> $g(x) = \\frac{5}{x}$ </span>. </span></div>"
            ]
        },
        {
            "cell_type": "markdown",
            "metadata": {
                "collapsed": false,
                "editable": false
            },
            "source": [
                "<div class=\"not-editable team\"><div><h4>Task A</h4> <span> Compute <span class=\"m\"> $f(1+h)$ </span> and expand and simplify the result as much as possible by combining like terms. </span> </div></div>"
            ]
        },
        {
            "cell_type": "markdown",
            "metadata": {
                "collapsed": false,
                "editable": false
            },
            "source": [
                "<div class=\"not-editable team\"><div><h4>Task B</h4> <span> Determine the most simplified expression you can for the average rate of change of <span class=\"m\"> $f$ </span> on the interval <span class=\"m\"> $[1,1+h]$ </span>. That is, determine <span class=\"m\"> $AV_{[1,1+h]}$ </span> for <span class=\"m\"> $f$ </span> and simplify the result as much as possible. </span> </div></div>"
            ]
        },
        {
            "cell_type": "markdown",
            "metadata": {
                "collapsed": false,
                "editable": false
            },
            "source": [
                "<div class=\"not-editable team\"><div><h4>Task C</h4> <span> Compute <span class=\"m\"> $g(1+h)$ </span>. Is there any valid algebra you can do to write <span class=\"m\"> $g(1+h)$ </span> more simply? </span> </div></div>"
            ]
        },
        {
            "cell_type": "markdown",
            "metadata": {
                "collapsed": false,
                "editable": false
            },
            "source": [
                "<div class=\"not-editable team\"><div><h4>Task D</h4> <span> Determine the most simplified expression you can for the average rate of change of <span class=\"m\"> $g$ </span> on the interval <span class=\"m\"> $[1,1+h]$ </span>. That is, determine <span class=\"m\"> $AV_{[1,1+h]}$ </span> for <span class=\"m\"> $g$ </span> and simplify the result. </span> </div></div>"
            ]
        }
    ],
    "nbformat": 4,
    "nbformat_minor": 4
}
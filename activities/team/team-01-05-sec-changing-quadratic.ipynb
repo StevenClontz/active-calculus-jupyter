{
    "cells": [
        {
            "cell_type": "markdown",
            "metadata": {
                "collapsed": false,
                "editable": false
            },
            "source": [
                "<div class=\"not-editable team\"><style> .not-editable{padding:1em;border-radius:10px;box-shadow:4px 4px 3px #ddd;margin:5px;} .not-editable.individual{background-color:#eefff8;} .not-editable.team{background-color:#eef8ff;} .sidebyside{display:flex;justify-content:center;} .sidebyside > *{margin-right:1em;flex:1;} caption{caption-side:top;white-space: nowrap;color:rgba(0,0,0,.45)}} figcaption{padding-top:0.75em;padding-bottom:0.3em;color:rgba(0,0,0,.45)} .fillin{display:inline-block;width:10em;margin-left:0.2em;margin-right:0.2em;height:1em;border-bottom:1px black solid;} .fn{font-size:0.8em;color:rgba(0,0,0.45)} .newcommands{display:none;} tt{background-color:#f8f8f8;border:1px #888 solid;border-radius:2px;padding-left:0.2em;padding-right:0.2em;} img{background-color:#fff;} </style> <div><h1>Section 1.5 Quadratic Functions</h1><h2>Team Notebook</h2><div><a href=\"https://activecalculus.org/prelude/sec-changing-quadratic.html\">https://activecalculus.org/prelude/sec-changing-quadratic.html</a></div></div></div>"
            ]
        },
        {
            "cell_type": "markdown",
            "metadata": {
                "collapsed": false,
                "editable": false
            },
            "source": [
                "<div class=\"not-editable team\"><h2>Activity 1.5.2</h2></div>"
            ]
        },
        {
            "cell_type": "markdown",
            "metadata": {
                "collapsed": false,
                "editable": false
            },
            "source": [
                "<div class=\"not-editable team\"><span> Open a browser and point it to Desmos. In Desmos, enter q(x) = ax^2 + bx + c; you will be prompted to add sliders for <span class=\"m\"> $a$ </span>, <span class=\"m\"> $b$ </span>, and <span class=\"m\"> $c$ </span>. Do so. Then begin exploring with the sliders and respond to the following questions. </span></div>"
            ]
        },
        {
            "cell_type": "markdown",
            "metadata": {
                "collapsed": false,
                "editable": false
            },
            "source": [
                "<div class=\"not-editable team\"><div><h4>Task A</h4> <span> Describe how changing the value of <span class=\"m\"> $a$ </span> impacts the graph of <span class=\"m\"> $q$ </span>. </span> </div></div>"
            ]
        },
        {
            "cell_type": "markdown",
            "metadata": {
                "collapsed": false,
                "editable": false
            },
            "source": [
                "<div class=\"not-editable team\"><div><h4>Task B</h4> <span> Describe how changing the value of <span class=\"m\"> $b$ </span> impacts the graph of <span class=\"m\"> $q$ </span>. </span> </div></div>"
            ]
        },
        {
            "cell_type": "markdown",
            "metadata": {
                "collapsed": false,
                "editable": false
            },
            "source": [
                "<div class=\"not-editable team\"><div><h4>Task C</h4> <span> Describe how changing the value of <span class=\"m\"> $c$ </span> impacts the graph of <span class=\"m\"> $q$ </span>. </span> </div></div>"
            ]
        },
        {
            "cell_type": "markdown",
            "metadata": {
                "collapsed": false,
                "editable": false
            },
            "source": [
                "<div class=\"not-editable team\"><div><h4>Task D</h4> <span> Which parameter seems to have the simplest effect? Which parameter seems to have the most complicated effect? Why? </span> </div></div>"
            ]
        },
        {
            "cell_type": "markdown",
            "metadata": {
                "collapsed": false,
                "editable": false
            },
            "source": [
                "<div class=\"not-editable team\"><div><h4>Task E</h4> <span> Is it possible to find a formula for a quadratic function that passes through the points <span class=\"m\"> $(0,8)$ </span>, <span class=\"m\"> $(1,12)$ </span>, <span class=\"m\"> $(2,12)$ </span>? If yes, do so; if not, explain why not. </span> </div></div>"
            ]
        },
        {
            "cell_type": "markdown",
            "metadata": {
                "collapsed": false,
                "editable": false
            },
            "source": [
                "<div class=\"not-editable team\"><h2>Activity 1.5.3</h2></div>"
            ]
        },
        {
            "cell_type": "markdown",
            "metadata": {
                "collapsed": false,
                "editable": false
            },
            "source": [
                "<div class=\"not-editable team\"><span> Reason algebraically using appropriate properties of quadratic functions to answer the following questions. Use Desmos to check your results graphically. </span></div>"
            ]
        },
        {
            "cell_type": "markdown",
            "metadata": {
                "collapsed": false,
                "editable": false
            },
            "source": [
                "<div class=\"not-editable team\"><div><h4>Task A</h4> <span> How many quadratic functions have <span class=\"m\"> $x$ </span>-intercepts at <span class=\"m\"> $(-5,0)$ </span> and <span class=\"m\"> $(10,0)$ </span> and a <span class=\"m\"> $y$ </span>-intercept at <span class=\"m\"> $(0,-1)$ </span>? Can you determine an exact formula for such a function? If yes, do so. If not, explain why. </span> </div></div>"
            ]
        },
        {
            "cell_type": "markdown",
            "metadata": {
                "collapsed": false,
                "editable": false
            },
            "source": [
                "<div class=\"not-editable team\"><div><h4>Task B</h4> <span> Suppose that a quadratic function has vertex <span class=\"m\"> $(-3,-4)$ </span> and opens upward. How many <span class=\"m\"> $x$ </span>-intercepts can you guarantee the function has? Why? </span> </div></div>"
            ]
        },
        {
            "cell_type": "markdown",
            "metadata": {
                "collapsed": false,
                "editable": false
            },
            "source": [
                "<div class=\"not-editable team\"><div><h4>Task C</h4> <span> In addition to the information in (b), suppose you know that <span class=\"m\"> $q(-1) = -3$ </span>. Can you determine an exact formula for <span class=\"m\"> $q$ </span>? If yes, do so. If not, explain why. </span> </div></div>"
            ]
        },
        {
            "cell_type": "markdown",
            "metadata": {
                "collapsed": false,
                "editable": false
            },
            "source": [
                "<div class=\"not-editable team\"><div><h4>Task D</h4> <span> Does the quadratic function <span class=\"m\"> $p(x) = -3(x+1)^2 + 9$ </span> have <span class=\"m\"> $0$ </span>, <span class=\"m\"> $1$ </span>, or <span class=\"m\"> $2$ </span> <span class=\"m\"> $x$ </span>-intercepts? Reason algebraically to determine the exact values of any such intercepts or explain why none exist. </span> </div></div>"
            ]
        },
        {
            "cell_type": "markdown",
            "metadata": {
                "collapsed": false,
                "editable": false
            },
            "source": [
                "<div class=\"not-editable team\"><div><h4>Task E</h4> <span> Does the quadratic function <span class=\"m\"> $w(x) = -2x^2 + 10x - 20$ </span> have <span class=\"m\"> $0$ </span>, <span class=\"m\"> $1$ </span>, or <span class=\"m\"> $2$ </span> <span class=\"m\"> $x$ </span>-intercepts? Reason algebraically to determine the exact values of any such intercepts or explain why none exist. </span> </div></div>"
            ]
        },
        {
            "cell_type": "markdown",
            "metadata": {
                "collapsed": false,
                "editable": false
            },
            "source": [
                "<div class=\"not-editable team\"><h2>Activity 1.5.4</h2></div>"
            ]
        },
        {
            "cell_type": "markdown",
            "metadata": {
                "collapsed": false,
                "editable": false
            },
            "source": [
                "<div class=\"not-editable team\"><span> A water balloon is tossed vertically from a window at an initial height of 37 feet and with an initial velocity of 41 feet per second. </span></div>"
            ]
        },
        {
            "cell_type": "markdown",
            "metadata": {
                "collapsed": false,
                "editable": false
            },
            "source": [
                "<div class=\"not-editable team\"><div><h4>Task A</h4> <span> Determine a formula, <span class=\"m\"> $s(t)$ </span>, for the function that models the height of the water balloon at time <span class=\"m\"> $t$ </span>. </span> </div></div>"
            ]
        },
        {
            "cell_type": "markdown",
            "metadata": {
                "collapsed": false,
                "editable": false
            },
            "source": [
                "<div class=\"not-editable team\"><div><h4>Task B</h4> <span> Plot the function in Desmos in an appropriate window. </span> </div></div>"
            ]
        },
        {
            "cell_type": "markdown",
            "metadata": {
                "collapsed": false,
                "editable": false
            },
            "source": [
                "<div class=\"not-editable team\"><div><h4>Task C</h4> <span> Use the graph to estimate the time the water balloon lands. </span> </div></div>"
            ]
        },
        {
            "cell_type": "markdown",
            "metadata": {
                "collapsed": false,
                "editable": false
            },
            "source": [
                "<div class=\"not-editable team\"><div><h4>Task D</h4> <span> Use algebra to find the exact time the water balloon lands. </span> </div></div>"
            ]
        },
        {
            "cell_type": "markdown",
            "metadata": {
                "collapsed": false,
                "editable": false
            },
            "source": [
                "<div class=\"not-editable team\"><div><h4>Task E</h4> <span> Determine the exact time the water balloon reaches its highest point and its height at that time. </span> </div></div>"
            ]
        },
        {
            "cell_type": "markdown",
            "metadata": {
                "collapsed": false,
                "editable": false
            },
            "source": [
                "<div class=\"not-editable team\"><div><h4>Task F</h4> <span> Compute the average rate of change of <span class=\"m\"> $s$ </span> on the intervals <span class=\"m\"> $[1.5, 2]$ </span>, <span class=\"m\"> $[2, 2.5]$ </span>, <span class=\"m\"> $[2.5,3]$ </span>. Include units on your answers and write one sentence to explain the meaning of the values you found. Sketch appropriate lines on the graph of <span class=\"m\"> $s$ </span> whose respective slopes are the values of these average rates of change. </span> </div></div>"
            ]
        }
    ],
    "nbformat": 4,
    "nbformat_minor": 4
}
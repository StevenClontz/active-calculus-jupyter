{
    "cells": [
        {
            "cell_type": "markdown",
            "metadata": {
                "collapsed": false,
                "editable": false
            },
            "source": [
                "<div class=\"not-editable team\"><style> .not-editable{padding:1em;border-radius:10px;box-shadow:4px 4px 3px #ddd;margin:5px;} .not-editable.individual{background-color:#eefff8;} .not-editable.team{background-color:#eef8ff;} .sidebyside{display:flex;justify-content:center;} .sidebyside > *{margin-right:1em;flex:1;} caption{caption-side:top;white-space: nowrap;color:rgba(0,0,0,.45)}} figcaption{padding-top:0.75em;padding-bottom:0.3em;color:rgba(0,0,0,.45)} .fillin{display:inline-block;width:10em;margin-left:0.2em;margin-right:0.2em;height:1em;border-bottom:1px black solid;} .fn{font-size:0.8em;color:rgba(0,0,0.45)} .newcommands{display:none;} tt{background-color:#f8f8f8;border:1px #888 solid;border-radius:2px;padding-left:0.2em;padding-right:0.2em;} img{background-color:#fff;} </style> <div><h1>Section 1.4 Linear Functions</h1><h2>Team Notebook</h2><div><a href=\"https://activecalculus.org/prelude/sec-changing-linear.html\">https://activecalculus.org/prelude/sec-changing-linear.html</a></div></div></div>"
            ]
        },
        {
            "cell_type": "markdown",
            "metadata": {
                "collapsed": false,
                "editable": false
            },
            "source": [
                "<div class=\"not-editable team\"><h2>Activity 1.4.2</h2></div>"
            ]
        },
        {
            "cell_type": "markdown",
            "metadata": {
                "collapsed": false,
                "editable": false
            },
            "source": [
                "<div class=\"not-editable team\"><span> Find an equation for the line that is determined by the following conditions; write your answer in point-slope form wherever possible. </span></div>"
            ]
        },
        {
            "cell_type": "markdown",
            "metadata": {
                "collapsed": false,
                "editable": false
            },
            "source": [
                "<div class=\"not-editable team\"><div><h4>Task A</h4> <span> The line with slope <span class=\"m\"> $\\frac{3}{7}$ </span> that passes through <span class=\"m\"> $(-11, -17)$ </span>. </span> </div></div>"
            ]
        },
        {
            "cell_type": "markdown",
            "metadata": {
                "collapsed": false,
                "editable": false
            },
            "source": [
                "<div class=\"not-editable team\"><div><h4>Task B</h4> <span> The line passing through the points <span class=\"m\"> $(-2,5)$ </span> and <span class=\"m\"> $(3,-1)$ </span>. </span> </div></div>"
            ]
        },
        {
            "cell_type": "markdown",
            "metadata": {
                "collapsed": false,
                "editable": false
            },
            "source": [
                "<div class=\"not-editable team\"><div><h4>Task C</h4> <span> The line passing through <span class=\"m\"> $(4,9)$ </span> that is parallel to the line <span class=\"m\"> $2x - 3y = 5$ </span>. </span> </div></div>"
            ]
        },
        {
            "cell_type": "markdown",
            "metadata": {
                "collapsed": false,
                "editable": false
            },
            "source": [
                "<div class=\"not-editable team\"><div><h4>Task D</h4> <span> Explain why the function <span class=\"m\"> $f$ </span> given by <a href=\"https://activecalculus.org/prelude/sec-changing-linear.html#T-act-changing-linear-finding-eqs\">Table 1.4.5</a> appears to be linear and find a formula for <span class=\"m\"> $f(x)$ </span>. </span> <div class=\"sidebyside\"><div><table><caption><b>Table 1.4.5.</b> Data for a linear function <span class=\"m\"> $f$ </span>.</caption><tr><td><span class=\"m\"> $x$ </span></td><td><span class=\"m\"> $f(x)$ </span></td></tr><tr><td><span class=\"m\"> $1$ </span></td><td><span class=\"m\"> $7$ </span></td></tr><tr><td><span class=\"m\"> $3$ </span></td><td><span class=\"m\"> $3$ </span></td></tr><tr><td><span class=\"m\"> $4$ </span></td><td><span class=\"m\"> $1$ </span></td></tr><tr><td><span class=\"m\"> $7$ </span></td><td><span class=\"m\"> $-5$ </span></td></tr></table></div><div><figure><figcaption><b>Figure 1.4.6.</b> Plot of a linear function <span class=\"m\"> $h$ </span>.</figcaption><div><img src=\"images/linear-PA-ex-3.svg\"/></div></figure></div></div> </div></div>"
            ]
        },
        {
            "cell_type": "markdown",
            "metadata": {
                "collapsed": false,
                "editable": false
            },
            "source": [
                "<div class=\"not-editable team\"><div><h4>Task E</h4> <span> Find a formula for the linear function shown in <a href=\"https://activecalculus.org/prelude/sec-changing-linear.html#F-act-changing-linear-finding-eqs\">Figure 1.4.6</a>. </span> </div></div>"
            ]
        },
        {
            "cell_type": "markdown",
            "metadata": {
                "collapsed": false,
                "editable": false
            },
            "source": [
                "<div class=\"not-editable team\"><h2>Activity 1.4.3</h2></div>"
            ]
        },
        {
            "cell_type": "markdown",
            "metadata": {
                "collapsed": false,
                "editable": false
            },
            "source": [
                "<div class=\"not-editable team\"><span> The summit of Africa's largest peak, Mt. Kilimanjaro, has two main ice fields and a glacier at its peak. Geologists measured the ice cover in the year 2000 (<span class=\"m\"> $t = 0$ </span>) to be approximately <span class=\"m\"> $1951$ </span> m<span class=\"m\"> $^2$ </span>; in the year 2007, the ice cover measured <span class=\"m\"> $1555$ </span> m<span class=\"m\"> $^2$ </span>. </span></div>"
            ]
        },
        {
            "cell_type": "markdown",
            "metadata": {
                "collapsed": false,
                "editable": false
            },
            "source": [
                "<div class=\"not-editable team\"><div><h4>Task A</h4> <span> Suppose that the amount of ice cover at the peak of Mt. Kilimanjaro is changing at a constant average rate from year to year. Find a linear model <span class=\"m\"> $A = f(t)$ </span> whose output is the area, <span class=\"m\"> $A$ </span>, in square meters in year <span class=\"m\"> $t$ </span> (where <span class=\"m\"> $t$ </span> is the number of years after 2000). </span> </div></div>"
            ]
        },
        {
            "cell_type": "markdown",
            "metadata": {
                "collapsed": false,
                "editable": false
            },
            "source": [
                "<div class=\"not-editable team\"><div><h4>Task B</h4> <span> What do the slope and <span class=\"m\"> $A$ </span>-intercept mean in the model you found in (a)? In particular, what are the units on the slope? </span> </div></div>"
            ]
        },
        {
            "cell_type": "markdown",
            "metadata": {
                "collapsed": false,
                "editable": false
            },
            "source": [
                "<div class=\"not-editable team\"><div><h4>Task C</h4> <span> Compute <span class=\"m\"> $f(17)$ </span>. What does this quantity measure? Write a complete sentence to explain. </span> </div></div>"
            ]
        },
        {
            "cell_type": "markdown",
            "metadata": {
                "collapsed": false,
                "editable": false
            },
            "source": [
                "<div class=\"not-editable team\"><div><h4>Task D</h4> <span> If the model holds further into the future, when do we predict the ice cover will vanish? </span> </div></div>"
            ]
        },
        {
            "cell_type": "markdown",
            "metadata": {
                "collapsed": false,
                "editable": false
            },
            "source": [
                "<div class=\"not-editable team\"><div><h4>Task E</h4> <span> In light of your work above, what is a reasonable domain to use for the model <span class=\"m\"> $A = f(t)$ </span>? What is the corresponding range? </span> </div></div>"
            ]
        },
        {
            "cell_type": "markdown",
            "metadata": {
                "collapsed": false,
                "editable": false
            },
            "source": [
                "<div class=\"not-editable team\"><h2>Activity 1.4.4</h2></div>"
            ]
        },
        {
            "cell_type": "markdown",
            "metadata": {
                "collapsed": false,
                "editable": false
            },
            "source": [
                "<div class=\"not-editable team\"><span> In each of the following prompts, we investigate linear functions in context. </span></div>"
            ]
        },
        {
            "cell_type": "markdown",
            "metadata": {
                "collapsed": false,
                "editable": false
            },
            "source": [
                "<div class=\"not-editable team\"><div><h4>Task A</h4> <span> A town's population initially has <span class=\"m\"> $28750$ </span> people present and then grows at a constant rate of <span class=\"m\"> $825$ </span> people per year. Find a linear model <span class=\"m\"> $P = f(t)$ </span> for the number of people in the town in year <span class=\"m\"> $t$ </span>. </span> </div></div>"
            ]
        },
        {
            "cell_type": "markdown",
            "metadata": {
                "collapsed": false,
                "editable": false
            },
            "source": [
                "<div class=\"not-editable team\"><div><h4>Task B</h4> <span> A different town's population <span class=\"m\"> $Q$ </span> is given by the function <span class=\"m\"> $Q = g(t) = 42505 - 465t$ </span>. What is the slope of this function and what is its meaning in the model? Write a complete sentence to explain. </span> </div></div>"
            ]
        },
        {
            "cell_type": "markdown",
            "metadata": {
                "collapsed": false,
                "editable": false
            },
            "source": [
                "<div class=\"not-editable team\"><div><h4>Task C</h4> <span> A spherical tank is being drained with a pump. Initially the tank is full with <span class=\"m\"> $\\frac{32\\pi}{3}$ </span> cubic feet of water. Assume the tank is drained at a constant rate of <span class=\"m\"> $1.2$ </span> cubic feet per minute. Find a linear model <span class=\"m\"> $V = p(t)$ </span> for the total amount of water in the tank at time <span class=\"m\"> $t$ </span>. In addition, what is a reasonable domain for the model? </span> </div></div>"
            ]
        },
        {
            "cell_type": "markdown",
            "metadata": {
                "collapsed": false,
                "editable": false
            },
            "source": [
                "<div class=\"not-editable team\"><div><h4>Task D</h4> <span> A conical tank is being filled in such a way that the height of the water in the tank, <span class=\"m\"> $h$ </span> (in feet), at time <span class=\"m\"> $t$ </span> (in minutes) is given by the function <span class=\"m\"> $h = q(t) = 0.65t$ </span>. What can you say about how the water level is rising? Write at least one careful sentence to explain. </span> </div></div>"
            ]
        },
        {
            "cell_type": "markdown",
            "metadata": {
                "collapsed": false,
                "editable": false
            },
            "source": [
                "<div class=\"not-editable team\"><div><h4>Task E</h4> <span> Suppose we know that a <span class=\"m\"> $5$ </span>-year old car's value is $<span class=\"m\"> $10200$ </span>, and that after <span class=\"m\"> $10$ </span> years its value is $<span class=\"m\"> $4600$ </span>. Find a linear function <span class=\"m\"> $C = L(t)$ </span> whose output is the value of the car in year <span class=\"m\"> $t$ </span>. What is a reasonable domain for the model? What is the value and meaning of the slope of the line? Write at least one careful sentence to explain. </span> </div></div>"
            ]
        }
    ],
    "nbformat": 4,
    "nbformat_minor": 4
}
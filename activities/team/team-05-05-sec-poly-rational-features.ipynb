{
    "cells": [
        {
            "cell_type": "markdown",
            "metadata": {
                "collapsed": false,
                "editable": false
            },
            "source": [
                "<div class=\"not-editable team\"><style> .not-editable{padding:1em;border-radius:10px;box-shadow:4px 4px 3px #ddd;margin:5px;} .not-editable.individual{background-color:#eefff8;} .not-editable.team{background-color:#eef8ff;} .sidebyside{display:flex;justify-content:center;} .sidebyside > *{margin-right:1em;flex:1;} caption{caption-side:top;white-space: nowrap;color:rgba(0,0,0,.45)}} figcaption{padding-top:0.75em;padding-bottom:0.3em;color:rgba(0,0,0,.45)} .fillin{display:inline-block;width:10em;margin-left:0.2em;margin-right:0.2em;height:1em;border-bottom:1px black solid;} .fn{font-size:0.8em;color:rgba(0,0,0.45)} .newcommands{display:none;} tt{background-color:#f8f8f8;border:1px #888 solid;border-radius:2px;padding-left:0.2em;padding-right:0.2em;} img{background-color:#fff;} </style> <div><h1>Section 5.5 Key features of rational functions</h1><h2>Team Notebook</h2><div><a href=\"https://activecalculus.org/prelude/sec-poly-rational-features.html\">https://activecalculus.org/prelude/sec-poly-rational-features.html</a></div></div></div>"
            ]
        },
        {
            "cell_type": "markdown",
            "metadata": {
                "collapsed": false,
                "editable": false
            },
            "source": [
                "<div class=\"not-editable team\"><h2>Activity 5.5.2</h2></div>"
            ]
        },
        {
            "cell_type": "markdown",
            "metadata": {
                "collapsed": false,
                "editable": false
            },
            "source": [
                "<div class=\"not-editable team\"><span> For each of the following rational functions, state the function's domain and determine the locations of all zeros, vertical asymptotes, and holes. Provide clear justification for your work by discussing the zeros of the numerator and denominator, as well as a table of values of the function near any point where you believe the function has a hole. In addition, state the value of the horizontal asymptote of the function or explain why the function has no such asymptote. </span></div>"
            ]
        },
        {
            "cell_type": "markdown",
            "metadata": {
                "collapsed": false,
                "editable": false
            },
            "source": [
                "<div class=\"not-editable team\"><div><h4>Task A</h4> <span> <span class=\"m\"> $\\displaystyle f(x) = \\frac{x^3 - 6x^2 + 5x}{x^2-1}$ </span> </span> </div></div>"
            ]
        },
        {
            "cell_type": "markdown",
            "metadata": {
                "collapsed": false,
                "editable": false
            },
            "source": [
                "<div class=\"not-editable team\"><div><h4>Task B</h4> <span> <span class=\"m\"> $\\displaystyle g(x) = \\frac{11(x^2 + 1)(x-7)}{23(x-1)(x^2+4)}$ </span> </span> </div></div>"
            ]
        },
        {
            "cell_type": "markdown",
            "metadata": {
                "collapsed": false,
                "editable": false
            },
            "source": [
                "<div class=\"not-editable team\"><div><h4>Task C</h4> <span> <span class=\"m\"> $\\displaystyle h(x) = \\frac{x^2 - 8x + 12}{x^2 - 3x - 18}$ </span> </span> </div></div>"
            ]
        },
        {
            "cell_type": "markdown",
            "metadata": {
                "collapsed": false,
                "editable": false
            },
            "source": [
                "<div class=\"not-editable team\"><div><h4>Task D</h4> <span> <span class=\"m\"> $\\displaystyle q(x) = \\frac{(x-2)(x^2-9)}{(x-3)(x^2 + 4)}$ </span> </span> </div></div>"
            ]
        },
        {
            "cell_type": "markdown",
            "metadata": {
                "collapsed": false,
                "editable": false
            },
            "source": [
                "<div class=\"not-editable team\"><div><h4>Task E</h4> <span> <span class=\"m\"> $\\displaystyle r(x) = \\frac{19(x-2) (x-3)^2 (x+1)}{17(x+1)(x-4)^2(x-5)}$ </span> </span> </div></div>"
            ]
        },
        {
            "cell_type": "markdown",
            "metadata": {
                "collapsed": false,
                "editable": false
            },
            "source": [
                "<div class=\"not-editable team\"><div><h4>Task F</h4> <span> <span class=\"m\"> $\\displaystyle s(x) = \\frac{1}{x^2 + 1}$ </span> </span> </div></div>"
            ]
        },
        {
            "cell_type": "markdown",
            "metadata": {
                "collapsed": false,
                "editable": false
            },
            "source": [
                "<div class=\"not-editable team\"><h2>Activity 5.5.3</h2></div>"
            ]
        },
        {
            "cell_type": "markdown",
            "metadata": {
                "collapsed": false,
                "editable": false
            },
            "source": [
                "<div class=\"not-editable team\"><span> Find a formula for a rational function that meets the stated criteria as given by words, a sign chart, or graph. Write several sentences to justify why your formula matches the specifications. If no such rational function is possible, explain why. </span></div>"
            ]
        },
        {
            "cell_type": "markdown",
            "metadata": {
                "collapsed": false,
                "editable": false
            },
            "source": [
                "<div class=\"not-editable team\"><div><h4>Task A</h4> <span> A rational function <span class=\"m\"> $r$ </span> such that <span class=\"m\"> $r$ </span> has a vertical asymptote at <span class=\"m\"> $x = -2$ </span>, a zero at <span class=\"m\"> $x = 1$ </span>, a hole at <span class=\"m\"> $x = 5$ </span>, and a horizontal asymptote of <span class=\"m\"> $y = -3$ </span>. </span> </div></div>"
            ]
        },
        {
            "cell_type": "markdown",
            "metadata": {
                "collapsed": false,
                "editable": false
            },
            "source": [
                "<div class=\"not-editable team\"><div><h4>Task B</h4> <span> A rational function <span class=\"m\"> $u$ </span> whose numerator has degree <span class=\"m\"> $3$ </span>, denominator has degree <span class=\"m\"> $3$ </span>, and that has exactly one vertical asymptote at <span class=\"m\"> $x = -4$ </span> and a horizontal asymptote of <span class=\"m\"> $y = \\frac{3}{7}$ </span>. </span> </div></div>"
            ]
        },
        {
            "cell_type": "markdown",
            "metadata": {
                "collapsed": false,
                "editable": false
            },
            "source": [
                "<div class=\"not-editable team\"><div><h4>Task C</h4> <span> A rational function <span class=\"m\"> $w$ </span> whose formula generates a graph with all of the characteristics shown in <a href=\"https://activecalculus.org/prelude/sec-poly-rational-features.html#F-act-poly-rational-plot\">Figure 5.5.10</a>. Assume that <span class=\"m\"> $w(5) = 0$ </span> but <span class=\"m\"> $w(x) \\gt 0$ </span> for all other <span class=\"m\"> $x$ </span> such that <span class=\"m\"> $x \\gt 3$ </span>. </span> </div></div>"
            ]
        },
        {
            "cell_type": "markdown",
            "metadata": {
                "collapsed": false,
                "editable": false
            },
            "source": [
                "<div class=\"not-editable team\"><div><h4>Task D</h4> <span> A rational function <span class=\"m\"> $z$ </span> whose formula satisfies the sign chart shown in <a href=\"https://activecalculus.org/prelude/sec-poly-rational-features.html#F-act-poly-rational-sign-chart\">Figure 5.5.11</a>, and for which <span class=\"m\"> $z$ </span> has no horizontal asymptote and its only vertical asymptotes occur at the middle two values of <span class=\"m\"> $x$ </span> noted on the sign chart. </span> <div class=\"sidebyside\"><div><figure><figcaption><b>Figure 5.5.10.</b> Plot of the rational function <span class=\"m\"> $w$ </span>.</figcaption><div><img src=\"images/rational-plot-act.svg\"/></div></figure></div><div><figure><figcaption><b>Figure 5.5.11.</b> Sign chart for the rational function <span class=\"m\"> $z$ </span>.</figcaption><div><img src=\"images/rational-sign-chart-act.svg\"/></div></figure></div></div> </div></div>"
            ]
        },
        {
            "cell_type": "markdown",
            "metadata": {
                "collapsed": false,
                "editable": false
            },
            "source": [
                "<div class=\"not-editable team\"><div><h4>Task E</h4> <span> A rational function <span class=\"m\"> $f$ </span> that has exactly two holes, two vertical asymptotes, two zeros, and a horizontal asymptote. </span> </div></div>"
            ]
        }
    ],
    "nbformat": 4,
    "nbformat_minor": 4
}
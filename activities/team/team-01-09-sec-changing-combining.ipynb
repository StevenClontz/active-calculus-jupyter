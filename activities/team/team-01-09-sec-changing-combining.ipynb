{
    "cells": [
        {
            "cell_type": "markdown",
            "metadata": {
                "collapsed": false,
                "editable": false
            },
            "source": [
                "<div class=\"not-editable team\"><style> .not-editable{padding:1em;border-radius:10px;box-shadow:4px 4px 3px #ddd;margin:5px;} .not-editable.individual{background-color:#eefff8;} .not-editable.team{background-color:#eef8ff;} .sidebyside{display:flex;justify-content:center;} .sidebyside > *{margin-right:1em;flex:1;} caption{caption-side:top;white-space: nowrap;color:rgba(0,0,0,.45)}} figcaption{padding-top:0.75em;padding-bottom:0.3em;color:rgba(0,0,0,.45)} .fillin{display:inline-block;width:10em;margin-left:0.2em;margin-right:0.2em;height:1em;border-bottom:1px black solid;} .fn{font-size:0.8em;color:rgba(0,0,0.45)} .newcommands{display:none;} tt{background-color:#f8f8f8;border:1px #888 solid;border-radius:2px;padding-left:0.2em;padding-right:0.2em;} img{background-color:#fff;} </style> <div><h1>Section 1.9 Combining Functions</h1><h2>Team Notebook</h2><div><a href=\"https://activecalculus.org/prelude/sec-changing-combining.html\">https://activecalculus.org/prelude/sec-changing-combining.html</a></div></div></div>"
            ]
        },
        {
            "cell_type": "markdown",
            "metadata": {
                "collapsed": false,
                "editable": false
            },
            "source": [
                "<div class=\"not-editable team\"><h2>Activity 1.9.2</h2></div>"
            ]
        },
        {
            "cell_type": "markdown",
            "metadata": {
                "collapsed": false,
                "editable": false
            },
            "source": [
                "<div class=\"not-editable team\"><span> Consider the functions <span class=\"m\"> $f$ </span> and <span class=\"m\"> $g$ </span> defined by <a href=\"https://activecalculus.org/prelude/sec-changing-combining.html#F-act-combining-f\">Figure 1.9.4</a> and <a href=\"https://activecalculus.org/prelude/sec-changing-combining.html#F-act-combining-g\">Figure 1.9.5</a>. </span></div>"
            ]
        },
        {
            "cell_type": "markdown",
            "metadata": {
                "collapsed": false,
                "editable": false
            },
            "source": [
                "<div class=\"not-editable team\"><div class=\"sidebyside\"><div><figure><figcaption><b>Figure 1.9.4.</b> The function <span class=\"m\"> $f$ </span>.</figcaption><div><img src=\"images/combining-act-f.svg\"/></div></figure></div><div><figure><figcaption><b>Figure 1.9.5.</b> The function <span class=\"m\"> $g$ </span>.</figcaption><div><img src=\"images/composite-ez-g.svg\"/></div></figure></div></div></div>"
            ]
        },
        {
            "cell_type": "markdown",
            "metadata": {
                "collapsed": false,
                "editable": false
            },
            "source": [
                "<div class=\"not-editable team\"><div><h4>Task A</h4> <span> Determine the exact value of <span class=\"m\"> $(f+g)(0)$ </span>. </span> </div></div>"
            ]
        },
        {
            "cell_type": "markdown",
            "metadata": {
                "collapsed": false,
                "editable": false
            },
            "source": [
                "<div class=\"not-editable team\"><div><h4>Task B</h4> <span> Determine the exact value of <span class=\"m\"> $(g-f)(1)$ </span>. </span> </div></div>"
            ]
        },
        {
            "cell_type": "markdown",
            "metadata": {
                "collapsed": false,
                "editable": false
            },
            "source": [
                "<div class=\"not-editable team\"><div><h4>Task C</h4> <span> Determine the exact value of <span class=\"m\"> $(f \\cdot g)(-1)$ </span>. </span> </div></div>"
            ]
        },
        {
            "cell_type": "markdown",
            "metadata": {
                "collapsed": false,
                "editable": false
            },
            "source": [
                "<div class=\"not-editable team\"><div><h4>Task D</h4> <span> Are there any values of <span class=\"m\"> $x$ </span> for which <span class=\"m\"> $\\left( \\frac{f}{g} \\right)(x)$ </span> is undefined? If not, explain why. If so, determine the values and justify your answer. </span> </div></div>"
            ]
        },
        {
            "cell_type": "markdown",
            "metadata": {
                "collapsed": false,
                "editable": false
            },
            "source": [
                "<div class=\"not-editable team\"><div><h4>Task E</h4> <span> For what values of <span class=\"m\"> $x$ </span> is <span class=\"m\"> $(f \\cdot g)(x) = 0$ </span>? Why? </span> </div></div>"
            ]
        },
        {
            "cell_type": "markdown",
            "metadata": {
                "collapsed": false,
                "editable": false
            },
            "source": [
                "<div class=\"not-editable team\"><div><h4>Task F</h4> <span> Are there any values of <span class=\"m\"> $x$ </span> for which <span class=\"m\"> $(f-g)(x) = 0$ </span>? Why or why not? </span> </div></div>"
            ]
        },
        {
            "cell_type": "markdown",
            "metadata": {
                "collapsed": false,
                "editable": false
            },
            "source": [
                "<div class=\"not-editable team\"><h2>Activity 1.9.3</h2></div>"
            ]
        },
        {
            "cell_type": "markdown",
            "metadata": {
                "collapsed": false,
                "editable": false
            },
            "source": [
                "<div class=\"not-editable team\"><span> Let <span class=\"m\"> $f$ </span> be a function that measures a car's fuel economy in the following way. Given an input velocity <span class=\"m\"> $v$ </span> in miles per hour, <span class=\"m\"> $f(v)$ </span> is the number of gallons of fuel that the car consumes per mile (i.e., <span class=\"q\"> \"gallons per mile\" </span>). We know that <span class=\"m\"> $f(60) = 0.04$ </span>. </span></div>"
            ]
        },
        {
            "cell_type": "markdown",
            "metadata": {
                "collapsed": false,
                "editable": false
            },
            "source": [
                "<div class=\"not-editable team\"><div><h4>Task A</h4> <span> What is the meaning of the statement <span class=\"q\"> \"<span class=\"m\"> $f(60) = 0.04$ </span>\" </span> in the context of the problem? That is, what does this say about the car's fuel economy? Write a complete sentence. </span> </div></div>"
            ]
        },
        {
            "cell_type": "markdown",
            "metadata": {
                "collapsed": false,
                "editable": false
            },
            "source": [
                "<div class=\"not-editable team\"><div><h4>Task B</h4> <span> Consider the function <span class=\"m\"> $g(v) = \\frac{1}{f(v)}$ </span>. What is the value of <span class=\"m\"> $g(60)$ </span>? What are the units on <span class=\"m\"> $g$ </span>? What does <span class=\"m\"> $g$ </span> measure? </span> </div></div>"
            ]
        },
        {
            "cell_type": "markdown",
            "metadata": {
                "collapsed": false,
                "editable": false
            },
            "source": [
                "<div class=\"not-editable team\"><div><h4>Task C</h4> <span> Consider the function <span class=\"m\"> $h(v) = v \\cdot f(v)$ </span>. What is the value of <span class=\"m\"> $h(60)$ </span>? What are the units on <span class=\"m\"> $h$ </span>? What does <span class=\"m\"> $h$ </span> measure? </span> </div></div>"
            ]
        },
        {
            "cell_type": "markdown",
            "metadata": {
                "collapsed": false,
                "editable": false
            },
            "source": [
                "<div class=\"not-editable team\"><div><h4>Task D</h4> <span> Do <span class=\"m\"> $f(60)$ </span>, <span class=\"m\"> $g(60)$ </span>, and <span class=\"m\"> $h(60)$ </span> tell us fundamentally different information, or are they all essentially saying the same thing? Explain. </span> </div></div>"
            ]
        },
        {
            "cell_type": "markdown",
            "metadata": {
                "collapsed": false,
                "editable": false
            },
            "source": [
                "<div class=\"not-editable team\"><div><h4>Task E</h4> <span> Suppose we also know that <span class=\"m\"> $f(70) = 0.045$ </span>. Find the average rate of change of <span class=\"m\"> $f$ </span> on the interval <span class=\"m\"> $[60,70]$ </span>. What are the units on the average rate of change of <span class=\"m\"> $f$ </span>? What does this quantity measure? Write a complete sentence to explain. </span> </div></div>"
            ]
        },
        {
            "cell_type": "markdown",
            "metadata": {
                "collapsed": false,
                "editable": false
            },
            "source": [
                "<div class=\"not-editable team\"><h2>Activity 1.9.4</h2></div>"
            ]
        },
        {
            "cell_type": "markdown",
            "metadata": {
                "collapsed": false,
                "editable": false
            },
            "source": [
                "<div class=\"not-editable team\"><span> In what follows, we work to understand two different piecewise functions entirely by hand based on familiar properties of linear and quadratic functions. </span></div>"
            ]
        },
        {
            "cell_type": "markdown",
            "metadata": {
                "collapsed": false,
                "editable": false
            },
            "source": [
                "<div class=\"not-editable team\"><div><h4>Task A</h4> <span> Consider the function <span class=\"m\"> $p$ </span> defined by the following rule: <span class=\"m\"> $$ p(x) = \\begin{cases} -(x+2)^2 + 2, \\amp x \\lt 0 \\\\ \\frac{1}{2}(x-2)^2 + 1, \\amp x \\ge 0 \\end{cases} $$ </span> What are the values of <span class=\"m\"> $p(-4)$ </span>, <span class=\"m\"> $p(-2)$ </span>, <span class=\"m\"> $p(0)$ </span>, <span class=\"m\"> $p(2)$ </span>, and <span class=\"m\"> $p(4)$ </span>? </span> </div></div>"
            ]
        },
        {
            "cell_type": "markdown",
            "metadata": {
                "collapsed": false,
                "editable": false
            },
            "source": [
                "<div class=\"not-editable team\"><div><h4>Task B</h4> <span> What point is the vertex of the quadratic part of <span class=\"m\"> $p$ </span> that is valid for <span class=\"m\"> $x \\lt 0$ </span>? What point is the vertex of the quadratic part of <span class=\"m\"> $p$ </span> that is valid for <span class=\"m\"> $x \\ge 0$ </span>? </span> </div></div>"
            ]
        },
        {
            "cell_type": "markdown",
            "metadata": {
                "collapsed": false,
                "editable": false
            },
            "source": [
                "<div class=\"not-editable team\"><div><h4>Task C</h4> <span> For what values of <span class=\"m\"> $x$ </span> is <span class=\"m\"> $p(x) = 0$ </span>? In addition, what is the <span class=\"m\"> $y$ </span>-intercept of <span class=\"m\"> $p$ </span>? </span> </div></div>"
            ]
        },
        {
            "cell_type": "markdown",
            "metadata": {
                "collapsed": false,
                "editable": false
            },
            "source": [
                "<div class=\"not-editable team\"><div><h4>Task D</h4> <span> Sketch an accurate, labeled graph of <span class=\"m\"> $y = p(x)$ </span> on the axes provided in <a href=\"https://activecalculus.org/prelude/sec-changing-combining.html#F-combining-act-piecewise-axes\">Figure 1.9.9</a>. </span> <div class=\"sidebyside\"><div><figure><figcaption><b>Figure 1.9.9.</b> Axes to plot <span class=\"m\"> $y = p(x)$ </span>.</figcaption><div><img src=\"images/functions-y-x-blank-axes-centered-2.svg\"/></div></figure></div><div><figure><figcaption><b>Figure 1.9.10.</b> Graph of <span class=\"m\"> $y = f(x)$ </span>.</figcaption><div><img src=\"images/combining-act-f.svg\"/></div></figure></div></div> </div></div>"
            ]
        },
        {
            "cell_type": "markdown",
            "metadata": {
                "collapsed": false,
                "editable": false
            },
            "source": [
                "<div class=\"not-editable team\"><div><h4>Task E</h4> <span> For the function <span class=\"m\"> $f$ </span> defined by <a href=\"https://activecalculus.org/prelude/sec-changing-combining.html#F-combining-act-piecewise-graph\">Figure 1.9.10</a>, determine a piecewise-defined formula for <span class=\"m\"> $f$ </span> that is expressed in bracket notation similar to the definition of <span class=\"m\"> $y = p(x)$ </span> above. </span> </div></div>"
            ]
        }
    ],
    "nbformat": 4,
    "nbformat_minor": 4
}
{
    "cells": [
        {
            "cell_type": "markdown",
            "metadata": {
                "collapsed": false,
                "editable": false
            },
            "source": [
                "<div class=\"not-editable team\"><style> .not-editable{padding:1em;border-radius:10px;box-shadow:4px 4px 3px #ddd;margin:5px;} .not-editable.individual{background-color:#eefff8;} .not-editable.team{background-color:#eef8ff;} .sidebyside{display:flex;justify-content:center;} .sidebyside > *{margin-right:1em;flex:1;} caption{caption-side:top;white-space: nowrap;color:rgba(0,0,0,.45)}} figcaption{padding-top:0.75em;padding-bottom:0.3em;color:rgba(0,0,0,.45)} .fillin{display:inline-block;width:10em;margin-left:0.2em;margin-right:0.2em;height:1em;border-bottom:1px black solid;} .fn{font-size:0.8em;color:rgba(0,0,0.45)} .newcommands{display:none;} tt{background-color:#f8f8f8;border:1px #888 solid;border-radius:2px;padding-left:0.2em;padding-right:0.2em;} img{background-color:#fff;} </style> <div><h1>Section 5.1 Infinity, limits, and power functions</h1><h2>Team Notebook</h2><div><a href=\"https://activecalculus.org/prelude/sec-poly-infty.html\">https://activecalculus.org/prelude/sec-poly-infty.html</a></div></div></div>"
            ]
        },
        {
            "cell_type": "markdown",
            "metadata": {
                "collapsed": false,
                "editable": false
            },
            "source": [
                "<div class=\"not-editable team\"><h2>Activity 5.1.2</h2></div>"
            ]
        },
        {
            "cell_type": "markdown",
            "metadata": {
                "collapsed": false,
                "editable": false
            },
            "source": [
                "<div class=\"not-editable team\"><span> Complete the <a href=\"https://activecalculus.org/prelude/sec-poly-infty.html#T-familiar-infty-limits\">Table 5.1.4</a> by entering <span class=\"q\"> \"<span class=\"m\"> $\\infty$ </span>,\" </span> <span class=\"q\"> \"<span class=\"m\"> $-\\infty$ </span>,\" </span> <span class=\"q\"> \"<span class=\"m\"> $0$ </span>,\" </span> or <span class=\"q\"> \"no limit\" </span> to identify how the function behaves as either <span class=\"m\"> $x$ </span> increases or decreases without bound. As much as possible, work to decide the behavior without using a graphing utility. </span></div>"
            ]
        },
        {
            "cell_type": "markdown",
            "metadata": {
                "collapsed": false,
                "editable": false
            },
            "source": [
                "<div class=\"not-editable team\"><div><table><caption><b>Table 5.1.4.</b> Some familiar functions and their limits as <span class=\"m\"> $x \\to \\infty$ </span> or <span class=\"m\"> $x \\to -\\infty$ </span>.</caption><tr><td><span class=\"m\"> $f(x)$ </span></td><td><span class=\"m\"> $\\lim_{x \\to \\infty} f(x)$ </span></td><td><span class=\"m\"> $\\lim_{x \\to -\\infty} f(x)$ </span></td></tr><tr><td><span class=\"m\"> $e^x$ </span></td><td/><td/></tr><tr><td><span class=\"m\"> $e^{-x}$ </span></td><td/><td/></tr><tr><td><span class=\"m\"> $\\ln(x)$ </span></td><td/><td/></tr><tr><td><span class=\"m\"> $x$ </span></td><td/><td/></tr><tr><td><span class=\"m\"> $x^2$ </span></td><td/><td/></tr><tr><td><span class=\"m\"> $x^3$ </span></td><td/><td/></tr><tr><td><span class=\"m\"> $x^4$ </span></td><td/><td/></tr><tr><td><span class=\"m\"> $\\frac{1}{x}$ </span></td><td/><td/></tr><tr><td><span class=\"m\"> $\\frac{1}{x^2}$ </span></td><td/><td/></tr><tr><td><span class=\"m\"> $\\sin(x)$ </span></td><td/><td/></tr></table></div></div>"
            ]
        },
        {
            "cell_type": "markdown",
            "metadata": {
                "collapsed": false,
                "editable": false
            },
            "source": [
                "<div class=\"not-editable team\"><h2>Activity 5.1.3</h2></div>"
            ]
        },
        {
            "cell_type": "markdown",
            "metadata": {
                "collapsed": false,
                "editable": false
            },
            "source": [
                "<div class=\"not-editable team\"><span> Point your browser to the Desmos worksheet at http://gvsu.edu/s/0zu. In what follows, we explore the behavior of power functions of the form <span class=\"m\"> $y = x^n$ </span> where <span class=\"m\"> $n \\ge 1$ </span>. </span></div>"
            ]
        },
        {
            "cell_type": "markdown",
            "metadata": {
                "collapsed": false,
                "editable": false
            },
            "source": [
                "<div class=\"not-editable team\"><div><h4>Task A</h4> <span> Press the <span class=\"q\"> \"play\" </span> button next to the slider labeled <span class=\"q\"> \"<span class=\"m\"> $n$ </span>.\" </span> Watch at least two loops of the animation and then discuss the trends that you observe. Write a careful sentence each for at least two different trends. </span> </div></div>"
            ]
        },
        {
            "cell_type": "markdown",
            "metadata": {
                "collapsed": false,
                "editable": false
            },
            "source": [
                "<div class=\"not-editable team\"><div><h4>Task B</h4> <span> Click the icons next to each of the following 8 functions so that you can see all of <span class=\"m\"> $y = x$ </span>, <span class=\"m\"> $y = x^2$ </span>, <span class=\"m\"> $\\ldots$ </span>, <span class=\"m\"> $y = x^8$ </span> graphed at once. On the interval <span class=\"m\"> $0 \\lt x \\lt 1$ </span>, how do the graphs of <span class=\"m\"> $x^a$ </span> and <span class=\"m\"> $x^b$ </span> compare if <span class=\"m\"> $a \\lt b$ </span>? </span> </div></div>"
            ]
        },
        {
            "cell_type": "markdown",
            "metadata": {
                "collapsed": false,
                "editable": false
            },
            "source": [
                "<div class=\"not-editable team\"><div><h4>Task C</h4> <span> Uncheck the icons on each of the 8 functions to hide their graphs. Click the settings icon to change the domain settings for the axes, and change them to <span class=\"m\"> $-10 \\le x \\le 10$ </span> and <span class=\"m\"> $-10,000 \\le y \\le 10,000$ </span>. Play the animation through twice and then discuss the trends that you observe. Write a careful sentence each for at least two different trends. </span> </div></div>"
            ]
        },
        {
            "cell_type": "markdown",
            "metadata": {
                "collapsed": false,
                "editable": false
            },
            "source": [
                "<div class=\"not-editable team\"><div><h4>Task D</h4> <span> Click the icons next to each of the following 8 functions so that you can see all of <span class=\"m\"> $y = x$ </span>, <span class=\"m\"> $y = x^2$ </span>, <span class=\"m\"> $\\ldots$ </span>, <span class=\"m\"> $y = x^8$ </span> graphed at once. On the interval <span class=\"m\"> $x \\gt 1$ </span>, how do the graphs of <span class=\"m\"> $x^a$ </span> and <span class=\"m\"> $x^b$ </span> compare if <span class=\"m\"> $a \\lt b$ </span>? </span> </div></div>"
            ]
        },
        {
            "cell_type": "markdown",
            "metadata": {
                "collapsed": false,
                "editable": false
            },
            "source": [
                "<div class=\"not-editable team\"><h2>Activity 5.1.4</h2></div>"
            ]
        },
        {
            "cell_type": "markdown",
            "metadata": {
                "collapsed": false,
                "editable": false
            },
            "source": [
                "<div class=\"not-editable team\"><span> Point your browser to the Desmos worksheet at http://gvsu.edu/s/0zv. In what follows, we explore the behavior of power functions <span class=\"m\"> $y = x^n$ </span> where <span class=\"m\"> $n \\le -1$ </span>. </span></div>"
            ]
        },
        {
            "cell_type": "markdown",
            "metadata": {
                "collapsed": false,
                "editable": false
            },
            "source": [
                "<div class=\"not-editable team\"><div><h4>Task A</h4> <span> Press the <span class=\"q\"> \"play\" </span> button next to the slider labeled <span class=\"q\"> \"<span class=\"m\"> $n$ </span>.\" </span> Watch two loops of the animation and then discuss the trends that you observe. Write a careful sentence each for at least two different trends. </span> </div></div>"
            ]
        },
        {
            "cell_type": "markdown",
            "metadata": {
                "collapsed": false,
                "editable": false
            },
            "source": [
                "<div class=\"not-editable team\"><div><h4>Task B</h4> <span> Click the icons next to each of the following 8 functions so that you can see all of <span class=\"m\"> $y = x^{-1}$ </span>, <span class=\"m\"> $y = x^{-2}$ </span>, <span class=\"m\"> $\\ldots$ </span>, <span class=\"m\"> $y = x^{-8}$ </span> graphed at once. On the interval <span class=\"m\"> $1 \\lt x$ </span>, how do the functions <span class=\"m\"> $x^a$ </span> and <span class=\"m\"> $x^b$ </span> compare if <span class=\"m\"> $a \\lt b$ </span>? (Be careful with negative numbers here: e.g., <span class=\"m\"> $-3 \\lt -2$ </span>.) </span> </div></div>"
            ]
        },
        {
            "cell_type": "markdown",
            "metadata": {
                "collapsed": false,
                "editable": false
            },
            "source": [
                "<div class=\"not-editable team\"><div><h4>Task C</h4> <span> How do your answers change on the interval <span class=\"m\"> $0 \\lt x \\lt 1$ </span>? </span> </div></div>"
            ]
        },
        {
            "cell_type": "markdown",
            "metadata": {
                "collapsed": false,
                "editable": false
            },
            "source": [
                "<div class=\"not-editable team\"><div><h4>Task D</h4> <span> Uncheck the icons on each of the 8 functions to hide their graphs. Click the settings icon to change the domain settings for the axes, and change them to <span class=\"m\"> $-10 \\le x \\le 10$ </span> and <span class=\"m\"> $-10,000 \\le y \\le 10,000$ </span>. Play the animation through twice and then discuss the trends that you observe. Write a careful sentence each for at least two different trends. </span> </div></div>"
            ]
        },
        {
            "cell_type": "markdown",
            "metadata": {
                "collapsed": false,
                "editable": false
            },
            "source": [
                "<div class=\"not-editable team\"><div><h4>Task E</h4> <span> Explain why <span class=\"m\"> $\\lim_{x \\to \\infty} \\frac{1}{x^n} = 0$ </span> for any choice of <span class=\"m\"> $n = 1, 2, \\ldots$ </span>. </span> </div></div>"
            ]
        }
    ],
    "nbformat": 4,
    "nbformat_minor": 4
}
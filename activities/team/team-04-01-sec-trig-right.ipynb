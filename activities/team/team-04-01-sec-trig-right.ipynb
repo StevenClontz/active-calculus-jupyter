{
    "cells": [
        {
            "cell_type": "markdown",
            "metadata": {
                "collapsed": false,
                "editable": false
            },
            "source": [
                "<div class=\"not-editable team\"><style> .not-editable{padding:1em;border-radius:10px;box-shadow:4px 4px 3px #ddd;margin:5px;} .not-editable.individual{background-color:#eefff8;} .not-editable.team{background-color:#eef8ff;} .sidebyside{display:flex;justify-content:center;} .sidebyside > *{margin-right:1em;flex:1;} caption{caption-side:top;white-space: nowrap;color:rgba(0,0,0,.45)}} figcaption{padding-top:0.75em;padding-bottom:0.3em;color:rgba(0,0,0,.45)} .fillin{display:inline-block;width:10em;margin-left:0.2em;margin-right:0.2em;height:1em;border-bottom:1px black solid;} .fn{font-size:0.8em;color:rgba(0,0,0.45)} .newcommands{display:none;} tt{background-color:#f8f8f8;border:1px #888 solid;border-radius:2px;padding-left:0.2em;padding-right:0.2em;} img{background-color:#fff;} </style> <div><h1>Section 4.1 Right triangles</h1><h2>Team Notebook</h2><div><a href=\"https://activecalculus.org/prelude/sec-trig-right.html\">https://activecalculus.org/prelude/sec-trig-right.html</a></div></div></div>"
            ]
        },
        {
            "cell_type": "markdown",
            "metadata": {
                "collapsed": false,
                "editable": false
            },
            "source": [
                "<div class=\"not-editable team\"><h2>Activity 4.1.2</h2></div>"
            ]
        },
        {
            "cell_type": "markdown",
            "metadata": {
                "collapsed": false,
                "editable": false
            },
            "source": [
                "<div class=\"not-editable team\"><span> Consider right triangle <span class=\"m\"> $OPQ$ </span> given in <a href=\"https://activecalculus.org/prelude/sec-trig-right.html#F-right-OPQ\">Figure 4.1.4</a>, and assume that the length of the hypotenuse is <span class=\"m\"> $OP = r$ </span> for some constant <span class=\"m\"> $r \\gt 1$ </span>. Let point <span class=\"m\"> $M$ </span> lie on <span class=\"m\"> $\\overline{OP}$ </span> between <span class=\"m\"> $O$ </span> and <span class=\"m\"> $P$ </span> in such a way that <span class=\"m\"> $OM = 1$ </span>, and let point <span class=\"m\"> $N$ </span> lie on <span class=\"m\"> $\\overline{OQ}$ </span> so that <span class=\"m\"> $\\angle ONM$ </span> is a right angle, as pictured. In addition, assume that point <span class=\"m\"> $O$ </span> corresponds to <span class=\"m\"> $(0,0)$ </span>, point <span class=\"m\"> $Q$ </span> to <span class=\"m\"> $(x,0)$ </span>, and point <span class=\"m\"> $P$ </span> to <span class=\"m\"> $(x,y)$ </span> so that <span class=\"m\"> $OQ = x$ </span> and <span class=\"m\"> $PQ = y$ </span>. Finally, let <span class=\"m\"> $\\theta$ </span> be the measure of <span class=\"m\"> $\\angle POQ$ </span>. </span></div>"
            ]
        },
        {
            "cell_type": "markdown",
            "metadata": {
                "collapsed": false,
                "editable": false
            },
            "source": [
                "<div class=\"not-editable team\"><div><figure><figcaption><b>Figure 4.1.4.</b> Two right triangles <span class=\"m\"> $\\triangle OPQ$ </span> and <span class=\"m\"> $\\triangle OMN$ </span>.</figcaption><div><img src=\"images/right-triangle-act-similar.svg\"/></div></figure></div></div>"
            ]
        },
        {
            "cell_type": "markdown",
            "metadata": {
                "collapsed": false,
                "editable": false
            },
            "source": [
                "<div class=\"not-editable team\"><div><h4>Task A</h4> <span> Explain why <span class=\"m\"> $\\triangle OPQ$ </span> and <span class=\"m\"> $\\triangle OMN$ </span> are similar triangles. </span> </div></div>"
            ]
        },
        {
            "cell_type": "markdown",
            "metadata": {
                "collapsed": false,
                "editable": false
            },
            "source": [
                "<div class=\"not-editable team\"><div><h4>Task B</h4> <span> What is the value of the ratio <span class=\"m\"> $\\frac{OP}{OM}$ </span>? What does this tell you about the ratios <span class=\"m\"> $\\frac{OQ}{ON}$ </span> and <span class=\"m\"> $\\frac{PQ}{MN}$ </span>? </span> </div></div>"
            ]
        },
        {
            "cell_type": "markdown",
            "metadata": {
                "collapsed": false,
                "editable": false
            },
            "source": [
                "<div class=\"not-editable team\"><div><h4>Task C</h4> <span> What is the value of <span class=\"m\"> $ON$ </span> in terms of <span class=\"m\"> $\\theta$ </span>? What is the value of <span class=\"m\"> $MN$ </span> in terms of <span class=\"m\"> $\\theta$ </span>? </span> </div></div>"
            ]
        },
        {
            "cell_type": "markdown",
            "metadata": {
                "collapsed": false,
                "editable": false
            },
            "source": [
                "<div class=\"not-editable team\"><div><h4>Task D</h4> <span> Use your conclusions in (b) and (c) to express the values of <span class=\"m\"> $x$ </span> and <span class=\"m\"> $y$ </span> in terms of <span class=\"m\"> $r$ </span> and <span class=\"m\"> $\\theta$ </span>. </span> </div></div>"
            ]
        },
        {
            "cell_type": "markdown",
            "metadata": {
                "collapsed": false,
                "editable": false
            },
            "source": [
                "<div class=\"not-editable team\"><h2>Activity 4.1.3</h2></div>"
            ]
        },
        {
            "cell_type": "markdown",
            "metadata": {
                "collapsed": false,
                "editable": false
            },
            "source": [
                "<div class=\"not-editable team\"><span> In each of the following scenarios involving a right triangle, determine the exact values of as many of the remaining side lengths and angle measures (in radians) that you can. If there are quantities that you cannot determine, explain why. For every prompt, draw a labeled diagram of the situation. </span></div>"
            ]
        },
        {
            "cell_type": "markdown",
            "metadata": {
                "collapsed": false,
                "editable": false
            },
            "source": [
                "<div class=\"not-editable team\"><div><h4>Task A</h4> <span> A right triangle with hypotenuse <span class=\"m\"> $7$ </span> and one non-right angle of measure <span class=\"m\"> $\\frac{\\pi}{7}$ </span>. </span> </div></div>"
            ]
        },
        {
            "cell_type": "markdown",
            "metadata": {
                "collapsed": false,
                "editable": false
            },
            "source": [
                "<div class=\"not-editable team\"><div><h4>Task B</h4> <span> A right triangle with non-right angle <span class=\"m\"> $\\alpha$ </span> that satisfies <span class=\"m\"> $\\sin(\\alpha) = \\frac{3}{5}$ </span>. </span> </div></div>"
            ]
        },
        {
            "cell_type": "markdown",
            "metadata": {
                "collapsed": false,
                "editable": false
            },
            "source": [
                "<div class=\"not-editable team\"><div><h4>Task C</h4> <span> A right triangle where one of the non-right angles is <span class=\"m\"> $\\beta = 1.2$ </span> and the hypotenuse has length <span class=\"m\"> $2.7$ </span>. </span> </div></div>"
            ]
        },
        {
            "cell_type": "markdown",
            "metadata": {
                "collapsed": false,
                "editable": false
            },
            "source": [
                "<div class=\"not-editable team\"><div><h4>Task D</h4> <span> A right triangle with hypotenuse <span class=\"m\"> $13$ </span> and one leg of length <span class=\"m\"> $6.5$ </span>. </span> </div></div>"
            ]
        },
        {
            "cell_type": "markdown",
            "metadata": {
                "collapsed": false,
                "editable": false
            },
            "source": [
                "<div class=\"not-editable team\"><div><h4>Task E</h4> <span> A right triangle with legs of length <span class=\"m\"> $5$ </span> and <span class=\"m\"> $12$ </span>. </span> </div></div>"
            ]
        },
        {
            "cell_type": "markdown",
            "metadata": {
                "collapsed": false,
                "editable": false
            },
            "source": [
                "<div class=\"not-editable team\"><div><h4>Task F</h4> <span> A right triangle where one of the non-right angles is <span class=\"m\"> $\\beta = \\frac{\\pi}{5}$ </span> and the leg opposite this angle has length <span class=\"m\"> $4$ </span>. </span> </div></div>"
            ]
        },
        {
            "cell_type": "markdown",
            "metadata": {
                "collapsed": false,
                "editable": false
            },
            "source": [
                "<div class=\"not-editable team\"><h2>Activity 4.1.4</h2></div>"
            ]
        },
        {
            "cell_type": "markdown",
            "metadata": {
                "collapsed": false,
                "editable": false
            },
            "source": [
                "<div class=\"not-editable team\"><div class=\"sidebyside\"><span> We want to determine the distance between two points <span class=\"m\"> $A$ </span> and <span class=\"m\"> $B$ </span> that are directly across from one another on opposite sides of a river, as pictured in <a href=\"https://activecalculus.org/prelude/sec-trig-right.html#F-right-act-river\">Figure 4.1.8</a>. We mark the locations of those points and walk <span class=\"m\"> $50$ </span> meters downstream from <span class=\"m\"> $B$ </span> to point <span class=\"m\"> $P$ </span> and use a sextant to measure <span class=\"m\"> $\\angle BPA$ </span>. If the measure of <span class=\"m\"> $\\angle BPA$ </span> is <span class=\"m\"> $56.4^{\\circ}$ </span>, how wide is the river? What other information about the situation can you determine? </span><div><figure><figcaption><b>Figure 4.1.8.</b> Finding the width of the river.</figcaption><div><img src=\"images/right-act-river.svg\"/></div></figure></div></div></div>"
            ]
        }
    ],
    "nbformat": 4,
    "nbformat_minor": 4
}
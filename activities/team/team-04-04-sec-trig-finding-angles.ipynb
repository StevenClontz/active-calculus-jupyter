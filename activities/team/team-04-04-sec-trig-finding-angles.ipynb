{
    "cells": [
        {
            "cell_type": "markdown",
            "metadata": {
                "collapsed": false,
                "editable": false
            },
            "source": [
                "<div class=\"not-editable team\"><style> .not-editable{padding:1em;border-radius:10px;box-shadow:4px 4px 3px #ddd;margin:5px;} .not-editable.individual{background-color:#eefff8;} .not-editable.team{background-color:#eef8ff;} .sidebyside{display:flex;justify-content:center;} .sidebyside > *{margin-right:1em;flex:1;} caption{caption-side:top;white-space: nowrap;color:rgba(0,0,0,.45)}} figcaption{padding-top:0.75em;padding-bottom:0.3em;color:rgba(0,0,0,.45)} .fillin{display:inline-block;width:10em;margin-left:0.2em;margin-right:0.2em;height:1em;border-bottom:1px black solid;} .fn{font-size:0.8em;color:rgba(0,0,0.45)} .newcommands{display:none;} tt{background-color:#f8f8f8;border:1px #888 solid;border-radius:2px;padding-left:0.2em;padding-right:0.2em;} img{background-color:#fff;} </style> <div><h1>Section 4.4 Finding Angles</h1><h2>Team Notebook</h2><div><a href=\"https://activecalculus.org/prelude/sec-trig-finding-angles.html\">https://activecalculus.org/prelude/sec-trig-finding-angles.html</a></div></div></div>"
            ]
        },
        {
            "cell_type": "markdown",
            "metadata": {
                "collapsed": false,
                "editable": false
            },
            "source": [
                "<div class=\"not-editable team\"><h2>Activity 4.4.2</h2></div>"
            ]
        },
        {
            "cell_type": "markdown",
            "metadata": {
                "collapsed": false,
                "editable": false
            },
            "source": [
                "<div class=\"not-editable team\"><span> For each of the following different scenarios, draw a picture of the situation and use inverse trigonometric functions appropriately to determine the missing information both exactly and approximately. </span></div>"
            ]
        },
        {
            "cell_type": "markdown",
            "metadata": {
                "collapsed": false,
                "editable": false
            },
            "source": [
                "<div class=\"not-editable team\"><div><h4>Task A</h4> <span> Consider a right triangle with legs of length <span class=\"m\"> $11$ </span> and <span class=\"m\"> $13$ </span>. What are the measures (in radians) of the non-right angles and what is the length of the hypotenuse? </span> </div></div>"
            ]
        },
        {
            "cell_type": "markdown",
            "metadata": {
                "collapsed": false,
                "editable": false
            },
            "source": [
                "<div class=\"not-editable team\"><div><h4>Task B</h4> <span> Consider an angle <span class=\"m\"> $\\alpha$ </span> in standard position (vertex at the origin, one side on the positive <span class=\"m\"> $x$ </span>-axis) for which we know <span class=\"m\"> $\\cos(\\alpha) = -\\frac{1}{2}$ </span> and <span class=\"m\"> $\\alpha$ </span> lies in quadrant III. What is the measure of <span class=\"m\"> $\\alpha$ </span> in radians? In addition, what is the value of <span class=\"m\"> $\\sin(\\alpha)$ </span>? </span> </div></div>"
            ]
        },
        {
            "cell_type": "markdown",
            "metadata": {
                "collapsed": false,
                "editable": false
            },
            "source": [
                "<div class=\"not-editable team\"><div><h4>Task C</h4> <span> Consider an angle <span class=\"m\"> $\\beta$ </span> in standard position for which we know <span class=\"m\"> $\\sin(\\beta) = 0.1$ </span> and <span class=\"m\"> $\\beta$ </span> lies in quadrant II. What is the measure of <span class=\"m\"> $\\beta$ </span> in radians? In addition, what is the value of <span class=\"m\"> $\\cos(\\beta)$ </span>? </span> </div></div>"
            ]
        },
        {
            "cell_type": "markdown",
            "metadata": {
                "collapsed": false,
                "editable": false
            },
            "source": [
                "<div class=\"not-editable team\"><h2>Activity 4.4.3</h2></div>"
            ]
        },
        {
            "cell_type": "markdown",
            "metadata": {
                "collapsed": false,
                "editable": false
            },
            "source": [
                "<div class=\"not-editable team\"><span> A roof is being built with a <span class=\"q\"> \"7-12 pitch.\" </span> This means that the roof rises <span class=\"m\"> $7$ </span> inches vertically for every <span class=\"m\"> $12$ </span> inches of horizontal span; in other words, the slope of the roof is <span class=\"m\"> $\\frac{7}{12}$ </span>. What is the exact measure (in degrees) of the angle the roof makes with the horizontal? What is the approximate measure? What are the exact and approximate measures of the angle at the peak of the roof (made by the front and back portions of the roof that meet to form the ridge)? </span></div>"
            ]
        },
        {
            "cell_type": "markdown",
            "metadata": {
                "collapsed": false,
                "editable": false
            },
            "source": [
                "<div class=\"not-editable team\"><h2>Activity 4.4.4</h2></div>"
            ]
        },
        {
            "cell_type": "markdown",
            "metadata": {
                "collapsed": false,
                "editable": false
            },
            "source": [
                "<div class=\"not-editable team\"><span> On a baseball diamond (which is a square with <span class=\"m\"> $90$ </span>-foot sides), the third baseman fields the ball right on the line from third base to home plate and <span class=\"m\"> $10$ </span> feet away from third base (towards home plate). When he throws the ball to first base, what angle (in degrees) does the line the ball travels make with the first base line? What angle does it make with the third base line? Draw a well-labeled diagram to support your thinking. </span></div>"
            ]
        },
        {
            "cell_type": "markdown",
            "metadata": {
                "collapsed": false,
                "editable": false
            },
            "source": [
                "<div class=\"not-editable team\"><span> What angles arise if he throws the ball to second base instead? </span></div>"
            ]
        },
        {
            "cell_type": "markdown",
            "metadata": {
                "collapsed": false,
                "editable": false
            },
            "source": [
                "<div class=\"not-editable team\"><h2>Activity 4.4.5</h2></div>"
            ]
        },
        {
            "cell_type": "markdown",
            "metadata": {
                "collapsed": false,
                "editable": false
            },
            "source": [
                "<div class=\"not-editable team\"><span> A camera is tracking the launch of a SpaceX rocket. The camera is located <span class=\"m\"> $4000$ </span>' from the rocket's launching pad, and the camera elevates in order to keep the rocket in focus. At what angle <span class=\"m\"> $\\theta$ </span> (in radians) is the camera tilted when the rocket is <span class=\"m\"> $3000$ </span>' off the ground? Answer both exactly and approximately. </span></div>"
            ]
        },
        {
            "cell_type": "markdown",
            "metadata": {
                "collapsed": false,
                "editable": false
            },
            "source": [
                "<div class=\"not-editable team\"><span> Now, rather than considering the rocket at a fixed height of <span class=\"m\"> $3000$ </span>', let its height vary and call the rocket's height <span class=\"m\"> $h$ </span>. Determine the camera's angle, <span class=\"m\"> $\\theta$ </span> as a function of <span class=\"m\"> $h$ </span>, and compute the average rate of change of <span class=\"m\"> $\\theta$ </span> on the intervals <span class=\"m\"> $[3000,3500]$ </span>, <span class=\"m\"> $[5000,5500]$ </span>, and <span class=\"m\"> $[7000,7500]$ </span>. What do you observe about how the camera angle is changing? </span></div>"
            ]
        }
    ],
    "nbformat": 4,
    "nbformat_minor": 4
}
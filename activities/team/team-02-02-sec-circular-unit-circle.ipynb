{
    "cells": [
        {
            "cell_type": "markdown",
            "metadata": {
                "collapsed": false,
                "editable": false
            },
            "source": [
                "<div class=\"not-editable team\"><style> .not-editable{padding:1em;border-radius:10px;box-shadow:4px 4px 3px #ddd;margin:5px;} .not-editable.individual{background-color:#eefff8;} .not-editable.team{background-color:#eef8ff;} .sidebyside{display:flex;justify-content:center;} .sidebyside > *{margin-right:1em;flex:1;} caption{caption-side:top;white-space: nowrap;color:rgba(0,0,0,.45)}} figcaption{padding-top:0.75em;padding-bottom:0.3em;color:rgba(0,0,0,.45)} .fillin{display:inline-block;width:10em;margin-left:0.2em;margin-right:0.2em;height:1em;border-bottom:1px black solid;} .fn{font-size:0.8em;color:rgba(0,0,0.45)} .newcommands{display:none;} tt{background-color:#f8f8f8;border:1px #888 solid;border-radius:2px;padding-left:0.2em;padding-right:0.2em;} img{background-color:#fff;} </style> <div><h1>Section 2.2 The Unit Circle</h1><h2>Team Notebook</h2><div><a href=\"https://activecalculus.org/prelude/sec-circular-unit-circle.html\">https://activecalculus.org/prelude/sec-circular-unit-circle.html</a></div></div></div>"
            ]
        },
        {
            "cell_type": "markdown",
            "metadata": {
                "collapsed": false,
                "editable": false
            },
            "source": [
                "<div class=\"not-editable team\"><h2>Activity 2.2.2</h2></div>"
            ]
        },
        {
            "cell_type": "markdown",
            "metadata": {
                "collapsed": false,
                "editable": false
            },
            "source": [
                "<div class=\"not-editable team\"><span> Convert each of the following quantities to the alternative measure: degrees to radians or radians to degrees. </span></div>"
            ]
        },
        {
            "cell_type": "markdown",
            "metadata": {
                "collapsed": false,
                "editable": false
            },
            "source": [
                "<div class=\"not-editable team\"><div><h4>Task A</h4> <span> <span class=\"m\"> $30^\\circ$ </span> </span> </div></div>"
            ]
        },
        {
            "cell_type": "markdown",
            "metadata": {
                "collapsed": false,
                "editable": false
            },
            "source": [
                "<div class=\"not-editable team\"><div><h4>Task B</h4> <span> <span class=\"m\"> $\\frac{2\\pi}{3}$ </span> radians </span> </div></div>"
            ]
        },
        {
            "cell_type": "markdown",
            "metadata": {
                "collapsed": false,
                "editable": false
            },
            "source": [
                "<div class=\"not-editable team\"><div><h4>Task C</h4> <span> <span class=\"m\"> $\\frac{5\\pi}{4}$ </span> radians </span> </div></div>"
            ]
        },
        {
            "cell_type": "markdown",
            "metadata": {
                "collapsed": false,
                "editable": false
            },
            "source": [
                "<div class=\"not-editable team\"><div><h4>Task D</h4> <span> <span class=\"m\"> $240^\\circ$ </span> </span> </div></div>"
            ]
        },
        {
            "cell_type": "markdown",
            "metadata": {
                "collapsed": false,
                "editable": false
            },
            "source": [
                "<div class=\"not-editable team\"><div><h4>Task E</h4> <span> <span class=\"m\"> $17^\\circ$ </span> </span> </div></div>"
            ]
        },
        {
            "cell_type": "markdown",
            "metadata": {
                "collapsed": false,
                "editable": false
            },
            "source": [
                "<div class=\"not-editable team\"><div><h4>Task F</h4> <span> <span class=\"m\"> $2$ </span> radians </span> </div></div>"
            ]
        },
        {
            "cell_type": "markdown",
            "metadata": {
                "collapsed": false,
                "editable": false
            },
            "source": [
                "<div class=\"not-editable team\"><h2>Activity 2.2.3</h2></div>"
            ]
        },
        {
            "cell_type": "markdown",
            "metadata": {
                "collapsed": false,
                "editable": false
            },
            "source": [
                "<div class=\"not-editable team\"><span> In what follows, we work to understand key relationships in <span class=\"m\"> $45^\\circ$ </span>-<span class=\"m\"> $45^\\circ$ </span>-<span class=\"m\"> $90^\\circ$ </span> and <span class=\"m\"> $30^\\circ$ </span>-<span class=\"m\"> $60^\\circ$ </span>-<span class=\"m\"> $90^\\circ$ </span> triangles. </span></div>"
            ]
        },
        {
            "cell_type": "markdown",
            "metadata": {
                "collapsed": false,
                "editable": false
            },
            "source": [
                "<div class=\"not-editable team\"><div class=\"sidebyside\"><div><figure><figcaption><b>Figure 2.2.6.</b> A right triangle with two <span class=\"m\"> $45^\\circ$ </span> angles.</figcaption><div><img src=\"images/unit-circle-45-45-90.svg\"/></div></figure></div><div><figure><figcaption><b>Figure 2.2.7.</b> A right triangle with a <span class=\"m\"> $30^\\circ$ </span> angle.</figcaption><div><img src=\"images/unit-circle-30-60-90.svg\"/></div></figure></div></div></div>"
            ]
        },
        {
            "cell_type": "markdown",
            "metadata": {
                "collapsed": false,
                "editable": false
            },
            "source": [
                "<div class=\"not-editable team\"><div><h4>Task A</h4> <span> For the <span class=\"m\"> $45^\\circ$ </span>-<span class=\"m\"> $45^\\circ$ </span>-<span class=\"m\"> $90^\\circ$ </span> triangle with legs <span class=\"m\"> $x$ </span> and <span class=\"m\"> $y$ </span> and hypotenuse <span class=\"m\"> $1$ </span>, what does the fact that the triangle is isosceles tell us about the relationship between <span class=\"m\"> $x$ </span> and <span class=\"m\"> $y$ </span>? What are their exact values? </span> </div></div>"
            ]
        },
        {
            "cell_type": "markdown",
            "metadata": {
                "collapsed": false,
                "editable": false
            },
            "source": [
                "<div class=\"not-editable team\"><div><h4>Task B</h4> <span> Now consider the <span class=\"m\"> $30^\\circ$ </span>-<span class=\"m\"> $60^\\circ$ </span>-<span class=\"m\"> $90^\\circ$ </span> triangle with hypotenuse <span class=\"m\"> $1$ </span> and the longer leg lying along the positive <span class=\"m\"> $x$ </span>-axis. What special kind of triangle is formed when we reflect this triangle across the <span class=\"m\"> $x$ </span>-axis? How can we use this perspective to determine the exact values of <span class=\"m\"> $x$ </span> and <span class=\"m\"> $y$ </span>? </span> </div></div>"
            ]
        },
        {
            "cell_type": "markdown",
            "metadata": {
                "collapsed": false,
                "editable": false
            },
            "source": [
                "<div class=\"not-editable team\"><div><h4>Task C</h4> <span> Suppose we consider the related <span class=\"m\"> $30^\\circ$ </span>-<span class=\"m\"> $60^\\circ$ </span>-<span class=\"m\"> $90^\\circ$ </span> triangle with hypotenuse <span class=\"m\"> $1$ </span> and the shorter leg lying along the positive <span class=\"m\"> $x$ </span>-axis. What are the exact values of <span class=\"m\"> $x$ </span> and <span class=\"m\"> $y$ </span> in this triangle? </span> </div></div>"
            ]
        },
        {
            "cell_type": "markdown",
            "metadata": {
                "collapsed": false,
                "editable": false
            },
            "source": [
                "<div class=\"not-editable team\"><div><h4>Task D</h4> <span> We know from the conversion factor from degrees to radians that an angle of <span class=\"m\"> $30^\\circ$ </span> corresponds to an angle measuring <span class=\"m\"> $\\frac{\\pi}{6}$ </span> radians, an angle of <span class=\"m\"> $45^\\circ$ </span> corresponds to <span class=\"m\"> $\\frac{\\pi}{4}$ </span> radians, and <span class=\"m\"> $60^\\circ$ </span> corresponds to <span class=\"m\"> $\\frac{\\pi}{3}$ </span> radians. </span> <div class=\"sidebyside\"><div><figure><figcaption><b>Figure 2.2.8.</b> An angle measuring <span class=\"m\"> $\\frac{\\pi}{6}$ </span> radians.</figcaption><div><img src=\"images/unit-circle-pi-6.svg\"/></div></figure></div><div><figure><figcaption><b>Figure 2.2.9.</b> An angle measuring <span class=\"m\"> $\\frac{\\pi}{6}$ </span> radians.</figcaption><div><img src=\"images/unit-circle-pi-4.svg\"/></div></figure></div><div><figure><figcaption><b>Figure 2.2.10.</b> An angle measuring <span class=\"m\"> $\\frac{\\pi}{6}$ </span> radians.</figcaption><div><img src=\"images/unit-circle-pi-3.svg\"/></div></figure></div></div> <span> Use your work in (a), (b), and (c) to label the noted point in each of <a href=\"https://activecalculus.org/prelude/sec-circular-unit-circle.html#F-unit-circle-pi-6\">Figure 2.2.8</a>, <a href=\"https://activecalculus.org/prelude/sec-circular-unit-circle.html#F-unit-circle-pi-4\">Figure 2.2.9</a>, and <a href=\"https://activecalculus.org/prelude/sec-circular-unit-circle.html#F-unit-circle-pi-3\">Figure 2.2.10</a>, respectively, with its exact coordinates. </span> </div></div>"
            ]
        },
        {
            "cell_type": "markdown",
            "metadata": {
                "collapsed": false,
                "editable": false
            },
            "source": [
                "<div class=\"not-editable team\"><h2>Activity 2.2.4</h2></div>"
            ]
        },
        {
            "cell_type": "markdown",
            "metadata": {
                "collapsed": false,
                "editable": false
            },
            "source": [
                "<div class=\"not-editable team\"><span> Determine each of the following values or points exactly. </span></div>"
            ]
        },
        {
            "cell_type": "markdown",
            "metadata": {
                "collapsed": false,
                "editable": false
            },
            "source": [
                "<div class=\"not-editable team\"><div><h4>Task A</h4> <span> In a circle of radius <span class=\"m\"> $11$ </span>, the arc length intercepted by a central angle of <span class=\"m\"> $\\frac{5\\pi}{3}$ </span>. </span> </div></div>"
            ]
        },
        {
            "cell_type": "markdown",
            "metadata": {
                "collapsed": false,
                "editable": false
            },
            "source": [
                "<div class=\"not-editable team\"><div><h4>Task B</h4> <span> In a circle of radius <span class=\"m\"> $3$ </span>, the central angle measure that intercepts an arc of length <span class=\"m\"> $\\frac{\\pi}{4}$ </span>. </span> </div></div>"
            ]
        },
        {
            "cell_type": "markdown",
            "metadata": {
                "collapsed": false,
                "editable": false
            },
            "source": [
                "<div class=\"not-editable team\"><div><h4>Task C</h4> <span> The radius of the circle in which an angle of <span class=\"m\"> $\\frac{7\\pi}{6}$ </span> intercepts an arc of length <span class=\"m\"> $\\frac{\\pi}{2}$ </span>. </span> </div></div>"
            ]
        },
        {
            "cell_type": "markdown",
            "metadata": {
                "collapsed": false,
                "editable": false
            },
            "source": [
                "<div class=\"not-editable team\"><div><h4>Task D</h4> <span> The exact coordinates of the point on the circle of radius <span class=\"m\"> $5$ </span> that lies <span class=\"m\"> $\\frac{25\\pi}{6}$ </span> units counterclockwise along the circle from <span class=\"m\"> $(5,0)$ </span>. </span> </div></div>"
            ]
        }
    ],
    "nbformat": 4,
    "nbformat_minor": 4
}
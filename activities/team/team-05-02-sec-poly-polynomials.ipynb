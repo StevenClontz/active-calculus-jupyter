{
    "cells": [
        {
            "cell_type": "markdown",
            "metadata": {
                "collapsed": false,
                "editable": false
            },
            "source": [
                "<div class=\"not-editable team\"><style> .not-editable{padding:1em;border-radius:10px;box-shadow:4px 4px 3px #ddd;margin:5px;} .not-editable.individual{background-color:#eefff8;} .not-editable.team{background-color:#eef8ff;} .sidebyside{display:flex;justify-content:center;} .sidebyside > *{margin-right:1em;flex:1;} caption{caption-side:top;white-space: nowrap;color:rgba(0,0,0,.45)}} figcaption{padding-top:0.75em;padding-bottom:0.3em;color:rgba(0,0,0,.45)} .fillin{display:inline-block;width:10em;margin-left:0.2em;margin-right:0.2em;height:1em;border-bottom:1px black solid;} .fn{font-size:0.8em;color:rgba(0,0,0.45)} .newcommands{display:none;} tt{background-color:#f8f8f8;border:1px #888 solid;border-radius:2px;padding-left:0.2em;padding-right:0.2em;} img{background-color:#fff;} </style> <div><h1>Section 5.2 Polynomials</h1><h2>Team Notebook</h2><div><a href=\"https://activecalculus.org/prelude/sec-poly-polynomials.html\">https://activecalculus.org/prelude/sec-poly-polynomials.html</a></div></div></div>"
            ]
        },
        {
            "cell_type": "markdown",
            "metadata": {
                "collapsed": false,
                "editable": false
            },
            "source": [
                "<div class=\"not-editable team\"><h2>Activity 5.2.2</h2></div>"
            ]
        },
        {
            "cell_type": "markdown",
            "metadata": {
                "collapsed": false,
                "editable": false
            },
            "source": [
                "<div class=\"not-editable team\"><span> By experimenting with coefficients in Desmos, find a formula for a polynomial function that has the stated properties, or explain why no such polynomial exists. (If you enter p(x)=a+bx+cx^2+dx^3+fx^4+gx^5 in Desmos, you'll get prompted to add sliders that make it easy to explore a degree <span class=\"m\"> $5$ </span> polynomial.) </span></div>"
            ]
        },
        {
            "cell_type": "markdown",
            "metadata": {
                "collapsed": false,
                "editable": false
            },
            "source": [
                "<div class=\"not-editable team\"><div><h4>Task A</h4> <span> A polynomial <span class=\"m\"> $p$ </span> of degree <span class=\"m\"> $5$ </span> with exactly <span class=\"m\"> $3$ </span> real zeros, <span class=\"m\"> $4$ </span> turning points, and such that <span class=\"m\"> $\\lim_{x \\to -\\infty} p(x) = +\\infty$ </span> and <span class=\"m\"> $\\lim_{x \\to \\infty} p(x) = -\\infty$ </span>. </span> </div></div>"
            ]
        },
        {
            "cell_type": "markdown",
            "metadata": {
                "collapsed": false,
                "editable": false
            },
            "source": [
                "<div class=\"not-editable team\"><div><h4>Task B</h4> <span> A polynomial <span class=\"m\"> $p$ </span> of degree <span class=\"m\"> $4$ </span> with exactly <span class=\"m\"> $4$ </span> real zeros, <span class=\"m\"> $3$ </span> turning points, and such that <span class=\"m\"> $\\lim_{x \\to -\\infty} p(x) = +\\infty$ </span> and <span class=\"m\"> $\\lim_{x \\to \\infty} p(x) = -\\infty$ </span>. </span> </div></div>"
            ]
        },
        {
            "cell_type": "markdown",
            "metadata": {
                "collapsed": false,
                "editable": false
            },
            "source": [
                "<div class=\"not-editable team\"><div><h4>Task C</h4> <span> A polynomial <span class=\"m\"> $p$ </span> of degree <span class=\"m\"> $6$ </span> with exactly <span class=\"m\"> $2$ </span> real zeros, <span class=\"m\"> $3$ </span> turning points, and such that <span class=\"m\"> $\\lim_{x \\to -\\infty} p(x) = -\\infty$ </span> and <span class=\"m\"> $\\lim_{x \\to \\infty} p(x) = -\\infty$ </span>. </span> </div></div>"
            ]
        },
        {
            "cell_type": "markdown",
            "metadata": {
                "collapsed": false,
                "editable": false
            },
            "source": [
                "<div class=\"not-editable team\"><div><h4>Task D</h4> <span> A polynomial <span class=\"m\"> $p$ </span> of degree <span class=\"m\"> $5$ </span> with exactly <span class=\"m\"> $5$ </span> real zeros, <span class=\"m\"> $3$ </span> turning points, and such that <span class=\"m\"> $\\lim_{x \\to -\\infty} p(x) = +\\infty$ </span> and <span class=\"m\"> $\\lim_{x \\to \\infty} p(x) = -\\infty$ </span>. </span> </div></div>"
            ]
        },
        {
            "cell_type": "markdown",
            "metadata": {
                "collapsed": false,
                "editable": false
            },
            "source": [
                "<div class=\"not-editable team\"><h2>Activity 5.2.3</h2></div>"
            ]
        },
        {
            "cell_type": "markdown",
            "metadata": {
                "collapsed": false,
                "editable": false
            },
            "source": [
                "<div class=\"not-editable team\"><span> Consider the polynomial function given by <span class=\"m\"> $$ p(x) = 4692(x+1520)(x^2+10000)(x-3471)^2(x-9738) $$ </span>. </span></div>"
            ]
        },
        {
            "cell_type": "markdown",
            "metadata": {
                "collapsed": false,
                "editable": false
            },
            "source": [
                "<div class=\"not-editable team\"><div><h4>Task A</h4> <span> What is the degree of <span class=\"m\"> $p$ </span>? How can you tell without fully expanding the factored form of the function? </span> </div></div>"
            ]
        },
        {
            "cell_type": "markdown",
            "metadata": {
                "collapsed": false,
                "editable": false
            },
            "source": [
                "<div class=\"not-editable team\"><div><h4>Task B</h4> <span> What can you say about the sign of the factor <span class=\"m\"> $(x^2 + 10000)$ </span>? </span> </div></div>"
            ]
        },
        {
            "cell_type": "markdown",
            "metadata": {
                "collapsed": false,
                "editable": false
            },
            "source": [
                "<div class=\"not-editable team\"><div><h4>Task C</h4> <span> What are the zeros of the polynomial <span class=\"m\"> $p$ </span>? </span> </div></div>"
            ]
        },
        {
            "cell_type": "markdown",
            "metadata": {
                "collapsed": false,
                "editable": false
            },
            "source": [
                "<div class=\"not-editable team\"><div><h4>Task D</h4> <span> Construct a sign chart for <span class=\"m\"> $p$ </span> by using the zeros you identified in (b) and then analyzing the sign of each factor of <span class=\"m\"> $p$ </span>. </span> </div></div>"
            ]
        },
        {
            "cell_type": "markdown",
            "metadata": {
                "collapsed": false,
                "editable": false
            },
            "source": [
                "<div class=\"not-editable team\"><div><h4>Task E</h4> <span> Without using a graphing utility, construct an approximate graph of <span class=\"m\"> $p$ </span> that has the zeros of <span class=\"m\"> $p$ </span> carefully labeled on the <span class=\"m\"> $x$ </span>-axis. </span> </div></div>"
            ]
        },
        {
            "cell_type": "markdown",
            "metadata": {
                "collapsed": false,
                "editable": false
            },
            "source": [
                "<div class=\"not-editable team\"><div><h4>Task F</h4> <span> Use a graphing utility to check your earlier work. What is challenging or misleading when using technology to graph <span class=\"m\"> $p$ </span>? </span> </div></div>"
            ]
        },
        {
            "cell_type": "markdown",
            "metadata": {
                "collapsed": false,
                "editable": false
            },
            "source": [
                "<div class=\"not-editable team\"><h2>Activity 5.2.4</h2></div>"
            ]
        },
        {
            "cell_type": "markdown",
            "metadata": {
                "collapsed": false,
                "editable": false
            },
            "source": [
                "<div class=\"not-editable team\"><span> For each of the following prompts, try to determine a formula for a polynomial that satisfies the given criteria. If no such polynomial exists, explain why. </span></div>"
            ]
        },
        {
            "cell_type": "markdown",
            "metadata": {
                "collapsed": false,
                "editable": false
            },
            "source": [
                "<div class=\"not-editable team\"><div><h4>Task A</h4> <span> A polynomial <span class=\"m\"> $f$ </span> of degree <span class=\"m\"> $10$ </span> whose zeros are <span class=\"m\"> $x = -12$ </span> (multiplicity <span class=\"m\"> $3$ </span>), <span class=\"m\"> $x = -9$ </span> (multiplicity <span class=\"m\"> $2$ </span>), <span class=\"m\"> $x = 4$ </span> (multiplicity <span class=\"m\"> $4$ </span>), and <span class=\"m\"> $x = 10$ </span> (multiplicity <span class=\"m\"> $1$ </span>), and <span class=\"m\"> $f$ </span> satisfies <span class=\"m\"> $f(0) = 21$ </span>. What can you say about the values of <span class=\"m\"> $\\lim_{x \\to -\\infty} f(x)$ </span> and <span class=\"m\"> $\\lim_{x \\to \\infty} f(x)$ </span>? </span> </div></div>"
            ]
        },
        {
            "cell_type": "markdown",
            "metadata": {
                "collapsed": false,
                "editable": false
            },
            "source": [
                "<div class=\"not-editable team\"><div><h4>Task B</h4> <span> A polynomial <span class=\"m\"> $p$ </span> of degree <span class=\"m\"> $9$ </span> that satisfies <span class=\"m\"> $p(0) = -2$ </span> and has the graph shown in <a href=\"https://activecalculus.org/prelude/sec-poly-polynomials.html#F-polynomial-degree-9\">Figure 5.2.14</a>. Assume that all of the zeros of <span class=\"m\"> $p$ </span> are shown in the figure. </span> </div></div>"
            ]
        },
        {
            "cell_type": "markdown",
            "metadata": {
                "collapsed": false,
                "editable": false
            },
            "source": [
                "<div class=\"not-editable team\"><div><h4>Task C</h4> <span> A polynomial <span class=\"m\"> $q$ </span> of degree <span class=\"m\"> $8$ </span> with <span class=\"m\"> $3$ </span> distinct real zeros (possibly of different multiplicities) such that <span class=\"m\"> $q$ </span> has the sign chart in <a href=\"https://activecalculus.org/prelude/sec-poly-polynomials.html#F-polynomial-sign-chart-2\">Figure 5.2.15</a> and satisfies <span class=\"m\"> $q(0) = -10$ </span>. </span> <div class=\"sidebyside\"><div><figure><figcaption><b>Figure 5.2.14.</b> A degree <span class=\"m\"> $9$ </span> polynomial <span class=\"m\"> $p$ </span>. </figcaption><div><img src=\"images/poly-degree-9.svg\"/></div></figure></div><div><figure><figcaption><b>Figure 5.2.15.</b> A sign chart for the polynomial <span class=\"m\"> $q$ </span>.</figcaption><div><img src=\"images/poly-sign-chart-2.svg\"/></div></figure></div></div> </div></div>"
            ]
        },
        {
            "cell_type": "markdown",
            "metadata": {
                "collapsed": false,
                "editable": false
            },
            "source": [
                "<div class=\"not-editable team\"><div><h4>Task D</h4> <span> A polynomial <span class=\"m\"> $q$ </span> of degree <span class=\"m\"> $9$ </span> with <span class=\"m\"> $3$ </span> distinct real zeros (possibly of different multiplicities) such that <span class=\"m\"> $q$ </span> satisfies the sign chart in <a href=\"https://activecalculus.org/prelude/sec-poly-polynomials.html#F-polynomial-sign-chart-2\">Figure 5.2.15</a> and satisfies <span class=\"m\"> $q(0) = -10$ </span>. </span> </div></div>"
            ]
        },
        {
            "cell_type": "markdown",
            "metadata": {
                "collapsed": false,
                "editable": false
            },
            "source": [
                "<div class=\"not-editable team\"><div><h4>Task E</h4> <span> A polynomial <span class=\"m\"> $p$ </span> of degree <span class=\"m\"> $11$ </span> that satisfies <span class=\"m\"> $p(0) = -2$ </span> and <span class=\"m\"> $p$ </span> has the graph shown in <a href=\"https://activecalculus.org/prelude/sec-poly-polynomials.html#F-polynomial-degree-9\">Figure 5.2.14</a>. Assume that all of the zeros of <span class=\"m\"> $p$ </span> are shown in the figure. </span> </div></div>"
            ]
        }
    ],
    "nbformat": 4,
    "nbformat_minor": 4
}
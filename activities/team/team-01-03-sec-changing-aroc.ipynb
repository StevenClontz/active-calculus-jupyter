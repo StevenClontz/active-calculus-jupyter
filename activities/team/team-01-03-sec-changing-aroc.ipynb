{
    "cells": [
        {
            "cell_type": "markdown",
            "metadata": {
                "collapsed": false,
                "editable": false
            },
            "source": [
                "<div class=\"not-editable team\"><style> .not-editable{padding:1em;border-radius:10px;box-shadow:4px 4px 3px #ddd;margin:5px;} .not-editable.individual{background-color:#eefff8;} .not-editable.team{background-color:#eef8ff;} .sidebyside{display:flex;justify-content:center;} .sidebyside > *{margin-right:1em;flex:1;} caption{caption-side:top;white-space: nowrap;color:rgba(0,0,0,.45)}} figcaption{padding-top:0.75em;padding-bottom:0.3em;color:rgba(0,0,0,.45)} .fillin{display:inline-block;width:10em;margin-left:0.2em;margin-right:0.2em;height:1em;border-bottom:1px black solid;} .fn{font-size:0.8em;color:rgba(0,0,0.45)} .newcommands{display:none;} tt{background-color:#f8f8f8;border:1px #888 solid;border-radius:2px;padding-left:0.2em;padding-right:0.2em;} img{background-color:#fff;} </style> <div><h1>Section 1.3 The Average Rate of Change of a Function</h1><h2>Team Notebook</h2><div><a href=\"https://activecalculus.org/prelude/sec-changing-aroc.html\">https://activecalculus.org/prelude/sec-changing-aroc.html</a></div></div></div>"
            ]
        },
        {
            "cell_type": "markdown",
            "metadata": {
                "collapsed": false,
                "editable": false
            },
            "source": [
                "<div class=\"not-editable team\"><h2>Activity 1.3.2</h2></div>"
            ]
        },
        {
            "cell_type": "markdown",
            "metadata": {
                "collapsed": false,
                "editable": false
            },
            "source": [
                "<div class=\"not-editable team\"><span> According to the US census, the populations of Kent and Ottawa Counties in Michigan where GVSU is located from 1960 to 2010 measured in <span class=\"m\"> $10$ </span>-year intervals are given in the following tables. </span></div>"
            ]
        },
        {
            "cell_type": "markdown",
            "metadata": {
                "collapsed": false,
                "editable": false
            },
            "source": [
                "<div class=\"not-editable team\"><div><table><caption><b>Table 1.3.5.</b> Kent County population data.</caption><tr><td>1960</td><td>1970</td><td>1980</td><td>1990</td><td>2000</td><td>2010</td></tr><tr><td>363,187</td><td>411,044</td><td>444,506</td><td>500,631</td><td>574,336</td><td>602,622</td></tr></table></div></div>"
            ]
        },
        {
            "cell_type": "markdown",
            "metadata": {
                "collapsed": false,
                "editable": false
            },
            "source": [
                "<div class=\"not-editable team\"><div><table><caption><b>Table 1.3.6.</b> Ottawa county population data.</caption><tr><td>1960</td><td>1970</td><td>1980</td><td>1990</td><td>2000</td><td>2010</td></tr><tr><td>98,719</td><td>128,181</td><td>157,174</td><td>187,768</td><td>238,313</td><td>263,801</td></tr></table></div></div>"
            ]
        },
        {
            "cell_type": "markdown",
            "metadata": {
                "collapsed": false,
                "editable": false
            },
            "source": [
                "<div class=\"not-editable team\"><span> Let <span class=\"m\"> $K(Y)$ </span> represent the population of Kent County in year <span class=\"m\"> $Y$ </span> and <span class=\"m\"> $W(Y)$ </span> the population of Ottawa County in year Y. </span></div>"
            ]
        },
        {
            "cell_type": "markdown",
            "metadata": {
                "collapsed": false,
                "editable": false
            },
            "source": [
                "<div class=\"not-editable team\"><div><h4>Task A</h4> <span> Compute <span class=\"m\"> $AV_{[1990,2010]}$ </span> for both <span class=\"m\"> $K$ </span> and <span class=\"m\"> $W$ </span>. </span> </div></div>"
            ]
        },
        {
            "cell_type": "markdown",
            "metadata": {
                "collapsed": false,
                "editable": false
            },
            "source": [
                "<div class=\"not-editable team\"><div><h4>Task B</h4> <span> What are the units on each of the quantities you computed in (a.)? </span> </div></div>"
            ]
        },
        {
            "cell_type": "markdown",
            "metadata": {
                "collapsed": false,
                "editable": false
            },
            "source": [
                "<div class=\"not-editable team\"><div><h4>Task C</h4> <span> Write a careful sentence that explains the meaning of the average rate of change of the Ottawa county population on the time interval <span class=\"m\"> $[1990,2010]$ </span>. Your sentence should begin something like <span class=\"q\"> \"In an average year between 1990 and 2010, the population of Ottawa County was <span class=\"m\"> $\\ldots$ </span>\" </span> </span> </div></div>"
            ]
        },
        {
            "cell_type": "markdown",
            "metadata": {
                "collapsed": false,
                "editable": false
            },
            "source": [
                "<div class=\"not-editable team\"><div><h4>Task D</h4> <span> Which county had a greater average rate of change during the time interval <span class=\"m\"> $[2000,2010]$ </span>? Were there any intervals in which one of the counties had a negative average rate of change? </span> </div></div>"
            ]
        },
        {
            "cell_type": "markdown",
            "metadata": {
                "collapsed": false,
                "editable": false
            },
            "source": [
                "<div class=\"not-editable team\"><div><h4>Task E</h4> <span> Using the given data, what do you predict will be the population of Ottawa County in 2018? Why? </span> </div></div>"
            ]
        },
        {
            "cell_type": "markdown",
            "metadata": {
                "collapsed": false,
                "editable": false
            },
            "source": [
                "<div class=\"not-editable team\"><h2>Activity 1.3.3</h2></div>"
            ]
        },
        {
            "cell_type": "markdown",
            "metadata": {
                "collapsed": false,
                "editable": false
            },
            "source": [
                "<div class=\"not-editable team\"><span> Let's consider two different functions and see how different computations of their average rate of change tells us about their respective behavior. Plots of <span class=\"m\"> $q$ </span> and <span class=\"m\"> $h$ </span> are shown in <a href=\"https://activecalculus.org/prelude/sec-changing-aroc.html#F-act-aroc-trends-q\">Figure 1.3.8</a> and <a href=\"https://activecalculus.org/prelude/sec-changing-aroc.html#F-act-aroc-trends-h\">Figure 1.3.9</a>. </span></div>"
            ]
        },
        {
            "cell_type": "markdown",
            "metadata": {
                "collapsed": false,
                "editable": false
            },
            "source": [
                "<div class=\"not-editable team\"><div><h4>Task A</h4> <span> Consider the function <span class=\"m\"> $q(x) = 4-(x-2)^2$ </span>. Compute <span class=\"m\"> $AV_{[0,1]}$ </span>, <span class=\"m\"> $AV_{[1,2]}$ </span>, <span class=\"m\"> $AV_{[2,3]}$ </span>, and <span class=\"m\"> $AV_{[3,4]}$ </span>. What do your last two computations tell you about the behavior of the function <span class=\"m\"> $q$ </span> on <span class=\"m\"> $[2,4]$ </span>? </span> </div></div>"
            ]
        },
        {
            "cell_type": "markdown",
            "metadata": {
                "collapsed": false,
                "editable": false
            },
            "source": [
                "<div class=\"not-editable team\"><div><h4>Task B</h4> <span> Consider the function <span class=\"m\"> $h(t) = 3 - 2(0.5)^t$ </span>. Compute <span class=\"m\"> $AV_{[-1,1]}$ </span>, <span class=\"m\"> $AV_{[1,3]}$ </span>, and <span class=\"m\"> $AV_{[3,5]}$ </span>. What do your computations tell you about the behavior of the function <span class=\"m\"> $h$ </span> on <span class=\"m\"> $[-1,5]$ </span>? </span> </div></div>"
            ]
        },
        {
            "cell_type": "markdown",
            "metadata": {
                "collapsed": false,
                "editable": false
            },
            "source": [
                "<div class=\"not-editable team\"><div><h4>Task C</h4> <span> On the graphs in <a href=\"https://activecalculus.org/prelude/sec-changing-aroc.html#F-act-aroc-trends-q\">Figure 1.3.8</a> and <a href=\"https://activecalculus.org/prelude/sec-changing-aroc.html#F-act-aroc-trends-h\">Figure 1.3.9</a>, plot the line segments whose respective slopes are the average rates of change you computed in (a) and (b). </span> <div class=\"sidebyside\"><div><figure><figcaption><b>Figure 1.3.8.</b> Plot of <span class=\"m\"> $q$ </span> from part (a).</figcaption><div><img src=\"images/aroc-act-trends-q.svg\"/></div></figure></div><div><figure><figcaption><b>Figure 1.3.9.</b> Plot of <span class=\"m\"> $h$ </span> from part (b).</figcaption><div><img src=\"images/aroc-act-trends-h.svg\"/></div></figure></div></div> </div></div>"
            ]
        },
        {
            "cell_type": "markdown",
            "metadata": {
                "collapsed": false,
                "editable": false
            },
            "source": [
                "<div class=\"not-editable team\"><div><h4>Task D</h4> <span> True or false: Since <span class=\"m\"> $AV_{[0,3]} = 1$ </span>, the function <span class=\"m\"> $q$ </span> is increasing on the interval <span class=\"m\"> $(0,3)$ </span>. Justify your decision. </span> </div></div>"
            ]
        },
        {
            "cell_type": "markdown",
            "metadata": {
                "collapsed": false,
                "editable": false
            },
            "source": [
                "<div class=\"not-editable team\"><div><h4>Task E</h4> <span> Give an example of a function that has the same average rate of change no matter what interval you choose. You can provide your example through a table, a graph, or a formula; regardless of your choice, write a sentence to explain. </span> </div></div>"
            ]
        },
        {
            "cell_type": "markdown",
            "metadata": {
                "collapsed": false,
                "editable": false
            },
            "source": [
                "<div class=\"not-editable team\"><h2>Activity 1.3.4</h2></div>"
            ]
        },
        {
            "cell_type": "markdown",
            "metadata": {
                "collapsed": false,
                "editable": false
            },
            "source": [
                "<div class=\"not-editable team\"><span> Sketch at least two different possible graphs that satisfy the criteria for the function stated in each part. Make your graphs as significantly different as you can. If it is impossible for a graph to satisfy the criteria, explain why. </span></div>"
            ]
        },
        {
            "cell_type": "markdown",
            "metadata": {
                "collapsed": false,
                "editable": false
            },
            "source": [
                "<div class=\"not-editable team\"><div><h4>Task A</h4> <span> <span class=\"m\"> $f$ </span> is a function defined on <span class=\"m\"> $[-1,7]$ </span> such that <span class=\"m\"> $f(1) = 4$ </span> and <span class=\"m\"> $AV_{[1,3]} = -2$ </span>. </span> <div class=\"sidebyside\"><div><img src=\"images/functions-y-x-blank-axes.svg\"/></div><div><img src=\"images/functions-y-x-blank-axes.svg\"/></div></div> </div></div>"
            ]
        },
        {
            "cell_type": "markdown",
            "metadata": {
                "collapsed": false,
                "editable": false
            },
            "source": [
                "<div class=\"not-editable team\"><div><h4>Task B</h4> <span> <span class=\"m\"> $g$ </span> is a function defined on <span class=\"m\"> $[-1,7]$ </span> such that <span class=\"m\"> $g(4) = 3$ </span>, <span class=\"m\"> $AV_{[0,4]} = 0.5$ </span>, and <span class=\"m\"> $g$ </span> is not always increasing on <span class=\"m\"> $(0,4)$ </span>. </span> <div class=\"sidebyside\"><div><img src=\"images/functions-y-x-blank-axes.svg\"/></div><div><img src=\"images/functions-y-x-blank-axes.svg\"/></div></div> </div></div>"
            ]
        },
        {
            "cell_type": "markdown",
            "metadata": {
                "collapsed": false,
                "editable": false
            },
            "source": [
                "<div class=\"not-editable team\"><div><h4>Task C</h4> <span> <span class=\"m\"> $h$ </span> is a function defined on <span class=\"m\"> $[-1,7]$ </span> such that <span class=\"m\"> $h(2) = 5$ </span>, <span class=\"m\"> $h(4) = 3$ </span> and <span class=\"m\"> $AV_{[2,4]} = -2$ </span>. </span> <div class=\"sidebyside\"><div><img src=\"images/functions-y-x-blank-axes.svg\"/></div><div><img src=\"images/functions-y-x-blank-axes.svg\"/></div></div> </div></div>"
            ]
        }
    ],
    "nbformat": 4,
    "nbformat_minor": 4
}
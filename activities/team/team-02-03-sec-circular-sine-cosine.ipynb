{
    "cells": [
        {
            "cell_type": "markdown",
            "metadata": {
                "collapsed": false,
                "editable": false
            },
            "source": [
                "<div class=\"not-editable team\"><style> .not-editable{padding:1em;border-radius:10px;box-shadow:4px 4px 3px #ddd;margin:5px;} .not-editable.individual{background-color:#eefff8;} .not-editable.team{background-color:#eef8ff;} .sidebyside{display:flex;justify-content:center;} .sidebyside > *{margin-right:1em;flex:1;} caption{caption-side:top;white-space: nowrap;color:rgba(0,0,0,.45)}} figcaption{padding-top:0.75em;padding-bottom:0.3em;color:rgba(0,0,0,.45)} .fillin{display:inline-block;width:10em;margin-left:0.2em;margin-right:0.2em;height:1em;border-bottom:1px black solid;} .fn{font-size:0.8em;color:rgba(0,0,0.45)} .newcommands{display:none;} tt{background-color:#f8f8f8;border:1px #888 solid;border-radius:2px;padding-left:0.2em;padding-right:0.2em;} img{background-color:#fff;} </style> <div><h1>Section 2.3 The Sine and Cosine Functions</h1><h2>Team Notebook</h2><div><a href=\"https://activecalculus.org/prelude/sec-circular-sine-cosine.html\">https://activecalculus.org/prelude/sec-circular-sine-cosine.html</a></div></div></div>"
            ]
        },
        {
            "cell_type": "markdown",
            "metadata": {
                "collapsed": false,
                "editable": false
            },
            "source": [
                "<div class=\"not-editable team\"><h2>Activity 2.3.2</h2></div>"
            ]
        },
        {
            "cell_type": "markdown",
            "metadata": {
                "collapsed": false,
                "editable": false
            },
            "source": [
                "<div class=\"not-editable team\"><span> Let <span class=\"m\"> $k = g(t)$ </span> be the function that tracks the <span class=\"m\"> $x$ </span>-coordinate of a point traversing the unit circle counterclockwise from <span class=\"m\"> $(1,0)$ </span>. That is, <span class=\"m\"> $g(t) = \\cos(t)$ </span>. Use the information we know about the unit circle that is summarized in <a href=\"https://activecalculus.org/prelude/sec-circular-sine-cosine.html#F-circular-sine-all-16\">Figure 2.3.1</a> to respond to the following questions. </span></div>"
            ]
        },
        {
            "cell_type": "markdown",
            "metadata": {
                "collapsed": false,
                "editable": false
            },
            "source": [
                "<div class=\"not-editable team\"><div><h4>Task A</h4> <span> What is the exact value of <span class=\"m\"> $\\cos(\\frac{\\pi}{6})$ </span>? of <span class=\"m\"> $\\cos(\\frac{5\\pi}{6})$ </span>? <span class=\"m\"> $\\cos(-\\frac{\\pi}{3})$ </span>? </span> </div></div>"
            ]
        },
        {
            "cell_type": "markdown",
            "metadata": {
                "collapsed": false,
                "editable": false
            },
            "source": [
                "<div class=\"not-editable team\"><div><h4>Task B</h4> <span> Complete the following table with the exact values of <span class=\"m\"> $k$ </span> that correspond to the stated inputs. </span> <div><table><caption><b>Table 2.3.10.</b> Exact values of <span class=\"m\"> $k = g(t) = \\cos(t)$ </span>.</caption><tr><td><span class=\"m\"> $t$ </span></td><td><span class=\"m\"> $0$ </span></td><td><span class=\"m\"> $\\frac{\\pi}{6}$ </span></td><td><span class=\"m\"> $\\frac{\\pi}{4}$ </span></td><td><span class=\"m\"> $\\frac{\\pi}{3}$ </span></td><td><span class=\"m\"> $\\frac{\\pi}{2}$ </span></td><td><span class=\"m\"> $\\frac{2\\pi}{3}$ </span></td><td><span class=\"m\"> $\\frac{3\\pi}{4}$ </span></td><td><span class=\"m\"> $\\frac{5\\pi}{6}$ </span></td><td><span class=\"m\"> $\\pi$ </span></td></tr><tr><td><span class=\"m\"> $k$ </span></td><td/><td/><td/><td/><td/><td/><td/><td/><td/></tr><tr><td/></tr><tr><td><span class=\"m\"> $t$ </span></td><td><span class=\"m\"> $\\pi$ </span></td><td><span class=\"m\"> $\\frac{7\\pi}{6}$ </span></td><td><span class=\"m\"> $\\frac{5\\pi}{4}$ </span></td><td><span class=\"m\"> $\\frac{4\\pi}{3}$ </span></td><td><span class=\"m\"> $\\frac{3\\pi}{2}$ </span></td><td><span class=\"m\"> $\\frac{5\\pi}{3}$ </span></td><td><span class=\"m\"> $\\frac{7\\pi}{4}$ </span></td><td><span class=\"m\"> $\\frac{11\\pi}{6}$ </span></td><td><span class=\"m\"> $2\\pi$ </span></td></tr><tr><td><span class=\"m\"> $k$ </span></td><td/><td/><td/><td/><td/><td/><td/><td/><td/></tr></table></div> </div></div>"
            ]
        },
        {
            "cell_type": "markdown",
            "metadata": {
                "collapsed": false,
                "editable": false
            },
            "source": [
                "<div class=\"not-editable team\"><div><h4>Task C</h4> <span> On the axes provided in <a href=\"https://activecalculus.org/prelude/sec-circular-sine-cosine.html#F-circular-sine-cosine-axes\">Figure 2.3.11</a>, sketch an accurate graph of <span class=\"m\"> $k = \\cos(t)$ </span>. Label the exact location of several key points on the curve. </span> <div><figure><figcaption><b>Figure 2.3.11.</b> Axes for plotting <span class=\"m\"> $k = \\cos(t)$ </span>.</figcaption><div><img src=\"images/sine-cosine-definition-axes.svg\"/></div></figure></div> </div></div>"
            ]
        },
        {
            "cell_type": "markdown",
            "metadata": {
                "collapsed": false,
                "editable": false
            },
            "source": [
                "<div class=\"not-editable team\"><div><h4>Task D</h4> <span> What is the exact value of <span class=\"m\"> $\\cos( \\frac{11\\pi}{4} )$ </span>? of <span class=\"m\"> $\\cos( \\frac{14\\pi}{3} )$ </span>? </span> </div></div>"
            ]
        },
        {
            "cell_type": "markdown",
            "metadata": {
                "collapsed": false,
                "editable": false
            },
            "source": [
                "<div class=\"not-editable team\"><div><h4>Task E</h4> <span> Give four different values of <span class=\"m\"> $t$ </span> for which <span class=\"m\"> $\\cos(t) = -\\frac{\\sqrt{3}}{2}$ </span>. </span> </div></div>"
            ]
        },
        {
            "cell_type": "markdown",
            "metadata": {
                "collapsed": false,
                "editable": false
            },
            "source": [
                "<div class=\"not-editable team\"><div><h4>Task F</h4> <span> How is the graph of <span class=\"m\"> $k = \\cos(t)$ </span> different from the graph of <span class=\"m\"> $h = \\sin(t)$ </span>? How are the graphs similar? </span> </div></div>"
            ]
        },
        {
            "cell_type": "markdown",
            "metadata": {
                "collapsed": false,
                "editable": false
            },
            "source": [
                "<div class=\"not-editable team\"><h2>Activity 2.3.3</h2></div>"
            ]
        },
        {
            "cell_type": "markdown",
            "metadata": {
                "collapsed": false,
                "editable": false
            },
            "source": [
                "<div class=\"not-editable team\"><span> Use <a href=\"https://activecalculus.org/prelude/sec-circular-sine-cosine.html#F-sine-cosine-both\">Figure 2.3.12</a> to assist in answering the following questions. </span></div>"
            ]
        },
        {
            "cell_type": "markdown",
            "metadata": {
                "collapsed": false,
                "editable": false
            },
            "source": [
                "<div class=\"not-editable team\"><div><h4>Task A</h4> <span> Give an example of the largest interval you can find on which <span class=\"m\"> $f(t) = \\sin(t)$ </span> is decreasing. </span> </div></div>"
            ]
        },
        {
            "cell_type": "markdown",
            "metadata": {
                "collapsed": false,
                "editable": false
            },
            "source": [
                "<div class=\"not-editable team\"><div><h4>Task B</h4> <span> Give an example of the largest interval you can find on which <span class=\"m\"> $f(t) = \\sin(t)$ </span> is decreasing and concave down. </span> </div></div>"
            ]
        },
        {
            "cell_type": "markdown",
            "metadata": {
                "collapsed": false,
                "editable": false
            },
            "source": [
                "<div class=\"not-editable team\"><div><h4>Task C</h4> <span> Give an example of the largest interval you can find on which <span class=\"m\"> $g(t) = \\cos(t)$ </span> is increasing. </span> </div></div>"
            ]
        },
        {
            "cell_type": "markdown",
            "metadata": {
                "collapsed": false,
                "editable": false
            },
            "source": [
                "<div class=\"not-editable team\"><div><h4>Task D</h4> <span> Give an example of the largest interval you can find on which <span class=\"m\"> $g(t) = \\cos(t)$ </span> is increasing and concave up. </span> </div></div>"
            ]
        },
        {
            "cell_type": "markdown",
            "metadata": {
                "collapsed": false,
                "editable": false
            },
            "source": [
                "<div class=\"not-editable team\"><div><h4>Task E</h4> <span> Without doing any computation, on which interval is the average rate of change of <span class=\"m\"> $g(t) = \\cos(t)$ </span> greater: <span class=\"m\"> $[\\pi, \\pi+0.1]$ </span> or <span class=\"m\"> $[\\frac{3\\pi}{2}, \\frac{3\\pi}{2} + 0.1]$ </span>? Why? </span> </div></div>"
            ]
        },
        {
            "cell_type": "markdown",
            "metadata": {
                "collapsed": false,
                "editable": false
            },
            "source": [
                "<div class=\"not-editable team\"><div><h4>Task F</h4> <span> In general, how would you characterize the locations on the sine and cosine graphs where the functions are increasing or decreasingly most rapidly? </span> </div></div>"
            ]
        },
        {
            "cell_type": "markdown",
            "metadata": {
                "collapsed": false,
                "editable": false
            },
            "source": [
                "<div class=\"not-editable team\"><div><h4>Task G</h4> <span> Thinking from the perspective of the unit circle, for which quadrants of the <span class=\"m\"> $x$ </span>-<span class=\"m\"> $y$ </span> plane is <span class=\"m\"> $\\cos(t)$ </span> negative for an angle <span class=\"m\"> $t$ </span> that lies in that quadrant? </span> </div></div>"
            ]
        },
        {
            "cell_type": "markdown",
            "metadata": {
                "collapsed": false,
                "editable": false
            },
            "source": [
                "<div class=\"not-editable team\"><h2>Activity 2.3.4</h2></div>"
            ]
        },
        {
            "cell_type": "markdown",
            "metadata": {
                "collapsed": false,
                "editable": false
            },
            "source": [
                "<div class=\"not-editable team\"><span> Answer the following questions exactly wherever possible. If you estimate a value, do so to at least <span class=\"m\"> $5$ </span> decimal places of accuracy. </span></div>"
            ]
        },
        {
            "cell_type": "markdown",
            "metadata": {
                "collapsed": false,
                "editable": false
            },
            "source": [
                "<div class=\"not-editable team\"><div><h4>Task A</h4> <span> The <span class=\"m\"> $x$ </span> coordinate of the point on the unit circle that lies in the third quadrant and whose <span class=\"m\"> $y$ </span>-coordinate is <span class=\"m\"> $y = -\\frac{3}{4}$ </span>. </span> </div></div>"
            ]
        },
        {
            "cell_type": "markdown",
            "metadata": {
                "collapsed": false,
                "editable": false
            },
            "source": [
                "<div class=\"not-editable team\"><div><h4>Task B</h4> <span> The <span class=\"m\"> $y$ </span>-coordinate of the point on the unit circle generated by a central angle in standard position that measures <span class=\"m\"> $t = 2$ </span> radians. </span> </div></div>"
            ]
        },
        {
            "cell_type": "markdown",
            "metadata": {
                "collapsed": false,
                "editable": false
            },
            "source": [
                "<div class=\"not-editable team\"><div><h4>Task C</h4> <span> The <span class=\"m\"> $x$ </span>-coordinate of the point on the unit circle generated by a central angle in standard position that measures <span class=\"m\"> $t = -3.05$ </span> radians. </span> </div></div>"
            ]
        },
        {
            "cell_type": "markdown",
            "metadata": {
                "collapsed": false,
                "editable": false
            },
            "source": [
                "<div class=\"not-editable team\"><div><h4>Task D</h4> <span> The value of <span class=\"m\"> $\\cos(t)$ </span> where <span class=\"m\"> $t$ </span> is an angle in Quadrant II that satisfies <span class=\"m\"> $\\sin(t) = \\frac{1}{2}$ </span>. </span> </div></div>"
            ]
        },
        {
            "cell_type": "markdown",
            "metadata": {
                "collapsed": false,
                "editable": false
            },
            "source": [
                "<div class=\"not-editable team\"><div><h4>Task E</h4> <span> The value of <span class=\"m\"> $\\sin(t)$ </span> where <span class=\"m\"> $t$ </span> is an angle in Quadrant III for which <span class=\"m\"> $\\cos(t) = -0.7$ </span>. </span> </div></div>"
            ]
        },
        {
            "cell_type": "markdown",
            "metadata": {
                "collapsed": false,
                "editable": false
            },
            "source": [
                "<div class=\"not-editable team\"><div><h4>Task F</h4> <span> The average rate of change of <span class=\"m\"> $f(t) = \\sin(t)$ </span> on the intervals <span class=\"m\"> $[0.1,0.2]$ </span> and <span class=\"m\"> $[0.8,0.9]$ </span>. </span> </div></div>"
            ]
        },
        {
            "cell_type": "markdown",
            "metadata": {
                "collapsed": false,
                "editable": false
            },
            "source": [
                "<div class=\"not-editable team\"><div><h4>Task G</h4> <span> The average rate of change of <span class=\"m\"> $g(t) = \\cos(t)$ </span> on the intervals <span class=\"m\"> $[0.1,0.2]$ </span> and <span class=\"m\"> $[0.8,0.9]$ </span>. </span> </div></div>"
            ]
        }
    ],
    "nbformat": 4,
    "nbformat_minor": 4
}
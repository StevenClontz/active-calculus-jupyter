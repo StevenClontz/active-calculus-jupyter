{
    "cells": [
        {
            "cell_type": "markdown",
            "metadata": {
                "collapsed": false,
                "editable": false
            },
            "source": [
                "<div class=\"not-editable team\"><style> .not-editable{padding:1em;border-radius:10px;box-shadow:4px 4px 3px #ddd;margin:5px;} .not-editable.individual{background-color:#eefff8;} .not-editable.team{background-color:#eef8ff;} .sidebyside{display:flex;justify-content:center;} .sidebyside > *{margin-right:1em;flex:1;} caption{caption-side:top;white-space: nowrap;color:rgba(0,0,0,.45)}} figcaption{padding-top:0.75em;padding-bottom:0.3em;color:rgba(0,0,0,.45)} .fillin{display:inline-block;width:10em;margin-left:0.2em;margin-right:0.2em;height:1em;border-bottom:1px black solid;} .fn{font-size:0.8em;color:rgba(0,0,0.45)} .newcommands{display:none;} tt{background-color:#f8f8f8;border:1px #888 solid;border-radius:2px;padding-left:0.2em;padding-right:0.2em;} img{background-color:#fff;} </style> <div><h1>Section 1.8 Transformations of Functions</h1><h2>Team Notebook</h2><div><a href=\"https://activecalculus.org/prelude/sec-changing-transformations.html\">https://activecalculus.org/prelude/sec-changing-transformations.html</a></div></div></div>"
            ]
        },
        {
            "cell_type": "markdown",
            "metadata": {
                "collapsed": false,
                "editable": false
            },
            "source": [
                "<div class=\"not-editable team\"><h2>Activity 1.8.2</h2></div>"
            ]
        },
        {
            "cell_type": "markdown",
            "metadata": {
                "collapsed": false,
                "editable": false
            },
            "source": [
                "<div class=\"not-editable team\"><span> Consider the functions <span class=\"m\"> $r$ </span> and <span class=\"m\"> $s$ </span> given in <a href=\"https://activecalculus.org/prelude/sec-changing-transformations.html#F-act-transformations-r\">Figure 1.8.5</a> and <a href=\"https://activecalculus.org/prelude/sec-changing-transformations.html#F-act-transformations-s\">Figure 1.8.6</a>. </span></div>"
            ]
        },
        {
            "cell_type": "markdown",
            "metadata": {
                "collapsed": false,
                "editable": false
            },
            "source": [
                "<div class=\"not-editable team\"><div class=\"sidebyside\"><div><figure><figcaption><b>Figure 1.8.5.</b> A parent function <span class=\"m\"> $r$ </span>.</figcaption><div><img src=\"images/transformations-act-r-translation.svg\"/></div></figure></div><div><figure><figcaption><b>Figure 1.8.6.</b> A parent function <span class=\"m\"> $s$ </span>.</figcaption><div><img src=\"images/transformations-act-s-translation.svg\"/></div></figure></div></div></div>"
            ]
        },
        {
            "cell_type": "markdown",
            "metadata": {
                "collapsed": false,
                "editable": false
            },
            "source": [
                "<div class=\"not-editable team\"><div><h4>Task A</h4> <span> On the same axes as the plot of <span class=\"m\"> $y = r(x)$ </span>, sketch the following graphs: <span class=\"m\"> $y = g(x) = r(x) + 2$ </span>, <span class=\"m\"> $y = h(x) = r(x+1)$ </span>, and <span class=\"m\"> $y = f(x) = r(x+1) + 2$ </span>. Be sure to label the point on each of <span class=\"m\"> $g$ </span>, <span class=\"m\"> $h$ </span>, and <span class=\"m\"> $f$ </span> that corresponds to <span class=\"m\"> $(-2,-1)$ </span> on the original graph of <span class=\"m\"> $r$ </span>. In addition, write one sentence to explain the overall transformations that have resulted in <span class=\"m\"> $g$ </span>, <span class=\"m\"> $h$ </span>, and <span class=\"m\"> $f$ </span>. </span> </div></div>"
            ]
        },
        {
            "cell_type": "markdown",
            "metadata": {
                "collapsed": false,
                "editable": false
            },
            "source": [
                "<div class=\"not-editable team\"><div><h4>Task B</h4> <span> Is it possible to view the function <span class=\"m\"> $f$ </span> in (a) as the result of composition of <span class=\"m\"> $g$ </span> and <span class=\"m\"> $h$ </span>? If so, in what order should <span class=\"m\"> $g$ </span> and <span class=\"m\"> $h$ </span> be composed in order to produce <span class=\"m\"> $f$ </span>? </span> </div></div>"
            ]
        },
        {
            "cell_type": "markdown",
            "metadata": {
                "collapsed": false,
                "editable": false
            },
            "source": [
                "<div class=\"not-editable team\"><div><h4>Task C</h4> <span> On the same axes as the plot of <span class=\"m\"> $y = s(x)$ </span>, sketch the following graphs: <span class=\"m\"> $y = k(x) = s(x) - 1$ </span>, <span class=\"m\"> $y = j(x) = s(x-2)$ </span>, and <span class=\"m\"> $y = m(x) = s(x-2) - 1$ </span>. Be sure to label the point on each of <span class=\"m\"> $k$ </span>, <span class=\"m\"> $j$ </span>, and <span class=\"m\"> $m$ </span> that corresponds to <span class=\"m\"> $(-2,-3)$ </span> on the original graph of <span class=\"m\"> $r$ </span>. In addition, write one sentence to explain the overall transformations that have resulted in <span class=\"m\"> $k$ </span>, <span class=\"m\"> $j$ </span>, and <span class=\"m\"> $m$ </span>. </span> </div></div>"
            ]
        },
        {
            "cell_type": "markdown",
            "metadata": {
                "collapsed": false,
                "editable": false
            },
            "source": [
                "<div class=\"not-editable team\"><div><h4>Task D</h4> <span> Now consider the function <span class=\"m\"> $q(x) = x^2$ </span>. Determine a formula for the function that is given by <span class=\"m\"> $p(x) = q(x+3) - 4$ </span>. How is <span class=\"m\"> $p$ </span> a transformation of <span class=\"m\"> $q$ </span>? </span> </div></div>"
            ]
        },
        {
            "cell_type": "markdown",
            "metadata": {
                "collapsed": false,
                "editable": false
            },
            "source": [
                "<div class=\"not-editable team\"><h2>Activity 1.8.3</h2></div>"
            ]
        },
        {
            "cell_type": "markdown",
            "metadata": {
                "collapsed": false,
                "editable": false
            },
            "source": [
                "<div class=\"not-editable team\"><span> Consider the functions <span class=\"m\"> $r$ </span> and <span class=\"m\"> $s$ </span> given in <a href=\"https://activecalculus.org/prelude/sec-changing-transformations.html#F-act-transformations-r-2\">Figure 1.8.11</a> and <a href=\"https://activecalculus.org/prelude/sec-changing-transformations.html#F-act-transformations-s-2\">Figure 1.8.12</a>. </span></div>"
            ]
        },
        {
            "cell_type": "markdown",
            "metadata": {
                "collapsed": false,
                "editable": false
            },
            "source": [
                "<div class=\"not-editable team\"><div class=\"sidebyside\"><div><figure><figcaption><b>Figure 1.8.11.</b> A parent function <span class=\"m\"> $r$ </span>.</figcaption><div><img src=\"images/transformations-act-r-translation.svg\"/></div></figure></div><div><figure><figcaption><b>Figure 1.8.12.</b> A parent function <span class=\"m\"> $s$ </span>.</figcaption><div><img src=\"images/transformations-act-s-translation.svg\"/></div></figure></div></div></div>"
            ]
        },
        {
            "cell_type": "markdown",
            "metadata": {
                "collapsed": false,
                "editable": false
            },
            "source": [
                "<div class=\"not-editable team\"><div><h4>Task A</h4> <span> On the same axes as the plot of <span class=\"m\"> $y = r(x)$ </span>, sketch the following graphs: <span class=\"m\"> $y = g(x) = 3r(x)$ </span> and <span class=\"m\"> $y = h(x) = \\frac{1}{3}r(x)$ </span>. Be sure to label several points on each of <span class=\"m\"> $r$ </span>, <span class=\"m\"> $g$ </span>, and <span class=\"m\"> $h$ </span> with arrows to indicate their correspondence. In addition, write one sentence to explain the overall transformations that have resulted in <span class=\"m\"> $g$ </span> and <span class=\"m\"> $h$ </span> from <span class=\"m\"> $r$ </span>. </span> </div></div>"
            ]
        },
        {
            "cell_type": "markdown",
            "metadata": {
                "collapsed": false,
                "editable": false
            },
            "source": [
                "<div class=\"not-editable team\"><div><h4>Task B</h4> <span> On the same axes as the plot of <span class=\"m\"> $y = s(x)$ </span>, sketch the following graphs: <span class=\"m\"> $y = k(x) = -s(x)$ </span> and <span class=\"m\"> $y = j(x) = -\\frac{1}{2}s(x)$ </span>. Be sure to label several points on each of <span class=\"m\"> $s$ </span>, <span class=\"m\"> $k$ </span>, and <span class=\"m\"> $j$ </span> with arrows to indicate their correspondence. In addition, write one sentence to explain the overall transformations that have resulted in <span class=\"m\"> $k$ </span> and <span class=\"m\"> $j$ </span> from <span class=\"m\"> $s$ </span>. </span> </div></div>"
            ]
        },
        {
            "cell_type": "markdown",
            "metadata": {
                "collapsed": false,
                "editable": false
            },
            "source": [
                "<div class=\"not-editable team\"><div><h4>Task C</h4> <span> On the additional copies of the two figures below, sketch the graphs of the following transformed functions: <span class=\"m\"> $y = m(x) = 2r(x+1)-1$ </span> (at left) and <span class=\"m\"> $y = n(x) = \\frac{1}{2}s(x-2)+2$ </span>. As above, be sure to label several points on each graph and indicate their correspondence to points on the original parent function. </span> <div class=\"sidebyside\"><div><img src=\"images/transformations-act-r-translation.svg\"/></div><div><img src=\"images/transformations-act-s-translation.svg\"/></div></div> </div></div>"
            ]
        },
        {
            "cell_type": "markdown",
            "metadata": {
                "collapsed": false,
                "editable": false
            },
            "source": [
                "<div class=\"not-editable team\"><div><h4>Task D</h4> <span> Describe in words how the function <span class=\"m\"> $y = m(x) = 2r(x+1)-1$ </span> is the result of three elementary transformations of <span class=\"m\"> $y = r(x)$ </span>. Does the order in which these transformations occur matter? Why or why not? </span> </div></div>"
            ]
        },
        {
            "cell_type": "markdown",
            "metadata": {
                "collapsed": false,
                "editable": false
            },
            "source": [
                "<div class=\"not-editable team\"><h2>Activity 1.8.4</h2></div>"
            ]
        },
        {
            "cell_type": "markdown",
            "metadata": {
                "collapsed": false,
                "editable": false
            },
            "source": [
                "<div class=\"not-editable team\"><span> Consider the functions <span class=\"m\"> $f$ </span> and <span class=\"m\"> $g$ </span> given in <a href=\"https://activecalculus.org/prelude/sec-changing-transformations.html#F-act-transformations-f\">Figure 1.8.17</a> and <a href=\"https://activecalculus.org/prelude/sec-changing-transformations.html#F-act-transformations-g\">Figure 1.8.18</a>. </span></div>"
            ]
        },
        {
            "cell_type": "markdown",
            "metadata": {
                "collapsed": false,
                "editable": false
            },
            "source": [
                "<div class=\"not-editable team\"><div class=\"sidebyside\"><div><figure><figcaption><b>Figure 1.8.17.</b> A parent function <span class=\"m\"> $f$ </span>.</figcaption><div><img src=\"images/transformations-act-f-combined.svg\"/></div></figure></div><div><figure><figcaption><b>Figure 1.8.18.</b> A parent function <span class=\"m\"> $g$ </span>.</figcaption><div><img src=\"images/transformations-act-g-combined.svg\"/></div></figure></div></div></div>"
            ]
        },
        {
            "cell_type": "markdown",
            "metadata": {
                "collapsed": false,
                "editable": false
            },
            "source": [
                "<div class=\"not-editable team\"><div><h4>Task A</h4> <span> Sketch an accurate graph of the transformation <span class=\"m\"> $y = p(x) = -\\frac{1}{2}f(x-1)+2$ </span>. Write at least one sentence to explain how you developed the graph of <span class=\"m\"> $p$ </span>, and identify the point on <span class=\"m\"> $p$ </span> that corresponds to the original point <span class=\"m\"> $(-2,2)$ </span> on the graph of <span class=\"m\"> $f$ </span>. </span> </div></div>"
            ]
        },
        {
            "cell_type": "markdown",
            "metadata": {
                "collapsed": false,
                "editable": false
            },
            "source": [
                "<div class=\"not-editable team\"><div><h4>Task B</h4> <span> Sketch an accurate graph of the transformation <span class=\"m\"> $y = q(x) = 2g(x+0.5)-0.75$ </span>. Write at least one sentence to explain how you developed the graph of <span class=\"m\"> $p$ </span>, and identify the point on <span class=\"m\"> $q$ </span> that corresponds to the original point <span class=\"m\"> $(1.5,1.5)$ </span> on the graph of <span class=\"m\"> $g$ </span>. </span> </div></div>"
            ]
        },
        {
            "cell_type": "markdown",
            "metadata": {
                "collapsed": false,
                "editable": false
            },
            "source": [
                "<div class=\"not-editable team\"><div><h4>Task C</h4> <span> Is the function <span class=\"m\"> $y = r(x) = \\frac{1}{2}(-f(x-1) - 4)$ </span> the same function as <span class=\"m\"> $p$ </span> or different? Why? Explain in two different ways: discuss the algebraic similarities and differences between <span class=\"m\"> $p$ </span> and <span class=\"m\"> $r$ </span>, and also discuss how each is a transformation of <span class=\"m\"> $f$ </span>. </span> </div></div>"
            ]
        },
        {
            "cell_type": "markdown",
            "metadata": {
                "collapsed": false,
                "editable": false
            },
            "source": [
                "<div class=\"not-editable team\"><div><h4>Task D</h4> <span> Find a formula for a function <span class=\"m\"> $y = s(x)$ </span> (in terms of <span class=\"m\"> $g$ </span>) that represents this transformation of <span class=\"m\"> $g$ </span>: a horizontal shift of <span class=\"m\"> $1.25$ </span> units left, followed by a reflection across the <span class=\"m\"> $x$ </span>-axis and a vertical stretch of <span class=\"m\"> $2.5$ </span> units, followed by a vertical shift of <span class=\"m\"> $1.75$ </span> units. Sketch an accurate, labeled graph of <span class=\"m\"> $s$ </span> on the following axes along with the given parent function <span class=\"m\"> $g$ </span>. </span> <div class=\"sidebyside\"><div><img src=\"images/transformations-act-g-combined.svg\"/></div></div> </div></div>"
            ]
        }
    ],
    "nbformat": 4,
    "nbformat_minor": 4
}
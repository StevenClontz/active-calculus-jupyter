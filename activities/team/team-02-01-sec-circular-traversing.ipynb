{
    "cells": [
        {
            "cell_type": "markdown",
            "metadata": {
                "collapsed": false,
                "editable": false
            },
            "source": [
                "<div class=\"not-editable team\"><style> .not-editable{padding:1em;border-radius:10px;box-shadow:4px 4px 3px #ddd;margin:5px;} .not-editable.individual{background-color:#eefff8;} .not-editable.team{background-color:#eef8ff;} .sidebyside{display:flex;justify-content:center;} .sidebyside > *{margin-right:1em;flex:1;} caption{caption-side:top;white-space: nowrap;color:rgba(0,0,0,.45)}} figcaption{padding-top:0.75em;padding-bottom:0.3em;color:rgba(0,0,0,.45)} .fillin{display:inline-block;width:10em;margin-left:0.2em;margin-right:0.2em;height:1em;border-bottom:1px black solid;} .fn{font-size:0.8em;color:rgba(0,0,0.45)} .newcommands{display:none;} tt{background-color:#f8f8f8;border:1px #888 solid;border-radius:2px;padding-left:0.2em;padding-right:0.2em;} img{background-color:#fff;} </style> <div><h1>Section 2.1 Traversing Circles</h1><h2>Team Notebook</h2><div><a href=\"https://activecalculus.org/prelude/sec-circular-traversing.html\">https://activecalculus.org/prelude/sec-circular-traversing.html</a></div></div></div>"
            ]
        },
        {
            "cell_type": "markdown",
            "metadata": {
                "collapsed": false,
                "editable": false
            },
            "source": [
                "<div class=\"not-editable team\"><h2>Activity 2.1.2</h2></div>"
            ]
        },
        {
            "cell_type": "markdown",
            "metadata": {
                "collapsed": false,
                "editable": false
            },
            "source": [
                "<div class=\"not-editable team\"><span> Consider the circle pictured in <a href=\"https://activecalculus.org/prelude/sec-circular-traversing.html#F-act-circular-traversing-circle\">Figure 2.1.6</a> that is centered at the point <span class=\"m\"> $(2,2)$ </span> and that has circumference <span class=\"m\"> $8$ </span>. Assume that we track the <span class=\"m\"> $y$ </span>-coordinate (that is, the height, <span class=\"m\"> $h$ </span>) of a point that is traversing the circle counterclockwise and that it starts at <span class=\"m\"> $P_0$ </span> as pictured. </span></div>"
            ]
        },
        {
            "cell_type": "markdown",
            "metadata": {
                "collapsed": false,
                "editable": false
            },
            "source": [
                "<div class=\"not-editable team\"><div class=\"sidebyside\"><div><figure><figcaption><b>Figure 2.1.6.</b> A point traversing the circle.</figcaption><div><img src=\"images/traversing-act-circle.svg\"/></div></figure></div><div><figure><figcaption><b>Figure 2.1.7.</b> Axes for plotting <span class=\"m\"> $h$ </span> as a function of <span class=\"m\"> $d$ </span>.</figcaption><div><img src=\"images/traversing-act-circular-grid.svg\"/></div></figure></div></div></div>"
            ]
        },
        {
            "cell_type": "markdown",
            "metadata": {
                "collapsed": false,
                "editable": false
            },
            "source": [
                "<div class=\"not-editable team\"><div><h4>Task A</h4> <span> How far along the circle is the point <span class=\"m\"> $P_1$ </span> from <span class=\"m\"> $P_0$ </span>? Why? </span> </div></div>"
            ]
        },
        {
            "cell_type": "markdown",
            "metadata": {
                "collapsed": false,
                "editable": false
            },
            "source": [
                "<div class=\"not-editable team\"><div><h4>Task B</h4> <span> Label the subsequent points in the figure <span class=\"m\"> $P_2$ </span>, <span class=\"m\"> $P_3$ </span>, <span class=\"m\"> $\\ldots$ </span> as we move counterclockwise around the circle. What is the exact <span class=\"m\"> $y$ </span>-coordinate of the point <span class=\"m\"> $P_2$ </span>? of <span class=\"m\"> $P_4$ </span>? Why? </span> </div></div>"
            ]
        },
        {
            "cell_type": "markdown",
            "metadata": {
                "collapsed": false,
                "editable": false
            },
            "source": [
                "<div class=\"not-editable team\"><div><h4>Task C</h4> <span> Determine the <span class=\"m\"> $y$ </span>-coordinates of the remaining points on the circle (exactly where possible, otherwise approximately) and hence complete the entries in <a href=\"https://activecalculus.org/prelude/sec-circular-traversing.html#T-act-circular-traversing-2nd-ex\">Table 2.1.8</a> that track the height, <span class=\"m\"> $h$ </span>, of the point traversing the circle as a function of distance traveled, <span class=\"m\"> $d$ </span>. Note that the <span class=\"m\"> $d$ </span>-values in the table correspond to the point traversing the circle more than once. </span> <div><table><caption><b>Table 2.1.8.</b> Data for <span class=\"m\"> $h$ </span> as a function of <span class=\"m\"> $d$ </span>.</caption><tr><td><span class=\"m\"> $d$ </span></td><td><span class=\"m\"> $0$ </span></td><td><span class=\"m\"> $1$ </span></td><td><span class=\"m\"> $2$ </span></td><td><span class=\"m\"> $3$ </span></td><td><span class=\"m\"> $4$ </span></td><td><span class=\"m\"> $5$ </span></td><td><span class=\"m\"> $6$ </span></td><td><span class=\"m\"> $7$ </span></td><td><span class=\"m\"> $8$ </span></td><td><span class=\"m\"> $9$ </span></td><td><span class=\"m\"> $10$ </span></td><td><span class=\"m\"> $11$ </span></td><td><span class=\"m\"> $12$ </span></td><td><span class=\"m\"> $13$ </span></td><td><span class=\"m\"> $14$ </span></td><td><span class=\"m\"> $15$ </span></td><td><span class=\"m\"> $16$ </span></td></tr><tr><td><span class=\"m\"> $h$ </span></td><td><span class=\"m\"> $2$ </span></td><td/><td/><td/><td/><td/><td/><td/><td/><td/><td/><td/><td/><td/><td/><td/><td/></tr></table></div> </div></div>"
            ]
        },
        {
            "cell_type": "markdown",
            "metadata": {
                "collapsed": false,
                "editable": false
            },
            "source": [
                "<div class=\"not-editable team\"><div><h4>Task D</h4> <span> By plotting the points in <a href=\"https://activecalculus.org/prelude/sec-circular-traversing.html#T-act-circular-traversing-2nd-ex\">Table 2.1.8</a> and connecting them in an intuitive way, sketch a graph of <span class=\"m\"> $h$ </span> as a function of <span class=\"m\"> $d$ </span> on the axes provided in <a href=\"https://activecalculus.org/prelude/sec-circular-traversing.html#F-act-circular-traversing-grid\">Figure 2.1.7</a> over the interval <span class=\"m\"> $0 \\le d \\le 16$ </span>. Clearly label the scale of your axes and the coordinates of several important points on the curve. </span> </div></div>"
            ]
        },
        {
            "cell_type": "markdown",
            "metadata": {
                "collapsed": false,
                "editable": false
            },
            "source": [
                "<div class=\"not-editable team\"><div><h4>Task E</h4> <span> What is similar about your graph in comparison to the one in <a href=\"https://activecalculus.org/prelude/sec-circular-traversing.html#F-traversing-first-example-graph\">Figure 2.1.5</a>? What is different? </span> </div></div>"
            ]
        },
        {
            "cell_type": "markdown",
            "metadata": {
                "collapsed": false,
                "editable": false
            },
            "source": [
                "<div class=\"not-editable team\"><div><h4>Task F</h4> <span> What will be the value of <span class=\"m\"> $h$ </span> when <span class=\"m\"> $d = 51$ </span>? How about when <span class=\"m\"> $d = 102$ </span>? </span> </div></div>"
            ]
        },
        {
            "cell_type": "markdown",
            "metadata": {
                "collapsed": false,
                "editable": false
            },
            "source": [
                "<div class=\"not-editable team\"><h2>Activity 2.1.3</h2></div>"
            ]
        },
        {
            "cell_type": "markdown",
            "metadata": {
                "collapsed": false,
                "editable": false
            },
            "source": [
                "<div class=\"not-editable team\"><span> A weight is placed on a frictionless table next to a wall and attached to a spring that is fixed to the wall. From its natural position of rest, the weight is imparted an initial velocity that sets it in motion. The weight then oscillates back and forth, and we can measure its distance, <span class=\"m\"> $h = f(t)$ </span> (in inches) from the wall at any given time, <span class=\"m\"> $t$ </span> (in seconds). A graph of <span class=\"m\"> $f$ </span> and a table of select values are given below. </span></div>"
            ]
        },
        {
            "cell_type": "markdown",
            "metadata": {
                "collapsed": false,
                "editable": false
            },
            "source": [
                "<div class=\"not-editable team\"><div class=\"sidebyside\"><div><table><tr><td><span class=\"m\"> $t$ </span></td><td><span class=\"m\"> $f(t)$ </span></td></tr><tr><td><span class=\"m\"> $0.25$ </span></td><td><span class=\"m\"> $6.807$ </span></td></tr><tr><td><span class=\"m\"> $0.5$ </span></td><td><span class=\"m\"> $4.464$ </span></td></tr><tr><td><span class=\"m\"> $0.75$ </span></td><td><span class=\"m\"> $3.381$ </span></td></tr><tr><td><span class=\"m\"> $1$ </span></td><td><span class=\"m\"> $3.000$ </span></td></tr><tr><td><span class=\"m\"> $1.25$ </span></td><td><span class=\"m\"> $3.381$ </span></td></tr><tr><td><span class=\"m\"> $1.5$ </span></td><td><span class=\"m\"> $4.464$ </span></td></tr><tr><td><span class=\"m\"> $1.75$ </span></td><td><span class=\"m\"> $6.087$ </span></td></tr><tr><td><span class=\"m\"> $2$ </span></td><td><span class=\"m\"> $8.000$ </span></td></tr></table></div><div><table><tr><td><span class=\"m\"> $t$ </span></td><td><span class=\"m\"> $f(t)$ </span></td></tr><tr><td><span class=\"m\"> $2.25$ </span></td><td><span class=\"m\"> $9.913$ </span></td></tr><tr><td><span class=\"m\"> $2.5$ </span></td><td><span class=\"m\"> $11.536$ </span></td></tr><tr><td><span class=\"m\"> $2.75$ </span></td><td><span class=\"m\"> $12.619$ </span></td></tr><tr><td><span class=\"m\"> $3$ </span></td><td><span class=\"m\"> $13.000$ </span></td></tr><tr><td><span class=\"m\"> $3.25$ </span></td><td><span class=\"m\"> $12.619$ </span></td></tr><tr><td><span class=\"m\"> $3.5$ </span></td><td><span class=\"m\"> $11.536$ </span></td></tr><tr><td><span class=\"m\"> $3.75$ </span></td><td><span class=\"m\"> $9.913$ </span></td></tr><tr><td><span class=\"m\"> $4$ </span></td><td><span class=\"m\"> $8.000$ </span></td></tr></table></div><div><img src=\"images/traversing-circular-act-oscillator.svg\"/></div></div></div>"
            ]
        },
        {
            "cell_type": "markdown",
            "metadata": {
                "collapsed": false,
                "editable": false
            },
            "source": [
                "<div class=\"not-editable team\"><div><h4>Task A</h4> <span> Determine the period <span class=\"m\"> $p$ </span>, midline <span class=\"m\"> $y = m$ </span>, and amplitude <span class=\"m\"> $a$ </span> of the function <span class=\"m\"> $f$ </span>. </span> </div></div>"
            ]
        },
        {
            "cell_type": "markdown",
            "metadata": {
                "collapsed": false,
                "editable": false
            },
            "source": [
                "<div class=\"not-editable team\"><div><h4>Task B</h4> <span> What is the furthest distance the weight is displaced from the wall? What is the least distance the weight is displaced from the wall? What is the range of <span class=\"m\"> $f$ </span>? </span> </div></div>"
            ]
        },
        {
            "cell_type": "markdown",
            "metadata": {
                "collapsed": false,
                "editable": false
            },
            "source": [
                "<div class=\"not-editable team\"><div><h4>Task C</h4> <span> Determine the average rate of change of <span class=\"m\"> $f$ </span> on the intervals <span class=\"m\"> $[4,4.25]$ </span> and <span class=\"m\"> $[4.75,5]$ </span>. Write one careful sentence to explain the meaning of each (including units). In addition, write a sentence to compare the two different values you find and what they together say about the motion of the weight. </span> </div></div>"
            ]
        },
        {
            "cell_type": "markdown",
            "metadata": {
                "collapsed": false,
                "editable": false
            },
            "source": [
                "<div class=\"not-editable team\"><div><h4>Task D</h4> <span> Based on the periodicity of the function, what is the value of <span class=\"m\"> $f(6.75)$ </span>? of <span class=\"m\"> $f(11.25)$ </span>? </span> </div></div>"
            ]
        },
        {
            "cell_type": "markdown",
            "metadata": {
                "collapsed": false,
                "editable": false
            },
            "source": [
                "<div class=\"not-editable team\"><h2>Activity 2.1.4</h2></div>"
            ]
        },
        {
            "cell_type": "markdown",
            "metadata": {
                "collapsed": false,
                "editable": false
            },
            "source": [
                "<div class=\"not-editable team\"><span> Consider the same setting as <a href=\"https://activecalculus.org/prelude/sec-circular-traversing.html#act-circular-traversing-oscillator\">Activity 2.1.3</a>: a weight oscillates back and forth on a frictionless table with distance from the wall given by, <span class=\"m\"> $h = f(t)$ </span> (in inches) at any given time, <span class=\"m\"> $t$ </span> (in seconds). A graph of <span class=\"m\"> $f$ </span> and a table of select values are given below. </span></div>"
            ]
        },
        {
            "cell_type": "markdown",
            "metadata": {
                "collapsed": false,
                "editable": false
            },
            "source": [
                "<div class=\"not-editable team\"><div class=\"sidebyside\"><div><table><tr><td><span class=\"m\"> $t$ </span></td><td><span class=\"m\"> $f(t)$ </span></td></tr><tr><td><span class=\"m\"> $0.25$ </span></td><td><span class=\"m\"> $6.807$ </span></td></tr><tr><td><span class=\"m\"> $0.5$ </span></td><td><span class=\"m\"> $4.464$ </span></td></tr><tr><td><span class=\"m\"> $0.75$ </span></td><td><span class=\"m\"> $3.381$ </span></td></tr><tr><td><span class=\"m\"> $1$ </span></td><td><span class=\"m\"> $3.000$ </span></td></tr><tr><td><span class=\"m\"> $1.25$ </span></td><td><span class=\"m\"> $3.381$ </span></td></tr><tr><td><span class=\"m\"> $1.5$ </span></td><td><span class=\"m\"> $4.464$ </span></td></tr><tr><td><span class=\"m\"> $1.75$ </span></td><td><span class=\"m\"> $6.087$ </span></td></tr><tr><td><span class=\"m\"> $2$ </span></td><td><span class=\"m\"> $8.000$ </span></td></tr></table></div><div><table><tr><td><span class=\"m\"> $t$ </span></td><td><span class=\"m\"> $f(t)$ </span></td></tr><tr><td><span class=\"m\"> $2.25$ </span></td><td><span class=\"m\"> $9.913$ </span></td></tr><tr><td><span class=\"m\"> $2.5$ </span></td><td><span class=\"m\"> $11.536$ </span></td></tr><tr><td><span class=\"m\"> $2.75$ </span></td><td><span class=\"m\"> $12.619$ </span></td></tr><tr><td><span class=\"m\"> $3$ </span></td><td><span class=\"m\"> $13.000$ </span></td></tr><tr><td><span class=\"m\"> $3.25$ </span></td><td><span class=\"m\"> $12.619$ </span></td></tr><tr><td><span class=\"m\"> $3.5$ </span></td><td><span class=\"m\"> $11.536$ </span></td></tr><tr><td><span class=\"m\"> $3.75$ </span></td><td><span class=\"m\"> $9.913$ </span></td></tr><tr><td><span class=\"m\"> $4$ </span></td><td><span class=\"m\"> $8.000$ </span></td></tr></table></div><div><img src=\"images/traversing-circular-act-oscillator.svg\"/></div></div></div>"
            ]
        },
        {
            "cell_type": "markdown",
            "metadata": {
                "collapsed": false,
                "editable": false
            },
            "source": [
                "<div class=\"not-editable team\"><div><h4>Task A</h4> <span> Determine <span class=\"m\"> $AV_{[2,2.25]}$ </span>, <span class=\"m\"> $AV_{[2.25,2.5]}$ </span>, <span class=\"m\"> $AV_{[2.5,2.75]}$ </span>, and <span class=\"m\"> $AV_{[2.75,3]}$ </span>. What do these four values tell us about how the weight is moving on the interval <span class=\"m\"> $[2,3]$ </span>? </span> </div></div>"
            ]
        },
        {
            "cell_type": "markdown",
            "metadata": {
                "collapsed": false,
                "editable": false
            },
            "source": [
                "<div class=\"not-editable team\"><div><h4>Task B</h4> <span> Give an example of an interval of length <span class=\"m\"> $0.25$ </span> units on which <span class=\"m\"> $f$ </span> has its most negative average rate of change. Justify your choice. </span> </div></div>"
            ]
        },
        {
            "cell_type": "markdown",
            "metadata": {
                "collapsed": false,
                "editable": false
            },
            "source": [
                "<div class=\"not-editable team\"><div><h4>Task C</h4> <span> Give an example of the longest interval you can find on which <span class=\"m\"> $f$ </span> is decreasing. </span> </div></div>"
            ]
        },
        {
            "cell_type": "markdown",
            "metadata": {
                "collapsed": false,
                "editable": false
            },
            "source": [
                "<div class=\"not-editable team\"><div><h4>Task D</h4> <span> Give an example of an interval on which <span class=\"m\"> $f$ </span> is concave up. </span> </div></div>"
            ]
        },
        {
            "cell_type": "markdown",
            "metadata": {
                "collapsed": false,
                "editable": false
            },
            "source": [
                "<div class=\"not-editable team\"><div><h4>Task E</h4> <span> On an interval where <span class=\"m\"> $f$ </span> is both decreasing and concave down, what does this tell us about how the weight is moving on that interval? For instance, is the weight moving toward or away from the wall? is it speeding up or slowing down? </span> </div></div>"
            ]
        },
        {
            "cell_type": "markdown",
            "metadata": {
                "collapsed": false,
                "editable": false
            },
            "source": [
                "<div class=\"not-editable team\"><div><h4>Task F</h4> <span> What general conclusions can you make about the average rate of change of a circular function on intervals near its highest or lowest points? about its average rate of change on intervals near the function's midline? </span> </div></div>"
            ]
        }
    ],
    "nbformat": 4,
    "nbformat_minor": 4
}
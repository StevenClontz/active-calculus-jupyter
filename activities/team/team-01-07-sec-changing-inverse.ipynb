{
    "cells": [
        {
            "cell_type": "markdown",
            "metadata": {
                "collapsed": false,
                "editable": false
            },
            "source": [
                "<div class=\"not-editable team\"><style> .not-editable{padding:1em;border-radius:10px;box-shadow:4px 4px 3px #ddd;margin:5px;} .not-editable.individual{background-color:#eefff8;} .not-editable.team{background-color:#eef8ff;} .sidebyside{display:flex;justify-content:center;} .sidebyside > *{margin-right:1em;flex:1;} caption{caption-side:top;white-space: nowrap;color:rgba(0,0,0,.45)}} figcaption{padding-top:0.75em;padding-bottom:0.3em;color:rgba(0,0,0,.45)} .fillin{display:inline-block;width:10em;margin-left:0.2em;margin-right:0.2em;height:1em;border-bottom:1px black solid;} .fn{font-size:0.8em;color:rgba(0,0,0.45)} .newcommands{display:none;} tt{background-color:#f8f8f8;border:1px #888 solid;border-radius:2px;padding-left:0.2em;padding-right:0.2em;} img{background-color:#fff;} </style> <div><h1>Section 1.7 Inverse Functions</h1><h2>Team Notebook</h2><div><a href=\"https://activecalculus.org/prelude/sec-changing-inverse.html\">https://activecalculus.org/prelude/sec-changing-inverse.html</a></div></div></div>"
            ]
        },
        {
            "cell_type": "markdown",
            "metadata": {
                "collapsed": false,
                "editable": false
            },
            "source": [
                "<div class=\"not-editable team\"><h2>Activity 1.7.2</h2></div>"
            ]
        },
        {
            "cell_type": "markdown",
            "metadata": {
                "collapsed": false,
                "editable": false
            },
            "source": [
                "<div class=\"not-editable team\"><span> Recall Dolbear's function <span class=\"m\"> $F = D(N) = 40 + \\frac{1}{4}N$ </span> that converts the number, <span class=\"m\"> $N$ </span>, of snowy tree cricket chirps per minute to a corresponding Fahrenheit temperature. We have earlier established that the domain of <span class=\"m\"> $D$ </span> is <span class=\"m\"> $[40,180]$ </span> and the range of <span class=\"m\"> $D$ </span> is <span class=\"m\"> $[50,85]$ </span>, as seen in <a href=\"https://activecalculus.org/prelude/sec-changing-functions-models.html#F-functions-Dolbear-data\">Figure 1.2.3</a>. </span></div>"
            ]
        },
        {
            "cell_type": "markdown",
            "metadata": {
                "collapsed": false,
                "editable": false
            },
            "source": [
                "<div class=\"not-editable team\"><div><h4>Task A</h4> <span> Solve the equation <span class=\"m\"> $F = 40 + \\frac{1}{4}N$ </span> for <span class=\"m\"> $N$ </span> in terms of <span class=\"m\"> $F$ </span>. Call the resulting function <span class=\"m\"> $N = E(F)$ </span>. </span> </div></div>"
            ]
        },
        {
            "cell_type": "markdown",
            "metadata": {
                "collapsed": false,
                "editable": false
            },
            "source": [
                "<div class=\"not-editable team\"><div><h4>Task B</h4> <span> Explain in words the process or effect of the function <span class=\"m\"> $N = E(F)$ </span>. What does it take as input? What does it generate as output? </span> </div></div>"
            ]
        },
        {
            "cell_type": "markdown",
            "metadata": {
                "collapsed": false,
                "editable": false
            },
            "source": [
                "<div class=\"not-editable team\"><div><h4>Task C</h4> <span> Use the function <span class=\"m\"> $E$ </span> that you found in (a.) to compute <span class=\"m\"> $j(N) = E(D(N))$ </span>. Simplify your result as much as possible. Do likewise for <span class=\"m\"> $k(F) = D(E(F))$ </span>. What do you notice about these two composite functions <span class=\"m\"> $j$ </span> and <span class=\"m\"> $k$ </span>? </span> </div></div>"
            ]
        },
        {
            "cell_type": "markdown",
            "metadata": {
                "collapsed": false,
                "editable": false
            },
            "source": [
                "<div class=\"not-editable team\"><div><h4>Task D</h4> <span> Consider the equations <span class=\"m\"> $F = 40 + \\frac{1}{4}N$ </span> and <span class=\"m\"> $N = 4(F-40)$ </span>. Do these equations express different relationships between <span class=\"m\"> $F$ </span> and <span class=\"m\"> $N$ </span>, or do they express the same relationship in two different ways? Explain. </span> </div></div>"
            ]
        },
        {
            "cell_type": "markdown",
            "metadata": {
                "collapsed": false,
                "editable": false
            },
            "source": [
                "<div class=\"not-editable team\"><h2>Activity 1.7.3</h2></div>"
            ]
        },
        {
            "cell_type": "markdown",
            "metadata": {
                "collapsed": false,
                "editable": false
            },
            "source": [
                "<div class=\"not-editable team\"><span> Determine, with justification, whether each of the following functions has an inverse function. For each function that has an inverse function, give two examples of values of the inverse function by writing statements such as <span class=\"q\"> \"<span class=\"m\"> $s^{-1}(3) = 1$ </span>\" </span>. </span></div>"
            ]
        },
        {
            "cell_type": "markdown",
            "metadata": {
                "collapsed": false,
                "editable": false
            },
            "source": [
                "<div class=\"not-editable team\"><div><h4>Task A</h4> <span> The function <span class=\"m\"> $f : S \\to S$ </span> given by <a href=\"https://activecalculus.org/prelude/sec-changing-inverse.html#T-act-changing-inverse-does-it-1\">Table 1.7.11</a>, where <span class=\"m\"> $S = \\{0, 1, 2, 3, 4 \\}$ </span>. </span> <div><table><caption><b>Table 1.7.11.</b> Values of <span class=\"m\"> $y = f(x)$ </span>.</caption><tr><td><span class=\"m\"> $x$ </span></td><td>0</td><td>1</td><td>2</td><td>3</td><td>4</td></tr><tr><td><span class=\"m\"> $f(x)$ </span></td><td>1</td><td>2</td><td>4</td><td>3</td><td>2</td></tr></table></div> </div></div>"
            ]
        },
        {
            "cell_type": "markdown",
            "metadata": {
                "collapsed": false,
                "editable": false
            },
            "source": [
                "<div class=\"not-editable team\"><div><h4>Task B</h4> <span> The function <span class=\"m\"> $g : S \\to S$ </span> given by <a href=\"https://activecalculus.org/prelude/sec-changing-inverse.html#T-act-changing-inverse-does-it-2\">Table 1.7.12</a>, where <span class=\"m\"> $S = \\{0, 1, 2, 3, 4 \\}$ </span>. </span> <div><table><caption><b>Table 1.7.12.</b> Values of <span class=\"m\"> $y = g(x)$ </span>.</caption><tr><td><span class=\"m\"> $x$ </span></td><td>0</td><td>1</td><td>2</td><td>3</td><td>4</td></tr><tr><td><span class=\"m\"> $f(x)$ </span></td><td>4</td><td>0</td><td>3</td><td>1</td><td>2</td></tr></table></div> </div></div>"
            ]
        },
        {
            "cell_type": "markdown",
            "metadata": {
                "collapsed": false,
                "editable": false
            },
            "source": [
                "<div class=\"not-editable team\"><div><h4>Task C</h4> <span> The function <span class=\"m\"> $p$ </span> given by <span class=\"m\"> $p(t) = 7 - \\frac{3}{5}t$ </span>. Assume that the domain and codomain of <span class=\"m\"> $p$ </span> are both <span class=\"q\"> \"all real numbers\" </span>. </span> </div></div>"
            ]
        },
        {
            "cell_type": "markdown",
            "metadata": {
                "collapsed": false,
                "editable": false
            },
            "source": [
                "<div class=\"not-editable team\"><div><h4>Task D</h4> <span> The function <span class=\"m\"> $q$ </span> given by <span class=\"m\"> $q(t) = 7 - \\frac{3}{5}t^4$ </span>. Assume that the domain and codomain of <span class=\"m\"> $q$ </span> are both <span class=\"q\"> \"all real numbers\" </span>. </span> </div></div>"
            ]
        },
        {
            "cell_type": "markdown",
            "metadata": {
                "collapsed": false,
                "editable": false
            },
            "source": [
                "<div class=\"not-editable team\"><div><h4>Task E</h4> <span> The functions <span class=\"m\"> $r$ </span> and <span class=\"m\"> $s$ </span> given by the graphs in <a href=\"https://activecalculus.org/prelude/sec-changing-inverse.html#F-act-inverse-does-it-1\">Figure 1.7.13</a> and <a href=\"https://activecalculus.org/prelude/sec-changing-inverse.html#F-act-inverse-does-it-2\">Figure 1.7.14</a>. Assume that the graphs show all of the important behavior of the functions and that the apparent trends continue beyond what is pictured. </span> <div class=\"sidebyside\"><div><figure><figcaption><b>Figure 1.7.13.</b> The graph of <span class=\"m\"> $y = r(t)$ </span>.</figcaption><div><img src=\"images/inverse-act-does-it-1.svg\"/></div></figure></div><div><figure><figcaption><b>Figure 1.7.14.</b> The graph of <span class=\"m\"> $y = s(t)$ </span>.</figcaption><div><img src=\"images/inverse-act-does-it-2.svg\"/></div></figure></div></div> </div></div>"
            ]
        },
        {
            "cell_type": "markdown",
            "metadata": {
                "collapsed": false,
                "editable": false
            },
            "source": [
                "<div class=\"not-editable team\"><h2>Activity 1.7.4</h2></div>"
            ]
        },
        {
            "cell_type": "markdown",
            "metadata": {
                "collapsed": false,
                "editable": false
            },
            "source": [
                "<div class=\"not-editable team\"><span> During a major rainstorm, the rainfall at Gerald R. Ford Airport is measured on a frequent basis for a <span class=\"m\"> $10$ </span>-hour period of time. The following function <span class=\"m\"> $g$ </span> models the rate, <span class=\"m\"> $R$ </span>, at which the rain falls (in cm/hr) on the time interval <span class=\"m\"> $t = 0$ </span> to <span class=\"m\"> $t = 10$ </span>: <span class=\"m\"> $$ R = g(t) = \\frac{4}{t+2} + 1 $$ </span> </span></div>"
            ]
        },
        {
            "cell_type": "markdown",
            "metadata": {
                "collapsed": false,
                "editable": false
            },
            "source": [
                "<div class=\"not-editable team\"><div><h4>Task A</h4> <span> Compute <span class=\"m\"> $g(3)$ </span> and write a complete sentence to explain its meaning in the given context, including units. </span> </div></div>"
            ]
        },
        {
            "cell_type": "markdown",
            "metadata": {
                "collapsed": false,
                "editable": false
            },
            "source": [
                "<div class=\"not-editable team\"><div><h4>Task B</h4> <span> Compute the average rate of change of <span class=\"m\"> $g$ </span> on the time interval <span class=\"m\"> $[3,5]$ </span> and write two careful complete sentences to explain the meaning of this value in the context of the problem, including units. Explicitly address what the value you compute tells you about how rain is falling over a certain time interval, and what you should expect as time goes on. </span> </div></div>"
            ]
        },
        {
            "cell_type": "markdown",
            "metadata": {
                "collapsed": false,
                "editable": false
            },
            "source": [
                "<div class=\"not-editable team\"><div><h4>Task C</h4> <span> Plot the function <span class=\"m\"> $y = g(t)$ </span> using a computational device. On the domain <span class=\"m\"> $[1,10]$ </span>, what is the corresponding range of <span class=\"m\"> $g$ </span>? Why does the function <span class=\"m\"> $g$ </span> have an inverse function? </span> </div></div>"
            ]
        },
        {
            "cell_type": "markdown",
            "metadata": {
                "collapsed": false,
                "editable": false
            },
            "source": [
                "<div class=\"not-editable team\"><div><h4>Task D</h4> <span> Determine <span class=\"m\"> $g^{-1} \\left( \\frac{9}{5} \\right)$ </span> and write a complete sentence to explain its meaning in the given context. </span> </div></div>"
            ]
        },
        {
            "cell_type": "markdown",
            "metadata": {
                "collapsed": false,
                "editable": false
            },
            "source": [
                "<div class=\"not-editable team\"><div><h4>Task E</h4> <span> According to the model <span class=\"m\"> $g$ </span>, is there ever a time during the storm that the rain falls at a rate of exactly <span class=\"m\"> $1$ </span> centimeter per hour? Why or why not? Provide an algebraic justification for your answer. </span> </div></div>"
            ]
        }
    ],
    "nbformat": 4,
    "nbformat_minor": 4
}
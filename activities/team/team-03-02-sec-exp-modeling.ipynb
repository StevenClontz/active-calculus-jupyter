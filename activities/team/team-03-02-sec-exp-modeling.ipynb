{
    "cells": [
        {
            "cell_type": "markdown",
            "metadata": {
                "collapsed": false,
                "editable": false
            },
            "source": [
                "<div class=\"not-editable team\"><style> .not-editable{padding:1em;border-radius:10px;box-shadow:4px 4px 3px #ddd;margin:5px;} .not-editable.individual{background-color:#eefff8;} .not-editable.team{background-color:#eef8ff;} .sidebyside{display:flex;justify-content:center;} .sidebyside > *{margin-right:1em;flex:1;} caption{caption-side:top;white-space: nowrap;color:rgba(0,0,0,.45)}} figcaption{padding-top:0.75em;padding-bottom:0.3em;color:rgba(0,0,0,.45)} .fillin{display:inline-block;width:10em;margin-left:0.2em;margin-right:0.2em;height:1em;border-bottom:1px black solid;} .fn{font-size:0.8em;color:rgba(0,0,0.45)} .newcommands{display:none;} tt{background-color:#f8f8f8;border:1px #888 solid;border-radius:2px;padding-left:0.2em;padding-right:0.2em;} img{background-color:#fff;} </style> <div><h1>Section 3.2 Modeling with exponential functions</h1><h2>Team Notebook</h2><div><a href=\"https://activecalculus.org/prelude/sec-exp-modeling.html\">https://activecalculus.org/prelude/sec-exp-modeling.html</a></div></div></div>"
            ]
        },
        {
            "cell_type": "markdown",
            "metadata": {
                "collapsed": false,
                "editable": false
            },
            "source": [
                "<div class=\"not-editable team\"><h2>Activity 3.2.2</h2></div>"
            ]
        },
        {
            "cell_type": "markdown",
            "metadata": {
                "collapsed": false,
                "editable": false
            },
            "source": [
                "<div class=\"not-editable team\"><div><h4>Task A</h4> <span> always increasing or always decreasing; </span> </div></div>"
            ]
        },
        {
            "cell_type": "markdown",
            "metadata": {
                "collapsed": false,
                "editable": false
            },
            "source": [
                "<div class=\"not-editable team\"><div><h4>Task B</h4> <span> always concave up or always concave down; and </span> </div></div>"
            ]
        },
        {
            "cell_type": "markdown",
            "metadata": {
                "collapsed": false,
                "editable": false
            },
            "source": [
                "<div class=\"not-editable team\"><div><h4>Task C</h4> <span> increasing without bound, decreasing without bound, or increasing/decreasing toward a finite value. </span> </div></div>"
            ]
        },
        {
            "cell_type": "markdown",
            "metadata": {
                "collapsed": false,
                "editable": false
            },
            "source": [
                "<div class=\"not-editable team\"><div><h4>Task A</h4> <span> <span class=\"m\"> $p(t) = 4372 (1.000235)^t + 92856$ </span> </span> </div></div>"
            ]
        },
        {
            "cell_type": "markdown",
            "metadata": {
                "collapsed": false,
                "editable": false
            },
            "source": [
                "<div class=\"not-editable team\"><div><h4>Task B</h4> <span> <span class=\"m\"> $q(t) = 27931 (0.97231)^t + 549786$ </span> </span> </div></div>"
            ]
        },
        {
            "cell_type": "markdown",
            "metadata": {
                "collapsed": false,
                "editable": false
            },
            "source": [
                "<div class=\"not-editable team\"><div><h4>Task C</h4> <span> <span class=\"m\"> $r(t) = -17398 (0.85234)^t$ </span> </span> </div></div>"
            ]
        },
        {
            "cell_type": "markdown",
            "metadata": {
                "collapsed": false,
                "editable": false
            },
            "source": [
                "<div class=\"not-editable team\"><div><h4>Task D</h4> <span> <span class=\"m\"> $s(t) = -17398 (0.85234)^t + 19411$ </span> </span> </div></div>"
            ]
        },
        {
            "cell_type": "markdown",
            "metadata": {
                "collapsed": false,
                "editable": false
            },
            "source": [
                "<div class=\"not-editable team\"><div><h4>Task E</h4> <span> <span class=\"m\"> $u(t) = -7522 (1.03817)^t$ </span> </span> </div></div>"
            ]
        },
        {
            "cell_type": "markdown",
            "metadata": {
                "collapsed": false,
                "editable": false
            },
            "source": [
                "<div class=\"not-editable team\"><div><h4>Task F</h4> <span> <span class=\"m\"> $v(t) = -7522 (1.03817)^t + 6731$ </span> </span> </div></div>"
            ]
        },
        {
            "cell_type": "markdown",
            "metadata": {
                "collapsed": false,
                "editable": false
            },
            "source": [
                "<div class=\"not-editable team\"><h2>Activity 3.2.3</h2></div>"
            ]
        },
        {
            "cell_type": "markdown",
            "metadata": {
                "collapsed": false,
                "editable": false
            },
            "source": [
                "<div class=\"not-editable team\"><span> A can of soda (at room temperature) is placed in a refrigerator at time <span class=\"m\"> $t = 0$ </span> (in minutes) and its temperature, <span class=\"m\"> $F(t)$ </span>, in degrees Fahrenheit, is computed at regular intervals. Based on the data, a model is formulated for the object's temperature, given by <span class=\"m\"> $$ F(t) = 42 + 30(0.95)^{t} $$ </span>. </span></div>"
            ]
        },
        {
            "cell_type": "markdown",
            "metadata": {
                "collapsed": false,
                "editable": false
            },
            "source": [
                "<div class=\"not-editable team\"><div><h4>Task A</h4> <span> Consider the simpler (parent) function <span class=\"m\"> $p(t) = (0.95)^t$ </span>. How do you expect the graph of this function to appear? How will it behave as time increases? Without using graphing technology, sketch a rough graph of <span class=\"m\"> $p$ </span> and write a sentence of explanation. </span> </div></div>"
            ]
        },
        {
            "cell_type": "markdown",
            "metadata": {
                "collapsed": false,
                "editable": false
            },
            "source": [
                "<div class=\"not-editable team\"><div><h4>Task B</h4> <span> For the slightly more complicated function <span class=\"m\"> $r(t) = 30 (0.95)^{t}$ </span>, how do you expect this function to look in comparison to <span class=\"m\"> $p$ </span>? What is the long-range behavior of this function as <span class=\"m\"> $t$ </span> increases? Without using graphing technology, sketch a rough graph of <span class=\"m\"> $r$ </span> and write a sentence of explanation. </span> </div></div>"
            ]
        },
        {
            "cell_type": "markdown",
            "metadata": {
                "collapsed": false,
                "editable": false
            },
            "source": [
                "<div class=\"not-editable team\"><div><h4>Task C</h4> <span> Finally, how do you expect the graph of <span class=\"m\"> $F(t) = 42 + 30(0.95)^{t}$ </span> to appear? Why? First sketch a rough graph without graphing technology, and then use technology to check your thinking and report an accurate, labeled graph on the axes provided in <a href=\"https://activecalculus.org/prelude/sec-exp-modeling.html#F-modeling-act-blank-axes-soda\">Figure 3.2.11</a>. </span> <div><figure><figcaption><b>Figure 3.2.11.</b> Axes for plotting <span class=\"m\"> $F$ </span>.</figcaption><div><img src=\"images/modeling-F-t-blank-axes.svg\"/></div></figure></div> </div></div>"
            ]
        },
        {
            "cell_type": "markdown",
            "metadata": {
                "collapsed": false,
                "editable": false
            },
            "source": [
                "<div class=\"not-editable team\"><div><h4>Task D</h4> <span> What is the temperature of the refrigerator? What is the room temperature of the surroundings outside the refrigerator? Why? </span> </div></div>"
            ]
        },
        {
            "cell_type": "markdown",
            "metadata": {
                "collapsed": false,
                "editable": false
            },
            "source": [
                "<div class=\"not-editable team\"><div><h4>Task E</h4> <span> Determine the average rate of change of <span class=\"m\"> $F$ </span> on the intervals <span class=\"m\"> $[10,20]$ </span>, <span class=\"m\"> $[20,30]$ </span>, and <span class=\"m\"> $[30,40]$ </span>. Write at least two careful sentences that explain the meaning of the values you found, including units, and discuss any overall trend in how the average rate of change is changing. </span> </div></div>"
            ]
        },
        {
            "cell_type": "markdown",
            "metadata": {
                "collapsed": false,
                "editable": false
            },
            "source": [
                "<div class=\"not-editable team\"><h2>Activity 3.2.4</h2></div>"
            ]
        },
        {
            "cell_type": "markdown",
            "metadata": {
                "collapsed": false,
                "editable": false
            },
            "source": [
                "<div class=\"not-editable team\"><span> A potato initially at room temperature (<span class=\"m\"> $68^\\circ$ </span>) is placed in an oven (at <span class=\"m\"> $350^\\circ$ </span>) at time <span class=\"m\"> $t = 0$ </span>. It is known that the potato's temperature at time <span class=\"m\"> $t$ </span> is given by the function <span class=\"m\"> $F(t) = a - b(0.98)^t$ </span> for some positive constants <span class=\"m\"> $a$ </span> and <span class=\"m\"> $b$ </span>, where <span class=\"m\"> $F$ </span> is measured in degrees Fahrenheit and <span class=\"m\"> $t$ </span> is time in minutes. </span></div>"
            ]
        },
        {
            "cell_type": "markdown",
            "metadata": {
                "collapsed": false,
                "editable": false
            },
            "source": [
                "<div class=\"not-editable team\"><div><h4>Task A</h4> <span> What is the numerical value of <span class=\"m\"> $F(0)$ </span>? What does this tell you about the value of <span class=\"m\"> $a - b$ </span>? </span> </div></div>"
            ]
        },
        {
            "cell_type": "markdown",
            "metadata": {
                "collapsed": false,
                "editable": false
            },
            "source": [
                "<div class=\"not-editable team\"><div><h4>Task B</h4> <span> Based on the context of the problem, what should be the long-range behavior of the function <span class=\"m\"> $F(t)$ </span>? Use this fact along with the behavior of <span class=\"m\"> $(0.98)^t$ </span> to determine the value of <span class=\"m\"> $a$ </span>. Write a sentence to explain your thinking. </span> </div></div>"
            ]
        },
        {
            "cell_type": "markdown",
            "metadata": {
                "collapsed": false,
                "editable": false
            },
            "source": [
                "<div class=\"not-editable team\"><div><h4>Task C</h4> <span> What is the value of <span class=\"m\"> $b$ </span>? Why? </span> </div></div>"
            ]
        },
        {
            "cell_type": "markdown",
            "metadata": {
                "collapsed": false,
                "editable": false
            },
            "source": [
                "<div class=\"not-editable team\"><div><h4>Task D</h4> <span> Check your work above by plotting the function <span class=\"m\"> $F$ </span> using graphing technology in an appropriate window. Record your results on the axes provided in <a href=\"https://activecalculus.org/prelude/sec-exp-modeling.html#F-modeling-act-blank-axes-potato\">Figure 3.2.12</a>, labeling the scale on the axes. Then, use the graph to estimate the time at which the potato's temperature reaches <span class=\"m\"> $325$ </span> degrees. </span> <div><figure><figcaption><b>Figure 3.2.12.</b> Axes for plotting <span class=\"m\"> $F$ </span>.</figcaption><div><img src=\"images/modeling-F-t-blank-axes.svg\"/></div></figure></div> </div></div>"
            ]
        },
        {
            "cell_type": "markdown",
            "metadata": {
                "collapsed": false,
                "editable": false
            },
            "source": [
                "<div class=\"not-editable team\"><div><h4>Task E</h4> <span> How can we view the function <span class=\"m\"> $F(t) = a - b(0.98)^t$ </span> as a transformation of the parent function <span class=\"m\"> $f(t) = (0.98)^t$ </span>? Explain. </span> </div></div>"
            ]
        }
    ],
    "nbformat": 4,
    "nbformat_minor": 4
}
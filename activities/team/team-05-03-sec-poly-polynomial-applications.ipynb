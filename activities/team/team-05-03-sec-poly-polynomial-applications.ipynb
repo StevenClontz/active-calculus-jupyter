{
    "cells": [
        {
            "cell_type": "markdown",
            "metadata": {
                "collapsed": false,
                "editable": false
            },
            "source": [
                "<div class=\"not-editable team\"><style> .not-editable{padding:1em;border-radius:10px;box-shadow:4px 4px 3px #ddd;margin:5px;} .not-editable.individual{background-color:#eefff8;} .not-editable.team{background-color:#eef8ff;} .sidebyside{display:flex;justify-content:center;} .sidebyside > *{margin-right:1em;flex:1;} caption{caption-side:top;white-space: nowrap;color:rgba(0,0,0,.45)}} figcaption{padding-top:0.75em;padding-bottom:0.3em;color:rgba(0,0,0,.45)} .fillin{display:inline-block;width:10em;margin-left:0.2em;margin-right:0.2em;height:1em;border-bottom:1px black solid;} .fn{font-size:0.8em;color:rgba(0,0,0.45)} .newcommands{display:none;} tt{background-color:#f8f8f8;border:1px #888 solid;border-radius:2px;padding-left:0.2em;padding-right:0.2em;} img{background-color:#fff;} </style> <div><h1>Section 5.3 Modeling with polynomial functions</h1><h2>Team Notebook</h2><div><a href=\"https://activecalculus.org/prelude/sec-poly-polynomial-applications.html\">https://activecalculus.org/prelude/sec-poly-polynomial-applications.html</a></div></div></div>"
            ]
        },
        {
            "cell_type": "markdown",
            "metadata": {
                "collapsed": false,
                "editable": false
            },
            "source": [
                "<div class=\"not-editable team\"><h2>Activity 5.3.2</h2></div>"
            ]
        },
        {
            "cell_type": "markdown",
            "metadata": {
                "collapsed": false,
                "editable": false
            },
            "source": [
                "<div class=\"not-editable team\"><span> According to a shipping company's regulations, the girth plus the length of a parcel they transport for their lowest rate may not exceed <span class=\"m\"> $120$ </span> inches, where by girth we mean the perimeter of the smallest end. </span></div>"
            ]
        },
        {
            "cell_type": "markdown",
            "metadata": {
                "collapsed": false,
                "editable": false
            },
            "source": [
                "<div class=\"not-editable team\"><div><figure><figcaption><b>Figure 5.3.3.</b> A rectangular parcel with a square end.</figcaption><div><img src=\"images/polynomial-applications-postal.svg\"/></div></figure></div></div>"
            ]
        },
        {
            "cell_type": "markdown",
            "metadata": {
                "collapsed": false,
                "editable": false
            },
            "source": [
                "<div class=\"not-editable team\"><span> Suppose that we want to ship a parcel that has a square end of width <span class=\"m\"> $x$ </span> and an overall length of <span class=\"m\"> $y$ </span>, both measured in inches. </span></div>"
            ]
        },
        {
            "cell_type": "markdown",
            "metadata": {
                "collapsed": false,
                "editable": false
            },
            "source": [
                "<div class=\"not-editable team\"><div><h4>Task A</h4> <span> Label the provided picture, using <span class=\"m\"> $x$ </span> for the length of each side of the square end, and <span class=\"m\"> $y$ </span> for the other edge of the package. </span> </div></div>"
            ]
        },
        {
            "cell_type": "markdown",
            "metadata": {
                "collapsed": false,
                "editable": false
            },
            "source": [
                "<div class=\"not-editable team\"><div><h4>Task B</h4> <span> How does the length plus girth of <span class=\"m\"> $120$ </span> inches result in an equation (often called a constraint equation) that relates <span class=\"m\"> $x$ </span> and <span class=\"m\"> $y$ </span>? Explain, and state the equation. </span> </div></div>"
            ]
        },
        {
            "cell_type": "markdown",
            "metadata": {
                "collapsed": false,
                "editable": false
            },
            "source": [
                "<div class=\"not-editable team\"><div><h4>Task C</h4> <span> Solve the equation you found in (b) for one of the variables present. </span> </div></div>"
            ]
        },
        {
            "cell_type": "markdown",
            "metadata": {
                "collapsed": false,
                "editable": false
            },
            "source": [
                "<div class=\"not-editable team\"><div><h4>Task D</h4> <span> Hence determine the volume, <span class=\"m\"> $V$ </span>, of the package as a function of a single variable. </span> </div></div>"
            ]
        },
        {
            "cell_type": "markdown",
            "metadata": {
                "collapsed": false,
                "editable": false
            },
            "source": [
                "<div class=\"not-editable team\"><div><h4>Task E</h4> <span> What is the domain of the function <span class=\"m\"> $V$ </span> in the context of the physical setting of this problem? (Hint: what's the maximum value of <span class=\"m\"> $x$ </span>? the maximum value of <span class=\"m\"> $y$ </span>?) </span> </div></div>"
            ]
        },
        {
            "cell_type": "markdown",
            "metadata": {
                "collapsed": false,
                "editable": false
            },
            "source": [
                "<div class=\"not-editable team\"><h2>Activity 5.3.3</h2></div>"
            ]
        },
        {
            "cell_type": "markdown",
            "metadata": {
                "collapsed": false,
                "editable": false
            },
            "source": [
                "<div class=\"not-editable team\"><span> Suppose that we want to construct a cylindrical can using <span class=\"m\"> $60$ </span> square inches of material for the surface of the can. In this context, how does the can's volume depend on the radius we choose? </span></div>"
            ]
        },
        {
            "cell_type": "markdown",
            "metadata": {
                "collapsed": false,
                "editable": false
            },
            "source": [
                "<div class=\"not-editable team\"><span> Let the cylindrical can have base radius <span class=\"m\"> $r$ </span> and height <span class=\"m\"> $h$ </span>. </span></div>"
            ]
        },
        {
            "cell_type": "markdown",
            "metadata": {
                "collapsed": false,
                "editable": false
            },
            "source": [
                "<div class=\"not-editable team\"><div><h4>Task A</h4> <span> Use the formula for the surface area of a cylinder and the given constraint that the can's surface area is <span class=\"m\"> $60$ </span> square inches to write an equation that connects the radius <span class=\"m\"> $r$ </span> and height <span class=\"m\"> $h$ </span>. </span> </div></div>"
            ]
        },
        {
            "cell_type": "markdown",
            "metadata": {
                "collapsed": false,
                "editable": false
            },
            "source": [
                "<div class=\"not-editable team\"><div><h4>Task B</h4> <span> Solve the equation you found in (a) for <span class=\"m\"> $h$ </span> in terms of <span class=\"m\"> $r$ </span>. </span> </div></div>"
            ]
        },
        {
            "cell_type": "markdown",
            "metadata": {
                "collapsed": false,
                "editable": false
            },
            "source": [
                "<div class=\"not-editable team\"><div><h4>Task C</h4> <span> Recall that the volume of a cylinder is <span class=\"m\"> $V = \\pi r^2 h$ </span>. Use your work in (b) to write <span class=\"m\"> $V$ </span> as a function of <span class=\"m\"> $r$ </span> only and simplify the formula as much as possible. </span> </div></div>"
            ]
        },
        {
            "cell_type": "markdown",
            "metadata": {
                "collapsed": false,
                "editable": false
            },
            "source": [
                "<div class=\"not-editable team\"><div><h4>Task D</h4> <span> Hence determine the volume, <span class=\"m\"> $V$ </span>, of the package as a function of a single variable. </span> </div></div>"
            ]
        },
        {
            "cell_type": "markdown",
            "metadata": {
                "collapsed": false,
                "editable": false
            },
            "source": [
                "<div class=\"not-editable team\"><div><h4>Task E</h4> <span> What is the domain of the function <span class=\"m\"> $V$ </span> in the context of the physical setting of this problem? (Hint: how does the constraint on surface area provide a largest possible value for <span class=\"m\"> $r$ </span>? Think about the maximum area that can be allocated to the top and bottom of the can.) </span> </div></div>"
            ]
        },
        {
            "cell_type": "markdown",
            "metadata": {
                "collapsed": false,
                "editable": false
            },
            "source": [
                "<div class=\"not-editable team\"><h2>Activity 5.3.4</h2></div>"
            ]
        },
        {
            "cell_type": "markdown",
            "metadata": {
                "collapsed": false,
                "editable": false
            },
            "source": [
                "<div class=\"not-editable team\"><span> We understand the theoretical rule behind the function <span class=\"m\"> $f(t) = \\sin(t)$ </span>: given an angle <span class=\"m\"> $t$ </span> in radians, <span class=\"m\"> $\\sin(t)$ </span> measures the value of the <span class=\"m\"> $y$ </span>-coordinate of the corresponding point on the unit circle. For special values of <span class=\"m\"> $t$ </span>, we have determined the exact value of <span class=\"m\"> $\\sin(t)$ </span>. For example, <span class=\"m\"> $\\sin(\\frac{\\pi}{3}) = \\frac{\\sqrt{3}}{2}$ </span>. But note that we don't have a formula for <span class=\"m\"> $\\sin(t)$ </span>. Instead, we use a button on our calculator or command on our computer to find values like <span class=\"q\"> \"<span class=\"m\"> $\\sin(1.35)$ </span>.\" </span> It turns out that a combination of calculus and polynomial functions explains how computers determine values of the sine function. </span></div>"
            ]
        },
        {
            "cell_type": "markdown",
            "metadata": {
                "collapsed": false,
                "editable": false
            },
            "source": [
                "<div class=\"not-editable team\"><span> At http://gvsu.edu/s/0zA, you'll find a Desmos worksheet that has the sine function already defined, along with a sequence of polynomials labeled <span class=\"m\"> $T_1(x)$ </span>, <span class=\"m\"> $T_3(x)$ </span>, <span class=\"m\"> $T_5(x)$ </span>, <span class=\"m\"> $T_7(x)$ </span>, <span class=\"m\"> $\\ldots$ </span>. You can see these functions' graphs by clicking on their respective icons. </span></div>"
            ]
        },
        {
            "cell_type": "markdown",
            "metadata": {
                "collapsed": false,
                "editable": false
            },
            "source": [
                "<div class=\"not-editable team\"><div><h4>Task A</h4> <span> For what values of <span class=\"m\"> $x$ </span> does it appear that <span class=\"m\"> $\\sin(x) \\approx T_1(x)$ </span>? </span> </div></div>"
            ]
        },
        {
            "cell_type": "markdown",
            "metadata": {
                "collapsed": false,
                "editable": false
            },
            "source": [
                "<div class=\"not-editable team\"><div><h4>Task B</h4> <span> For what values of <span class=\"m\"> $x$ </span> does it appear that <span class=\"m\"> $\\sin(x) \\approx T_3(x)$ </span>? </span> </div></div>"
            ]
        },
        {
            "cell_type": "markdown",
            "metadata": {
                "collapsed": false,
                "editable": false
            },
            "source": [
                "<div class=\"not-editable team\"><div><h4>Task C</h4> <span> For what values of <span class=\"m\"> $x$ </span> does it appear that <span class=\"m\"> $\\sin(x) \\approx T_5(x)$ </span>? </span> </div></div>"
            ]
        },
        {
            "cell_type": "markdown",
            "metadata": {
                "collapsed": false,
                "editable": false
            },
            "source": [
                "<div class=\"not-editable team\"><div><h4>Task D</h4> <span> What overall trend do you observe? How good is the approximation generated by <span class=\"m\"> $T_{19}(x)$ </span>? </span> </div></div>"
            ]
        },
        {
            "cell_type": "markdown",
            "metadata": {
                "collapsed": false,
                "editable": false
            },
            "source": [
                "<div class=\"not-editable team\"><div><h4>Task E</h4> <span> In a new Desmos worksheet, plot the function <span class=\"m\"> $y = \\cos(x)$ </span> along with the following functions: <span class=\"m\"> $P_2(x) = 1 - \\frac{x^2}{2!}$ </span> and <span class=\"m\"> $P_4(x) = 1 - \\frac{x^2}{2!} + \\frac{x^4}{4!}$ </span>. Based on the patterns with the coefficients in the polynomials approximating <span class=\"m\"> $\\sin(x)$ </span> and the polynomials <span class=\"m\"> $P_2$ </span> and <span class=\"m\"> $P_4$ </span> here, conjecture formulas for <span class=\"m\"> $P_6$ </span>, <span class=\"m\"> $P_8$ </span>, and <span class=\"m\"> $P_{18}$ </span> and plot them. How well can we approximate <span class=\"m\"> $y = \\cos(x)$ </span> using polynomials? </span> </div></div>"
            ]
        }
    ],
    "nbformat": 4,
    "nbformat_minor": 4
}
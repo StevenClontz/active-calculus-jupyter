{
    "cells": [
        {
            "cell_type": "markdown",
            "metadata": {
                "collapsed": false,
                "editable": false
            },
            "source": [
                "<div class=\"not-editable team\"><style> .not-editable{padding:1em;border-radius:10px;box-shadow:4px 4px 3px #ddd;margin:5px;} .not-editable.individual{background-color:#eefff8;} .not-editable.team{background-color:#eef8ff;} .sidebyside{display:flex;justify-content:center;} .sidebyside > *{margin-right:1em;flex:1;} caption{caption-side:top;white-space: nowrap;color:rgba(0,0,0,.45)}} figcaption{padding-top:0.75em;padding-bottom:0.3em;color:rgba(0,0,0,.45)} .fillin{display:inline-block;width:10em;margin-left:0.2em;margin-right:0.2em;height:1em;border-bottom:1px black solid;} .fn{font-size:0.8em;color:rgba(0,0,0.45)} .newcommands{display:none;} tt{background-color:#f8f8f8;border:1px #888 solid;border-radius:2px;padding-left:0.2em;padding-right:0.2em;} img{background-color:#fff;} </style> <div><h1>Section 3.4 What a logarithm is</h1><h2>Team Notebook</h2><div><a href=\"https://activecalculus.org/prelude/sec-exp-log.html\">https://activecalculus.org/prelude/sec-exp-log.html</a></div></div></div>"
            ]
        },
        {
            "cell_type": "markdown",
            "metadata": {
                "collapsed": false,
                "editable": false
            },
            "source": [
                "<div class=\"not-editable team\"><h2>Activity 3.4.2</h2></div>"
            ]
        },
        {
            "cell_type": "markdown",
            "metadata": {
                "collapsed": false,
                "editable": false
            },
            "source": [
                "<div class=\"not-editable team\"><span> For each of the following equations, determine the exact value of the unknown variable. If the exact value involves a logarithm, use a computational device to also report an approximate value. For instance, if the exact value is <span class=\"m\"> $y = \\log_{10}(2)$ </span>, you can also note that <span class=\"m\"> $y \\approx 0.301$ </span>. </span></div>"
            ]
        },
        {
            "cell_type": "markdown",
            "metadata": {
                "collapsed": false,
                "editable": false
            },
            "source": [
                "<div class=\"not-editable team\"><div><h4>Task A</h4> <span> <span class=\"m\"> $10^t = 0.00001$ </span> </span> </div></div>"
            ]
        },
        {
            "cell_type": "markdown",
            "metadata": {
                "collapsed": false,
                "editable": false
            },
            "source": [
                "<div class=\"not-editable team\"><div><h4>Task B</h4> <span> <span class=\"m\"> $\\log_{10}(1000000) = t$ </span> </span> </div></div>"
            ]
        },
        {
            "cell_type": "markdown",
            "metadata": {
                "collapsed": false,
                "editable": false
            },
            "source": [
                "<div class=\"not-editable team\"><div><h4>Task C</h4> <span> <span class=\"m\"> $10^t = 37$ </span> </span> </div></div>"
            ]
        },
        {
            "cell_type": "markdown",
            "metadata": {
                "collapsed": false,
                "editable": false
            },
            "source": [
                "<div class=\"not-editable team\"><div><h4>Task D</h4> <span> <span class=\"m\"> $\\log_{10}(y) = 1.375$ </span> </span> </div></div>"
            ]
        },
        {
            "cell_type": "markdown",
            "metadata": {
                "collapsed": false,
                "editable": false
            },
            "source": [
                "<div class=\"not-editable team\"><div><h4>Task E</h4> <span> <span class=\"m\"> $10^t = 0.04$ </span> </span> </div></div>"
            ]
        },
        {
            "cell_type": "markdown",
            "metadata": {
                "collapsed": false,
                "editable": false
            },
            "source": [
                "<div class=\"not-editable team\"><div><h4>Task F</h4> <span> <span class=\"m\"> $3 \\cdot 10^t + 11 = 147$ </span> </span> </div></div>"
            ]
        },
        {
            "cell_type": "markdown",
            "metadata": {
                "collapsed": false,
                "editable": false
            },
            "source": [
                "<div class=\"not-editable team\"><div><h4>Task G</h4> <span> <span class=\"m\"> $2\\log_{10}(y) + 5 = 1$ </span> </span> </div></div>"
            ]
        },
        {
            "cell_type": "markdown",
            "metadata": {
                "collapsed": false,
                "editable": false
            },
            "source": [
                "<div class=\"not-editable team\"><h2>Activity 3.4.3</h2></div>"
            ]
        },
        {
            "cell_type": "markdown",
            "metadata": {
                "collapsed": false,
                "editable": false
            },
            "source": [
                "<div class=\"not-editable team\"><span> Let <span class=\"m\"> $E(t) = e^t$ </span> and <span class=\"m\"> $N(y) = \\ln(y)$ </span> be the natural exponential function and the natural logarithm function, respectively. </span></div>"
            ]
        },
        {
            "cell_type": "markdown",
            "metadata": {
                "collapsed": false,
                "editable": false
            },
            "source": [
                "<div class=\"not-editable team\"><div><h4>Task A</h4> <span> What are the domain and range of <span class=\"m\"> $E$ </span>? </span> </div></div>"
            ]
        },
        {
            "cell_type": "markdown",
            "metadata": {
                "collapsed": false,
                "editable": false
            },
            "source": [
                "<div class=\"not-editable team\"><div><h4>Task B</h4> <span> What are the domain and range of <span class=\"m\"> $N$ </span>? </span> </div></div>"
            ]
        },
        {
            "cell_type": "markdown",
            "metadata": {
                "collapsed": false,
                "editable": false
            },
            "source": [
                "<div class=\"not-editable team\"><div><h4>Task C</h4> <span> What can you say about <span class=\"m\"> $\\ln(e^t)$ </span> for every real number <span class=\"m\"> $t$ </span>? </span> </div></div>"
            ]
        },
        {
            "cell_type": "markdown",
            "metadata": {
                "collapsed": false,
                "editable": false
            },
            "source": [
                "<div class=\"not-editable team\"><div><h4>Task D</h4> <span> What can you say about <span class=\"m\"> $e^{\\ln(y)}$ </span> for every positive real number <span class=\"m\"> $y$ </span>? </span> </div></div>"
            ]
        },
        {
            "cell_type": "markdown",
            "metadata": {
                "collapsed": false,
                "editable": false
            },
            "source": [
                "<div class=\"not-editable team\"><div><h4>Task E</h4> <span> Complete <a href=\"https://activecalculus.org/prelude/sec-exp-log.html#T-act-natural-e\">Table 3.4.5</a> and <a href=\"https://activecalculus.org/prelude/sec-exp-log.html#T-act-natural-log\">Table 3.4.6</a> with both exact and approximate values of <span class=\"m\"> $E$ </span> and <span class=\"m\"> $N$ </span>. Then, plot the corresponding ordered pairs from each table on the axes provided in <a href=\"https://activecalculus.org/prelude/sec-exp-log.html#F-axes-e-ln\">Figure 3.4.7</a> and connect the points in an intuitive way. When you plot the ordered pairs on the axes, in both cases view the first line of the table as generating values on the horizontal axis and the second line of the table as producing values on the vertical axis; label each ordered pair you plot appropriately. </span> <div class=\"sidebyside\"><span> <div><table><caption><b>Table 3.4.5.</b> Values of <span class=\"m\"> $y = E(t)$ </span>.</caption><tr><td><span class=\"m\"> $t$ </span></td><td><span class=\"m\"> $-2$ </span></td><td><span class=\"m\"> $-1$ </span></td><td><span class=\"m\"> $0$ </span></td><td><span class=\"m\"> $1$ </span></td><td><span class=\"m\"> $2$ </span></td></tr><tr><td><span class=\"m\"> $E(t)=e^t$ </span></td><td><span class=\"m\"> $e^{-2} \\approx 0.135$ </span></td><td/><td/><td/><td/></tr></table></div> <div><table><caption><b>Table 3.4.6.</b> Values of <span class=\"m\"> $t = N(y)$ </span>.</caption><tr><td><span class=\"m\"> $y$ </span></td><td><span class=\"m\"> $e^{-2}$ </span></td><td><span class=\"m\"> $e^{-1}$ </span></td><td><span class=\"m\"> $1$ </span></td><td><span class=\"m\"> $e^1$ </span></td><td><span class=\"m\"> $e^2$ </span></td></tr><tr><td><span class=\"m\"> $N(y)=\\ln(y)$ </span></td><td><span class=\"m\"> $-2$ </span></td><td/><td/><td/><td/></tr></table></div> </span><div><figure><figcaption><b>Figure 3.4.7.</b> Axes for plotting data from <a href=\"https://activecalculus.org/prelude/sec-exp-log.html#T-act-natural-e\">Table 3.4.5</a> and <a href=\"https://activecalculus.org/prelude/sec-exp-log.html#T-act-natural-log\">Table 3.4.6</a> along with the graphs of the natural exponential and natural logarithm functions.</figcaption><div><img src=\"images/exp-log-blank-axes.svg\"/></div></figure></div></div> </div></div>"
            ]
        },
        {
            "cell_type": "markdown",
            "metadata": {
                "collapsed": false,
                "editable": false
            },
            "source": [
                "<div class=\"not-editable team\"><h2>Activity 3.4.4</h2></div>"
            ]
        },
        {
            "cell_type": "markdown",
            "metadata": {
                "collapsed": false,
                "editable": false
            },
            "source": [
                "<div class=\"not-editable team\"><span> Solve each of the following equations for the exact value of the unknown variable. If there is no solution to the equation, explain why not. </span></div>"
            ]
        },
        {
            "cell_type": "markdown",
            "metadata": {
                "collapsed": false,
                "editable": false
            },
            "source": [
                "<div class=\"not-editable team\"><div><h4>Task A</h4> <span> <span class=\"m\"> $e^t = \\frac{1}{10}$ </span> </span> </div></div>"
            ]
        },
        {
            "cell_type": "markdown",
            "metadata": {
                "collapsed": false,
                "editable": false
            },
            "source": [
                "<div class=\"not-editable team\"><div><h4>Task B</h4> <span> <span class=\"m\"> $5e^{t}=7$ </span> </span> </div></div>"
            ]
        },
        {
            "cell_type": "markdown",
            "metadata": {
                "collapsed": false,
                "editable": false
            },
            "source": [
                "<div class=\"not-editable team\"><div><h4>Task C</h4> <span> <span class=\"m\"> $\\ln(t) = -\\frac{1}{3}$ </span> </span> </div></div>"
            ]
        },
        {
            "cell_type": "markdown",
            "metadata": {
                "collapsed": false,
                "editable": false
            },
            "source": [
                "<div class=\"not-editable team\"><div><h4>Task D</h4> <span> <span class=\"m\"> $e^{1-3t} = 4$ </span> </span> </div></div>"
            ]
        },
        {
            "cell_type": "markdown",
            "metadata": {
                "collapsed": false,
                "editable": false
            },
            "source": [
                "<div class=\"not-editable team\"><div><h4>Task E</h4> <span> <span class=\"m\"> $2\\ln(t) + 1 = 4$ </span> </span> </div></div>"
            ]
        },
        {
            "cell_type": "markdown",
            "metadata": {
                "collapsed": false,
                "editable": false
            },
            "source": [
                "<div class=\"not-editable team\"><div><h4>Task F</h4> <span> <span class=\"m\"> $4 - 3e^{2t} = 2$ </span> </span> </div></div>"
            ]
        },
        {
            "cell_type": "markdown",
            "metadata": {
                "collapsed": false,
                "editable": false
            },
            "source": [
                "<div class=\"not-editable team\"><div><h4>Task G</h4> <span> <span class=\"m\"> $4 + 3e^{2t} = 2$ </span> </span> </div></div>"
            ]
        },
        {
            "cell_type": "markdown",
            "metadata": {
                "collapsed": false,
                "editable": false
            },
            "source": [
                "<div class=\"not-editable team\"><div><h4>Task H</h4> <span> <span class=\"m\"> $\\ln(5 - 6t) = -2$ </span> </span> </div></div>"
            ]
        }
    ],
    "nbformat": 4,
    "nbformat_minor": 4
}
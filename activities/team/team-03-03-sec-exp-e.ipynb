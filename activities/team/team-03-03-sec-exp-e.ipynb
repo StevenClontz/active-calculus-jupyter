{
    "cells": [
        {
            "cell_type": "markdown",
            "metadata": {
                "collapsed": false,
                "editable": false
            },
            "source": [
                "<div class=\"not-editable team\"><style> .not-editable{padding:1em;border-radius:10px;box-shadow:4px 4px 3px #ddd;margin:5px;} .not-editable.individual{background-color:#eefff8;} .not-editable.team{background-color:#eef8ff;} .sidebyside{display:flex;justify-content:center;} .sidebyside > *{margin-right:1em;flex:1;} caption{caption-side:top;white-space: nowrap;color:rgba(0,0,0,.45)}} figcaption{padding-top:0.75em;padding-bottom:0.3em;color:rgba(0,0,0,.45)} .fillin{display:inline-block;width:10em;margin-left:0.2em;margin-right:0.2em;height:1em;border-bottom:1px black solid;} .fn{font-size:0.8em;color:rgba(0,0,0.45)} .newcommands{display:none;} tt{background-color:#f8f8f8;border:1px #888 solid;border-radius:2px;padding-left:0.2em;padding-right:0.2em;} img{background-color:#fff;} </style> <div><h1>Section 3.3 The special number e</h1><h2>Team Notebook</h2><div><a href=\"https://activecalculus.org/prelude/sec-exp-e.html\">https://activecalculus.org/prelude/sec-exp-e.html</a></div></div></div>"
            ]
        },
        {
            "cell_type": "markdown",
            "metadata": {
                "collapsed": false,
                "editable": false
            },
            "source": [
                "<div class=\"not-editable team\"><h2>Activity 3.3.2</h2></div>"
            ]
        },
        {
            "cell_type": "markdown",
            "metadata": {
                "collapsed": false,
                "editable": false
            },
            "source": [
                "<div class=\"not-editable team\"><span> Recall from <a href=\"#sec-changing-aroc\">Section 1.3 The Average Rate of Change of a Function</a> that the average rate of change of a function <span class=\"m\"> $f$ </span> on an interval <span class=\"m\"> $[a,b]$ </span> is <span class=\"m\"> $$ AV_{[a,b]} = \\frac{f(b)-f(a)}{b-a} $$ </span>. In <a href=\"#sec-changing-composite\">Section 1.6 Composite Functions</a>, we also saw that if we instead think of the average rate of change of <span class=\"m\"> $f$ </span> on the interval <span class=\"m\"> $[a,a+h]$ </span>, the expression changes to <span class=\"m\"> $$ AV_{[a,a+h]} = \\frac{f(a+h)-f(a)}{h} $$ </span>. In this activity we explore the average rate of change of <span class=\"m\"> $f(t) = e^t$ </span> near the points where <span class=\"m\"> $t = 1$ </span> and <span class=\"m\"> $t = 2$ </span>. </span></div>"
            ]
        },
        {
            "cell_type": "markdown",
            "metadata": {
                "collapsed": false,
                "editable": false
            },
            "source": [
                "<div class=\"not-editable team\"><span> In a new Desmos worksheet, let <span class=\"m\"> $f(t) = e^t$ </span> and define the function <span class=\"m\"> $A$ </span> by the rule <span class=\"m\"> $$ A(h) = \\frac{f(1+h)-f(1)}{h} $$ </span>. </span></div>"
            ]
        },
        {
            "cell_type": "markdown",
            "metadata": {
                "collapsed": false,
                "editable": false
            },
            "source": [
                "<div class=\"not-editable team\"><div><h4>Task A</h4> <span> What is the meaning of <span class=\"m\"> $A(0.5)$ </span> in terms of the function <span class=\"m\"> $f$ </span> and its graph? </span> </div></div>"
            ]
        },
        {
            "cell_type": "markdown",
            "metadata": {
                "collapsed": false,
                "editable": false
            },
            "source": [
                "<div class=\"not-editable team\"><div><h4>Task B</h4> <span> Compute the value of <span class=\"m\"> $A(h)$ </span> for at least <span class=\"m\"> $6$ </span> different small values of <span class=\"m\"> $h$ </span>, both positive and negative. For instance, one value to try might be <span class=\"m\"> $h = 0.0001$ </span>. Record a table of your results. </span> </div></div>"
            ]
        },
        {
            "cell_type": "markdown",
            "metadata": {
                "collapsed": false,
                "editable": false
            },
            "source": [
                "<div class=\"not-editable team\"><div><h4>Task C</h4> <span> What do you notice about the values you found in (b)? How do they compare to an important number? </span> </div></div>"
            ]
        },
        {
            "cell_type": "markdown",
            "metadata": {
                "collapsed": false,
                "editable": false
            },
            "source": [
                "<div class=\"not-editable team\"><div><h4>Task D</h4> <span> Explain why the following sentence makes sense: <span class=\"q\"> \"The function <span class=\"m\"> $e^t$ </span> is increasing at an average rate that is about the same as its value on small intervals near <span class=\"m\"> $t = 1$ </span>.\" </span> </span> </div></div>"
            ]
        },
        {
            "cell_type": "markdown",
            "metadata": {
                "collapsed": false,
                "editable": false
            },
            "source": [
                "<div class=\"not-editable team\"><div><h4>Task E</h4> <span> Adjust your definition of <span class=\"m\"> $A$ </span> in Desmos by changing <span class=\"m\"> $1$ </span> to <span class=\"m\"> $2$ </span> so that <span class=\"m\"> $$ A(h) = \\frac{f(2+h)-f(2)}{h} $$ </span>. How does the value of <span class=\"m\"> $A(h)$ </span> compare to <span class=\"m\"> $f(2)$ </span> for small values of <span class=\"m\"> $h$ </span>? </span> </div></div>"
            ]
        },
        {
            "cell_type": "markdown",
            "metadata": {
                "collapsed": false,
                "editable": false
            },
            "source": [
                "<div class=\"not-editable team\"><h2>Activity 3.3.3</h2></div>"
            ]
        },
        {
            "cell_type": "markdown",
            "metadata": {
                "collapsed": false,
                "editable": false
            },
            "source": [
                "<div class=\"not-editable team\"><span> By graphing <span class=\"m\"> $f(t) = e^t$ </span> and appropriate horizontal lines, estimate the solution to each of the following equations. Note that in some parts, you may need to do some algebraic work in addition to using the graph. </span></div>"
            ]
        },
        {
            "cell_type": "markdown",
            "metadata": {
                "collapsed": false,
                "editable": false
            },
            "source": [
                "<div class=\"not-editable team\"><div><h4>Task A</h4> <span> <span class=\"m\"> $e^t = 2$ </span> </span> </div></div>"
            ]
        },
        {
            "cell_type": "markdown",
            "metadata": {
                "collapsed": false,
                "editable": false
            },
            "source": [
                "<div class=\"not-editable team\"><div><h4>Task B</h4> <span> <span class=\"m\"> $e^{3t} = 5$ </span> </span> </div></div>"
            ]
        },
        {
            "cell_type": "markdown",
            "metadata": {
                "collapsed": false,
                "editable": false
            },
            "source": [
                "<div class=\"not-editable team\"><div><h4>Task C</h4> <span> <span class=\"m\"> $2e^t - 4 = 7$ </span> </span> </div></div>"
            ]
        },
        {
            "cell_type": "markdown",
            "metadata": {
                "collapsed": false,
                "editable": false
            },
            "source": [
                "<div class=\"not-editable team\"><div><h4>Task D</h4> <span> <span class=\"m\"> $3e^{0.25t} + 2 = 6$ </span> </span> </div></div>"
            ]
        },
        {
            "cell_type": "markdown",
            "metadata": {
                "collapsed": false,
                "editable": false
            },
            "source": [
                "<div class=\"not-editable team\"><div><h4>Task E</h4> <span> <span class=\"m\"> $4 - 2e^{-0.7t} = 3$ </span> </span> </div></div>"
            ]
        },
        {
            "cell_type": "markdown",
            "metadata": {
                "collapsed": false,
                "editable": false
            },
            "source": [
                "<div class=\"not-editable team\"><div><h4>Task F</h4> <span> <span class=\"m\"> $2e^{1.2t} = 1.5e^{1.6t}$ </span> </span> </div></div>"
            ]
        }
    ],
    "nbformat": 4,
    "nbformat_minor": 4
}
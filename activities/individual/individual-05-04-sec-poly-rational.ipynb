{
    "cells": [
        {
            "cell_type": "markdown",
            "metadata": {
                "collapsed": false,
                "editable": false
            },
            "source": [
                "<div class=\"not-editable individual\"><style> .not-editable{padding:1em;border-radius:10px;box-shadow:4px 4px 3px #ddd;margin:5px;} .not-editable.individual{background-color:#eefff8;} .not-editable.team{background-color:#eef8ff;} .sidebyside{display:flex;justify-content:center;} .sidebyside > *{margin-right:1em;flex:1;} caption{caption-side:top;white-space: nowrap;color:rgba(0,0,0,.45)}} figcaption{padding-top:0.75em;padding-bottom:0.3em;color:rgba(0,0,0,.45)} .fillin{display:inline-block;width:10em;margin-left:0.2em;margin-right:0.2em;height:1em;border-bottom:1px black solid;} .fn{font-size:0.8em;color:rgba(0,0,0.45)} .newcommands{display:none;} tt{background-color:#f8f8f8;border:1px #888 solid;border-radius:2px;padding-left:0.2em;padding-right:0.2em;} img{background-color:#fff;} </style> <div><h1>Section 5.4 Rational Functions</h1><h2>Individual Notebook</h2><div><a href=\"https://activecalculus.org/prelude/sec-poly-rational.html\">https://activecalculus.org/prelude/sec-poly-rational.html</a></div></div></div>"
            ]
        },
        {
            "cell_type": "markdown",
            "metadata": {
                "collapsed": false,
                "editable": false
            },
            "source": [
                "<div class=\"not-editable individual\"><h2>Preview Activity 5.4.1</h2></div>"
            ]
        },
        {
            "cell_type": "markdown",
            "metadata": {
                "collapsed": false,
                "editable": false
            },
            "source": [
                "<div class=\"not-editable individual\"><span> A drug company estimates that to produce a new drug, it will cost $5 million in startup resources, and that once they reach production, each gram of the drug will cost $2500 to make. </span></div>"
            ]
        },
        {
            "cell_type": "markdown",
            "metadata": {
                "collapsed": false,
                "editable": false
            },
            "source": [
                "<div class=\"not-editable individual\"><div><h4>Task A</h4> <span> Determine a formula for a function <span class=\"m\"> $C(q)$ </span> that models the cost of producing <span class=\"m\"> $q$ </span> grams of the drug. What familiar kind of function is <span class=\"m\"> $C$ </span>? </span> </div></div>"
            ]
        },
        {
            "cell_type": "markdown",
            "metadata": {
                "collapsed": false,
                "editable": false
            },
            "source": [
                "<div class=\"not-editable individual\"><div><h4>Task B</h4> <span> The drug company needs to sell the drug at a price of more than $2500 per gram in order to at least break even. To investigate how they might set prices, they first consider what their average cost per gram is. What is the total cost of producing <span class=\"m\"> $1000$ </span> grams? What is the average cost per gram to produce <span class=\"m\"> $1000$ </span> grams? </span> </div></div>"
            ]
        },
        {
            "cell_type": "markdown",
            "metadata": {
                "collapsed": false,
                "editable": false
            },
            "source": [
                "<div class=\"not-editable individual\"><div><h4>Task C</h4> <span> What is the total cost of producing <span class=\"m\"> $10000$ </span> grams? What is the average cost per gram to produce <span class=\"m\"> $10000$ </span> grams? </span> </div></div>"
            ]
        },
        {
            "cell_type": "markdown",
            "metadata": {
                "collapsed": false,
                "editable": false
            },
            "source": [
                "<div class=\"not-editable individual\"><div><h4>Task D</h4> <span> Our computations in (b) and (c) naturally lead us to define the <span class=\"q\"> \"average cost per gram\" </span> function, <span class=\"m\"> $A(q)$ </span>, whose output is the average cost of producing <span class=\"m\"> $q$ </span> grams of the drug. What is a formula for <span class=\"m\"> $A(q)$ </span>? </span> </div></div>"
            ]
        },
        {
            "cell_type": "markdown",
            "metadata": {
                "collapsed": false,
                "editable": false
            },
            "source": [
                "<div class=\"not-editable individual\"><div><h4>Task E</h4> <span> Explain why another formula for <span class=\"m\"> $A$ </span> is <span class=\"m\"> $A(q) = 2500 + \\frac{5000000}{q}$ </span>. </span> </div></div>"
            ]
        },
        {
            "cell_type": "markdown",
            "metadata": {
                "collapsed": false,
                "editable": false
            },
            "source": [
                "<div class=\"not-editable individual\"><div><h4>Task F</h4> <span> What can you say about the long-range behavior of <span class=\"m\"> $A$ </span>? What does this behavior mean in the context of the problem? </span> </div></div>"
            ]
        },
        {
            "cell_type": "markdown",
            "metadata": {
                "collapsed": false,
                "editable": false
            },
            "source": [
                "<div class=\"not-editable individual\"><h2>Exercise 9</h2></div>"
            ]
        },
        {
            "cell_type": "markdown",
            "metadata": {
                "collapsed": false,
                "editable": false
            },
            "source": [
                "<div class=\"not-editable individual\"><span> For each rational function below, determine the function's domain as well as the exact value of any horizontal asymptote. </span></div>"
            ]
        },
        {
            "cell_type": "markdown",
            "metadata": {
                "collapsed": false,
                "editable": false
            },
            "source": [
                "<div class=\"not-editable individual\"><div><h4>Task A</h4> <span> <span class=\"m\"> $\\displaystyle f(x) = \\frac{17x^2 + 34}{19x^2 - 76}$ </span> </span> </div></div>"
            ]
        },
        {
            "cell_type": "markdown",
            "metadata": {
                "collapsed": false,
                "editable": false
            },
            "source": [
                "<div class=\"not-editable individual\"><div><h4>Task B</h4> <span> <span class=\"m\"> $\\displaystyle g(x) = \\frac{29}{53} + \\frac{1}{x-2}$ </span> </span> </div></div>"
            ]
        },
        {
            "cell_type": "markdown",
            "metadata": {
                "collapsed": false,
                "editable": false
            },
            "source": [
                "<div class=\"not-editable individual\"><div><h4>Task C</h4> <span> <span class=\"m\"> $\\displaystyle h(x) = \\frac{4-31x}{11x - 7}$ </span> </span> </div></div>"
            ]
        },
        {
            "cell_type": "markdown",
            "metadata": {
                "collapsed": false,
                "editable": false
            },
            "source": [
                "<div class=\"not-editable individual\"><div><h4>Task D</h4> <span> <span class=\"m\"> $\\displaystyle r(x) = \\frac{151(x-4)(x+5)^2(x-2)}{537(x+5)(x+1)(x^2+1)(x-15)}$ </span> </span> </div></div>"
            ]
        },
        {
            "cell_type": "markdown",
            "metadata": {
                "collapsed": false,
                "editable": false
            },
            "source": [
                "<div class=\"not-editable individual\"><h2>Exercise 10</h2></div>"
            ]
        },
        {
            "cell_type": "markdown",
            "metadata": {
                "collapsed": false,
                "editable": false
            },
            "source": [
                "<div class=\"not-editable individual\"><span> A rectangular box is being constructed so that its base is <span class=\"m\"> $1.5$ </span> times as long as it is wide. In addition, suppose that material for the base and top of the box costs $<span class=\"m\"> $3.75$ </span> per square foot, while material for the sides costs $<span class=\"m\"> $2.50$ </span> per square foot. Finally, we want the box to hold <span class=\"m\"> $8$ </span> cubic feet of volume. </span></div>"
            ]
        },
        {
            "cell_type": "markdown",
            "metadata": {
                "collapsed": false,
                "editable": false
            },
            "source": [
                "<div class=\"not-editable individual\"><div><h4>Task A</h4> <span> Draw a labeled picture of the box with <span class=\"m\"> $x$ </span> as the length of the shorter side of the box's base and <span class=\"m\"> $h$ </span> as its height. </span> </div></div>"
            ]
        },
        {
            "cell_type": "markdown",
            "metadata": {
                "collapsed": false,
                "editable": false
            },
            "source": [
                "<div class=\"not-editable individual\"><div><h4>Task B</h4> <span> Determine a formula involving <span class=\"m\"> $x$ </span> and <span class=\"m\"> $h$ </span> for the total surface area, <span class=\"m\"> $S$ </span>, of the box. </span> </div></div>"
            ]
        },
        {
            "cell_type": "markdown",
            "metadata": {
                "collapsed": false,
                "editable": false
            },
            "source": [
                "<div class=\"not-editable individual\"><div><h4>Task C</h4> <span> Use your work from (b) along with the given information about cost to determine a formula for the total cost, <span class=\"m\"> $C$ </span>, oif the box in terms of <span class=\"m\"> $x$ </span> and <span class=\"m\"> $h$ </span>. </span> </div></div>"
            ]
        },
        {
            "cell_type": "markdown",
            "metadata": {
                "collapsed": false,
                "editable": false
            },
            "source": [
                "<div class=\"not-editable individual\"><div><h4>Task D</h4> <span> Use the volume constraint given in the problem to write an equation that relates <span class=\"m\"> $x$ </span> and <span class=\"m\"> $h$ </span>, and solve that equation for <span class=\"m\"> $h$ </span> in terms of <span class=\"m\"> $x$ </span>. </span> </div></div>"
            ]
        },
        {
            "cell_type": "markdown",
            "metadata": {
                "collapsed": false,
                "editable": false
            },
            "source": [
                "<div class=\"not-editable individual\"><div><h4>Task E</h4> <span> Combine your work in (c) and (d) to write the cost, <span class=\"m\"> $C$ </span>, of the box as a function solely of <span class=\"m\"> $x$ </span>. </span> </div></div>"
            ]
        },
        {
            "cell_type": "markdown",
            "metadata": {
                "collapsed": false,
                "editable": false
            },
            "source": [
                "<div class=\"not-editable individual\"><div><h4>Task F</h4> <span> What is the domain of the cost function? How does a graph of the cost function appear? What does this suggest about the ideal box for the given constraints? </span> </div></div>"
            ]
        },
        {
            "cell_type": "markdown",
            "metadata": {
                "collapsed": false,
                "editable": false
            },
            "source": [
                "<div class=\"not-editable individual\"><h2>Exercise 11</h2></div>"
            ]
        },
        {
            "cell_type": "markdown",
            "metadata": {
                "collapsed": false,
                "editable": false
            },
            "source": [
                "<div class=\"not-editable individual\"><span> A cylindrical can is being constructed so that its volume is <span class=\"m\"> $16$ </span> cubic inches. Suppose that material for the lids (the top and bottom) cost $<span class=\"m\"> $0.11$ </span> per square inch and material for the <span class=\"q\"> \"side\" </span> of the can costs $<span class=\"m\"> $0.07$ </span> per square inch. Determine a formula for the total cost of the can as a function of the can's radius. What is the domain of the function and why? </span></div>"
            ]
        }
    ],
    "nbformat": 4,
    "nbformat_minor": 4
}
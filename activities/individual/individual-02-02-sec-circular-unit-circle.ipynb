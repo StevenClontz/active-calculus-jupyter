{
    "cells": [
        {
            "cell_type": "markdown",
            "metadata": {
                "collapsed": false,
                "editable": false
            },
            "source": [
                "<div class=\"not-editable individual\"><style> .not-editable{padding:1em;border-radius:10px;box-shadow:4px 4px 3px #ddd;margin:5px;} .not-editable.individual{background-color:#eefff8;} .not-editable.team{background-color:#eef8ff;} .sidebyside{display:flex;justify-content:center;} .sidebyside > *{margin-right:1em;flex:1;} caption{caption-side:top;white-space: nowrap;color:rgba(0,0,0,.45)}} figcaption{padding-top:0.75em;padding-bottom:0.3em;color:rgba(0,0,0,.45)} .fillin{display:inline-block;width:10em;margin-left:0.2em;margin-right:0.2em;height:1em;border-bottom:1px black solid;} .fn{font-size:0.8em;color:rgba(0,0,0.45)} .newcommands{display:none;} tt{background-color:#f8f8f8;border:1px #888 solid;border-radius:2px;padding-left:0.2em;padding-right:0.2em;} img{background-color:#fff;} </style> <div><h1>Section 2.2 The Unit Circle</h1><h2>Individual Notebook</h2><div><a href=\"https://activecalculus.org/prelude/sec-circular-unit-circle.html\">https://activecalculus.org/prelude/sec-circular-unit-circle.html</a></div></div></div>"
            ]
        },
        {
            "cell_type": "markdown",
            "metadata": {
                "collapsed": false,
                "editable": false
            },
            "source": [
                "<div class=\"not-editable individual\"><h2>Preview Activity 2.2.1</h2></div>"
            ]
        },
        {
            "cell_type": "markdown",
            "metadata": {
                "collapsed": false,
                "editable": false
            },
            "source": [
                "<div class=\"not-editable individual\"><span> In <a href=\"https://activecalculus.org/prelude/sec-circular-unit-circle.html#F-PA-big-unit-circle\">Figure 2.2.3</a> there are 24 equally spaced points on the unit circle. Since the circumference of the unit circle is <span class=\"m\"> $2\\pi$ </span>, each of the points is <span class=\"m\"> $\\frac{1}{24} \\cdot 2\\pi = \\frac{\\pi}{12}$ </span> units apart (traveled along the circle). Thus, the first point counterclockwise from <span class=\"m\"> $(1,0)$ </span> corresponds to the distance <span class=\"m\"> $t = \\frac{\\pi}{12}$ </span> traveled along the unit circle. The second point is twice as far, and thus <span class=\"m\"> $t = 2 \\cdot \\frac{\\pi}{12} = \\frac{\\pi}{6}$ </span> units along the circle away from <span class=\"m\"> $(1,0)$ </span>. </span></div>"
            ]
        },
        {
            "cell_type": "markdown",
            "metadata": {
                "collapsed": false,
                "editable": false
            },
            "source": [
                "<div class=\"not-editable individual\"><div><figure><figcaption><b>Figure 2.2.3.</b> The unit circle with <span class=\"m\"> $24$ </span> equally-spaced points.</figcaption><div><img src=\"images/unit-circle-24-PA.svg\"/></div></figure></div></div>"
            ]
        },
        {
            "cell_type": "markdown",
            "metadata": {
                "collapsed": false,
                "editable": false
            },
            "source": [
                "<div class=\"not-editable individual\"><div><h4>Task A</h4> <span> Label each of the subsequent points on the unit circle with the exact distance they lie counter-clockwise away from <span class=\"m\"> $(1,0)$ </span>; write each fraction in lowest terms. </span> </div></div>"
            ]
        },
        {
            "cell_type": "markdown",
            "metadata": {
                "collapsed": false,
                "editable": false
            },
            "source": [
                "<div class=\"not-editable individual\"><div><h4>Task B</h4> <span> Which distance along the unit circle corresponds to <span class=\"m\"> $\\frac{1}{4}$ </span> of a full rotation around? to <span class=\"m\"> $\\frac{5}{8}$ </span> of a full rotation? </span> </div></div>"
            ]
        },
        {
            "cell_type": "markdown",
            "metadata": {
                "collapsed": false,
                "editable": false
            },
            "source": [
                "<div class=\"not-editable individual\"><div><h4>Task C</h4> <div class=\"sidebyside\"><span> One way to measure angles is connected to the arc length along a circle. For an angle whose vertex is at <span class=\"m\"> $(0,0)$ </span> in the unit circle, we say the angle's measure is <span class=\"m\"> $1$ </span> radian radian provided that the angle intercepts an arc of the circle that is <span class=\"m\"> $1$ </span> unit in length, as pictured in <a href=\"https://activecalculus.org/prelude/sec-circular-unit-circle.html#F-PA-unit-circle-defining-radian\">Figure 2.2.4</a>. Note particularly that an angle measuring <span class=\"m\"> $1$ </span> radian intercepts an arc of the same length as the circle's radius. </span><div><figure><figcaption><b>Figure 2.2.4.</b> An angle <span class=\"m\"> $\\theta$ </span> of measure <span class=\"m\"> $1$ </span> radian. </figcaption><div><img src=\"images/unit-circle-radian.svg\"/></div></figure></div></div> <span> Suppose that <span class=\"m\"> $\\alpha$ </span> and <span class=\"m\"> $\\beta$ </span> are each central angles and that their respective radian measures are <span class=\"m\"> $\\alpha = \\frac{\\pi}{3}$ </span> and <span class=\"m\"> $\\beta = \\frac{3\\pi}{4}$ </span>. Sketch the angles <span class=\"m\"> $\\alpha$ </span> and <span class=\"m\"> $\\beta$ </span> on the unit circle in <a href=\"https://activecalculus.org/prelude/sec-circular-unit-circle.html#F-PA-big-unit-circle\">Figure 2.2.3</a>. </span> </div></div>"
            ]
        },
        {
            "cell_type": "markdown",
            "metadata": {
                "collapsed": false,
                "editable": false
            },
            "source": [
                "<div class=\"not-editable individual\"><div><h4>Task D</h4> <span> What is the radian measure that corresonds to a <span class=\"m\"> $90^\\circ$ </span> angle? </span> </div></div>"
            ]
        },
        {
            "cell_type": "markdown",
            "metadata": {
                "collapsed": false,
                "editable": false
            },
            "source": [
                "<div class=\"not-editable individual\"><h2>Exercise 8</h2></div>"
            ]
        },
        {
            "cell_type": "markdown",
            "metadata": {
                "collapsed": false,
                "editable": false
            },
            "source": [
                "<div class=\"not-editable individual\"><span> Let <span class=\"m\"> $(x,y)$ </span> by a point on the unit circle. In each of the following situations, determine requested value exactly. </span></div>"
            ]
        },
        {
            "cell_type": "markdown",
            "metadata": {
                "collapsed": false,
                "editable": false
            },
            "source": [
                "<div class=\"not-editable individual\"><div><h4>Task A</h4> <span> Suppose that <span class=\"m\"> $x = -0.3$ </span> and <span class=\"m\"> $y$ </span> is negative. Find the value of <span class=\"m\"> $y$ </span>. </span> </div></div>"
            ]
        },
        {
            "cell_type": "markdown",
            "metadata": {
                "collapsed": false,
                "editable": false
            },
            "source": [
                "<div class=\"not-editable individual\"><div><h4>Task B</h4> <span> Suppose that <span class=\"m\"> $(x,y)$ </span> lies in Quadrant II and <span class=\"m\"> $x = -2y$ </span>. Find the values of <span class=\"m\"> $x$ </span> and <span class=\"m\"> $y$ </span>. </span> </div></div>"
            ]
        },
        {
            "cell_type": "markdown",
            "metadata": {
                "collapsed": false,
                "editable": false
            },
            "source": [
                "<div class=\"not-editable individual\"><div><h4>Task C</h4> <span> Suppose that <span class=\"m\"> $(x,y)$ </span> lies a distance of <span class=\"m\"> $\\frac{29\\pi}{6}$ </span> units clockwise around the circle from <span class=\"m\"> $(1,0)$ </span>. Find the values of <span class=\"m\"> $x$ </span> and <span class=\"m\"> $y$ </span>. </span> </div></div>"
            ]
        },
        {
            "cell_type": "markdown",
            "metadata": {
                "collapsed": false,
                "editable": false
            },
            "source": [
                "<div class=\"not-editable individual\"><div><h4>Task D</h4> <span> At what exact point(s) does the line <span class=\"m\"> $y = \\frac{1}{2}x + \\frac{1}{2}$ </span> intersect the unit circle? </span> </div></div>"
            ]
        },
        {
            "cell_type": "markdown",
            "metadata": {
                "collapsed": false,
                "editable": false
            },
            "source": [
                "<div class=\"not-editable individual\"><h2>Exercise 9</h2></div>"
            ]
        },
        {
            "cell_type": "markdown",
            "metadata": {
                "collapsed": false,
                "editable": false
            },
            "source": [
                "<div class=\"not-editable individual\"><span> The unit circle is centered at <span class=\"m\"> $(0,0)$ </span> and radius <span class=\"m\"> $r = 1$ </span>, from which the Pythagorean Theorem tells us that any point <span class=\"m\"> $(x,y)$ </span> on the unit circle satisfies the equation <span class=\"m\"> $x^2 + y^2 = 1$ </span>. </span></div>"
            ]
        },
        {
            "cell_type": "markdown",
            "metadata": {
                "collapsed": false,
                "editable": false
            },
            "source": [
                "<div class=\"not-editable individual\"><div><h4>Task A</h4> <span> Explain why any point <span class=\"m\"> $(x,y)$ </span> on a circle of radius <span class=\"m\"> $r$ </span> centered at <span class=\"m\"> $(h,k)$ </span> satisfies the equation <span class=\"m\"> $(x-h)^2 + (y-k)^2 = r^2$ </span>. </span> </div></div>"
            ]
        },
        {
            "cell_type": "markdown",
            "metadata": {
                "collapsed": false,
                "editable": false
            },
            "source": [
                "<div class=\"not-editable individual\"><div><h4>Task B</h4> <span> Determine the equation of a circle centered at <span class=\"m\"> $(-3,5)$ </span> with radius <span class=\"m\"> $r = 2$ </span>. </span> </div></div>"
            ]
        },
        {
            "cell_type": "markdown",
            "metadata": {
                "collapsed": false,
                "editable": false
            },
            "source": [
                "<div class=\"not-editable individual\"><div><h4>Task C</h4> <span> Suppose that the unit circle is magnified by a factor of <span class=\"m\"> $5$ </span> and then shifted <span class=\"m\"> $4$ </span> units right and <span class=\"m\"> $7$ </span> units down. What is the equation of the resulting circle? </span> </div></div>"
            ]
        },
        {
            "cell_type": "markdown",
            "metadata": {
                "collapsed": false,
                "editable": false
            },
            "source": [
                "<div class=\"not-editable individual\"><div><h4>Task D</h4> <span> What is the length of the arc intercepted by a central angle of <span class=\"m\"> $\\frac{2\\pi}{3}$ </span> radians in the circle <span class=\"m\"> $(x-1)^2 + (y-3)^2 = 16$ </span>? </span> </div></div>"
            ]
        },
        {
            "cell_type": "markdown",
            "metadata": {
                "collapsed": false,
                "editable": false
            },
            "source": [
                "<div class=\"not-editable individual\"><div><h4>Task E</h4> <span> Suppose that the line segment from <span class=\"m\"> $(-2,-1)$ </span> to <span class=\"m\"> $(4,2)$ </span> is a diameter of a circle. What is the circle's center, radius, and equation? </span> </div></div>"
            ]
        },
        {
            "cell_type": "markdown",
            "metadata": {
                "collapsed": false,
                "editable": false
            },
            "source": [
                "<div class=\"not-editable individual\"><h2>Exercise 10</h2></div>"
            ]
        },
        {
            "cell_type": "markdown",
            "metadata": {
                "collapsed": false,
                "editable": false
            },
            "source": [
                "<div class=\"not-editable individual\"><span> Consider the circle whose center is <span class=\"m\"> $(0,0)$ </span> and whose radius is <span class=\"m\"> $r = 5$ </span>. Let a point <span class=\"m\"> $(x,y)$ </span> traverse the circle counterclockwise from <span class=\"m\"> $(5,0)$ </span>, and say the distance along the circle from <span class=\"m\"> $(5,0)$ </span> is represented by <span class=\"m\"> $d$ </span>. </span></div>"
            ]
        },
        {
            "cell_type": "markdown",
            "metadata": {
                "collapsed": false,
                "editable": false
            },
            "source": [
                "<div class=\"not-editable individual\"><div><h4>Task A</h4> <span> Consider the point <span class=\"m\"> $(a,b)$ </span> that is generated by the central angle <span class=\"m\"> $\\theta$ </span> with vertices <span class=\"m\"> $(5,0)$ </span>, <span class=\"m\"> $(0,0)$ </span>, and <span class=\"m\"> $(a,b)$ </span>. If <span class=\"m\"> $\\theta = \\frac{\\pi}{6}$ </span>, what are the exact values of <span class=\"m\"> $a$ </span> and <span class=\"m\"> $b$ </span>? </span> </div></div>"
            ]
        },
        {
            "cell_type": "markdown",
            "metadata": {
                "collapsed": false,
                "editable": false
            },
            "source": [
                "<div class=\"not-editable individual\"><div><h4>Task B</h4> <span> Answer the same question as in (a) except with <span class=\"m\"> $\\theta = \\frac{\\pi}{4}$ </span> and <span class=\"m\"> $\\theta = \\frac{\\pi}{3}$ </span>. </span> </div></div>"
            ]
        },
        {
            "cell_type": "markdown",
            "metadata": {
                "collapsed": false,
                "editable": false
            },
            "source": [
                "<div class=\"not-editable individual\"><div><h4>Task C</h4> <span> How far has the point <span class=\"m\"> $(x,y)$ </span> traveled after it has traversed the circle one full revolution? </span> </div></div>"
            ]
        },
        {
            "cell_type": "markdown",
            "metadata": {
                "collapsed": false,
                "editable": false
            },
            "source": [
                "<div class=\"not-editable individual\"><div><h4>Task D</h4> <span> Let <span class=\"m\"> $h = f(d)$ </span> be the circular function that tracks the height of the point <span class=\"m\"> $(x,y)$ </span> as a function of distance, <span class=\"m\"> $d$ </span>, traversed counterclockwise from <span class=\"m\"> $(5,0)$ </span>. Sketch an accurate graph of <span class=\"m\"> $f$ </span> through two full periods, labeling several special points on the graph as well as the horizontal and vertical scale of the axes. </span> </div></div>"
            ]
        }
    ],
    "nbformat": 4,
    "nbformat_minor": 4
}
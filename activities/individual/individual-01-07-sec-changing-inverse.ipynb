{
    "cells": [
        {
            "cell_type": "markdown",
            "metadata": {
                "collapsed": false,
                "editable": false
            },
            "source": [
                "<div class=\"not-editable individual\"><style> .not-editable{padding:1em;border-radius:10px;box-shadow:4px 4px 3px #ddd;margin:5px;} .not-editable.individual{background-color:#eefff8;} .not-editable.team{background-color:#eef8ff;} .sidebyside{display:flex;justify-content:center;} .sidebyside > *{margin-right:1em;flex:1;} caption{caption-side:top;white-space: nowrap;color:rgba(0,0,0,.45)}} figcaption{padding-top:0.75em;padding-bottom:0.3em;color:rgba(0,0,0,.45)} .fillin{display:inline-block;width:10em;margin-left:0.2em;margin-right:0.2em;height:1em;border-bottom:1px black solid;} .fn{font-size:0.8em;color:rgba(0,0,0.45)} .newcommands{display:none;} tt{background-color:#f8f8f8;border:1px #888 solid;border-radius:2px;padding-left:0.2em;padding-right:0.2em;} img{background-color:#fff;} </style> <div><h1>Section 1.7 Inverse Functions</h1><h2>Individual Notebook</h2><div><a href=\"https://activecalculus.org/prelude/sec-changing-inverse.html\">https://activecalculus.org/prelude/sec-changing-inverse.html</a></div></div></div>"
            ]
        },
        {
            "cell_type": "markdown",
            "metadata": {
                "collapsed": false,
                "editable": false
            },
            "source": [
                "<div class=\"not-editable individual\"><h2>Preview Activity 1.7.1</h2></div>"
            ]
        },
        {
            "cell_type": "markdown",
            "metadata": {
                "collapsed": false,
                "editable": false
            },
            "source": [
                "<div class=\"not-editable individual\"><span> Recall that <span class=\"m\"> $F = g(C) = \\frac{9}{5}C + 32$ </span> is the function that takes Celsius temperature inputs and produces the corresponding Fahrenheit temperature outputs. </span></div>"
            ]
        },
        {
            "cell_type": "markdown",
            "metadata": {
                "collapsed": false,
                "editable": false
            },
            "source": [
                "<div class=\"not-editable individual\"><div><h4>Task A</h4> <span> Show that it is possible to solve the equation <span class=\"m\"> $F = \\frac{9}{5}C + 32$ </span> for <span class=\"m\"> $C$ </span> in terms of <span class=\"m\"> $F$ </span> and that doing so results in the equation <span class=\"m\"> $C = \\frac{5}{9}(F-32)$ </span>. </span> </div></div>"
            ]
        },
        {
            "cell_type": "markdown",
            "metadata": {
                "collapsed": false,
                "editable": false
            },
            "source": [
                "<div class=\"not-editable individual\"><div><h4>Task B</h4> <span> Note that the equation <span class=\"m\"> $C = \\frac{5}{9}(F-32)$ </span> expresses <span class=\"m\"> $C$ </span> as a function of <span class=\"m\"> $F$ </span>. Call this function <span class=\"m\"> $h$ </span> so that <span class=\"m\"> $C = h(F) = \\frac{5}{9}(F-32)$ </span>. </span> <span> Find the simplest expression that you can for the composite function <span class=\"m\"> $j(C) = h(g(C))$ </span>. </span> </div></div>"
            ]
        },
        {
            "cell_type": "markdown",
            "metadata": {
                "collapsed": false,
                "editable": false
            },
            "source": [
                "<div class=\"not-editable individual\"><div><h4>Task C</h4> <span> Find the simplest expression that you can for the composite function <span class=\"m\"> $k(F) = g(h(F))$ </span>. </span> </div></div>"
            ]
        },
        {
            "cell_type": "markdown",
            "metadata": {
                "collapsed": false,
                "editable": false
            },
            "source": [
                "<div class=\"not-editable individual\"><div><h4>Task D</h4> <span> Why are the functions <span class=\"m\"> $j$ </span> and <span class=\"m\"> $k$ </span> so simple? Explain by discussing how the functions <span class=\"m\"> $g$ </span> and <span class=\"m\"> $h$ </span> process inputs to generate outputs and what happens when we first execute one followed by the other. </span> </div></div>"
            ]
        },
        {
            "cell_type": "markdown",
            "metadata": {
                "collapsed": false,
                "editable": false
            },
            "source": [
                "<div class=\"not-editable individual\"><h2>Exercise 7</h2></div>"
            ]
        },
        {
            "cell_type": "markdown",
            "metadata": {
                "collapsed": false,
                "editable": false
            },
            "source": [
                "<div class=\"not-editable individual\"><span> Consider the functions <span class=\"m\"> $p$ </span> and <span class=\"m\"> $q$ </span> whose graphs are given by <a href=\"https://activecalculus.org/prelude/sec-changing-inverse.html#F-inverse-ez-p-q\">Figure 1.7.16</a> </span></div>"
            ]
        },
        {
            "cell_type": "markdown",
            "metadata": {
                "collapsed": false,
                "editable": false
            },
            "source": [
                "<div class=\"not-editable individual\"><div><figure><figcaption><b>Figure 1.7.16.</b> Plots of the graphs of <span class=\"m\"> $p$ </span> and <span class=\"m\"> $q$ </span>.</figcaption><div><img src=\"images/inverse-ez-p-q.svg\"/></div></figure></div></div>"
            ]
        },
        {
            "cell_type": "markdown",
            "metadata": {
                "collapsed": false,
                "editable": false
            },
            "source": [
                "<div class=\"not-editable individual\"><div><h4>Task A</h4> <span> Compute each of the following values exactly, or explain why they are not defined: <span class=\"m\"> $p^{-1}(2.5)$ </span>, <span class=\"m\"> $p^{-1}(-2)$ </span>, <span class=\"m\"> $p^{-1}(0)$ </span>, and <span class=\"m\"> $q^{-1}(2)$ </span>. </span> </div></div>"
            ]
        },
        {
            "cell_type": "markdown",
            "metadata": {
                "collapsed": false,
                "editable": false
            },
            "source": [
                "<div class=\"not-editable individual\"><div><h4>Task B</h4> <span> From your work in (a), you know that the point <span class=\"m\"> $(2.5, -3.5)$ </span> lies on the graph of <span class=\"m\"> $p^{-1}$ </span>. In addition to the other two points you know from <span class=\"m\"> $(a)$ </span>, find three additional points that lie on the graph of <span class=\"m\"> $p^{-1}$ </span>. </span> </div></div>"
            ]
        },
        {
            "cell_type": "markdown",
            "metadata": {
                "collapsed": false,
                "editable": false
            },
            "source": [
                "<div class=\"not-editable individual\"><div><h4>Task C</h4> <span> On <a href=\"https://activecalculus.org/prelude/sec-changing-inverse.html#F-inverse-ez-p-q\">Figure 1.7.16</a>, plot the <span class=\"m\"> $6$ </span> points you have determined in (a) and (b) that lie on the graph of <span class=\"m\"> $y = p^{-1}(x)$ </span>. Then, sketch the complete graph of <span class=\"m\"> $y = p^{-1}(x)$ </span>. How are the graphs of <span class=\"m\"> $p$ </span> and <span class=\"m\"> $p^{-1}$ </span> related to each other? </span> </div></div>"
            ]
        },
        {
            "cell_type": "markdown",
            "metadata": {
                "collapsed": false,
                "editable": false
            },
            "source": [
                "<div class=\"not-editable individual\"><h2>Exercise 8</h2></div>"
            ]
        },
        {
            "cell_type": "markdown",
            "metadata": {
                "collapsed": false,
                "editable": false
            },
            "source": [
                "<div class=\"not-editable individual\"><span> Consider an inverted conical tank that is being filled with water. The tank's radius is <span class=\"m\"> $2$ </span> m and its depth is <span class=\"m\"> $4$ </span> m. Suppose the tank is initially empty and is being filled in such a way that the height of the water is always rising at a rate of <span class=\"m\"> $0.25$ </span> meters per minute. </span></div>"
            ]
        },
        {
            "cell_type": "markdown",
            "metadata": {
                "collapsed": false,
                "editable": false
            },
            "source": [
                "<div class=\"not-editable individual\"><div class=\"sidebyside\"><div><figure><figcaption><b>Figure 1.7.17.</b> The conical tank.</figcaption><div><img src=\"images/tandem-filled-conical-tank.svg\"/></div></figure></div><div><figure><figcaption><b>Figure 1.7.18.</b> Axes to plot <span class=\"m\"> $V = g(t)$ </span>.</figcaption><div><img src=\"images/tandem-V-t-blank-axes.svg\"/></div></figure></div></div></div>"
            ]
        },
        {
            "cell_type": "markdown",
            "metadata": {
                "collapsed": false,
                "editable": false
            },
            "source": [
                "<div class=\"not-editable individual\"><div><h4>Task A</h4> <span> Explain why the height, <span class=\"m\"> $h$ </span>, of the water can be viewed as a function of <span class=\"m\"> $t$ </span> according to the formula <span class=\"m\"> $h= f(t) = 0.25t$ </span>. </span> </div></div>"
            ]
        },
        {
            "cell_type": "markdown",
            "metadata": {
                "collapsed": false,
                "editable": false
            },
            "source": [
                "<div class=\"not-editable individual\"><div><h4>Task B</h4> <span> At what time is the water in the tank <span class=\"m\"> $2.5$ </span> m deep? At what time is the tank completely full? </span> </div></div>"
            ]
        },
        {
            "cell_type": "markdown",
            "metadata": {
                "collapsed": false,
                "editable": false
            },
            "source": [
                "<div class=\"not-editable individual\"><div><h4>Task C</h4> <span> Suppose we think of the volume, <span class=\"m\"> $V$ </span>, of water in the tank as a function of <span class=\"m\"> $t$ </span> and name the function <span class=\"m\"> $V = g(t)$ </span>. Do you expect that the function <span class=\"m\"> $g$ </span> has an inverse function? Why or why not? </span> </div></div>"
            ]
        },
        {
            "cell_type": "markdown",
            "metadata": {
                "collapsed": false,
                "editable": false
            },
            "source": [
                "<div class=\"not-editable individual\"><div><h4>Task D</h4> <span> Recall that the volume of a cone of radius <span class=\"m\"> $r$ </span> and height <span class=\"m\"> $h$ </span> is <span class=\"m\"> $V = \\frac{\\pi}{3} r^2 h$ </span>. Due to the shape of the tank, similar triangles tell us that <span class=\"m\"> $r$ </span> and <span class=\"m\"> $h$ </span> satisfy the proportion <span class=\"m\"> $r = \\frac{1}{2}h$ </span>, and thus <span class=\"m\"> $$ V = \\frac{\\pi}{3} \\left( \\frac{1}{2}h \\right)^2 h = \\frac{\\pi}{12}h^3 $$ </span>. </span> <span> Use the fact that <span class=\"m\"> $h = f(t) = 0.25t$ </span> along with <a href=\"https://activecalculus.org/prelude/sec-changing-inverse.html#E-ez-changing-inverse-V-h\">Equation 1.7.1</a> to find a formula for <span class=\"m\"> $V = g(t)$ </span>. Sketch a plot of <span class=\"m\"> $V = g(t)$ </span> on the blank axes provided in <a href=\"https://activecalculus.org/prelude/sec-changing-inverse.html#F-inverse-ez-blank-axes-V-t\">Figure 1.7.18</a>. Write at least one sentence to explain why <span class=\"m\"> $V = g(t)$ </span> has the shape that it does. </span> </div></div>"
            ]
        },
        {
            "cell_type": "markdown",
            "metadata": {
                "collapsed": false,
                "editable": false
            },
            "source": [
                "<div class=\"not-editable individual\"><div><h4>Task E</h4> <span> Take the formula for <span class=\"m\"> $V = g(t)$ </span> that you determined in (d) and solve for <span class=\"m\"> $t$ </span> to determine a formula for <span class=\"m\"> $t = g^{-1}(V)$ </span>. What is the meaning of the formula you find? </span> </div></div>"
            ]
        },
        {
            "cell_type": "markdown",
            "metadata": {
                "collapsed": false,
                "editable": false
            },
            "source": [
                "<div class=\"not-editable individual\"><div><h4>Task F</h4> <span> Find the exact time that there is <span class=\"m\"> $\\frac{8}{3}\\pi$ </span> cubic meters of volume in the tank. </span> </div></div>"
            ]
        },
        {
            "cell_type": "markdown",
            "metadata": {
                "collapsed": false,
                "editable": false
            },
            "source": [
                "<div class=\"not-editable individual\"><h2>Exercise 9</h2></div>"
            ]
        },
        {
            "cell_type": "markdown",
            "metadata": {
                "collapsed": false,
                "editable": false
            },
            "source": [
                "<div class=\"not-editable individual\"><span> Recall that in <a href=\"https://activecalculus.org/prelude/sec-changing-composite.html#act-changing-composite-crickets-celcius\">Activity 1.6.3</a>, we showed that Celsius temperature is a function of the number of chirps per minute from a snowy tree cricket according to the formula <span class=\"m\"> $$ C = H(N) = \\frac{40}{9} + \\frac{5}{36}N $$ </span>. </span></div>"
            ]
        },
        {
            "cell_type": "markdown",
            "metadata": {
                "collapsed": false,
                "editable": false
            },
            "source": [
                "<div class=\"not-editable individual\"><div><h4>Task A</h4> <span> What familiar type of function is <span class=\"m\"> $H$ </span>? Why must <span class=\"m\"> $H$ </span> have an inverse function? </span> </div></div>"
            ]
        },
        {
            "cell_type": "markdown",
            "metadata": {
                "collapsed": false,
                "editable": false
            },
            "source": [
                "<div class=\"not-editable individual\"><div><h4>Task B</h4> <span> Determine an algebraic formula for <span class=\"m\"> $N = H^{-1}(C)$ </span>. Clearly show your work and thinking. </span> </div></div>"
            ]
        },
        {
            "cell_type": "markdown",
            "metadata": {
                "collapsed": false,
                "editable": false
            },
            "source": [
                "<div class=\"not-editable individual\"><div><h4>Task C</h4> <span> What is the meaning of the statement <span class=\"m\"> $72 = H^{-1}\\left(\\frac{130}{9}\\right)$ </span>? </span> </div></div>"
            ]
        },
        {
            "cell_type": "markdown",
            "metadata": {
                "collapsed": false,
                "editable": false
            },
            "source": [
                "<div class=\"not-editable individual\"><div><h4>Task D</h4> <span> Determine the average rate of change of <span class=\"m\"> $H$ </span> on the interval <span class=\"m\"> $[40,50]$ </span>. Write a complete sentence to explain the meaning of the value you find, including units on the value. Explain clearly how this number describes how the temperature is changing. </span> </div></div>"
            ]
        },
        {
            "cell_type": "markdown",
            "metadata": {
                "collapsed": false,
                "editable": false
            },
            "source": [
                "<div class=\"not-editable individual\"><div><h4>Task E</h4> <span> Determine the average rate of change of <span class=\"m\"> $H^{-1}$ </span> on the interval <span class=\"m\"> $[15,20]$ </span>. Write a complete sentence to explain the meaning of the value you find, including units on the value. Explain clearly how this number describes how the number of chirps per minute is changing. </span> </div></div>"
            ]
        }
    ],
    "nbformat": 4,
    "nbformat_minor": 4
}
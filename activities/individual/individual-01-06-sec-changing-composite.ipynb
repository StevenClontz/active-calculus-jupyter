{
    "cells": [
        {
            "cell_type": "markdown",
            "metadata": {
                "collapsed": false,
                "editable": false
            },
            "source": [
                "<div class=\"not-editable individual\"><style> .not-editable{padding:1em;border-radius:10px;box-shadow:4px 4px 3px #ddd;margin:5px;} .not-editable.individual{background-color:#eefff8;} .not-editable.team{background-color:#eef8ff;} .sidebyside{display:flex;justify-content:center;} .sidebyside > *{margin-right:1em;flex:1;} caption{caption-side:top;white-space: nowrap;color:rgba(0,0,0,.45)}} figcaption{padding-top:0.75em;padding-bottom:0.3em;color:rgba(0,0,0,.45)} .fillin{display:inline-block;width:10em;margin-left:0.2em;margin-right:0.2em;height:1em;border-bottom:1px black solid;} .fn{font-size:0.8em;color:rgba(0,0,0.45)} .newcommands{display:none;} tt{background-color:#f8f8f8;border:1px #888 solid;border-radius:2px;padding-left:0.2em;padding-right:0.2em;} img{background-color:#fff;} </style> <div><h1>Section 1.6 Composite Functions</h1><h2>Individual Notebook</h2><div><a href=\"https://activecalculus.org/prelude/sec-changing-composite.html\">https://activecalculus.org/prelude/sec-changing-composite.html</a></div></div></div>"
            ]
        },
        {
            "cell_type": "markdown",
            "metadata": {
                "collapsed": false,
                "editable": false
            },
            "source": [
                "<div class=\"not-editable individual\"><h2>Preview Activity 1.6.1</h2></div>"
            ]
        },
        {
            "cell_type": "markdown",
            "metadata": {
                "collapsed": false,
                "editable": false
            },
            "source": [
                "<div class=\"not-editable individual\"><span> Let <span class=\"m\"> $y = p(x) = 3x - 4$ </span> and <span class=\"m\"> $x = q(t) = t^2 - 1$ </span>. </span></div>"
            ]
        },
        {
            "cell_type": "markdown",
            "metadata": {
                "collapsed": false,
                "editable": false
            },
            "source": [
                "<div class=\"not-editable individual\"><div><h4>Task A</h4> <span> Let <span class=\"m\"> $r(t) = p(q(t))$ </span>. Determine a formula for <span class=\"m\"> $r$ </span> that depends only on <span class=\"m\"> $t$ </span> and not on <span class=\"m\"> $p$ </span> or <span class=\"m\"> $q$ </span>. </span> </div></div>"
            ]
        },
        {
            "cell_type": "markdown",
            "metadata": {
                "collapsed": false,
                "editable": false
            },
            "source": [
                "<div class=\"not-editable individual\"><div><h4>Task B</h4> <span> Recall <a href=\"https://activecalculus.org/prelude/sec-changing-composite.html#ex-composite-introduction\">Example 1.6.1</a>, which involved functions similar to <span class=\"m\"> $p$ </span> and <span class=\"m\"> $q$ </span>. What is the biggest difference between your work in (a) above and in <a href=\"https://activecalculus.org/prelude/sec-changing-composite.html#ex-composite-introduction\">Example 1.6.1</a>? </span> </div></div>"
            ]
        },
        {
            "cell_type": "markdown",
            "metadata": {
                "collapsed": false,
                "editable": false
            },
            "source": [
                "<div class=\"not-editable individual\"><div><h4>Task C</h4> <span> Let <span class=\"m\"> $t = s(z) = \\frac{1}{z+4}$ </span> and recall that <span class=\"m\"> $x = q(t) = t^2 - 1$ </span>. Determine a formula for <span class=\"m\"> $x = q(s(z))$ </span> that depends only on <span class=\"m\"> $z$ </span>. </span> </div></div>"
            ]
        },
        {
            "cell_type": "markdown",
            "metadata": {
                "collapsed": false,
                "editable": false
            },
            "source": [
                "<div class=\"not-editable individual\"><div><h4>Task D</h4> <span> Suppose that <span class=\"m\"> $h(t) = \\sqrt{2t^2 + 5}$ </span>. Determine formulas for two related functions, <span class=\"m\"> $y = f(x)$ </span> and <span class=\"m\"> $x = g(t)$ </span>, so that <span class=\"m\"> $h(t) = f(g(t))$ </span>. </span> </div></div>"
            ]
        },
        {
            "cell_type": "markdown",
            "metadata": {
                "collapsed": false,
                "editable": false
            },
            "source": [
                "<div class=\"not-editable individual\"><h2>Exercise 8</h2></div>"
            ]
        },
        {
            "cell_type": "markdown",
            "metadata": {
                "collapsed": false,
                "editable": false
            },
            "source": [
                "<div class=\"not-editable individual\"><span> Use the given information about various functions to answer the following questions involving composition. </span></div>"
            ]
        },
        {
            "cell_type": "markdown",
            "metadata": {
                "collapsed": false,
                "editable": false
            },
            "source": [
                "<div class=\"not-editable individual\"><div><h4>Task A</h4> <span> Let functions <span class=\"m\"> $f$ </span> and <span class=\"m\"> $g$ </span> be given by the graphs in <a href=\"https://activecalculus.org/prelude/sec-changing-composite.html#F-composite-ez-f\">Figure 1.6.10</a> and <a href=\"https://activecalculus.org/prelude/sec-changing-composite.html#F-composite-ez-g\">Figure 1.6.11</a>. An open circle means there is not a point at that location on the graph. For instance, <span class=\"m\"> $f(-1) = 1$ </span>, but <span class=\"m\"> $f(3)$ </span> is not defined. </span> <div class=\"sidebyside\"><div><figure><figcaption><b>Figure 1.6.10.</b> Plot of <span class=\"m\"> $y = f(x)$ </span>.</figcaption><div><img src=\"images/composite-ez-f.svg\"/></div></figure></div><div><figure><figcaption><b>Figure 1.6.11.</b> Plot of <span class=\"m\"> $y = g(x)$ </span>.</figcaption><div><img src=\"images/composite-ez-g.svg\"/></div></figure></div></div> <span> Determine <span class=\"m\"> $f(g(1))$ </span> and <span class=\"m\"> $g(f(-2))$ </span>. </span> </div></div>"
            ]
        },
        {
            "cell_type": "markdown",
            "metadata": {
                "collapsed": false,
                "editable": false
            },
            "source": [
                "<div class=\"not-editable individual\"><div><h4>Task B</h4> <span> Again using the functions given in (a), can you determine a value of <span class=\"m\"> $x$ </span> for which <span class=\"m\"> $g(f(x))$ </span> is not defined? Why or why not? </span> </div></div>"
            ]
        },
        {
            "cell_type": "markdown",
            "metadata": {
                "collapsed": false,
                "editable": false
            },
            "source": [
                "<div class=\"not-editable individual\"><div><h4>Task C</h4> <span> Let functions <span class=\"m\"> $r$ </span> and <span class=\"m\"> $s$ </span> be defined by <a href=\"https://activecalculus.org/prelude/sec-changing-composite.html#T-ez-composite-tables\">Table 1.6.12</a>. </span> <div><table><caption><b>Table 1.6.12.</b> Table that defines <span class=\"m\"> $r$ </span> and <span class=\"m\"> $s$ </span>.</caption><tr><td><span class=\"m\"> $t$ </span></td><td><span class=\"m\"> $-4$ </span></td><td><span class=\"m\"> $-3$ </span></td><td><span class=\"m\"> $-2$ </span></td><td><span class=\"m\"> $-1$ </span></td><td><span class=\"m\"> $0$ </span></td><td><span class=\"m\"> $1$ </span></td><td><span class=\"m\"> $2$ </span></td><td><span class=\"m\"> $3$ </span></td><td><span class=\"m\"> $4$ </span></td></tr><tr><td><span class=\"m\"> $r(t)$ </span></td><td><span class=\"m\"> $4$ </span></td><td><span class=\"m\"> $1$ </span></td><td><span class=\"m\"> $2$ </span></td><td><span class=\"m\"> $3$ </span></td><td><span class=\"m\"> $0$ </span></td><td><span class=\"m\"> $-3$ </span></td><td><span class=\"m\"> $2$ </span></td><td><span class=\"m\"> $-1$ </span></td><td><span class=\"m\"> $-4$ </span></td></tr><tr><td><span class=\"m\"> $s(t)$ </span></td><td><span class=\"m\"> $-5$ </span></td><td><span class=\"m\"> $-6$ </span></td><td><span class=\"m\"> $-7$ </span></td><td><span class=\"m\"> $-8$ </span></td><td><span class=\"m\"> $0$ </span></td><td><span class=\"m\"> $8$ </span></td><td><span class=\"m\"> $7$ </span></td><td><span class=\"m\"> $6$ </span></td><td><span class=\"m\"> $5$ </span></td></tr></table></div> <span> Determine <span class=\"m\"> $(s \\circ r)(3)$ </span>, <span class=\"m\"> $(s \\circ r)(-4)$ </span>, and <span class=\"m\"> $(s \\circ r)(a)$ </span> for one additional value of <span class=\"m\"> $a$ </span> of your choice. </span> </div></div>"
            ]
        },
        {
            "cell_type": "markdown",
            "metadata": {
                "collapsed": false,
                "editable": false
            },
            "source": [
                "<div class=\"not-editable individual\"><div><h4>Task D</h4> <span> For the functions <span class=\"m\"> $r$ </span> and <span class=\"m\"> $s$ </span> defined in (c), state the domain and range of each function. For how many different values of <span class=\"m\"> $b$ </span> is it possible to determine <span class=\"m\"> $(r \\circ s)(b)$ </span>? Explain. </span> </div></div>"
            ]
        },
        {
            "cell_type": "markdown",
            "metadata": {
                "collapsed": false,
                "editable": false
            },
            "source": [
                "<div class=\"not-editable individual\"><div><h4>Task E</h4> <span> Let <span class=\"m\"> $m(u) = u^3 + 4u^2 - 5u + 1$ </span>. Determine expressions for <span class=\"m\"> $m(x^2)$ </span>, <span class=\"m\"> $m(2+h)$ </span>, and <span class=\"m\"> $m(a+h)$ </span>. </span> </div></div>"
            ]
        },
        {
            "cell_type": "markdown",
            "metadata": {
                "collapsed": false,
                "editable": false
            },
            "source": [
                "<div class=\"not-editable individual\"><div><h4>Task F</h4> <span> For the function <span class=\"m\"> $F(x) = 4 - 3x - x^2$ </span>, determine the most simplified expression you can find for <span class=\"m\"> $AV_{[2,2+h]}$ </span>. Show your algebraic work and thinking fully. </span> </div></div>"
            ]
        },
        {
            "cell_type": "markdown",
            "metadata": {
                "collapsed": false,
                "editable": false
            },
            "source": [
                "<div class=\"not-editable individual\"><h2>Exercise 9</h2></div>"
            ]
        },
        {
            "cell_type": "markdown",
            "metadata": {
                "collapsed": false,
                "editable": false
            },
            "source": [
                "<div class=\"not-editable individual\"><span> Recall Dolbear's function that defines temperature, <span class=\"m\"> $F$ </span>, in Fahrenheit degrees, as a function of the number of chirps per minute, <span class=\"m\"> $N$ </span>, is <span class=\"m\"> $F = D(N) = 40 + \\frac{1}{4}N$ </span>. </span></div>"
            ]
        },
        {
            "cell_type": "markdown",
            "metadata": {
                "collapsed": false,
                "editable": false
            },
            "source": [
                "<div class=\"not-editable individual\"><div><h4>Task A</h4> <span> Solve the equation <span class=\"m\"> $F = 40 + \\frac{1}{4}N$ </span> for <span class=\"m\"> $N$ </span> in terms of <span class=\"m\"> $F$ </span>. </span> </div></div>"
            ]
        },
        {
            "cell_type": "markdown",
            "metadata": {
                "collapsed": false,
                "editable": false
            },
            "source": [
                "<div class=\"not-editable individual\"><div><h4>Task B</h4> <span> Say that <span class=\"m\"> $N = g(F)$ </span> is the function you just found in (a). What is the meaning of this function? What does it take as inputs and what does it produce as outputs? </span> </div></div>"
            ]
        },
        {
            "cell_type": "markdown",
            "metadata": {
                "collapsed": false,
                "editable": false
            },
            "source": [
                "<div class=\"not-editable individual\"><div><h4>Task C</h4> <span> How many chirps per minute do we expect when the outsidet temperature is <span class=\"m\"> $82$ </span> degrees F? How can we express this in the notation of the function <span class=\"m\"> $g$ </span>? </span> </div></div>"
            ]
        },
        {
            "cell_type": "markdown",
            "metadata": {
                "collapsed": false,
                "editable": false
            },
            "source": [
                "<div class=\"not-editable individual\"><div><h4>Task D</h4> <span> Recall that the function that converts Fahrenheit to Celsius is <span class=\"m\"> $C = G(F) = \\frac{5}{9}(F-32)$ </span>. Solve the equation <span class=\"m\"> $C = \\frac{5}{9}(F-32)$ </span> for <span class=\"m\"> $F$ </span> in terms of <span class=\"m\"> $C$ </span>. Call the resulting function <span class=\"m\"> $F = p(C)$ </span>. What is the meaning of this function? </span> </div></div>"
            ]
        },
        {
            "cell_type": "markdown",
            "metadata": {
                "collapsed": false,
                "editable": false
            },
            "source": [
                "<div class=\"not-editable individual\"><div><h4>Task E</h4> <span> Is it possible to write the chirp-rate <span class=\"m\"> $N$ </span> as a function of temperature <span class=\"m\"> $C$ </span> in Celsius? That is, can we produce a function whose input is in degrees Celsius and whose output is the number of chirps per minute? If yes, do so and explain your thinking. If not, explain why it's not possible. </span> </div></div>"
            ]
        },
        {
            "cell_type": "markdown",
            "metadata": {
                "collapsed": false,
                "editable": false
            },
            "source": [
                "<div class=\"not-editable individual\"><h2>Exercise 10</h2></div>"
            ]
        },
        {
            "cell_type": "markdown",
            "metadata": {
                "collapsed": false,
                "editable": false
            },
            "source": [
                "<div class=\"not-editable individual\"><span> For each of the following functions, find two simpler functions <span class=\"m\"> $f$ </span> and <span class=\"m\"> $g$ </span> such that the given function can be written as the composite function <span class=\"m\"> $g \\circ f$ </span>. </span></div>"
            ]
        },
        {
            "cell_type": "markdown",
            "metadata": {
                "collapsed": false,
                "editable": false
            },
            "source": [
                "<div class=\"not-editable individual\"><div><h4>Task A</h4> <span> <span class=\"m\"> $h(x) = (x^2 + 7)^3$ </span> </span> </div></div>"
            ]
        },
        {
            "cell_type": "markdown",
            "metadata": {
                "collapsed": false,
                "editable": false
            },
            "source": [
                "<div class=\"not-editable individual\"><div><h4>Task B</h4> <span> <span class=\"m\"> $r(x) = \\sqrt{5-x^3}$ </span> </span> </div></div>"
            ]
        },
        {
            "cell_type": "markdown",
            "metadata": {
                "collapsed": false,
                "editable": false
            },
            "source": [
                "<div class=\"not-editable individual\"><div><h4>Task C</h4> <span> <span class=\"m\"> $m(x) = \\frac{1}{x^4 + 2x^2 + 1}$ </span> </span> </div></div>"
            ]
        },
        {
            "cell_type": "markdown",
            "metadata": {
                "collapsed": false,
                "editable": false
            },
            "source": [
                "<div class=\"not-editable individual\"><div><h4>Task D</h4> <span> <span class=\"m\"> $w(x) = 2^{3-x^2}$ </span> </span> </div></div>"
            ]
        },
        {
            "cell_type": "markdown",
            "metadata": {
                "collapsed": false,
                "editable": false
            },
            "source": [
                "<div class=\"not-editable individual\"><h2>Exercise 11</h2></div>"
            ]
        },
        {
            "cell_type": "markdown",
            "metadata": {
                "collapsed": false,
                "editable": false
            },
            "source": [
                "<div class=\"not-editable individual\"><span> A spherical tank has radius <span class=\"m\"> $4$ </span> feet. The tank is initially empty and then begins to be filled in such a way that the height of the water rises at a constant rate of <span class=\"m\"> $0.4$ </span> feet per minute. Let <span class=\"m\"> $V$ </span> be the volume of water in the tank at a given instant, and <span class=\"m\"> $h$ </span> the depth of the water at the same instant; let <span class=\"m\"> $t$ </span> denote the time elapsed in minutes since the tank started being filled. </span></div>"
            ]
        },
        {
            "cell_type": "markdown",
            "metadata": {
                "collapsed": false,
                "editable": false
            },
            "source": [
                "<div class=\"not-editable individual\"><div><h4>Task A</h4> <span> Calculus can be used to show that the volume, <span class=\"m\"> $V$ </span>, is a function of the depth, <span class=\"m\"> $h$ </span>, of the water in the tank according to the function <span class=\"m\"> $$ V = f(h) = \\frac{\\pi}{3} h^2(12-h) $$ </span>. What is the domain of this model? Why? What is the corresponding range? </span> </div></div>"
            ]
        },
        {
            "cell_type": "markdown",
            "metadata": {
                "collapsed": false,
                "editable": false
            },
            "source": [
                "<div class=\"not-editable individual\"><div><h4>Task B</h4> <span> We are given the fact that the tank is being filled in such a way that the height of the water rises at a constant rate of <span class=\"m\"> $0.4$ </span> feet per minute. Said differently, <span class=\"m\"> $h$ </span> is a function of <span class=\"m\"> $t$ </span> whose average rate of change is constant. What kind of function does this make <span class=\"m\"> $h = p(t)$ </span>? Determine a formula for <span class=\"m\"> $p(t)$ </span>. </span> </div></div>"
            ]
        },
        {
            "cell_type": "markdown",
            "metadata": {
                "collapsed": false,
                "editable": false
            },
            "source": [
                "<div class=\"not-editable individual\"><div><h4>Task C</h4> <span> What are the domain and range of the function <span class=\"m\"> $h = p(t)$ </span>? How is this tied to the dimensions of the tank? </span> </div></div>"
            ]
        },
        {
            "cell_type": "markdown",
            "metadata": {
                "collapsed": false,
                "editable": false
            },
            "source": [
                "<div class=\"not-editable individual\"><div><h4>Task D</h4> <span> In (a) we observed that <span class=\"m\"> $V$ </span> is a function of <span class=\"m\"> $h$ </span>, and in (b) we found that <span class=\"m\"> $h$ </span> is a function of <span class=\"m\"> $t$ </span>. Use these two facts and function composition appropriately to write <span class=\"m\"> $V$ </span> as a function of <span class=\"m\"> $t$ </span>. Call the resulting function <span class=\"m\"> $V = q(t)$ </span>. </span> </div></div>"
            ]
        },
        {
            "cell_type": "markdown",
            "metadata": {
                "collapsed": false,
                "editable": false
            },
            "source": [
                "<div class=\"not-editable individual\"><div><h4>Task E</h4> <span> What are the domain and range of the function <span class=\"m\"> $q$ </span>? Why? </span> </div></div>"
            ]
        },
        {
            "cell_type": "markdown",
            "metadata": {
                "collapsed": false,
                "editable": false
            },
            "source": [
                "<div class=\"not-editable individual\"><div><h4>Task F</h4> <span> On the provided axes, sketch accurate graphs of <span class=\"m\"> $h = p(t)$ </span> and <span class=\"m\"> $V = q(t)$ </span>, labeling the vertical and horizontal scale on each graph appropriately. Make your graphs as precise as you can; use a computing device to assist as needed. </span> <div class=\"sidebyside\"><div><img src=\"images/tandem-h-t-blank-axes.svg\"/></div><div><img src=\"images/tandem-V-t-blank-axes.svg\"/></div></div> <span> Why do each of the two graphs have their respective shapes? Write at least one sentence to explain each graph; refer explicitly to the shape of the tank and other information given in the problem. </span> </div></div>"
            ]
        }
    ],
    "nbformat": 4,
    "nbformat_minor": 4
}
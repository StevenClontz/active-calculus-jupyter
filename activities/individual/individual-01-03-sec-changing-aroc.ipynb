{
    "cells": [
        {
            "cell_type": "markdown",
            "metadata": {
                "collapsed": false,
                "editable": false
            },
            "source": [
                "<div class=\"not-editable individual\"><style> .not-editable{padding:1em;border-radius:10px;box-shadow:4px 4px 3px #ddd;margin:5px;} .not-editable.individual{background-color:#eefff8;} .not-editable.team{background-color:#eef8ff;} .sidebyside{display:flex;justify-content:center;} .sidebyside > *{margin-right:1em;flex:1;} caption{caption-side:top;white-space: nowrap;color:rgba(0,0,0,.45)}} figcaption{padding-top:0.75em;padding-bottom:0.3em;color:rgba(0,0,0,.45)} .fillin{display:inline-block;width:10em;margin-left:0.2em;margin-right:0.2em;height:1em;border-bottom:1px black solid;} .fn{font-size:0.8em;color:rgba(0,0,0.45)} .newcommands{display:none;} tt{background-color:#f8f8f8;border:1px #888 solid;border-radius:2px;padding-left:0.2em;padding-right:0.2em;} img{background-color:#fff;} </style> <div><h1>Section 1.3 The Average Rate of Change of a Function</h1><h2>Individual Notebook</h2><div><a href=\"https://activecalculus.org/prelude/sec-changing-aroc.html\">https://activecalculus.org/prelude/sec-changing-aroc.html</a></div></div></div>"
            ]
        },
        {
            "cell_type": "markdown",
            "metadata": {
                "collapsed": false,
                "editable": false
            },
            "source": [
                "<div class=\"not-editable individual\"><h2>Preview Activity 1.3.1</h2></div>"
            ]
        },
        {
            "cell_type": "markdown",
            "metadata": {
                "collapsed": false,
                "editable": false
            },
            "source": [
                "<div class=\"not-editable individual\"><h2>Exercise 9</h2></div>"
            ]
        },
        {
            "cell_type": "markdown",
            "metadata": {
                "collapsed": false,
                "editable": false
            },
            "source": [
                "<div class=\"not-editable individual\"><span> A cold can of soda is removed from a refrigerator. Its temperature <span class=\"m\"> $F$ </span> in degrees Fahrenheit is measured at <span class=\"m\"> $5$ </span>-minute intervals, as recorded in the following table. </span></div>"
            ]
        },
        {
            "cell_type": "markdown",
            "metadata": {
                "collapsed": false,
                "editable": false
            },
            "source": [
                "<div class=\"not-editable individual\"><div><table><caption><b>Table 1.3.10.</b> Data for the soda's temperature as a function of time.</caption><tr><td><span class=\"m\"> $t$ </span> (minutes)</td><td><span class=\"m\"> $0$ </span></td><td><span class=\"m\"> $5$ </span></td><td><span class=\"m\"> $10$ </span></td><td><span class=\"m\"> $15$ </span></td><td><span class=\"m\"> $20$ </span></td><td><span class=\"m\"> $25$ </span></td><td><span class=\"m\"> $30$ </span></td><td><span class=\"m\"> $35$ </span></td></tr><tr><td><span class=\"m\"> $F$ </span> (Fahrenheit temp)</td><td><span class=\"m\"> $37.00$ </span></td><td><span class=\"m\"> $44.74$ </span></td><td><span class=\"m\"> $50.77$ </span></td><td><span class=\"m\"> $55.47$ </span></td><td><span class=\"m\"> $59.12$ </span></td><td><span class=\"m\"> $61.97$ </span></td><td><span class=\"m\"> $64.19$ </span></td><td><span class=\"m\"> $65.92$ </span></td></tr></table></div></div>"
            ]
        },
        {
            "cell_type": "markdown",
            "metadata": {
                "collapsed": false,
                "editable": false
            },
            "source": [
                "<div class=\"not-editable individual\"><div><h4>Task A</h4> <span> Determine <span class=\"m\"> $AV_{[0,5]}$ </span>, <span class=\"m\"> $AV_{[5,10]}$ </span>, and <span class=\"m\"> $AV_{[10,15]}$ </span>, including appropriate units. Choose one of these quantities and write a careful sentence to explain its meaning. Your sentence might look something like <span class=\"q\"> \"On the interval <span class=\"m\"> $\\ldots$ </span>, the temperature of the soda is <span class=\"m\"> $\\ldots$ </span> on average by <span class=\"m\"> $\\ldots$ </span> for each <span class=\"m\"> $1$ </span>-unit increase in <span class=\"m\"> $\\ldots$ </span>\" </span>. </span> </div></div>"
            ]
        },
        {
            "cell_type": "markdown",
            "metadata": {
                "collapsed": false,
                "editable": false
            },
            "source": [
                "<div class=\"not-editable individual\"><div><h4>Task B</h4> <span> On which interval is there more total change in the soda's temperature: <span class=\"m\"> $[10,20]$ </span> or <span class=\"m\"> $[25,35]$ </span>? </span> </div></div>"
            ]
        },
        {
            "cell_type": "markdown",
            "metadata": {
                "collapsed": false,
                "editable": false
            },
            "source": [
                "<div class=\"not-editable individual\"><div><h4>Task C</h4> <span> What can you observe about when the soda's temperature appears to be changing most rapidly? </span> </div></div>"
            ]
        },
        {
            "cell_type": "markdown",
            "metadata": {
                "collapsed": false,
                "editable": false
            },
            "source": [
                "<div class=\"not-editable individual\"><div><h4>Task D</h4> <span> Estimate the soda's temperature when <span class=\"m\"> $t = 37$ </span> minutes. Write at least one sentence to explain your thinking. </span> </div></div>"
            ]
        },
        {
            "cell_type": "markdown",
            "metadata": {
                "collapsed": false,
                "editable": false
            },
            "source": [
                "<div class=\"not-editable individual\"><h2>Exercise 10</h2></div>"
            ]
        },
        {
            "cell_type": "markdown",
            "metadata": {
                "collapsed": false,
                "editable": false
            },
            "source": [
                "<div class=\"not-editable individual\"><span> The position of a car driving along a straight road at time <span class=\"m\"> $t$ </span> in minutes is given by the function <span class=\"m\"> $y = s(t)$ </span> that is pictured in <a href=\"https://activecalculus.org/prelude/sec-changing-aroc.html#F-aroc-ez-position-graph\">Figure 1.3.11</a>. The car's position function has units measured in thousands of feet. For instance, the point <span class=\"m\"> $(2,4)$ </span> on the graph indicates that after 2 minutes, the car has traveled 4000 feet. </span></div>"
            ]
        },
        {
            "cell_type": "markdown",
            "metadata": {
                "collapsed": false,
                "editable": false
            },
            "source": [
                "<div class=\"not-editable individual\"><div><figure><figcaption><b>Figure 1.3.11.</b> The graph of <span class=\"m\"> $y = s(t)$ </span>, the position of the car (measured in thousands of feet from its starting location) at time <span class=\"m\"> $t$ </span> in minutes.</figcaption><div><img src=\"images/aroc-ez-position-graph.svg\"/></div></figure></div></div>"
            ]
        },
        {
            "cell_type": "markdown",
            "metadata": {
                "collapsed": false,
                "editable": false
            },
            "source": [
                "<div class=\"not-editable individual\"><div><h4>Task A</h4> <span> In everyday language, describe the behavior of the car over the provided time interval. In particular, carefully discuss what is happening on each of the time intervals <span class=\"m\"> $[0,1]$ </span>, <span class=\"m\"> $[1,2]$ </span>, <span class=\"m\"> $[2,3]$ </span>, <span class=\"m\"> $[3,4]$ </span>, and <span class=\"m\"> $[4,5]$ </span>, plus provide commentary overall on what the car is doing on the interval <span class=\"m\"> $[0,12]$ </span>. </span> </div></div>"
            ]
        },
        {
            "cell_type": "markdown",
            "metadata": {
                "collapsed": false,
                "editable": false
            },
            "source": [
                "<div class=\"not-editable individual\"><div><h4>Task B</h4> <span> Compute the average rate of change of <span class=\"m\"> $s$ </span> on the intervals <span class=\"m\"> $[3,4]$ </span>, <span class=\"m\"> $[4,6]$ </span>, and <span class=\"m\"> $[5,8]$ </span>. Label your results using the notation <span class=\"q\"> \"<span class=\"m\"> $AV_{[a,b]}$ </span>\" </span> appropriately, and include units on each quantity. </span> </div></div>"
            ]
        },
        {
            "cell_type": "markdown",
            "metadata": {
                "collapsed": false,
                "editable": false
            },
            "source": [
                "<div class=\"not-editable individual\"><div><h4>Task C</h4> <span> On the graph of <span class=\"m\"> $s$ </span>, sketch the three lines whose slope corresponds to the values of <span class=\"m\"> $AV_{[3,4]}$ </span>, <span class=\"m\"> $AV_{[4,6]}$ </span>, and <span class=\"m\"> $AV_{[5,8]}$ </span> that you computed in (b). </span> </div></div>"
            ]
        },
        {
            "cell_type": "markdown",
            "metadata": {
                "collapsed": false,
                "editable": false
            },
            "source": [
                "<div class=\"not-editable individual\"><div><h4>Task D</h4> <span> Is there a time interval on which the car's average velocity is <span class=\"m\"> $5000$ </span> feet per minute? Why or why not? </span> </div></div>"
            ]
        },
        {
            "cell_type": "markdown",
            "metadata": {
                "collapsed": false,
                "editable": false
            },
            "source": [
                "<div class=\"not-editable individual\"><div><h4>Task E</h4> <span> Is there ever a time interval when the car is going in reverse? Why or why not? </span> </div></div>"
            ]
        },
        {
            "cell_type": "markdown",
            "metadata": {
                "collapsed": false,
                "editable": false
            },
            "source": [
                "<div class=\"not-editable individual\"><h2>Exercise 11</h2></div>"
            ]
        },
        {
            "cell_type": "markdown",
            "metadata": {
                "collapsed": false,
                "editable": false
            },
            "source": [
                "<div class=\"not-editable individual\"><span> Consider an inverted conical tank (point down) whose top has a radius of <span class=\"m\"> $3$ </span> feet and that is <span class=\"m\"> $2$ </span> feet deep. The tank is initially empty and then is filled at a constant rate of <span class=\"m\"> $0.75$ </span> cubic feet per minute. Let <span class=\"m\"> $V=f(t)$ </span> denote the volume of water (in cubic feet) at time <span class=\"m\"> $t$ </span> in minutes, and let <span class=\"m\"> $h= g(t)$ </span> denote the depth of the water (in feet) at time <span class=\"m\"> $t$ </span>. It turns out that the formula for the function <span class=\"m\"> $g$ </span> is <span class=\"m\"> $g(t) = \\left( \\frac{t}{\\pi} \\right)^{1/3}$ </span>. </span></div>"
            ]
        },
        {
            "cell_type": "markdown",
            "metadata": {
                "collapsed": false,
                "editable": false
            },
            "source": [
                "<div class=\"not-editable individual\"><div><h4>Task A</h4> <span> In everyday language, describe how you expect the height function <span class=\"m\"> $h = g(t)$ </span> to behave as time increases. </span> </div></div>"
            ]
        },
        {
            "cell_type": "markdown",
            "metadata": {
                "collapsed": false,
                "editable": false
            },
            "source": [
                "<div class=\"not-editable individual\"><div><h4>Task B</h4> <span> For the height function <span class=\"m\"> $h = g(t) = \\left( \\frac{t}{\\pi} \\right)^{1/3}$ </span>, compute <span class=\"m\"> $AV_{[0,2]}$ </span>, <span class=\"m\"> $AV_{[2,4]}$ </span>, and <span class=\"m\"> $AV_{[4,6]}$ </span>. Include units on your results. </span> </div></div>"
            ]
        },
        {
            "cell_type": "markdown",
            "metadata": {
                "collapsed": false,
                "editable": false
            },
            "source": [
                "<div class=\"not-editable individual\"><div><h4>Task C</h4> <span> Again working with the height function, can you determine an interval <span class=\"m\"> $[a,b]$ </span> on which <span class=\"m\"> $AV_{[a,b]} = 2$ </span> feet per minute? If yes, state the interval; if not, explain why there is no such interval. </span> </div></div>"
            ]
        },
        {
            "cell_type": "markdown",
            "metadata": {
                "collapsed": false,
                "editable": false
            },
            "source": [
                "<div class=\"not-editable individual\"><div><h4>Task D</h4> <span> Now consider the volume function, <span class=\"m\"> $V = f(t)$ </span>. Even though we don't have a formula for <span class=\"m\"> $f$ </span>, is it possible to determine the average rate of change of the volume function on the intervals <span class=\"m\"> $[0,2]$ </span>, <span class=\"m\"> $[2,4]$ </span>, and <span class=\"m\"> $[4,6]$ </span>? Why or why not? </span> </div></div>"
            ]
        }
    ],
    "nbformat": 4,
    "nbformat_minor": 4
}
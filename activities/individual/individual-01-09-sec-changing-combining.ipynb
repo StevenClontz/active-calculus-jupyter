{
    "cells": [
        {
            "cell_type": "markdown",
            "metadata": {
                "collapsed": false,
                "editable": false
            },
            "source": [
                "<div class=\"not-editable individual\"><style> .not-editable{padding:1em;border-radius:10px;box-shadow:4px 4px 3px #ddd;margin:5px;} .not-editable.individual{background-color:#eefff8;} .not-editable.team{background-color:#eef8ff;} .sidebyside{display:flex;justify-content:center;} .sidebyside > *{margin-right:1em;flex:1;} caption{caption-side:top;white-space: nowrap;color:rgba(0,0,0,.45)}} figcaption{padding-top:0.75em;padding-bottom:0.3em;color:rgba(0,0,0,.45)} .fillin{display:inline-block;width:10em;margin-left:0.2em;margin-right:0.2em;height:1em;border-bottom:1px black solid;} .fn{font-size:0.8em;color:rgba(0,0,0.45)} .newcommands{display:none;} tt{background-color:#f8f8f8;border:1px #888 solid;border-radius:2px;padding-left:0.2em;padding-right:0.2em;} img{background-color:#fff;} </style> <div><h1>Section 1.9 Combining Functions</h1><h2>Individual Notebook</h2><div><a href=\"https://activecalculus.org/prelude/sec-changing-combining.html\">https://activecalculus.org/prelude/sec-changing-combining.html</a></div></div></div>"
            ]
        },
        {
            "cell_type": "markdown",
            "metadata": {
                "collapsed": false,
                "editable": false
            },
            "source": [
                "<div class=\"not-editable individual\"><h2>Preview Activity 1.9.1</h2></div>"
            ]
        },
        {
            "cell_type": "markdown",
            "metadata": {
                "collapsed": false,
                "editable": false
            },
            "source": [
                "<div class=\"not-editable individual\"><span> Consider the functions <span class=\"m\"> $f$ </span> and <span class=\"m\"> $g$ </span> defined by <a href=\"https://activecalculus.org/prelude/sec-changing-combining.html#T-PA-changing-combining\">Table 1.9.1</a> and functions <span class=\"m\"> $p$ </span> and <span class=\"m\"> $q$ </span> defined by <a href=\"https://activecalculus.org/prelude/sec-changing-combining.html#F-PA-changing-combining\">Figure 1.9.2</a>. </span></div>"
            ]
        },
        {
            "cell_type": "markdown",
            "metadata": {
                "collapsed": false,
                "editable": false
            },
            "source": [
                "<div class=\"not-editable individual\"><div class=\"sidebyside\"><div><table><caption><b>Table 1.9.1.</b> Table defining functions <span class=\"m\"> $f$ </span> and <span class=\"m\"> $g$ </span>.</caption><tr><td><span class=\"m\"> $x$ </span></td><td>0</td><td>1</td><td>2</td><td>3</td><td>4</td></tr><tr><td><span class=\"m\"> $f(x)$ </span></td><td>5</td><td>10</td><td>15</td><td>20</td><td>25</td></tr><tr><td><span class=\"m\"> $g(x)$ </span></td><td>9</td><td>5</td><td>3</td><td>2</td><td>3</td></tr></table></div><div><figure><figcaption><b>Figure 1.9.2.</b> Graphs defining functions <span class=\"m\"> $p$ </span> and <span class=\"m\"> $q$ </span>.</figcaption><div><img src=\"images/inverse-ez-p-q.svg\"/></div></figure></div></div></div>"
            ]
        },
        {
            "cell_type": "markdown",
            "metadata": {
                "collapsed": false,
                "editable": false
            },
            "source": [
                "<div class=\"not-editable individual\"><div><h4>Task A</h4> <span> Let <span class=\"m\"> $h(x) = f(x) + g(x)$ </span>. Determine <span class=\"m\"> $h(3)$ </span>. </span> </div></div>"
            ]
        },
        {
            "cell_type": "markdown",
            "metadata": {
                "collapsed": false,
                "editable": false
            },
            "source": [
                "<div class=\"not-editable individual\"><div><h4>Task B</h4> <span> Let <span class=\"m\"> $r(x) = p(x) - q(x)$ </span>. Determine <span class=\"m\"> $r(-1)$ </span> exactly. </span> </div></div>"
            ]
        },
        {
            "cell_type": "markdown",
            "metadata": {
                "collapsed": false,
                "editable": false
            },
            "source": [
                "<div class=\"not-editable individual\"><div><h4>Task C</h4> <span> Are there any values of <span class=\"m\"> $x$ </span> for which <span class=\"m\"> $r(x) = 0$ </span>? If not, explain why; if so, determine all such values, with justification. </span> </div></div>"
            ]
        },
        {
            "cell_type": "markdown",
            "metadata": {
                "collapsed": false,
                "editable": false
            },
            "source": [
                "<div class=\"not-editable individual\"><div><h4>Task D</h4> <span> Let <span class=\"m\"> $k(x) = f(x) \\cdot g(x)$ </span>. Determine <span class=\"m\"> $k(0)$ </span>. </span> </div></div>"
            ]
        },
        {
            "cell_type": "markdown",
            "metadata": {
                "collapsed": false,
                "editable": false
            },
            "source": [
                "<div class=\"not-editable individual\"><div><h4>Task E</h4> <span> Let <span class=\"m\"> $s(x) = \\frac{p(x)}{q(x)}$ </span>. Determine <span class=\"m\"> $s(1)$ </span> exactly. </span> </div></div>"
            ]
        },
        {
            "cell_type": "markdown",
            "metadata": {
                "collapsed": false,
                "editable": false
            },
            "source": [
                "<div class=\"not-editable individual\"><div><h4>Task F</h4> <span> Are there any values of <span class=\"m\"> $x$ </span> in the interval <span class=\"m\"> $-4 \\le x \\le 4$ </span> for which <span class=\"m\"> $s(x)$ </span> is not defined? If not, explain why; if so, determine all such values, with justification. </span> </div></div>"
            ]
        },
        {
            "cell_type": "markdown",
            "metadata": {
                "collapsed": false,
                "editable": false
            },
            "source": [
                "<div class=\"not-editable individual\"><h2>Exercise 7</h2></div>"
            ]
        },
        {
            "cell_type": "markdown",
            "metadata": {
                "collapsed": false,
                "editable": false
            },
            "source": [
                "<div class=\"not-editable individual\"><span> Let <span class=\"m\"> $r(t) = 2t - 3$ </span> and <span class=\"m\"> $s(t) = 5 - 3t$ </span>. Determine a formula for each of the following new functions and simplify your result as much as possible. </span></div>"
            ]
        },
        {
            "cell_type": "markdown",
            "metadata": {
                "collapsed": false,
                "editable": false
            },
            "source": [
                "<div class=\"not-editable individual\"><div><h4>Task A</h4> <span> <span class=\"m\"> $f(t) = (r+s)(t)$ </span> </span> </div></div>"
            ]
        },
        {
            "cell_type": "markdown",
            "metadata": {
                "collapsed": false,
                "editable": false
            },
            "source": [
                "<div class=\"not-editable individual\"><div><h4>Task B</h4> <span> <span class=\"m\"> $g(t) = (\\frac{s}{r})(t)$ </span> </span> </div></div>"
            ]
        },
        {
            "cell_type": "markdown",
            "metadata": {
                "collapsed": false,
                "editable": false
            },
            "source": [
                "<div class=\"not-editable individual\"><div><h4>Task C</h4> <span> <span class=\"m\"> $h(t) = (r \\cdot s)(t)$ </span> </span> </div></div>"
            ]
        },
        {
            "cell_type": "markdown",
            "metadata": {
                "collapsed": false,
                "editable": false
            },
            "source": [
                "<div class=\"not-editable individual\"><div><h4>Task D</h4> <span> <span class=\"m\"> $q(t) = (s \\circ r)(t)$ </span> </span> </div></div>"
            ]
        },
        {
            "cell_type": "markdown",
            "metadata": {
                "collapsed": false,
                "editable": false
            },
            "source": [
                "<div class=\"not-editable individual\"><div><h4>Task E</h4> <span> <span class=\"m\"> $w(t) = r(t-4) + 7$ </span> </span> </div></div>"
            ]
        },
        {
            "cell_type": "markdown",
            "metadata": {
                "collapsed": false,
                "editable": false
            },
            "source": [
                "<div class=\"not-editable individual\"><h2>Exercise 8</h2></div>"
            ]
        },
        {
            "cell_type": "markdown",
            "metadata": {
                "collapsed": false,
                "editable": false
            },
            "source": [
                "<div class=\"not-editable individual\"><span> Consider the functions <span class=\"m\"> $s$ </span> and <span class=\"m\"> $g$ </span> defined by the graphs in <a href=\"https://activecalculus.org/prelude/sec-changing-combining.html#F-combining-ez-piecewise-s\">Figure 1.9.11</a> and <a href=\"https://activecalculus.org/prelude/sec-changing-combining.html#F-combining-ez-piecewise-g\">Figure 1.9.12</a>. Assume that to the left and right of the pictured domains, each function continues behaving according to the trends seen in the figures. </span></div>"
            ]
        },
        {
            "cell_type": "markdown",
            "metadata": {
                "collapsed": false,
                "editable": false
            },
            "source": [
                "<div class=\"not-editable individual\"><div class=\"sidebyside\"><div><figure><figcaption><b>Figure 1.9.11.</b> The graph of a piecewise function, <span class=\"m\"> $s$ </span>.</figcaption><div><img src=\"images/inverse-act-does-it-2.svg\"/></div></figure></div><div><figure><figcaption><b>Figure 1.9.12.</b> The graph of a piecewise function, <span class=\"m\"> $g$ </span>.</figcaption><div><img src=\"images/functions-act-is-it-2.svg\"/></div></figure></div></div></div>"
            ]
        },
        {
            "cell_type": "markdown",
            "metadata": {
                "collapsed": false,
                "editable": false
            },
            "source": [
                "<div class=\"not-editable individual\"><div><h4>Task A</h4> <span> Determine a piecewise formula for the function <span class=\"m\"> $y = s(t)$ </span> that is valid for all real numbers <span class=\"m\"> $t$ </span>. </span> </div></div>"
            ]
        },
        {
            "cell_type": "markdown",
            "metadata": {
                "collapsed": false,
                "editable": false
            },
            "source": [
                "<div class=\"not-editable individual\"><div><h4>Task B</h4> <span> Determine a piecewise formula for the function <span class=\"m\"> $y = g(x)$ </span> that is valid for all real numbers <span class=\"m\"> $x$ </span>. </span> </div></div>"
            ]
        },
        {
            "cell_type": "markdown",
            "metadata": {
                "collapsed": false,
                "editable": false
            },
            "source": [
                "<div class=\"not-editable individual\"><div><h4>Task C</h4> <span> Determine each of the following quantities or explain why they are not defined. </span> <span> <ol><li> <span> <span class=\"m\"> $(s \\cdot g)(1)$ </span> </span> </li><li> <span> <span class=\"m\"> $(g-s)(3)$ </span> </span> </li><li> <span> <span class=\"m\"> $(s \\circ g)(1.5)$ </span> </span> </li><li> <span> <span class=\"m\"> $(g \\circ s)(-4)$ </span> </span> </li></ol> </span> </div></div>"
            ]
        },
        {
            "cell_type": "markdown",
            "metadata": {
                "collapsed": false,
                "editable": false
            },
            "source": [
                "<div class=\"not-editable individual\"><h2>Exercise 9</h2></div>"
            ]
        },
        {
            "cell_type": "markdown",
            "metadata": {
                "collapsed": false,
                "editable": false
            },
            "source": [
                "<div class=\"not-editable individual\"><span> One of the most important principles in the study of changing quantities is found in the relationship between distance, average velocity, and time. For a moving body traveling on a straight-line path at an average rate of <span class=\"m\"> $v$ </span> for a period of time <span class=\"m\"> $t$ </span>, the distance traveled, <span class=\"m\"> $d$ </span>, is given by <span class=\"m\"> $$ d = v \\cdot t $$ </span> </span></div>"
            ]
        },
        {
            "cell_type": "markdown",
            "metadata": {
                "collapsed": false,
                "editable": false
            },
            "source": [
                "<div class=\"not-editable individual\"><div><h4>Task A</h4> <span> Determine the time the swimmer exits the water. Report your result in hours. </span> </div></div>"
            ]
        },
        {
            "cell_type": "markdown",
            "metadata": {
                "collapsed": false,
                "editable": false
            },
            "source": [
                "<div class=\"not-editable individual\"><div><h4>Task B</h4> <span> Likewise, determine the time the athlete gets off her bike, as well as the time she finishes the race. </span> </div></div>"
            ]
        },
        {
            "cell_type": "markdown",
            "metadata": {
                "collapsed": false,
                "editable": false
            },
            "source": [
                "<div class=\"not-editable individual\"><div><h4>Task C</h4> <span> List 5 key points in the form (time, distance): when exiting the water, when starting the bike, when finishing the bike, when starting the run, and when finishing the run. </span> </div></div>"
            ]
        },
        {
            "cell_type": "markdown",
            "metadata": {
                "collapsed": false,
                "editable": false
            },
            "source": [
                "<div class=\"not-editable individual\"><div><h4>Task D</h4> <span> What is the triathlete's average velocity over the course of the entire race? Is this velocity the average of her swim velocity, bike velocity, and run velocity? Why or why not? </span> </div></div>"
            ]
        },
        {
            "cell_type": "markdown",
            "metadata": {
                "collapsed": false,
                "editable": false
            },
            "source": [
                "<div class=\"not-editable individual\"><div><h4>Task E</h4> <span> Determine a piecewise function <span class=\"m\"> $s(t)$ </span> whose value at any given time (in hours) is the triathlete's total distance traveled. </span> </div></div>"
            ]
        },
        {
            "cell_type": "markdown",
            "metadata": {
                "collapsed": false,
                "editable": false
            },
            "source": [
                "<div class=\"not-editable individual\"><div><h4>Task F</h4> <span> Sketch a carefully labeled graph of the triathlete's distance traveled as a function of time on the axes provided. Provide clear scale and note key points on the graph. </span> <div class=\"sidebyside\"><div><img src=\"images/aroc-s-t-blank-axes.svg\"/></div><div><img src=\"images/tandem-V-t-blank-axes.svg\"/></div></div> </div></div>"
            ]
        },
        {
            "cell_type": "markdown",
            "metadata": {
                "collapsed": false,
                "editable": false
            },
            "source": [
                "<div class=\"not-editable individual\"><div><h4>Task G</h4> <span> Sketch a possible graph of the triathete's velocity, <span class=\"m\"> $V$ </span>, as a function of time on the righthand axes. Here, too, label key points and provide clear scale. Write several sentences to explain and justify your graph. </span> </div></div>"
            ]
        }
    ],
    "nbformat": 4,
    "nbformat_minor": 4
}
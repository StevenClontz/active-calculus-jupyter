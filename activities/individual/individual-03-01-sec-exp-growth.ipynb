{
    "cells": [
        {
            "cell_type": "markdown",
            "metadata": {
                "collapsed": false,
                "editable": false
            },
            "source": [
                "<div class=\"not-editable individual\"><style> .not-editable{padding:1em;border-radius:10px;box-shadow:4px 4px 3px #ddd;margin:5px;} .not-editable.individual{background-color:#eefff8;} .not-editable.team{background-color:#eef8ff;} .sidebyside{display:flex;justify-content:center;} .sidebyside > *{margin-right:1em;flex:1;} caption{caption-side:top;white-space: nowrap;color:rgba(0,0,0,.45)}} figcaption{padding-top:0.75em;padding-bottom:0.3em;color:rgba(0,0,0,.45)} .fillin{display:inline-block;width:10em;margin-left:0.2em;margin-right:0.2em;height:1em;border-bottom:1px black solid;} .fn{font-size:0.8em;color:rgba(0,0,0.45)} .newcommands{display:none;} tt{background-color:#f8f8f8;border:1px #888 solid;border-radius:2px;padding-left:0.2em;padding-right:0.2em;} img{background-color:#fff;} </style> <div><h1>Section 3.1 Exponential Growth and Decay</h1><h2>Individual Notebook</h2><div><a href=\"https://activecalculus.org/prelude/sec-exp-growth.html\">https://activecalculus.org/prelude/sec-exp-growth.html</a></div></div></div>"
            ]
        },
        {
            "cell_type": "markdown",
            "metadata": {
                "collapsed": false,
                "editable": false
            },
            "source": [
                "<div class=\"not-editable individual\"><h2>Preview Activity 3.1.1</h2></div>"
            ]
        },
        {
            "cell_type": "markdown",
            "metadata": {
                "collapsed": false,
                "editable": false
            },
            "source": [
                "<div class=\"not-editable individual\"><span> Suppose that at age <span class=\"m\"> $20$ </span> you have $<span class=\"m\"> $20000$ </span> and you can choose between one of two ways to use the money: you can invest it in a mutual fund that will, on average, earn <span class=\"m\"> $8$ </span>% interest annually, or you can purchase a new automobile that will, on average, depreciate <span class=\"m\"> $12$ </span>% annually. Let's explore how the $<span class=\"m\"> $20000$ </span> changes over time. </span></div>"
            ]
        },
        {
            "cell_type": "markdown",
            "metadata": {
                "collapsed": false,
                "editable": false
            },
            "source": [
                "<div class=\"not-editable individual\"><span> Let <span class=\"m\"> $I(t)$ </span> denote the value of the $<span class=\"m\"> $20000$ </span> after <span class=\"m\"> $t$ </span> years if it is invested in the mutual fund, and let <span class=\"m\"> $V(t)$ </span> denote the value of the automobile <span class=\"m\"> $t$ </span> years after it is purchased. </span></div>"
            ]
        },
        {
            "cell_type": "markdown",
            "metadata": {
                "collapsed": false,
                "editable": false
            },
            "source": [
                "<div class=\"not-editable individual\"><div><h4>Task A</h4> <span> Determine <span class=\"m\"> $I(0)$ </span>, <span class=\"m\"> $I(1)$ </span>, <span class=\"m\"> $I(2)$ </span>, and <span class=\"m\"> $I(3)$ </span>. </span> </div></div>"
            ]
        },
        {
            "cell_type": "markdown",
            "metadata": {
                "collapsed": false,
                "editable": false
            },
            "source": [
                "<div class=\"not-editable individual\"><div><h4>Task B</h4> <span> Note that if a quantity depreciates <span class=\"m\"> $12$ </span>% annually, after a given year, <span class=\"m\"> $88$ </span>% of the quantity remains. Compute <span class=\"m\"> $V(0)$ </span>, <span class=\"m\"> $V(1)$ </span>, <span class=\"m\"> $V(2)$ </span>, and <span class=\"m\"> $V(3)$ </span>. </span> </div></div>"
            ]
        },
        {
            "cell_type": "markdown",
            "metadata": {
                "collapsed": false,
                "editable": false
            },
            "source": [
                "<div class=\"not-editable individual\"><div><h4>Task C</h4> <span> Based on the patterns in your computations in (a) and (b), determine formulas for <span class=\"m\"> $I(t)$ </span> and <span class=\"m\"> $V(t)$ </span>. </span> </div></div>"
            ]
        },
        {
            "cell_type": "markdown",
            "metadata": {
                "collapsed": false,
                "editable": false
            },
            "source": [
                "<div class=\"not-editable individual\"><div><h4>Task D</h4> <span> Use Desmos to define <span class=\"m\"> $I(t)$ </span> and <span class=\"m\"> $V(t)$ </span>. Plot each function on the interval <span class=\"m\"> $0 \\le t \\le 20$ </span> and record your results on the axes in <a href=\"https://activecalculus.org/prelude/sec-exp-growth.html#F-growth-PA-blank-axes\">Figure 3.1.1</a>, being sure to label the scale on the axes. What trends do you observe in the graphs? How do <span class=\"m\"> $I(20)$ </span> and <span class=\"m\"> $V(20)$ </span> compare? </span> <div><figure><figcaption><b>Figure 3.1.1.</b> Blank axes for plotting <span class=\"m\"> $I$ </span> and <span class=\"m\"> $V$ </span>.</figcaption><div><img src=\"images/growth-PA-blank-axes.svg\"/></div></figure></div> </div></div>"
            ]
        },
        {
            "cell_type": "markdown",
            "metadata": {
                "collapsed": false,
                "editable": false
            },
            "source": [
                "<div class=\"not-editable individual\"><h2>Exercise 8</h2></div>"
            ]
        },
        {
            "cell_type": "markdown",
            "metadata": {
                "collapsed": false,
                "editable": false
            },
            "source": [
                "<div class=\"not-editable individual\"><span> Grinnell Glacier in Glacier National Park in Montana covered about <span class=\"m\"> $142$ </span> acres in 2007 and was found to be shrinking at about <span class=\"m\"> $4.4$ </span>% per year. </span></div>"
            ]
        },
        {
            "cell_type": "markdown",
            "metadata": {
                "collapsed": false,
                "editable": false
            },
            "source": [
                "<div class=\"not-editable individual\"><div><h4>Task A</h4> <span> Let <span class=\"m\"> $G(t)$ </span> denote the area of Grinnell Glacier in acres in year <span class=\"m\"> $t$ </span>, where <span class=\"m\"> $t$ </span> is the number of years since 2007. Find a formula for <span class=\"m\"> $G(t)$ </span> and define the function in Desmos. </span> </div></div>"
            ]
        },
        {
            "cell_type": "markdown",
            "metadata": {
                "collapsed": false,
                "editable": false
            },
            "source": [
                "<div class=\"not-editable individual\"><div><h4>Task B</h4> <span> How many acres of ice were in the glacier in 1997? In 2012? What does the model predict for 2022? </span> </div></div>"
            ]
        },
        {
            "cell_type": "markdown",
            "metadata": {
                "collapsed": false,
                "editable": false
            },
            "source": [
                "<div class=\"not-editable individual\"><div><h4>Task C</h4> <span> How many total acres of ice were lost from 2007 to 2012? </span> </div></div>"
            ]
        },
        {
            "cell_type": "markdown",
            "metadata": {
                "collapsed": false,
                "editable": false
            },
            "source": [
                "<div class=\"not-editable individual\"><div><h4>Task D</h4> <span> What was the average rate of change of <span class=\"m\"> $G$ </span> from 2007 to 2012? Write a sentence to explain the meaning of this number and include units on your answer. In addition, how does this compare to the average rate of change of <span class=\"m\"> $G$ </span> from 2012 to 2017? </span> </div></div>"
            ]
        },
        {
            "cell_type": "markdown",
            "metadata": {
                "collapsed": false,
                "editable": false
            },
            "source": [
                "<div class=\"not-editable individual\"><div><h4>Task E</h4> <span> How would you you describe the overall behavior of <span class=\"m\"> $G$ </span>, and thus what is happening to the Grinnell Glacier? </span> </div></div>"
            ]
        },
        {
            "cell_type": "markdown",
            "metadata": {
                "collapsed": false,
                "editable": false
            },
            "source": [
                "<div class=\"not-editable individual\"><h2>Exercise 9</h2></div>"
            ]
        },
        {
            "cell_type": "markdown",
            "metadata": {
                "collapsed": false,
                "editable": false
            },
            "source": [
                "<div class=\"not-editable individual\"><span> Consider the exponential function <span class=\"m\"> $f$ </span> whose graph is given by <a href=\"https://activecalculus.org/prelude/sec-exp-growth.html#F-growth-ez-find-a-b\">Figure 3.1.12</a>. Note that <span class=\"m\"> $f$ </span> passes through the two noted points exactly. </span></div>"
            ]
        },
        {
            "cell_type": "markdown",
            "metadata": {
                "collapsed": false,
                "editable": false
            },
            "source": [
                "<div class=\"not-editable individual\"><div><figure><figcaption><b>Figure 3.1.12.</b> A plot of the exponential function <span class=\"m\"> $f$ </span>.</figcaption><div><img src=\"images/growth-ez-find-a-b.svg\"/></div></figure></div></div>"
            ]
        },
        {
            "cell_type": "markdown",
            "metadata": {
                "collapsed": false,
                "editable": false
            },
            "source": [
                "<div class=\"not-editable individual\"><div><h4>Task A</h4> <span> Determine the values of <span class=\"m\"> $a$ </span> and <span class=\"m\"> $b$ </span> exactly. </span> </div></div>"
            ]
        },
        {
            "cell_type": "markdown",
            "metadata": {
                "collapsed": false,
                "editable": false
            },
            "source": [
                "<div class=\"not-editable individual\"><div><h4>Task B</h4> <span> Determine the average rate of change of <span class=\"m\"> $f$ </span> on the intervals <span class=\"m\"> $[2,7]$ </span> and <span class=\"m\"> $[7,12]$ </span>. Which average rate is greater? </span> </div></div>"
            ]
        },
        {
            "cell_type": "markdown",
            "metadata": {
                "collapsed": false,
                "editable": false
            },
            "source": [
                "<div class=\"not-editable individual\"><div><h4>Task C</h4> <span> Find the equation of the linear function <span class=\"m\"> $L$ </span> that passes through the points <span class=\"m\"> $(2,20)$ </span> and <span class=\"m\"> $(7,5)$ </span>. </span> </div></div>"
            ]
        },
        {
            "cell_type": "markdown",
            "metadata": {
                "collapsed": false,
                "editable": false
            },
            "source": [
                "<div class=\"not-editable individual\"><div><h4>Task D</h4> <span> Which average rate of change is greater? The average rate of change of <span class=\"m\"> $f$ </span> on <span class=\"m\"> $[0,2]$ </span> or the average rate of change of <span class=\"m\"> $L$ </span> on <span class=\"m\"> $[0,2]$ </span>? </span> </div></div>"
            ]
        },
        {
            "cell_type": "markdown",
            "metadata": {
                "collapsed": false,
                "editable": false
            },
            "source": [
                "<div class=\"not-editable individual\"><h2>Exercise 10</h2></div>"
            ]
        },
        {
            "cell_type": "markdown",
            "metadata": {
                "collapsed": false,
                "editable": false
            },
            "source": [
                "<div class=\"not-editable individual\"><span> A cup of hot coffee is brought outside on a cold winter morning in Winnipeg, Manitoba, where the surrounding temperature is <span class=\"m\"> $0$ </span> degrees Fahrenheit. A temperature probe records the coffee's temperature (in degrees Fahrenheit) every minute and generates the data shown in <a href=\"https://activecalculus.org/prelude/sec-exp-growth.html#T-ez-exp-growth-data\">Table 3.1.13</a>. </span></div>"
            ]
        },
        {
            "cell_type": "markdown",
            "metadata": {
                "collapsed": false,
                "editable": false
            },
            "source": [
                "<div class=\"not-editable individual\"><div><table><caption><b>Table 3.1.13.</b> The temperature, <span class=\"m\"> $F$ </span>, of the coffee at time <span class=\"m\"> $t$ </span>.</caption><tr><td><span class=\"m\"> $t$ </span></td><td><span class=\"m\"> $0$ </span></td><td><span class=\"m\"> $2$ </span></td><td><span class=\"m\"> $4$ </span></td><td><span class=\"m\"> $6$ </span></td><td><span class=\"m\"> $8$ </span></td><td><span class=\"m\"> $10$ </span></td></tr><tr><td><span class=\"m\"> $F(t)$ </span></td><td><span class=\"m\"> $175$ </span></td><td><span class=\"m\"> $129.64$ </span></td><td><span class=\"m\"> $96.04$ </span></td><td><span class=\"m\"> $71.15$ </span></td><td><span class=\"m\"> $52.71$ </span></td><td><span class=\"m\"> $39.05$ </span></td></tr></table></div></div>"
            ]
        },
        {
            "cell_type": "markdown",
            "metadata": {
                "collapsed": false,
                "editable": false
            },
            "source": [
                "<div class=\"not-editable individual\"><div><h4>Task A</h4> <span> Assume that the data in the table represents the overall trend of the behavior of <span class=\"m\"> $F$ </span>. Is <span class=\"m\"> $F$ </span> linear, exponential, or neither? Why? </span> </div></div>"
            ]
        },
        {
            "cell_type": "markdown",
            "metadata": {
                "collapsed": false,
                "editable": false
            },
            "source": [
                "<div class=\"not-editable individual\"><div><h4>Task B</h4> <span> Is it possible to determine an exact formula for <span class=\"m\"> $F$ </span>? If yes, do so and justify your formula; if not, explain why not. </span> </div></div>"
            ]
        },
        {
            "cell_type": "markdown",
            "metadata": {
                "collapsed": false,
                "editable": false
            },
            "source": [
                "<div class=\"not-editable individual\"><div><h4>Task C</h4> <span> What is the average rate of change of <span class=\"m\"> $F$ </span> on <span class=\"m\"> $[4,6]$ </span>? Write a sentence that explains the practical meaning of this value in the context of the overall exercise. </span> </div></div>"
            ]
        },
        {
            "cell_type": "markdown",
            "metadata": {
                "collapsed": false,
                "editable": false
            },
            "source": [
                "<div class=\"not-editable individual\"><div><h4>Task D</h4> <span> How do you think the data would appear if instead of being in a regular coffee cup, the coffee was contained in an insulated mug? </span> </div></div>"
            ]
        },
        {
            "cell_type": "markdown",
            "metadata": {
                "collapsed": false,
                "editable": false
            },
            "source": [
                "<div class=\"not-editable individual\"><h2>Exercise 11</h2></div>"
            ]
        },
        {
            "cell_type": "markdown",
            "metadata": {
                "collapsed": false,
                "editable": false
            },
            "source": [
                "<div class=\"not-editable individual\"><span> The amount (in milligrams) of a drug in a person's body following one dose is given by an exponential decay function. Let <span class=\"m\"> $A(t)$ </span> denote the amount of drug in the body at time <span class=\"m\"> $t$ </span> in hours after the dose was taken. In addition, suppose you know that <span class=\"m\"> $A(3) = 22.7$ </span> and <span class=\"m\"> $A(6) = 15.2$ </span>. </span></div>"
            ]
        },
        {
            "cell_type": "markdown",
            "metadata": {
                "collapsed": false,
                "editable": false
            },
            "source": [
                "<div class=\"not-editable individual\"><div><h4>Task A</h4> <span> Find a formula for <span class=\"m\"> $A$ </span> in the form <span class=\"m\"> $A(t) = ab^t$ </span>, where you determine the values of <span class=\"m\"> $a$ </span> and <span class=\"m\"> $b$ </span> exactly. </span> </div></div>"
            ]
        },
        {
            "cell_type": "markdown",
            "metadata": {
                "collapsed": false,
                "editable": false
            },
            "source": [
                "<div class=\"not-editable individual\"><div><h4>Task B</h4> <span> What is the size of the initial dose the person was given? </span> </div></div>"
            ]
        },
        {
            "cell_type": "markdown",
            "metadata": {
                "collapsed": false,
                "editable": false
            },
            "source": [
                "<div class=\"not-editable individual\"><div><h4>Task C</h4> <span> How much of the drug remains in the person's body <span class=\"m\"> $8$ </span> hours after the dose was taken? </span> </div></div>"
            ]
        },
        {
            "cell_type": "markdown",
            "metadata": {
                "collapsed": false,
                "editable": false
            },
            "source": [
                "<div class=\"not-editable individual\"><div><h4>Task D</h4> <span> Estimate how long it will take until there is less than <span class=\"m\"> $1$ </span> mg of the drug remaining in the body. </span> </div></div>"
            ]
        },
        {
            "cell_type": "markdown",
            "metadata": {
                "collapsed": false,
                "editable": false
            },
            "source": [
                "<div class=\"not-editable individual\"><div><h4>Task E</h4> <span> Compute the average rate of change of <span class=\"m\"> $A$ </span> on the intervals <span class=\"m\"> $[3,5]$ </span>, <span class=\"m\"> $[5,7]$ </span>, and <span class=\"m\"> $[7,9]$ </span>. Write at least one careful sentence to explain the meaning of the values you found, including appropriate units. Then write at least one additional sentence to explain any overall trend(s) you observe in the average rate of change. </span> </div></div>"
            ]
        },
        {
            "cell_type": "markdown",
            "metadata": {
                "collapsed": false,
                "editable": false
            },
            "source": [
                "<div class=\"not-editable individual\"><div><h4>Task F</h4> <span> Plot <span class=\"m\"> $A(t)$ </span> on an appropriate interval and label important points and features of the graph to highlight graphical interpretations of your answers in (b), (c), (d), and (e). </span> </div></div>"
            ]
        }
    ],
    "nbformat": 4,
    "nbformat_minor": 4
}
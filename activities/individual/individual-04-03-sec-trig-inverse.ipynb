{
    "cells": [
        {
            "cell_type": "markdown",
            "metadata": {
                "collapsed": false,
                "editable": false
            },
            "source": [
                "<div class=\"not-editable individual\"><style> .not-editable{padding:1em;border-radius:10px;box-shadow:4px 4px 3px #ddd;margin:5px;} .not-editable.individual{background-color:#eefff8;} .not-editable.team{background-color:#eef8ff;} .sidebyside{display:flex;justify-content:center;} .sidebyside > *{margin-right:1em;flex:1;} caption{caption-side:top;white-space: nowrap;color:rgba(0,0,0,.45)}} figcaption{padding-top:0.75em;padding-bottom:0.3em;color:rgba(0,0,0,.45)} .fillin{display:inline-block;width:10em;margin-left:0.2em;margin-right:0.2em;height:1em;border-bottom:1px black solid;} .fn{font-size:0.8em;color:rgba(0,0,0.45)} .newcommands{display:none;} tt{background-color:#f8f8f8;border:1px #888 solid;border-radius:2px;padding-left:0.2em;padding-right:0.2em;} img{background-color:#fff;} </style> <div><h1>Section 4.3 Inverses of trigonometric functions</h1><h2>Individual Notebook</h2><div><a href=\"https://activecalculus.org/prelude/sec-trig-inverse.html\">https://activecalculus.org/prelude/sec-trig-inverse.html</a></div></div></div>"
            ]
        },
        {
            "cell_type": "markdown",
            "metadata": {
                "collapsed": false,
                "editable": false
            },
            "source": [
                "<div class=\"not-editable individual\"><h2>Preview Activity 4.3.1</h2></div>"
            ]
        },
        {
            "cell_type": "markdown",
            "metadata": {
                "collapsed": false,
                "editable": false
            },
            "source": [
                "<div class=\"not-editable individual\"><span> Consider the plot of the standard cosine function in <a href=\"https://activecalculus.org/prelude/sec-trig-inverse.html#F-inverse-trig-PA-cos\">Figure 4.3.1</a> along with the emphasized portion of the graph on <span class=\"m\"> $[0,\\pi]$ </span>. </span></div>"
            ]
        },
        {
            "cell_type": "markdown",
            "metadata": {
                "collapsed": false,
                "editable": false
            },
            "source": [
                "<div class=\"not-editable individual\"><div><figure><figcaption><b>Figure 4.3.1.</b> The cosine function on <span class=\"m\"> $[-\\frac{5\\pi}{2},\\frac{5\\pi}{2}]$ </span> with the portion on <span class=\"m\"> $[0,\\pi]$ </span> emphasized.</figcaption><div><img src=\"images/inverse-trig-PA-cosine.svg\"/></div></figure></div></div>"
            ]
        },
        {
            "cell_type": "markdown",
            "metadata": {
                "collapsed": false,
                "editable": false
            },
            "source": [
                "<div class=\"not-editable individual\"><span> Let <span class=\"m\"> $g$ </span> be the function whose domain is <span class=\"m\"> $0 \\le t \\le \\pi$ </span> and whose outputs are determined by the rule <span class=\"m\"> $g(t) = \\cos(t)$ </span>. Note well: <span class=\"m\"> $g$ </span> is defined in terms of the cosine function, but because it has a different domain, it is not the cosine function. </span></div>"
            ]
        },
        {
            "cell_type": "markdown",
            "metadata": {
                "collapsed": false,
                "editable": false
            },
            "source": [
                "<div class=\"not-editable individual\"><div><h4>Task A</h4> <span> What is the domain of <span class=\"m\"> $g$ </span>? </span> </div></div>"
            ]
        },
        {
            "cell_type": "markdown",
            "metadata": {
                "collapsed": false,
                "editable": false
            },
            "source": [
                "<div class=\"not-editable individual\"><div><h4>Task B</h4> <span> What is the range of <span class=\"m\"> $g$ </span>? </span> </div></div>"
            ]
        },
        {
            "cell_type": "markdown",
            "metadata": {
                "collapsed": false,
                "editable": false
            },
            "source": [
                "<div class=\"not-editable individual\"><div><h4>Task C</h4> <span> Does <span class=\"m\"> $g$ </span> pass the horizontal line test? Why or why not? </span> </div></div>"
            ]
        },
        {
            "cell_type": "markdown",
            "metadata": {
                "collapsed": false,
                "editable": false
            },
            "source": [
                "<div class=\"not-editable individual\"><div><h4>Task D</h4> <span> Explain why <span class=\"m\"> $g$ </span> has an inverse function, <span class=\"m\"> $g^{-1}$ </span>, and state the domain and range of <span class=\"m\"> $g^{-1}$ </span>. </span> </div></div>"
            ]
        },
        {
            "cell_type": "markdown",
            "metadata": {
                "collapsed": false,
                "editable": false
            },
            "source": [
                "<div class=\"not-editable individual\"><div><h4>Task E</h4> <span> We know that <span class=\"m\"> $g(\\frac{\\pi}{4}) = \\frac{\\sqrt{2}}{2}$ </span>. What is the exact value of <span class=\"m\"> $g^{-1}(\\frac{\\sqrt{2}}{2})$ </span>? How about the exact value of <span class=\"m\"> $g^{-1}(-\\frac{\\sqrt{2}}{2})$ </span>? </span> </div></div>"
            ]
        },
        {
            "cell_type": "markdown",
            "metadata": {
                "collapsed": false,
                "editable": false
            },
            "source": [
                "<div class=\"not-editable individual\"><div><h4>Task F</h4> <span> Determine the exact values of <span class=\"m\"> $g^{-1}(-\\frac{1}{2})$ </span>, <span class=\"m\"> $g^{-1}(\\frac{\\sqrt{3}}{2})$ </span>, <span class=\"m\"> $g^{-1}(0)$ </span>, and <span class=\"m\"> $g^{-1}(-1)$ </span>. Use proper notation to label your results. </span> </div></div>"
            ]
        },
        {
            "cell_type": "markdown",
            "metadata": {
                "collapsed": false,
                "editable": false
            },
            "source": [
                "<div class=\"not-editable individual\"><h2>Exercise 5</h2></div>"
            ]
        },
        {
            "cell_type": "markdown",
            "metadata": {
                "collapsed": false,
                "editable": false
            },
            "source": [
                "<div class=\"not-editable individual\"><span> Use the special points on the unit circle (see, for instance, <a href=\"https://activecalculus.org/prelude/sec-circular-sine-cosine.html#F-circular-sine-all-16\">Figure 2.3.1</a>) to determine the exact values of each of the following numerical expressions. Do so without using a computational device. </span></div>"
            ]
        },
        {
            "cell_type": "markdown",
            "metadata": {
                "collapsed": false,
                "editable": false
            },
            "source": [
                "<div class=\"not-editable individual\"><div><h4>Task A</h4> <span> <span class=\"m\"> $\\arcsin(\\frac{1}{2})$ </span> </span> </div></div>"
            ]
        },
        {
            "cell_type": "markdown",
            "metadata": {
                "collapsed": false,
                "editable": false
            },
            "source": [
                "<div class=\"not-editable individual\"><div><h4>Task B</h4> <span> <span class=\"m\"> $\\arctan(-1)$ </span> </span> </div></div>"
            ]
        },
        {
            "cell_type": "markdown",
            "metadata": {
                "collapsed": false,
                "editable": false
            },
            "source": [
                "<div class=\"not-editable individual\"><div><h4>Task C</h4> <span> <span class=\"m\"> $\\arcsin(-\\frac{\\sqrt{3}}{2})$ </span> </span> </div></div>"
            ]
        },
        {
            "cell_type": "markdown",
            "metadata": {
                "collapsed": false,
                "editable": false
            },
            "source": [
                "<div class=\"not-editable individual\"><div><h4>Task D</h4> <span> <span class=\"m\"> $\\arctan(-\\frac{1}{\\sqrt{3}})$ </span> </span> </div></div>"
            ]
        },
        {
            "cell_type": "markdown",
            "metadata": {
                "collapsed": false,
                "editable": false
            },
            "source": [
                "<div class=\"not-editable individual\"><div><h4>Task E</h4> <span> <span class=\"m\"> $\\arccos(\\sin(\\frac{\\pi}{3}))$ </span> </span> </div></div>"
            ]
        },
        {
            "cell_type": "markdown",
            "metadata": {
                "collapsed": false,
                "editable": false
            },
            "source": [
                "<div class=\"not-editable individual\"><div><h4>Task F</h4> <span> <span class=\"m\"> $\\cos(\\arcsin(-\\frac{\\sqrt{3}}{2}))$ </span> </span> </div></div>"
            ]
        },
        {
            "cell_type": "markdown",
            "metadata": {
                "collapsed": false,
                "editable": false
            },
            "source": [
                "<div class=\"not-editable individual\"><div><h4>Task G</h4> <span> <span class=\"m\"> $\\tan(\\arcsin(-\\frac{\\sqrt{2}}{2}))$ </span> </span> </div></div>"
            ]
        },
        {
            "cell_type": "markdown",
            "metadata": {
                "collapsed": false,
                "editable": false
            },
            "source": [
                "<div class=\"not-editable individual\"><div><h4>Task H</h4> <span> <span class=\"m\"> $\\arctan(\\sin(\\frac{\\pi}{2}))$ </span> </span> </div></div>"
            ]
        },
        {
            "cell_type": "markdown",
            "metadata": {
                "collapsed": false,
                "editable": false
            },
            "source": [
                "<div class=\"not-editable individual\"><div><h4>Task I</h4> <span> <span class=\"m\"> $\\sin(\\arcsin(-\\frac{1}{2}))$ </span> </span> </div></div>"
            ]
        },
        {
            "cell_type": "markdown",
            "metadata": {
                "collapsed": false,
                "editable": false
            },
            "source": [
                "<div class=\"not-editable individual\"><div><h4>Task J</h4> <span> <span class=\"m\"> $\\arctan(\\tan(\\frac{7\\pi}{4}))$ </span> </span> </div></div>"
            ]
        },
        {
            "cell_type": "markdown",
            "metadata": {
                "collapsed": false,
                "editable": false
            },
            "source": [
                "<div class=\"not-editable individual\"><h2>Exercise 6</h2></div>"
            ]
        },
        {
            "cell_type": "markdown",
            "metadata": {
                "collapsed": false,
                "editable": false
            },
            "source": [
                "<div class=\"not-editable individual\"><span> For each of the following claims, determine whether the statement is true or false. If true, write one sentence to justify your reasoning. If false, give an example of a value that shows the claim fails. </span></div>"
            ]
        },
        {
            "cell_type": "markdown",
            "metadata": {
                "collapsed": false,
                "editable": false
            },
            "source": [
                "<div class=\"not-editable individual\"><div><h4>Task A</h4> <span> For any <span class=\"m\"> $y$ </span> such that <span class=\"m\"> $-1 \\le y \\le 1$ </span>, <span class=\"m\"> $\\sin(\\arcsin(y)) = y$ </span>. </span> </div></div>"
            ]
        },
        {
            "cell_type": "markdown",
            "metadata": {
                "collapsed": false,
                "editable": false
            },
            "source": [
                "<div class=\"not-editable individual\"><div><h4>Task B</h4> <span> For any real number <span class=\"m\"> $t$ </span>, <span class=\"m\"> $\\arcsin(\\sin(t)) = t$ </span>. </span> </div></div>"
            ]
        },
        {
            "cell_type": "markdown",
            "metadata": {
                "collapsed": false,
                "editable": false
            },
            "source": [
                "<div class=\"not-editable individual\"><div><h4>Task C</h4> <span> For any real number <span class=\"m\"> $t$ </span>, <span class=\"m\"> $\\arccos(\\cos(t)) = t$ </span>. </span> </div></div>"
            ]
        },
        {
            "cell_type": "markdown",
            "metadata": {
                "collapsed": false,
                "editable": false
            },
            "source": [
                "<div class=\"not-editable individual\"><div><h4>Task D</h4> <span> For any <span class=\"m\"> $y$ </span> such that <span class=\"m\"> $-1 \\le y \\le 1$ </span>, <span class=\"m\"> $\\cos(\\arccos(y)) = y$ </span>. </span> </div></div>"
            ]
        },
        {
            "cell_type": "markdown",
            "metadata": {
                "collapsed": false,
                "editable": false
            },
            "source": [
                "<div class=\"not-editable individual\"><div><h4>Task E</h4> <span> For any real number <span class=\"m\"> $y$ </span>, <span class=\"m\"> $\\tan(\\arctan(y)) = y$ </span>. </span> </div></div>"
            ]
        },
        {
            "cell_type": "markdown",
            "metadata": {
                "collapsed": false,
                "editable": false
            },
            "source": [
                "<div class=\"not-editable individual\"><div><h4>Task F</h4> <span> For any real number <span class=\"m\"> $t$ </span>, <span class=\"m\"> $\\arctan(\\tan(t)) = t$ </span>. </span> </div></div>"
            ]
        },
        {
            "cell_type": "markdown",
            "metadata": {
                "collapsed": false,
                "editable": false
            },
            "source": [
                "<div class=\"not-editable individual\"><h2>Exercise 7</h2></div>"
            ]
        },
        {
            "cell_type": "markdown",
            "metadata": {
                "collapsed": false,
                "editable": false
            },
            "source": [
                "<div class=\"not-editable individual\"><span> Let's consider the composite function <span class=\"m\"> $h(x) = \\cos(\\arcsin(x))$ </span>. This function makes sense to consider since the arcsine function produces an angle, at which the cosine function can then be evaluated. In the questions that follow, we investigate how to express <span class=\"m\"> $h$ </span> without using trigonometric functions at all. </span></div>"
            ]
        },
        {
            "cell_type": "markdown",
            "metadata": {
                "collapsed": false,
                "editable": false
            },
            "source": [
                "<div class=\"not-editable individual\"><div><h4>Task A</h4> <span> What is the domain of <span class=\"m\"> $h$ </span>? The range of <span class=\"m\"> $h$ </span>? </span> </div></div>"
            ]
        },
        {
            "cell_type": "markdown",
            "metadata": {
                "collapsed": false,
                "editable": false
            },
            "source": [
                "<div class=\"not-editable individual\"><div><h4>Task B</h4> <span> Since the arcsine function produces an angle, let's say that <span class=\"m\"> $\\theta = \\arcsin(x)$ </span>, so that <span class=\"m\"> $\\theta$ </span> is the angle whose sine is <span class=\"m\"> $x$ </span>. By definition, we can picture <span class=\"m\"> $\\theta$ </span> as an angle in a right triangle with hypotenuse <span class=\"m\"> $1$ </span> and a vertical leg of length <span class=\"m\"> $x$ </span>, as shown in <a href=\"https://activecalculus.org/prelude/sec-trig-inverse.html#F-inv-trig-cosarcsin\">Figure 4.3.10</a>. Use the Pythagorean Theorem to determine the length of the horizontal leg as a function of <span class=\"m\"> $x$ </span>. </span> <div class=\"sidebyside\"><div><figure><figcaption><b>Figure 4.3.10.</b> The right triangle that corresponds to the angle <span class=\"m\"> $\\theta = \\arcsin(x)$ </span>.</figcaption><div><img src=\"images/inv-trig-cosarcsin.svg\"/></div></figure></div><div><figure><figcaption><b>Figure 4.3.11.</b> The right triangle that corresponds to the angle <span class=\"m\"> $\\alpha = \\arctan(x)$ </span>.</figcaption><div><img src=\"images/inv-trig-cosarctan.svg\"/></div></figure></div></div> </div></div>"
            ]
        },
        {
            "cell_type": "markdown",
            "metadata": {
                "collapsed": false,
                "editable": false
            },
            "source": [
                "<div class=\"not-editable individual\"><div><h4>Task C</h4> <span> What is the value of <span class=\"m\"> $\\cos(\\theta)$ </span> as a function of <span class=\"m\"> $x$ </span>? What have we shown about <span class=\"m\"> $h(x) = \\cos(\\arcsin(x))$ </span>? </span> </div></div>"
            ]
        },
        {
            "cell_type": "markdown",
            "metadata": {
                "collapsed": false,
                "editable": false
            },
            "source": [
                "<div class=\"not-editable individual\"><div><h4>Task D</h4> <span> How about the function <span class=\"m\"> $p(x) = \\cos(\\arctan(x))$ </span>? How can you reason similarly to write <span class=\"m\"> $p$ </span> in a way that doesn't involve any trigonometric functions at all? (Hint: let <span class=\"m\"> $\\alpha = \\arctan(x)$ </span> and consider the right triangle in <a href=\"https://activecalculus.org/prelude/sec-trig-inverse.html#F-inv-trig-cosarctan\">Figure 4.3.11</a>.) </span> </div></div>"
            ]
        }
    ],
    "nbformat": 4,
    "nbformat_minor": 4
}
{
    "cells": [
        {
            "cell_type": "markdown",
            "metadata": {
                "collapsed": false,
                "editable": false
            },
            "source": [
                "<div class=\"not-editable individual\"><style> .not-editable{padding:1em;border-radius:10px;box-shadow:4px 4px 3px #ddd;margin:5px;} .not-editable.individual{background-color:#eefff8;} .not-editable.team{background-color:#eef8ff;} .sidebyside{display:flex;justify-content:center;} .sidebyside > *{margin-right:1em;flex:1;} caption{caption-side:top;white-space: nowrap;color:rgba(0,0,0,.45)}} figcaption{padding-top:0.75em;padding-bottom:0.3em;color:rgba(0,0,0,.45)} .fillin{display:inline-block;width:10em;margin-left:0.2em;margin-right:0.2em;height:1em;border-bottom:1px black solid;} .fn{font-size:0.8em;color:rgba(0,0,0.45)} .newcommands{display:none;} tt{background-color:#f8f8f8;border:1px #888 solid;border-radius:2px;padding-left:0.2em;padding-right:0.2em;} img{background-color:#fff;} </style> <div><h1>Section 3.2 Modeling with exponential functions</h1><h2>Individual Notebook</h2><div><a href=\"https://activecalculus.org/prelude/sec-exp-modeling.html\">https://activecalculus.org/prelude/sec-exp-modeling.html</a></div></div></div>"
            ]
        },
        {
            "cell_type": "markdown",
            "metadata": {
                "collapsed": false,
                "editable": false
            },
            "source": [
                "<div class=\"not-editable individual\"><h2>Preview Activity 3.2.1</h2></div>"
            ]
        },
        {
            "cell_type": "markdown",
            "metadata": {
                "collapsed": false,
                "editable": false
            },
            "source": [
                "<div class=\"not-editable individual\"><span> In Desmos, define <span class=\"m\"> $g(t) = ab^t+c$ </span> and accept the prompt for sliders for both <span class=\"m\"> $a$ </span> and <span class=\"m\"> $b$ </span>. Edit the sliders so that <span class=\"m\"> $a$ </span> has values from <span class=\"m\"> $a = 5$ </span> to <span class=\"m\"> $a = 50$ </span>, <span class=\"m\"> $b$ </span> has values from <span class=\"m\"> $b = 0.7$ </span> to <span class=\"m\"> $b = 1.3$ </span>, and <span class=\"m\"> $c$ </span> has values from <span class=\"m\"> $c = -5$ </span> to <span class=\"m\"> $c = 5$ </span> (also with a step-size of 0.01). In addition, in Desmos let <span class=\"m\"> $P = (0, g(0))$ </span> and check the box to show the label. Finally, zoom out so that the window shows an interval of <span class=\"m\"> $t$ </span>-values from <span class=\"m\"> $-30 \\le t \\le 30$ </span>. </span></div>"
            ]
        },
        {
            "cell_type": "markdown",
            "metadata": {
                "collapsed": false,
                "editable": false
            },
            "source": [
                "<div class=\"not-editable individual\"><div><h4>Task A</h4> <span> Set <span class=\"m\"> $b = 1.1$ </span> and explore the effects of changing the values of <span class=\"m\"> $a$ </span> and <span class=\"m\"> $c$ </span>. Write several sentences to summarize your observations. </span> </div></div>"
            ]
        },
        {
            "cell_type": "markdown",
            "metadata": {
                "collapsed": false,
                "editable": false
            },
            "source": [
                "<div class=\"not-editable individual\"><div><h4>Task B</h4> <span> Follow the directions for (a) again, this time with <span class=\"m\"> $b = 0.9$ </span> </span> </div></div>"
            ]
        },
        {
            "cell_type": "markdown",
            "metadata": {
                "collapsed": false,
                "editable": false
            },
            "source": [
                "<div class=\"not-editable individual\"><div><h4>Task C</h4> <span> Set <span class=\"m\"> $a = 5$ </span> and <span class=\"m\"> $c = 4$ </span>. Explore the effects of changing the value of <span class=\"m\"> $b$ </span>; be sure to include values of <span class=\"m\"> $b$ </span> both less than and greater than 1. Write several sentences to summarize your observations. </span> </div></div>"
            ]
        },
        {
            "cell_type": "markdown",
            "metadata": {
                "collapsed": false,
                "editable": false
            },
            "source": [
                "<div class=\"not-editable individual\"><div><h4>Task D</h4> <span> When <span class=\"m\"> $0 \\lt b \\lt 1$ </span>, what happens to the graph of <span class=\"m\"> $g$ </span> when we consider positive <span class=\"m\"> $t$ </span>-values that get larger and larger? </span> </div></div>"
            ]
        },
        {
            "cell_type": "markdown",
            "metadata": {
                "collapsed": false,
                "editable": false
            },
            "source": [
                "<div class=\"not-editable individual\"><h2>Exercise 4</h2></div>"
            ]
        },
        {
            "cell_type": "markdown",
            "metadata": {
                "collapsed": false,
                "editable": false
            },
            "source": [
                "<div class=\"not-editable individual\"><span> A can of soda has been in a refrigerator for several days; the refrigerator has temperature <span class=\"m\"> $41^\\circ$ </span> Fahrenheit. Upon removal, the soda is placed on a kitchen table in a room with surrounding temperature <span class=\"m\"> $72^\\circ$ </span>. Let <span class=\"m\"> $F(t)$ </span> represent the soda's temperature in degrees Fahrenheit at time <span class=\"m\"> $t$ </span> in minutes, where <span class=\"m\"> $t = 0$ </span> corresponds to the time the can is removed from the refrigerator. We know from Newton's Law of Cooling that <span class=\"m\"> $F$ </span> has form <span class=\"m\"> $F(t) = ab^t + c$ </span> for some constants <span class=\"m\"> $a$ </span>, <span class=\"m\"> $b$ </span>, and <span class=\"m\"> $c$ </span>, where <span class=\"m\"> $0 \\lt b \\lt 1$ </span>. </span></div>"
            ]
        },
        {
            "cell_type": "markdown",
            "metadata": {
                "collapsed": false,
                "editable": false
            },
            "source": [
                "<div class=\"not-editable individual\"><div><h4>Task A</h4> <span> What is the numerical value of the soda's initial temperature? What is the value of <span class=\"m\"> $F(0)$ </span> in terms of <span class=\"m\"> $a$ </span>, <span class=\"m\"> $b$ </span>, and <span class=\"m\"> $c$ </span>? What do these two observations tell us? </span> </div></div>"
            ]
        },
        {
            "cell_type": "markdown",
            "metadata": {
                "collapsed": false,
                "editable": false
            },
            "source": [
                "<div class=\"not-editable individual\"><div><h4>Task B</h4> <span> What is the numerical value of the soda's long-term temperature? What is the long-term value of <span class=\"m\"> $F(t)$ </span> in terms of <span class=\"m\"> $a$ </span>, <span class=\"m\"> $b$ </span>, and <span class=\"m\"> $c$ </span>? What do these two observations tell us? </span> </div></div>"
            ]
        },
        {
            "cell_type": "markdown",
            "metadata": {
                "collapsed": false,
                "editable": false
            },
            "source": [
                "<div class=\"not-editable individual\"><div><h4>Task C</h4> <span> Using your work in (a) and (b), determine the numerical values of <span class=\"m\"> $a$ </span> and <span class=\"m\"> $c$ </span>. </span> </div></div>"
            ]
        },
        {
            "cell_type": "markdown",
            "metadata": {
                "collapsed": false,
                "editable": false
            },
            "source": [
                "<div class=\"not-editable individual\"><div><h4>Task D</h4> <span> Suppose it can be determined that <span class=\"m\"> $b = 0.931$ </span>. What is the soda's temperature after <span class=\"m\"> $10$ </span> minutes? </span> </div></div>"
            ]
        },
        {
            "cell_type": "markdown",
            "metadata": {
                "collapsed": false,
                "editable": false
            },
            "source": [
                "<div class=\"not-editable individual\"><h2>Exercise 5</h2></div>"
            ]
        },
        {
            "cell_type": "markdown",
            "metadata": {
                "collapsed": false,
                "editable": false
            },
            "source": [
                "<div class=\"not-editable individual\"><span> Consider the graphs of the following four functions <span class=\"m\"> $p$ </span>, <span class=\"m\"> $q$ </span>, <span class=\"m\"> $r$ </span>, and <span class=\"m\"> $s$ </span>. Each is a shifted exponential function of the form <span class=\"m\"> $ab^t + c$ </span>. </span></div>"
            ]
        },
        {
            "cell_type": "markdown",
            "metadata": {
                "collapsed": false,
                "editable": false
            },
            "source": [
                "<div class=\"not-editable individual\"><div class=\"sidebyside\"><div><img src=\"images/modeling-exp-ez-p.svg\"/></div><div><img src=\"images/modeling-exp-ez-q.svg\"/></div></div></div>"
            ]
        },
        {
            "cell_type": "markdown",
            "metadata": {
                "collapsed": false,
                "editable": false
            },
            "source": [
                "<div class=\"not-editable individual\"><div class=\"sidebyside\"><div><img src=\"images/modeling-exp-ez-r.svg\"/></div><div><img src=\"images/modeling-exp-ez-s.svg\"/></div></div></div>"
            ]
        },
        {
            "cell_type": "markdown",
            "metadata": {
                "collapsed": false,
                "editable": false
            },
            "source": [
                "<div class=\"not-editable individual\"><span> For each function <span class=\"m\"> $p$ </span>, <span class=\"m\"> $q$ </span>, <span class=\"m\"> $r$ </span>, and <span class=\"m\"> $s$ </span>, determine <ul><li> <span> whether <span class=\"m\"> $a \\gt 0$ </span> or <span class=\"m\"> $a \\lt 0$ </span>; </span> </li><li> <span> whether <span class=\"m\"> $0 \\lt b \\lt 1$ </span> or <span class=\"m\"> $b \\gt 1$ </span>; </span> </li><li> <span> whether <span class=\"m\"> $c \\gt 0$ </span>, <span class=\"m\"> $c = 0$ </span>, or <span class=\"m\"> $c \\lt 0$ </span>; and </span> </li><li> <span> the range of the function in terms of <span class=\"m\"> $c$ </span>. </span> </li></ul> </span></div>"
            ]
        },
        {
            "cell_type": "markdown",
            "metadata": {
                "collapsed": false,
                "editable": false
            },
            "source": [
                "<div class=\"not-editable individual\"><h2>Exercise 6</h2></div>"
            ]
        },
        {
            "cell_type": "markdown",
            "metadata": {
                "collapsed": false,
                "editable": false
            },
            "source": [
                "<div class=\"not-editable individual\"><span> A cup of coffee has its temperature, <span class=\"m\"> $C(t)$ </span>, measured in degrees Celsius. When poured outdoors on a cold morning, its temperature is <span class=\"m\"> $C(0) = 95$ </span>. Ten minutes later, <span class=\"m\"> $C(10) = 80$ </span>. If the surrounding temperature outside is <span class=\"m\"> $0^\\circ$ </span> Celsius, find a formula for a function <span class=\"m\"> $C(t)$ </span> that models the coffee's temperature at time <span class=\"m\"> $t$ </span>. </span></div>"
            ]
        },
        {
            "cell_type": "markdown",
            "metadata": {
                "collapsed": false,
                "editable": false
            },
            "source": [
                "<div class=\"not-editable individual\"><span> In addition, recall that we can convert between Celsius and Fahrenheit according to the equations <span class=\"m\"> $F = \\frac{9}{5}C + 32$ </span> and <span class=\"m\"> $C = \\frac{5}{9}(F-32)$ </span>. Use this information to also find a formula for <span class=\"m\"> $F(t)$ </span>, the coffee's Fahrenheit temperature at time <span class=\"m\"> $t$ </span>. What is similar and what is different regarding the functions <span class=\"m\"> $C(t)$ </span> and <span class=\"m\"> $F(t)$ </span>? </span></div>"
            ]
        }
    ],
    "nbformat": 4,
    "nbformat_minor": 4
}
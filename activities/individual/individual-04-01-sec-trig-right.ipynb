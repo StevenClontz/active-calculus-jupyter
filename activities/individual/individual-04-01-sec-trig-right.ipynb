{
    "cells": [
        {
            "cell_type": "markdown",
            "metadata": {
                "collapsed": false,
                "editable": false
            },
            "source": [
                "<div class=\"not-editable individual\"><style> .not-editable{padding:1em;border-radius:10px;box-shadow:4px 4px 3px #ddd;margin:5px;} .not-editable.individual{background-color:#eefff8;} .not-editable.team{background-color:#eef8ff;} .sidebyside{display:flex;justify-content:center;} .sidebyside > *{margin-right:1em;flex:1;} caption{caption-side:top;white-space: nowrap;color:rgba(0,0,0,.45)}} figcaption{padding-top:0.75em;padding-bottom:0.3em;color:rgba(0,0,0,.45)} .fillin{display:inline-block;width:10em;margin-left:0.2em;margin-right:0.2em;height:1em;border-bottom:1px black solid;} .fn{font-size:0.8em;color:rgba(0,0,0.45)} .newcommands{display:none;} tt{background-color:#f8f8f8;border:1px #888 solid;border-radius:2px;padding-left:0.2em;padding-right:0.2em;} img{background-color:#fff;} </style> <div><h1>Section 4.1 Right triangles</h1><h2>Individual Notebook</h2><div><a href=\"https://activecalculus.org/prelude/sec-trig-right.html\">https://activecalculus.org/prelude/sec-trig-right.html</a></div></div></div>"
            ]
        },
        {
            "cell_type": "markdown",
            "metadata": {
                "collapsed": false,
                "editable": false
            },
            "source": [
                "<div class=\"not-editable individual\"><h2>Preview Activity 4.1.1</h2></div>"
            ]
        },
        {
            "cell_type": "markdown",
            "metadata": {
                "collapsed": false,
                "editable": false
            },
            "source": [
                "<div class=\"not-editable individual\"><span> For each of the following situations, sketch a right triangle that satisfies the given conditions, and then either determine the requested missing information in the triangle or explain why you don't have enough information to determine it. Assume that all angles are being considered in radian measure. </span></div>"
            ]
        },
        {
            "cell_type": "markdown",
            "metadata": {
                "collapsed": false,
                "editable": false
            },
            "source": [
                "<div class=\"not-editable individual\"><div><h4>Task A</h4> <span> The length of the other leg of a right triangle with hypotenuse of length <span class=\"m\"> $1$ </span> and one leg of length <span class=\"m\"> $\\frac{3}{5}$ </span>. </span> </div></div>"
            ]
        },
        {
            "cell_type": "markdown",
            "metadata": {
                "collapsed": false,
                "editable": false
            },
            "source": [
                "<div class=\"not-editable individual\"><div><h4>Task B</h4> <span> The lengths of the two legs in a right triangle with hypotenuse of length <span class=\"m\"> $1$ </span> where one of the non-right angles measures <span class=\"m\"> $\\frac{\\pi}{3}$ </span>. </span> </div></div>"
            ]
        },
        {
            "cell_type": "markdown",
            "metadata": {
                "collapsed": false,
                "editable": false
            },
            "source": [
                "<div class=\"not-editable individual\"><div><h4>Task C</h4> <span> The length of the other leg of a right triangle with hypotenuse of length <span class=\"m\"> $7$ </span> and one leg of length <span class=\"m\"> $6$ </span>. </span> </div></div>"
            ]
        },
        {
            "cell_type": "markdown",
            "metadata": {
                "collapsed": false,
                "editable": false
            },
            "source": [
                "<div class=\"not-editable individual\"><div><h4>Task D</h4> <span> The lengths of the two legs in a right triangle with hypotenuse <span class=\"m\"> $5$ </span> and where one of the non-right angles measures <span class=\"m\"> $\\frac{\\pi}{4}$ </span>. </span> </div></div>"
            ]
        },
        {
            "cell_type": "markdown",
            "metadata": {
                "collapsed": false,
                "editable": false
            },
            "source": [
                "<div class=\"not-editable individual\"><div><h4>Task E</h4> <span> The length of the other leg of a right triangle with hypotenuse of length <span class=\"m\"> $1$ </span> and one leg of length <span class=\"m\"> $\\cos(0.7)$ </span>. </span> </div></div>"
            ]
        },
        {
            "cell_type": "markdown",
            "metadata": {
                "collapsed": false,
                "editable": false
            },
            "source": [
                "<div class=\"not-editable individual\"><div><h4>Task F</h4> <span> The measures of the two angles in a right triangle with hypotenuse of length <span class=\"m\"> $1$ </span> where the two legs have lengths <span class=\"m\"> $\\cos(1.1)$ </span> and <span class=\"m\"> $\\sin(1.1)$ </span>, respectively. </span> </div></div>"
            ]
        },
        {
            "cell_type": "markdown",
            "metadata": {
                "collapsed": false,
                "editable": false
            },
            "source": [
                "<div class=\"not-editable individual\"><h2>Exercise 3</h2></div>"
            ]
        },
        {
            "cell_type": "markdown",
            "metadata": {
                "collapsed": false,
                "editable": false
            },
            "source": [
                "<div class=\"not-editable individual\"><span> A person standing <span class=\"m\"> $50$ </span> feet away from a streetlight observes that they cast a shadow that is <span class=\"m\"> $14$ </span> feet long. If a ray of light from the streetlight to the tip of the person's shadow forms an angle of <span class=\"m\"> $27.5^\\circ$ </span> with the ground, how tall is the person and how tall is the streetlight? What other information about the situation can you determine? </span></div>"
            ]
        },
        {
            "cell_type": "markdown",
            "metadata": {
                "collapsed": false,
                "editable": false
            },
            "source": [
                "<div class=\"not-editable individual\"><h2>Exercise 4</h2></div>"
            ]
        },
        {
            "cell_type": "markdown",
            "metadata": {
                "collapsed": false,
                "editable": false
            },
            "source": [
                "<div class=\"not-editable individual\"><span> A person watching a rocket launch uses a laser range-finder to measure the distance from themselves to the rocket. The range-finder also reports the angle at which the finder is being elevated from horizontal. At a certain instant, the range-finder reports that it is elevated at an angle of <span class=\"m\"> $17.4^\\circ$ </span> from horizontal and that the distance to the rocket is <span class=\"m\"> $1650$ </span> meters. How high off the ground is the rocket? Assuming a straight-line vertical path for the rocket that is perpendicular to the earth, how far away was the rocket from the range-finder at the moment it was launched? </span></div>"
            ]
        },
        {
            "cell_type": "markdown",
            "metadata": {
                "collapsed": false,
                "editable": false
            },
            "source": [
                "<div class=\"not-editable individual\"><h2>Exercise 5</h2></div>"
            ]
        },
        {
            "cell_type": "markdown",
            "metadata": {
                "collapsed": false,
                "editable": false
            },
            "source": [
                "<div class=\"not-editable individual\"><span> A trough is constructed by bending a <span class=\"m\"> $4' \\times 24'$ </span> rectangular sheet of metal. Two symmetric folds <span class=\"m\"> $2$ </span> feet apart are made parallel to the longest side of the rectangle so that the trough has cross-sections in the shape of a trapezoid, as pictured in <a href=\"https://activecalculus.org/prelude/sec-trig-right.html#F-right-triangle-trough\">Figure 4.1.9</a>. Determine a formula for <span class=\"m\"> $V(\\theta)$ </span>, the volume of the trough as a function of <span class=\"m\"> $\\theta$ </span>. </span></div>"
            ]
        },
        {
            "cell_type": "markdown",
            "metadata": {
                "collapsed": false,
                "editable": false
            },
            "source": [
                "<div class=\"not-editable individual\"><div><figure><figcaption><b>Figure 4.1.9.</b> A cross-section of the trough.</figcaption><div><img src=\"images/right-triangle-trough.svg\"/></div></figure></div></div>"
            ]
        }
    ],
    "nbformat": 4,
    "nbformat_minor": 4
}
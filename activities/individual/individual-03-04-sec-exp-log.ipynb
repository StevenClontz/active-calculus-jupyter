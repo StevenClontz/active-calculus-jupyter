{
    "cells": [
        {
            "cell_type": "markdown",
            "metadata": {
                "collapsed": false,
                "editable": false
            },
            "source": [
                "<div class=\"not-editable individual\"><style> .not-editable{padding:1em;border-radius:10px;box-shadow:4px 4px 3px #ddd;margin:5px;} .not-editable.individual{background-color:#eefff8;} .not-editable.team{background-color:#eef8ff;} .sidebyside{display:flex;justify-content:center;} .sidebyside > *{margin-right:1em;flex:1;} caption{caption-side:top;white-space: nowrap;color:rgba(0,0,0,.45)}} figcaption{padding-top:0.75em;padding-bottom:0.3em;color:rgba(0,0,0,.45)} .fillin{display:inline-block;width:10em;margin-left:0.2em;margin-right:0.2em;height:1em;border-bottom:1px black solid;} .fn{font-size:0.8em;color:rgba(0,0,0.45)} .newcommands{display:none;} tt{background-color:#f8f8f8;border:1px #888 solid;border-radius:2px;padding-left:0.2em;padding-right:0.2em;} img{background-color:#fff;} </style> <div><h1>Section 3.4 What a logarithm is</h1><h2>Individual Notebook</h2><div><a href=\"https://activecalculus.org/prelude/sec-exp-log.html\">https://activecalculus.org/prelude/sec-exp-log.html</a></div></div></div>"
            ]
        },
        {
            "cell_type": "markdown",
            "metadata": {
                "collapsed": false,
                "editable": false
            },
            "source": [
                "<div class=\"not-editable individual\"><h2>Preview Activity 3.4.1</h2></div>"
            ]
        },
        {
            "cell_type": "markdown",
            "metadata": {
                "collapsed": false,
                "editable": false
            },
            "source": [
                "<div class=\"not-editable individual\"><span> Let <span class=\"m\"> $P(t)$ </span> be the <span class=\"q\"> \"powers of 10\" </span> function, which is given by <span class=\"m\"> $P(t) = 10^t$ </span>. </span></div>"
            ]
        },
        {
            "cell_type": "markdown",
            "metadata": {
                "collapsed": false,
                "editable": false
            },
            "source": [
                "<div class=\"not-editable individual\"><div><h4>Task A</h4> <span> Complete <a href=\"https://activecalculus.org/prelude/sec-exp-log.html#T-PA-exp-log-10s\">Table 3.4.1</a> to generate certain values of <span class=\"m\"> $P$ </span>. </span> <div><table><caption><b>Table 3.4.1.</b> Select values of the powers of <span class=\"m\"> $10$ </span> function.</caption><tr><td><span class=\"m\"> $t$ </span></td><td>-3</td><td>-2</td><td>-1</td><td>0</td><td>1</td><td>2</td><td>3</td></tr><tr><td><span class=\"m\"> $y = P(t) = 10^t$ </span></td><td/><td/><td/><td/><td/><td/><td/></tr></table></div> </div></div>"
            ]
        },
        {
            "cell_type": "markdown",
            "metadata": {
                "collapsed": false,
                "editable": false
            },
            "source": [
                "<div class=\"not-editable individual\"><div><h4>Task B</h4> <span> Why does <span class=\"m\"> $P$ </span> have an inverse function? </span> </div></div>"
            ]
        },
        {
            "cell_type": "markdown",
            "metadata": {
                "collapsed": false,
                "editable": false
            },
            "source": [
                "<div class=\"not-editable individual\"><div><h4>Task C</h4> <span> Since <span class=\"m\"> $P$ </span> has an inverse function, we know there exists some other function, say <span class=\"m\"> $L$ </span>, such that writing <span class=\"q\"> \"<span class=\"m\"> $y = P(t)$ </span>\" </span> says the exact same thing as writing <span class=\"q\"> \"<span class=\"m\"> $t = L(y)$ </span>\" </span>. In words, where <span class=\"m\"> $P$ </span> produces the result of raising <span class=\"m\"> $10$ </span> to a given power, the function <span class=\"m\"> $L$ </span> reverses this process and instead tells us the power to which we need to raise <span class=\"m\"> $10$ </span>, given a desired result. Complete <a href=\"https://activecalculus.org/prelude/sec-exp-log.html#T-PA-exp-log-L\">Table 3.4.2</a> to generate a collection of values of <span class=\"m\"> $L$ </span>. </span> <div><table><caption><b>Table 3.4.2.</b> Select values of the function <span class=\"m\"> $L$ </span> that is the inverse of <span class=\"m\"> $P$ </span>.</caption><tr><td><span class=\"m\"> $y$ </span></td><td><span class=\"m\"> $10^{-3}$ </span></td><td><span class=\"m\"> $10^{-2}$ </span></td><td><span class=\"m\"> $10^{-1}$ </span></td><td><span class=\"m\"> $10^{0}$ </span></td><td><span class=\"m\"> $10^{1}$ </span></td><td><span class=\"m\"> $10^{2}$ </span></td><td><span class=\"m\"> $10^{3}$ </span></td></tr><tr><td/><td/><td/><td/><td/><td/><td/><td/></tr><tr><td><span class=\"m\"> $L(y)$ </span></td><td/><td/><td/><td/><td/><td/><td/></tr></table></div> </div></div>"
            ]
        },
        {
            "cell_type": "markdown",
            "metadata": {
                "collapsed": false,
                "editable": false
            },
            "source": [
                "<div class=\"not-editable individual\"><div><h4>Task D</h4> <span> What are the domain and range of the function <span class=\"m\"> $P$ </span>? What are the domain and range of the function <span class=\"m\"> $L$ </span>? </span> </div></div>"
            ]
        },
        {
            "cell_type": "markdown",
            "metadata": {
                "collapsed": false,
                "editable": false
            },
            "source": [
                "<div class=\"not-editable individual\"><h2>Exercise 6</h2></div>"
            ]
        },
        {
            "cell_type": "markdown",
            "metadata": {
                "collapsed": false,
                "editable": false
            },
            "source": [
                "<div class=\"not-editable individual\"><span> Recall that when a function <span class=\"m\"> $y = f(x)$ </span> has an inverse function, the two equations <span class=\"m\"> $y = f(x)$ </span> and <span class=\"m\"> $x = f^{-1}(y)$ </span> say the same thing from different perspectives: the first equation expresses <span class=\"m\"> $y$ </span> in terms of <span class=\"m\"> $x$ </span>, while the second expresses <span class=\"m\"> $x$ </span> in terms of <span class=\"m\"> $y$ </span>. When <span class=\"m\"> $y = f(x) = e^x$ </span>, we know its inverse is <span class=\"m\"> $x = f^{-1}(y) = \\ln(y)$ </span>. Through logarithms, we now have the ability to find the inverse of many different exponential functions. In particular, because exponential functions and their transformations are either always increasing or always decreasing, any function of the form <span class=\"m\"> $y = f(x) = ae^{-kx} + c$ </span> will have an inverse function. </span></div>"
            ]
        },
        {
            "cell_type": "markdown",
            "metadata": {
                "collapsed": false,
                "editable": false
            },
            "source": [
                "<div class=\"not-editable individual\"><span> Find the inverse function for each given function by solving algebraically for <span class=\"m\"> $x$ </span> as a function of <span class=\"m\"> $y$ </span>. In addition, state the domain and range of the given function and the domain and range of of the inverse function. </span></div>"
            ]
        },
        {
            "cell_type": "markdown",
            "metadata": {
                "collapsed": false,
                "editable": false
            },
            "source": [
                "<div class=\"not-editable individual\"><div><h4>Task A</h4> <span> <span class=\"m\"> $y = g(x) = e^{-0.25x}$ </span> </span> </div></div>"
            ]
        },
        {
            "cell_type": "markdown",
            "metadata": {
                "collapsed": false,
                "editable": false
            },
            "source": [
                "<div class=\"not-editable individual\"><div><h4>Task B</h4> <span> <span class=\"m\"> $ y = h(x) = 2e^{x} + 1 $ </span> </span> </div></div>"
            ]
        },
        {
            "cell_type": "markdown",
            "metadata": {
                "collapsed": false,
                "editable": false
            },
            "source": [
                "<div class=\"not-editable individual\"><div><h4>Task C</h4> <span> <span class=\"m\"> $ y = r(x) = 21 + 15e^{-0.1x} $ </span> </span> </div></div>"
            ]
        },
        {
            "cell_type": "markdown",
            "metadata": {
                "collapsed": false,
                "editable": false
            },
            "source": [
                "<div class=\"not-editable individual\"><div><h4>Task D</h4> <span> <span class=\"m\"> $y = s(x) = 72 - 40e^{-0.05x}$ </span> </span> </div></div>"
            ]
        },
        {
            "cell_type": "markdown",
            "metadata": {
                "collapsed": false,
                "editable": false
            },
            "source": [
                "<div class=\"not-editable individual\"><div><h4>Task E</h4> <span> <span class=\"m\"> $y = u(x) = -5e^{3x-4} + 8$ </span> </span> </div></div>"
            ]
        },
        {
            "cell_type": "markdown",
            "metadata": {
                "collapsed": false,
                "editable": false
            },
            "source": [
                "<div class=\"not-editable individual\"><div><h4>Task F</h4> <span> <span class=\"m\"> $y = w(x) = 3\\ln(x) + 4$ </span> </span> </div></div>"
            ]
        },
        {
            "cell_type": "markdown",
            "metadata": {
                "collapsed": false,
                "editable": false
            },
            "source": [
                "<div class=\"not-editable individual\"><div><h4>Task G</h4> <span> <span class=\"m\"> $y = z(x) = -0.2 \\ln(2x - 5) + 1$ </span> </span> </div></div>"
            ]
        },
        {
            "cell_type": "markdown",
            "metadata": {
                "collapsed": false,
                "editable": false
            },
            "source": [
                "<div class=\"not-editable individual\"><h2>Exercise 7</h2></div>"
            ]
        },
        {
            "cell_type": "markdown",
            "metadata": {
                "collapsed": false,
                "editable": false
            },
            "source": [
                "<div class=\"not-editable individual\"><span> We've seen that any exponential function <span class=\"m\"> $f(t) = b^t$ </span> (<span class=\"m\"> $b \\gt 0$ </span>, <span class=\"m\"> $b \\ne 1$ </span>) can be written in the form <span class=\"m\"> $f(t) = e^{kt}$ </span> for some real number <span class=\"m\"> $k$ </span>, and this is because <span class=\"m\"> $f(t) = b^t$ </span> is a horizontal scaling of the function <span class=\"m\"> $E(t) = e^{t}$ </span>. In this exercise, we explore how the natural logarithm can be scaled to achieve a logarithm of any base. </span></div>"
            ]
        },
        {
            "cell_type": "markdown",
            "metadata": {
                "collapsed": false,
                "editable": false
            },
            "source": [
                "<div class=\"not-editable individual\"><span> Let <span class=\"m\"> $b \\gt 1$ </span>. Because the function <span class=\"m\"> $y = f(t) = b^t$ </span> has an inverse function, it makes sense to define its inverse like we did when <span class=\"m\"> $b = 10$ </span> or <span class=\"m\"> $b = e$ </span>. The base-<span class=\"m\"> $b$ </span> logarithm, logarithmbase-<span class=\"m\"> $b$ </span>definition denoted <span class=\"m\"> $\\log_b(y)$ </span> is defined to be the power to which we raise <span class=\"m\"> $b$ </span> to get <span class=\"m\"> $y$ </span>. Thus, writing <span class=\"m\"> $y = f(t) = b^t$ </span> is the same as writing <span class=\"m\"> $t = f^{-1}(y) = \\log_b(y)$ </span>. </span></div>"
            ]
        },
        {
            "cell_type": "markdown",
            "metadata": {
                "collapsed": false,
                "editable": false
            },
            "source": [
                "<div class=\"not-editable individual\"><span> In Desmos, the natural logarithm function is given by ln(t), while the base-<span class=\"m\"> $10$ </span> logarithm by log(t). To get a logarithm of a different base, such as a base-<span class=\"m\"> $2$ </span> logarithm, type log_2(t) (the underscore will generate a subscript; then use the right arrow to get out of subscript mode). </span></div>"
            ]
        },
        {
            "cell_type": "markdown",
            "metadata": {
                "collapsed": false,
                "editable": false
            },
            "source": [
                "<div class=\"not-editable individual\"><span> In a new Desmos worksheet, enter V(t) = k * ln(t) and accept the slider for <span class=\"m\"> $k$ </span>. Set the lower and upper bounds for the slider to <span class=\"m\"> $0.01$ </span> and <span class=\"m\"> $15$ </span>, respectively. </span></div>"
            ]
        },
        {
            "cell_type": "markdown",
            "metadata": {
                "collapsed": false,
                "editable": false
            },
            "source": [
                "<div class=\"not-editable individual\"><div><h4>Task A</h4> <span> Define <span class=\"m\"> $f(t) = \\log_2(t)$ </span> in Desmos. Can you find a value of <span class=\"m\"> $k$ </span> for which <span class=\"m\"> $\\log_2(t) = k\\ln(t)$ </span>? If yes, what is the value? If not, why not? </span> </div></div>"
            ]
        },
        {
            "cell_type": "markdown",
            "metadata": {
                "collapsed": false,
                "editable": false
            },
            "source": [
                "<div class=\"not-editable individual\"><div><h4>Task B</h4> <span> Repeat (a) for the functions <span class=\"m\"> $g(t) = \\log_3(t)$ </span>, <span class=\"m\"> $h(t) = \\log_5(t)$ </span>, and <span class=\"m\"> $p(t) = \\log_{1.25}(t)$ </span>. What pattern(s) do you observe? </span> </div></div>"
            ]
        },
        {
            "cell_type": "markdown",
            "metadata": {
                "collapsed": false,
                "editable": false
            },
            "source": [
                "<div class=\"not-editable individual\"><div><h4>Task C</h4> <span> True or false: for any value of <span class=\"m\"> $b \\gt 1$ </span>, the function <span class=\"m\"> $\\log_b(t)$ </span> can be viewed as a vertical scaling of <span class=\"m\"> $\\ln(t)$ </span>. </span> </div></div>"
            ]
        },
        {
            "cell_type": "markdown",
            "metadata": {
                "collapsed": false,
                "editable": false
            },
            "source": [
                "<div class=\"not-editable individual\"><div><h4>Task D</h4> <span> Compute the following values: <span class=\"m\"> $\\frac{1}{\\ln(2)}$ </span>, <span class=\"m\"> $\\frac{1}{\\ln(3)}$ </span>, <span class=\"m\"> $\\frac{1}{\\ln(5)}$ </span>, and <span class=\"m\"> $\\frac{1}{\\ln(1.25)}$ </span>. What do you notice about these values compared to those of <span class=\"m\"> $k$ </span> you found in (a) and (b)? </span> </div></div>"
            ]
        },
        {
            "cell_type": "markdown",
            "metadata": {
                "collapsed": false,
                "editable": false
            },
            "source": [
                "<div class=\"not-editable individual\"><h2>Exercise 8</h2></div>"
            ]
        },
        {
            "cell_type": "markdown",
            "metadata": {
                "collapsed": false,
                "editable": false
            },
            "source": [
                "<div class=\"not-editable individual\"><span> A can of soda is removed from a refrigerator at time <span class=\"m\"> $t = 0$ </span> (in minutes) and its temperature, <span class=\"m\"> $F(t)$ </span>, in degrees Fahrenheit, is computed at regular intervals. Based on the data, a model is formulated for the object's temperature, given by <span class=\"m\"> $$ F(t) = 74.4 - 38.8e^{-0.05t} $$ </span>. </span></div>"
            ]
        },
        {
            "cell_type": "markdown",
            "metadata": {
                "collapsed": false,
                "editable": false
            },
            "source": [
                "<div class=\"not-editable individual\"><div><h4>Task A</h4> <span> Determine the exact time when the soda's temperature is <span class=\"m\"> $50^\\circ$ </span>. </span> </div></div>"
            ]
        },
        {
            "cell_type": "markdown",
            "metadata": {
                "collapsed": false,
                "editable": false
            },
            "source": [
                "<div class=\"not-editable individual\"><div><h4>Task B</h4> <span> Is there ever a time when the soda's temperature is <span class=\"m\"> $36^\\circ$ </span>? Why or why not? </span> </div></div>"
            ]
        },
        {
            "cell_type": "markdown",
            "metadata": {
                "collapsed": false,
                "editable": false
            },
            "source": [
                "<div class=\"not-editable individual\"><div><h4>Task C</h4> <span> For the model, its domain is the set of all positive real numbers, <span class=\"m\"> $t \\gt 0$ </span>. What is its range? </span> </div></div>"
            ]
        },
        {
            "cell_type": "markdown",
            "metadata": {
                "collapsed": false,
                "editable": false
            },
            "source": [
                "<div class=\"not-editable individual\"><div><h4>Task D</h4> <span> Find a formula for the inverse of the function <span class=\"m\"> $y = F(t)$ </span>. What is the meaning of this function? </span> </div></div>"
            ]
        }
    ],
    "nbformat": 4,
    "nbformat_minor": 4
}
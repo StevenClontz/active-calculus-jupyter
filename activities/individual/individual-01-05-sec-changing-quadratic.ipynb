{
    "cells": [
        {
            "cell_type": "markdown",
            "metadata": {
                "collapsed": false,
                "editable": false
            },
            "source": [
                "<div class=\"not-editable individual\"><style> .not-editable{padding:1em;border-radius:10px;box-shadow:4px 4px 3px #ddd;margin:5px;} .not-editable.individual{background-color:#eefff8;} .not-editable.team{background-color:#eef8ff;} .sidebyside{display:flex;justify-content:center;} .sidebyside > *{margin-right:1em;flex:1;} caption{caption-side:top;white-space: nowrap;color:rgba(0,0,0,.45)}} figcaption{padding-top:0.75em;padding-bottom:0.3em;color:rgba(0,0,0,.45)} .fillin{display:inline-block;width:10em;margin-left:0.2em;margin-right:0.2em;height:1em;border-bottom:1px black solid;} .fn{font-size:0.8em;color:rgba(0,0,0.45)} .newcommands{display:none;} tt{background-color:#f8f8f8;border:1px #888 solid;border-radius:2px;padding-left:0.2em;padding-right:0.2em;} img{background-color:#fff;} </style> <div><h1>Section 1.5 Quadratic Functions</h1><h2>Individual Notebook</h2><div><a href=\"https://activecalculus.org/prelude/sec-changing-quadratic.html\">https://activecalculus.org/prelude/sec-changing-quadratic.html</a></div></div></div>"
            ]
        },
        {
            "cell_type": "markdown",
            "metadata": {
                "collapsed": false,
                "editable": false
            },
            "source": [
                "<div class=\"not-editable individual\"><h2>Preview Activity 1.5.1</h2></div>"
            ]
        },
        {
            "cell_type": "markdown",
            "metadata": {
                "collapsed": false,
                "editable": false
            },
            "source": [
                "<div class=\"not-editable individual\"><span> A water balloon is tossed vertically from a fifth story window. Its height, <span class=\"m\"> $h$ </span>, in meters, at time <span class=\"m\"> $t$ </span>, in seconds, is modeled by the function <span class=\"m\"> $$ h = q(t) = -5t^2 + 20t + 25 $$ </span>. </span></div>"
            ]
        },
        {
            "cell_type": "markdown",
            "metadata": {
                "collapsed": false,
                "editable": false
            },
            "source": [
                "<div class=\"not-editable individual\"><div><h4>Task A</h4> <span> Execute appropriate computations to complete both of the following tables. </span> <div class=\"sidebyside\"><div><table><caption><b>Table 1.5.1.</b> Function values for <span class=\"m\"> $h$ </span> at select inputs.</caption><tr><td><span class=\"m\"> $t$ </span></td><td><span class=\"m\"> $h = q(t)$ </span></td></tr><tr><td><span class=\"m\"> $0$ </span></td><td><span class=\"m\"> $q(0) = 25$ </span></td></tr><tr><td><span class=\"m\"> $1$ </span></td><td/></tr><tr><td><span class=\"m\"> $2$ </span></td><td/></tr><tr><td><span class=\"m\"> $3$ </span></td><td/></tr><tr><td><span class=\"m\"> $4$ </span></td><td/></tr><tr><td><span class=\"m\"> $5$ </span></td><td/></tr></table></div><div><table><caption><b>Table 1.5.2.</b> Average rates of change for <span class=\"m\"> $h$ </span> on select intervals.</caption><tr><td><span class=\"m\"> $[a,b]$ </span></td><td><span class=\"m\"> $AV_{[a,b]}$ </span></td></tr><tr><td><span class=\"m\"> $[0,1]$ </span></td><td><span class=\"m\"> $AV_{[0,1]} = 15$ </span> m/s</td></tr><tr><td><span class=\"m\"> $[1,2]$ </span></td><td/></tr><tr><td><span class=\"m\"> $[2,3]$ </span></td><td/></tr><tr><td><span class=\"m\"> $[3,4]$ </span></td><td/></tr><tr><td><span class=\"m\"> $[4,5]$ </span></td><td/></tr><tr><td/></tr></table></div></div> </div></div>"
            ]
        },
        {
            "cell_type": "markdown",
            "metadata": {
                "collapsed": false,
                "editable": false
            },
            "source": [
                "<div class=\"not-editable individual\"><div><h4>Task B</h4> <span> What pattern(s) do you observe in <a href=\"https://activecalculus.org/prelude/sec-changing-quadratic.html#T-PA-changing-quadratic-heights\">Table 1.5.1</a> and <a href=\"https://activecalculus.org/prelude/sec-changing-quadratic.html#T-PA-changing-quadratic-AVs\">Table 1.5.2</a>? </span> </div></div>"
            ]
        },
        {
            "cell_type": "markdown",
            "metadata": {
                "collapsed": false,
                "editable": false
            },
            "source": [
                "<div class=\"not-editable individual\"><div><h4>Task C</h4> <span> Explain why <span class=\"m\"> $h = q(t)$ </span> is not a linear function. Use <a href=\"https://activecalculus.org/prelude/sec-changing-linear.html#D-linear-function\">Definition 1.4.3</a> in your response. </span> </div></div>"
            ]
        },
        {
            "cell_type": "markdown",
            "metadata": {
                "collapsed": false,
                "editable": false
            },
            "source": [
                "<div class=\"not-editable individual\"><div><h4>Task D</h4> <span> What is the average velocity of the water balloon in the final second before it lands? How does this value compare to the average velocity on the time interval <span class=\"m\"> $[4.9, 5]$ </span>? </span> </div></div>"
            ]
        },
        {
            "cell_type": "markdown",
            "metadata": {
                "collapsed": false,
                "editable": false
            },
            "source": [
                "<div class=\"not-editable individual\"><h2>Exercise 6</h2></div>"
            ]
        },
        {
            "cell_type": "markdown",
            "metadata": {
                "collapsed": false,
                "editable": false
            },
            "source": [
                "<div class=\"not-editable individual\"><span> Two quadratic functions, <span class=\"m\"> $f$ </span> and <span class=\"m\"> $g$ </span>, are determined by their respective graphs in <a href=\"https://activecalculus.org/prelude/sec-changing-quadratic.html#F-ez-quadratic-find-formula\">Figure 1.5.14</a>. </span></div>"
            ]
        },
        {
            "cell_type": "markdown",
            "metadata": {
                "collapsed": false,
                "editable": false
            },
            "source": [
                "<div class=\"not-editable individual\"><div><figure><figcaption><b>Figure 1.5.14.</b> Two quadratic functions, <span class=\"m\"> $f$ </span> and <span class=\"m\"> $g$ </span>.</figcaption><div><img src=\"images/quadratic-ez-find-formula.svg\"/></div></figure></div></div>"
            ]
        },
        {
            "cell_type": "markdown",
            "metadata": {
                "collapsed": false,
                "editable": false
            },
            "source": [
                "<div class=\"not-editable individual\"><div><h4>Task A</h4> <span> How does the information provided enable you to find a formula for <span class=\"m\"> $f$ </span>? Explain, and determine the formula. </span> </div></div>"
            ]
        },
        {
            "cell_type": "markdown",
            "metadata": {
                "collapsed": false,
                "editable": false
            },
            "source": [
                "<div class=\"not-editable individual\"><div><h4>Task B</h4> <span> How does the information provided enable you to find a formula for <span class=\"m\"> $g$ </span>? Explain, and determine the formula. </span> </div></div>"
            ]
        },
        {
            "cell_type": "markdown",
            "metadata": {
                "collapsed": false,
                "editable": false
            },
            "source": [
                "<div class=\"not-editable individual\"><div><h4>Task C</h4> <span> Consider an additional quadratic function <span class=\"m\"> $h$ </span> given by <span class=\"m\"> $h(x) = 2x^2 - 8x + 6$ </span>. Does the graph of <span class=\"m\"> $h$ </span> intersect the graph of <span class=\"m\"> $f$ </span>? If yes, determine the exact points of intersection, with justification. If not, explain why. </span> </div></div>"
            ]
        },
        {
            "cell_type": "markdown",
            "metadata": {
                "collapsed": false,
                "editable": false
            },
            "source": [
                "<div class=\"not-editable individual\"><div><h4>Task D</h4> <span> Does the graph of <span class=\"m\"> $h$ </span> intersect the graph of <span class=\"m\"> $g$ </span>? If yes, determine the exact points of intersection, with justification. If not, explain why. </span> </div></div>"
            ]
        },
        {
            "cell_type": "markdown",
            "metadata": {
                "collapsed": false,
                "editable": false
            },
            "source": [
                "<div class=\"not-editable individual\"><h2>Exercise 7</h2></div>"
            ]
        },
        {
            "cell_type": "markdown",
            "metadata": {
                "collapsed": false,
                "editable": false
            },
            "source": [
                "<div class=\"not-editable individual\"><span> Consider the quadratic function <span class=\"m\"> $f$ </span> given by <span class=\"m\"> $f(x) = \\frac{1}{2}(x-2)^2 + 1$ </span>. </span></div>"
            ]
        },
        {
            "cell_type": "markdown",
            "metadata": {
                "collapsed": false,
                "editable": false
            },
            "source": [
                "<div class=\"not-editable individual\"><div><h4>Task A</h4> <span> Determine the exact location of the vertex of <span class=\"m\"> $f$ </span>. </span> </div></div>"
            ]
        },
        {
            "cell_type": "markdown",
            "metadata": {
                "collapsed": false,
                "editable": false
            },
            "source": [
                "<div class=\"not-editable individual\"><div><h4>Task B</h4> <span> Does <span class=\"m\"> $f$ </span> have <span class=\"m\"> $0$ </span>, <span class=\"m\"> $1$ </span>, or <span class=\"m\"> $2$ </span> <span class=\"m\"> $x$ </span>-intercepts? Explain, and determine the location(s) of any <span class=\"m\"> $x$ </span>-intercept(s) that exist. </span> </div></div>"
            ]
        },
        {
            "cell_type": "markdown",
            "metadata": {
                "collapsed": false,
                "editable": false
            },
            "source": [
                "<div class=\"not-editable individual\"><div><h4>Task C</h4> <span> Complete the following tables of function values and average rates of change of <span class=\"m\"> $f$ </span> at the stated inputs and intervals. </span> <div class=\"sidebyside\"><div><table><caption><b>Table 1.5.15.</b> Function values for <span class=\"m\"> $f$ </span> at select inputs.</caption><tr><td><span class=\"m\"> $x$ </span></td><td><span class=\"m\"> $f(x)$ </span></td></tr><tr><td><span class=\"m\"> $0$ </span></td><td/></tr><tr><td><span class=\"m\"> $1$ </span></td><td/></tr><tr><td><span class=\"m\"> $2$ </span></td><td/></tr><tr><td><span class=\"m\"> $3$ </span></td><td/></tr><tr><td><span class=\"m\"> $4$ </span></td><td/></tr><tr><td><span class=\"m\"> $5$ </span></td><td/></tr></table></div><div><table><caption><b>Table 1.5.16.</b> Average rates of change for <span class=\"m\"> $f$ </span> on select intervals.</caption><tr><td><span class=\"m\"> $[a,b]$ </span></td><td><span class=\"m\"> $AV_{[a,b]}$ </span></td></tr><tr><td><span class=\"m\"> $[0,1]$ </span></td><td> </td></tr><tr><td><span class=\"m\"> $[1,2]$ </span></td><td/></tr><tr><td><span class=\"m\"> $[2,3]$ </span></td><td/></tr><tr><td><span class=\"m\"> $[3,4]$ </span></td><td/></tr><tr><td><span class=\"m\"> $[4,5]$ </span></td><td/></tr></table></div></div> </div></div>"
            ]
        },
        {
            "cell_type": "markdown",
            "metadata": {
                "collapsed": false,
                "editable": false
            },
            "source": [
                "<div class=\"not-editable individual\"><div><h4>Task D</h4> <span> What pattern(s) do you observe in <a href=\"https://activecalculus.org/prelude/sec-changing-quadratic.html#T-ez-quadratic-heights\">Table 1.5.15</a> and <a href=\"https://activecalculus.org/prelude/sec-changing-quadratic.html#T-ez-quadratic-AVs\">Table 1.5.16</a>? </span> </div></div>"
            ]
        },
        {
            "cell_type": "markdown",
            "metadata": {
                "collapsed": false,
                "editable": false
            },
            "source": [
                "<div class=\"not-editable individual\"><h2>Exercise 8</h2></div>"
            ]
        },
        {
            "cell_type": "markdown",
            "metadata": {
                "collapsed": false,
                "editable": false
            },
            "source": [
                "<div class=\"not-editable individual\"><span> A water balloon is tossed vertically from a window on the fourth floor of a dormitory from an initial height of <span class=\"m\"> $56.3$ </span> feet. A person two floors above observes the balloon reach its highest point <span class=\"m\"> $1.2$ </span> seconds after being launched. </span></div>"
            ]
        },
        {
            "cell_type": "markdown",
            "metadata": {
                "collapsed": false,
                "editable": false
            },
            "source": [
                "<div class=\"not-editable individual\"><div><h4>Task A</h4> <span> What is the balloon's exact height at <span class=\"m\"> $t = 2.4$ </span>? Why? </span> </div></div>"
            ]
        },
        {
            "cell_type": "markdown",
            "metadata": {
                "collapsed": false,
                "editable": false
            },
            "source": [
                "<div class=\"not-editable individual\"><div><h4>Task B</h4> <span> What is the exact maximum height the balloon reaches at <span class=\"m\"> $t = 1.2$ </span>? </span> </div></div>"
            ]
        },
        {
            "cell_type": "markdown",
            "metadata": {
                "collapsed": false,
                "editable": false
            },
            "source": [
                "<div class=\"not-editable individual\"><div><h4>Task C</h4> <span> What exact time did the balloon land? </span> </div></div>"
            ]
        },
        {
            "cell_type": "markdown",
            "metadata": {
                "collapsed": false,
                "editable": false
            },
            "source": [
                "<div class=\"not-editable individual\"><div><h4>Task D</h4> <span> At what initial velocity was the balloon launched? </span> </div></div>"
            ]
        }
    ],
    "nbformat": 4,
    "nbformat_minor": 4
}
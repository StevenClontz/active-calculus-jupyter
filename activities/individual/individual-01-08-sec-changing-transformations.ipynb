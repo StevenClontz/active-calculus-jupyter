{
    "cells": [
        {
            "cell_type": "markdown",
            "metadata": {
                "collapsed": false,
                "editable": false
            },
            "source": [
                "<div class=\"not-editable individual\"><style> .not-editable{padding:1em;border-radius:10px;box-shadow:4px 4px 3px #ddd;margin:5px;} .not-editable.individual{background-color:#eefff8;} .not-editable.team{background-color:#eef8ff;} .sidebyside{display:flex;justify-content:center;} .sidebyside > *{margin-right:1em;flex:1;} caption{caption-side:top;white-space: nowrap;color:rgba(0,0,0,.45)}} figcaption{padding-top:0.75em;padding-bottom:0.3em;color:rgba(0,0,0,.45)} .fillin{display:inline-block;width:10em;margin-left:0.2em;margin-right:0.2em;height:1em;border-bottom:1px black solid;} .fn{font-size:0.8em;color:rgba(0,0,0.45)} .newcommands{display:none;} tt{background-color:#f8f8f8;border:1px #888 solid;border-radius:2px;padding-left:0.2em;padding-right:0.2em;} img{background-color:#fff;} </style> <div><h1>Section 1.8 Transformations of Functions</h1><h2>Individual Notebook</h2><div><a href=\"https://activecalculus.org/prelude/sec-changing-transformations.html\">https://activecalculus.org/prelude/sec-changing-transformations.html</a></div></div></div>"
            ]
        },
        {
            "cell_type": "markdown",
            "metadata": {
                "collapsed": false,
                "editable": false
            },
            "source": [
                "<div class=\"not-editable individual\"><h2>Preview Activity 1.8.1</h2></div>"
            ]
        },
        {
            "cell_type": "markdown",
            "metadata": {
                "collapsed": false,
                "editable": false
            },
            "source": [
                "<div class=\"not-editable individual\"><span> Open a new Desmos graph and define the function <span class=\"m\"> $f(x) = x^2$ </span>. Adjust the window so that the range is for <span class=\"m\"> $-4 \\le x \\le 4$ </span> and <span class=\"m\"> $-10 \\le y \\le 10$ </span>. </span></div>"
            ]
        },
        {
            "cell_type": "markdown",
            "metadata": {
                "collapsed": false,
                "editable": false
            },
            "source": [
                "<div class=\"not-editable individual\"><div><h4>Task A</h4> <span> In Desmos, define the function <span class=\"m\"> $g(x) = f(x) + a$ </span>. (That is, in Desmos on line 2, enter g(x) = f(x) + a.) You will get prompted to add a slider for <span class=\"m\"> $a$ </span>. Do so. </span> <span> Explore by moving the slider for <span class=\"m\"> $a$ </span> and write at least one sentence to describe the effect that changing the value of <span class=\"m\"> $a$ </span> has on the graph of <span class=\"m\"> $g$ </span>. </span> </div></div>"
            ]
        },
        {
            "cell_type": "markdown",
            "metadata": {
                "collapsed": false,
                "editable": false
            },
            "source": [
                "<div class=\"not-editable individual\"><div><h4>Task B</h4> <span> Next, define the function <span class=\"m\"> $h(x) = f(x-b)$ </span>. (That is, in Desmos on line 4, enter h(x) = f(x-b) and add the slider for <span class=\"m\"> $b$ </span>.) </span> <span> Move the slider for <span class=\"m\"> $b$ </span> and write at least one sentence to describe the effect that changing the value of <span class=\"m\"> $b$ </span> has on the graph of <span class=\"m\"> $h$ </span>. </span> </div></div>"
            ]
        },
        {
            "cell_type": "markdown",
            "metadata": {
                "collapsed": false,
                "editable": false
            },
            "source": [
                "<div class=\"not-editable individual\"><div><h4>Task C</h4> <span> Now define the function <span class=\"m\"> $p(x) = cf(x)$ </span>. (That is, in Desmos on line 6, enter p(x) = cf(x) and add the slider for <span class=\"m\"> $c$ </span>.) </span> <span> Move the slider for <span class=\"m\"> $c$ </span> and write at least one sentence to describe the effect that changing the value of <span class=\"m\"> $c$ </span> has on the graph of <span class=\"m\"> $p$ </span>. In particular, when <span class=\"m\"> $c = -1$ </span>, how is the graph of <span class=\"m\"> $p$ </span> related to the graph of <span class=\"m\"> $f$ </span>? </span> </div></div>"
            ]
        },
        {
            "cell_type": "markdown",
            "metadata": {
                "collapsed": false,
                "editable": false
            },
            "source": [
                "<div class=\"not-editable individual\"><div><h4>Task D</h4> <span> Finally, click on the icons next to <span class=\"m\"> $g$ </span>, <span class=\"m\"> $h$ </span>, and <span class=\"m\"> $p$ </span> to temporarily hide them, and go back to Line 1 and change your formula for <span class=\"m\"> $f$ </span>. You can make it whatever you'd like, but try something like <span class=\"m\"> $f(x) = x^2 + 2x + 3$ </span> or <span class=\"m\"> $f(x) = x^3 - 1$ </span>. Then, investigate with the sliders <span class=\"m\"> $a$ </span>, <span class=\"m\"> $b$ </span>, and <span class=\"m\"> $c$ </span> to see the effects on <span class=\"m\"> $g$ </span>, <span class=\"m\"> $h$ </span>, and <span class=\"m\"> $p$ </span> (unhiding them appropriately). Write a couple of sentences to describe your observations of your explorations. </span> </div></div>"
            ]
        },
        {
            "cell_type": "markdown",
            "metadata": {
                "collapsed": false,
                "editable": false
            },
            "source": [
                "<div class=\"not-editable individual\"><h2>Exercise 6</h2></div>"
            ]
        },
        {
            "cell_type": "markdown",
            "metadata": {
                "collapsed": false,
                "editable": false
            },
            "source": [
                "<div class=\"not-editable individual\"><span> Let <span class=\"m\"> $f(x) = x^2$ </span>. </span></div>"
            ]
        },
        {
            "cell_type": "markdown",
            "metadata": {
                "collapsed": false,
                "editable": false
            },
            "source": [
                "<div class=\"not-editable individual\"><div><h4>Task A</h4> <span> Let <span class=\"m\"> $g(x) = f(x) + 5$ </span>. Determine <span class=\"m\"> $AV_{[-3,-1]}$ </span> and <span class=\"m\"> $AV_{[2,5]}$ </span> for both <span class=\"m\"> $f$ </span> and <span class=\"m\"> $g$ </span>. What do you observe? Why does this phenomenon occur? </span> </div></div>"
            ]
        },
        {
            "cell_type": "markdown",
            "metadata": {
                "collapsed": false,
                "editable": false
            },
            "source": [
                "<div class=\"not-editable individual\"><div><h4>Task B</h4> <span> Let <span class=\"m\"> $h(x) = f(x-2)$ </span>. For <span class=\"m\"> $f$ </span>, recall that you determined <span class=\"m\"> $AV_{[-3,-1]}$ </span> and <span class=\"m\"> $AV_{[2,5]}$ </span> in (a). In addition, determine <span class=\"m\"> $AV_{[-1,-1]}$ </span> and <span class=\"m\"> $AV_{[4,7]}$ </span> for <span class=\"m\"> $h$ </span>. What do you observe? Why does this phenomenon occur? </span> </div></div>"
            ]
        },
        {
            "cell_type": "markdown",
            "metadata": {
                "collapsed": false,
                "editable": false
            },
            "source": [
                "<div class=\"not-editable individual\"><div><h4>Task C</h4> <span> Let <span class=\"m\"> $k(x) = 3f(x)$ </span>. Determine <span class=\"m\"> $AV_{[-3,-1]}$ </span> and <span class=\"m\"> $AV_{[2,5]}$ </span> for <span class=\"m\"> $k$ </span>, and compare the results to your earlier computations of <span class=\"m\"> $AV_{[-3,-1]}$ </span> and <span class=\"m\"> $AV_{[2,5]}$ </span> for <span class=\"m\"> $f$ </span>. What do you observe? Why does this phenomenon occur? </span> </div></div>"
            ]
        },
        {
            "cell_type": "markdown",
            "metadata": {
                "collapsed": false,
                "editable": false
            },
            "source": [
                "<div class=\"not-editable individual\"><div><h4>Task D</h4> <span> Finally, let <span class=\"m\"> $m(x) = 3f(x-2) + 5$ </span>. Without doing any computations, what do you think will be true about the relationship between <span class=\"m\"> $AV_{[-3,-1]}$ </span> for <span class=\"m\"> $f$ </span> and <span class=\"m\"> $AV_{[-1,1]}$ </span> for <span class=\"m\"> $m$ </span>? Why? After making your conjecture, execute appropriate computations to see if your intuition is correct. </span> </div></div>"
            ]
        },
        {
            "cell_type": "markdown",
            "metadata": {
                "collapsed": false,
                "editable": false
            },
            "source": [
                "<div class=\"not-editable individual\"><h2>Exercise 7</h2></div>"
            ]
        },
        {
            "cell_type": "markdown",
            "metadata": {
                "collapsed": false,
                "editable": false
            },
            "source": [
                "<div class=\"not-editable individual\"><span> Consider the parent function <span class=\"m\"> $y = f(x) = x$ </span>. </span></div>"
            ]
        },
        {
            "cell_type": "markdown",
            "metadata": {
                "collapsed": false,
                "editable": false
            },
            "source": [
                "<div class=\"not-editable individual\"><div><h4>Task A</h4> <span> Consider the linear function in point-slope form given by <span class=\"m\"> $y = L(x) = -4(x-3) + 5$ </span>. What is the slope of this line? What is the most obvious point that lies on the line? </span> </div></div>"
            ]
        },
        {
            "cell_type": "markdown",
            "metadata": {
                "collapsed": false,
                "editable": false
            },
            "source": [
                "<div class=\"not-editable individual\"><div><h4>Task B</h4> <span> How can the function <span class=\"m\"> $L$ </span> given in (a) be viewed as a transformation of the parent function <span class=\"m\"> $f$ </span>? Explain the roles of <span class=\"m\"> $3$ </span>, <span class=\"m\"> $-4$ </span>, and <span class=\"m\"> $5$ </span>, respectively. </span> </div></div>"
            ]
        },
        {
            "cell_type": "markdown",
            "metadata": {
                "collapsed": false,
                "editable": false
            },
            "source": [
                "<div class=\"not-editable individual\"><div><h4>Task C</h4> <span> Explain why any non-vertical line of the form <span class=\"m\"> $P(x) = m(x-x_0) + y_0$ </span> can be thought of as a transformation of the parent function <span class=\"m\"> $f(x) = x$ </span>. Specifically discuss the transformation(s) involved. </span> </div></div>"
            ]
        },
        {
            "cell_type": "markdown",
            "metadata": {
                "collapsed": false,
                "editable": false
            },
            "source": [
                "<div class=\"not-editable individual\"><div><h4>Task D</h4> <span> Find a formula for the transformation of <span class=\"m\"> $f(x) = x$ </span> that corresponds to a horizontal shift of <span class=\"m\"> $7$ </span> units left, a reflection across <span class=\"m\"> $y = 0$ </span> and vertical stretch of <span class=\"m\"> $3$ </span> units away from the <span class=\"m\"> $x$ </span>-axis, and a vertical shift of <span class=\"m\"> $-11$ </span> units. </span> </div></div>"
            ]
        },
        {
            "cell_type": "markdown",
            "metadata": {
                "collapsed": false,
                "editable": false
            },
            "source": [
                "<div class=\"not-editable individual\"><h2>Exercise 8</h2></div>"
            ]
        },
        {
            "cell_type": "markdown",
            "metadata": {
                "collapsed": false,
                "editable": false
            },
            "source": [
                "<div class=\"not-editable individual\"><span> We have explored the effects of adding a constant to the output of a function, <span class=\"m\"> $y = f(x) + a$ </span>, adding a constant to the input, <span class=\"m\"> $y = f(x+a)$ </span>, and multiplying the output of a function by a constant, <span class=\"m\"> $y = af(x)$ </span>. There is one remaining natural transformation to explore: multiplying the input to a function by a constant. In this exercise, we consider the effects of the constant <span class=\"m\"> $a$ </span> in transforming a parent function <span class=\"m\"> $f$ </span> by the rule <span class=\"m\"> $y = f(ax)$ </span>. </span></div>"
            ]
        },
        {
            "cell_type": "markdown",
            "metadata": {
                "collapsed": false,
                "editable": false
            },
            "source": [
                "<div class=\"not-editable individual\"><span> Let <span class=\"m\"> $f(x) = (x-2)^2 + 1$ </span>. </span></div>"
            ]
        },
        {
            "cell_type": "markdown",
            "metadata": {
                "collapsed": false,
                "editable": false
            },
            "source": [
                "<div class=\"not-editable individual\"><div><h4>Task A</h4> <span> Let <span class=\"m\"> $g(x) = f(4x)$ </span>, <span class=\"m\"> $h(x) = f(2x)$ </span>, <span class=\"m\"> $k(x) = f(0.5x)$ </span>, and <span class=\"m\"> $m(x) = f(0.25x)$ </span>. Use Desmos to plot these functions. Then, sketch and label <span class=\"m\"> $g$ </span>, <span class=\"m\"> $h$ </span>, <span class=\"m\"> $k$ </span>, and <span class=\"m\"> $m$ </span> on the provided axes in <a href=\"https://activecalculus.org/prelude/sec-changing-transformations.html#F-ez-transformations-blank-axes\">Figure 1.8.19</a> along with the graph of <span class=\"m\"> $f$ </span>. For each of the functions, label and identify its vertex, its <span class=\"m\"> $y$ </span>-intercept, and its <span class=\"m\"> $x$ </span>-intercepts. </span> <div class=\"sidebyside\"><div><figure><figcaption><b>Figure 1.8.19.</b> Axes for plotting <span class=\"m\"> $f$ </span>, <span class=\"m\"> $g$ </span>, <span class=\"m\"> $h$ </span>, <span class=\"m\"> $k$ </span>, and <span class=\"m\"> $m$ </span> in part (a).</figcaption><div><img src=\"images/functions-y-x-blank-axes.svg\"/></div></figure></div><div><figure><figcaption><b>Figure 1.8.20.</b> Axes for plotting <span class=\"m\"> $f$ </span>, <span class=\"m\"> $r$ </span>, and <span class=\"m\"> $s$ </span> from parts (c) and (d).</figcaption><div><img src=\"images/functions-y-x-blank-axes-centered-low.svg\"/></div></figure></div></div> </div></div>"
            ]
        },
        {
            "cell_type": "markdown",
            "metadata": {
                "collapsed": false,
                "editable": false
            },
            "source": [
                "<div class=\"not-editable individual\"><div><h4>Task B</h4> <span> Based on your work in (a), how would you describe the effect(s) of the transformation <span class=\"m\"> $y = f(ax)$ </span> where <span class=\"m\"> $a \\gt 0$ </span>? What is the impact on the graph of <span class=\"m\"> $f$ </span>? Are any parts of the graph of <span class=\"m\"> $f$ </span> unchanged? </span> </div></div>"
            ]
        },
        {
            "cell_type": "markdown",
            "metadata": {
                "collapsed": false,
                "editable": false
            },
            "source": [
                "<div class=\"not-editable individual\"><div><h4>Task C</h4> <span> Now consider the function <span class=\"m\"> $r(x) = f(-x)$ </span>. Observe that <span class=\"m\"> $r(-1) = f(1)$ </span>, <span class=\"m\"> $r(2) = f(-2)$ </span>, and so on. Without using a graphing utility, how do you expect the graph of <span class=\"m\"> $y = r(x)$ </span> to compare to the graph of <span class=\"m\"> $y = f(x)$ </span>? Explain. Then test your conjecture by using a graphing utility and record the plots of <span class=\"m\"> $f$ </span> and <span class=\"m\"> $r$ </span> on the axes in <a href=\"https://activecalculus.org/prelude/sec-changing-transformations.html#F-ez-transformations-blank-axes-2\">Figure 1.8.20</a>. </span> </div></div>"
            ]
        },
        {
            "cell_type": "markdown",
            "metadata": {
                "collapsed": false,
                "editable": false
            },
            "source": [
                "<div class=\"not-editable individual\"><div><h4>Task D</h4> <span> How do you expect the graph of <span class=\"m\"> $s(x) = f(-2x)$ </span> to appear? Why? More generally, how does the graph of <span class=\"m\"> $y = f(ax)$ </span> compare to the graph of <span class=\"m\"> $y = f(x)$ </span> in the situation where <span class=\"m\"> $a \\lt 0$ </span>? </span> </div></div>"
            ]
        }
    ],
    "nbformat": 4,
    "nbformat_minor": 4
}
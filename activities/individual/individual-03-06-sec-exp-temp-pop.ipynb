{
    "cells": [
        {
            "cell_type": "markdown",
            "metadata": {
                "collapsed": false,
                "editable": false
            },
            "source": [
                "<div class=\"not-editable individual\"><style> .not-editable{padding:1em;border-radius:10px;box-shadow:4px 4px 3px #ddd;margin:5px;} .not-editable.individual{background-color:#eefff8;} .not-editable.team{background-color:#eef8ff;} .sidebyside{display:flex;justify-content:center;} .sidebyside > *{margin-right:1em;flex:1;} caption{caption-side:top;white-space: nowrap;color:rgba(0,0,0,.45)}} figcaption{padding-top:0.75em;padding-bottom:0.3em;color:rgba(0,0,0,.45)} .fillin{display:inline-block;width:10em;margin-left:0.2em;margin-right:0.2em;height:1em;border-bottom:1px black solid;} .fn{font-size:0.8em;color:rgba(0,0,0.45)} .newcommands{display:none;} tt{background-color:#f8f8f8;border:1px #888 solid;border-radius:2px;padding-left:0.2em;padding-right:0.2em;} img{background-color:#fff;} </style> <div><h1>Section 3.6 Modeling temperature and population</h1><h2>Individual Notebook</h2><div><a href=\"https://activecalculus.org/prelude/sec-exp-temp-pop.html\">https://activecalculus.org/prelude/sec-exp-temp-pop.html</a></div></div></div>"
            ]
        },
        {
            "cell_type": "markdown",
            "metadata": {
                "collapsed": false,
                "editable": false
            },
            "source": [
                "<div class=\"not-editable individual\"><h2>Preview Activity 3.6.1</h2></div>"
            ]
        },
        {
            "cell_type": "markdown",
            "metadata": {
                "collapsed": false,
                "editable": false
            },
            "source": [
                "<div class=\"not-editable individual\"><span> In each of the following situations, determine the exact value of the unknown quantity that is identified. </span></div>"
            ]
        },
        {
            "cell_type": "markdown",
            "metadata": {
                "collapsed": false,
                "editable": false
            },
            "source": [
                "<div class=\"not-editable individual\"><div><h4>Task A</h4> <span> The temperature of a warming object in an oven is given by <span class=\"m\"> $F(t) = 275 - 203e^{-kt}$ </span>, and we know that the object's temperature after <span class=\"m\"> $20$ </span> minutes is <span class=\"m\"> $F(20) = 101$ </span>. Determine the exact value of <span class=\"m\"> $k$ </span>. </span> </div></div>"
            ]
        },
        {
            "cell_type": "markdown",
            "metadata": {
                "collapsed": false,
                "editable": false
            },
            "source": [
                "<div class=\"not-editable individual\"><div><h4>Task B</h4> <span> The temperature of a cooling object in a refrigerator is modeled by <span class=\"m\"> $F(t) = a + 37.4e^{-0.05t}$ </span>, and the temperature of the refrigerator is <span class=\"m\"> $39.8^\\circ$ </span>. By thinking about the long-term behavior of <span class=\"m\"> $e^{-0.05t}$ </span> and the long-term behavior of the object's temperature, determine the exact value of <span class=\"m\"> $a$ </span>. </span> </div></div>"
            ]
        },
        {
            "cell_type": "markdown",
            "metadata": {
                "collapsed": false,
                "editable": false
            },
            "source": [
                "<div class=\"not-editable individual\"><div><h4>Task C</h4> <span> Later in this section, we'll learn that one model for how a population grows over time can be given by a function of the form <span class=\"m\"> $$ P(t) = \\frac{A}{1 + Me^{-kt}} $$ </span>. Models of this form lead naturally to equations that have structure like <span class=\"m\"> $$ 3 = \\frac{10}{1+x}. $$ </span> Solve <a href=\"https://activecalculus.org/prelude/sec-exp-temp-pop.html#eq-temp-pop-logistic-structure\">Equation 3.6.2</a> for the exact value of <span class=\"m\"> $x$ </span>. </span> </div></div>"
            ]
        },
        {
            "cell_type": "markdown",
            "metadata": {
                "collapsed": false,
                "editable": false
            },
            "source": [
                "<div class=\"not-editable individual\"><div><h4>Task D</h4> <span> Suppose that <span class=\"m\"> $y = a + be^{-kt}$ </span>. Solve for <span class=\"m\"> $t$ </span> in terms of <span class=\"m\"> $a$ </span>, <span class=\"m\"> $b$ </span>, <span class=\"m\"> $k$ </span>, and <span class=\"m\"> $y$ </span>. What does this new equation represent? </span> </div></div>"
            ]
        },
        {
            "cell_type": "markdown",
            "metadata": {
                "collapsed": false,
                "editable": false
            },
            "source": [
                "<div class=\"not-editable individual\"><h2>Exercise 4</h2></div>"
            ]
        },
        {
            "cell_type": "markdown",
            "metadata": {
                "collapsed": false,
                "editable": false
            },
            "source": [
                "<div class=\"not-editable individual\"><span> A glass filled with ice and water is set on a table in a climate-controlled room with constant temperature of <span class=\"m\"> $71^\\circ$ </span> Fahrenheit. A temperature probe is placed in the glass, and we find that the following temperatures are recorded (at time <span class=\"m\"> $t$ </span> in minutes). </span></div>"
            ]
        },
        {
            "cell_type": "markdown",
            "metadata": {
                "collapsed": false,
                "editable": false
            },
            "source": [
                "<div class=\"not-editable individual\"><div class=\"sidebyside\"><div><table><tr><td><span class=\"m\"> $t$ </span></td><td><span class=\"m\"> $0$ </span></td><td><span class=\"m\"> $20$ </span></td></tr><tr><td><span class=\"m\"> $F(t)$ </span></td><td><span class=\"m\"> $34.2$ </span></td><td><span class=\"m\"> $41.7$ </span></td></tr></table></div></div></div>"
            ]
        },
        {
            "cell_type": "markdown",
            "metadata": {
                "collapsed": false,
                "editable": false
            },
            "source": [
                "<div class=\"not-editable individual\"><div><h4>Task A</h4> <span> Make a rough sketch of how you think the temperature graph should appear. Is the temperature function always increasing? always decreasing? always concave up? always concave down? what's its long-range behavior? </span> </div></div>"
            ]
        },
        {
            "cell_type": "markdown",
            "metadata": {
                "collapsed": false,
                "editable": false
            },
            "source": [
                "<div class=\"not-editable individual\"><div><h4>Task B</h4> <span> By desribing <span class=\"m\"> $F$ </span> as a transformation of <span class=\"m\"> $e^t$ </span>, explain why a function of form <span class=\"m\"> $F(t) = c - ae^{-kt}$ </span>, where <span class=\"m\"> $a$ </span>, <span class=\"m\"> $c$ </span>, and <span class=\"m\"> $k$ </span> are positive constants is an appropriate model for how we expect the temperature function to behave. </span> </div></div>"
            ]
        },
        {
            "cell_type": "markdown",
            "metadata": {
                "collapsed": false,
                "editable": false
            },
            "source": [
                "<div class=\"not-editable individual\"><div><h4>Task C</h4> <span> Use the given information to determine the exact values of <span class=\"m\"> $a$ </span>, <span class=\"m\"> $c$ </span>, and <span class=\"m\"> $k$ </span> in the model <span class=\"m\"> $F(t) = c - ae^{-kt}$ </span>. </span> </div></div>"
            ]
        },
        {
            "cell_type": "markdown",
            "metadata": {
                "collapsed": false,
                "editable": false
            },
            "source": [
                "<div class=\"not-editable individual\"><div><h4>Task D</h4> <span> Determine the exact time when the water's temperature is <span class=\"m\"> $60^\\circ$ </span>. </span> </div></div>"
            ]
        },
        {
            "cell_type": "markdown",
            "metadata": {
                "collapsed": false,
                "editable": false
            },
            "source": [
                "<div class=\"not-editable individual\"><h2>Exercise 5</h2></div>"
            ]
        },
        {
            "cell_type": "markdown",
            "metadata": {
                "collapsed": false,
                "editable": false
            },
            "source": [
                "<div class=\"not-editable individual\"><span> A popular cruise ship sets sail in the Gulf of Mexico with <span class=\"m\"> $5000$ </span> passengers and crew on board. Unfortunately, a five family members who board the ship are carrying a highly contagious virus. After interacting with many other passengers in the first few hours of the cruise, all five of them get very sick. </span></div>"
            ]
        },
        {
            "cell_type": "markdown",
            "metadata": {
                "collapsed": false,
                "editable": false
            },
            "source": [
                "<div class=\"not-editable individual\"><span> Let <span class=\"m\"> $S(t)$ </span> be the number of people who have acquired the virus <span class=\"m\"> $t$ </span> days after the ship has left port. It turns out that a logistic function is a good model for <span class=\"m\"> $S$ </span>, and thus we assume that <span class=\"m\"> $$ S(t) = \\frac{A}{1 + Me^{-kt}} $$ </span> for some positive constants <span class=\"m\"> $A$ </span>, <span class=\"m\"> $M$ </span>, and <span class=\"m\"> $k$ </span>. Suppose that after <span class=\"m\"> $1$ </span> day, <span class=\"m\"> $20$ </span> people have gotten the virus. </span></div>"
            ]
        },
        {
            "cell_type": "markdown",
            "metadata": {
                "collapsed": false,
                "editable": false
            },
            "source": [
                "<div class=\"not-editable individual\"><div><h4>Task A</h4> <span> Recall we know that <span class=\"m\"> $S(0) = 5$ </span> and <span class=\"m\"> $S(1) = 20$ </span>. In addition, assume that <span class=\"m\"> $5000$ </span> is the number of people who will eventually get sick. Use this information determine the exact values of <span class=\"m\"> $A$ </span>, <span class=\"m\"> $M$ </span>, and <span class=\"m\"> $k$ </span> in the logistic model. </span> </div></div>"
            ]
        },
        {
            "cell_type": "markdown",
            "metadata": {
                "collapsed": false,
                "editable": false
            },
            "source": [
                "<div class=\"not-editable individual\"><div><h4>Task B</h4> <span> How many days will it take for <span class=\"m\"> $4000$ </span> of the people on the cruise ship to have acquired the virus? </span> </div></div>"
            ]
        },
        {
            "cell_type": "markdown",
            "metadata": {
                "collapsed": false,
                "editable": false
            },
            "source": [
                "<div class=\"not-editable individual\"><div><h4>Task C</h4> <span> Compute the average rate of change of <span class=\"m\"> $S$ </span> on the intervals <span class=\"m\"> $[1,2]$ </span>, <span class=\"m\"> $[3,4]$ </span>, and <span class=\"m\"> $[5,7]$ </span>. What is the meaning of each of these values (with units) in the context of the question, and what trend(s) do you observe in these average rates of change? </span> </div></div>"
            ]
        },
        {
            "cell_type": "markdown",
            "metadata": {
                "collapsed": false,
                "editable": false
            },
            "source": [
                "<div class=\"not-editable individual\"><h2>Exercise 6</h2></div>"
            ]
        },
        {
            "cell_type": "markdown",
            "metadata": {
                "collapsed": false,
                "editable": false
            },
            "source": [
                "<div class=\"not-editable individual\"><span> A closed tank with an inflow and outflow contains a <span class=\"m\"> $100$ </span> liters of saltwater solution. Let the amount of salt in the tank at time <span class=\"m\"> $t$ </span> (in minutes) be given by the function <span class=\"m\"> $A(t)$ </span>, whose output is measured in grams. At time <span class=\"m\"> $t = 0$ </span> there is an initial amount of salt present in the tank, and the inflow line also carries a saltwater mixture to the tank at a fixed rate; the outflow occurs at the same rate and carries a perfectly mixed solution out of the tank. Because of these conditions, the volume of solution in the tank stays fixed over time, but the amount of salt possibly changes. </span></div>"
            ]
        },
        {
            "cell_type": "markdown",
            "metadata": {
                "collapsed": false,
                "editable": false
            },
            "source": [
                "<div class=\"not-editable individual\"><span> It turns out that the problem of determining the amount of salt in the tank at time <span class=\"m\"> $t$ </span> is similar to the problem of determining the temperature of a warming or cooling object, and that the function <span class=\"m\"> $A(t)$ </span> has form <span class=\"m\"> $$ A(t) = ae^{-kt} + c $$ </span> for constants <span class=\"m\"> $a$ </span>, <span class=\"m\"> $c$ </span>, and <span class=\"m\"> $k$ </span>. Suppose that for a particular set of conditions, we know that <span class=\"m\"> $$ A(t) = -500e^{-0.25t} + 750 $$ </span>. Again, <span class=\"m\"> $A(t)$ </span> measures the amount of salt in the tank after <span class=\"m\"> $t$ </span> minutes. </span></div>"
            ]
        },
        {
            "cell_type": "markdown",
            "metadata": {
                "collapsed": false,
                "editable": false
            },
            "source": [
                "<div class=\"not-editable individual\"><div><h4>Task A</h4> <span> How much salt is in the tank initially? </span> </div></div>"
            ]
        },
        {
            "cell_type": "markdown",
            "metadata": {
                "collapsed": false,
                "editable": false
            },
            "source": [
                "<div class=\"not-editable individual\"><div><h4>Task B</h4> <span> In the long run, how much salt do we expect to eventually be in the tank? </span> </div></div>"
            ]
        },
        {
            "cell_type": "markdown",
            "metadata": {
                "collapsed": false,
                "editable": false
            },
            "source": [
                "<div class=\"not-editable individual\"><div><h4>Task C</h4> <span> At what exact time are there exactly <span class=\"m\"> $500$ </span> grams of salt present in the tank? </span> </div></div>"
            ]
        },
        {
            "cell_type": "markdown",
            "metadata": {
                "collapsed": false,
                "editable": false
            },
            "source": [
                "<div class=\"not-editable individual\"><div><h4>Task D</h4> <span> Can you determine the concentration of the solution that is being delivered by the inflow to the tank? If yes, explain why and determine this value. If not, explain why that information cannot be found without additional data. </span> </div></div>"
            ]
        }
    ],
    "nbformat": 4,
    "nbformat_minor": 4
}
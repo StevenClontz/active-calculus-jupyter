{
    "cells": [
        {
            "cell_type": "markdown",
            "metadata": {
                "collapsed": false,
                "editable": false
            },
            "source": [
                "<div class=\"not-editable individual\"><style> .not-editable{padding:1em;border-radius:10px;box-shadow:4px 4px 3px #ddd;margin:5px;} .not-editable.individual{background-color:#eefff8;} .not-editable.team{background-color:#eef8ff;} .sidebyside{display:flex;justify-content:center;} .sidebyside > *{margin-right:1em;flex:1;} caption{caption-side:top;white-space: nowrap;color:rgba(0,0,0,.45)}} figcaption{padding-top:0.75em;padding-bottom:0.3em;color:rgba(0,0,0,.45)} .fillin{display:inline-block;width:10em;margin-left:0.2em;margin-right:0.2em;height:1em;border-bottom:1px black solid;} .fn{font-size:0.8em;color:rgba(0,0,0.45)} .newcommands{display:none;} tt{background-color:#f8f8f8;border:1px #888 solid;border-radius:2px;padding-left:0.2em;padding-right:0.2em;} img{background-color:#fff;} </style> <div><h1>Section 3.5 Properties and applications of logarithmic functions</h1><h2>Individual Notebook</h2><div><a href=\"https://activecalculus.org/prelude/sec-exp-log-properties.html\">https://activecalculus.org/prelude/sec-exp-log-properties.html</a></div></div></div>"
            ]
        },
        {
            "cell_type": "markdown",
            "metadata": {
                "collapsed": false,
                "editable": false
            },
            "source": [
                "<div class=\"not-editable individual\"><h2>Preview Activity 3.5.1</h2></div>"
            ]
        },
        {
            "cell_type": "markdown",
            "metadata": {
                "collapsed": false,
                "editable": false
            },
            "source": [
                "<div class=\"not-editable individual\"><span> In the following questions, we investigate how <span class=\"m\"> $\\log_{10}(a \\cdot b)$ </span> can be equivalently written in terms of <span class=\"m\"> $\\log_{10}(a)$ </span> and <span class=\"m\"> $\\log_{10}(b)$ </span>. </span></div>"
            ]
        },
        {
            "cell_type": "markdown",
            "metadata": {
                "collapsed": false,
                "editable": false
            },
            "source": [
                "<div class=\"not-editable individual\"><div><h4>Task A</h4> <span> Write <span class=\"m\"> $10^x \\cdot 10^y$ </span> as <span class=\"m\"> $10$ </span> raised to a single power. That is, complete the equation <span class=\"m\"> $$ 10^x \\cdot 10^y = 10^{\\Box} $$ </span> by filling in the box with an appropriate expression involving <span class=\"m\"> $x$ </span> and <span class=\"m\"> $y$ </span>. </span> </div></div>"
            ]
        },
        {
            "cell_type": "markdown",
            "metadata": {
                "collapsed": false,
                "editable": false
            },
            "source": [
                "<div class=\"not-editable individual\"><div><h4>Task B</h4> <span> What is the simplest possible way to write <span class=\"m\"> $\\log_{10}10^x$ </span>? What about the simplest equivalent expression for <span class=\"m\"> $\\log_{10}10^y$ </span>? </span> </div></div>"
            ]
        },
        {
            "cell_type": "markdown",
            "metadata": {
                "collapsed": false,
                "editable": false
            },
            "source": [
                "<div class=\"not-editable individual\"><div><h4>Task C</h4> <span> Explain why each of the following three equal signs is valid in the sequence of equalities: <span class=\"md\"> $$\\begin{align*} \\log_{10}(10^x \\cdot 10^y) &amp;= \\log_{10}(10^{x+y})\\\\ &amp;= x+y\\\\ &amp;= \\log_{10}(10^x) + \\log_{10}(10^y)\\\\ \\end{align*}$$ </span>. </span> </div></div>"
            ]
        },
        {
            "cell_type": "markdown",
            "metadata": {
                "collapsed": false,
                "editable": false
            },
            "source": [
                "<div class=\"not-editable individual\"><div><h4>Task D</h4> Suppose that <span class=\"m\"> $a$ </span> and <span class=\"m\"> $b$ </span> are positive real numbers, so we can think of <span class=\"m\"> $a$ </span> as <span class=\"m\"> $10^x$ </span> for some real number <span class=\"m\"> $x$ </span> and <span class=\"m\"> $b$ </span> as <span class=\"m\"> $10^y$ </span> for some real number <span class=\"m\"> $y$ </span>. That is, say that <span class=\"m\"> $a = 10^x$ </span> and <span class=\"m\"> $b = 10^y$ </span>. What does our work in (c) tell us about <span class=\"m\"> $\\log_{10}(ab)$ </span>? </div></div>"
            ]
        },
        {
            "cell_type": "markdown",
            "metadata": {
                "collapsed": false,
                "editable": false
            },
            "source": [
                "<div class=\"not-editable individual\"><h2>Exercise 6</h2></div>"
            ]
        },
        {
            "cell_type": "markdown",
            "metadata": {
                "collapsed": false,
                "editable": false
            },
            "source": [
                "<div class=\"not-editable individual\"><span> For a population that is growing exponentially according to a model of the form <span class=\"m\"> $P(t) = Ae^{kt}$ </span>, the doubling time exponential functiondoubling time is the amount of time that it takes the population to double. For each population described below, assume the function is growing exponentially according to a model <span class=\"m\"> $P(t) = Ae^{kt}$ </span>, where <span class=\"m\"> $t$ </span> is measured in years. </span></div>"
            ]
        },
        {
            "cell_type": "markdown",
            "metadata": {
                "collapsed": false,
                "editable": false
            },
            "source": [
                "<div class=\"not-editable individual\"><div><h4>Task A</h4> <span> Suppose that a certain population initially has <span class=\"m\"> $100$ </span> members and doubles after <span class=\"m\"> $3$ </span> years. What are the values of <span class=\"m\"> $A$ </span> and <span class=\"m\"> $k$ </span> in the model? </span> </div></div>"
            ]
        },
        {
            "cell_type": "markdown",
            "metadata": {
                "collapsed": false,
                "editable": false
            },
            "source": [
                "<div class=\"not-editable individual\"><div><h4>Task B</h4> <span> A different population is observed to satisfy <span class=\"m\"> $P(4) = 250$ </span> and <span class=\"m\"> $P(11) = 500$ </span>. What is the population's doubling time? When will <span class=\"m\"> $2000$ </span> members of the population be present? </span> </div></div>"
            ]
        },
        {
            "cell_type": "markdown",
            "metadata": {
                "collapsed": false,
                "editable": false
            },
            "source": [
                "<div class=\"not-editable individual\"><div><h4>Task C</h4> <span> Another population is observed to have doubling time <span class=\"m\"> $t = 21$ </span>. What is the value of <span class=\"m\"> $k$ </span> in the model? </span> </div></div>"
            ]
        },
        {
            "cell_type": "markdown",
            "metadata": {
                "collapsed": false,
                "editable": false
            },
            "source": [
                "<div class=\"not-editable individual\"><div><h4>Task D</h4> <span> How is <span class=\"m\"> $k$ </span> related to a population's doubling time, regardless of how long the doubling time is? </span> </div></div>"
            ]
        },
        {
            "cell_type": "markdown",
            "metadata": {
                "collapsed": false,
                "editable": false
            },
            "source": [
                "<div class=\"not-editable individual\"><h2>Exercise 7</h2></div>"
            ]
        },
        {
            "cell_type": "markdown",
            "metadata": {
                "collapsed": false,
                "editable": false
            },
            "source": [
                "<div class=\"not-editable individual\"><span> A new car is purchased for $<span class=\"m\"> $28000$ </span>. Exactly <span class=\"m\"> $1$ </span> year later, the value of the car is $<span class=\"m\"> $23200$ </span>. Assume that the car's value in dollars, <span class=\"m\"> $V$ </span>, <span class=\"m\"> $t$ </span> years after purchase decays exponentially according to a model of form <span class=\"m\"> $V(t) = Ae^{-kt}$ </span>. </span></div>"
            ]
        },
        {
            "cell_type": "markdown",
            "metadata": {
                "collapsed": false,
                "editable": false
            },
            "source": [
                "<div class=\"not-editable individual\"><div><h4>Task A</h4> <span> Determine the exact values of <span class=\"m\"> $A$ </span> and <span class=\"m\"> $k$ </span> in the model. </span> </div></div>"
            ]
        },
        {
            "cell_type": "markdown",
            "metadata": {
                "collapsed": false,
                "editable": false
            },
            "source": [
                "<div class=\"not-editable individual\"><div><h4>Task B</h4> <span> How many years will it take until the car's value is $<span class=\"m\"> $10000$ </span>? </span> </div></div>"
            ]
        },
        {
            "cell_type": "markdown",
            "metadata": {
                "collapsed": false,
                "editable": false
            },
            "source": [
                "<div class=\"not-editable individual\"><div><h4>Task C</h4> <span> Suppose that rather than having the car's value decay all the way to $<span class=\"m\"> $0$ </span>, the lowest dollar amount its value ever approaches is $<span class=\"m\"> $500$ </span>. Explain why a model of the form <span class=\"m\"> $V(t) = Ae^{-kt} + c$ </span> is more appropriate. </span> </div></div>"
            ]
        },
        {
            "cell_type": "markdown",
            "metadata": {
                "collapsed": false,
                "editable": false
            },
            "source": [
                "<div class=\"not-editable individual\"><div><h4>Task D</h4> <span> Under the original assumptions (<span class=\"m\"> $V(0) = 28000$ </span> and <span class=\"m\"> $V(1) = 23200$ </span>) along with the condition in (c) that the car's value will approach $<span class=\"m\"> $500$ </span> in the long-term, determine the exact values of <span class=\"m\"> $A$ </span>, <span class=\"m\"> $k$ </span>, and <span class=\"m\"> $c$ </span> in the model <span class=\"m\"> $V(t) = Ae^{-kt} + c$ </span>. Are the values of <span class=\"m\"> $A$ </span> and <span class=\"m\"> $k$ </span> the same or different from the model explored in (a)? Why? </span> </div></div>"
            ]
        },
        {
            "cell_type": "markdown",
            "metadata": {
                "collapsed": false,
                "editable": false
            },
            "source": [
                "<div class=\"not-editable individual\"><h2>Exercise 8</h2></div>"
            ]
        },
        {
            "cell_type": "markdown",
            "metadata": {
                "collapsed": false,
                "editable": false
            },
            "source": [
                "<div class=\"not-editable individual\"><span> In <a href=\"https://activecalculus.org/prelude/sec-exp-log.html#ez-exp-log-base-b\">Exercise 7</a>, we explored graphically how the function <span class=\"m\"> $y = \\log_b(x)$ </span> can be thought of as a vertical stretch of the nautral logarithm, <span class=\"m\"> $y = \\ln(x)$ </span>. In this exercise, we determine the exact value of the vertical stretch that is needed. </span></div>"
            ]
        },
        {
            "cell_type": "markdown",
            "metadata": {
                "collapsed": false,
                "editable": false
            },
            "source": [
                "<div class=\"not-editable individual\"><span> Recall that <span class=\"m\"> $\\log_b(x)$ </span> is the power to which we raise <span class=\"m\"> $b$ </span> to get <span class=\"m\"> $x$ </span>. </span></div>"
            ]
        },
        {
            "cell_type": "markdown",
            "metadata": {
                "collapsed": false,
                "editable": false
            },
            "source": [
                "<div class=\"not-editable individual\"><div><h4>Task A</h4> <span> Write the equation <span class=\"m\"> $y = \\log_b(x)$ </span> as an equivalent equation involving exponents with no logarithms present. </span> </div></div>"
            ]
        },
        {
            "cell_type": "markdown",
            "metadata": {
                "collapsed": false,
                "editable": false
            },
            "source": [
                "<div class=\"not-editable individual\"><div><h4>Task B</h4> <span> Take the equation you found in (a) and take the natural logarithm of each side. </span> </div></div>"
            ]
        },
        {
            "cell_type": "markdown",
            "metadata": {
                "collapsed": false,
                "editable": false
            },
            "source": [
                "<div class=\"not-editable individual\"><div><h4>Task C</h4> <span> Use rules and properties of logarithms appropriately to solve the equation from (b) for <span class=\"m\"> $y$ </span>. Your result here should express <span class=\"m\"> $y$ </span> in terms of <span class=\"m\"> $\\ln(x)$ </span> and <span class=\"m\"> $\\ln(b)$ </span>. </span> </div></div>"
            ]
        },
        {
            "cell_type": "markdown",
            "metadata": {
                "collapsed": false,
                "editable": false
            },
            "source": [
                "<div class=\"not-editable individual\"><div><h4>Task D</h4> <span> Recall that <span class=\"m\"> $y = \\log_b(x)$ </span>. Explain why the following equation (often called the Golden Rule for Logarithms) is true: <span class=\"m\"> $$ \\log_b(x) = \\frac{\\ln(x)}{\\ln(b)} $$ </span>. </span> </div></div>"
            ]
        },
        {
            "cell_type": "markdown",
            "metadata": {
                "collapsed": false,
                "editable": false
            },
            "source": [
                "<div class=\"not-editable individual\"><div><h4>Task E</h4> <span> What is the value of <span class=\"m\"> $k$ </span> that allows us to express the function <span class=\"m\"> $y = \\log_b(x)$ </span> as a vertical stretch of the function <span class=\"m\"> $y = \\ln(x)$ </span>? </span> </div></div>"
            ]
        }
    ],
    "nbformat": 4,
    "nbformat_minor": 4
}
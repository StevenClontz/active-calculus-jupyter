{
    "cells": [
        {
            "cell_type": "markdown",
            "metadata": {
                "collapsed": false,
                "editable": false
            },
            "source": [
                "<div class=\"not-editable individual\"><style> .not-editable{padding:1em;border-radius:10px;box-shadow:4px 4px 3px #ddd;margin:5px;} .not-editable.individual{background-color:#eefff8;} .not-editable.team{background-color:#eef8ff;} .sidebyside{display:flex;justify-content:center;} .sidebyside > *{margin-right:1em;flex:1;} caption{caption-side:top;white-space: nowrap;color:rgba(0,0,0,.45)}} figcaption{padding-top:0.75em;padding-bottom:0.3em;color:rgba(0,0,0,.45)} .fillin{display:inline-block;width:10em;margin-left:0.2em;margin-right:0.2em;height:1em;border-bottom:1px black solid;} .fn{font-size:0.8em;color:rgba(0,0,0.45)} .newcommands{display:none;} tt{background-color:#f8f8f8;border:1px #888 solid;border-radius:2px;padding-left:0.2em;padding-right:0.2em;} img{background-color:#fff;} </style> <div><h1>Section 2.3 The Sine and Cosine Functions</h1><h2>Individual Notebook</h2><div><a href=\"https://activecalculus.org/prelude/sec-circular-sine-cosine.html\">https://activecalculus.org/prelude/sec-circular-sine-cosine.html</a></div></div></div>"
            ]
        },
        {
            "cell_type": "markdown",
            "metadata": {
                "collapsed": false,
                "editable": false
            },
            "source": [
                "<div class=\"not-editable individual\"><h2>Preview Activity 2.3.1</h2></div>"
            ]
        },
        {
            "cell_type": "markdown",
            "metadata": {
                "collapsed": false,
                "editable": false
            },
            "source": [
                "<div class=\"not-editable individual\"><span> If we consider the unit circle in <a href=\"https://activecalculus.org/prelude/sec-circular-sine-cosine.html#F-circular-sine-all-16\">Figure 2.3.1</a>, start at <span class=\"m\"> $t = 0$ </span>, and traverse the circle counterclockwise, we may view the height, <span class=\"m\"> $h$ </span>, of the traversing point as a function of the angle, <span class=\"m\"> $t$ </span>, in radians. From there, we can plot the resulting <span class=\"m\"> $(t,h)$ </span> ordered pairs and connect them to generate the circular function pictured in <a href=\"https://activecalculus.org/prelude/sec-circular-sine-cosine.html#F-circular-sine-first-graph\">Figure 2.3.2</a>. </span></div>"
            ]
        },
        {
            "cell_type": "markdown",
            "metadata": {
                "collapsed": false,
                "editable": false
            },
            "source": [
                "<div class=\"not-editable individual\"><div><figure><figcaption><b>Figure 2.3.2.</b> Plot of the circular function that tracks the height of a point traversing the unit circle.</figcaption><div><img src=\"images/sine-labeling-graph.svg\"/></div></figure></div></div>"
            ]
        },
        {
            "cell_type": "markdown",
            "metadata": {
                "collapsed": false,
                "editable": false
            },
            "source": [
                "<div class=\"not-editable individual\"><div><h4>Task A</h4> <span> What is the exact value of <span class=\"m\"> $f( \\frac{\\pi}{4} )$ </span>? of <span class=\"m\"> $f( \\frac{\\pi}{3} )$ </span>? </span> </div></div>"
            ]
        },
        {
            "cell_type": "markdown",
            "metadata": {
                "collapsed": false,
                "editable": false
            },
            "source": [
                "<div class=\"not-editable individual\"><div><h4>Task B</h4> <span> Complete the following table with the exact values of <span class=\"m\"> $h$ </span> that correspond to the stated inputs. </span> <div><table><caption><b>Table 2.3.3.</b> Exact values of <span class=\"m\"> $h$ </span> as a function of <span class=\"m\"> $t$ </span>.</caption><tr><td><span class=\"m\"> $t$ </span></td><td><span class=\"m\"> $0$ </span></td><td><span class=\"m\"> $\\frac{\\pi}{6}$ </span></td><td><span class=\"m\"> $\\frac{\\pi}{4}$ </span></td><td><span class=\"m\"> $\\frac{\\pi}{3}$ </span></td><td><span class=\"m\"> $\\frac{\\pi}{2}$ </span></td><td><span class=\"m\"> $\\frac{2\\pi}{3}$ </span></td><td><span class=\"m\"> $\\frac{3\\pi}{4}$ </span></td><td><span class=\"m\"> $\\frac{5\\pi}{6}$ </span></td><td><span class=\"m\"> $\\pi$ </span></td></tr><tr><td><span class=\"m\"> $h$ </span></td><td/><td/><td/><td/><td/><td/><td/><td/><td/></tr><tr><td/></tr><tr><td><span class=\"m\"> $t$ </span></td><td><span class=\"m\"> $\\pi$ </span></td><td><span class=\"m\"> $\\frac{7\\pi}{6}$ </span></td><td><span class=\"m\"> $\\frac{5\\pi}{4}$ </span></td><td><span class=\"m\"> $\\frac{4\\pi}{3}$ </span></td><td><span class=\"m\"> $\\frac{3\\pi}{2}$ </span></td><td><span class=\"m\"> $\\frac{5\\pi}{3}$ </span></td><td><span class=\"m\"> $\\frac{7\\pi}{4}$ </span></td><td><span class=\"m\"> $\\frac{11\\pi}{6}$ </span></td><td><span class=\"m\"> $2\\pi$ </span></td></tr><tr><td><span class=\"m\"> $h$ </span></td><td/><td/><td/><td/><td/><td/><td/><td/><td/></tr></table></div> </div></div>"
            ]
        },
        {
            "cell_type": "markdown",
            "metadata": {
                "collapsed": false,
                "editable": false
            },
            "source": [
                "<div class=\"not-editable individual\"><div><h4>Task C</h4> <span> What is the exact value of <span class=\"m\"> $f( \\frac{11\\pi}{4} )$ </span>? of <span class=\"m\"> $f( \\frac{14\\pi}{3} )$ </span>? </span> </div></div>"
            ]
        },
        {
            "cell_type": "markdown",
            "metadata": {
                "collapsed": false,
                "editable": false
            },
            "source": [
                "<div class=\"not-editable individual\"><div><h4>Task D</h4> <span> Give four different values of <span class=\"m\"> $t$ </span> for which <span class=\"m\"> $f(t) = -\\frac{\\sqrt{3}}{2}$ </span>. </span> </div></div>"
            ]
        },
        {
            "cell_type": "markdown",
            "metadata": {
                "collapsed": false,
                "editable": false
            },
            "source": [
                "<div class=\"not-editable individual\"><h2>Exercise 5</h2></div>"
            ]
        },
        {
            "cell_type": "markdown",
            "metadata": {
                "collapsed": false,
                "editable": false
            },
            "source": [
                "<div class=\"not-editable individual\"><span> Without using a computational device, determine the exact value of each of the following quantities. </span></div>"
            ]
        },
        {
            "cell_type": "markdown",
            "metadata": {
                "collapsed": false,
                "editable": false
            },
            "source": [
                "<div class=\"not-editable individual\"><div><h4>Task A</h4> <span> <span class=\"m\"> $\\sin(-\\frac{11\\pi}{4})$ </span> </span> </div></div>"
            ]
        },
        {
            "cell_type": "markdown",
            "metadata": {
                "collapsed": false,
                "editable": false
            },
            "source": [
                "<div class=\"not-editable individual\"><div><h4>Task B</h4> <span> <span class=\"m\"> $\\cos(\\frac{29\\pi}{6})$ </span> </span> </div></div>"
            ]
        },
        {
            "cell_type": "markdown",
            "metadata": {
                "collapsed": false,
                "editable": false
            },
            "source": [
                "<div class=\"not-editable individual\"><div><h4>Task C</h4> <span> <span class=\"m\"> $\\sin(47\\pi)$ </span> </span> </div></div>"
            ]
        },
        {
            "cell_type": "markdown",
            "metadata": {
                "collapsed": false,
                "editable": false
            },
            "source": [
                "<div class=\"not-editable individual\"><div><h4>Task D</h4> <span> <span class=\"m\"> $\\cos(-113\\pi)$ </span> </span> </div></div>"
            ]
        },
        {
            "cell_type": "markdown",
            "metadata": {
                "collapsed": false,
                "editable": false
            },
            "source": [
                "<div class=\"not-editable individual\"><div><h4>Task E</h4> <span> <span class=\"m\"> $t$ </span> in quadrant III such that <span class=\"m\"> $\\cos(t) = -\\frac{\\sqrt{3}}{2}$ </span> </span> </div></div>"
            ]
        },
        {
            "cell_type": "markdown",
            "metadata": {
                "collapsed": false,
                "editable": false
            },
            "source": [
                "<div class=\"not-editable individual\"><div><h4>Task F</h4> <span> <span class=\"m\"> $t$ </span> in quadrant IV such that <span class=\"m\"> $\\sin(t) = -\\frac{\\sqrt{3}}{2}$ </span> </span> </div></div>"
            ]
        },
        {
            "cell_type": "markdown",
            "metadata": {
                "collapsed": false,
                "editable": false
            },
            "source": [
                "<div class=\"not-editable individual\"><h2>Exercise 6</h2></div>"
            ]
        },
        {
            "cell_type": "markdown",
            "metadata": {
                "collapsed": false,
                "editable": false
            },
            "source": [
                "<div class=\"not-editable individual\"><span> We now know three different identities involving the sine and cosine functions: <span class=\"m\"> $\\sin(t+\\frac{\\pi}{2}) = \\cos(t)$ </span>, <span class=\"m\"> $\\cos(t-\\frac{\\pi}{2}) = \\sin(t)$ </span>, and <span class=\"m\"> $\\cos^2(t) + \\sin^2(t) = 1$ </span>. Following are several proposed identities. For each, your task is to decide whether the identity is true or false. If true, give a convincing argument for why it is true; if false, give an example of a <span class=\"m\"> $t$ </span>-value for which the equation fails to hold. </span></div>"
            ]
        },
        {
            "cell_type": "markdown",
            "metadata": {
                "collapsed": false,
                "editable": false
            },
            "source": [
                "<div class=\"not-editable individual\"><div><h4>Task A</h4> <span> <span class=\"m\"> $\\cos(t + 2\\pi) = \\cos(t)$ </span> </span> </div></div>"
            ]
        },
        {
            "cell_type": "markdown",
            "metadata": {
                "collapsed": false,
                "editable": false
            },
            "source": [
                "<div class=\"not-editable individual\"><div><h4>Task B</h4> <span> <span class=\"m\"> $\\sin(t-\\pi) = -\\sin(t)$ </span> </span> </div></div>"
            ]
        },
        {
            "cell_type": "markdown",
            "metadata": {
                "collapsed": false,
                "editable": false
            },
            "source": [
                "<div class=\"not-editable individual\"><div><h4>Task C</h4> <span> <span class=\"m\"> $\\cos(t - \\frac{3\\pi}{2}) = \\sin(t)$ </span> </span> </div></div>"
            ]
        },
        {
            "cell_type": "markdown",
            "metadata": {
                "collapsed": false,
                "editable": false
            },
            "source": [
                "<div class=\"not-editable individual\"><div><h4>Task D</h4> <span> <span class=\"m\"> $\\sin^2(t) = 1 - \\cos^2(t)$ </span> </span> </div></div>"
            ]
        },
        {
            "cell_type": "markdown",
            "metadata": {
                "collapsed": false,
                "editable": false
            },
            "source": [
                "<div class=\"not-editable individual\"><div><h4>Task E</h4> <span> <span class=\"m\"> $\\sin(t) + \\cos(t) = 1$ </span> </span> </div></div>"
            ]
        },
        {
            "cell_type": "markdown",
            "metadata": {
                "collapsed": false,
                "editable": false
            },
            "source": [
                "<div class=\"not-editable individual\"><div><h4>Task F</h4> <span> <span class=\"m\"> $\\sin(t) + \\sin(\\frac{\\pi}{2}) = \\cos(t)$ </span> </span> </div></div>"
            ]
        }
    ],
    "nbformat": 4,
    "nbformat_minor": 4
}
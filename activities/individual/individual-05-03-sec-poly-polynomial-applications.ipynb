{
    "cells": [
        {
            "cell_type": "markdown",
            "metadata": {
                "collapsed": false,
                "editable": false
            },
            "source": [
                "<div class=\"not-editable individual\"><style> .not-editable{padding:1em;border-radius:10px;box-shadow:4px 4px 3px #ddd;margin:5px;} .not-editable.individual{background-color:#eefff8;} .not-editable.team{background-color:#eef8ff;} .sidebyside{display:flex;justify-content:center;} .sidebyside > *{margin-right:1em;flex:1;} caption{caption-side:top;white-space: nowrap;color:rgba(0,0,0,.45)}} figcaption{padding-top:0.75em;padding-bottom:0.3em;color:rgba(0,0,0,.45)} .fillin{display:inline-block;width:10em;margin-left:0.2em;margin-right:0.2em;height:1em;border-bottom:1px black solid;} .fn{font-size:0.8em;color:rgba(0,0,0.45)} .newcommands{display:none;} tt{background-color:#f8f8f8;border:1px #888 solid;border-radius:2px;padding-left:0.2em;padding-right:0.2em;} img{background-color:#fff;} </style> <div><h1>Section 5.3 Modeling with polynomial functions</h1><h2>Individual Notebook</h2><div><a href=\"https://activecalculus.org/prelude/sec-poly-polynomial-applications.html\">https://activecalculus.org/prelude/sec-poly-polynomial-applications.html</a></div></div></div>"
            ]
        },
        {
            "cell_type": "markdown",
            "metadata": {
                "collapsed": false,
                "editable": false
            },
            "source": [
                "<div class=\"not-editable individual\"><h2>Preview Activity 5.3.1</h2></div>"
            ]
        },
        {
            "cell_type": "markdown",
            "metadata": {
                "collapsed": false,
                "editable": false
            },
            "source": [
                "<div class=\"not-editable individual\"><span> A piece of cardboard that is <span class=\"m\"> $12 \\times 18$ </span> (each measured in inches) is being made into a box without a top. To do so, squares are cut from each corner of the cardboard and the remaining sides are folded up. </span></div>"
            ]
        },
        {
            "cell_type": "markdown",
            "metadata": {
                "collapsed": false,
                "editable": false
            },
            "source": [
                "<div class=\"not-editable individual\"><div><h4>Task A</h4> <span> Let <span class=\"m\"> $x$ </span> be the side length of the squares being cut from the corners of the cardboard. Draw a labeled diagram that shows the given information and the variable being used. </span> </div></div>"
            ]
        },
        {
            "cell_type": "markdown",
            "metadata": {
                "collapsed": false,
                "editable": false
            },
            "source": [
                "<div class=\"not-editable individual\"><div><h4>Task B</h4> <span> Determine a formula for the function <span class=\"m\"> $V$ </span> whose output is the volume of the box that results from a square of size <span class=\"m\"> $x \\times x$ </span> being cut from each corner of the cardboard. </span> </div></div>"
            ]
        },
        {
            "cell_type": "markdown",
            "metadata": {
                "collapsed": false,
                "editable": false
            },
            "source": [
                "<div class=\"not-editable individual\"><div><h4>Task C</h4> <span> What familiar kind of function is <span class=\"m\"> $V$ </span>? </span> </div></div>"
            ]
        },
        {
            "cell_type": "markdown",
            "metadata": {
                "collapsed": false,
                "editable": false
            },
            "source": [
                "<div class=\"not-editable individual\"><div><h4>Task D</h4> <span> What is the largest size of a square that could be cut from the cardboard and still have a resulting box? </span> </div></div>"
            ]
        },
        {
            "cell_type": "markdown",
            "metadata": {
                "collapsed": false,
                "editable": false
            },
            "source": [
                "<div class=\"not-editable individual\"><div><h4>Task E</h4> <span> What are the zeros of <span class=\"m\"> $V$ </span>? What is the domain of the model <span class=\"m\"> $V$ </span> in the context of the rectangular box? </span> </div></div>"
            ]
        },
        {
            "cell_type": "markdown",
            "metadata": {
                "collapsed": false,
                "editable": false
            },
            "source": [
                "<div class=\"not-editable individual\"><h2>Exercise 3</h2></div>"
            ]
        },
        {
            "cell_type": "markdown",
            "metadata": {
                "collapsed": false,
                "editable": false
            },
            "source": [
                "<div class=\"not-editable individual\"><span> An open triangular trough, as pictured in <a href=\"https://activecalculus.org/prelude/sec-poly-polynomial-applications.html#F-polynomial-applications-ez-trough\">Figure 5.3.6</a> is being contructed from aluminum. The trough is to have equilateral triangular ends of side length <span class=\"m\"> $s$ </span> and a length of <span class=\"m\"> $l$ </span>. We want the trough to used a fixed <span class=\"m\"> $100$ </span> square feet of aluminum. </span></div>"
            ]
        },
        {
            "cell_type": "markdown",
            "metadata": {
                "collapsed": false,
                "editable": false
            },
            "source": [
                "<div class=\"not-editable individual\"><div><figure><figcaption><b>Figure 5.3.6.</b> A triangular trough.</figcaption><div><img src=\"images/polynomial-applications-trough.svg\"/></div></figure></div></div>"
            ]
        },
        {
            "cell_type": "markdown",
            "metadata": {
                "collapsed": false,
                "editable": false
            },
            "source": [
                "<div class=\"not-editable individual\"><div><h4>Task A</h4> <span> What is the area of one of the equilateral triangle ends as a function of <span class=\"m\"> $s$ </span>? </span> </div></div>"
            ]
        },
        {
            "cell_type": "markdown",
            "metadata": {
                "collapsed": false,
                "editable": false
            },
            "source": [
                "<div class=\"not-editable individual\"><div><h4>Task B</h4> <span> Recall that for an object with constant cross-sectional area, its volume is the area of one of those cross-sections times its height (or length). Hence determine a formula for the volume of the trough that depends on <span class=\"m\"> $s$ </span> and <span class=\"m\"> $l$ </span>. </span> </div></div>"
            ]
        },
        {
            "cell_type": "markdown",
            "metadata": {
                "collapsed": false,
                "editable": false
            },
            "source": [
                "<div class=\"not-editable individual\"><div><h4>Task C</h4> <span> Find a formula involving <span class=\"m\"> $s$ </span> and <span class=\"m\"> $l$ </span> for the surface area of the trough. </span> </div></div>"
            ]
        },
        {
            "cell_type": "markdown",
            "metadata": {
                "collapsed": false,
                "editable": false
            },
            "source": [
                "<div class=\"not-editable individual\"><div><h4>Task D</h4> <span> Use the constraint that we have <span class=\"m\"> $100$ </span> square feet of available aluminum to generate an equation that connects <span class=\"m\"> $s$ </span> and <span class=\"m\"> $l$ </span> and hence solve for <span class=\"m\"> $l$ </span> in terms of <span class=\"m\"> $s$ </span>. </span> </div></div>"
            ]
        },
        {
            "cell_type": "markdown",
            "metadata": {
                "collapsed": false,
                "editable": false
            },
            "source": [
                "<div class=\"not-editable individual\"><div><h4>Task E</h4> <span> Use your work in (d) and (b) to express the volume of the trough, <span class=\"m\"> $V$ </span>, as a function of <span class=\"m\"> $l$ </span> only. </span> </div></div>"
            ]
        },
        {
            "cell_type": "markdown",
            "metadata": {
                "collapsed": false,
                "editable": false
            },
            "source": [
                "<div class=\"not-editable individual\"><div><h4>Task F</h4> <span> What is the domain of the function <span class=\"m\"> $V$ </span> in the context of the situation being modeled? Why? </span> </div></div>"
            ]
        },
        {
            "cell_type": "markdown",
            "metadata": {
                "collapsed": false,
                "editable": false
            },
            "source": [
                "<div class=\"not-editable individual\"><h2>Exercise 4</h2></div>"
            ]
        },
        {
            "cell_type": "markdown",
            "metadata": {
                "collapsed": false,
                "editable": false
            },
            "source": [
                "<div class=\"not-editable individual\"><span> A rectangular box is being constructed so that its base is twice as long as it is wide. In addition, the base and top of the box cost $<span class=\"m\"> $2$ </span> per square foot while the sides cost $<span class=\"m\"> $1.50$ </span> per square foot. If we only want to spend $<span class=\"m\"> $10$ </span> on materials for the box, how can we write the box's volume as a function of a single variable? What is the domain of this volume function? (Hint: first find the box's surface area in terms of two variables, and then find an expression for the cost of the box in terms of those same variables. Use the fact that cost is constrained to solve for one variable in terms of another.) </span></div>"
            ]
        },
        {
            "cell_type": "markdown",
            "metadata": {
                "collapsed": false,
                "editable": false
            },
            "source": [
                "<div class=\"not-editable individual\"><h2>Exercise 5</h2></div>"
            ]
        },
        {
            "cell_type": "markdown",
            "metadata": {
                "collapsed": false,
                "editable": false
            },
            "source": [
                "<div class=\"not-editable individual\"><span> Suppose that we want a cylindrical barrel to hold <span class=\"m\"> $8$ </span> cubic feet of volume. Let the barrel have radius <span class=\"m\"> $r$ </span> and height <span class=\"m\"> $h$ </span>, each measured in feet. How can we write the surface area, <span class=\"m\"> $A$ </span>, of the barrel solely as a function of <span class=\"m\"> $r$ </span>? </span></div>"
            ]
        },
        {
            "cell_type": "markdown",
            "metadata": {
                "collapsed": false,
                "editable": false
            },
            "source": [
                "<div class=\"not-editable individual\"><div><h4>Task A</h4> <span> Draw several possible pictures of how the barrel might look. For instance, what if the radius is very small? How will the height appear in comparison? Likewise, what happens if the height is very small? </span> </div></div>"
            ]
        },
        {
            "cell_type": "markdown",
            "metadata": {
                "collapsed": false,
                "editable": false
            },
            "source": [
                "<div class=\"not-editable individual\"><div><h4>Task B</h4> <span> Use the fact that volume is fixed at <span class=\"m\"> $8$ </span> cubic feet to state a constraint equation and solve that equation for <span class=\"m\"> $h$ </span> in terms of <span class=\"m\"> $r$ </span>. </span> </div></div>"
            ]
        },
        {
            "cell_type": "markdown",
            "metadata": {
                "collapsed": false,
                "editable": false
            },
            "source": [
                "<div class=\"not-editable individual\"><div><h4>Task C</h4> <span> Recall that the surface area of a cylinder is <span class=\"m\"> $A = 2\\pi r^2 + 2\\pi rh$ </span>. Use your work in (c) to write <span class=\"m\"> $A$ </span> as a function of only <span class=\"m\"> $r$ </span>. </span> </div></div>"
            ]
        },
        {
            "cell_type": "markdown",
            "metadata": {
                "collapsed": false,
                "editable": false
            },
            "source": [
                "<div class=\"not-editable individual\"><div><h4>Task D</h4> <span> What is the domain of <span class=\"m\"> $A$ </span>? Why? </span> </div></div>"
            ]
        },
        {
            "cell_type": "markdown",
            "metadata": {
                "collapsed": false,
                "editable": false
            },
            "source": [
                "<div class=\"not-editable individual\"><div><h4>Task E</h4> <span> Explain why <span class=\"m\"> $A$ </span> is not a polynomial function of <span class=\"m\"> $r$ </span>. </span> </div></div>"
            ]
        }
    ],
    "nbformat": 4,
    "nbformat_minor": 4
}
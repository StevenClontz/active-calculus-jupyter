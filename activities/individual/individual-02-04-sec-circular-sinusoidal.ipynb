{
    "cells": [
        {
            "cell_type": "markdown",
            "metadata": {
                "collapsed": false,
                "editable": false
            },
            "source": [
                "<div class=\"not-editable individual\"><style> .not-editable{padding:1em;border-radius:10px;box-shadow:4px 4px 3px #ddd;margin:5px;} .not-editable.individual{background-color:#eefff8;} .not-editable.team{background-color:#eef8ff;} .sidebyside{display:flex;justify-content:center;} .sidebyside > *{margin-right:1em;flex:1;} caption{caption-side:top;white-space: nowrap;color:rgba(0,0,0,.45)}} figcaption{padding-top:0.75em;padding-bottom:0.3em;color:rgba(0,0,0,.45)} .fillin{display:inline-block;width:10em;margin-left:0.2em;margin-right:0.2em;height:1em;border-bottom:1px black solid;} .fn{font-size:0.8em;color:rgba(0,0,0.45)} .newcommands{display:none;} tt{background-color:#f8f8f8;border:1px #888 solid;border-radius:2px;padding-left:0.2em;padding-right:0.2em;} img{background-color:#fff;} </style> <div><h1>Section 2.4 Sinusoidal Functions</h1><h2>Individual Notebook</h2><div><a href=\"https://activecalculus.org/prelude/sec-circular-sinusoidal.html\">https://activecalculus.org/prelude/sec-circular-sinusoidal.html</a></div></div></div>"
            ]
        },
        {
            "cell_type": "markdown",
            "metadata": {
                "collapsed": false,
                "editable": false
            },
            "source": [
                "<div class=\"not-editable individual\"><h2>Preview Activity 2.4.1</h2></div>"
            ]
        },
        {
            "cell_type": "markdown",
            "metadata": {
                "collapsed": false,
                "editable": false
            },
            "source": [
                "<div class=\"not-editable individual\"><span> Let <span class=\"m\"> $f(t) = \\cos(t)$ </span>. First, answer all of the questions below without using Desmos; then use Desmos to confirm your conjectures. For each prompt, describe the graphs of <span class=\"m\"> $g$ </span> and <span class=\"m\"> $h$ </span> as transformations of <span class=\"m\"> $f$ </span> and, in addition, state the amplitude, midline, and period of both <span class=\"m\"> $g$ </span> and <span class=\"m\"> $h$ </span>. </span></div>"
            ]
        },
        {
            "cell_type": "markdown",
            "metadata": {
                "collapsed": false,
                "editable": false
            },
            "source": [
                "<div class=\"not-editable individual\"><div><h4>Task A</h4> <span> <span class=\"m\"> $g(t) = 3\\cos(t)$ </span> and <span class=\"m\"> $h(t) = -\\frac{1}{4}\\cos(t)$ </span> </span> </div></div>"
            ]
        },
        {
            "cell_type": "markdown",
            "metadata": {
                "collapsed": false,
                "editable": false
            },
            "source": [
                "<div class=\"not-editable individual\"><div><h4>Task B</h4> <span> <span class=\"m\"> $g(t) = \\cos(t-\\pi)$ </span> and <span class=\"m\"> $h(t) = \\cos\\left(t+ \\frac{\\pi}{2}\\right)$ </span> </span> </div></div>"
            ]
        },
        {
            "cell_type": "markdown",
            "metadata": {
                "collapsed": false,
                "editable": false
            },
            "source": [
                "<div class=\"not-editable individual\"><div><h4>Task C</h4> <span> <span class=\"m\"> $g(t) = \\cos(t)+4$ </span> and <span class=\"m\"> $h(t) = \\cos\\left(t\\right)-2$ </span> </span> </div></div>"
            ]
        },
        {
            "cell_type": "markdown",
            "metadata": {
                "collapsed": false,
                "editable": false
            },
            "source": [
                "<div class=\"not-editable individual\"><div><h4>Task D</h4> <span> <span class=\"m\"> $g(t) = 3\\cos(t-\\pi)+4$ </span> and <span class=\"m\"> $h(t) = -\\frac{1}{4}\\cos\\left(t+ \\frac{\\pi}{2}\\right)-2$ </span> </span> </div></div>"
            ]
        },
        {
            "cell_type": "markdown",
            "metadata": {
                "collapsed": false,
                "editable": false
            },
            "source": [
                "<div class=\"not-editable individual\"><h2>Exercise 7</h2></div>"
            ]
        },
        {
            "cell_type": "markdown",
            "metadata": {
                "collapsed": false,
                "editable": false
            },
            "source": [
                "<div class=\"not-editable individual\"><span> Find a possible formula for the circular function whose values are in the following table. </span></div>"
            ]
        },
        {
            "cell_type": "markdown",
            "metadata": {
                "collapsed": false,
                "editable": false
            },
            "source": [
                "<div class=\"not-editable individual\"><div><table><caption><b>Table 2.4.7.</b> Data for a circular function.</caption><tr><td><span class=\"m\"> $x$ </span></td><td>0</td><td>0.1</td><td>0.2</td><td>0.3</td><td>0.4</td><td>0.5</td><td>0.6</td><td>0.7</td><td>0.8</td><td>0.9</td><td>1.0</td></tr><tr><td><span class=\"m\"> $g(x)$ </span></td><td>2</td><td>2.6</td><td>3</td><td>3</td><td>2.6</td><td>2</td><td>1.4</td><td>1</td><td>1</td><td>1.4</td><td>2</td></tr></table></div></div>"
            ]
        },
        {
            "cell_type": "markdown",
            "metadata": {
                "collapsed": false,
                "editable": false
            },
            "source": [
                "<div class=\"not-editable individual\"><span> Hint: Plot the points first; doing so in Desmos is ideal. </span></div>"
            ]
        },
        {
            "cell_type": "markdown",
            "metadata": {
                "collapsed": false,
                "editable": false
            },
            "source": [
                "<div class=\"not-editable individual\"><h2>Exercise 8</h2></div>"
            ]
        },
        {
            "cell_type": "markdown",
            "metadata": {
                "collapsed": false,
                "editable": false
            },
            "source": [
                "<div class=\"not-editable individual\"><span> In 2018, on the summer solstice, June 21, Grand Rapids, MI, experiences <span class=\"m\"> $15$ </span> hours, <span class=\"m\"> $21$ </span> minutes, and <span class=\"m\"> $25$ </span> seconds of daylight. Said differently, on the <span class=\"m\"> $172$ </span>nd day of the year, people on earth at the latitude of Grand Rapids experience <span class=\"m\"> $15.3569$ </span> hours of daylight. On the winter solstice, December 21, 2018, the same latitude has <span class=\"m\"> $9$ </span> hours, <span class=\"m\"> $0$ </span> minutes, and <span class=\"m\"> $31$ </span> seconds of daylight; equivalently, on day <span class=\"m\"> $355$ </span>, there are <span class=\"m\"> $9.0086$ </span> hours of daylight. This data is essentially identical every year as the patterns of the earth's rotation repeat. </span></div>"
            ]
        },
        {
            "cell_type": "markdown",
            "metadata": {
                "collapsed": false,
                "editable": false
            },
            "source": [
                "<div class=\"not-editable individual\"><span> Let <span class=\"m\"> $t$ </span> be the day of the year starting with <span class=\"m\"> $t = 0$ </span> on December 31, 2017. In addition, let <span class=\"m\"> $s(t)$ </span> be the number of hours of daylight on day <span class=\"m\"> $t$ </span> in Grand Rapids, MI. Find a formula for a circular function <span class=\"m\"> $s(t)$ </span> that fits this data. What is the function's midline, amplitude, and period? What are you using as an anchor point? Explain fully, and then graph your function to check your conclusions. </span></div>"
            ]
        },
        {
            "cell_type": "markdown",
            "metadata": {
                "collapsed": false,
                "editable": false
            },
            "source": [
                "<div class=\"not-editable individual\"><h2>Exercise 9</h2></div>"
            ]
        },
        {
            "cell_type": "markdown",
            "metadata": {
                "collapsed": false,
                "editable": false
            },
            "source": [
                "<div class=\"not-editable individual\"><span> We now understand the effects of the transformation <span class=\"m\"> $h(t) = f(kt)$ </span> where <span class=\"m\"> $k \\gt 0$ </span> for a given function <span class=\"m\"> $f$ </span>. Our goal is to understand what happens when <span class=\"m\"> $k \\lt 0$ </span>. </span></div>"
            ]
        },
        {
            "cell_type": "markdown",
            "metadata": {
                "collapsed": false,
                "editable": false
            },
            "source": [
                "<div class=\"not-editable individual\"><div><h4>Task A</h4> <span> We first consider the special case where <span class=\"m\"> $k = -1$ </span>. Let <span class=\"m\"> $f(t) = 2t - 1$ </span>, and let <span class=\"m\"> $g(t) = f(-1 \\cdot t) = f(-t) = -2t - 1$ </span>. Plot <span class=\"m\"> $f$ </span> and <span class=\"m\"> $g$ </span> on the same coordinate axes. How are their graphs related to one another? </span> </div></div>"
            ]
        },
        {
            "cell_type": "markdown",
            "metadata": {
                "collapsed": false,
                "editable": false
            },
            "source": [
                "<div class=\"not-editable individual\"><div><h4>Task B</h4> <span> Given any function <span class=\"m\"> $p$ </span>, how do you expect the graph of <span class=\"m\"> $y = q(t) = p(-t)$ </span> to be related to the graph of <span class=\"m\"> $p$ </span>? </span> </div></div>"
            ]
        },
        {
            "cell_type": "markdown",
            "metadata": {
                "collapsed": false,
                "editable": false
            },
            "source": [
                "<div class=\"not-editable individual\"><div><h4>Task C</h4> <span> How is the graph of <span class=\"m\"> $y = \\sin(-3t)$ </span> related to the graph of <span class=\"m\"> $y = \\sin(t)$ </span>? </span> </div></div>"
            ]
        },
        {
            "cell_type": "markdown",
            "metadata": {
                "collapsed": false,
                "editable": false
            },
            "source": [
                "<div class=\"not-editable individual\"><div><h4>Task D</h4> <span> How is the graph of <span class=\"m\"> $y = \\cos(-3t)$ </span> related to the graph of <span class=\"m\"> $y = \\cos(t)$ </span>? </span> </div></div>"
            ]
        },
        {
            "cell_type": "markdown",
            "metadata": {
                "collapsed": false,
                "editable": false
            },
            "source": [
                "<div class=\"not-editable individual\"><div><h4>Task E</h4> <span> Given any function <span class=\"m\"> $p$ </span> and a constant <span class=\"m\"> $k \\lt 0$ </span>, how do you expect the graph of <span class=\"m\"> $y = q(t) = p(kt)$ </span> to be related to the graph of <span class=\"m\"> $p$ </span>? </span> </div></div>"
            ]
        },
        {
            "cell_type": "markdown",
            "metadata": {
                "collapsed": false,
                "editable": false
            },
            "source": [
                "<div class=\"not-editable individual\"><div><h4>Task F</h4> <span> How are <span class=\"m\"> $\\sin(-t)$ </span> and <span class=\"m\"> $\\sin(t)$ </span> related? How are <span class=\"m\"> $\\cos(t)$ </span> and <span class=\"m\"> $\\cos(-t)$ </span> related? </span> </div></div>"
            ]
        }
    ],
    "nbformat": 4,
    "nbformat_minor": 4
}
{
    "cells": [
        {
            "cell_type": "markdown",
            "metadata": {
                "collapsed": false,
                "editable": false
            },
            "source": [
                "<div class=\"not-editable individual\"><style> .not-editable{padding:1em;border-radius:10px;box-shadow:4px 4px 3px #ddd;margin:5px;} .not-editable.individual{background-color:#eefff8;} .not-editable.team{background-color:#eef8ff;} .sidebyside{display:flex;justify-content:center;} .sidebyside > *{margin-right:1em;flex:1;} caption{caption-side:top;white-space: nowrap;color:rgba(0,0,0,.45)}} figcaption{padding-top:0.75em;padding-bottom:0.3em;color:rgba(0,0,0,.45)} .fillin{display:inline-block;width:10em;margin-left:0.2em;margin-right:0.2em;height:1em;border-bottom:1px black solid;} .fn{font-size:0.8em;color:rgba(0,0,0.45)} .newcommands{display:none;} tt{background-color:#f8f8f8;border:1px #888 solid;border-radius:2px;padding-left:0.2em;padding-right:0.2em;} img{background-color:#fff;} </style> <div><h1>Section 2.1 Traversing Circles</h1><h2>Individual Notebook</h2><div><a href=\"https://activecalculus.org/prelude/sec-circular-traversing.html\">https://activecalculus.org/prelude/sec-circular-traversing.html</a></div></div></div>"
            ]
        },
        {
            "cell_type": "markdown",
            "metadata": {
                "collapsed": false,
                "editable": false
            },
            "source": [
                "<div class=\"not-editable individual\"><h2>Preview Activity 2.1.1</h2></div>"
            ]
        },
        {
            "cell_type": "markdown",
            "metadata": {
                "collapsed": false,
                "editable": false
            },
            "source": [
                "<div class=\"not-editable individual\"><span> In the context of the ferris wheel pictured in <a href=\"https://activecalculus.org/prelude/sec-circular-traversing.html#F-traversing-ferris-wheel-animation\">Figure 2.1.1</a>, assume that the height, <span class=\"m\"> $h$ </span>, of the moving point (the cab in which you are riding), and the distance, <span class=\"m\"> $d$ </span>, that the point has traveled around the circumference of the ferris wheel are both measured in meters. </span></div>"
            ]
        },
        {
            "cell_type": "markdown",
            "metadata": {
                "collapsed": false,
                "editable": false
            },
            "source": [
                "<div class=\"not-editable individual\"><span> Further, assume that the circumference of the ferris wheel is <span class=\"m\"> $150$ </span> meters. In addition, suppose that after getting in your cab at the lowest point on the wheel, you traverse the full circle several times. </span></div>"
            ]
        },
        {
            "cell_type": "markdown",
            "metadata": {
                "collapsed": false,
                "editable": false
            },
            "source": [
                "<div class=\"not-editable individual\"><div><h4>Task A</h4> <span> Recall that the circumference, <span class=\"m\"> $C$ </span>, of a circle is connected to the circle's radius, <span class=\"m\"> $r$ </span>, by the formula <span class=\"m\"> $C = 2\\pi r$ </span>. What is the radius of the ferris wheel? How high is the highest point on the ferris wheel? </span> </div></div>"
            ]
        },
        {
            "cell_type": "markdown",
            "metadata": {
                "collapsed": false,
                "editable": false
            },
            "source": [
                "<div class=\"not-editable individual\"><div><h4>Task B</h4> <span> How high is the cab after it has traveled <span class=\"m\"> $1/4$ </span> of the circumference of the circle? </span> </div></div>"
            ]
        },
        {
            "cell_type": "markdown",
            "metadata": {
                "collapsed": false,
                "editable": false
            },
            "source": [
                "<div class=\"not-editable individual\"><div><h4>Task C</h4> <span> How much distance along the circle has the cab traversed at the moment it first reaches a height of <span class=\"m\"> $\\frac{150}{\\pi} \\approx 47.75$ </span> meters? </span> </div></div>"
            ]
        },
        {
            "cell_type": "markdown",
            "metadata": {
                "collapsed": false,
                "editable": false
            },
            "source": [
                "<div class=\"not-editable individual\"><div><h4>Task D</h4> <span> Can <span class=\"m\"> $h$ </span> be thought of as a function of <span class=\"m\"> $d$ </span>? Why or why not? </span> </div></div>"
            ]
        },
        {
            "cell_type": "markdown",
            "metadata": {
                "collapsed": false,
                "editable": false
            },
            "source": [
                "<div class=\"not-editable individual\"><div><h4>Task E</h4> <span> Can <span class=\"m\"> $d$ </span> be thought of as a function of <span class=\"m\"> $h$ </span>? Why or why not? </span> </div></div>"
            ]
        },
        {
            "cell_type": "markdown",
            "metadata": {
                "collapsed": false,
                "editable": false
            },
            "source": [
                "<div class=\"not-editable individual\"><div><h4>Task F</h4> <span> Why do you think the curve shown at right in <a href=\"https://activecalculus.org/prelude/sec-circular-traversing.html#F-traversing-ferris-wheel-animation\">Figure 2.1.1</a> has the shape that it does? Write several sentences to explain. </span> </div></div>"
            ]
        },
        {
            "cell_type": "markdown",
            "metadata": {
                "collapsed": false,
                "editable": false
            },
            "source": [
                "<div class=\"not-editable individual\"><h2>Exercise 5</h2></div>"
            ]
        },
        {
            "cell_type": "markdown",
            "metadata": {
                "collapsed": false,
                "editable": false
            },
            "source": [
                "<div class=\"not-editable individual\"><span> Consider the circle pictured in <a href=\"https://activecalculus.org/prelude/sec-circular-traversing.html#F-act-circular-traversing-circle-horiz\">Figure 2.1.14</a> that is centered at the point <span class=\"m\"> $(2,2)$ </span> and that has circumference <span class=\"m\"> $8$ </span>. Suppose that we track the <span class=\"m\"> $x$ </span>-coordinate (that is, the horizontal location, which we will call <span class=\"m\"> $k$ </span>) of a point that is traversing the circle counterclockwise and that it starts at <span class=\"m\"> $P_0$ </span> as pictured. </span></div>"
            ]
        },
        {
            "cell_type": "markdown",
            "metadata": {
                "collapsed": false,
                "editable": false
            },
            "source": [
                "<div class=\"not-editable individual\"><div class=\"sidebyside\"><div><figure><figcaption><b>Figure 2.1.14.</b> A point traversing the circle.</figcaption><div><img src=\"images/traversing-act-circle.svg\"/></div></figure></div><div><figure><figcaption><b>Figure 2.1.15.</b> Axes for plotting <span class=\"m\"> $k$ </span> as a function of <span class=\"m\"> $d$ </span>.</figcaption><div><img src=\"images/traversing-act-circular-grid-horiz.svg\"/></div></figure></div></div></div>"
            ]
        },
        {
            "cell_type": "markdown",
            "metadata": {
                "collapsed": false,
                "editable": false
            },
            "source": [
                "<div class=\"not-editable individual\"><span> Recall that in <a href=\"https://activecalculus.org/prelude/sec-circular-traversing.html#act-circular-traversing-2nd-ex\">Activity 2.1.2</a> we identified the exact and approximate vertical coordinates of all <span class=\"m\"> $8$ </span> noted points on the unit circle. In addition, recall that the radius of the circle is <span class=\"m\"> $r = \\frac{8}{2\\pi} \\approx 1.2732$ </span>. </span></div>"
            ]
        },
        {
            "cell_type": "markdown",
            "metadata": {
                "collapsed": false,
                "editable": false
            },
            "source": [
                "<div class=\"not-editable individual\"><div><h4>Task A</h4> <span> What is the exact horizontal coordinate of <span class=\"m\"> $P_0$ </span>? Why? </span> </div></div>"
            ]
        },
        {
            "cell_type": "markdown",
            "metadata": {
                "collapsed": false,
                "editable": false
            },
            "source": [
                "<div class=\"not-editable individual\"><div><h4>Task B</h4> <span> Complete the entries in <a href=\"https://activecalculus.org/prelude/sec-circular-traversing.html#T-act-circular-traversing-2nd-ex-horiz\">Table 2.1.16</a> that track the horizontal location, <span class=\"m\"> $k$ </span>, of the point traversing the circle as a function of distance traveled, <span class=\"m\"> $d$ </span>. </span> <div><table><caption><b>Table 2.1.16.</b> Data for <span class=\"m\"> $h$ </span> as a function of <span class=\"m\"> $d$ </span>.</caption><tr><td><span class=\"m\"> $d$ </span></td><td><span class=\"m\"> $0$ </span></td><td><span class=\"m\"> $1$ </span></td><td><span class=\"m\"> $2$ </span></td><td><span class=\"m\"> $3$ </span></td><td><span class=\"m\"> $4$ </span></td><td><span class=\"m\"> $5$ </span></td><td><span class=\"m\"> $6$ </span></td><td><span class=\"m\"> $7$ </span></td><td><span class=\"m\"> $8$ </span></td><td><span class=\"m\"> $9$ </span></td><td><span class=\"m\"> $10$ </span></td><td><span class=\"m\"> $11$ </span></td><td><span class=\"m\"> $12$ </span></td><td><span class=\"m\"> $13$ </span></td><td><span class=\"m\"> $14$ </span></td><td><span class=\"m\"> $15$ </span></td><td><span class=\"m\"> $16$ </span></td></tr><tr><td><span class=\"m\"> $k$ </span></td><td><span class=\"m\"> $0.73$ </span></td><td/><td/><td/><td/><td/><td/><td/><td/><td/><td/><td/><td/><td/><td/><td/><td/></tr></table></div> </div></div>"
            ]
        },
        {
            "cell_type": "markdown",
            "metadata": {
                "collapsed": false,
                "editable": false
            },
            "source": [
                "<div class=\"not-editable individual\"><div><h4>Task C</h4> <span> By plotting the points in <a href=\"https://activecalculus.org/prelude/sec-circular-traversing.html#T-act-circular-traversing-2nd-ex-horiz\">Table 2.1.16</a> and connecting them in an intuitive way, sketch a graph of <span class=\"m\"> $k$ </span> as a function of <span class=\"m\"> $d$ </span> on the axes provided in <a href=\"https://activecalculus.org/prelude/sec-circular-traversing.html#F-act-circular-traversing-grid-horiz\">Figure 2.1.15</a> over the interval <span class=\"m\"> $0 \\le d \\le 16$ </span>. Clearly label the scale of your axes and the coordinates of several important points on the curve. </span> </div></div>"
            ]
        },
        {
            "cell_type": "markdown",
            "metadata": {
                "collapsed": false,
                "editable": false
            },
            "source": [
                "<div class=\"not-editable individual\"><div><h4>Task D</h4> <span> What is similar about your graph in comparison to the one in <a href=\"https://activecalculus.org/prelude/sec-circular-traversing.html#F-act-circular-traversing-grid\">Figure 2.1.7</a>? What is different? </span> </div></div>"
            ]
        },
        {
            "cell_type": "markdown",
            "metadata": {
                "collapsed": false,
                "editable": false
            },
            "source": [
                "<div class=\"not-editable individual\"><div><h4>Task E</h4> <span> What will be the value of <span class=\"m\"> $k$ </span> when <span class=\"m\"> $d = 51$ </span>? How about when <span class=\"m\"> $d = 102$ </span>? </span> </div></div>"
            ]
        },
        {
            "cell_type": "markdown",
            "metadata": {
                "collapsed": false,
                "editable": false
            },
            "source": [
                "<div class=\"not-editable individual\"><h2>Exercise 6</h2></div>"
            ]
        },
        {
            "cell_type": "markdown",
            "metadata": {
                "collapsed": false,
                "editable": false
            },
            "source": [
                "<div class=\"not-editable individual\"><span> Two circular functions, <span class=\"m\"> $f$ </span> and <span class=\"m\"> $g$ </span>, are generated by tracking the <span class=\"m\"> $y$ </span>-coordinate of a point traversing two different circles. The resulting graphs are shown in <a href=\"https://activecalculus.org/prelude/sec-circular-traversing.html#F-circular-traversing-fxn-1\">Figure 2.1.17</a> and <a href=\"https://activecalculus.org/prelude/sec-circular-traversing.html#F-circular-traversing-fxn-2\">Figure 2.1.18</a>. Assuming the horizontal scale matches the vertical scale, answer the following questions for each of the functions <span class=\"m\"> $f$ </span> and <span class=\"m\"> $g$ </span>. </span></div>"
            ]
        },
        {
            "cell_type": "markdown",
            "metadata": {
                "collapsed": false,
                "editable": false
            },
            "source": [
                "<div class=\"not-editable individual\"><div class=\"sidebyside\"><div><figure><figcaption><b>Figure 2.1.17.</b> A plot of the circular function <span class=\"m\"> $f$ </span>.</figcaption><div><img src=\"images/traversing-ez-fxn-1.svg\"/></div></figure></div><div><figure><figcaption><b>Figure 2.1.18.</b> A plot of the circular function <span class=\"m\"> $g$ </span>.</figcaption><div><img src=\"images/traversing-ez-fxn-2.svg\"/></div></figure></div></div></div>"
            ]
        },
        {
            "cell_type": "markdown",
            "metadata": {
                "collapsed": false,
                "editable": false
            },
            "source": [
                "<div class=\"not-editable individual\"><div><h4>Task A</h4> <span> Assume that the circle used to generate the circular function is centered at the point <span class=\"m\"> $(0,m)$ </span> and has radius <span class=\"m\"> $r$ </span>. What are the numerical values of <span class=\"m\"> $m$ </span> and <span class=\"m\"> $r$ </span>? Why? </span> </div></div>"
            ]
        },
        {
            "cell_type": "markdown",
            "metadata": {
                "collapsed": false,
                "editable": false
            },
            "source": [
                "<div class=\"not-editable individual\"><div><h4>Task B</h4> <span> What are the coordinates of the location on the circle at which the point begins its traverse? Said differently, what point on the circle corresponds to <span class=\"m\"> $t = 0$ </span> on the function's graph? </span> </div></div>"
            ]
        },
        {
            "cell_type": "markdown",
            "metadata": {
                "collapsed": false,
                "editable": false
            },
            "source": [
                "<div class=\"not-editable individual\"><div><h4>Task C</h4> <span> What is the period of the function? How is this connected to the circle and to the scale on the horizontal axes on which the function is graphed? </span> </div></div>"
            ]
        },
        {
            "cell_type": "markdown",
            "metadata": {
                "collapsed": false,
                "editable": false
            },
            "source": [
                "<div class=\"not-editable individual\"><div><h4>Task D</h4> <span> How would the graph look if the circle's radius was <span class=\"m\"> $1$ </span> unit larger? <span class=\"m\"> $1$ </span> unit smaller? </span> </div></div>"
            ]
        },
        {
            "cell_type": "markdown",
            "metadata": {
                "collapsed": false,
                "editable": false
            },
            "source": [
                "<div class=\"not-editable individual\"><h2>Exercise 7</h2></div>"
            ]
        },
        {
            "cell_type": "markdown",
            "metadata": {
                "collapsed": false,
                "editable": false
            },
            "source": [
                "<div class=\"not-editable individual\"><span> A person goes for a ride on a ferris wheel. They enter one of the cars at the lowest possible point on the wheel from a platform <span class=\"m\"> $7$ </span> feet off the ground. When they are at the very top of the wheel, they are <span class=\"m\"> $92$ </span> feet off the ground. Let <span class=\"m\"> $h$ </span> represent the height of the car (in feet) and <span class=\"m\"> $d$ </span> (in feet) the distance the car has traveled along the wheel's circumference from its starting location at the bottom of the wheel. We'll use the notation <span class=\"m\"> $h = f(d)$ </span> for how height is a function of distance traveled. </span></div>"
            ]
        },
        {
            "cell_type": "markdown",
            "metadata": {
                "collapsed": false,
                "editable": false
            },
            "source": [
                "<div class=\"not-editable individual\"><div><h4>Task A</h4> <span> How high above the ground is the center of the ferris wheel? </span> </div></div>"
            ]
        },
        {
            "cell_type": "markdown",
            "metadata": {
                "collapsed": false,
                "editable": false
            },
            "source": [
                "<div class=\"not-editable individual\"><div><h4>Task B</h4> <span> How far does the car travel in one complete trip around the wheel? </span> </div></div>"
            ]
        },
        {
            "cell_type": "markdown",
            "metadata": {
                "collapsed": false,
                "editable": false
            },
            "source": [
                "<div class=\"not-editable individual\"><div><h4>Task C</h4> <span> For the circular function <span class=\"m\"> $h = f(d)$ </span>, what is its amplitude? midline? period? </span> </div></div>"
            ]
        },
        {
            "cell_type": "markdown",
            "metadata": {
                "collapsed": false,
                "editable": false
            },
            "source": [
                "<div class=\"not-editable individual\"><div><h4>Task D</h4> <span> Sketch an accurate graph of <span class=\"m\"> $h$ </span> through at least two full periods. Clearly label the scale on the horizontal and vertical axes along with several important points. </span> </div></div>"
            ]
        }
    ],
    "nbformat": 4,
    "nbformat_minor": 4
}
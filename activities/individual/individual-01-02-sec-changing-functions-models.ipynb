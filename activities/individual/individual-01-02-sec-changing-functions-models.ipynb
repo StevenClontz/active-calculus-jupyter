{
    "cells": [
        {
            "cell_type": "markdown",
            "metadata": {
                "collapsed": false,
                "editable": false
            },
            "source": [
                "<div class=\"not-editable individual\"><style> .not-editable{padding:1em;border-radius:10px;box-shadow:4px 4px 3px #ddd;margin:5px;} .not-editable.individual{background-color:#eefff8;} .not-editable.team{background-color:#eef8ff;} .sidebyside{display:flex;justify-content:center;} .sidebyside > *{margin-right:1em;flex:1;} caption{caption-side:top;white-space: nowrap;color:rgba(0,0,0,.45)}} figcaption{padding-top:0.75em;padding-bottom:0.3em;color:rgba(0,0,0,.45)} .fillin{display:inline-block;width:10em;margin-left:0.2em;margin-right:0.2em;height:1em;border-bottom:1px black solid;} .fn{font-size:0.8em;color:rgba(0,0,0.45)} .newcommands{display:none;} tt{background-color:#f8f8f8;border:1px #888 solid;border-radius:2px;padding-left:0.2em;padding-right:0.2em;} img{background-color:#fff;} </style> <div><h1>Section 1.2 Functions: Modeling Relationships</h1><h2>Individual Notebook</h2><div><a href=\"https://activecalculus.org/prelude/sec-changing-functions-models.html\">https://activecalculus.org/prelude/sec-changing-functions-models.html</a></div></div></div>"
            ]
        },
        {
            "cell_type": "markdown",
            "metadata": {
                "collapsed": false,
                "editable": false
            },
            "source": [
                "<div class=\"not-editable individual\"><h2>Preview Activity 1.2.1</h2></div>"
            ]
        },
        {
            "cell_type": "markdown",
            "metadata": {
                "collapsed": false,
                "editable": false
            },
            "source": [
                "<div class=\"not-editable individual\"><span> Use <a href=\"https://activecalculus.org/prelude/sec-changing-functions-models.html#eq-functions-Dolbear\">Equation 1.2.1</a> to respond to the questions below. </span></div>"
            ]
        },
        {
            "cell_type": "markdown",
            "metadata": {
                "collapsed": false,
                "editable": false
            },
            "source": [
                "<div class=\"not-editable individual\"><div><h4>Task A</h4> <span> If we hear snowy tree crickets chirping at a rate of <span class=\"m\"> $92$ </span> chirps per minute, what does Dolbear's model suggest should be the outside temperature? </span> </div></div>"
            ]
        },
        {
            "cell_type": "markdown",
            "metadata": {
                "collapsed": false,
                "editable": false
            },
            "source": [
                "<div class=\"not-editable individual\"><div><h4>Task B</h4> <span> If the outside temperature is <span class=\"m\"> $77^\\circ$ </span> F, how many chirps per minute should we expect to hear? </span> </div></div>"
            ]
        },
        {
            "cell_type": "markdown",
            "metadata": {
                "collapsed": false,
                "editable": false
            },
            "source": [
                "<div class=\"not-editable individual\"><div><h4>Task C</h4> <span> Is the model valid for determining the number of chirps one should hear when the outside temperature is <span class=\"m\"> $35^\\circ$ </span> F? Why or why not? </span> </div></div>"
            ]
        },
        {
            "cell_type": "markdown",
            "metadata": {
                "collapsed": false,
                "editable": false
            },
            "source": [
                "<div class=\"not-editable individual\"><div><h4>Task D</h4> <span> Suppose that in the morning an observer hears <span class=\"m\"> $65$ </span> chirps per minute, and several hours later hears <span class=\"m\"> $75$ </span> chirps per minute. How much has the temperature risen between observations? </span> </div></div>"
            ]
        },
        {
            "cell_type": "markdown",
            "metadata": {
                "collapsed": false,
                "editable": false
            },
            "source": [
                "<div class=\"not-editable individual\"><div><h4>Task E</h4> <span> Dolbear's Law is known to be accurate for temperatures from <span class=\"m\"> $50^\\circ$ </span> to <span class=\"m\"> $85^\\circ$ </span>. What is the fewest number of chirps per minute an observer could expect to hear? the greatest number of chirps per minute? </span> </div></div>"
            ]
        },
        {
            "cell_type": "markdown",
            "metadata": {
                "collapsed": false,
                "editable": false
            },
            "source": [
                "<div class=\"not-editable individual\"><h2>Exercise 7</h2></div>"
            ]
        },
        {
            "cell_type": "markdown",
            "metadata": {
                "collapsed": false,
                "editable": false
            },
            "source": [
                "<div class=\"not-editable individual\"><span> Consider an inverted conical tank (point down) whose top has a radius of <span class=\"m\"> $3$ </span> feet and that is <span class=\"m\"> $2$ </span> feet deep. The tank is initially empty and then is filled at a constant rate of <span class=\"m\"> $0.75$ </span> cubic feet per minute. Let <span class=\"m\"> $V=f(t)$ </span> denote the volume of water (in cubic feet) at time <span class=\"m\"> $t$ </span> in minutes, and let <span class=\"m\"> $h= g(t)$ </span> denote the depth of the water (in feet) at time <span class=\"m\"> $t$ </span>. </span></div>"
            ]
        },
        {
            "cell_type": "markdown",
            "metadata": {
                "collapsed": false,
                "editable": false
            },
            "source": [
                "<div class=\"not-editable individual\"><div><h4>Task A</h4> <span> Recall that the volume of a conical tank of radius <span class=\"m\"> $r$ </span> and depth <span class=\"m\"> $h$ </span> is given by the formula <span class=\"m\"> $V = \\frac{1}{3} \\pi r^2 h$ </span>. How long will it take for the tank to be completely full and how much water will be in the tank at that time? </span> </div></div>"
            ]
        },
        {
            "cell_type": "markdown",
            "metadata": {
                "collapsed": false,
                "editable": false
            },
            "source": [
                "<div class=\"not-editable individual\"><div><h4>Task B</h4> <span> On the provided axes, sketch possible graphs of both <span class=\"m\"> $V = f(t)$ </span> and <span class=\"m\"> $h = g(t)$ </span>, making them as accurate as you can. Label the scale on your axes and points whose coordinates you know for sure; write at least one sentence for each graph to discuss the shape of your graph and why it makes sense in the context of the model. </span> <div class=\"sidebyside\"><div><img src=\"images/tandem-V-t-blank-axes.svg\"/></div><div><img src=\"images/tandem-h-t-blank-axes.svg\"/></div></div> </div></div>"
            ]
        },
        {
            "cell_type": "markdown",
            "metadata": {
                "collapsed": false,
                "editable": false
            },
            "source": [
                "<div class=\"not-editable individual\"><div><h4>Task C</h4> <span> What is the domain of the model <span class=\"m\"> $h = g(t)$ </span>? its range? why? </span> </div></div>"
            ]
        },
        {
            "cell_type": "markdown",
            "metadata": {
                "collapsed": false,
                "editable": false
            },
            "source": [
                "<div class=\"not-editable individual\"><div><h4>Task D</h4> <span> It's possible to show that the formula for the function <span class=\"m\"> $g$ </span> is <span class=\"m\"> $g(t) = \\left( \\frac{t}{\\pi} \\right)^{1/3}$ </span>. Use a computational device to generate two plots: on the axes at left, the graph of the model <span class=\"m\"> $h = g(t) = \\left( \\frac{t}{\\pi} \\right)^{1/3}$ </span> on the domain that you decided in (c); on the axes at right, the graph of the abstract function <span class=\"m\"> $y = p(x) = \\left( \\frac{t}{\\pi} \\right)^{1/3}$ </span> on a wider domain than that of <span class=\"m\"> $g$ </span>. What are the domain and range of <span class=\"m\"> $p$ </span> and how do these differ from those of the physical model <span class=\"m\"> $g$ </span>? </span> <div class=\"sidebyside\"><div><img src=\"images/tandem-h-t-blank-axes.svg\"/></div><div><img src=\"images/functions-y-x-blank-axes.svg\"/></div></div> </div></div>"
            ]
        },
        {
            "cell_type": "markdown",
            "metadata": {
                "collapsed": false,
                "editable": false
            },
            "source": [
                "<div class=\"not-editable individual\"><h2>Exercise 8</h2></div>"
            ]
        },
        {
            "cell_type": "markdown",
            "metadata": {
                "collapsed": false,
                "editable": false
            },
            "source": [
                "<div class=\"not-editable individual\"><span> A person is taking a walk along a straight path. Their velocity, <span class=\"m\"> $v$ </span> (in feet per second), which is a function of time <span class=\"m\"> $t$ </span> (in seconds), is given by the graph in <a href=\"https://activecalculus.org/prelude/sec-changing-functions-models.html#F-ez-functions-velocity\">Figure 1.2.19</a>. </span></div>"
            ]
        },
        {
            "cell_type": "markdown",
            "metadata": {
                "collapsed": false,
                "editable": false
            },
            "source": [
                "<div class=\"not-editable individual\"><div><figure><figcaption><b>Figure 1.2.19.</b> The velocity graph for a person walking along a straight path.</figcaption><div><img src=\"images/functions-ez-velocity.svg\"/></div></figure></div></div>"
            ]
        },
        {
            "cell_type": "markdown",
            "metadata": {
                "collapsed": false,
                "editable": false
            },
            "source": [
                "<div class=\"not-editable individual\"><div><h4>Task A</h4> <span> What is the person's velocity when <span class=\"m\"> $t = 2$ </span>? when <span class=\"m\"> $t = 7$ </span>? </span> </div></div>"
            ]
        },
        {
            "cell_type": "markdown",
            "metadata": {
                "collapsed": false,
                "editable": false
            },
            "source": [
                "<div class=\"not-editable individual\"><div><h4>Task B</h4> <span> Are there any times when the person's velocity is exactly <span class=\"m\"> $v = 3$ </span> feet per second? If yes, identify all such times; if not, explain why. </span> </div></div>"
            ]
        },
        {
            "cell_type": "markdown",
            "metadata": {
                "collapsed": false,
                "editable": false
            },
            "source": [
                "<div class=\"not-editable individual\"><div><h4>Task C</h4> <span> Describe the person's behavior on the time interval <span class=\"m\"> $4 \\le t \\le 5$ </span>. </span> </div></div>"
            ]
        },
        {
            "cell_type": "markdown",
            "metadata": {
                "collapsed": false,
                "editable": false
            },
            "source": [
                "<div class=\"not-editable individual\"><div><h4>Task D</h4> <span> On which time interval does the person travel a farther distance: <span class=\"m\"> $[1,3]$ </span> or <span class=\"m\"> $[6,8]$ </span>? Why? </span> </div></div>"
            ]
        },
        {
            "cell_type": "markdown",
            "metadata": {
                "collapsed": false,
                "editable": false
            },
            "source": [
                "<div class=\"not-editable individual\"><h2>Exercise 9</h2></div>"
            ]
        },
        {
            "cell_type": "markdown",
            "metadata": {
                "collapsed": false,
                "editable": false
            },
            "source": [
                "<div class=\"not-editable individual\"><span> A driver of a new car periodically keeps track of the number of gallons of gas remaining in their car's tank, while simultaneously tracking the trip odometer mileage. Their data is recorded in the following table. Note that at mileages where they add fuel to the tank, they record the mileage twice: once before fuel is added, and once afterward. </span></div>"
            ]
        },
        {
            "cell_type": "markdown",
            "metadata": {
                "collapsed": false,
                "editable": false
            },
            "source": [
                "<div class=\"not-editable individual\"><div><table><caption><b>Table 1.2.20.</b> Remaining gas as a function of distance traveled.</caption><tr><td><span class=\"m\"> $D$ </span> (miles)</td><td><span class=\"m\"> $0$ </span></td><td><span class=\"m\"> $50$ </span></td><td><span class=\"m\"> $100$ </span></td><td><span class=\"m\"> $100$ </span></td><td><span class=\"m\"> $150$ </span></td><td><span class=\"m\"> $200$ </span></td><td><span class=\"m\"> $250$ </span></td><td><span class=\"m\"> $300$ </span></td><td><span class=\"m\"> $300$ </span></td><td><span class=\"m\"> $350$ </span></td></tr><tr><td><span class=\"m\"> $G$ </span> (gallons)</td><td><span class=\"m\"> $4.5$ </span></td><td><span class=\"m\"> $3.0$ </span></td><td><span class=\"m\"> $1.5$ </span></td><td><span class=\"m\"> $10.0$ </span></td><td><span class=\"m\"> $8.5$ </span></td><td><span class=\"m\"> $7.0$ </span></td><td><span class=\"m\"> $5.5$ </span></td><td><span class=\"m\"> $4.0$ </span></td><td><span class=\"m\"> $11.0$ </span></td><td><span class=\"m\"> $9.5$ </span></td></tr></table></div></div>"
            ]
        },
        {
            "cell_type": "markdown",
            "metadata": {
                "collapsed": false,
                "editable": false
            },
            "source": [
                "<div class=\"not-editable individual\"><span> Use the table to respond to the questions below. </span></div>"
            ]
        },
        {
            "cell_type": "markdown",
            "metadata": {
                "collapsed": false,
                "editable": false
            },
            "source": [
                "<div class=\"not-editable individual\"><div><h4>Task A</h4> <span> Can the amoung of fuel in the gas tank, <span class=\"m\"> $G$ </span>, be viewed as a function of distance traveled, <span class=\"m\"> $D$ </span>? Why or why not? </span> </div></div>"
            ]
        },
        {
            "cell_type": "markdown",
            "metadata": {
                "collapsed": false,
                "editable": false
            },
            "source": [
                "<div class=\"not-editable individual\"><div><h4>Task B</h4> <span> Does the car's fuel economy appear to be constant or does it appear to vary? Why? </span> </div></div>"
            ]
        },
        {
            "cell_type": "markdown",
            "metadata": {
                "collapsed": false,
                "editable": false
            },
            "source": [
                "<div class=\"not-editable individual\"><div><h4>Task C</h4> <span> At what odometer reading did the driver put the most gas in the tank? </span> </div></div>"
            ]
        }
    ],
    "nbformat": 4,
    "nbformat_minor": 4
}
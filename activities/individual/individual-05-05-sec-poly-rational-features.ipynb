{
    "cells": [
        {
            "cell_type": "markdown",
            "metadata": {
                "collapsed": false,
                "editable": false
            },
            "source": [
                "<div class=\"not-editable individual\"><style> .not-editable{padding:1em;border-radius:10px;box-shadow:4px 4px 3px #ddd;margin:5px;} .not-editable.individual{background-color:#eefff8;} .not-editable.team{background-color:#eef8ff;} .sidebyside{display:flex;justify-content:center;} .sidebyside > *{margin-right:1em;flex:1;} caption{caption-side:top;white-space: nowrap;color:rgba(0,0,0,.45)}} figcaption{padding-top:0.75em;padding-bottom:0.3em;color:rgba(0,0,0,.45)} .fillin{display:inline-block;width:10em;margin-left:0.2em;margin-right:0.2em;height:1em;border-bottom:1px black solid;} .fn{font-size:0.8em;color:rgba(0,0,0.45)} .newcommands{display:none;} tt{background-color:#f8f8f8;border:1px #888 solid;border-radius:2px;padding-left:0.2em;padding-right:0.2em;} img{background-color:#fff;} </style> <div><h1>Section 5.5 Key features of rational functions</h1><h2>Individual Notebook</h2><div><a href=\"https://activecalculus.org/prelude/sec-poly-rational-features.html\">https://activecalculus.org/prelude/sec-poly-rational-features.html</a></div></div></div>"
            ]
        },
        {
            "cell_type": "markdown",
            "metadata": {
                "collapsed": false,
                "editable": false
            },
            "source": [
                "<div class=\"not-editable individual\"><h2>Preview Activity 5.5.1</h2></div>"
            ]
        },
        {
            "cell_type": "markdown",
            "metadata": {
                "collapsed": false,
                "editable": false
            },
            "source": [
                "<div class=\"not-editable individual\"><span> Consider the rational function <span class=\"m\"> $r(x) = \\frac{x^2 - 1}{x^2 - 3x - 4}$ </span>, and let <span class=\"m\"> $p(x) = x^2 - 1$ </span> (the numerator of <span class=\"m\"> $r(x)$ </span>) and <span class=\"m\"> $q(x) = x^2 - 3x - 4$ </span> (the denominator of <span class=\"m\"> $r(x)$ </span>). </span></div>"
            ]
        },
        {
            "cell_type": "markdown",
            "metadata": {
                "collapsed": false,
                "editable": false
            },
            "source": [
                "<div class=\"not-editable individual\"><div><h4>Task A</h4> <span> Reasoning algebraically, for what values of <span class=\"m\"> $x$ </span> is <span class=\"m\"> $p(x) = 0$ </span>? </span> </div></div>"
            ]
        },
        {
            "cell_type": "markdown",
            "metadata": {
                "collapsed": false,
                "editable": false
            },
            "source": [
                "<div class=\"not-editable individual\"><div><h4>Task B</h4> <span> Again reasoning algebraically, for what values of <span class=\"m\"> $x$ </span> is <span class=\"m\"> $q(x) = 0$ </span>? </span> </div></div>"
            ]
        },
        {
            "cell_type": "markdown",
            "metadata": {
                "collapsed": false,
                "editable": false
            },
            "source": [
                "<div class=\"not-editable individual\"><div><h4>Task C</h4> <span> Define <span class=\"m\"> $r(x)$ </span> in Desmos, and evaluate the function appropriately to find numerical values for the output of <span class=\"m\"> $r$ </span> and hence complete the following tables. </span> <div class=\"sidebyside\"><div><table><tr><td><span class=\"m\"> $x$ </span></td><td><span class=\"m\"> $r(x)$ </span></td></tr><tr><td><span class=\"m\"> $4.1$ </span></td><td/></tr><tr><td><span class=\"m\"> $4.01$ </span></td><td/></tr><tr><td><span class=\"m\"> $4.001$ </span></td><td/></tr><tr><td><span class=\"m\"> $3.9$ </span></td><td/></tr><tr><td><span class=\"m\"> $3.99$ </span></td><td/></tr><tr><td><span class=\"m\"> $3.999$ </span></td><td/></tr></table></div><div><table><tr><td><span class=\"m\"> $x$ </span></td><td><span class=\"m\"> $r(x)$ </span></td></tr><tr><td><span class=\"m\"> $1.1$ </span></td><td/></tr><tr><td><span class=\"m\"> $1.01$ </span></td><td/></tr><tr><td><span class=\"m\"> $1.001$ </span></td><td/></tr><tr><td><span class=\"m\"> $0.9$ </span></td><td/></tr><tr><td><span class=\"m\"> $0.99$ </span></td><td/></tr><tr><td><span class=\"m\"> $0.999$ </span></td><td/></tr></table></div><div><table><tr><td><span class=\"m\"> $x$ </span></td><td><span class=\"m\"> $r(x)$ </span></td></tr><tr><td><span class=\"m\"> $-1.1$ </span></td><td/></tr><tr><td><span class=\"m\"> $-1.01$ </span></td><td/></tr><tr><td><span class=\"m\"> $-1.001$ </span></td><td/></tr><tr><td><span class=\"m\"> $-0.9$ </span></td><td/></tr><tr><td><span class=\"m\"> $-0.99$ </span></td><td/></tr><tr><td><span class=\"m\"> $-0.999$ </span></td><td/></tr></table></div></div> </div></div>"
            ]
        },
        {
            "cell_type": "markdown",
            "metadata": {
                "collapsed": false,
                "editable": false
            },
            "source": [
                "<div class=\"not-editable individual\"><div><h4>Task D</h4> <span> Why does <span class=\"m\"> $r$ </span> behave the way it does near <span class=\"m\"> $x = 4$ </span>? Explain by describing the behavior of the numerator and denominator. </span> </div></div>"
            ]
        },
        {
            "cell_type": "markdown",
            "metadata": {
                "collapsed": false,
                "editable": false
            },
            "source": [
                "<div class=\"not-editable individual\"><div><h4>Task E</h4> <span> Why does <span class=\"m\"> $r$ </span> behave the way it does near <span class=\"m\"> $x = 1$ </span>? Explain by describing the behavior of the numerator and denominator. </span> </div></div>"
            ]
        },
        {
            "cell_type": "markdown",
            "metadata": {
                "collapsed": false,
                "editable": false
            },
            "source": [
                "<div class=\"not-editable individual\"><div><h4>Task F</h4> <span> Why does <span class=\"m\"> $r$ </span> behave the way it does near <span class=\"m\"> $x = -1$ </span>? Explain by describing the behavior of the numerator and denominator. </span> </div></div>"
            ]
        },
        {
            "cell_type": "markdown",
            "metadata": {
                "collapsed": false,
                "editable": false
            },
            "source": [
                "<div class=\"not-editable individual\"><div><h4>Task G</h4> <span> Plot <span class=\"m\"> $r$ </span> in Desmos. Is there anything surprising or misleading about the graph that Desmos generates? </span> </div></div>"
            ]
        },
        {
            "cell_type": "markdown",
            "metadata": {
                "collapsed": false,
                "editable": false
            },
            "source": [
                "<div class=\"not-editable individual\"><h2>Exercise 6</h2></div>"
            ]
        },
        {
            "cell_type": "markdown",
            "metadata": {
                "collapsed": false,
                "editable": false
            },
            "source": [
                "<div class=\"not-editable individual\"><span> For each of the following rational functions, determine, with justification, the exact locations of all (a) horizontal asymptotes, (b) vertical asymptotes, (c) zeros, and (d) holes of the function. Clearly show your work and thinking. </span></div>"
            ]
        },
        {
            "cell_type": "markdown",
            "metadata": {
                "collapsed": false,
                "editable": false
            },
            "source": [
                "<div class=\"not-editable individual\"><div><h4>Task A</h4> <span> <span class=\"m\"> $\\displaystyle r(x) = \\frac{-19(x+11.3)^2(x-15.1)(x-17.3)}{41(x+5.7)(x+11.3)(x-8.4)(x-15.1)}$ </span> </span> </div></div>"
            ]
        },
        {
            "cell_type": "markdown",
            "metadata": {
                "collapsed": false,
                "editable": false
            },
            "source": [
                "<div class=\"not-editable individual\"><div><h4>Task B</h4> <span> <span class=\"m\"> $\\displaystyle s(x) = \\frac{-29(x^2-16)(x^2+99)(x-53)}{101(x^2-4)(x-13)^2(x+104)}$ </span> </span> </div></div>"
            ]
        },
        {
            "cell_type": "markdown",
            "metadata": {
                "collapsed": false,
                "editable": false
            },
            "source": [
                "<div class=\"not-editable individual\"><div><h4>Task C</h4> <span> <span class=\"m\"> $\\displaystyle u(x) = \\frac{-71(x^2 - 13x + 36)(x-58.4)(x+78.2)}{83(x+58.4)(x-78.2)(x^2 - 12x + 27)}$ </span> </span> </div></div>"
            ]
        },
        {
            "cell_type": "markdown",
            "metadata": {
                "collapsed": false,
                "editable": false
            },
            "source": [
                "<div class=\"not-editable individual\"><h2>Exercise 7</h2></div>"
            ]
        },
        {
            "cell_type": "markdown",
            "metadata": {
                "collapsed": false,
                "editable": false
            },
            "source": [
                "<div class=\"not-editable individual\"><span> Find a formula for a rational function that meets the stated criteria, with justification. If no such formula is possible, explain why. </span></div>"
            ]
        },
        {
            "cell_type": "markdown",
            "metadata": {
                "collapsed": false,
                "editable": false
            },
            "source": [
                "<div class=\"not-editable individual\"><div><h4>Task A</h4> <span> A rational function <span class=\"m\"> $r(x)$ </span> in the form <span class=\"m\"> $r(x) = \\frac{k}{x-a} + b$ </span> so that <span class=\"m\"> $r$ </span> has a horizontal asymptote of <span class=\"m\"> $y = -\\frac{3}{7}$ </span>, a vertical asymptote of <span class=\"m\"> $x = \\frac{5}{2}$ </span>, and <span class=\"m\"> $r(0) = 4$ </span>. </span> </div></div>"
            ]
        },
        {
            "cell_type": "markdown",
            "metadata": {
                "collapsed": false,
                "editable": false
            },
            "source": [
                "<div class=\"not-editable individual\"><div><h4>Task B</h4> <span> A rational function <span class=\"m\"> $s(x)$ </span> that has no horizontal asymptote, has zeros at <span class=\"m\"> $x = -5$ </span> and <span class=\"m\"> $x = 3$ </span>, has a single vertical asymptote at <span class=\"m\"> $x = -1$ </span>, and satisfies <span class=\"m\"> $\\lim_{x \\to \\infty} s(x) = -\\infty$ </span> and <span class=\"m\"> $\\lim_{x \\to -\\infty} s(x) = +\\infty$ </span>. </span> </div></div>"
            ]
        },
        {
            "cell_type": "markdown",
            "metadata": {
                "collapsed": false,
                "editable": false
            },
            "source": [
                "<div class=\"not-editable individual\"><div><h4>Task C</h4> <span> A rational function <span class=\"m\"> $u(x)$ </span> that is positive for <span class=\"m\"> $x \\lt -4$ </span>, negative for <span class=\"m\"> $-4 \\lt x \\lt -2$ </span>, negative for <span class=\"m\"> $-2 \\lt x \\lt 1$ </span>, positive for <span class=\"m\"> $1 \\lt x \\lt 5$ </span>, and negative for <span class=\"m\"> $x \\gt 5$ </span>. The only zeros of <span class=\"m\"> $u$ </span> are located at <span class=\"m\"> $x = -4$ </span> and <span class=\"m\"> $x = -2$ </span>. In addition, <span class=\"m\"> $u$ </span> has a hole at <span class=\"m\"> $x = 4$ </span>. </span> </div></div>"
            ]
        },
        {
            "cell_type": "markdown",
            "metadata": {
                "collapsed": false,
                "editable": false
            },
            "source": [
                "<div class=\"not-editable individual\"><div><h4>Task D</h4> <span> A rational function <span class=\"m\"> $w(x)$ </span> whose graph is shown in <a href=\"https://activecalculus.org/prelude/sec-poly-rational-features.html#F-rational-ez-plot\">Figure 5.5.12</a>. </span> <div><figure><figcaption><b>Figure 5.5.12.</b> A plot of the rational function <span class=\"m\"> $w$ </span>.</figcaption><div><img src=\"images/rational-ez-plot.svg\"/></div></figure></div> </div></div>"
            ]
        },
        {
            "cell_type": "markdown",
            "metadata": {
                "collapsed": false,
                "editable": false
            },
            "source": [
                "<div class=\"not-editable individual\"><h2>Exercise 8</h2></div>"
            ]
        },
        {
            "cell_type": "markdown",
            "metadata": {
                "collapsed": false,
                "editable": false
            },
            "source": [
                "<div class=\"not-editable individual\"><span> Graph each of the following rational functions and decide whether or not each function has an inverse function. If an inverse function exists, find its formula. In addition, state the domain and range of each function you consider (the original function as well as its inverse function, if the inverse function exists). </span></div>"
            ]
        },
        {
            "cell_type": "markdown",
            "metadata": {
                "collapsed": false,
                "editable": false
            },
            "source": [
                "<div class=\"not-editable individual\"><div><h4>Task A</h4> <span> <span class=\"m\"> $\\displaystyle r(x) = -\\frac{3}{x-4} + 5 $ </span> </span> </div></div>"
            ]
        },
        {
            "cell_type": "markdown",
            "metadata": {
                "collapsed": false,
                "editable": false
            },
            "source": [
                "<div class=\"not-editable individual\"><div><h4>Task B</h4> <span> <span class=\"m\"> $\\displaystyle s(x) = \\frac{4 - 3x}{7x - 2}$ </span> </span> </div></div>"
            ]
        },
        {
            "cell_type": "markdown",
            "metadata": {
                "collapsed": false,
                "editable": false
            },
            "source": [
                "<div class=\"not-editable individual\"><div><h4>Task C</h4> <span> <span class=\"m\"> $\\displaystyle u(x) = \\frac{2x - 1}{(x-1)^2}$ </span> </span> </div></div>"
            ]
        },
        {
            "cell_type": "markdown",
            "metadata": {
                "collapsed": false,
                "editable": false
            },
            "source": [
                "<div class=\"not-editable individual\"><div><h4>Task D</h4> <span> <span class=\"m\"> $\\displaystyle w(x) = \\frac{11}{(x+4)^3} - 7$ </span> </span> </div></div>"
            ]
        },
        {
            "cell_type": "markdown",
            "metadata": {
                "collapsed": false,
                "editable": false
            },
            "source": [
                "<div class=\"not-editable individual\"><h2>Exercise 9</h2></div>"
            ]
        },
        {
            "cell_type": "markdown",
            "metadata": {
                "collapsed": false,
                "editable": false
            },
            "source": [
                "<div class=\"not-editable individual\"><span> For each of the following rational functions, identify the location of any potential hole in the graph. Then, create a table of function values for input values near where the hole should be located. Use your work to decide whether or not the graph indeed has a hole, with written justification. </span></div>"
            ]
        },
        {
            "cell_type": "markdown",
            "metadata": {
                "collapsed": false,
                "editable": false
            },
            "source": [
                "<div class=\"not-editable individual\"><div><h4>Task A</h4> <span> <span class=\"m\"> $\\displaystyle r(x) = \\frac{x^2-16}{x+4}$ </span> </span> </div></div>"
            ]
        },
        {
            "cell_type": "markdown",
            "metadata": {
                "collapsed": false,
                "editable": false
            },
            "source": [
                "<div class=\"not-editable individual\"><div><h4>Task B</h4> <span> <span class=\"m\"> $\\displaystyle s(x) = \\frac{(x-2)^2(x+3)}{x^2 - 5x - 6}$ </span> </span> </div></div>"
            ]
        },
        {
            "cell_type": "markdown",
            "metadata": {
                "collapsed": false,
                "editable": false
            },
            "source": [
                "<div class=\"not-editable individual\"><div><h4>Task C</h4> <span> <span class=\"m\"> $\\displaystyle u(x) = \\frac{(x-2)^3(x+3)}{(x^2 - 5x - 6)(x-7)}$ </span> </span> </div></div>"
            ]
        },
        {
            "cell_type": "markdown",
            "metadata": {
                "collapsed": false,
                "editable": false
            },
            "source": [
                "<div class=\"not-editable individual\"><div><h4>Task D</h4> <span> <span class=\"m\"> $\\displaystyle w(x) = \\frac{x^2 + x - 6}{(x^2 + 5x + 6)(x+3)}$ </span> </span> </div></div>"
            ]
        },
        {
            "cell_type": "markdown",
            "metadata": {
                "collapsed": false,
                "editable": false
            },
            "source": [
                "<div class=\"not-editable individual\"><div><h4>Task E</h4> <span> True or false: given <span class=\"m\"> $r(x) = \\frac{p(x)}{q(x)}$ </span>, if <span class=\"m\"> $p(a) = 0$ </span> and <span class=\"m\"> $q(a) = 0$ </span>, then <span class=\"m\"> $r$ </span> has a hole at <span class=\"m\"> $x = a$ </span>. </span> </div></div>"
            ]
        },
        {
            "cell_type": "markdown",
            "metadata": {
                "collapsed": false,
                "editable": false
            },
            "source": [
                "<div class=\"not-editable individual\"><h2>Exercise 10</h2></div>"
            ]
        },
        {
            "cell_type": "markdown",
            "metadata": {
                "collapsed": false,
                "editable": false
            },
            "source": [
                "<div class=\"not-editable individual\"><span> In the questions that follow, we explore the average rate of change of power functions on the interval <span class=\"m\"> $[1,x]$ </span>. To begin, let <span class=\"m\"> $f(x) = x^2$ </span> and let <span class=\"m\"> $A(x)$ </span> be the average rate of change of <span class=\"m\"> $f$ </span> on <span class=\"m\"> $[1,x]$ </span>. </span></div>"
            ]
        },
        {
            "cell_type": "markdown",
            "metadata": {
                "collapsed": false,
                "editable": false
            },
            "source": [
                "<div class=\"not-editable individual\"><div><h4>Task A</h4> <span> Explain why <span class=\"m\"> $A$ </span> is a rational function of <span class=\"m\"> $x$ </span>. </span> </div></div>"
            ]
        },
        {
            "cell_type": "markdown",
            "metadata": {
                "collapsed": false,
                "editable": false
            },
            "source": [
                "<div class=\"not-editable individual\"><div><h4>Task B</h4> <span> What is the domain of <span class=\"m\"> $A$ </span>? </span> </div></div>"
            ]
        },
        {
            "cell_type": "markdown",
            "metadata": {
                "collapsed": false,
                "editable": false
            },
            "source": [
                "<div class=\"not-editable individual\"><div><h4>Task C</h4> <span> At the point where <span class=\"m\"> $A$ </span> is undefined, does <span class=\"m\"> $A$ </span> have a vertical asymptote or a hole? Justify your thinking clearly. </span> </div></div>"
            ]
        },
        {
            "cell_type": "markdown",
            "metadata": {
                "collapsed": false,
                "editable": false
            },
            "source": [
                "<div class=\"not-editable individual\"><div><h4>Task D</h4> <span> What can you say about the average rate of change of <span class=\"m\"> $f$ </span> on <span class=\"m\"> $[1,x]$ </span> as <span class=\"m\"> $x$ </span> gets closer and closer (but not equal) to <span class=\"m\"> $1$ </span>? </span> </div></div>"
            ]
        },
        {
            "cell_type": "markdown",
            "metadata": {
                "collapsed": false,
                "editable": false
            },
            "source": [
                "<div class=\"not-editable individual\"><div><h4>Task E</h4> <span> Now let <span class=\"m\"> $g(x) = x^3$ </span> and <span class=\"m\"> $B(x)$ </span> be the average rate of change of <span class=\"m\"> $B$ </span> on <span class=\"m\"> $[1,x]$ </span>. Respond to prompts (a) - (d) but this time for the function <span class=\"m\"> $B$ </span> instead of <span class=\"m\"> $A$ </span>. </span> </div></div>"
            ]
        },
        {
            "cell_type": "markdown",
            "metadata": {
                "collapsed": false,
                "editable": false
            },
            "source": [
                "<div class=\"not-editable individual\"><div><h4>Task F</h4> <span> Finally, let <span class=\"m\"> $h(x) = x^3$ </span> and <span class=\"m\"> $C(x)$ </span> be the average rate of change of <span class=\"m\"> $C$ </span> on <span class=\"m\"> $[1,x]$ </span>. Respond to prompts (a) - (d) but this time for the function <span class=\"m\"> $C$ </span> instead of <span class=\"m\"> $A$ </span>. </span> </div></div>"
            ]
        }
    ],
    "nbformat": 4,
    "nbformat_minor": 4
}
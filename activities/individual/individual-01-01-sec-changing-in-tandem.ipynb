{
    "cells": [
        {
            "cell_type": "markdown",
            "metadata": {
                "collapsed": false,
                "editable": false
            },
            "source": [
                "<div class=\"not-editable individual\"><style> .not-editable{padding:1em;border-radius:10px;box-shadow:4px 4px 3px #ddd;margin:5px;} .not-editable.individual{background-color:#eefff8;} .not-editable.team{background-color:#eef8ff;} .sidebyside{display:flex;justify-content:center;} .sidebyside > *{margin-right:1em;flex:1;} caption{caption-side:top;white-space: nowrap;color:rgba(0,0,0,.45)}} figcaption{padding-top:0.75em;padding-bottom:0.3em;color:rgba(0,0,0,.45)} .fillin{display:inline-block;width:10em;margin-left:0.2em;margin-right:0.2em;height:1em;border-bottom:1px black solid;} .fn{font-size:0.8em;color:rgba(0,0,0.45)} .newcommands{display:none;} tt{background-color:#f8f8f8;border:1px #888 solid;border-radius:2px;padding-left:0.2em;padding-right:0.2em;} img{background-color:#fff;} </style> <div><h1>Section 1.1 Changing in Tandem</h1><h2>Individual Notebook</h2><div><a href=\"https://activecalculus.org/prelude/sec-changing-in-tandem.html\">https://activecalculus.org/prelude/sec-changing-in-tandem.html</a></div></div></div>"
            ]
        },
        {
            "cell_type": "markdown",
            "metadata": {
                "collapsed": false,
                "editable": false
            },
            "source": [
                "<div class=\"not-editable individual\"><h2>Preview Activity 1.1.1</h2></div>"
            ]
        },
        {
            "cell_type": "markdown",
            "metadata": {
                "collapsed": false,
                "editable": false
            },
            "source": [
                "<div class=\"not-editable individual\"><span> Suppose that a rectangular aquarium is being filled with water. The tank is <span class=\"m\"> $4$ </span> feet long by <span class=\"m\"> $2$ </span> feet wide by <span class=\"m\"> $3$ </span> feet high, and the hose that is filling the tank is delivering water at a rate of <span class=\"m\"> $0.5$ </span> cubic feet per minute. </span></div>"
            ]
        },
        {
            "cell_type": "markdown",
            "metadata": {
                "collapsed": false,
                "editable": false
            },
            "source": [
                "<div class=\"not-editable individual\"><div class=\"sidebyside\"><div><figure><figcaption><b>Figure 1.1.1.</b> The empty aquarium.</figcaption><div><img src=\"images/tandem-empty-aquarium.svg\"/></div></figure></div><div><figure><figcaption><b>Figure 1.1.2.</b> The aquarium, partially filled.</figcaption><div><img src=\"images/tandem-filled-aquarium.svg\"/></div></figure></div></div></div>"
            ]
        },
        {
            "cell_type": "markdown",
            "metadata": {
                "collapsed": false,
                "editable": false
            },
            "source": [
                "<div class=\"not-editable individual\"><div><h4>Task A</h4> <span> What are some different quantities that are changing in this scenario? </span> </div></div>"
            ]
        },
        {
            "cell_type": "markdown",
            "metadata": {
                "collapsed": false,
                "editable": false
            },
            "source": [
                "<div class=\"not-editable individual\"><div><h4>Task B</h4> <span> After <span class=\"m\"> $1$ </span> minute has elapsed, how much water is in the tank? At this moment, how deep is the water? </span> </div></div>"
            ]
        },
        {
            "cell_type": "markdown",
            "metadata": {
                "collapsed": false,
                "editable": false
            },
            "source": [
                "<div class=\"not-editable individual\"><div><h4>Task C</h4> <span> How much water is in the tank and how deep is the water after <span class=\"m\"> $2$ </span> minutes? After <span class=\"m\"> $3$ </span> minutes? </span> </div></div>"
            ]
        },
        {
            "cell_type": "markdown",
            "metadata": {
                "collapsed": false,
                "editable": false
            },
            "source": [
                "<div class=\"not-editable individual\"><div><h4>Task D</h4> <span> How long will it take for the tank to be completely full? Why? </span> </div></div>"
            ]
        },
        {
            "cell_type": "markdown",
            "metadata": {
                "collapsed": false,
                "editable": false
            },
            "source": [
                "<div class=\"not-editable individual\"><h2>Exercise 2</h2></div>"
            ]
        },
        {
            "cell_type": "markdown",
            "metadata": {
                "collapsed": false,
                "editable": false
            },
            "source": [
                "<div class=\"not-editable individual\"><span> Suppose we have an unusual tank whose base is a perfect sphere with radius <span class=\"m\"> $3$ </span> feet, and then atop the spherical base is a cylindrical <span class=\"q\"> \"chimney\" </span> that is a circular cylinder of radius <span class=\"m\"> $1$ </span> foot and height <span class=\"m\"> $2$ </span> feet, as shown in <a href=\"https://activecalculus.org/prelude/sec-changing-in-tandem.html#F-ez-chiminea\">Figure 1.1.15</a>. The tank is initially empty, but then a spigot is turned on that pumps water into the tank at a constant rate of <span class=\"m\"> $1.25$ </span> cubic feet per minute. </span></div>"
            ]
        },
        {
            "cell_type": "markdown",
            "metadata": {
                "collapsed": false,
                "editable": false
            },
            "source": [
                "<div class=\"not-editable individual\"><div><figure><figcaption><b>Figure 1.1.15.</b> A spherical tank with a cylindrical chimney.</figcaption><div><img src=\"images/tandem-ez-chiminea.svg\"/></div></figure></div></div>"
            ]
        },
        {
            "cell_type": "markdown",
            "metadata": {
                "collapsed": false,
                "editable": false
            },
            "source": [
                "<div class=\"not-editable individual\"><span> Let <span class=\"m\"> $V$ </span> denote the total volume of water (in cubic feet) in the tank at any time <span class=\"m\"> $t$ </span> (in minutes), and <span class=\"m\"> $h$ </span> the depth of the water (in feet) at time <span class=\"m\"> $t$ </span>. </span></div>"
            ]
        },
        {
            "cell_type": "markdown",
            "metadata": {
                "collapsed": false,
                "editable": false
            },
            "source": [
                "<div class=\"not-editable individual\"><div><h4>Task A</h4> <span> It is possible to use calculus to show that the total volume this tank can hold is <span class=\"m\"> $V_{\\text{full}} = \\pi(22 + \\frac{38}{3}\\sqrt{2}) \\approx 119.12$ </span> cubic feet. In addition, the actual height of the tank (from the bottom of the spherical base to the top of the chimney) is <span class=\"m\"> $h_{\\text{full}} = \\sqrt{8} + 5 \\approx 7.83$ </span> feet. How long does it take the tank to fill? Why? </span> </div></div>"
            ]
        },
        {
            "cell_type": "markdown",
            "metadata": {
                "collapsed": false,
                "editable": false
            },
            "source": [
                "<div class=\"not-editable individual\"><div><h4>Task B</h4> <span> On the blank axes provided below, sketch (by hand) possible graphs of how <span class=\"m\"> $V$ </span> and <span class=\"m\"> $t$ </span> change in tandem and how <span class=\"m\"> $h$ </span> and <span class=\"m\"> $t$ </span> change in tandem. </span> <div class=\"sidebyside\"><div><img src=\"images/tandem-V-t-blank-axes.svg\"/></div><div><img src=\"images/tandem-h-t-blank-axes.svg\"/></div></div> <span> For each graph, label any ordered pairs on the graph that you know for certain, and write at least one sentence that explains why your graphs have the shape they do. </span> </div></div>"
            ]
        },
        {
            "cell_type": "markdown",
            "metadata": {
                "collapsed": false,
                "editable": false
            },
            "source": [
                "<div class=\"not-editable individual\"><div><h4>Task C</h4> <span> How would your graph(s) change (if at all) if the chimney was shaped like an inverted cone instead of a cylinder? Explain and discuss. </span> </div></div>"
            ]
        },
        {
            "cell_type": "markdown",
            "metadata": {
                "collapsed": false,
                "editable": false
            },
            "source": [
                "<div class=\"not-editable individual\"><h2>Exercise 3</h2></div>"
            ]
        },
        {
            "cell_type": "markdown",
            "metadata": {
                "collapsed": false,
                "editable": false
            },
            "source": [
                "<div class=\"not-editable individual\"><span> Suppose we have a tank that is a perfect sphere with radius <span class=\"m\"> $6$ </span> feet. The tank is initially empty, but then a spigot is turned on that is pumping water into the tank in a very special way: the faucet is regulated so that the depth of water in the tank is increasing at a constant rate of <span class=\"m\"> $0.4$ </span> feet per minute. </span></div>"
            ]
        },
        {
            "cell_type": "markdown",
            "metadata": {
                "collapsed": false,
                "editable": false
            },
            "source": [
                "<div class=\"not-editable individual\"><span> Let <span class=\"m\"> $V$ </span> denote the total volume of water (in cubic feet) in the tank at any time <span class=\"m\"> $t$ </span> (in minutes), and <span class=\"m\"> $h$ </span> the depth of the water (in feet) at given time <span class=\"m\"> $t$ </span>. </span></div>"
            ]
        },
        {
            "cell_type": "markdown",
            "metadata": {
                "collapsed": false,
                "editable": false
            },
            "source": [
                "<div class=\"not-editable individual\"><div><h4>Task A</h4> <span> How long does it take the tank to fill? What will the values of <span class=\"m\"> $V$ </span> and <span class=\"m\"> $h$ </span> be at the moment the tank is full? Why? </span> </div></div>"
            ]
        },
        {
            "cell_type": "markdown",
            "metadata": {
                "collapsed": false,
                "editable": false
            },
            "source": [
                "<div class=\"not-editable individual\"><div><h4>Task B</h4> <span> On the blank axes provided below, sketch (by hand) possible graphs of how <span class=\"m\"> $V$ </span> and <span class=\"m\"> $t$ </span> change in tandem and how <span class=\"m\"> $h$ </span> and <span class=\"m\"> $t$ </span> change in tandem. </span> <div class=\"sidebyside\"><div><img src=\"images/tandem-V-t-blank-axes.svg\"/></div><div><img src=\"images/tandem-h-t-blank-axes.svg\"/></div></div> <span> For each graph, label any ordered pairs on the graph that you know for certain, and write at least one sentence that explains why your graphs have the shape they do. </span> </div></div>"
            ]
        },
        {
            "cell_type": "markdown",
            "metadata": {
                "collapsed": false,
                "editable": false
            },
            "source": [
                "<div class=\"not-editable individual\"><div><h4>Task C</h4> <span> How do your responses change if the tank stays the same but instead the tank is initially full and the tank drains in such a way that the height of the water is always decreasing at a constant rate of <span class=\"m\"> $0.25$ </span> feet per minute? </span> </div></div>"
            ]
        },
        {
            "cell_type": "markdown",
            "metadata": {
                "collapsed": false,
                "editable": false
            },
            "source": [
                "<div class=\"not-editable individual\"><h2>Exercise 4</h2></div>"
            ]
        },
        {
            "cell_type": "markdown",
            "metadata": {
                "collapsed": false,
                "editable": false
            },
            "source": [
                "<div class=\"not-editable individual\"><span> The relationship between the position, <span class=\"m\"> $s$ </span>, of a car driving on a straight road at time <span class=\"m\"> $t$ </span> is given by the graph pictured at left in <a href=\"https://activecalculus.org/prelude/sec-changing-in-tandem.html#F-tandem-car-pos\">Figure 1.1.16</a>. The car's position has units measured in thousands of feet while time is measured in minutes. For instance, the point <span class=\"m\"> $(4,6)$ </span> on the graph indicates that after <span class=\"m\"> $4$ </span> minutes, the car has traveled <span class=\"m\"> $6000$ </span> feet from its starting location. </span></div>"
            ]
        },
        {
            "cell_type": "markdown",
            "metadata": {
                "collapsed": false,
                "editable": false
            },
            "source": [
                "<div class=\"not-editable individual\"><div><h4>Task A</h4> <span> Write several sentences that explain the how the car is being driven and how you make these conclusions from the graph. </span> </div></div>"
            ]
        },
        {
            "cell_type": "markdown",
            "metadata": {
                "collapsed": false,
                "editable": false
            },
            "source": [
                "<div class=\"not-editable individual\"><div><h4>Task B</h4> <span> How far did the car travel between <span class=\"m\"> $t = 2$ </span> and <span class=\"m\"> $t = 10$ </span>? </span> </div></div>"
            ]
        },
        {
            "cell_type": "markdown",
            "metadata": {
                "collapsed": false,
                "editable": false
            },
            "source": [
                "<div class=\"not-editable individual\"><div><h4>Task C</h4> <span> Does the car ever travel in reverse? Why or why not? If not, how would the graph have to look to indicate such motion? </span> </div></div>"
            ]
        },
        {
            "cell_type": "markdown",
            "metadata": {
                "collapsed": false,
                "editable": false
            },
            "source": [
                "<div class=\"not-editable individual\"><div><h4>Task D</h4> <span> On the blank axes in <a href=\"https://activecalculus.org/prelude/sec-changing-in-tandem.html#F-tandem-car-pos\">Figure 1.1.16</a>, plot points or sketch a curve to describe the behavior of a car that is driven in the following way: from <span class=\"m\"> $t = 0$ </span> to <span class=\"m\"> $t = 5$ </span> the car travels straight down the road at a constant rate of <span class=\"m\"> $1000$ </span> feet per minute. At <span class=\"m\"> $t = 5$ </span>, the car pulls over and parks for <span class=\"m\"> $2$ </span> full minutes. Then, at <span class=\"m\"> $t = 7$ </span>, the car does an abrupt U-turn and returns in the opposite direction at a constant rate of <span class=\"m\"> $800$ </span> feet per minute for <span class=\"m\"> $5$ </span> additional minutes. As part of your work, determine (and label) the car's location at several additional points in time beyond <span class=\"m\"> $t = 0, 5, 7, 12$ </span>. </span> <div><figure><figcaption><b>Figure 1.1.16.</b> A graph of the relationship betwen a car's position <span class=\"m\"> $s$ </span> and time <span class=\"m\"> $t$ </span></figcaption></figure></div> </div></div>"
            ]
        }
    ],
    "nbformat": 4,
    "nbformat_minor": 4
}
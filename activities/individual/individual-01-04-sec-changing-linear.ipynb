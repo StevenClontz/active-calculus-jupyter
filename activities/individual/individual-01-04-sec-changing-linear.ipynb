{
    "cells": [
        {
            "cell_type": "markdown",
            "metadata": {
                "collapsed": false,
                "editable": false
            },
            "source": [
                "<div class=\"not-editable individual\"><style> .not-editable{padding:1em;border-radius:10px;box-shadow:4px 4px 3px #ddd;margin:5px;} .not-editable.individual{background-color:#eefff8;} .not-editable.team{background-color:#eef8ff;} .sidebyside{display:flex;justify-content:center;} .sidebyside > *{margin-right:1em;flex:1;} caption{caption-side:top;white-space: nowrap;color:rgba(0,0,0,.45)}} figcaption{padding-top:0.75em;padding-bottom:0.3em;color:rgba(0,0,0,.45)} .fillin{display:inline-block;width:10em;margin-left:0.2em;margin-right:0.2em;height:1em;border-bottom:1px black solid;} .fn{font-size:0.8em;color:rgba(0,0,0.45)} .newcommands{display:none;} tt{background-color:#f8f8f8;border:1px #888 solid;border-radius:2px;padding-left:0.2em;padding-right:0.2em;} img{background-color:#fff;} </style> <div><h1>Section 1.4 Linear Functions</h1><h2>Individual Notebook</h2><div><a href=\"https://activecalculus.org/prelude/sec-changing-linear.html\">https://activecalculus.org/prelude/sec-changing-linear.html</a></div></div></div>"
            ]
        },
        {
            "cell_type": "markdown",
            "metadata": {
                "collapsed": false,
                "editable": false
            },
            "source": [
                "<div class=\"not-editable individual\"><h2>Preview Activity 1.4.1</h2></div>"
            ]
        },
        {
            "cell_type": "markdown",
            "metadata": {
                "collapsed": false,
                "editable": false
            },
            "source": [
                "<div class=\"not-editable individual\"><div><h4>Task A</h4> <span> Let <span class=\"m\"> $y = f(x) = 7 - 3x$ </span>. Determine <span class=\"m\"> $AV_{[-3,-1]}$ </span>, <span class=\"m\"> $AV_{[2,5]}$ </span>, and <span class=\"m\"> $AV_{[4,10]}$ </span> for the function <span class=\"m\"> $f$ </span>. </span> </div></div>"
            ]
        },
        {
            "cell_type": "markdown",
            "metadata": {
                "collapsed": false,
                "editable": false
            },
            "source": [
                "<div class=\"not-editable individual\"><div><h4>Task B</h4> <span> Let <span class=\"m\"> $y = g(x)$ </span> be given by the data in <a href=\"https://activecalculus.org/prelude/sec-changing-linear.html#T-PA-changing-linear-3-ex-2\">Table 1.4.1</a>. </span> <div><table><caption><b>Table 1.4.1.</b> A table that defines the function <span class=\"m\"> $y = g(x)$ </span>.</caption><tr><td><span class=\"m\"> $x$ </span></td><td><span class=\"m\"> $-5$ </span></td><td><span class=\"m\"> $-4$ </span></td><td><span class=\"m\"> $-3$ </span></td><td><span class=\"m\"> $-2$ </span></td><td><span class=\"m\"> $-1$ </span></td><td><span class=\"m\"> $0$ </span></td><td><span class=\"m\"> $1$ </span></td><td><span class=\"m\"> $2$ </span></td><td><span class=\"m\"> $3$ </span></td><td><span class=\"m\"> $4$ </span></td><td><span class=\"m\"> $5$ </span></td></tr><tr><td><span class=\"m\"> $g(x)$ </span></td><td><span class=\"m\"> $-2.75$ </span></td><td><span class=\"m\"> $-2.25$ </span></td><td><span class=\"m\"> $-1.75$ </span></td><td><span class=\"m\"> $-1.25$ </span></td><td><span class=\"m\"> $-0.75$ </span></td><td><span class=\"m\"> $-0.25$ </span></td><td><span class=\"m\"> $0.25$ </span></td><td><span class=\"m\"> $0.75$ </span></td><td><span class=\"m\"> $1.25$ </span></td><td><span class=\"m\"> $1.75$ </span></td><td><span class=\"m\"> $2.25$ </span></td></tr></table></div> <span> Determine <span class=\"m\"> $AV_{[-5,-2]}$ </span>, <span class=\"m\"> $AV_{[-1,1]}$ </span>, and <span class=\"m\"> $AV_{[0,4]}$ </span> for the function <span class=\"m\"> $g$ </span>. </span> </div></div>"
            ]
        },
        {
            "cell_type": "markdown",
            "metadata": {
                "collapsed": false,
                "editable": false
            },
            "source": [
                "<div class=\"not-editable individual\"><div><h4>Task C</h4> <span> Consider the function <span class=\"m\"> $y = h(x)$ </span> defined by the graph in <a href=\"https://activecalculus.org/prelude/sec-changing-linear.html#F-PA-changing-linear-3-ex-3\">Figure 1.4.2</a>. </span> <div><figure><figcaption><b>Figure 1.4.2.</b> The graph of <span class=\"m\"> $y = h(x)$ </span>.</figcaption><div><img src=\"images/linear-PA-ex-3.svg\"/></div></figure></div> <span> Determine <span class=\"m\"> $AV_{[-5,-2]}$ </span>, <span class=\"m\"> $AV_{[-1,1]}$ </span>, and <span class=\"m\"> $AV_{[0,4]}$ </span> for the function <span class=\"m\"> $g$ </span>. </span> </div></div>"
            ]
        },
        {
            "cell_type": "markdown",
            "metadata": {
                "collapsed": false,
                "editable": false
            },
            "source": [
                "<div class=\"not-editable individual\"><div><h4>Task D</h4> <span> What do all three examples above have in common? How do they differ? </span> </div></div>"
            ]
        },
        {
            "cell_type": "markdown",
            "metadata": {
                "collapsed": false,
                "editable": false
            },
            "source": [
                "<div class=\"not-editable individual\"><div><h4>Task E</h4> <span> For the function <span class=\"m\"> $y = f(x) = 7 - 3x$ </span> from (a), find the simplest expression you can for <span class=\"m\"> $$ AV_{[a,b]} = \\frac{f(b)-f(a)}{b-a} $$ </span> where <span class=\"m\"> $a \\ne b$ </span>. </span> </div></div>"
            ]
        },
        {
            "cell_type": "markdown",
            "metadata": {
                "collapsed": false,
                "editable": false
            },
            "source": [
                "<div class=\"not-editable individual\"><h2>Exercise 6</h2></div>"
            ]
        },
        {
            "cell_type": "markdown",
            "metadata": {
                "collapsed": false,
                "editable": false
            },
            "source": [
                "<div class=\"not-editable individual\"><span> An apartment manager keeps careful record of how the rent charged per unit corresponds to the number of occupied units in a large complex. The collected data is shown in <a href=\"https://activecalculus.org/prelude/sec-changing-linear.html#T-ez-linear-apartment\">Table 1.4.13</a>. </span></div>"
            ]
        },
        {
            "cell_type": "markdown",
            "metadata": {
                "collapsed": false,
                "editable": false
            },
            "source": [
                "<div class=\"not-editable individual\"><div><table><caption><b>Table 1.4.13.</b> Data relating occupied apartments to monthly rent.</caption><tr><td>Monthly Rent</td><td>$650</td><td>$700</td><td>$750</td><td>$800</td><td>$850</td><td>$900</td></tr><tr><td>Occupied Apartments</td><td>203</td><td>196</td><td>189</td><td>182</td><td>175</td><td>168</td></tr></table></div></div>"
            ]
        },
        {
            "cell_type": "markdown",
            "metadata": {
                "collapsed": false,
                "editable": false
            },
            "source": [
                "<div class=\"not-editable individual\"><div><h4>Task A</h4> <span> Why is it reasonable to say that the number of occupied apartments is a linear function of rent? </span> </div></div>"
            ]
        },
        {
            "cell_type": "markdown",
            "metadata": {
                "collapsed": false,
                "editable": false
            },
            "source": [
                "<div class=\"not-editable individual\"><div><h4>Task B</h4> <span> Let <span class=\"m\"> $A$ </span> be the number of occupied apartments and <span class=\"m\"> $R$ </span> the monthly rent charged (in dollars). If we let <span class=\"m\"> $A = f(R)$ </span>, what is the slope of the linear function <span class=\"m\"> $f$ </span>? What is the meaning of the slope in the context of this question? </span> </div></div>"
            ]
        },
        {
            "cell_type": "markdown",
            "metadata": {
                "collapsed": false,
                "editable": false
            },
            "source": [
                "<div class=\"not-editable individual\"><div><h4>Task C</h4> <span> Determine a formula for <span class=\"m\"> $A = f(R)$ </span>. What do you think is a reasonable domain for the function? Why? </span> </div></div>"
            ]
        },
        {
            "cell_type": "markdown",
            "metadata": {
                "collapsed": false,
                "editable": false
            },
            "source": [
                "<div class=\"not-editable individual\"><div><h4>Task D</h4> <span> If the rent were to be increased to $1000, how many occupied apartments should the apartment manager expect? How much total revenue would the manager collect in a given month when rent is set at $1000? </span> </div></div>"
            ]
        },
        {
            "cell_type": "markdown",
            "metadata": {
                "collapsed": false,
                "editable": false
            },
            "source": [
                "<div class=\"not-editable individual\"><div><h4>Task E</h4> <span> Why do you think the apartment manager is interested in the data that has been collected? </span> </div></div>"
            ]
        },
        {
            "cell_type": "markdown",
            "metadata": {
                "collapsed": false,
                "editable": false
            },
            "source": [
                "<div class=\"not-editable individual\"><h2>Exercise 7</h2></div>"
            ]
        },
        {
            "cell_type": "markdown",
            "metadata": {
                "collapsed": false,
                "editable": false
            },
            "source": [
                "<div class=\"not-editable individual\"><span> Alicia and Dexter are each walking on a straight path. For a particular <span class=\"m\"> $10$ </span>-second window of time, each has their velocity (in feet per second) measured and recorded as a function of time. Their respective velocity functions are plotted in <a href=\"https://activecalculus.org/prelude/sec-changing-linear.html#F-ez-linear-walkers\">Figure 1.4.14</a>. </span></div>"
            ]
        },
        {
            "cell_type": "markdown",
            "metadata": {
                "collapsed": false,
                "editable": false
            },
            "source": [
                "<div class=\"not-editable individual\"><div><figure><figcaption><b>Figure 1.4.14.</b> The velocity functions <span class=\"m\"> $A = f(t)$ </span> and <span class=\"m\"> $D = g(t)$ </span> for Alicia and Damon, respectively.</figcaption><div><img src=\"images/linear-ez-walkers.svg\"/></div></figure></div></div>"
            ]
        },
        {
            "cell_type": "markdown",
            "metadata": {
                "collapsed": false,
                "editable": false
            },
            "source": [
                "<div class=\"not-editable individual\"><div><h4>Task A</h4> <span> Determine formulas for both <span class=\"m\"> $A = f(t)$ </span> and <span class=\"m\"> $D = g(t)$ </span>. </span> </div></div>"
            ]
        },
        {
            "cell_type": "markdown",
            "metadata": {
                "collapsed": false,
                "editable": false
            },
            "source": [
                "<div class=\"not-editable individual\"><div><h4>Task B</h4> <span> What is the value and meaning of the slope of <span class=\"m\"> $A$ </span>? Write a complete sentence to explain and be sure to include units in your response. </span> </div></div>"
            ]
        },
        {
            "cell_type": "markdown",
            "metadata": {
                "collapsed": false,
                "editable": false
            },
            "source": [
                "<div class=\"not-editable individual\"><div><h4>Task C</h4> <span> What is the value and meaning of the average rate of change of <span class=\"m\"> $D$ </span> on the interval <span class=\"m\"> $[4,8]$ </span>? Write a complete sentence to explain and be sure to include units in your response. </span> </div></div>"
            ]
        },
        {
            "cell_type": "markdown",
            "metadata": {
                "collapsed": false,
                "editable": false
            },
            "source": [
                "<div class=\"not-editable individual\"><div><h4>Task D</h4> <span> Is there ever a time when Alicia and Damon are walking at the same velocity? If yes, determine both the time and velocity; if not, explain why. </span> </div></div>"
            ]
        },
        {
            "cell_type": "markdown",
            "metadata": {
                "collapsed": false,
                "editable": false
            },
            "source": [
                "<div class=\"not-editable individual\"><div><h4>Task E</h4> <span> Is is possible to determine if there is ever a time when Alicia and Damon are located at the same place on the path? If yes, determine the time and location; if not, explain why not enough information is provided. </span> </div></div>"
            ]
        },
        {
            "cell_type": "markdown",
            "metadata": {
                "collapsed": false,
                "editable": false
            },
            "source": [
                "<div class=\"not-editable individual\"><h2>Exercise 8</h2></div>"
            ]
        },
        {
            "cell_type": "markdown",
            "metadata": {
                "collapsed": false,
                "editable": false
            },
            "source": [
                "<div class=\"not-editable individual\"><span> An inverted conical tank with depth <span class=\"m\"> $4$ </span> feet and radius <span class=\"m\"> $2$ </span> feet is completely full of water. The tank is being drained by a pump in such a way that the amount of water in the tank is decreasing at a constant rate of <span class=\"m\"> $1.5$ </span> cubic feet per minute. Let <span class=\"m\"> $V = f(t)$ </span> denote the volume of water in the tank at time <span class=\"m\"> $t$ </span> and <span class=\"m\"> $h = g(t)$ </span> the depth of the water in the tank at time <span class=\"m\"> $t$ </span>, where <span class=\"m\"> $t$ </span> is measured in minutes. </span></div>"
            ]
        },
        {
            "cell_type": "markdown",
            "metadata": {
                "collapsed": false,
                "editable": false
            },
            "source": [
                "<div class=\"not-editable individual\"><div><figure><figcaption><b>Figure 1.4.15.</b> The inverted conical tank.</figcaption><div><img src=\"images/tandem-filled-conical-tank.svg\"/></div></figure></div></div>"
            ]
        },
        {
            "cell_type": "markdown",
            "metadata": {
                "collapsed": false,
                "editable": false
            },
            "source": [
                "<div class=\"not-editable individual\"><div><h4>Task A</h4> <span> How much water is in the tank at <span class=\"m\"> $t = 0$ </span> when the tank is completely full? </span> </div></div>"
            ]
        },
        {
            "cell_type": "markdown",
            "metadata": {
                "collapsed": false,
                "editable": false
            },
            "source": [
                "<div class=\"not-editable individual\"><div><h4>Task B</h4> <span> Explain why volume, <span class=\"m\"> $V$ </span>, when viewed as a function of time, <span class=\"m\"> $t$ </span>, is a linear function. </span> </div></div>"
            ]
        },
        {
            "cell_type": "markdown",
            "metadata": {
                "collapsed": false,
                "editable": false
            },
            "source": [
                "<div class=\"not-editable individual\"><div><h4>Task C</h4> <span> Determine a formula for <span class=\"m\"> $V = f(t)$ </span>. </span> </div></div>"
            ]
        },
        {
            "cell_type": "markdown",
            "metadata": {
                "collapsed": false,
                "editable": false
            },
            "source": [
                "<div class=\"not-editable individual\"><div><h4>Task D</h4> <span> At what exact time will the tank be empty? </span> </div></div>"
            ]
        },
        {
            "cell_type": "markdown",
            "metadata": {
                "collapsed": false,
                "editable": false
            },
            "source": [
                "<div class=\"not-editable individual\"><div><h4>Task E</h4> <span> What is a reasonable domain to use for the model <span class=\"m\"> $f$ </span>? What is its corresponding range? </span> </div></div>"
            ]
        }
    ],
    "nbformat": 4,
    "nbformat_minor": 4
}
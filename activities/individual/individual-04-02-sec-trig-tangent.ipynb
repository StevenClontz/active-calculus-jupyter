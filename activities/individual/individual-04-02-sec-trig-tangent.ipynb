{
    "cells": [
        {
            "cell_type": "markdown",
            "metadata": {
                "collapsed": false,
                "editable": false
            },
            "source": [
                "<div class=\"not-editable individual\"><style> .not-editable{padding:1em;border-radius:10px;box-shadow:4px 4px 3px #ddd;margin:5px;} .not-editable.individual{background-color:#eefff8;} .not-editable.team{background-color:#eef8ff;} .sidebyside{display:flex;justify-content:center;} .sidebyside > *{margin-right:1em;flex:1;} caption{caption-side:top;white-space: nowrap;color:rgba(0,0,0,.45)}} figcaption{padding-top:0.75em;padding-bottom:0.3em;color:rgba(0,0,0,.45)} .fillin{display:inline-block;width:10em;margin-left:0.2em;margin-right:0.2em;height:1em;border-bottom:1px black solid;} .fn{font-size:0.8em;color:rgba(0,0,0.45)} .newcommands{display:none;} tt{background-color:#f8f8f8;border:1px #888 solid;border-radius:2px;padding-left:0.2em;padding-right:0.2em;} img{background-color:#fff;} </style> <div><h1>Section 4.2 The Tangent Function</h1><h2>Individual Notebook</h2><div><a href=\"https://activecalculus.org/prelude/sec-trig-tangent.html\">https://activecalculus.org/prelude/sec-trig-tangent.html</a></div></div></div>"
            ]
        },
        {
            "cell_type": "markdown",
            "metadata": {
                "collapsed": false,
                "editable": false
            },
            "source": [
                "<div class=\"not-editable individual\"><h2>Preview Activity 4.2.1</h2></div>"
            ]
        },
        {
            "cell_type": "markdown",
            "metadata": {
                "collapsed": false,
                "editable": false
            },
            "source": [
                "<div class=\"not-editable individual\"><span> Through the following questions, we work to understand the special values and overall behavior of the tangent function. </span></div>"
            ]
        },
        {
            "cell_type": "markdown",
            "metadata": {
                "collapsed": false,
                "editable": false
            },
            "source": [
                "<div class=\"not-editable individual\"><div><h4>Task A</h4> <span> Without using computational device, find the exact value of the <span class=\"m\"> $\\tan(t)$ </span> at the following values: <span class=\"m\"> $t = \\frac{\\pi}{6}, \\frac{\\pi}{4}, \\frac{\\pi}{3}, \\frac{2\\pi}{3}, \\frac{3\\pi}{4}, \\frac{5\\pi}{6}$ </span>. </span> </div></div>"
            ]
        },
        {
            "cell_type": "markdown",
            "metadata": {
                "collapsed": false,
                "editable": false
            },
            "source": [
                "<div class=\"not-editable individual\"><div><h4>Task B</h4> <span> Why is <span class=\"m\"> $\\tan \\left( \\frac{\\pi}{2} \\right)$ </span> not defined? What are three other input values <span class=\"m\"> $x$ </span> for which <span class=\"m\"> $\\tan(x)$ </span> is not defined? </span> </div></div>"
            ]
        },
        {
            "cell_type": "markdown",
            "metadata": {
                "collapsed": false,
                "editable": false
            },
            "source": [
                "<div class=\"not-editable individual\"><div><h4>Task C</h4> <span> Point your browser to http://gvsu.edu/s/0yO (<span class=\"q\"> \"zero-y-Oh\" </span>) to find a Desmos worksheet with data from the tangent function already input. Click on several of the orange points to compare your exact values in (a) with the decimal values given by Desmos. Add one entry to the table: <span class=\"m\"> $x = \\frac{11\\pi}{24}$ </span>, <span class=\"m\"> $y = T(\\frac{11\\pi}{24})$ </span>. At about what coordinates does this point lie? What are the respective values of <span class=\"m\"> $\\sin(\\frac{11\\pi}{24})$ </span> and <span class=\"m\"> $\\cos(\\frac{11\\pi}{24})$ </span>? Why is the value of <span class=\"m\"> $\\tan(\\frac{11\\pi}{24})$ </span> so large? </span> </div></div>"
            ]
        },
        {
            "cell_type": "markdown",
            "metadata": {
                "collapsed": false,
                "editable": false
            },
            "source": [
                "<div class=\"not-editable individual\"><div><h4>Task D</h4> <span> At the top of the input lists on the left side of the Desmos worksheet, click the circle to highlight the function <span class=\"m\"> $T(x) = \\tan(x)$ </span> and thus show its plot along with the data points in orange. Use the plot and your work above to answer the following important questions about the tangent function: <ul><li> <span> What is the domain of <span class=\"m\"> $y = \\tan(x)$ </span>? </span> </li><li> <span> What is the period of <span class=\"m\"> $y = \\tan(x)$ </span>? </span> </li><li> <span> What is the range of <span class=\"m\"> $y = \\tan(x)$ </span>? </span> </li></ul> </span> </div></div>"
            ]
        },
        {
            "cell_type": "markdown",
            "metadata": {
                "collapsed": false,
                "editable": false
            },
            "source": [
                "<div class=\"not-editable individual\"><h2>Exercise 7</h2></div>"
            ]
        },
        {
            "cell_type": "markdown",
            "metadata": {
                "collapsed": false,
                "editable": false
            },
            "source": [
                "<div class=\"not-editable individual\"><span> A wheelchair ramp is to be built so that the angle it forms with level ground is <span class=\"m\"> $4^{\\circ}$ </span>. If the ramp is going to rise from a level sidewalk up to a front porch that is <span class=\"m\"> $3$ </span> feet above the ground, how long does the ramp have to be? How far from the front porch will it meet the sidewalk? What is the slope of the ramp? </span></div>"
            ]
        },
        {
            "cell_type": "markdown",
            "metadata": {
                "collapsed": false,
                "editable": false
            },
            "source": [
                "<div class=\"not-editable individual\"><h2>Exercise 8</h2></div>"
            ]
        },
        {
            "cell_type": "markdown",
            "metadata": {
                "collapsed": false,
                "editable": false
            },
            "source": [
                "<div class=\"not-editable individual\"><span> A person is flying a kite and at the end of a fixed length of string. Assume there is no slack in the string. </span></div>"
            ]
        },
        {
            "cell_type": "markdown",
            "metadata": {
                "collapsed": false,
                "editable": false
            },
            "source": [
                "<div class=\"not-editable individual\"><span> At a certain moment, the kite is <span class=\"m\"> $170$ </span> feet off the ground, and the angle of elevation the string makes with the ground is <span class=\"m\"> $40^\\circ$ </span>. </span></div>"
            ]
        },
        {
            "cell_type": "markdown",
            "metadata": {
                "collapsed": false,
                "editable": false
            },
            "source": [
                "<div class=\"not-editable individual\"><div><h4>Task A</h4> <span> How far is it from the person flying the kite to another person who is standing directly beneath the kite? </span> </div></div>"
            ]
        },
        {
            "cell_type": "markdown",
            "metadata": {
                "collapsed": false,
                "editable": false
            },
            "source": [
                "<div class=\"not-editable individual\"><div><h4>Task B</h4> <span> How much string is out between the person flying the kite and the kite itself? </span> </div></div>"
            ]
        },
        {
            "cell_type": "markdown",
            "metadata": {
                "collapsed": false,
                "editable": false
            },
            "source": [
                "<div class=\"not-editable individual\"><div><h4>Task C</h4> <span> With the same amount of string out, the angle of elevation increases to <span class=\"m\"> $50^\\circ$ </span>. How high is the kite at this time? </span> </div></div>"
            ]
        },
        {
            "cell_type": "markdown",
            "metadata": {
                "collapsed": false,
                "editable": false
            },
            "source": [
                "<div class=\"not-editable individual\"><h2>Exercise 9</h2></div>"
            ]
        },
        {
            "cell_type": "markdown",
            "metadata": {
                "collapsed": false,
                "editable": false
            },
            "source": [
                "<div class=\"not-editable individual\"><span> An airplane is flying at a constant speed along a straight path above a straight road at a constant elevation of <span class=\"m\"> $2400$ </span> feet. A person on the road observes the plane flying directly at them and uses a sextant to measure the angle of elevation from them to the plane. The first measurement they take records an angle of <span class=\"m\"> $36^\\circ$ </span>; a second measurement taken <span class=\"m\"> $2$ </span> seconds later is <span class=\"m\"> $41^\\circ$ </span>. </span></div>"
            ]
        },
        {
            "cell_type": "markdown",
            "metadata": {
                "collapsed": false,
                "editable": false
            },
            "source": [
                "<div class=\"not-editable individual\"><span> How far did the plane travel during the two seconds between the two angle measurements? How fast was the plane flying? </span></div>"
            ]
        }
    ],
    "nbformat": 4,
    "nbformat_minor": 4
}
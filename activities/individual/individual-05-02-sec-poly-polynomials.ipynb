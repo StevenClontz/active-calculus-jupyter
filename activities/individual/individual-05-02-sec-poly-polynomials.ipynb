{
    "cells": [
        {
            "cell_type": "markdown",
            "metadata": {
                "collapsed": false,
                "editable": false
            },
            "source": [
                "<div class=\"not-editable individual\"><style> .not-editable{padding:1em;border-radius:10px;box-shadow:4px 4px 3px #ddd;margin:5px;} .not-editable.individual{background-color:#eefff8;} .not-editable.team{background-color:#eef8ff;} .sidebyside{display:flex;justify-content:center;} .sidebyside > *{margin-right:1em;flex:1;} caption{caption-side:top;white-space: nowrap;color:rgba(0,0,0,.45)}} figcaption{padding-top:0.75em;padding-bottom:0.3em;color:rgba(0,0,0,.45)} .fillin{display:inline-block;width:10em;margin-left:0.2em;margin-right:0.2em;height:1em;border-bottom:1px black solid;} .fn{font-size:0.8em;color:rgba(0,0,0.45)} .newcommands{display:none;} tt{background-color:#f8f8f8;border:1px #888 solid;border-radius:2px;padding-left:0.2em;padding-right:0.2em;} img{background-color:#fff;} </style> <div><h1>Section 5.2 Polynomials</h1><h2>Individual Notebook</h2><div><a href=\"https://activecalculus.org/prelude/sec-poly-polynomials.html\">https://activecalculus.org/prelude/sec-poly-polynomials.html</a></div></div></div>"
            ]
        },
        {
            "cell_type": "markdown",
            "metadata": {
                "collapsed": false,
                "editable": false
            },
            "source": [
                "<div class=\"not-editable individual\"><h2>Preview Activity 5.2.1</h2></div>"
            ]
        },
        {
            "cell_type": "markdown",
            "metadata": {
                "collapsed": false,
                "editable": false
            },
            "source": [
                "<div class=\"not-editable individual\"><span> Point your browser to the Desmos worksheet at http://gvsu.edu/s/0zy. There you'll find a degree <span class=\"m\"> $4$ </span> polynomial of the form <span class=\"m\"> $p(x) = a_0 + a_1x + a_2x^2 + a_3x^3 + a_4x^4$ </span>, where <span class=\"m\"> $a_0, \\ldots, a_4$ </span> are set up as sliders. In the questions that follow, you'll experiment with different values of <span class=\"m\"> $a_0, \\ldots, a_4$ </span> to investigate different possible behaviors in a degree <span class=\"m\"> $4$ </span> polynomial. </span></div>"
            ]
        },
        {
            "cell_type": "markdown",
            "metadata": {
                "collapsed": false,
                "editable": false
            },
            "source": [
                "<div class=\"not-editable individual\"><div><h4>Task A</h4> <span> What is the largest number of distinct points at which <span class=\"m\"> $p(x)$ </span> can cross the <span class=\"m\"> $x$ </span>-axis? </span> <span> For a polynomial <span class=\"m\"> $p$ </span>, we call any value <span class=\"m\"> $r$ </span> such that <span class=\"m\"> $p(r) = 0$ </span> a zero of the polynomial. polynomial functionzero Report the values of <span class=\"m\"> $a_0, \\ldots, a_4$ </span> that lead to that largest number of zeros for <span class=\"m\"> $p(x)$ </span>. </span> </div></div>"
            ]
        },
        {
            "cell_type": "markdown",
            "metadata": {
                "collapsed": false,
                "editable": false
            },
            "source": [
                "<div class=\"not-editable individual\"><div><h4>Task B</h4> <span> What other numbers of zeros are possible for <span class=\"m\"> $p(x)$ </span>? Said differently, can you get each possible number of fewer zeros than the largest number that you found in (a)? Why or why not? </span> </div></div>"
            ]
        },
        {
            "cell_type": "markdown",
            "metadata": {
                "collapsed": false,
                "editable": false
            },
            "source": [
                "<div class=\"not-editable individual\"><div><h4>Task C</h4> <span> We say that a function has a turning point turning point if the function changes from decreasing to increasing or increasing to decreasing at the point. For example, any quadratic function has a turning point at its vertex. </span> <span> What is the largest number of turning points that <span class=\"m\"> $p(x)$ </span> (the function in the Desmos worksheet) can have? Experiment with the sliders, and report values of <span class=\"m\"> $a_0, \\ldots, a_4$ </span> that lead to that largest number of turning points for <span class=\"m\"> $p(x)$ </span>. </span> </div></div>"
            ]
        },
        {
            "cell_type": "markdown",
            "metadata": {
                "collapsed": false,
                "editable": false
            },
            "source": [
                "<div class=\"not-editable individual\"><div><h4>Task D</h4> <span> What other numbers of turning points are possible for <span class=\"m\"> $p(x)$ </span>? Can it have no turning points? Just one? Exactly two? Experiment and explain. </span> </div></div>"
            ]
        },
        {
            "cell_type": "markdown",
            "metadata": {
                "collapsed": false,
                "editable": false
            },
            "source": [
                "<div class=\"not-editable individual\"><div><h4>Task E</h4> <span> What long-range behavior is possible for <span class=\"m\"> $p(x)$ </span>? Said differently, what are the possible results for <span class=\"m\"> $\\displaystyle \\lim_{x \\to -\\infty} p(x)$ </span> and <span class=\"m\"> $\\displaystyle \\lim_{x \\to \\infty} p(x)$ </span>? </span> </div></div>"
            ]
        },
        {
            "cell_type": "markdown",
            "metadata": {
                "collapsed": false,
                "editable": false
            },
            "source": [
                "<div class=\"not-editable individual\"><div><h4>Task F</h4> <span> What happens when we plot <span class=\"m\"> $y = a_4 x^4$ </span> in and compare <span class=\"m\"> $p(x)$ </span> and <span class=\"m\"> $a_4 x^4$ </span>? How do they look when we zoom out? (Experiment with different values of each of the sliders, too.) </span> </div></div>"
            ]
        },
        {
            "cell_type": "markdown",
            "metadata": {
                "collapsed": false,
                "editable": false
            },
            "source": [
                "<div class=\"not-editable individual\"><h2>Exercise 8</h2></div>"
            ]
        },
        {
            "cell_type": "markdown",
            "metadata": {
                "collapsed": false,
                "editable": false
            },
            "source": [
                "<div class=\"not-editable individual\"><span> Consider the polynomial function given by <span class=\"m\"> $$ p(x) = 0.0005(x+21.7)^3 (x-20.9)^2 (x-31.4)(x^2+100) $$ </span>. </span></div>"
            ]
        },
        {
            "cell_type": "markdown",
            "metadata": {
                "collapsed": false,
                "editable": false
            },
            "source": [
                "<div class=\"not-editable individual\"><div><h4>Task A</h4> <span> What is the degree of <span class=\"m\"> $p$ </span>? </span> </div></div>"
            ]
        },
        {
            "cell_type": "markdown",
            "metadata": {
                "collapsed": false,
                "editable": false
            },
            "source": [
                "<div class=\"not-editable individual\"><div><h4>Task B</h4> <span> What are the real zeros of <span class=\"m\"> $p$ </span>? State them with multiplicity. </span> </div></div>"
            ]
        },
        {
            "cell_type": "markdown",
            "metadata": {
                "collapsed": false,
                "editable": false
            },
            "source": [
                "<div class=\"not-editable individual\"><div><h4>Task C</h4> <span> Construct a carefully labeled sign chart for <span class=\"m\"> $p(x)$ </span>. </span> </div></div>"
            ]
        },
        {
            "cell_type": "markdown",
            "metadata": {
                "collapsed": false,
                "editable": false
            },
            "source": [
                "<div class=\"not-editable individual\"><div><h4>Task D</h4> <span> Plot the function <span class=\"m\"> $p$ </span> in Desmos. Are the zeros obvious from the graph? How do you have to adjust the window in order to tell? Even in an adjusted window, can you tell them exactly from the graph? </span> </div></div>"
            ]
        },
        {
            "cell_type": "markdown",
            "metadata": {
                "collapsed": false,
                "editable": false
            },
            "source": [
                "<div class=\"not-editable individual\"><div><h4>Task E</h4> <span> Now consider the related but different polynomial <span class=\"m\"> $$ q(x) = -0.0005(x+21.7)^3 (x-20.9)^2 (x-31.4)(x^2+100)(x-92.3) $$ </span>. What is the degree of <span class=\"m\"> $q$ </span>? What are the zeros of <span class=\"m\"> $q$ </span>? What is obvious from its graph and what is not? </span> </div></div>"
            ]
        },
        {
            "cell_type": "markdown",
            "metadata": {
                "collapsed": false,
                "editable": false
            },
            "source": [
                "<div class=\"not-editable individual\"><h2>Exercise 9</h2></div>"
            ]
        },
        {
            "cell_type": "markdown",
            "metadata": {
                "collapsed": false,
                "editable": false
            },
            "source": [
                "<div class=\"not-editable individual\"><span> Consider the (non-polynomial) function <span class=\"m\"> $r(x) = e^{-x^2}(x^2+1)(x-2)(x-3)$ </span>. </span></div>"
            ]
        },
        {
            "cell_type": "markdown",
            "metadata": {
                "collapsed": false,
                "editable": false
            },
            "source": [
                "<div class=\"not-editable individual\"><div><h4>Task A</h4> <span> What are the zeros of <span class=\"m\"> $r(x)$ </span>? (Hint: is <span class=\"m\"> $e^{\\Box}$ </span> ever equal to zero?) </span> </div></div>"
            ]
        },
        {
            "cell_type": "markdown",
            "metadata": {
                "collapsed": false,
                "editable": false
            },
            "source": [
                "<div class=\"not-editable individual\"><div><h4>Task B</h4> <span> Construct a sign chart for <span class=\"m\"> $r(x)$ </span>. </span> </div></div>"
            ]
        },
        {
            "cell_type": "markdown",
            "metadata": {
                "collapsed": false,
                "editable": false
            },
            "source": [
                "<div class=\"not-editable individual\"><div><h4>Task C</h4> <span> Plot <span class=\"m\"> $r(x)$ </span> in Desmos. Is the sign and overall behavior of <span class=\"m\"> $r$ </span> obvious from the plot? Why or why not? </span> </div></div>"
            ]
        },
        {
            "cell_type": "markdown",
            "metadata": {
                "collapsed": false,
                "editable": false
            },
            "source": [
                "<div class=\"not-editable individual\"><div><h4>Task D</h4> <span> From the graph, what appears to be the value of <span class=\"m\"> $\\lim_{x \\to \\infty} r(x)$ </span>? Why is this surprising in light of the behavior of <span class=\"m\"> $f(x)=(x^2+1)(x-2)(x-3)$ </span> as <span class=\"m\"> $x \\to \\infty$ </span>? </span> </div></div>"
            ]
        },
        {
            "cell_type": "markdown",
            "metadata": {
                "collapsed": false,
                "editable": false
            },
            "source": [
                "<div class=\"not-editable individual\"><h2>Exercise 10</h2></div>"
            ]
        },
        {
            "cell_type": "markdown",
            "metadata": {
                "collapsed": false,
                "editable": false
            },
            "source": [
                "<div class=\"not-editable individual\"><span> In each following question, find a formula for a polynomial with certain properties, generate a plot that demonstrates you&#8217;ve found a function with the given specifications, and write several sentences to explain your thinking. </span></div>"
            ]
        },
        {
            "cell_type": "markdown",
            "metadata": {
                "collapsed": false,
                "editable": false
            },
            "source": [
                "<div class=\"not-editable individual\"><div><h4>Task A</h4> <span> A quadratic function <span class=\"m\"> $q$ </span> has zeros at <span class=\"m\"> $x = &#8722;7$ </span> and <span class=\"m\"> $x = 11$ </span> and its <span class=\"m\"> $y$ </span>-value at its vertex is <span class=\"m\"> $42$ </span>. </span> </div></div>"
            ]
        },
        {
            "cell_type": "markdown",
            "metadata": {
                "collapsed": false,
                "editable": false
            },
            "source": [
                "<div class=\"not-editable individual\"><div><h4>Task B</h4> <span> A polynomial <span class=\"m\"> $r$ </span> of degree <span class=\"m\"> $4$ </span> has zeros at <span class=\"m\"> $x = &#8722;3$ </span> and <span class=\"m\"> $x = 5$ </span>, both of multiplicity <span class=\"m\"> $2$ </span>, and the function has a <span class=\"m\"> $y$ </span>-intercept at the point <span class=\"m\"> $(0, 28)$ </span>. </span> </div></div>"
            ]
        },
        {
            "cell_type": "markdown",
            "metadata": {
                "collapsed": false,
                "editable": false
            },
            "source": [
                "<div class=\"not-editable individual\"><div><h4>Task C</h4> <span> A polynomial <span class=\"m\"> $f$ </span> has degree <span class=\"m\"> $11$ </span> and the following zeros: zeros of multiplicity <span class=\"m\"> $1$ </span> at <span class=\"m\"> $x = &#8722;3$ </span> and <span class=\"m\"> $x = 5$ </span>, zeros of multiplicity <span class=\"m\"> $2$ </span> at <span class=\"m\"> $x = &#8722;2$ </span> and <span class=\"m\"> $x = 3$ </span>, and a zero of multiplicity <span class=\"m\"> $3$ </span> at <span class=\"m\"> $x = 1$ </span>. In addition, <span class=\"m\"> $\\lim_{x \\to \\infty} f(x) = -\\infty$ </span>. </span> </div></div>"
            ]
        },
        {
            "cell_type": "markdown",
            "metadata": {
                "collapsed": false,
                "editable": false
            },
            "source": [
                "<div class=\"not-editable individual\"><div><h4>Task D</h4> <span> A polynomial <span class=\"m\"> $g$ </span> has its graph given in <a href=\"https://activecalculus.org/prelude/sec-poly-polynomials.html#F-poly-ez-g\">Figure 5.2.16</a> below. Determine a possible formula for <span class=\"m\"> $g(x)$ </span> where the polynomial you find has the lowest possible degree to match the graph. What is the degree of the function you find? </span> <div><figure><figcaption><b>Figure 5.2.16.</b> A polynomial function <span class=\"m\"> $g$ </span>.</figcaption><div><img src=\"images/poly-ez-g.svg\"/></div></figure></div> </div></div>"
            ]
        },
        {
            "cell_type": "markdown",
            "metadata": {
                "collapsed": false,
                "editable": false
            },
            "source": [
                "<div class=\"not-editable individual\"><h2>Exercise 11</h2></div>"
            ]
        },
        {
            "cell_type": "markdown",
            "metadata": {
                "collapsed": false,
                "editable": false
            },
            "source": [
                "<div class=\"not-editable individual\"><span> Like we have worked to understand families of functions that involve parameters such as <span class=\"m\"> $p(t) = a\\cos(k(t-b)) + c$ </span> and <span class=\"m\"> $F(t) = a + be^{-kt}$ </span>, we are often interested in polynomials that involve one or more parameters and understanding how those parameters affect the function's behavior. </span></div>"
            ]
        },
        {
            "cell_type": "markdown",
            "metadata": {
                "collapsed": false,
                "editable": false
            },
            "source": [
                "<div class=\"not-editable individual\"><span> For example, let <span class=\"m\"> $a \\gt 0$ </span> be a positive constant, and consider <span class=\"m\"> $p(x) = x^3 - a^2x$ </span>. </span></div>"
            ]
        },
        {
            "cell_type": "markdown",
            "metadata": {
                "collapsed": false,
                "editable": false
            },
            "source": [
                "<div class=\"not-editable individual\"><div><h4>Task A</h4> <span> What is the degree of <span class=\"m\"> $p$ </span>? </span> </div></div>"
            ]
        },
        {
            "cell_type": "markdown",
            "metadata": {
                "collapsed": false,
                "editable": false
            },
            "source": [
                "<div class=\"not-editable individual\"><div><h4>Task B</h4> <span> What is the long-term behavior of <span class=\"m\"> $p$ </span>? State your responses using limit notation. </span> </div></div>"
            ]
        },
        {
            "cell_type": "markdown",
            "metadata": {
                "collapsed": false,
                "editable": false
            },
            "source": [
                "<div class=\"not-editable individual\"><div><h4>Task C</h4> <span> In terms of the constant <span class=\"m\"> $a$ </span>, what are the zeros of <span class=\"m\"> $p$ </span>? </span> </div></div>"
            ]
        },
        {
            "cell_type": "markdown",
            "metadata": {
                "collapsed": false,
                "editable": false
            },
            "source": [
                "<div class=\"not-editable individual\"><div><h4>Task D</h4> <span> Construct a carefully labeled sign chart for <span class=\"m\"> $p$ </span>. </span> </div></div>"
            ]
        },
        {
            "cell_type": "markdown",
            "metadata": {
                "collapsed": false,
                "editable": false
            },
            "source": [
                "<div class=\"not-editable individual\"><div><h4>Task E</h4> <span> How does changing the value of <span class=\"m\"> $a$ </span> affect the graph of <span class=\"m\"> $p$ </span>? </span> </div></div>"
            ]
        }
    ],
    "nbformat": 4,
    "nbformat_minor": 4
}
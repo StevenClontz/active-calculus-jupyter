{
    "cells": [
        {
            "cell_type": "markdown",
            "metadata": {
                "collapsed": false,
                "editable": false
            },
            "source": [
                "<div class=\"not-editable individual\"><style> .not-editable{padding:1em;border-radius:10px;box-shadow:4px 4px 3px #ddd;margin:5px;} .not-editable.individual{background-color:#eefff8;} .not-editable.team{background-color:#eef8ff;} .sidebyside{display:flex;justify-content:center;} .sidebyside > *{margin-right:1em;flex:1;} caption{caption-side:top;white-space: nowrap;color:rgba(0,0,0,.45)}} figcaption{padding-top:0.75em;padding-bottom:0.3em;color:rgba(0,0,0,.45)} .fillin{display:inline-block;width:10em;margin-left:0.2em;margin-right:0.2em;height:1em;border-bottom:1px black solid;} .fn{font-size:0.8em;color:rgba(0,0,0.45)} .newcommands{display:none;} tt{background-color:#f8f8f8;border:1px #888 solid;border-radius:2px;padding-left:0.2em;padding-right:0.2em;} img{background-color:#fff;} </style> <div><h1>Section 3.3 The special number e</h1><h2>Individual Notebook</h2><div><a href=\"https://activecalculus.org/prelude/sec-exp-e.html\">https://activecalculus.org/prelude/sec-exp-e.html</a></div></div></div>"
            ]
        },
        {
            "cell_type": "markdown",
            "metadata": {
                "collapsed": false,
                "editable": false
            },
            "source": [
                "<div class=\"not-editable individual\"><h2>Preview Activity 3.3.1</h2></div>"
            ]
        },
        {
            "cell_type": "markdown",
            "metadata": {
                "collapsed": false,
                "editable": false
            },
            "source": [
                "<div class=\"not-editable individual\"><span> Open a new Desmos worksheet and define the following functions: <span class=\"m\"> $f(t) = 2^t$ </span>, <span class=\"m\"> $g(t) = 3^t$ </span>, <span class=\"m\"> $h(t) = (\\frac{1}{3})^t$ </span>, and <span class=\"m\"> $p(t) = f(kt)$ </span>. After you define <span class=\"m\"> $p$ </span>, accept the slider for <span class=\"m\"> $k$ </span>, and set the range of the slider to be <span class=\"m\"> $-2 \\le k \\le 2$ </span>. </span></div>"
            ]
        },
        {
            "cell_type": "markdown",
            "metadata": {
                "collapsed": false,
                "editable": false
            },
            "source": [
                "<div class=\"not-editable individual\"><div><h4>Task A</h4> <span> By experimenting with the value of <span class=\"m\"> $k$ </span>, find a value of <span class=\"m\"> $k$ </span> so that the graph of <span class=\"m\"> $p(t) = f(kt) = 2^{kt}$ </span> appears to align with the graph of <span class=\"m\"> $g(t) = 3^t$ </span>. What is the value of <span class=\"m\"> $k$ </span>? </span> </div></div>"
            ]
        },
        {
            "cell_type": "markdown",
            "metadata": {
                "collapsed": false,
                "editable": false
            },
            "source": [
                "<div class=\"not-editable individual\"><div><h4>Task B</h4> <span> Similarly, experiment to find a value of <span class=\"m\"> $k$ </span> so that the graph of <span class=\"m\"> $p(t) = f(kt) = 2^{kt}$ </span> appears to align with the graph of <span class=\"m\"> $h(t) = (\\frac{1}{3})^t$ </span>. What is the value of <span class=\"m\"> $k$ </span>? </span> </div></div>"
            ]
        },
        {
            "cell_type": "markdown",
            "metadata": {
                "collapsed": false,
                "editable": false
            },
            "source": [
                "<div class=\"not-editable individual\"><div><h4>Task C</h4> <span> For the value of <span class=\"m\"> $k$ </span> you determined in (a), compute <span class=\"m\"> $2^k$ </span>. What do you observe? </span> </div></div>"
            ]
        },
        {
            "cell_type": "markdown",
            "metadata": {
                "collapsed": false,
                "editable": false
            },
            "source": [
                "<div class=\"not-editable individual\"><div><h4>Task D</h4> <span> For the value of <span class=\"m\"> $k$ </span> you determined in (b), compute <span class=\"m\"> $2^k$ </span>. What do you observe? </span> </div></div>"
            ]
        },
        {
            "cell_type": "markdown",
            "metadata": {
                "collapsed": false,
                "editable": false
            },
            "source": [
                "<div class=\"not-editable individual\"><div><h4>Task E</h4> <span> Given any exponential function of the form <span class=\"m\"> $b^t$ </span>, do you think it's possible to find a value of <span class=\"m\"> $k$ </span> to that <span class=\"m\"> $p(t) = f(kt) = 2^{kt}$ </span> is the same function as <span class=\"m\"> $b^t$ </span>? Why or why not? </span> </div></div>"
            ]
        },
        {
            "cell_type": "markdown",
            "metadata": {
                "collapsed": false,
                "editable": false
            },
            "source": [
                "<div class=\"not-editable individual\"><h2>Exercise 6</h2></div>"
            ]
        },
        {
            "cell_type": "markdown",
            "metadata": {
                "collapsed": false,
                "editable": false
            },
            "source": [
                "<div class=\"not-editable individual\"><span> When a single investment of principal, $<span class=\"m\"> $P$ </span>, is invested in an account that returns interest at an annual rate of <span class=\"m\"> $r$ </span> (a decimal that corresponds to the percentage rate, such as <span class=\"m\"> $r = 0.05$ </span> corresponding to <span class=\"m\"> $5$ </span>%) that is compounded <span class=\"m\"> $n$ </span> times per year, the amount of money in the account after <span class=\"m\"> $t$ </span> years is given by <span class=\"m\"> $A(t) = P(1 + \\frac{r}{n})^{nt}$ </span>. </span></div>"
            ]
        },
        {
            "cell_type": "markdown",
            "metadata": {
                "collapsed": false,
                "editable": false
            },
            "source": [
                "<div class=\"not-editable individual\"><span> Suppose we invest $<span class=\"m\"> $P$ </span> in an account that earns <span class=\"m\"> $8$ </span>% annual interest. We investigate the effects of different rates of compounding. </span></div>"
            ]
        },
        {
            "cell_type": "markdown",
            "metadata": {
                "collapsed": false,
                "editable": false
            },
            "source": [
                "<div class=\"not-editable individual\"><div><h4>Task A</h4> <span> Compute <span class=\"m\"> $A(1)$ </span> if interest is compounded quarterly (<span class=\"m\"> $n = 4$ </span>). </span> </div></div>"
            ]
        },
        {
            "cell_type": "markdown",
            "metadata": {
                "collapsed": false,
                "editable": false
            },
            "source": [
                "<div class=\"not-editable individual\"><div><h4>Task B</h4> <span> Compute <span class=\"m\"> $A(1)$ </span> if interest is compounded monthly. </span> </div></div>"
            ]
        },
        {
            "cell_type": "markdown",
            "metadata": {
                "collapsed": false,
                "editable": false
            },
            "source": [
                "<div class=\"not-editable individual\"><div><h4>Task C</h4> <span> Compute <span class=\"m\"> $A(1)$ </span> if interest is compounded weekly. </span> </div></div>"
            ]
        },
        {
            "cell_type": "markdown",
            "metadata": {
                "collapsed": false,
                "editable": false
            },
            "source": [
                "<div class=\"not-editable individual\"><div><h4>Task D</h4> <span> Compute <span class=\"m\"> $A(1)$ </span> if interest is compounded daily. </span> </div></div>"
            ]
        },
        {
            "cell_type": "markdown",
            "metadata": {
                "collapsed": false,
                "editable": false
            },
            "source": [
                "<div class=\"not-editable individual\"><div><h4>Task E</h4> <span> If we let the number of times that interest is compounded increase without bound, we say that the interest is <span class=\"q\"> \"compounded continuously\" </span>. continuously compounded interest When interest is compounded continuously, it turns out that the amount of money an account with initial investment $<span class=\"m\"> $P$ </span> after <span class=\"m\"> $t$ </span> years at an annual interest rate of <span class=\"m\"> $r$ </span> is <span class=\"m\"> $A(t) = Pe^{rt}$ </span>, where <span class=\"m\"> $e$ </span> is the natural base. Compute <span class=\"m\"> $A(1)$ </span> in the same context as the preceding questions but where interest is compounded continuously. </span> </div></div>"
            ]
        },
        {
            "cell_type": "markdown",
            "metadata": {
                "collapsed": false,
                "editable": false
            },
            "source": [
                "<div class=\"not-editable individual\"><div><h4>Task F</h4> <span> How much of a difference does continuously compounded interest make over interest compounded quarterly in one year's time? How does your answer change over <span class=\"m\"> $25$ </span> years' time? </span> </div></div>"
            ]
        },
        {
            "cell_type": "markdown",
            "metadata": {
                "collapsed": false,
                "editable": false
            },
            "source": [
                "<div class=\"not-editable individual\"><h2>Exercise 7</h2></div>"
            ]
        },
        {
            "cell_type": "markdown",
            "metadata": {
                "collapsed": false,
                "editable": false
            },
            "source": [
                "<div class=\"not-editable individual\"><span> In Desmos, define the function <span class=\"m\"> $g(t) = e^{kt}$ </span> and accept the slider for <span class=\"m\"> $k$ </span>. Set the range of the slider to <span class=\"m\"> $-2 \\le k \\le 2$ </span>, and assume that <span class=\"m\"> $k \\ne 0$ </span>. Experiment with a wide range of values of <span class=\"m\"> $k$ </span> to see the effects of changing <span class=\"m\"> $k$ </span>. </span></div>"
            ]
        },
        {
            "cell_type": "markdown",
            "metadata": {
                "collapsed": false,
                "editable": false
            },
            "source": [
                "<div class=\"not-editable individual\"><div><h4>Task A</h4> <span> For what values of <span class=\"m\"> $k$ </span> is <span class=\"m\"> $g$ </span> always increasing? For what values of <span class=\"m\"> $k$ </span> is <span class=\"m\"> $g$ </span> always decreasing? </span> </div></div>"
            ]
        },
        {
            "cell_type": "markdown",
            "metadata": {
                "collapsed": false,
                "editable": false
            },
            "source": [
                "<div class=\"not-editable individual\"><div><h4>Task B</h4> <span> For which value of <span class=\"m\"> $k$ </span> is the average rate of change of <span class=\"m\"> $g$ </span> on <span class=\"m\"> $[0,1]$ </span> greater: when <span class=\"m\"> $k = -0.1$ </span> or when <span class=\"m\"> $k = -0.05$ </span>? </span> </div></div>"
            ]
        },
        {
            "cell_type": "markdown",
            "metadata": {
                "collapsed": false,
                "editable": false
            },
            "source": [
                "<div class=\"not-editable individual\"><div><h4>Task C</h4> <span> What is the long-term behavior of <span class=\"m\"> $g$ </span> when <span class=\"m\"> $k \\lt 0$ </span>? Why does this occur? </span> </div></div>"
            ]
        },
        {
            "cell_type": "markdown",
            "metadata": {
                "collapsed": false,
                "editable": false
            },
            "source": [
                "<div class=\"not-editable individual\"><div><h4>Task D</h4> <span> Experiment with the slider to find a value of <span class=\"m\"> $k$ </span> for which <span class=\"m\"> $g(2) = \\frac{1}{2}$ </span>. Test your estimate by computing <span class=\"m\"> $e^{2k}$ </span>. How accurate is your estimate? </span> </div></div>"
            ]
        },
        {
            "cell_type": "markdown",
            "metadata": {
                "collapsed": false,
                "editable": false
            },
            "source": [
                "<div class=\"not-editable individual\"><h2>Exercise 8</h2></div>"
            ]
        },
        {
            "cell_type": "markdown",
            "metadata": {
                "collapsed": false,
                "editable": false
            },
            "source": [
                "<div class=\"not-editable individual\"><span> A can of soda is removed from a refrigerator at time <span class=\"m\"> $t = 0$ </span> (in minutes) and its temperature, <span class=\"m\"> $F(t)$ </span>, in degrees Fahrenheit, is computed at regular intervals. Based on the data, a model is formulated for the object's temperature, given by <span class=\"m\"> $$ F(t) = 74.4 - 38.8e^{-0.05t} $$ </span>. </span></div>"
            ]
        },
        {
            "cell_type": "markdown",
            "metadata": {
                "collapsed": false,
                "editable": false
            },
            "source": [
                "<div class=\"not-editable individual\"><div><h4>Task A</h4> <span> What is the long-term behavior of the function <span class=\"m\"> $g(t) = e^{-0.05t}$ </span>? Why? </span> </div></div>"
            ]
        },
        {
            "cell_type": "markdown",
            "metadata": {
                "collapsed": false,
                "editable": false
            },
            "source": [
                "<div class=\"not-editable individual\"><div><h4>Task B</h4> <span> What is the long-term behavior of the function <span class=\"m\"> $F(t) = 74.4 - 38.8e^{-0.05t}$ </span>? What is the meaning of this value in the physical context of the problem? </span> </div></div>"
            ]
        },
        {
            "cell_type": "markdown",
            "metadata": {
                "collapsed": false,
                "editable": false
            },
            "source": [
                "<div class=\"not-editable individual\"><div><h4>Task C</h4> <span> What is the temperature of the refrigerator? Why? </span> </div></div>"
            ]
        },
        {
            "cell_type": "markdown",
            "metadata": {
                "collapsed": false,
                "editable": false
            },
            "source": [
                "<div class=\"not-editable individual\"><div><h4>Task D</h4> <span> Compute the average rate of change of <span class=\"m\"> $F$ </span> on the intervals <span class=\"m\"> $[10,20]$ </span>, <span class=\"m\"> $[20,30]$ </span>, and <span class=\"m\"> $[30,40]$ </span>. Write a careful sentence, with units, to explain the meaning of each, and write an additional sentence to describe any overall trends in how the average rate of change of <span class=\"m\"> $F$ </span> is changing. </span> </div></div>"
            ]
        }
    ],
    "nbformat": 4,
    "nbformat_minor": 4
}
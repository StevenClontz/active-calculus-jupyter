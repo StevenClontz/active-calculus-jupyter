{
    "cells": [
        {
            "cell_type": "markdown",
            "metadata": {
                "collapsed": false,
                "editable": false
            },
            "source": [
                "<div class=\"not-editable individual\"><style> .not-editable{padding:1em;border-radius:10px;box-shadow:4px 4px 3px #ddd;margin:5px;} .not-editable.individual{background-color:#eefff8;} .not-editable.team{background-color:#eef8ff;} .sidebyside{display:flex;justify-content:center;} .sidebyside > *{margin-right:1em;flex:1;} caption{caption-side:top;white-space: nowrap;color:rgba(0,0,0,.45)}} figcaption{padding-top:0.75em;padding-bottom:0.3em;color:rgba(0,0,0,.45)} .fillin{display:inline-block;width:10em;margin-left:0.2em;margin-right:0.2em;height:1em;border-bottom:1px black solid;} .fn{font-size:0.8em;color:rgba(0,0,0.45)} .newcommands{display:none;} tt{background-color:#f8f8f8;border:1px #888 solid;border-radius:2px;padding-left:0.2em;padding-right:0.2em;} img{background-color:#fff;} </style> <div><h1>Section 4.4 Finding Angles</h1><h2>Individual Notebook</h2><div><a href=\"https://activecalculus.org/prelude/sec-trig-finding-angles.html\">https://activecalculus.org/prelude/sec-trig-finding-angles.html</a></div></div></div>"
            ]
        },
        {
            "cell_type": "markdown",
            "metadata": {
                "collapsed": false,
                "editable": false
            },
            "source": [
                "<div class=\"not-editable individual\"><h2>Preview Activity 4.4.1</h2></div>"
            ]
        },
        {
            "cell_type": "markdown",
            "metadata": {
                "collapsed": false,
                "editable": false
            },
            "source": [
                "<div class=\"not-editable individual\"><span> Consider a right triangle that has one leg of length <span class=\"m\"> $3$ </span> and another leg of length <span class=\"m\"> $\\sqrt{3}$ </span>. Let <span class=\"m\"> $\\theta$ </span> be the angle that lies opposite the shorter leg. </span></div>"
            ]
        },
        {
            "cell_type": "markdown",
            "metadata": {
                "collapsed": false,
                "editable": false
            },
            "source": [
                "<div class=\"not-editable individual\"><div><h4>Task A</h4> <span> Sketch a labeled picture of the triangle. </span> </div></div>"
            ]
        },
        {
            "cell_type": "markdown",
            "metadata": {
                "collapsed": false,
                "editable": false
            },
            "source": [
                "<div class=\"not-editable individual\"><div><h4>Task B</h4> <span> What is the exact length of the triangle's hypotenuse? </span> </div></div>"
            ]
        },
        {
            "cell_type": "markdown",
            "metadata": {
                "collapsed": false,
                "editable": false
            },
            "source": [
                "<div class=\"not-editable individual\"><div><h4>Task C</h4> <span> What is the exact value of <span class=\"m\"> $\\sin(\\theta)$ </span>? </span> </div></div>"
            ]
        },
        {
            "cell_type": "markdown",
            "metadata": {
                "collapsed": false,
                "editable": false
            },
            "source": [
                "<div class=\"not-editable individual\"><div><h4>Task D</h4> <span> Rewrite your equation from (b) using the arcsine function in the form <span class=\"m\"> $\\arcsin(\\Box) = \\Delta$ </span>, where <span class=\"m\"> $\\Box$ </span> and <span class=\"m\"> $\\Delta$ </span> are numerical values. </span> </div></div>"
            ]
        },
        {
            "cell_type": "markdown",
            "metadata": {
                "collapsed": false,
                "editable": false
            },
            "source": [
                "<div class=\"not-editable individual\"><div><h4>Task E</h4> <span> What special angle from the unit circle is <span class=\"m\"> $\\theta$ </span>? </span> </div></div>"
            ]
        },
        {
            "cell_type": "markdown",
            "metadata": {
                "collapsed": false,
                "editable": false
            },
            "source": [
                "<div class=\"not-editable individual\"><h2>Exercise 4</h2></div>"
            ]
        },
        {
            "cell_type": "markdown",
            "metadata": {
                "collapsed": false,
                "editable": false
            },
            "source": [
                "<div class=\"not-editable individual\"><span> At an airshow, a pilot is flying low over a runway while maintaining a constant altitude of <span class=\"m\"> $2000$ </span> feet and a constant speed. On a straight path over the runway, the pilot observes on her laser range-finder that the distance from the plane to a fixed building adjacent to the runway is <span class=\"m\"> $7500$ </span> feet. Five seconds later, she observes that distance to the same building is now <span class=\"m\"> $6000$ </span> feet. </span></div>"
            ]
        },
        {
            "cell_type": "markdown",
            "metadata": {
                "collapsed": false,
                "editable": false
            },
            "source": [
                "<div class=\"not-editable individual\"><div><h4>Task A</h4> <span> What is the angle of depression from the plane to the building when the plane is <span class=\"m\"> $7500$ </span> feet away from the building? (The angle of depression is the angle that the pilot's line of sight makes with the horizontal.) </span> </div></div>"
            ]
        },
        {
            "cell_type": "markdown",
            "metadata": {
                "collapsed": false,
                "editable": false
            },
            "source": [
                "<div class=\"not-editable individual\"><div><h4>Task B</h4> <span> What is the angle of depression when the plane is <span class=\"m\"> $6000$ </span> feet from the building? </span> </div></div>"
            ]
        },
        {
            "cell_type": "markdown",
            "metadata": {
                "collapsed": false,
                "editable": false
            },
            "source": [
                "<div class=\"not-editable individual\"><div><h4>Task C</h4> <span> How far did the plane travel during the time between the two different observations? </span> </div></div>"
            ]
        },
        {
            "cell_type": "markdown",
            "metadata": {
                "collapsed": false,
                "editable": false
            },
            "source": [
                "<div class=\"not-editable individual\"><div><h4>Task D</h4> <span> What is the plane's velocity (in miles per hour)? </span> </div></div>"
            ]
        },
        {
            "cell_type": "markdown",
            "metadata": {
                "collapsed": false,
                "editable": false
            },
            "source": [
                "<div class=\"not-editable individual\"><h2>Exercise 5</h2></div>"
            ]
        },
        {
            "cell_type": "markdown",
            "metadata": {
                "collapsed": false,
                "editable": false
            },
            "source": [
                "<div class=\"not-editable individual\"><span> On a calm day, a photographer is filming a hot air balloon. When the balloon launches, the photographer is stationed <span class=\"m\"> $850$ </span> feet away from the balloon. </span></div>"
            ]
        },
        {
            "cell_type": "markdown",
            "metadata": {
                "collapsed": false,
                "editable": false
            },
            "source": [
                "<div class=\"not-editable individual\"><div><h4>Task A</h4> <span> When the balloon is <span class=\"m\"> $200$ </span> feet off the ground, what is the angle of elevation of the camera? </span> </div></div>"
            ]
        },
        {
            "cell_type": "markdown",
            "metadata": {
                "collapsed": false,
                "editable": false
            },
            "source": [
                "<div class=\"not-editable individual\"><div><h4>Task B</h4> <span> When the balloon is <span class=\"m\"> $275$ </span> feet off the ground, what is the angle of elevation of the camera? </span> </div></div>"
            ]
        },
        {
            "cell_type": "markdown",
            "metadata": {
                "collapsed": false,
                "editable": false
            },
            "source": [
                "<div class=\"not-editable individual\"><div><h4>Task C</h4> <span> Let <span class=\"m\"> $\\theta$ </span> represent the camera's angle of elevation when the balloon is at an arbitrary height <span class=\"m\"> $h$ </span> above the ground. Express <span class=\"m\"> $\\theta$ </span> as a function of <span class=\"m\"> $h$ </span>. </span> </div></div>"
            ]
        },
        {
            "cell_type": "markdown",
            "metadata": {
                "collapsed": false,
                "editable": false
            },
            "source": [
                "<div class=\"not-editable individual\"><div><h4>Task D</h4> <span> Determine <span class=\"m\"> $AV_{[200,275]}$ </span> for <span class=\"m\"> $\\theta$ </span> (as a function of <span class=\"m\"> $h$ </span>) and write at least one sentence to carefully explain the meaning of the value you find, including units. </span> </div></div>"
            ]
        },
        {
            "cell_type": "markdown",
            "metadata": {
                "collapsed": false,
                "editable": false
            },
            "source": [
                "<div class=\"not-editable individual\"><h2>Exercise 6</h2></div>"
            ]
        },
        {
            "cell_type": "markdown",
            "metadata": {
                "collapsed": false,
                "editable": false
            },
            "source": [
                "<div class=\"not-editable individual\"><span> Consider a right triangle where the two legs measure <span class=\"m\"> $5$ </span> and <span class=\"m\"> $12$ </span> respectively and <span class=\"m\"> $\\alpha$ </span> is the angle opposite the shorter leg and <span class=\"m\"> $\\beta$ </span> is the angle opposite the longer leg. </span></div>"
            ]
        },
        {
            "cell_type": "markdown",
            "metadata": {
                "collapsed": false,
                "editable": false
            },
            "source": [
                "<div class=\"not-editable individual\"><div><h4>Task A</h4> <span> What is the exact value of <span class=\"m\"> $\\cos(\\alpha)$ </span>? </span> </div></div>"
            ]
        },
        {
            "cell_type": "markdown",
            "metadata": {
                "collapsed": false,
                "editable": false
            },
            "source": [
                "<div class=\"not-editable individual\"><div><h4>Task B</h4> <span> What is the exact value of <span class=\"m\"> $\\sin(\\beta)$ </span>? </span> </div></div>"
            ]
        },
        {
            "cell_type": "markdown",
            "metadata": {
                "collapsed": false,
                "editable": false
            },
            "source": [
                "<div class=\"not-editable individual\"><div><h4>Task C</h4> <span> What is the exact value of <span class=\"m\"> $\\tan(\\beta)$ </span>? of <span class=\"m\"> $\\tan(\\alpha)$ </span>? </span> </div></div>"
            ]
        },
        {
            "cell_type": "markdown",
            "metadata": {
                "collapsed": false,
                "editable": false
            },
            "source": [
                "<div class=\"not-editable individual\"><div><h4>Task D</h4> <span> What is the exact radian measure of <span class=\"m\"> $\\alpha$ </span>? approximate measure? </span> </div></div>"
            ]
        },
        {
            "cell_type": "markdown",
            "metadata": {
                "collapsed": false,
                "editable": false
            },
            "source": [
                "<div class=\"not-editable individual\"><div><h4>Task E</h4> <span> What is the exact radian measure of <span class=\"m\"> $\\beta$ </span>? approximate measure? </span> </div></div>"
            ]
        },
        {
            "cell_type": "markdown",
            "metadata": {
                "collapsed": false,
                "editable": false
            },
            "source": [
                "<div class=\"not-editable individual\"><div><h4>Task F</h4> <span> True or false: for any two angles <span class=\"m\"> $\\theta$ </span> and <span class=\"m\"> $\\gamma$ </span> such that <span class=\"m\"> $\\theta + \\gamma = \\frac{\\pi}{2}$ </span> (radians), it follows that <span class=\"m\"> $\\cos(\\theta) = \\sin(\\gamma)$ </span>. </span> </div></div>"
            ]
        }
    ],
    "nbformat": 4,
    "nbformat_minor": 4
}
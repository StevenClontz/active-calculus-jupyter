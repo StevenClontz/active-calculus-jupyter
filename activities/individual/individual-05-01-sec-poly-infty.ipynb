{
    "cells": [
        {
            "cell_type": "markdown",
            "metadata": {
                "collapsed": false,
                "editable": false
            },
            "source": [
                "<div class=\"not-editable individual\"><style> .not-editable{padding:1em;border-radius:10px;box-shadow:4px 4px 3px #ddd;margin:5px;} .not-editable.individual{background-color:#eefff8;} .not-editable.team{background-color:#eef8ff;} .sidebyside{display:flex;justify-content:center;} .sidebyside > *{margin-right:1em;flex:1;} caption{caption-side:top;white-space: nowrap;color:rgba(0,0,0,.45)}} figcaption{padding-top:0.75em;padding-bottom:0.3em;color:rgba(0,0,0,.45)} .fillin{display:inline-block;width:10em;margin-left:0.2em;margin-right:0.2em;height:1em;border-bottom:1px black solid;} .fn{font-size:0.8em;color:rgba(0,0,0.45)} .newcommands{display:none;} tt{background-color:#f8f8f8;border:1px #888 solid;border-radius:2px;padding-left:0.2em;padding-right:0.2em;} img{background-color:#fff;} </style> <div><h1>Section 5.1 Infinity, limits, and power functions</h1><h2>Individual Notebook</h2><div><a href=\"https://activecalculus.org/prelude/sec-poly-infty.html\">https://activecalculus.org/prelude/sec-poly-infty.html</a></div></div></div>"
            ]
        },
        {
            "cell_type": "markdown",
            "metadata": {
                "collapsed": false,
                "editable": false
            },
            "source": [
                "<div class=\"not-editable individual\"><h2>Preview Activity 5.1.1</h2></div>"
            ]
        },
        {
            "cell_type": "markdown",
            "metadata": {
                "collapsed": false,
                "editable": false
            },
            "source": [
                "<div class=\"not-editable individual\"><span> Complete each of the following statements with an appropriate number or the symbols <span class=\"m\"> $\\infty$ </span> or <span class=\"m\"> $-\\infty$ </span>. Do your best to do so without using a graphing utility; instead use your understanding of the function's graph. </span></div>"
            ]
        },
        {
            "cell_type": "markdown",
            "metadata": {
                "collapsed": false,
                "editable": false
            },
            "source": [
                "<div class=\"not-editable individual\"><div><h4>Task A</h4> <span> As <span class=\"m\"> $t \\to \\infty$ </span>, <span class=\"m\"> $e^{-t} \\to $ </span> <span class=\"fillin\"/>\\\\ . </span> </div></div>"
            ]
        },
        {
            "cell_type": "markdown",
            "metadata": {
                "collapsed": false,
                "editable": false
            },
            "source": [
                "<div class=\"not-editable individual\"><div><h4>Task B</h4> <span> As <span class=\"m\"> $t \\to \\infty$ </span>, <span class=\"m\"> $\\ln(t) \\to $ </span> <span class=\"fillin\"/>\\\\ . </span> </div></div>"
            ]
        },
        {
            "cell_type": "markdown",
            "metadata": {
                "collapsed": false,
                "editable": false
            },
            "source": [
                "<div class=\"not-editable individual\"><div><h4>Task C</h4> <span> As <span class=\"m\"> $t \\to \\infty$ </span>, <span class=\"m\"> $e^{t} \\to $ </span> <span class=\"fillin\"/>\\\\ . </span> </div></div>"
            ]
        },
        {
            "cell_type": "markdown",
            "metadata": {
                "collapsed": false,
                "editable": false
            },
            "source": [
                "<div class=\"not-editable individual\"><div><h4>Task D</h4> <span> As <span class=\"m\"> $t \\to 0^+$ </span>, <span class=\"m\"> $e^{-t} \\to $ </span> <span class=\"fillin\"/>\\\\ . (When we write <span class=\"m\"> $t \\to 0^+$ </span>, this means that we are letting <span class=\"m\"> $t$ </span> get closer and closer to <span class=\"m\"> $0$ </span>, but only allowing <span class=\"m\"> $t$ </span> to take on positive values.) </span> </div></div>"
            ]
        },
        {
            "cell_type": "markdown",
            "metadata": {
                "collapsed": false,
                "editable": false
            },
            "source": [
                "<div class=\"not-editable individual\"><div><h4>Task E</h4> <span> As <span class=\"m\"> $t \\to \\infty$ </span>, <span class=\"m\"> $35 + 53e^{-0.025t} \\to$ </span> <span class=\"fillin\"/>\\\\ . </span> </div></div>"
            ]
        },
        {
            "cell_type": "markdown",
            "metadata": {
                "collapsed": false,
                "editable": false
            },
            "source": [
                "<div class=\"not-editable individual\"><div><h4>Task F</h4> <span> As <span class=\"m\"> $t \\to \\frac{\\pi}{2}^-$ </span>, <span class=\"m\"> $\\tan(t) \\to $ </span><span class=\"fillin\"/>\\\\ . (When we write <span class=\"m\"> $t \\to \\frac{\\pi}{2}^-$ </span>, this means that we are letting <span class=\"m\"> $t$ </span> get closer and closer to <span class=\"m\"> $\\frac{\\pi}{2}^-$ </span>, but only allowing <span class=\"m\"> $t$ </span> to take on values that lie to the left of <span class=\"m\"> $\\frac{\\pi}{2}$ </span>.) </span> </div></div>"
            ]
        },
        {
            "cell_type": "markdown",
            "metadata": {
                "collapsed": false,
                "editable": false
            },
            "source": [
                "<div class=\"not-editable individual\"><div><h4>Task G</h4> <span> As <span class=\"m\"> $t \\to \\frac{\\pi}{2}^+$ </span>, <span class=\"m\"> $\\tan(t) \\to $ </span><span class=\"fillin\"/>\\\\ . (When we write <span class=\"m\"> $t \\to \\frac{\\pi}{2}^+$ </span>, this means that we are letting <span class=\"m\"> $t$ </span> get closer and closer to <span class=\"m\"> $\\frac{\\pi}{2}^+$ </span>, but only allowing <span class=\"m\"> $t$ </span> to take on values that lie to the right of <span class=\"m\"> $\\frac{\\pi}{2}$ </span>.) </span> </div></div>"
            ]
        },
        {
            "cell_type": "markdown",
            "metadata": {
                "collapsed": false,
                "editable": false
            },
            "source": [
                "<div class=\"not-editable individual\"><h2>Exercise 4</h2></div>"
            ]
        },
        {
            "cell_type": "markdown",
            "metadata": {
                "collapsed": false,
                "editable": false
            },
            "source": [
                "<div class=\"not-editable individual\"><span> We've observed that several different familiar functions grow without bound as <span class=\"m\"> $x \\to \\infty$ </span>, including <span class=\"m\"> $f(x) = \\ln(x)$ </span>, <span class=\"m\"> $g(x) = x^2$ </span>, and <span class=\"m\"> $h(x) = e^x$ </span>. In this exercise, we compare and contrast how these three functions grow. </span></div>"
            ]
        },
        {
            "cell_type": "markdown",
            "metadata": {
                "collapsed": false,
                "editable": false
            },
            "source": [
                "<div class=\"not-editable individual\"><div><h4>Task A</h4> <span> Use a computational device to compute decimal expressions for <span class=\"m\"> $f(10)$ </span>, <span class=\"m\"> $g(10)$ </span>, and <span class=\"m\"> $h(10)$ </span>, as well as <span class=\"m\"> $f(100)$ </span>, <span class=\"m\"> $g(100)$ </span>, and <span class=\"m\"> $h(100)$ </span>. What do you observe? </span> </div></div>"
            ]
        },
        {
            "cell_type": "markdown",
            "metadata": {
                "collapsed": false,
                "editable": false
            },
            "source": [
                "<div class=\"not-editable individual\"><div><h4>Task B</h4> <span> For each of <span class=\"m\"> $f$ </span>, <span class=\"m\"> $g$ </span>, and <span class=\"m\"> $h$ </span>, how large an input is needed in order to ensure that the function's output value is at least <span class=\"m\"> $10^{10}$ </span>? What do these values tell us about how each function grows? </span> </div></div>"
            ]
        },
        {
            "cell_type": "markdown",
            "metadata": {
                "collapsed": false,
                "editable": false
            },
            "source": [
                "<div class=\"not-editable individual\"><div><h4>Task C</h4> <span> Consider the new function <span class=\"m\"> $r(x) = \\frac{g(x)}{h(x)} = \\frac{x^2}{e^x}$ </span>. Compute <span class=\"m\"> $r(10)$ </span>, <span class=\"m\"> $r(100)$ </span>, and <span class=\"m\"> $r(1000)$ </span>. What do the results suggest about the long-range behavior of <span class=\"m\"> $r$ </span>? What is surprising about this, in light of the fact that both <span class=\"m\"> $x^2$ </span> and <span class=\"m\"> $e^x$ </span> grow without bound? </span> </div></div>"
            ]
        },
        {
            "cell_type": "markdown",
            "metadata": {
                "collapsed": false,
                "editable": false
            },
            "source": [
                "<div class=\"not-editable individual\"><h2>Exercise 5</h2></div>"
            ]
        },
        {
            "cell_type": "markdown",
            "metadata": {
                "collapsed": false,
                "editable": false
            },
            "source": [
                "<div class=\"not-editable individual\"><span> Consider the familiar graph of <span class=\"m\"> $f(x) = \\frac{1}{x}$ </span>, which has a vertical asypmtote at <span class=\"m\"> $x = 0$ </span> and a horizontal asymptote at <span class=\"m\"> $y = 0$ </span>, as pictured in <a href=\"https://activecalculus.org/prelude/sec-poly-infty.html#F-VA-0-HA-0\">Figure 5.1.8</a>. In addition, consider the similarly-shaped function <span class=\"m\"> $g$ </span> shown in <a href=\"https://activecalculus.org/prelude/sec-poly-infty.html#F-VA-1-HA-2\">Figure 5.1.9</a>, which has vertical asymptote <span class=\"m\"> $x = -1$ </span> and horizontal asymptote <span class=\"m\"> $y = -2$ </span>. </span></div>"
            ]
        },
        {
            "cell_type": "markdown",
            "metadata": {
                "collapsed": false,
                "editable": false
            },
            "source": [
                "<div class=\"not-editable individual\"><div class=\"sidebyside\"><div><figure><figcaption><b>Figure 5.1.8.</b> A plot of <span class=\"m\"> $y = f(x) = \\frac{1}{x}$ </span>.</figcaption><div><img src=\"images/infty-VA-0-HA-0.svg\"/></div></figure></div><div><figure><figcaption><b>Figure 5.1.9.</b> A plot of a related function <span class=\"m\"> $y = g(x)$ </span>.</figcaption><div><img src=\"images/infty-VA-1-HA-2.svg\"/></div></figure></div></div></div>"
            ]
        },
        {
            "cell_type": "markdown",
            "metadata": {
                "collapsed": false,
                "editable": false
            },
            "source": [
                "<div class=\"not-editable individual\"><div><h4>Task A</h4> <span> How can we view <span class=\"m\"> $g$ </span> as a transformation of <span class=\"m\"> $f$ </span>? Explain, and state how <span class=\"m\"> $g$ </span> can be expressed algebraically in terms of <span class=\"m\"> $f$ </span>. </span> </div></div>"
            ]
        },
        {
            "cell_type": "markdown",
            "metadata": {
                "collapsed": false,
                "editable": false
            },
            "source": [
                "<div class=\"not-editable individual\"><div><h4>Task B</h4> <span> Find a formula for <span class=\"m\"> $g$ </span> as a function of <span class=\"m\"> $x$ </span>. What is the domain of <span class=\"m\"> $g$ </span>? </span> </div></div>"
            ]
        },
        {
            "cell_type": "markdown",
            "metadata": {
                "collapsed": false,
                "editable": false
            },
            "source": [
                "<div class=\"not-editable individual\"><div><h4>Task C</h4> <span> Explain algebraically (using the form of <span class=\"m\"> $g$ </span> from (b)) why <span class=\"m\"> $\\lim_{x \\to \\infty} g(x) = -2$ </span> and <span class=\"m\"> $\\lim_{x \\to -1^+} g(x) = \\infty$ </span>. </span> </div></div>"
            ]
        },
        {
            "cell_type": "markdown",
            "metadata": {
                "collapsed": false,
                "editable": false
            },
            "source": [
                "<div class=\"not-editable individual\"><div><h4>Task D</h4> <span> What if a function <span class=\"m\"> $h$ </span> (again of a similar shape as <span class=\"m\"> $f$ </span>) has vertical asymptote <span class=\"m\"> $x = 5$ </span> and horizontal asymtote <span class=\"m\"> $y = 10$ </span>. What is a possible formula for <span class=\"m\"> $h(x)$ </span>? </span> </div></div>"
            ]
        },
        {
            "cell_type": "markdown",
            "metadata": {
                "collapsed": false,
                "editable": false
            },
            "source": [
                "<div class=\"not-editable individual\"><div><h4>Task E</h4> <span> Suppose that <span class=\"m\"> $r(x) = \\frac{1}{x+35} - 27$ </span>. Without using a graphing utility, how do you expect the graph of <span class=\"m\"> $r$ </span> to appear? Does it have a horizontal asymptote? A vertical asymptote? What is its domain? </span> </div></div>"
            ]
        },
        {
            "cell_type": "markdown",
            "metadata": {
                "collapsed": false,
                "editable": false
            },
            "source": [
                "<div class=\"not-editable individual\"><h2>Exercise 6</h2></div>"
            ]
        },
        {
            "cell_type": "markdown",
            "metadata": {
                "collapsed": false,
                "editable": false
            },
            "source": [
                "<div class=\"not-editable individual\"><span> Power functions can have powers that are not whole numbers. For instance, we can consider such functions as <span class=\"m\"> $f(x)=x^{2.4}$ </span>, <span class=\"m\"> $g(x)=x^{2.5}$ </span>, and <span class=\"m\"> $h(x)=x^{2.6}$ </span>. </span></div>"
            ]
        },
        {
            "cell_type": "markdown",
            "metadata": {
                "collapsed": false,
                "editable": false
            },
            "source": [
                "<div class=\"not-editable individual\"><div><h4>Task A</h4> <span> Compare and contrast the graphs of <span class=\"m\"> $f$ </span>, <span class=\"m\"> $g$ </span>, and <span class=\"m\"> $h$ </span>. How are they similar? How are they different? (There is a lot you can discuss here.) </span> </div></div>"
            ]
        },
        {
            "cell_type": "markdown",
            "metadata": {
                "collapsed": false,
                "editable": false
            },
            "source": [
                "<div class=\"not-editable individual\"><div><h4>Task B</h4> <span> Observe that we can think of <span class=\"m\"> $f(x) = x^{2.4}$ </span> as <span class=\"m\"> $f(x) = x^{24/10} = x^{12/5}$ </span>. In addition, recall by exponent rules that we can also view <span class=\"m\"> $f$ </span> as having the form <span class=\"m\"> $f(x) = \\sqrt[5]{x^{12}}$ </span>. Write <span class=\"m\"> $g$ </span> and <span class=\"m\"> $h$ </span> in similar forms, and explain why <span class=\"m\"> $g$ </span> has a different domain than <span class=\"m\"> $f$ </span> and <span class=\"m\"> $h$ </span>. </span> </div></div>"
            ]
        },
        {
            "cell_type": "markdown",
            "metadata": {
                "collapsed": false,
                "editable": false
            },
            "source": [
                "<div class=\"not-editable individual\"><div><h4>Task C</h4> <span> How do the graphs of <span class=\"m\"> $f$ </span>, <span class=\"m\"> $g$ </span>, and <span class=\"m\"> $h$ </span> compare to the graphs of <span class=\"m\"> $y = x^2$ </span> and <span class=\"m\"> $y = x^3$ </span>? Why are these natural functions to use for comparison? </span> </div></div>"
            ]
        },
        {
            "cell_type": "markdown",
            "metadata": {
                "collapsed": false,
                "editable": false
            },
            "source": [
                "<div class=\"not-editable individual\"><div><h4>Task D</h4> <span> Explore similar questions for the graphs of <span class=\"m\"> $p(x) = x^{-2.4}$ </span>, <span class=\"m\"> $q(x) = x^{-2.5}$ </span>, and <span class=\"m\"> $r(x) = x^{-2.6}$ </span>. </span> </div></div>"
            ]
        }
    ],
    "nbformat": 4,
    "nbformat_minor": 4
}
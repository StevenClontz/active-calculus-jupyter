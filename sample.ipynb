
    {"cells": [
      
    {
     "cell_type": "markdown",
     "metadata": {
      "collapsed": false,
      "editable": false
     },
    "source": 
    
        "<div style=\"background-color:#f8f8f8;padding:1em;border-radius:10px;box-shadow:4px 4px 3px #ddd;margin:5px;\">\n\n# 1.1 Changing in Tandem\n\n</div>"
      
    }
  ,
    {
     "cell_type": "markdown",
     "metadata": {
      "collapsed": false,
      "editable": false
     },
    "source": 
    
        "<div style=\"background-color:#f8f8f8;padding:1em;border-radius:10px;box-shadow:4px 4px 3px #ddd;margin:5px;\">\n\n## Preview Activity 1.1.1\n\n</div>"
      
    }
  ,
    {
     "cell_type": "markdown",
     "metadata": {
      "collapsed": false,
      "editable": false
     },
    "source": 
    
        "<div style=\"background-color:#f8f8f8;padding:1em;border-radius:10px;box-shadow:4px 4px 3px #ddd;margin:5px;\">\n\nSuppose that a rectangular aquarium is being filled with water. The tank is \\(4\\) feet long by \\(2\\) feet wide by \\(3\\) feet high, and the hose that is filling the tank is delivering water at a rate of \\(0.5\\) cubic feet per minute.\n\n</div>"
      
    }
  ,
    {
     "cell_type": "markdown",
     "metadata": {
      "collapsed": false,
      "editable": false
     },
    "source": 
    
        "<div style=\"background-color:#f8f8f8;padding:1em;border-radius:10px;box-shadow:4px 4px 3px #ddd;margin:5px;\">\n\n<figure><figcaption>The empty aquarium.<\/figcaption> <img src=\"apc\/src\/images\/tandem-empty-aquarium.svg\"\/> <\/figure> <figure><figcaption>The aquarium, partially filled.<\/figcaption> <img src=\"apc\/src\/images\/tandem-filled-aquarium.svg\"\/> <\/figure>\n\n</div>"
      
    }
  ,
    {
     "cell_type": "markdown",
     "metadata": {
      "collapsed": false,
      "editable": false
     },
    "source": 
    
        "<div style=\"background-color:#f8f8f8;padding:1em;border-radius:10px;box-shadow:4px 4px 3px #ddd;margin:5px;\">\n\n<b>a. <\/b> What are some different quantities that are changing in this scenario?\n\n</div>"
      
    }
  ,
    {
     "cell_type": "markdown",
     "metadata": {
      "collapsed": false,
      "editable": true
     },
    "source": 
    
        "<div style=\"margin:1em;color:#ccc;font-size:2em;text-align:center;\">Enter your response here.</div>"
      
    }
  ,
    {
     "cell_type": "markdown",
     "metadata": {
      "collapsed": false,
      "editable": false
     },
    "source": 
    
        "<div style=\"background-color:#f8f8f8;padding:1em;border-radius:10px;box-shadow:4px 4px 3px #ddd;margin:5px;\">\n\n<b>b. <\/b> After \\(1\\) minute has elapsed, how much water is in the tank? At this moment, how deep is the water?\n\n</div>"
      
    }
  ,
    {
     "cell_type": "markdown",
     "metadata": {
      "collapsed": false,
      "editable": true
     },
    "source": 
    
        "<div style=\"margin:1em;color:#ccc;font-size:2em;text-align:center;\">Enter your response here.</div>"
      
    }
  ,
    {
     "cell_type": "markdown",
     "metadata": {
      "collapsed": false,
      "editable": false
     },
    "source": 
    
        "<div style=\"background-color:#f8f8f8;padding:1em;border-radius:10px;box-shadow:4px 4px 3px #ddd;margin:5px;\">\n\n<b>c. <\/b> How much water is in the tank and how deep is the water after \\(2\\) minutes? After \\(3\\) minutes?\n\n</div>"
      
    }
  ,
    {
     "cell_type": "markdown",
     "metadata": {
      "collapsed": false,
      "editable": true
     },
    "source": 
    
        "<div style=\"margin:1em;color:#ccc;font-size:2em;text-align:center;\">Enter your response here.</div>"
      
    }
  ,
    {
     "cell_type": "markdown",
     "metadata": {
      "collapsed": false,
      "editable": false
     },
    "source": 
    
        "<div style=\"background-color:#f8f8f8;padding:1em;border-radius:10px;box-shadow:4px 4px 3px #ddd;margin:5px;\">\n\n<b>d. <\/b> How long will it take for the tank to be completely full? Why?\n\n</div>"
      
    }
  ,
    {
     "cell_type": "markdown",
     "metadata": {
      "collapsed": false,
      "editable": true
     },
    "source": 
    
        "<div style=\"margin:1em;color:#ccc;font-size:2em;text-align:center;\">Enter your response here.</div>"
      
    }
  ,
    {
     "cell_type": "markdown",
     "metadata": {
      "collapsed": false,
      "editable": false
     },
    "source": 
    
        "<div style=\"background-color:#f8f8f8;padding:1em;border-radius:10px;box-shadow:4px 4px 3px #ddd;margin:5px;\">\n\n## Activity 1.1.2\n\n</div>"
      
    }
  ,
    {
     "cell_type": "markdown",
     "metadata": {
      "collapsed": false,
      "editable": false
     },
    "source": 
    
        "<div style=\"background-color:#f8f8f8;padding:1em;border-radius:10px;box-shadow:4px 4px 3px #ddd;margin:5px;\">\n\nConsider a tank in the shape of an inverted circular cone (point down) where the tank's radius is \\(2\\) feet and its depth is \\(4\\) feet. Suppose that the tank is being filled with water that is entering at a constant rate of \\(0.75\\) cubic feet per minute.\n\n</div>"
      
    }
  ,
    {
     "cell_type": "markdown",
     "metadata": {
      "collapsed": false,
      "editable": false
     },
    "source": 
    
        "<div style=\"background-color:#f8f8f8;padding:1em;border-radius:10px;box-shadow:4px 4px 3px #ddd;margin:5px;\">\n\n<b>a. <\/b> Sketch a labeled picture of the tank, including a snapshot of there being water in the tank prior to the tank being completely full.\n\n</div>"
      
    }
  ,
    {
     "cell_type": "markdown",
     "metadata": {
      "collapsed": false,
      "editable": true
     },
    "source": 
    
        "<div style=\"margin:1em;color:#ccc;font-size:2em;text-align:center;\">Enter your response here.</div>"
      
    }
  ,
    {
     "cell_type": "markdown",
     "metadata": {
      "collapsed": false,
      "editable": false
     },
    "source": 
    
        "<div style=\"background-color:#f8f8f8;padding:1em;border-radius:10px;box-shadow:4px 4px 3px #ddd;margin:5px;\">\n\n<b>b. <\/b> What are some quantities that are changing in this scenario? What are some quantities that are not changing?\n\n</div>"
      
    }
  ,
    {
     "cell_type": "markdown",
     "metadata": {
      "collapsed": false,
      "editable": true
     },
    "source": 
    
        "<div style=\"margin:1em;color:#ccc;font-size:2em;text-align:center;\">Enter your response here.</div>"
      
    }
  ,
    {
     "cell_type": "markdown",
     "metadata": {
      "collapsed": false,
      "editable": false
     },
    "source": 
    
        "<div style=\"background-color:#f8f8f8;padding:1em;border-radius:10px;box-shadow:4px 4px 3px #ddd;margin:5px;\">\n\n<b>c. <\/b> Fill in the following table of values to determine how much water, \\(V\\) , is in the tank at a given time in minutes, \\(t\\) , and thus generate a graph of the relationship between volume and time by plotting the data on the provided axes.\n\n</div>"
      
    }
  ,
    {
     "cell_type": "markdown",
     "metadata": {
      "collapsed": false,
      "editable": false
     },
    "source": 
    
        "<div style=\"background-color:#f8f8f8;padding:1em;border-radius:10px;box-shadow:4px 4px 3px #ddd;margin:5px;\">\n\n<table><caption>Table to record data on volume and time in the conical tank.<\/caption> <tr> <td> t <\/td> <td> V <\/td> <\/tr> <tr> <td> 0 <\/td> <td> <\/td> <\/tr> <tr> <td> 1 <\/td> <td> <\/td> <\/tr> <tr> <td> 2 <\/td> <td> <\/td> <\/tr> <tr> <td> 3 <\/td> <td> <\/td> <\/tr> <tr> <td> 4 <\/td> <td> <\/td> <\/tr> <tr> <td> 5 <\/td> <td> <\/td> <\/tr> <\/table> <figure><figcaption>How volume and time change in tandem in the conical tank.<\/figcaption> <img src=\"apc\/src\/images\/tandem-V-t-blank-axes.svg\"\/> <\/figure>\n\n</div>"
      
    }
  ,
    {
     "cell_type": "markdown",
     "metadata": {
      "collapsed": false,
      "editable": true
     },
    "source": 
    
        "<div style=\"margin:1em;color:#ccc;font-size:2em;text-align:center;\">Enter your response here.</div>"
      
    }
  ,
    {
     "cell_type": "markdown",
     "metadata": {
      "collapsed": false,
      "editable": false
     },
    "source": 
    
        "<div style=\"background-color:#f8f8f8;padding:1em;border-radius:10px;box-shadow:4px 4px 3px #ddd;margin:5px;\">\n\n<b>d. <\/b> Finally, think about how the height of the water changes in tandem with time. Without attempting to determine specific values of \\(h\\) at particular values of \\(t\\) , how would you expect the data for the relationship between \\(h\\) and \\(t\\) to appear? Use the provided axes to sketch at least two possibilities; write at least one sentence to explain how you think the graph should appear.\n\n</div>"
      
    }
  ,
    {
     "cell_type": "markdown",
     "metadata": {
      "collapsed": false,
      "editable": false
     },
    "source": 
    
        "<div style=\"background-color:#f8f8f8;padding:1em;border-radius:10px;box-shadow:4px 4px 3px #ddd;margin:5px;\">\n\n<img src=\"apc\/src\/images\/tandem-h-t-blank-axes.svg\"\/> <img src=\"apc\/src\/images\/tandem-h-t-blank-axes.svg\"\/>\n\n</div>"
      
    }
  ,
    {
     "cell_type": "markdown",
     "metadata": {
      "collapsed": false,
      "editable": true
     },
    "source": 
    
        "<div style=\"margin:1em;color:#ccc;font-size:2em;text-align:center;\">Enter your response here.</div>"
      
    }
  ,
    {
     "cell_type": "markdown",
     "metadata": {
      "collapsed": false,
      "editable": false
     },
    "source": 
    
        "<div style=\"background-color:#f8f8f8;padding:1em;border-radius:10px;box-shadow:4px 4px 3px #ddd;margin:5px;\">\n\n## Activity 1.1.3\n\n</div>"
      
    }
  ,
    {
     "cell_type": "markdown",
     "metadata": {
      "collapsed": false,
      "editable": false
     },
    "source": 
    
        "<div style=\"background-color:#f8f8f8;padding:1em;border-radius:10px;box-shadow:4px 4px 3px #ddd;margin:5px;\">\n\nConsider a tank in the shape of a sphere where the tank's radius is \\(3\\) feet. Suppose that the tank is initially completely full and that it is being drained by a pump at a constant rate of \\(1.2\\) cubic feet per minute.\n\n</div>"
      
    }
  ,
    {
     "cell_type": "markdown",
     "metadata": {
      "collapsed": false,
      "editable": false
     },
    "source": 
    
        "<div style=\"background-color:#f8f8f8;padding:1em;border-radius:10px;box-shadow:4px 4px 3px #ddd;margin:5px;\">\n\n<b>a. <\/b> Sketch a labeled picture of the tank, including a snapshot of some water remaining in the tank prior to the tank being completely empty.\n\n</div>"
      
    }
  ,
    {
     "cell_type": "markdown",
     "metadata": {
      "collapsed": false,
      "editable": true
     },
    "source": 
    
        "<div style=\"margin:1em;color:#ccc;font-size:2em;text-align:center;\">Enter your response here.</div>"
      
    }
  ,
    {
     "cell_type": "markdown",
     "metadata": {
      "collapsed": false,
      "editable": false
     },
    "source": 
    
        "<div style=\"background-color:#f8f8f8;padding:1em;border-radius:10px;box-shadow:4px 4px 3px #ddd;margin:5px;\">\n\n<b>b. <\/b> What are some quantities that are changing in this scenario? What are some quantities that are not changing?\n\n</div>"
      
    }
  ,
    {
     "cell_type": "markdown",
     "metadata": {
      "collapsed": false,
      "editable": true
     },
    "source": 
    
        "<div style=\"margin:1em;color:#ccc;font-size:2em;text-align:center;\">Enter your response here.</div>"
      
    }
  ,
    {
     "cell_type": "markdown",
     "metadata": {
      "collapsed": false,
      "editable": false
     },
    "source": 
    
        "<div style=\"background-color:#f8f8f8;padding:1em;border-radius:10px;box-shadow:4px 4px 3px #ddd;margin:5px;\">\n\n<b>c. <\/b> Recall that the volume of a sphere of radius \\(r\\) is \\(V = \\\\frac{4}{3} \\\\pi r^3\\) . When the tank is completely full at time \\(t = 0\\) right before it starts being drained, how much water is present?\n\n</div>"
      
    }
  ,
    {
     "cell_type": "markdown",
     "metadata": {
      "collapsed": false,
      "editable": true
     },
    "source": 
    
        "<div style=\"margin:1em;color:#ccc;font-size:2em;text-align:center;\">Enter your response here.</div>"
      
    }
  ,
    {
     "cell_type": "markdown",
     "metadata": {
      "collapsed": false,
      "editable": false
     },
    "source": 
    
        "<div style=\"background-color:#f8f8f8;padding:1em;border-radius:10px;box-shadow:4px 4px 3px #ddd;margin:5px;\">\n\n<b>d. <\/b> How long will it take for the tank to drain completely?\n\n</div>"
      
    }
  ,
    {
     "cell_type": "markdown",
     "metadata": {
      "collapsed": false,
      "editable": true
     },
    "source": 
    
        "<div style=\"margin:1em;color:#ccc;font-size:2em;text-align:center;\">Enter your response here.</div>"
      
    }
  ,
    {
     "cell_type": "markdown",
     "metadata": {
      "collapsed": false,
      "editable": false
     },
    "source": 
    
        "<div style=\"background-color:#f8f8f8;padding:1em;border-radius:10px;box-shadow:4px 4px 3px #ddd;margin:5px;\">\n\n<b>e. <\/b> Fill in the following table of values to determine how much water, \\(V\\) , is in the tank at a given time in minutes, \\(t\\) , and thus generate a graph of the relationship between volume and time. Write a sentence to explain why the data's graph appears the way that it does.\n\n</div>"
      
    }
  ,
    {
     "cell_type": "markdown",
     "metadata": {
      "collapsed": false,
      "editable": false
     },
    "source": 
    
        "<div style=\"background-color:#f8f8f8;padding:1em;border-radius:10px;box-shadow:4px 4px 3px #ddd;margin:5px;\">\n\n<table><caption>Data for how volume and time change together.<\/caption> <tr> <td> t <\/td> <td> V <\/td> <\/tr> <tr> <td> 0 <\/td> <td> <\/td> <\/tr> <tr> <td> 20 <\/td> <td> <\/td> <\/tr> <tr> <td> 40 <\/td> <td> <\/td> <\/tr> <tr> <td> 60 <\/td> <td> <\/td> <\/tr> <tr> <td> 80 <\/td> <td> <\/td> <\/tr> <tr> <td> 94.24 <\/td> <td> <\/td> <\/tr> <\/table> <figure><figcaption>A plot of how volume and time change in tandem in a draining spherical tank.<\/figcaption> <img src=\"apc\/src\/images\/tandem-sphere-V-t.svg\"\/> <\/figure>\n\n</div>"
      
    }
  ,
    {
     "cell_type": "markdown",
     "metadata": {
      "collapsed": false,
      "editable": true
     },
    "source": 
    
        "<div style=\"margin:1em;color:#ccc;font-size:2em;text-align:center;\">Enter your response here.</div>"
      
    }
  ,
    {
     "cell_type": "markdown",
     "metadata": {
      "collapsed": false,
      "editable": false
     },
    "source": 
    
        "<div style=\"background-color:#f8f8f8;padding:1em;border-radius:10px;box-shadow:4px 4px 3px #ddd;margin:5px;\">\n\n<b>f. <\/b> Finally, think about how the height of the water changes in tandem with time. What is the height of the water when \\(t = 0\\) ? What is the height when the tank is empty? How would you expect the data for the relationship between \\(h\\) and \\(t\\) to appear? Use the provided axes to sketch at least two possibilities; write at least one sentence to explain how you think the graph should appear.\n\n</div>"
      
    }
  ,
    {
     "cell_type": "markdown",
     "metadata": {
      "collapsed": false,
      "editable": false
     },
    "source": 
    
        "<div style=\"background-color:#f8f8f8;padding:1em;border-radius:10px;box-shadow:4px 4px 3px #ddd;margin:5px;\">\n\n<img src=\"apc\/src\/images\/tandem-h-t-blank-axes.svg\"\/> <img src=\"apc\/src\/images\/tandem-h-t-blank-axes.svg\"\/>\n\n</div>"
      
    }
  ,
    {
     "cell_type": "markdown",
     "metadata": {
      "collapsed": false,
      "editable": true
     },
    "source": 
    
        "<div style=\"margin:1em;color:#ccc;font-size:2em;text-align:center;\">Enter your response here.</div>"
      
    }
  
    ]}
  
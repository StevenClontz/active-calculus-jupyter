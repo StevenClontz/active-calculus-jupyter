
    {"cells": [
      {
       "cell_type": "markdown",
       "metadata": {
        "collapsed": false,
        "editable": false
       },
       "source": [
          "# (Section No.) (Title goes here)"
       ]
      }
      ,
      
      {
       "cell_type": "markdown",
       "metadata": {
        "collapsed": false,
        "editable": false
       },
       "source": [
          "## (Preview) Activity (No.)"
       ]
      }
      ,
    
        {
         "cell_type": "markdown",
         "metadata": {
          "collapsed": false,
          "editable": false
         },
         "source": [
            "Consider a tank in the shape of a sphere where the tank's radius is \\(3\\) feet. Suppose that the tank is initially completely full and that it is being drained by a pump at a constant rate of \\(1.2\\) cubic feet per minute."
         ]
        }
      ,
    {
     "cell_type": "markdown",
     "metadata": {
      "collapsed": false,
      "editable": false
     },
     "source": [
        "a. Sketch a labeled picture of the tank, including a snapshot of some water remaining in the tank prior to the tank being completely empty."
     ]
    }
    ,
    
    {
     "cell_type": "markdown",
     "metadata": {
      "collapsed": false,
      "editable": true
     },
     "source": "<span style=\"color:#ccc\">Enter solution here.</span>"
    }
    ,
    {
     "cell_type": "markdown",
     "metadata": {
      "collapsed": false,
      "editable": false
     },
     "source": [
        "b. What are some quantities that are changing in this scenario? What are some quantities that are not changing?"
     ]
    }
    ,
    
    {
     "cell_type": "markdown",
     "metadata": {
      "collapsed": false,
      "editable": true
     },
     "source": "<span style=\"color:#ccc\">Enter solution here.</span>"
    }
    ,
    {
     "cell_type": "markdown",
     "metadata": {
      "collapsed": false,
      "editable": false
     },
     "source": [
        "c. Recall that the volume of a sphere of radius \\(r\\) is \\(V = \\frac{4}{3} \\pi r^3\\) . When the tank is completely full at time \\(t = 0\\) right before it starts being drained, how much water is present?"
     ]
    }
    ,
    
    {
     "cell_type": "markdown",
     "metadata": {
      "collapsed": false,
      "editable": true
     },
     "source": "<span style=\"color:#ccc\">Enter solution here.</span>"
    }
    ,
    {
     "cell_type": "markdown",
     "metadata": {
      "collapsed": false,
      "editable": false
     },
     "source": [
        "d. How long will it take for the tank to drain completely?"
     ]
    }
    ,
    
    {
     "cell_type": "markdown",
     "metadata": {
      "collapsed": false,
      "editable": true
     },
     "source": "<span style=\"color:#ccc\">Enter solution here.</span>"
    }
    ,
    {
     "cell_type": "markdown",
     "metadata": {
      "collapsed": false,
      "editable": false
     },
     "source": [
        "e. Fill in the following table of values to determine how much water, \\(V\\) , is in the tank at a given time in minutes, \\(t\\) , and thus generate a graph of the relationship between volume and time. Write a sentence to explain why the data's graph appears the way that it does."
     ]
    }
    ,
    
    {
     "cell_type": "markdown",
     "metadata": {
      "collapsed": false,
      "editable": false
     },
     "source": [
        "<table><tr><td>t</td><td>V</td></tr><tr><td>0</td><td></td></tr><tr><td>20</td><td></td></tr><tr><td>40</td><td></td></tr><tr><td>60</td><td></td></tr><tr><td>80</td><td></td></tr><tr><td>94.24</td><td></td></tr></table>\n\n",
        "Data for how volume and time change together."
     ]
    }
    ,
    {
     "cell_type": "markdown",
     "metadata": {
      "collapsed": false,
      "editable": false
     },
     "source": [
        "<img src=\"apc/src/images/tandem-sphere-V-t.svg\"/>\n\n",
        "A plot of how volume and time change in tandem in a draining spherical tank."
     ]
    }
    ,
    {
     "cell_type": "markdown",
     "metadata": {
      "collapsed": false,
      "editable": true
     },
     "source": "<span style=\"color:#ccc\">Enter solution here.</span>"
    }
    ,
    {
     "cell_type": "markdown",
     "metadata": {
      "collapsed": false,
      "editable": false
     },
     "source": [
        "f. Finally, think about how the height of the water changes in tandem with time. What is the height of the water when \\(t = 0\\) ? What is the height when the tank is empty? How would you expect the data for the relationship between \\(h\\) and \\(t\\) to appear? Use the provided axes to sketch at least two possibilities; write at least one sentence to explain how you think the graph should appear."
     ]
    }
    ,
    
    {
     "cell_type": "markdown",
     "metadata": {
      "collapsed": false,
      "editable": false
     },
     "source": [
        "<img src=\"apc/src/images/tandem-h-t-blank-axes.svg\"/>"
     ]
    }
    ,
    {
     "cell_type": "markdown",
     "metadata": {
      "collapsed": false,
      "editable": false
     },
     "source": [
        "<img src=\"apc/src/images/tandem-h-t-blank-axes.svg\"/>"
     ]
    }
    ,
    {
     "cell_type": "markdown",
     "metadata": {
      "collapsed": false,
      "editable": true
     },
     "source": "<span style=\"color:#ccc\">Enter solution here.</span>"
    }
    
    ]}
  
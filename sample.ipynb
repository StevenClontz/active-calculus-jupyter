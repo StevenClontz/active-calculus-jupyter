
    {"cells": [
      
    {
     "cell_type": "markdown",
     "metadata": {
      "collapsed": false,
      "editable": false
     },
     "source": "# 1.1 Changing in Tandem"
    }
  ,
    {
     "cell_type": "markdown",
     "metadata": {
      "collapsed": false,
      "editable": false
     },
     "source": "<hr>"
    }
  ,
    {
     "cell_type": "markdown",
     "metadata": {
      "collapsed": false,
      "editable": false
     },
     "source": "## Preview Activity 1.1.1"
    }
  ,
    {
     "cell_type": "markdown",
     "metadata": {
      "collapsed": false,
      "editable": false
     },
     "source": "Suppose that a rectangular aquarium is being filled with water. The tank is \\(4\\) feet long by \\(2\\) feet wide by \\(3\\) feet high, and the hose that is filling the tank is delivering water at a rate of \\(0.5\\) cubic feet per minute."
    }
  ,
    {
     "cell_type": "markdown",
     "metadata": {
      "collapsed": false,
      "editable": false
     },
     "source": "<img src=\"apc\/src\/images\/tandem-empty-aquarium.svg\"\/> The empty aquarium."
    }
  ,
    {
     "cell_type": "markdown",
     "metadata": {
      "collapsed": false,
      "editable": false
     },
     "source": "<img src=\"apc\/src\/images\/tandem-filled-aquarium.svg\"\/> The aquarium, partially filled."
    }
  ,
    {
     "cell_type": "markdown",
     "metadata": {
      "collapsed": false,
      "editable": false
     },
     "source": "a. What are some different quantities that are changing in this scenario?"
    }
  ,
    {
     "cell_type": "markdown",
     "metadata": {
      "collapsed": false,
      "editable": true
     },
     "source": "<span style=\"color:#ccc\">Enter solution here.<\/span>"
    }
  ,
    {
     "cell_type": "markdown",
     "metadata": {
      "collapsed": false,
      "editable": false
     },
     "source": "b. After \\(1\\) minute has elapsed, how much water is in the tank? At this moment, how deep is the water?"
    }
  ,
    {
     "cell_type": "markdown",
     "metadata": {
      "collapsed": false,
      "editable": true
     },
     "source": "<span style=\"color:#ccc\">Enter solution here.<\/span>"
    }
  ,
    {
     "cell_type": "markdown",
     "metadata": {
      "collapsed": false,
      "editable": false
     },
     "source": "c. How much water is in the tank and how deep is the water after \\(2\\) minutes? After \\(3\\) minutes?"
    }
  ,
    {
     "cell_type": "markdown",
     "metadata": {
      "collapsed": false,
      "editable": true
     },
     "source": "<span style=\"color:#ccc\">Enter solution here.<\/span>"
    }
  ,
    {
     "cell_type": "markdown",
     "metadata": {
      "collapsed": false,
      "editable": false
     },
     "source": "d. How long will it take for the tank to be completely full? Why?"
    }
  ,
    {
     "cell_type": "markdown",
     "metadata": {
      "collapsed": false,
      "editable": true
     },
     "source": "<span style=\"color:#ccc\">Enter solution here.<\/span>"
    }
  ,
    {
     "cell_type": "markdown",
     "metadata": {
      "collapsed": false,
      "editable": false
     },
     "source": "<hr>"
    }
  ,
    {
     "cell_type": "markdown",
     "metadata": {
      "collapsed": false,
      "editable": false
     },
     "source": "## Activity 1.1.2"
    }
  ,
    {
     "cell_type": "markdown",
     "metadata": {
      "collapsed": false,
      "editable": false
     },
     "source": "Consider a tank in the shape of an inverted circular cone (point down) where the tank's radius is \\(2\\) feet and its depth is \\(4\\) feet. Suppose that the tank is being filled with water that is entering at a constant rate of \\(0.75\\) cubic feet per minute."
    }
  ,
    {
     "cell_type": "markdown",
     "metadata": {
      "collapsed": false,
      "editable": false
     },
     "source": "a. Sketch a labeled picture of the tank, including a snapshot of there being water in the tank prior to the tank being completely full."
    }
  ,
    {
     "cell_type": "markdown",
     "metadata": {
      "collapsed": false,
      "editable": true
     },
     "source": "<span style=\"color:#ccc\">Enter solution here.<\/span>"
    }
  ,
    {
     "cell_type": "markdown",
     "metadata": {
      "collapsed": false,
      "editable": false
     },
     "source": "b. What are some quantities that are changing in this scenario? What are some quantities that are not changing?"
    }
  ,
    {
     "cell_type": "markdown",
     "metadata": {
      "collapsed": false,
      "editable": true
     },
     "source": "<span style=\"color:#ccc\">Enter solution here.<\/span>"
    }
  ,
    {
     "cell_type": "markdown",
     "metadata": {
      "collapsed": false,
      "editable": false
     },
     "source": "c. Fill in the following table of values to determine how much water, \\(V\\) , is in the tank at a given time in minutes, \\(t\\) , and thus generate a graph of the relationship between volume and time by plotting the data on the provided axes."
    }
  ,
    {
     "cell_type": "markdown",
     "metadata": {
      "collapsed": false,
      "editable": false
     },
     "source": "<table> <tr> <td> t <\/td> <td> V <\/td> <\/tr> <tr> <td> 0 <\/td> <td> <\/td> <\/tr> <tr> <td> 1 <\/td> <td> <\/td> <\/tr> <tr> <td> 2 <\/td> <td> <\/td> <\/tr> <tr> <td> 3 <\/td> <td> <\/td> <\/tr> <tr> <td> 4 <\/td> <td> <\/td> <\/tr> <tr> <td> 5 <\/td> <td> <\/td> <\/tr> <\/table> Table to record data on volume and time in the conical tank."
    }
  ,
    {
     "cell_type": "markdown",
     "metadata": {
      "collapsed": false,
      "editable": false
     },
     "source": "<img src=\"apc\/src\/images\/tandem-V-t-blank-axes.svg\"\/> How volume and time change in tandem in the conical tank."
    }
  ,
    {
     "cell_type": "markdown",
     "metadata": {
      "collapsed": false,
      "editable": true
     },
     "source": "<span style=\"color:#ccc\">Enter solution here.<\/span>"
    }
  ,
    {
     "cell_type": "markdown",
     "metadata": {
      "collapsed": false,
      "editable": false
     },
     "source": "d. Finally, think about how the height of the water changes in tandem with time. Without attempting to determine specific values of \\(h\\) at particular values of \\(t\\) , how would you expect the data for the relationship between \\(h\\) and \\(t\\) to appear? Use the provided axes to sketch at least two possibilities; write at least one sentence to explain how you think the graph should appear."
    }
  ,
    {
     "cell_type": "markdown",
     "metadata": {
      "collapsed": false,
      "editable": false
     },
     "source": "<img src=\"apc\/src\/images\/tandem-h-t-blank-axes.svg\"\/>"
    }
  ,
    {
     "cell_type": "markdown",
     "metadata": {
      "collapsed": false,
      "editable": false
     },
     "source": "<img src=\"apc\/src\/images\/tandem-h-t-blank-axes.svg\"\/>"
    }
  ,
    {
     "cell_type": "markdown",
     "metadata": {
      "collapsed": false,
      "editable": true
     },
     "source": "<span style=\"color:#ccc\">Enter solution here.<\/span>"
    }
  ,
    {
     "cell_type": "markdown",
     "metadata": {
      "collapsed": false,
      "editable": false
     },
     "source": "<hr>"
    }
  ,
    {
     "cell_type": "markdown",
     "metadata": {
      "collapsed": false,
      "editable": false
     },
     "source": "## Activity 1.1.3"
    }
  ,
    {
     "cell_type": "markdown",
     "metadata": {
      "collapsed": false,
      "editable": false
     },
     "source": "Consider a tank in the shape of a sphere where the tank's radius is \\(3\\) feet. Suppose that the tank is initially completely full and that it is being drained by a pump at a constant rate of \\(1.2\\) cubic feet per minute."
    }
  ,
    {
     "cell_type": "markdown",
     "metadata": {
      "collapsed": false,
      "editable": false
     },
     "source": "a. Sketch a labeled picture of the tank, including a snapshot of some water remaining in the tank prior to the tank being completely empty."
    }
  ,
    {
     "cell_type": "markdown",
     "metadata": {
      "collapsed": false,
      "editable": true
     },
     "source": "<span style=\"color:#ccc\">Enter solution here.<\/span>"
    }
  ,
    {
     "cell_type": "markdown",
     "metadata": {
      "collapsed": false,
      "editable": false
     },
     "source": "b. What are some quantities that are changing in this scenario? What are some quantities that are not changing?"
    }
  ,
    {
     "cell_type": "markdown",
     "metadata": {
      "collapsed": false,
      "editable": true
     },
     "source": "<span style=\"color:#ccc\">Enter solution here.<\/span>"
    }
  ,
    {
     "cell_type": "markdown",
     "metadata": {
      "collapsed": false,
      "editable": false
     },
     "source": "c. Recall that the volume of a sphere of radius \\(r\\) is \\(V = \\\\frac{4}{3} \\\\pi r^3\\) . When the tank is completely full at time \\(t = 0\\) right before it starts being drained, how much water is present?"
    }
  ,
    {
     "cell_type": "markdown",
     "metadata": {
      "collapsed": false,
      "editable": true
     },
     "source": "<span style=\"color:#ccc\">Enter solution here.<\/span>"
    }
  ,
    {
     "cell_type": "markdown",
     "metadata": {
      "collapsed": false,
      "editable": false
     },
     "source": "d. How long will it take for the tank to drain completely?"
    }
  ,
    {
     "cell_type": "markdown",
     "metadata": {
      "collapsed": false,
      "editable": true
     },
     "source": "<span style=\"color:#ccc\">Enter solution here.<\/span>"
    }
  ,
    {
     "cell_type": "markdown",
     "metadata": {
      "collapsed": false,
      "editable": false
     },
     "source": "e. Fill in the following table of values to determine how much water, \\(V\\) , is in the tank at a given time in minutes, \\(t\\) , and thus generate a graph of the relationship between volume and time. Write a sentence to explain why the data's graph appears the way that it does."
    }
  ,
    {
     "cell_type": "markdown",
     "metadata": {
      "collapsed": false,
      "editable": false
     },
     "source": "<table> <tr> <td> t <\/td> <td> V <\/td> <\/tr> <tr> <td> 0 <\/td> <td> <\/td> <\/tr> <tr> <td> 20 <\/td> <td> <\/td> <\/tr> <tr> <td> 40 <\/td> <td> <\/td> <\/tr> <tr> <td> 60 <\/td> <td> <\/td> <\/tr> <tr> <td> 80 <\/td> <td> <\/td> <\/tr> <tr> <td> 94.24 <\/td> <td> <\/td> <\/tr> <\/table> Data for how volume and time change together."
    }
  ,
    {
     "cell_type": "markdown",
     "metadata": {
      "collapsed": false,
      "editable": false
     },
     "source": "<img src=\"apc\/src\/images\/tandem-sphere-V-t.svg\"\/> A plot of how volume and time change in tandem in a draining spherical tank."
    }
  ,
    {
     "cell_type": "markdown",
     "metadata": {
      "collapsed": false,
      "editable": true
     },
     "source": "<span style=\"color:#ccc\">Enter solution here.<\/span>"
    }
  ,
    {
     "cell_type": "markdown",
     "metadata": {
      "collapsed": false,
      "editable": false
     },
     "source": "f. Finally, think about how the height of the water changes in tandem with time. What is the height of the water when \\(t = 0\\) ? What is the height when the tank is empty? How would you expect the data for the relationship between \\(h\\) and \\(t\\) to appear? Use the provided axes to sketch at least two possibilities; write at least one sentence to explain how you think the graph should appear."
    }
  ,
    {
     "cell_type": "markdown",
     "metadata": {
      "collapsed": false,
      "editable": false
     },
     "source": "<img src=\"apc\/src\/images\/tandem-h-t-blank-axes.svg\"\/>"
    }
  ,
    {
     "cell_type": "markdown",
     "metadata": {
      "collapsed": false,
      "editable": false
     },
     "source": "<img src=\"apc\/src\/images\/tandem-h-t-blank-axes.svg\"\/>"
    }
  ,
    {
     "cell_type": "markdown",
     "metadata": {
      "collapsed": false,
      "editable": true
     },
     "source": "<span style=\"color:#ccc\">Enter solution here.<\/span>"
    }
  
    ]}
  
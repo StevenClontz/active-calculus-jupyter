
    {"cells": [
      
    {
     "cell_type": "markdown",
     "metadata": {
      "collapsed": false,
      "editable": false
     },
    "source": 
    
        "<div style=\"background-color:#f8f8f8;padding:1em;border-radius:10px;box-shadow:4px 4px 3px #ddd;margin:5px;\">\n\n<style>.sidebyside{display:flex}.sidebyside *{flex-grow:1;padding-right:1em}.table{width:100% !IMPORTANT}caption{caption-side:top}<\/style> <h1 class=\"foo\">1.1 Composite Functions<\/h1>\n\n</div>"
      
    }
  ,
    {
     "cell_type": "markdown",
     "metadata": {
      "collapsed": false,
      "editable": false
     },
    "source": 
    
        "<div style=\"background-color:#f8f8f8;padding:1em;border-radius:10px;box-shadow:4px 4px 3px #ddd;margin:5px;\">\n\n## Preview Activity 1.1.1\n\n</div>"
      
    }
  ,
    {
     "cell_type": "markdown",
     "metadata": {
      "collapsed": false,
      "editable": false
     },
    "source": 
    
        "<div style=\"background-color:#f8f8f8;padding:1em;border-radius:10px;box-shadow:4px 4px 3px #ddd;margin:5px;\">\n\nLet \\(y = p(x) = 3x - 4\\) and \\(x = q(t) = t^2 - 1\\) .\n\n</div>"
      
    }
  ,
    {
     "cell_type": "markdown",
     "metadata": {
      "collapsed": false,
      "editable": false
     },
    "source": 
    
        "<div style=\"background-color:#f8f8f8;padding:1em;border-radius:10px;box-shadow:4px 4px 3px #ddd;margin:5px;\">\n\n<b>a. <\/b> Let \\(r(t) = p(q(t))\\) . Determine a formula for \\(r\\) that depends only on \\(t\\) and not on \\(p\\) or \\(q\\) .\n\n</div>"
      
    }
  ,
    {
     "cell_type": "markdown",
     "metadata": {
      "collapsed": false,
      "editable": true
     },
    "source": 
    
        "<div style=\"margin:1em;color:#ccc;font-size:2em;text-align:center;\">Enter your response here.</div>"
      
    }
  ,
    {
     "cell_type": "markdown",
     "metadata": {
      "collapsed": false,
      "editable": false
     },
    "source": 
    
        "<div style=\"background-color:#f8f8f8;padding:1em;border-radius:10px;box-shadow:4px 4px 3px #ddd;margin:5px;\">\n\n<b>b. <\/b> Recall, which involved functions similar to \\(p\\) and \\(q\\) . What is the biggest difference between your work in (a) above and in?\n\n</div>"
      
    }
  ,
    {
     "cell_type": "markdown",
     "metadata": {
      "collapsed": false,
      "editable": true
     },
    "source": 
    
        "<div style=\"margin:1em;color:#ccc;font-size:2em;text-align:center;\">Enter your response here.</div>"
      
    }
  ,
    {
     "cell_type": "markdown",
     "metadata": {
      "collapsed": false,
      "editable": false
     },
    "source": 
    
        "<div style=\"background-color:#f8f8f8;padding:1em;border-radius:10px;box-shadow:4px 4px 3px #ddd;margin:5px;\">\n\n<b>c. <\/b> Let \\(t = s(z) = \\\\frac{1}{z+4}\\) and recall that \\(x = q(t) = t^2 - 1\\) . Determine a formula for \\(x = q(s(z))\\) that depends only on \\(z\\) .\n\n</div>"
      
    }
  ,
    {
     "cell_type": "markdown",
     "metadata": {
      "collapsed": false,
      "editable": true
     },
    "source": 
    
        "<div style=\"margin:1em;color:#ccc;font-size:2em;text-align:center;\">Enter your response here.</div>"
      
    }
  ,
    {
     "cell_type": "markdown",
     "metadata": {
      "collapsed": false,
      "editable": false
     },
    "source": 
    
        "<div style=\"background-color:#f8f8f8;padding:1em;border-radius:10px;box-shadow:4px 4px 3px #ddd;margin:5px;\">\n\n<b>d. <\/b> Suppose that \\(h(t) = \\\\sqrt{2t^2 + 5}\\) . Determine formulas for two related functions, \\(y = f(x)\\) and \\(x = g(t)\\) , so that \\(h(t) = f(g(t))\\) .\n\n</div>"
      
    }
  ,
    {
     "cell_type": "markdown",
     "metadata": {
      "collapsed": false,
      "editable": true
     },
    "source": 
    
        "<div style=\"margin:1em;color:#ccc;font-size:2em;text-align:center;\">Enter your response here.</div>"
      
    }
  ,
    {
     "cell_type": "markdown",
     "metadata": {
      "collapsed": false,
      "editable": false
     },
    "source": 
    
        "<div style=\"background-color:#f8f8f8;padding:1em;border-radius:10px;box-shadow:4px 4px 3px #ddd;margin:5px;\">\n\n## Activity 1.1.2\n\n</div>"
      
    }
  ,
    {
     "cell_type": "markdown",
     "metadata": {
      "collapsed": false,
      "editable": false
     },
    "source": 
    
        "<div style=\"background-color:#f8f8f8;padding:1em;border-radius:10px;box-shadow:4px 4px 3px #ddd;margin:5px;\">\n\nLet functions \\(p\\) and \\(q\\) be given by the graphs in(which are each piecewise linear - that is, parts that look like straight lines are straight lines) and let \\(f\\) and \\(g\\) be given by.\n\n</div>"
      
    }
  ,
    {
     "cell_type": "markdown",
     "metadata": {
      "collapsed": false,
      "editable": false
     },
    "source": 
    
        "<div style=\"background-color:#f8f8f8;padding:1em;border-radius:10px;box-shadow:4px 4px 3px #ddd;margin:5px;\">\n\n<div class=\"sidebyside\"> <div><table><caption>Table that defines f and g.<\/caption> <tr> <td> x <\/td> <td> 0 <\/td> <td> 1 <\/td> <td> 2 <\/td> <td> 3 <\/td> <td> 4 <\/td> <\/tr> <tr> <td> f(x) <\/td> <td> 6 <\/td> <td> 4 <\/td> <td> 3 <\/td> <td> 4 <\/td> <td> 6 <\/td> <\/tr> <tr> <td> g(x) <\/td> <td> 1 <\/td> <td> 3 <\/td> <td> 0 <\/td> <td> 4 <\/td> <td> 2 <\/td> <\/tr> <\/table><\/div> <div><figure><figcaption>The graphs of p and q.<\/figcaption> <div><img src=\"apc\/src\/images\/composite-act-graphs.svg\"\/><\/div> <\/figure><\/div> <\/div>\n\n</div>"
      
    }
  ,
    {
     "cell_type": "markdown",
     "metadata": {
      "collapsed": false,
      "editable": false
     },
    "source": 
    
        "<div style=\"background-color:#f8f8f8;padding:1em;border-radius:10px;box-shadow:4px 4px 3px #ddd;margin:5px;\">\n\nCompute each of the following quantities or explain why they are not defined.\n\n</div>"
      
    }
  ,
    {
     "cell_type": "markdown",
     "metadata": {
      "collapsed": false,
      "editable": false
     },
    "source": 
    
        "<div style=\"background-color:#f8f8f8;padding:1em;border-radius:10px;box-shadow:4px 4px 3px #ddd;margin:5px;\">\n\n<b>a. <\/b> \\(p(q(0))\\)\n\n</div>"
      
    }
  ,
    {
     "cell_type": "markdown",
     "metadata": {
      "collapsed": false,
      "editable": true
     },
    "source": 
    
        "<div style=\"margin:1em;color:#ccc;font-size:2em;text-align:center;\">Enter your response here.</div>"
      
    }
  ,
    {
     "cell_type": "markdown",
     "metadata": {
      "collapsed": false,
      "editable": false
     },
    "source": 
    
        "<div style=\"background-color:#f8f8f8;padding:1em;border-radius:10px;box-shadow:4px 4px 3px #ddd;margin:5px;\">\n\n<b>b. <\/b> \\(q(p(0))\\)\n\n</div>"
      
    }
  ,
    {
     "cell_type": "markdown",
     "metadata": {
      "collapsed": false,
      "editable": true
     },
    "source": 
    
        "<div style=\"margin:1em;color:#ccc;font-size:2em;text-align:center;\">Enter your response here.</div>"
      
    }
  ,
    {
     "cell_type": "markdown",
     "metadata": {
      "collapsed": false,
      "editable": false
     },
    "source": 
    
        "<div style=\"background-color:#f8f8f8;padding:1em;border-radius:10px;box-shadow:4px 4px 3px #ddd;margin:5px;\">\n\n<b>c. <\/b> (p \\circ p)(-1)\n\n</div>"
      
    }
  ,
    {
     "cell_type": "markdown",
     "metadata": {
      "collapsed": false,
      "editable": true
     },
    "source": 
    
        "<div style=\"margin:1em;color:#ccc;font-size:2em;text-align:center;\">Enter your response here.</div>"
      
    }
  ,
    {
     "cell_type": "markdown",
     "metadata": {
      "collapsed": false,
      "editable": false
     },
    "source": 
    
        "<div style=\"background-color:#f8f8f8;padding:1em;border-radius:10px;box-shadow:4px 4px 3px #ddd;margin:5px;\">\n\n<b>d. <\/b> \\((f \\\\circ g)(2)\\)\n\n</div>"
      
    }
  ,
    {
     "cell_type": "markdown",
     "metadata": {
      "collapsed": false,
      "editable": true
     },
    "source": 
    
        "<div style=\"margin:1em;color:#ccc;font-size:2em;text-align:center;\">Enter your response here.</div>"
      
    }
  ,
    {
     "cell_type": "markdown",
     "metadata": {
      "collapsed": false,
      "editable": false
     },
    "source": 
    
        "<div style=\"background-color:#f8f8f8;padding:1em;border-radius:10px;box-shadow:4px 4px 3px #ddd;margin:5px;\">\n\n<b>e. <\/b> \\((g \\\\circ f)(3)\\)\n\n</div>"
      
    }
  ,
    {
     "cell_type": "markdown",
     "metadata": {
      "collapsed": false,
      "editable": true
     },
    "source": 
    
        "<div style=\"margin:1em;color:#ccc;font-size:2em;text-align:center;\">Enter your response here.</div>"
      
    }
  ,
    {
     "cell_type": "markdown",
     "metadata": {
      "collapsed": false,
      "editable": false
     },
    "source": 
    
        "<div style=\"background-color:#f8f8f8;padding:1em;border-radius:10px;box-shadow:4px 4px 3px #ddd;margin:5px;\">\n\n<b>f. <\/b> \\(g(f(0))\\)\n\n</div>"
      
    }
  ,
    {
     "cell_type": "markdown",
     "metadata": {
      "collapsed": false,
      "editable": true
     },
    "source": 
    
        "<div style=\"margin:1em;color:#ccc;font-size:2em;text-align:center;\">Enter your response here.</div>"
      
    }
  ,
    {
     "cell_type": "markdown",
     "metadata": {
      "collapsed": false,
      "editable": false
     },
    "source": 
    
        "<div style=\"background-color:#f8f8f8;padding:1em;border-radius:10px;box-shadow:4px 4px 3px #ddd;margin:5px;\">\n\n<b>g. <\/b> For what value(s) of \\(x\\) is \\(f(g(x)) = 4\\) ?\n\n</div>"
      
    }
  ,
    {
     "cell_type": "markdown",
     "metadata": {
      "collapsed": false,
      "editable": true
     },
    "source": 
    
        "<div style=\"margin:1em;color:#ccc;font-size:2em;text-align:center;\">Enter your response here.</div>"
      
    }
  ,
    {
     "cell_type": "markdown",
     "metadata": {
      "collapsed": false,
      "editable": false
     },
    "source": 
    
        "<div style=\"background-color:#f8f8f8;padding:1em;border-radius:10px;box-shadow:4px 4px 3px #ddd;margin:5px;\">\n\n<b>h. <\/b> For what value(s) of \\(x\\) is \\(q(p(x)) = 1\\) ?\n\n</div>"
      
    }
  ,
    {
     "cell_type": "markdown",
     "metadata": {
      "collapsed": false,
      "editable": true
     },
    "source": 
    
        "<div style=\"margin:1em;color:#ccc;font-size:2em;text-align:center;\">Enter your response here.</div>"
      
    }
  ,
    {
     "cell_type": "markdown",
     "metadata": {
      "collapsed": false,
      "editable": false
     },
    "source": 
    
        "<div style=\"background-color:#f8f8f8;padding:1em;border-radius:10px;box-shadow:4px 4px 3px #ddd;margin:5px;\">\n\n## Activity 1.1.3\n\n</div>"
      
    }
  ,
    {
     "cell_type": "markdown",
     "metadata": {
      "collapsed": false,
      "editable": false
     },
    "source": 
    
        "<div style=\"background-color:#f8f8f8;padding:1em;border-radius:10px;box-shadow:4px 4px 3px #ddd;margin:5px;\">\n\nLet \\(F = D(N) = 40 + 0.25N\\) be Dolbear's function that converts an input of number of chirps per minute to degrees Fahrenheit, and let \\(C = G(F) = \\\\frac{5}{9}(F-32)\\) be the function that converts an input of degrees Fahrenheit to an output of degrees Celsius.\n\n</div>"
      
    }
  ,
    {
     "cell_type": "markdown",
     "metadata": {
      "collapsed": false,
      "editable": false
     },
    "source": 
    
        "<div style=\"background-color:#f8f8f8;padding:1em;border-radius:10px;box-shadow:4px 4px 3px #ddd;margin:5px;\">\n\n<b>a. <\/b> Determine a formula for the new function \\(H = (G \\\\circ D)\\) that depends only on the variable \\(N\\) .\n\n</div>"
      
    }
  ,
    {
     "cell_type": "markdown",
     "metadata": {
      "collapsed": false,
      "editable": true
     },
    "source": 
    
        "<div style=\"margin:1em;color:#ccc;font-size:2em;text-align:center;\">Enter your response here.</div>"
      
    }
  ,
    {
     "cell_type": "markdown",
     "metadata": {
      "collapsed": false,
      "editable": false
     },
    "source": 
    
        "<div style=\"background-color:#f8f8f8;padding:1em;border-radius:10px;box-shadow:4px 4px 3px #ddd;margin:5px;\">\n\n<b>b. <\/b> What is the meaning of the function you found in (a)?\n\n</div>"
      
    }
  ,
    {
     "cell_type": "markdown",
     "metadata": {
      "collapsed": false,
      "editable": true
     },
    "source": 
    
        "<div style=\"margin:1em;color:#ccc;font-size:2em;text-align:center;\">Enter your response here.</div>"
      
    }
  ,
    {
     "cell_type": "markdown",
     "metadata": {
      "collapsed": false,
      "editable": false
     },
    "source": 
    
        "<div style=\"background-color:#f8f8f8;padding:1em;border-radius:10px;box-shadow:4px 4px 3px #ddd;margin:5px;\">\n\n<b>c. <\/b> How does a plot of the function \\(H = (G \\\\circ D)\\) compare to that of Dolbear's function? Sketch a plot of \\(y = H(N) = (G \\\\circ D)(N)\\) on the blank axes to the right of the plot of Dolbear's function, and discuss the similarities and differences between them. Be sure to label the vertical scale on your axes.\n\n</div>"
      
    }
  ,
    {
     "cell_type": "markdown",
     "metadata": {
      "collapsed": false,
      "editable": false
     },
    "source": 
    
        "<div style=\"background-color:#f8f8f8;padding:1em;border-radius:10px;box-shadow:4px 4px 3px #ddd;margin:5px;\">\n\n<div class=\"sidebyside\"> <div><figure><figcaption>Dolbear's function.<\/figcaption> <div><img src=\"apc\/src\/images\/functions-Dolbears-Law.svg\"\/><\/div> <\/figure><\/div> <div><figure><figcaption>Blank axes to plot H = (G \\\\circ D)(N).<\/figcaption> <div><img src=\"apc\/src\/images\/composite-Dolbears-Law-celcius-blank.svg\"\/><\/div> <\/figure><\/div> <\/div>\n\n</div>"
      
    }
  ,
    {
     "cell_type": "markdown",
     "metadata": {
      "collapsed": false,
      "editable": true
     },
    "source": 
    
        "<div style=\"margin:1em;color:#ccc;font-size:2em;text-align:center;\">Enter your response here.</div>"
      
    }
  ,
    {
     "cell_type": "markdown",
     "metadata": {
      "collapsed": false,
      "editable": false
     },
    "source": 
    
        "<div style=\"background-color:#f8f8f8;padding:1em;border-radius:10px;box-shadow:4px 4px 3px #ddd;margin:5px;\">\n\n<b>d. <\/b> What is the domain of the function \\(H = G \\\\circ D\\) ? What is its range?\n\n</div>"
      
    }
  ,
    {
     "cell_type": "markdown",
     "metadata": {
      "collapsed": false,
      "editable": true
     },
    "source": 
    
        "<div style=\"margin:1em;color:#ccc;font-size:2em;text-align:center;\">Enter your response here.</div>"
      
    }
  ,
    {
     "cell_type": "markdown",
     "metadata": {
      "collapsed": false,
      "editable": false
     },
    "source": 
    
        "<div style=\"background-color:#f8f8f8;padding:1em;border-radius:10px;box-shadow:4px 4px 3px #ddd;margin:5px;\">\n\n## Activity 1.1.4\n\n</div>"
      
    }
  ,
    {
     "cell_type": "markdown",
     "metadata": {
      "collapsed": false,
      "editable": false
     },
    "source": 
    
        "<div style=\"background-color:#f8f8f8;padding:1em;border-radius:10px;box-shadow:4px 4px 3px #ddd;margin:5px;\">\n\nLet \\(f(x) = 2x^2 - 3x + 1\\) and \\(g(x) = \\\\frac{5}{x}\\) .\n\n</div>"
      
    }
  ,
    {
     "cell_type": "markdown",
     "metadata": {
      "collapsed": false,
      "editable": false
     },
    "source": 
    
        "<div style=\"background-color:#f8f8f8;padding:1em;border-radius:10px;box-shadow:4px 4px 3px #ddd;margin:5px;\">\n\n<b>a. <\/b> Compute \\(f(1+h)\\) and expand and simplify the result as much as possible by combining like terms.\n\n</div>"
      
    }
  ,
    {
     "cell_type": "markdown",
     "metadata": {
      "collapsed": false,
      "editable": true
     },
    "source": 
    
        "<div style=\"margin:1em;color:#ccc;font-size:2em;text-align:center;\">Enter your response here.</div>"
      
    }
  ,
    {
     "cell_type": "markdown",
     "metadata": {
      "collapsed": false,
      "editable": false
     },
    "source": 
    
        "<div style=\"background-color:#f8f8f8;padding:1em;border-radius:10px;box-shadow:4px 4px 3px #ddd;margin:5px;\">\n\n<b>b. <\/b> Determine the most simplified expression you can for the average rate of change of \\(f\\) on the interval \\([1,1+h]\\) . That is, determine \\(AV_{[1,1+h]}\\) for \\(f\\) and simplify the result as much as possible.\n\n</div>"
      
    }
  ,
    {
     "cell_type": "markdown",
     "metadata": {
      "collapsed": false,
      "editable": true
     },
    "source": 
    
        "<div style=\"margin:1em;color:#ccc;font-size:2em;text-align:center;\">Enter your response here.</div>"
      
    }
  ,
    {
     "cell_type": "markdown",
     "metadata": {
      "collapsed": false,
      "editable": false
     },
    "source": 
    
        "<div style=\"background-color:#f8f8f8;padding:1em;border-radius:10px;box-shadow:4px 4px 3px #ddd;margin:5px;\">\n\n<b>c. <\/b> Compute \\(g(1+h)\\) . Is there any valid algebra you can do to write \\(g(1+h)\\) more simply?\n\n</div>"
      
    }
  ,
    {
     "cell_type": "markdown",
     "metadata": {
      "collapsed": false,
      "editable": true
     },
    "source": 
    
        "<div style=\"margin:1em;color:#ccc;font-size:2em;text-align:center;\">Enter your response here.</div>"
      
    }
  ,
    {
     "cell_type": "markdown",
     "metadata": {
      "collapsed": false,
      "editable": false
     },
    "source": 
    
        "<div style=\"background-color:#f8f8f8;padding:1em;border-radius:10px;box-shadow:4px 4px 3px #ddd;margin:5px;\">\n\n<b>d. <\/b> Determine the most simplified expression you can for the average rate of change of \\(g\\) on the interval \\([1,1+h]\\) . That is, determine \\(AV_{[1,1+h]}\\) for \\(g\\) and simplify the result.\n\n</div>"
      
    }
  ,
    {
     "cell_type": "markdown",
     "metadata": {
      "collapsed": false,
      "editable": true
     },
    "source": 
    
        "<div style=\"margin:1em;color:#ccc;font-size:2em;text-align:center;\">Enter your response here.</div>"
      
    }
  
    ]}
  
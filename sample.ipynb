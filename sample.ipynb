
    {"cells": [
      
    {
     "cell_type": "markdown",
     "metadata": {
      "collapsed": false,
      "editable": false
     },
    "source": 
    
        "<div class=\"not-editable\">\n\n<style> .editable{margin:1em;color:#ccc;font-size:2em;text-align:center;} .not-editable{background-color:#f8f8f8;padding:1em;border-radius:10px;box-shadow:4px 4px 3px #ddd;margin:5px;} .sidebyside{display:flex;justify-content:center} .sidebyside > *{margin-right:1em} .not-implemented{color:#f00;font-weight:bold;} caption{caption-side:top;white-space: nowrap;color:rgba(0,0,0,.45)} figcaption{padding-top:0.75em;padding-bottom:0.3em;color:rgba(0,0,0,.45)} .fillin{display:inline-block;width:10em;margin-left:0.2em;margin-right:0.2em;height:1em;border-bottom:1px black solid;} .fn{font-size:0.8em;color:rgba(0,0,0.45)} <\/style> <h1 class=\"foo\">1.1 Changing in Tandem<\/h1> <span style=\"display:none;\">\\(\\newcommand{\\amp}{&}\\)<\/span>\n\n</div>"
      
    }
  ,
    {
     "cell_type": "markdown",
     "metadata": {
      "collapsed": false,
      "editable": false
     },
    "source": 
    
        "<div class=\"not-editable\">\n\n<h2> Preview Activity 1.1.1<\/h2>\n\n</div>"
      
    }
  ,
    {
     "cell_type": "markdown",
     "metadata": {
      "collapsed": false,
      "editable": false
     },
    "source": 
    
        "<div class=\"not-editable\">\n\n<span> Suppose that a rectangular aquarium is being filled with water. The tank is \\(4\\) feet long by \\(2\\) feet wide by \\(3\\) feet high, and the hose that is filling the tank is delivering water at a rate of \\(0.5\\) cubic feet per minute. <\/span>\n\n</div>"
      
    }
  ,
    {
     "cell_type": "markdown",
     "metadata": {
      "collapsed": false,
      "editable": false
     },
    "source": 
    
        "<div class=\"not-editable\">\n\n<div class=\"sidebyside\"> <div><figure><figcaption>The empty aquarium.<\/figcaption> <div><img src=\"apc\/src\/images\/tandem-empty-aquarium.svg\"\/><\/div> <\/figure><\/div> <div><figure><figcaption>The aquarium, partially filled.<\/figcaption> <div><img src=\"apc\/src\/images\/tandem-filled-aquarium.svg\"\/><\/div> <\/figure><\/div> <\/div>\n\n</div>"
      
    }
  ,
    {
     "cell_type": "markdown",
     "metadata": {
      "collapsed": false,
      "editable": false
     },
    "source": 
    
        "<div class=\"not-editable\">\n\n<b>a. <\/b> <span> What are some different quantities that are changing in this scenario? <\/span>\n\n</div>"
      
    }
  ,
    {
     "cell_type": "markdown",
     "metadata": {
      "collapsed": false,
      "editable": true
     },
    "source": 
    
        "<div class=\"editable\">Enter your response/code here.</div>"
      
    }
  ,
    {
     "cell_type": "markdown",
     "metadata": {
      "collapsed": false,
      "editable": false
     },
    "source": 
    
        "<div class=\"not-editable\">\n\n<b>b. <\/b> <span> After \\(1\\) minute has elapsed, how much water is in the tank? At this moment, how deep is the water? <\/span>\n\n</div>"
      
    }
  ,
    {
     "cell_type": "markdown",
     "metadata": {
      "collapsed": false,
      "editable": true
     },
    "source": 
    
        "<div class=\"editable\">Enter your response/code here.</div>"
      
    }
  ,
    {
     "cell_type": "markdown",
     "metadata": {
      "collapsed": false,
      "editable": false
     },
    "source": 
    
        "<div class=\"not-editable\">\n\n<b>c. <\/b> <span> How much water is in the tank and how deep is the water after \\(2\\) minutes? After \\(3\\) minutes? <\/span>\n\n</div>"
      
    }
  ,
    {
     "cell_type": "markdown",
     "metadata": {
      "collapsed": false,
      "editable": true
     },
    "source": 
    
        "<div class=\"editable\">Enter your response/code here.</div>"
      
    }
  ,
    {
     "cell_type": "markdown",
     "metadata": {
      "collapsed": false,
      "editable": false
     },
    "source": 
    
        "<div class=\"not-editable\">\n\n<b>d. <\/b> <span> How long will it take for the tank to be completely full? Why? <\/span>\n\n</div>"
      
    }
  ,
    {
     "cell_type": "markdown",
     "metadata": {
      "collapsed": false,
      "editable": true
     },
    "source": 
    
        "<div class=\"editable\">Enter your response/code here.</div>"
      
    }
  ,
    {
     "cell_type": "markdown",
     "metadata": {
      "collapsed": false,
      "editable": false
     },
    "source": 
    
        "<div class=\"not-editable\">\n\n<h2> Activity 1.1.2<\/h2>\n\n</div>"
      
    }
  ,
    {
     "cell_type": "markdown",
     "metadata": {
      "collapsed": false,
      "editable": false
     },
    "source": 
    
        "<div class=\"not-editable\">\n\n<span> Consider a tank in the shape of an inverted circular cone (point down) where the tank's radius is \\(2\\) feet and its depth is \\(4\\) feet. Suppose that the tank is being filled with water that is entering at a constant rate of \\(0.75\\) cubic feet per minute. <\/span>\n\n</div>"
      
    }
  ,
    {
     "cell_type": "markdown",
     "metadata": {
      "collapsed": false,
      "editable": false
     },
    "source": 
    
        "<div class=\"not-editable\">\n\n<b>a. <\/b> <span> Sketch a labeled picture of the tank, including a snapshot of there being water in the tank prior to the tank being completely full. <\/span>\n\n</div>"
      
    }
  ,
    {
     "cell_type": "markdown",
     "metadata": {
      "collapsed": false,
      "editable": true
     },
    "source": 
    
        "<div class=\"editable\">Enter your response/code here.</div>"
      
    }
  ,
    {
     "cell_type": "markdown",
     "metadata": {
      "collapsed": false,
      "editable": false
     },
    "source": 
    
        "<div class=\"not-editable\">\n\n<b>b. <\/b> <span> What are some quantities that are changing in this scenario? What are some quantities that are not changing? <\/span>\n\n</div>"
      
    }
  ,
    {
     "cell_type": "markdown",
     "metadata": {
      "collapsed": false,
      "editable": true
     },
    "source": 
    
        "<div class=\"editable\">Enter your response/code here.</div>"
      
    }
  ,
    {
     "cell_type": "markdown",
     "metadata": {
      "collapsed": false,
      "editable": false
     },
    "source": 
    
        "<div class=\"not-editable\">\n\n<b>c. <\/b> <span> Fill in the following table of values to determine how much water, \\(V\\), is in the tank at a given time in minutes, \\(t\\), and thus generate a graph of the relationship between volume and time by plotting the data on the provided axes. <\/span>\n\n</div>"
      
    }
  ,
    {
     "cell_type": "markdown",
     "metadata": {
      "collapsed": false,
      "editable": false
     },
    "source": 
    
        "<div class=\"not-editable\">\n\n<div class=\"sidebyside\"> <div><table><caption>Table to record data on volume and time in the conical tank.<\/caption> <tr><td>\\(t\\)<\/td><td>\\(V\\)<\/td><\/tr> <tr><td>\\(0\\)<\/td><td>\\(\\)<\/td><\/tr> <tr><td>\\(1\\)<\/td><td>\\(\\)<\/td><\/tr> <tr><td>\\(2\\)<\/td><td>\\(\\)<\/td><\/tr> <tr><td>\\(3\\)<\/td><td>\\(\\)<\/td><\/tr> <tr><td>\\(4\\)<\/td><td>\\(\\)<\/td><\/tr> <tr><td>\\(5\\)<\/td><td>\\(\\)<\/td><\/tr> <\/table><\/div> <div><figure><figcaption>How volume and time change in tandem in the conical tank.<\/figcaption> <div><img src=\"apc\/src\/images\/tandem-V-t-blank-axes.svg\"\/><\/div> <\/figure><\/div> <\/div>\n\n</div>"
      
    }
  ,
    {
     "cell_type": "markdown",
     "metadata": {
      "collapsed": false,
      "editable": true
     },
    "source": 
    
        "<div class=\"editable\">Enter your response/code here.</div>"
      
    }
  ,
    {
     "cell_type": "markdown",
     "metadata": {
      "collapsed": false,
      "editable": false
     },
    "source": 
    
        "<div class=\"not-editable\">\n\n<b>d. <\/b> <span> Finally, think about how the height of the water changes in tandem with time. Without attempting to determine specific values of \\(h\\) at particular values of \\(t\\), how would you expect the data for the relationship between \\(h\\) and \\(t\\) to appear? Use the provided axes to sketch at least two possibilities; write at least one sentence to explain how you think the graph should appear. <\/span>\n\n</div>"
      
    }
  ,
    {
     "cell_type": "markdown",
     "metadata": {
      "collapsed": false,
      "editable": false
     },
    "source": 
    
        "<div class=\"not-editable\">\n\n<div class=\"sidebyside\"> <div><img src=\"apc\/src\/images\/tandem-h-t-blank-axes.svg\"\/><\/div> <div><img src=\"apc\/src\/images\/tandem-h-t-blank-axes.svg\"\/><\/div> <\/div>\n\n</div>"
      
    }
  ,
    {
     "cell_type": "markdown",
     "metadata": {
      "collapsed": false,
      "editable": true
     },
    "source": 
    
        "<div class=\"editable\">Enter your response/code here.</div>"
      
    }
  ,
    {
     "cell_type": "markdown",
     "metadata": {
      "collapsed": false,
      "editable": false
     },
    "source": 
    
        "<div class=\"not-editable\">\n\n<h2> Activity 1.1.3<\/h2>\n\n</div>"
      
    }
  ,
    {
     "cell_type": "markdown",
     "metadata": {
      "collapsed": false,
      "editable": false
     },
    "source": 
    
        "<div class=\"not-editable\">\n\n<span> Consider a tank in the shape of a sphere where the tank's radius is \\(3\\) feet. Suppose that the tank is initially completely full and that it is being drained by a pump at a constant rate of \\(1.2\\) cubic feet per minute. <\/span>\n\n</div>"
      
    }
  ,
    {
     "cell_type": "markdown",
     "metadata": {
      "collapsed": false,
      "editable": false
     },
    "source": 
    
        "<div class=\"not-editable\">\n\n<b>a. <\/b> <span> Sketch a labeled picture of the tank, including a snapshot of some water remaining in the tank prior to the tank being completely empty. <\/span>\n\n</div>"
      
    }
  ,
    {
     "cell_type": "markdown",
     "metadata": {
      "collapsed": false,
      "editable": true
     },
    "source": 
    
        "<div class=\"editable\">Enter your response/code here.</div>"
      
    }
  ,
    {
     "cell_type": "markdown",
     "metadata": {
      "collapsed": false,
      "editable": false
     },
    "source": 
    
        "<div class=\"not-editable\">\n\n<b>b. <\/b> <span> What are some quantities that are changing in this scenario? What are some quantities that are not changing? <\/span>\n\n</div>"
      
    }
  ,
    {
     "cell_type": "markdown",
     "metadata": {
      "collapsed": false,
      "editable": true
     },
    "source": 
    
        "<div class=\"editable\">Enter your response/code here.</div>"
      
    }
  ,
    {
     "cell_type": "markdown",
     "metadata": {
      "collapsed": false,
      "editable": false
     },
    "source": 
    
        "<div class=\"not-editable\">\n\n<b>c. <\/b> <span> Recall that the volume of a sphere of radius \\(r\\) is \\(V = \\frac{4}{3} \\pi r^3\\). When the tank is completely full at time \\(t = 0\\) right before it starts being drained, how much water is present? <\/span>\n\n</div>"
      
    }
  ,
    {
     "cell_type": "markdown",
     "metadata": {
      "collapsed": false,
      "editable": true
     },
    "source": 
    
        "<div class=\"editable\">Enter your response/code here.</div>"
      
    }
  ,
    {
     "cell_type": "markdown",
     "metadata": {
      "collapsed": false,
      "editable": false
     },
    "source": 
    
        "<div class=\"not-editable\">\n\n<b>d. <\/b> <span> How long will it take for the tank to drain completely? <\/span>\n\n</div>"
      
    }
  ,
    {
     "cell_type": "markdown",
     "metadata": {
      "collapsed": false,
      "editable": true
     },
    "source": 
    
        "<div class=\"editable\">Enter your response/code here.</div>"
      
    }
  ,
    {
     "cell_type": "markdown",
     "metadata": {
      "collapsed": false,
      "editable": false
     },
    "source": 
    
        "<div class=\"not-editable\">\n\n<b>e. <\/b> <span> Fill in the following table of values to determine how much water, \\(V\\), is in the tank at a given time in minutes, \\(t\\), and thus generate a graph of the relationship between volume and time. Write a sentence to explain why the data's graph appears the way that it does. <\/span>\n\n</div>"
      
    }
  ,
    {
     "cell_type": "markdown",
     "metadata": {
      "collapsed": false,
      "editable": false
     },
    "source": 
    
        "<div class=\"not-editable\">\n\n<div class=\"sidebyside\"> <div><table><caption>Data for how volume and time change together.<\/caption> <tr><td>\\(t\\)<\/td><td>\\(V\\)<\/td><\/tr> <tr><td>\\(0\\)<\/td><td><\/td><\/tr> <tr><td>\\(20\\)<\/td><td><\/td><\/tr> <tr><td>\\(40\\)<\/td><td><\/td><\/tr> <tr><td>\\(60\\)<\/td><td><\/td><\/tr> <tr><td>\\(80\\)<\/td><td><\/td><\/tr> <tr><td>\\(94.24\\)<\/td><td><\/td><\/tr> <\/table><\/div> <div><figure><figcaption>A plot of how volume and time change in tandem in a draining spherical tank.<\/figcaption> <div><img src=\"apc\/src\/images\/tandem-sphere-V-t.svg\"\/><\/div> <\/figure><\/div> <\/div>\n\n</div>"
      
    }
  ,
    {
     "cell_type": "markdown",
     "metadata": {
      "collapsed": false,
      "editable": true
     },
    "source": 
    
        "<div class=\"editable\">Enter your response/code here.</div>"
      
    }
  ,
    {
     "cell_type": "markdown",
     "metadata": {
      "collapsed": false,
      "editable": false
     },
    "source": 
    
        "<div class=\"not-editable\">\n\n<b>f. <\/b> <span> Finally, think about how the height of the water changes in tandem with time. What is the height of the water when \\(t = 0\\)? What is the height when the tank is empty? How would you expect the data for the relationship between \\(h\\) and \\(t\\) to appear? Use the provided axes to sketch at least two possibilities; write at least one sentence to explain how you think the graph should appear. <\/span>\n\n</div>"
      
    }
  ,
    {
     "cell_type": "markdown",
     "metadata": {
      "collapsed": false,
      "editable": false
     },
    "source": 
    
        "<div class=\"not-editable\">\n\n<div class=\"sidebyside\"> <div><img src=\"apc\/src\/images\/tandem-h-t-blank-axes.svg\"\/><\/div> <div><img src=\"apc\/src\/images\/tandem-h-t-blank-axes.svg\"\/><\/div> <\/div>\n\n</div>"
      
    }
  ,
    {
     "cell_type": "markdown",
     "metadata": {
      "collapsed": false,
      "editable": true
     },
    "source": 
    
        "<div class=\"editable\">Enter your response/code here.</div>"
      
    }
  
    ]}
  
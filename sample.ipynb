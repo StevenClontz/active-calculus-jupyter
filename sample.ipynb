{
 "cells": [
  {
   "cell_type": "markdown",
   "metadata": {
    "collapsed": false,
    "editable": false
   },
   "source": [
    "# (Section No.) (Title goes here)"
   ]
  },
  {
   "cell_type": "markdown",
   "metadata": {
    "collapsed": false,
    "editable": false
   },
   "source": [
    "## (Preview) Activity (No.)"
   ]
  },
  {
   "cell_type": "markdown",
   "metadata": {
    "collapsed": false,
    "editable": false
   },
   "source": [
    "Consider a tank in the shape of an inverted circular cone (point down) where the tank's radius is \\(2\\) feet and its depth is \\(4\\) feet. Suppose that the tank is being filled with water that is entering at a constant rate of \\(0.75\\) cubic feet per minute."
   ]
  },
  {
   "cell_type": "markdown",
   "metadata": {
    "collapsed": false,
    "editable": false
   },
   "source": [
    "a. Sketch a labeled picture of the tank, including a snapshot of there being water in the tank prior to the tank being completely full."
   ]
  },
  {
   "cell_type": "markdown",
   "metadata": {
    "collapsed": false,
    "editable": true
   },
   "source": [
   ]
  },
  {
   "cell_type": "markdown",
   "metadata": {
    "collapsed": false,
    "editable": false
   },
   "source": [
    "b. What are some quantities that are changing in this scenario? What are some quantities that are not changing?"
   ]
  },
  {
   "cell_type": "markdown",
   "metadata": {
    "collapsed": false,
    "editable": true
   },
   "source": [
   ]
  },
  {
   "cell_type": "markdown",
   "metadata": {
    "collapsed": false,
    "editable": false
   },
   "source": [
    "c. Fill in the following table of values to determine how much water, \\(V\\) , is in the tank at a given time in minutes, \\(t\\) , and thus generate a graph of the relationship between volume and time by plotting the data on the provided axes."
   ]
  },
  {
   "cell_type": "markdown",
   "metadata": {
    "collapsed": false,
    "editable": false
   },
   "source": [
    "<table><tr><td>t</td><td>V</td></tr><tr><td>0</td><td></td></tr><tr><td>1</td><td></td></tr><tr><td>2</td><td></td></tr><tr><td>3</td><td></td></tr><tr><td>4</td><td></td></tr><tr><td>5</td><td></td></tr></table>\n",
    "\n",
    "Table to record data on volume and time in the conical tank."
   ]
  },
  {
   "cell_type": "markdown",
   "metadata": {
    "collapsed": false,
    "editable": false
   },
   "source": [
    "<img src=\"apc/src/images/tandem-V-t-blank-axes.svg\"/>\n",
    "\n",
    "How volume and time change in tandem in the conical tank."
   ]
  },
  {
   "cell_type": "markdown",
   "metadata": {
    "collapsed": false,
    "editable": true
   },
   "source": [
   ]
  },
  {
   "cell_type": "markdown",
   "metadata": {
    "collapsed": false,
    "editable": false
   },
   "source": [
    "d. Finally, think about how the height of the water changes in tandem with time. Without attempting to determine specific values of \\(h\\) at particular values of \\(t\\) , how would you expect the data for the relationship between \\(h\\) and \\(t\\) to appear? Use the provided axes to sketch at least two possibilities; write at least one sentence to explain how you think the graph should appear."
   ]
  },
  {
   "cell_type": "markdown",
   "metadata": {
    "collapsed": false,
    "editable": true
   },
   "source": [
   ]
  }
 ],
 "metadata": {
  "kernelspec": {
   "display_name": "SageMath",
   "env": {
    "CCACHE_BASEDIR": "/usr/local/sage",
    "CPATH": "/usr/local/sage/local/include:/usr/include/x86_64-linux-gnu",
    "ECLDIR": "/usr/local/sage/local/lib/ecl/",
    "GPDOCDIR": "/usr/local/sage/local/share/pari/doc",
    "GPHELP": "/usr/local/sage/local/bin/gphelp",
    "GP_DATA_DIR": "/usr/local/sage/local/share/pari",
    "LD": "ld",
    "LDFLAGS": "-L/usr/local/sage/local/lib -Wl,-rpath,/usr/local/sage/local/lib ",
    "LIBRARY_PATH": "/usr/local/sage/local/lib:/usr/lib/x86_64-linux-gnu",
    "MAXIMA_PREFIX": "/usr/local/sage/local",
    "PERL5LIB": "/usr/local/sage/local/lib/perl5:",
    "PYTHONHOME": "/usr/local/sage/local",
    "PYTHONPATH": "$HOME/.local/lib/python2.7/site-packages:/usr/local/sage/local/lib/python:/usr/local/sage/local/lib/python/site_packages",
    "PYTHONUSERBASE": "$HOME/.local",
    "PYTHON_EGG_CACHE": "$HOME/.sage/.python-eggs",
    "RANLIB": "ranlib",
    "R_MAKEVARS_SITE": "/usr/local/sage/local/lib/R/share/Makevars.site",
    "R_MAKEVARS_USER": "$HOME/.sage/R/Makevars.user",
    "SAGE64": "no",
    "SAGE_ATLAS_LIB": "/usr/lib/",
    "SAGE_DATA": "/usr/local/sage/local/share",
    "SAGE_DISTFILES": "/usr/local/sage/upstream",
    "SAGE_DOC": "/usr/local/sage/local/share/doc/sage",
    "SAGE_DOC_MATHJAX": "True",
    "SAGE_DOC_SRC": "/usr/local/sage/src/doc",
    "SAGE_ENV_SOURCED": "4",
    "SAGE_ETC": "/usr/local/sage/local/etc",
    "SAGE_EXTCODE": "/usr/local/sage/local/share/sage/ext",
    "SAGE_LOCAL": "/usr/local/sage/local",
    "SAGE_LOGS": "/usr/local/sage/logs/pkgs",
    "SAGE_ORIG_PATH_SET": "True",
    "SAGE_REPO_ANONYMOUS": "git://trac.sagemath.org/sage.git",
    "SAGE_ROOT": "/usr/local/sage",
    "SAGE_SCRIPTS_DIR": "/usr/local/sage/src/bin",
    "SAGE_SHARE": "/usr/local/sage/local/share",
    "SAGE_SPKG_INST": "/usr/local/sage/local/var/lib/sage/installed",
    "SAGE_SRC": "/usr/local/sage/src",
    "SINGULARPATH": "/usr/local/sage/local/share/singular",
    "SINGULAR_EXECUTABLE": "/usr/local/sage/local/bin/Singular",
    "TERMINFO": "/usr/local/sage/local/share/terminfo"
   },
   "name": "sagemath"
  },
  "language_info": {
   "codemirror_mode": {
    "name": "ipython",
    "version": 2
   },
   "file_extension": ".py",
   "mimetype": "text/x-python",
   "name": "python",
   "nbconvert_exporter": "python",
   "pygments_lexer": "ipython2",
   "version": "2.7.17"
  }
 },
 "nbformat": 4,
 "nbformat_minor": 4
}